{
  "nbformat": 4,
  "nbformat_minor": 0,
  "metadata": {
    "colab": {
      "name": "Amazonia.ipynb",
      "provenance": [],
      "include_colab_link": true
    },
    "kernelspec": {
      "name": "python3",
      "display_name": "Python 3"
    }
  },
  "cells": [
    {
      "cell_type": "markdown",
      "metadata": {
        "id": "view-in-github",
        "colab_type": "text"
      },
      "source": [
        "<a href=\"https://colab.research.google.com/github/niltontac/EspAnalise-EngDados/blob/master/Amazon.ipynb\" target=\"_parent\"><img src=\"https://colab.research.google.com/assets/colab-badge.svg\" alt=\"Open In Colab\"/></a>"
      ]
    },
    {
      "cell_type": "markdown",
      "metadata": {
        "id": "YpSsrULIjLFG",
        "colab_type": "text"
      },
      "source": [
        "# **Sobre este Conjunto de Dados**\n",
        "\n",
        "Os olhos do Brasil e do mundo se voltam para a maior floresta tropical e maior reserva de biodiversidade da terra. O bioma é o mais afetado pela onda de incêndios florestais no país ao longo dos anos. \n",
        "Não há novidade no fenômeno em si. A Amazonia sempre sofreu com incêncios. Essa prática provoca degradação físico-química e biológica do solo, e traz prejuízos ao meio ambiente.\n",
        "\n",
        "Este relatório tem o objetivo de ajudar a compreender através de um conjunto de dados, a frequência de casos de incêndios florestais e fornecer informações que revelem mais precisamente quais os estados que sofrem mais com esses incêndios ao longo de aproximadamente 20 anos.\n",
        "\n",
        "\n",
        "# Analista: Nilton Thiago de Andrade Coura\n",
        "### Especialização em Análise e Engenharia de Dados - Cesar School/CInUFPE\n",
        "#### Disciplina: Introdução à Ciência de Dados\n",
        "##### Professor: Luciano Barbosa"
      ]
    },
    {
      "cell_type": "code",
      "metadata": {
        "id": "q7qTm3Dgsrby",
        "colab_type": "code",
        "colab": {}
      },
      "source": [
        "# Importando bibliotecas\n",
        "import pandas as pd\n",
        "import numpy as np\n",
        "import matplotlib.pyplot as plt\n",
        "import seaborn as sns\n",
        "import math"
      ],
      "execution_count": 0,
      "outputs": []
    },
    {
      "cell_type": "code",
      "metadata": {
        "id": "1cN_qN7n5KCL",
        "colab_type": "code",
        "colab": {}
      },
      "source": [
        "# Carregando conjunto de dados do arquivo \n",
        "dataset=pd.read_csv(\"https://raw.githubusercontent.com/niltontac/EspAnalise-EngDados/master/amazon.csv\",encoding = \"ISO-8859-1\")"
      ],
      "execution_count": 0,
      "outputs": []
    },
    {
      "cell_type": "code",
      "metadata": {
        "colab_type": "code",
        "outputId": "6db77a7f-e601-4686-ddf5-cd29dceb1349",
        "id": "KDIh0cOUUDhI",
        "colab": {
          "base_uri": "https://localhost:8080/",
          "height": 187
        }
      },
      "source": [
        "# Informação do DataFrame\n",
        "# Índice de entradas (6454) e colunas (5)\n",
        "dataset.info()"
      ],
      "execution_count": 3,
      "outputs": [
        {
          "output_type": "stream",
          "text": [
            "<class 'pandas.core.frame.DataFrame'>\n",
            "RangeIndex: 6454 entries, 0 to 6453\n",
            "Data columns (total 5 columns):\n",
            "year      6454 non-null int64\n",
            "state     6454 non-null object\n",
            "month     6454 non-null object\n",
            "number    6454 non-null float64\n",
            "date      6454 non-null object\n",
            "dtypes: float64(1), int64(1), object(3)\n",
            "memory usage: 252.2+ KB\n"
          ],
          "name": "stdout"
        }
      ]
    },
    {
      "cell_type": "code",
      "metadata": {
        "id": "qKEgrxVdcMl4",
        "colab_type": "code",
        "outputId": "a3463c77-24bb-4ecf-99ec-eb9d9cec8109",
        "colab": {
          "base_uri": "https://localhost:8080/",
          "height": 119
        }
      },
      "source": [
        "# Tipos de Dados\n",
        "dataset.dtypes"
      ],
      "execution_count": 4,
      "outputs": [
        {
          "output_type": "execute_result",
          "data": {
            "text/plain": [
              "year        int64\n",
              "state      object\n",
              "month      object\n",
              "number    float64\n",
              "date       object\n",
              "dtype: object"
            ]
          },
          "metadata": {
            "tags": []
          },
          "execution_count": 4
        }
      ]
    },
    {
      "cell_type": "code",
      "metadata": {
        "id": "kmCV9_tzcrXF",
        "colab_type": "code",
        "outputId": "9d33df34-d729-495e-a44a-d95ec0e2fd98",
        "colab": {
          "base_uri": "https://localhost:8080/",
          "height": 119
        }
      },
      "source": [
        "# Ajustando os tipos de dados setando como categoricos as colunas \"state\" e \"month\"\n",
        "dataset.state = dataset.state.astype('category')\n",
        "dataset.month = dataset.month.astype('category')\n",
        "dataset.dtypes"
      ],
      "execution_count": 5,
      "outputs": [
        {
          "output_type": "execute_result",
          "data": {
            "text/plain": [
              "year         int64\n",
              "state     category\n",
              "month     category\n",
              "number     float64\n",
              "date        object\n",
              "dtype: object"
            ]
          },
          "metadata": {
            "tags": []
          },
          "execution_count": 5
        }
      ]
    },
    {
      "cell_type": "markdown",
      "metadata": {
        "id": "j_q2coUmfb4M",
        "colab_type": "text"
      },
      "source": [
        "Em nova consulta sobre as informações do DataFrame, constata-se que o tratamento realizado no ajuste dos tipos de dados otimizou consideravelmente o espaço em memória, que caiu de 252.2KB (observe em consulta pouco mais acima) para para 165.2KB (consulta abaixo):"
      ]
    },
    {
      "cell_type": "code",
      "metadata": {
        "id": "Ki5TcoBTfLLL",
        "colab_type": "code",
        "outputId": "ff98a91d-67f7-4871-d0e7-cba15a815934",
        "colab": {
          "base_uri": "https://localhost:8080/",
          "height": 187
        }
      },
      "source": [
        "# Informação do DataFrame após ajustar os tipos de daddos\n",
        "dataset.info()"
      ],
      "execution_count": 6,
      "outputs": [
        {
          "output_type": "stream",
          "text": [
            "<class 'pandas.core.frame.DataFrame'>\n",
            "RangeIndex: 6454 entries, 0 to 6453\n",
            "Data columns (total 5 columns):\n",
            "year      6454 non-null int64\n",
            "state     6454 non-null category\n",
            "month     6454 non-null category\n",
            "number    6454 non-null float64\n",
            "date      6454 non-null object\n",
            "dtypes: category(2), float64(1), int64(1), object(1)\n",
            "memory usage: 165.2+ KB\n"
          ],
          "name": "stdout"
        }
      ]
    },
    {
      "cell_type": "code",
      "metadata": {
        "id": "3iwzcfyRSyyM",
        "colab_type": "code",
        "outputId": "ea86a2d3-5a0c-4f35-e0e6-ff1cfbac1782",
        "colab": {
          "base_uri": "https://localhost:8080/",
          "height": 297
        }
      },
      "source": [
        "# Resumo da forma de distribuição do conjunto dos dados carregados\n",
        "# onde temos 6454 registros para observação dos anos e do número de casos de \n",
        "# incêndio, a média, o desvio padrão, mínimo e máximo, e os quantis.\n",
        "dataset.describe()"
      ],
      "execution_count": 7,
      "outputs": [
        {
          "output_type": "execute_result",
          "data": {
            "text/html": [
              "<div>\n",
              "<style scoped>\n",
              "    .dataframe tbody tr th:only-of-type {\n",
              "        vertical-align: middle;\n",
              "    }\n",
              "\n",
              "    .dataframe tbody tr th {\n",
              "        vertical-align: top;\n",
              "    }\n",
              "\n",
              "    .dataframe thead th {\n",
              "        text-align: right;\n",
              "    }\n",
              "</style>\n",
              "<table border=\"1\" class=\"dataframe\">\n",
              "  <thead>\n",
              "    <tr style=\"text-align: right;\">\n",
              "      <th></th>\n",
              "      <th>year</th>\n",
              "      <th>number</th>\n",
              "    </tr>\n",
              "  </thead>\n",
              "  <tbody>\n",
              "    <tr>\n",
              "      <th>count</th>\n",
              "      <td>6454.000000</td>\n",
              "      <td>6454.000000</td>\n",
              "    </tr>\n",
              "    <tr>\n",
              "      <th>mean</th>\n",
              "      <td>2007.461729</td>\n",
              "      <td>108.293163</td>\n",
              "    </tr>\n",
              "    <tr>\n",
              "      <th>std</th>\n",
              "      <td>5.746654</td>\n",
              "      <td>190.812242</td>\n",
              "    </tr>\n",
              "    <tr>\n",
              "      <th>min</th>\n",
              "      <td>1998.000000</td>\n",
              "      <td>0.000000</td>\n",
              "    </tr>\n",
              "    <tr>\n",
              "      <th>25%</th>\n",
              "      <td>2002.000000</td>\n",
              "      <td>3.000000</td>\n",
              "    </tr>\n",
              "    <tr>\n",
              "      <th>50%</th>\n",
              "      <td>2007.000000</td>\n",
              "      <td>24.000000</td>\n",
              "    </tr>\n",
              "    <tr>\n",
              "      <th>75%</th>\n",
              "      <td>2012.000000</td>\n",
              "      <td>113.000000</td>\n",
              "    </tr>\n",
              "    <tr>\n",
              "      <th>max</th>\n",
              "      <td>2017.000000</td>\n",
              "      <td>998.000000</td>\n",
              "    </tr>\n",
              "  </tbody>\n",
              "</table>\n",
              "</div>"
            ],
            "text/plain": [
              "              year       number\n",
              "count  6454.000000  6454.000000\n",
              "mean   2007.461729   108.293163\n",
              "std       5.746654   190.812242\n",
              "min    1998.000000     0.000000\n",
              "25%    2002.000000     3.000000\n",
              "50%    2007.000000    24.000000\n",
              "75%    2012.000000   113.000000\n",
              "max    2017.000000   998.000000"
            ]
          },
          "metadata": {
            "tags": []
          },
          "execution_count": 7
        }
      ]
    },
    {
      "cell_type": "code",
      "metadata": {
        "id": "vA7KTnb75cih",
        "colab_type": "code",
        "outputId": "22fa0efe-05b4-4dee-e79d-c0858ca07460",
        "colab": {
          "base_uri": "https://localhost:8080/",
          "height": 204
        }
      },
      "source": [
        "# Visualizando as primeiras linhas \n",
        "dataset.head()"
      ],
      "execution_count": 8,
      "outputs": [
        {
          "output_type": "execute_result",
          "data": {
            "text/html": [
              "<div>\n",
              "<style scoped>\n",
              "    .dataframe tbody tr th:only-of-type {\n",
              "        vertical-align: middle;\n",
              "    }\n",
              "\n",
              "    .dataframe tbody tr th {\n",
              "        vertical-align: top;\n",
              "    }\n",
              "\n",
              "    .dataframe thead th {\n",
              "        text-align: right;\n",
              "    }\n",
              "</style>\n",
              "<table border=\"1\" class=\"dataframe\">\n",
              "  <thead>\n",
              "    <tr style=\"text-align: right;\">\n",
              "      <th></th>\n",
              "      <th>year</th>\n",
              "      <th>state</th>\n",
              "      <th>month</th>\n",
              "      <th>number</th>\n",
              "      <th>date</th>\n",
              "    </tr>\n",
              "  </thead>\n",
              "  <tbody>\n",
              "    <tr>\n",
              "      <th>0</th>\n",
              "      <td>1998</td>\n",
              "      <td>Acre</td>\n",
              "      <td>Janeiro</td>\n",
              "      <td>0.0</td>\n",
              "      <td>1998-01-01</td>\n",
              "    </tr>\n",
              "    <tr>\n",
              "      <th>1</th>\n",
              "      <td>1999</td>\n",
              "      <td>Acre</td>\n",
              "      <td>Janeiro</td>\n",
              "      <td>0.0</td>\n",
              "      <td>1999-01-01</td>\n",
              "    </tr>\n",
              "    <tr>\n",
              "      <th>2</th>\n",
              "      <td>2000</td>\n",
              "      <td>Acre</td>\n",
              "      <td>Janeiro</td>\n",
              "      <td>0.0</td>\n",
              "      <td>2000-01-01</td>\n",
              "    </tr>\n",
              "    <tr>\n",
              "      <th>3</th>\n",
              "      <td>2001</td>\n",
              "      <td>Acre</td>\n",
              "      <td>Janeiro</td>\n",
              "      <td>0.0</td>\n",
              "      <td>2001-01-01</td>\n",
              "    </tr>\n",
              "    <tr>\n",
              "      <th>4</th>\n",
              "      <td>2002</td>\n",
              "      <td>Acre</td>\n",
              "      <td>Janeiro</td>\n",
              "      <td>0.0</td>\n",
              "      <td>2002-01-01</td>\n",
              "    </tr>\n",
              "  </tbody>\n",
              "</table>\n",
              "</div>"
            ],
            "text/plain": [
              "   year state    month  number        date\n",
              "0  1998  Acre  Janeiro     0.0  1998-01-01\n",
              "1  1999  Acre  Janeiro     0.0  1999-01-01\n",
              "2  2000  Acre  Janeiro     0.0  2000-01-01\n",
              "3  2001  Acre  Janeiro     0.0  2001-01-01\n",
              "4  2002  Acre  Janeiro     0.0  2002-01-01"
            ]
          },
          "metadata": {
            "tags": []
          },
          "execution_count": 8
        }
      ]
    },
    {
      "cell_type": "code",
      "metadata": {
        "colab_type": "code",
        "outputId": "d53f5fbc-1115-447a-994a-8d08b3823501",
        "id": "zpcSJv4POBGi",
        "colab": {
          "base_uri": "https://localhost:8080/",
          "height": 204
        }
      },
      "source": [
        "# Visualizando as últimas linhas\n",
        "dataset.tail()"
      ],
      "execution_count": 9,
      "outputs": [
        {
          "output_type": "execute_result",
          "data": {
            "text/html": [
              "<div>\n",
              "<style scoped>\n",
              "    .dataframe tbody tr th:only-of-type {\n",
              "        vertical-align: middle;\n",
              "    }\n",
              "\n",
              "    .dataframe tbody tr th {\n",
              "        vertical-align: top;\n",
              "    }\n",
              "\n",
              "    .dataframe thead th {\n",
              "        text-align: right;\n",
              "    }\n",
              "</style>\n",
              "<table border=\"1\" class=\"dataframe\">\n",
              "  <thead>\n",
              "    <tr style=\"text-align: right;\">\n",
              "      <th></th>\n",
              "      <th>year</th>\n",
              "      <th>state</th>\n",
              "      <th>month</th>\n",
              "      <th>number</th>\n",
              "      <th>date</th>\n",
              "    </tr>\n",
              "  </thead>\n",
              "  <tbody>\n",
              "    <tr>\n",
              "      <th>6449</th>\n",
              "      <td>2012</td>\n",
              "      <td>Tocantins</td>\n",
              "      <td>Dezembro</td>\n",
              "      <td>128.0</td>\n",
              "      <td>2012-01-01</td>\n",
              "    </tr>\n",
              "    <tr>\n",
              "      <th>6450</th>\n",
              "      <td>2013</td>\n",
              "      <td>Tocantins</td>\n",
              "      <td>Dezembro</td>\n",
              "      <td>85.0</td>\n",
              "      <td>2013-01-01</td>\n",
              "    </tr>\n",
              "    <tr>\n",
              "      <th>6451</th>\n",
              "      <td>2014</td>\n",
              "      <td>Tocantins</td>\n",
              "      <td>Dezembro</td>\n",
              "      <td>223.0</td>\n",
              "      <td>2014-01-01</td>\n",
              "    </tr>\n",
              "    <tr>\n",
              "      <th>6452</th>\n",
              "      <td>2015</td>\n",
              "      <td>Tocantins</td>\n",
              "      <td>Dezembro</td>\n",
              "      <td>373.0</td>\n",
              "      <td>2015-01-01</td>\n",
              "    </tr>\n",
              "    <tr>\n",
              "      <th>6453</th>\n",
              "      <td>2016</td>\n",
              "      <td>Tocantins</td>\n",
              "      <td>Dezembro</td>\n",
              "      <td>119.0</td>\n",
              "      <td>2016-01-01</td>\n",
              "    </tr>\n",
              "  </tbody>\n",
              "</table>\n",
              "</div>"
            ],
            "text/plain": [
              "      year      state     month  number        date\n",
              "6449  2012  Tocantins  Dezembro   128.0  2012-01-01\n",
              "6450  2013  Tocantins  Dezembro    85.0  2013-01-01\n",
              "6451  2014  Tocantins  Dezembro   223.0  2014-01-01\n",
              "6452  2015  Tocantins  Dezembro   373.0  2015-01-01\n",
              "6453  2016  Tocantins  Dezembro   119.0  2016-01-01"
            ]
          },
          "metadata": {
            "tags": []
          },
          "execution_count": 9
        }
      ]
    },
    {
      "cell_type": "code",
      "metadata": {
        "id": "22NjOwSodgp7",
        "colab_type": "code",
        "outputId": "07422951-abc4-4008-be1e-bca17cbf09f3",
        "colab": {
          "base_uri": "https://localhost:8080/",
          "height": 51
        }
      },
      "source": [
        "# Visualizando o intervalo dos anos\n",
        "dataset.year.unique()"
      ],
      "execution_count": 10,
      "outputs": [
        {
          "output_type": "execute_result",
          "data": {
            "text/plain": [
              "array([1998, 1999, 2000, 2001, 2002, 2003, 2004, 2005, 2006, 2007, 2008,\n",
              "       2009, 2010, 2011, 2012, 2013, 2014, 2015, 2016, 2017])"
            ]
          },
          "metadata": {
            "tags": []
          },
          "execution_count": 10
        }
      ]
    },
    {
      "cell_type": "code",
      "metadata": {
        "id": "KBNh9V-UgEWJ",
        "colab_type": "code",
        "outputId": "da7cbf50-d582-4f33-aa8e-c45e3854ef76",
        "colab": {
          "base_uri": "https://localhost:8080/",
          "height": 85
        }
      },
      "source": [
        "# Visualizando os estados\n",
        "dataset.state.unique()"
      ],
      "execution_count": 11,
      "outputs": [
        {
          "output_type": "execute_result",
          "data": {
            "text/plain": [
              "[Acre, Alagoas, Amapa, Amazonas, Bahia, ..., Roraima, Santa Catarina, Sao Paulo, Sergipe, Tocantins]\n",
              "Length: 23\n",
              "Categories (23, object): [Acre, Alagoas, Amapa, Amazonas, ..., Santa Catarina, Sao Paulo, Sergipe,\n",
              "                          Tocantins]"
            ]
          },
          "metadata": {
            "tags": []
          },
          "execution_count": 11
        }
      ]
    },
    {
      "cell_type": "code",
      "metadata": {
        "id": "JOdzPrEggiXq",
        "colab_type": "code",
        "outputId": "07d5cd5e-b89f-4ea7-d65e-f658346844b6",
        "colab": {
          "base_uri": "https://localhost:8080/",
          "height": 68
        }
      },
      "source": [
        "# Visualizando os meses\n",
        "dataset.month.unique()"
      ],
      "execution_count": 12,
      "outputs": [
        {
          "output_type": "execute_result",
          "data": {
            "text/plain": [
              "[Janeiro, Fevereiro, Março, Abril, Maio, ..., Agosto, Setembro, Outubro, Novembro, Dezembro]\n",
              "Length: 12\n",
              "Categories (12, object): [Janeiro, Fevereiro, Março, Abril, ..., Setembro, Outubro, Novembro, Dezembro]"
            ]
          },
          "metadata": {
            "tags": []
          },
          "execution_count": 12
        }
      ]
    },
    {
      "cell_type": "markdown",
      "metadata": {
        "id": "BjlXgLUzPfmK",
        "colab_type": "text"
      },
      "source": [
        "### Analizando o DataFrame\n",
        "\n",
        "######Após visualizarmos acima algumas informações do DataFrame, vamos agora de fato explorar os dados, realizando as análises e tratamentos necessários desses dados."
      ]
    },
    {
      "cell_type": "code",
      "metadata": {
        "id": "CGwAzVy7ZZdE",
        "colab_type": "code",
        "outputId": "6402bb35-035e-4d07-c1e4-31dc7c4e1560",
        "colab": {
          "base_uri": "https://localhost:8080/",
          "height": 204
        }
      },
      "source": [
        " # A coluna \"date\" do DataFrame não será necessária, pois já existem as colunas \n",
        " # \"year\" e \"month\" que fornecem informações em relação a períodos. \n",
        " # Logo, a coluna \"date\" será excluída. \n",
        "dataset.drop('date', axis=1, inplace=True)\n",
        "dataset.head()"
      ],
      "execution_count": 13,
      "outputs": [
        {
          "output_type": "execute_result",
          "data": {
            "text/html": [
              "<div>\n",
              "<style scoped>\n",
              "    .dataframe tbody tr th:only-of-type {\n",
              "        vertical-align: middle;\n",
              "    }\n",
              "\n",
              "    .dataframe tbody tr th {\n",
              "        vertical-align: top;\n",
              "    }\n",
              "\n",
              "    .dataframe thead th {\n",
              "        text-align: right;\n",
              "    }\n",
              "</style>\n",
              "<table border=\"1\" class=\"dataframe\">\n",
              "  <thead>\n",
              "    <tr style=\"text-align: right;\">\n",
              "      <th></th>\n",
              "      <th>year</th>\n",
              "      <th>state</th>\n",
              "      <th>month</th>\n",
              "      <th>number</th>\n",
              "    </tr>\n",
              "  </thead>\n",
              "  <tbody>\n",
              "    <tr>\n",
              "      <th>0</th>\n",
              "      <td>1998</td>\n",
              "      <td>Acre</td>\n",
              "      <td>Janeiro</td>\n",
              "      <td>0.0</td>\n",
              "    </tr>\n",
              "    <tr>\n",
              "      <th>1</th>\n",
              "      <td>1999</td>\n",
              "      <td>Acre</td>\n",
              "      <td>Janeiro</td>\n",
              "      <td>0.0</td>\n",
              "    </tr>\n",
              "    <tr>\n",
              "      <th>2</th>\n",
              "      <td>2000</td>\n",
              "      <td>Acre</td>\n",
              "      <td>Janeiro</td>\n",
              "      <td>0.0</td>\n",
              "    </tr>\n",
              "    <tr>\n",
              "      <th>3</th>\n",
              "      <td>2001</td>\n",
              "      <td>Acre</td>\n",
              "      <td>Janeiro</td>\n",
              "      <td>0.0</td>\n",
              "    </tr>\n",
              "    <tr>\n",
              "      <th>4</th>\n",
              "      <td>2002</td>\n",
              "      <td>Acre</td>\n",
              "      <td>Janeiro</td>\n",
              "      <td>0.0</td>\n",
              "    </tr>\n",
              "  </tbody>\n",
              "</table>\n",
              "</div>"
            ],
            "text/plain": [
              "   year state    month  number\n",
              "0  1998  Acre  Janeiro     0.0\n",
              "1  1999  Acre  Janeiro     0.0\n",
              "2  2000  Acre  Janeiro     0.0\n",
              "3  2001  Acre  Janeiro     0.0\n",
              "4  2002  Acre  Janeiro     0.0"
            ]
          },
          "metadata": {
            "tags": []
          },
          "execution_count": 13
        }
      ]
    },
    {
      "cell_type": "code",
      "metadata": {
        "id": "4BIF2lvkxcWU",
        "colab_type": "code",
        "outputId": "1af3fcac-d600-4d58-b899-fd4345c6da54",
        "colab": {
          "base_uri": "https://localhost:8080/",
          "height": 102
        }
      },
      "source": [
        "# Verificando se há registros nulos no DataFrame para serem tratados \n",
        "dataset.isna().sum()"
      ],
      "execution_count": 14,
      "outputs": [
        {
          "output_type": "execute_result",
          "data": {
            "text/plain": [
              "year      0\n",
              "state     0\n",
              "month     0\n",
              "number    0\n",
              "dtype: int64"
            ]
          },
          "metadata": {
            "tags": []
          },
          "execution_count": 14
        }
      ]
    },
    {
      "cell_type": "markdown",
      "metadata": {
        "id": "IR_7z34CzhZr",
        "colab_type": "text"
      },
      "source": [
        "Como verificado acima, neste DataFrame não existem dados nulos. Agora, vamos verificar se existem dados duplicados:"
      ]
    },
    {
      "cell_type": "code",
      "metadata": {
        "id": "RkbtOsVKzyS3",
        "colab_type": "code",
        "outputId": "659d8f6a-b0ef-487d-d064-f17323da7c5d",
        "colab": {
          "base_uri": "https://localhost:8080/",
          "height": 1000
        }
      },
      "source": [
        "dataset[dataset.duplicated(keep=False)]"
      ],
      "execution_count": 15,
      "outputs": [
        {
          "output_type": "execute_result",
          "data": {
            "text/html": [
              "<div>\n",
              "<style scoped>\n",
              "    .dataframe tbody tr th:only-of-type {\n",
              "        vertical-align: middle;\n",
              "    }\n",
              "\n",
              "    .dataframe tbody tr th {\n",
              "        vertical-align: top;\n",
              "    }\n",
              "\n",
              "    .dataframe thead th {\n",
              "        text-align: right;\n",
              "    }\n",
              "</style>\n",
              "<table border=\"1\" class=\"dataframe\">\n",
              "  <thead>\n",
              "    <tr style=\"text-align: right;\">\n",
              "      <th></th>\n",
              "      <th>year</th>\n",
              "      <th>state</th>\n",
              "      <th>month</th>\n",
              "      <th>number</th>\n",
              "    </tr>\n",
              "  </thead>\n",
              "  <tbody>\n",
              "    <tr>\n",
              "      <th>258</th>\n",
              "      <td>2017</td>\n",
              "      <td>Alagoas</td>\n",
              "      <td>Janeiro</td>\n",
              "      <td>38.0</td>\n",
              "    </tr>\n",
              "    <tr>\n",
              "      <th>259</th>\n",
              "      <td>2017</td>\n",
              "      <td>Alagoas</td>\n",
              "      <td>Janeiro</td>\n",
              "      <td>38.0</td>\n",
              "    </tr>\n",
              "    <tr>\n",
              "      <th>2391</th>\n",
              "      <td>1998</td>\n",
              "      <td>Mato Grosso</td>\n",
              "      <td>Janeiro</td>\n",
              "      <td>0.0</td>\n",
              "    </tr>\n",
              "    <tr>\n",
              "      <th>2411</th>\n",
              "      <td>1998</td>\n",
              "      <td>Mato Grosso</td>\n",
              "      <td>Fevereiro</td>\n",
              "      <td>0.0</td>\n",
              "    </tr>\n",
              "    <tr>\n",
              "      <th>2431</th>\n",
              "      <td>1998</td>\n",
              "      <td>Mato Grosso</td>\n",
              "      <td>Março</td>\n",
              "      <td>0.0</td>\n",
              "    </tr>\n",
              "    <tr>\n",
              "      <th>2451</th>\n",
              "      <td>1998</td>\n",
              "      <td>Mato Grosso</td>\n",
              "      <td>Abril</td>\n",
              "      <td>0.0</td>\n",
              "    </tr>\n",
              "    <tr>\n",
              "      <th>2471</th>\n",
              "      <td>1998</td>\n",
              "      <td>Mato Grosso</td>\n",
              "      <td>Maio</td>\n",
              "      <td>0.0</td>\n",
              "    </tr>\n",
              "    <tr>\n",
              "      <th>2630</th>\n",
              "      <td>1998</td>\n",
              "      <td>Mato Grosso</td>\n",
              "      <td>Janeiro</td>\n",
              "      <td>0.0</td>\n",
              "    </tr>\n",
              "    <tr>\n",
              "      <th>2650</th>\n",
              "      <td>1998</td>\n",
              "      <td>Mato Grosso</td>\n",
              "      <td>Fevereiro</td>\n",
              "      <td>0.0</td>\n",
              "    </tr>\n",
              "    <tr>\n",
              "      <th>2670</th>\n",
              "      <td>1998</td>\n",
              "      <td>Mato Grosso</td>\n",
              "      <td>Março</td>\n",
              "      <td>0.0</td>\n",
              "    </tr>\n",
              "    <tr>\n",
              "      <th>2690</th>\n",
              "      <td>1998</td>\n",
              "      <td>Mato Grosso</td>\n",
              "      <td>Abril</td>\n",
              "      <td>0.0</td>\n",
              "    </tr>\n",
              "    <tr>\n",
              "      <th>2710</th>\n",
              "      <td>1998</td>\n",
              "      <td>Mato Grosso</td>\n",
              "      <td>Maio</td>\n",
              "      <td>0.0</td>\n",
              "    </tr>\n",
              "    <tr>\n",
              "      <th>3347</th>\n",
              "      <td>1998</td>\n",
              "      <td>Paraiba</td>\n",
              "      <td>Janeiro</td>\n",
              "      <td>0.0</td>\n",
              "    </tr>\n",
              "    <tr>\n",
              "      <th>3367</th>\n",
              "      <td>1998</td>\n",
              "      <td>Paraiba</td>\n",
              "      <td>Fevereiro</td>\n",
              "      <td>0.0</td>\n",
              "    </tr>\n",
              "    <tr>\n",
              "      <th>3382</th>\n",
              "      <td>2013</td>\n",
              "      <td>Paraiba</td>\n",
              "      <td>Fevereiro</td>\n",
              "      <td>9.0</td>\n",
              "    </tr>\n",
              "    <tr>\n",
              "      <th>3387</th>\n",
              "      <td>1998</td>\n",
              "      <td>Paraiba</td>\n",
              "      <td>Março</td>\n",
              "      <td>0.0</td>\n",
              "    </tr>\n",
              "    <tr>\n",
              "      <th>3407</th>\n",
              "      <td>1998</td>\n",
              "      <td>Paraiba</td>\n",
              "      <td>Abril</td>\n",
              "      <td>0.0</td>\n",
              "    </tr>\n",
              "    <tr>\n",
              "      <th>3427</th>\n",
              "      <td>1998</td>\n",
              "      <td>Paraiba</td>\n",
              "      <td>Maio</td>\n",
              "      <td>0.0</td>\n",
              "    </tr>\n",
              "    <tr>\n",
              "      <th>3586</th>\n",
              "      <td>1998</td>\n",
              "      <td>Paraiba</td>\n",
              "      <td>Janeiro</td>\n",
              "      <td>0.0</td>\n",
              "    </tr>\n",
              "    <tr>\n",
              "      <th>3606</th>\n",
              "      <td>1998</td>\n",
              "      <td>Paraiba</td>\n",
              "      <td>Fevereiro</td>\n",
              "      <td>0.0</td>\n",
              "    </tr>\n",
              "    <tr>\n",
              "      <th>3621</th>\n",
              "      <td>2013</td>\n",
              "      <td>Paraiba</td>\n",
              "      <td>Fevereiro</td>\n",
              "      <td>9.0</td>\n",
              "    </tr>\n",
              "    <tr>\n",
              "      <th>3626</th>\n",
              "      <td>1998</td>\n",
              "      <td>Paraiba</td>\n",
              "      <td>Março</td>\n",
              "      <td>0.0</td>\n",
              "    </tr>\n",
              "    <tr>\n",
              "      <th>3646</th>\n",
              "      <td>1998</td>\n",
              "      <td>Paraiba</td>\n",
              "      <td>Abril</td>\n",
              "      <td>0.0</td>\n",
              "    </tr>\n",
              "    <tr>\n",
              "      <th>3666</th>\n",
              "      <td>1998</td>\n",
              "      <td>Paraiba</td>\n",
              "      <td>Maio</td>\n",
              "      <td>0.0</td>\n",
              "    </tr>\n",
              "    <tr>\n",
              "      <th>4303</th>\n",
              "      <td>1998</td>\n",
              "      <td>Rio</td>\n",
              "      <td>Janeiro</td>\n",
              "      <td>0.0</td>\n",
              "    </tr>\n",
              "    <tr>\n",
              "      <th>4323</th>\n",
              "      <td>1998</td>\n",
              "      <td>Rio</td>\n",
              "      <td>Fevereiro</td>\n",
              "      <td>0.0</td>\n",
              "    </tr>\n",
              "    <tr>\n",
              "      <th>4343</th>\n",
              "      <td>1998</td>\n",
              "      <td>Rio</td>\n",
              "      <td>Março</td>\n",
              "      <td>0.0</td>\n",
              "    </tr>\n",
              "    <tr>\n",
              "      <th>4346</th>\n",
              "      <td>2001</td>\n",
              "      <td>Rio</td>\n",
              "      <td>Março</td>\n",
              "      <td>0.0</td>\n",
              "    </tr>\n",
              "    <tr>\n",
              "      <th>4351</th>\n",
              "      <td>2006</td>\n",
              "      <td>Rio</td>\n",
              "      <td>Março</td>\n",
              "      <td>8.0</td>\n",
              "    </tr>\n",
              "    <tr>\n",
              "      <th>4363</th>\n",
              "      <td>1998</td>\n",
              "      <td>Rio</td>\n",
              "      <td>Abril</td>\n",
              "      <td>0.0</td>\n",
              "    </tr>\n",
              "    <tr>\n",
              "      <th>4369</th>\n",
              "      <td>2004</td>\n",
              "      <td>Rio</td>\n",
              "      <td>Abril</td>\n",
              "      <td>3.0</td>\n",
              "    </tr>\n",
              "    <tr>\n",
              "      <th>4374</th>\n",
              "      <td>2009</td>\n",
              "      <td>Rio</td>\n",
              "      <td>Abril</td>\n",
              "      <td>1.0</td>\n",
              "    </tr>\n",
              "    <tr>\n",
              "      <th>4383</th>\n",
              "      <td>1998</td>\n",
              "      <td>Rio</td>\n",
              "      <td>Maio</td>\n",
              "      <td>0.0</td>\n",
              "    </tr>\n",
              "    <tr>\n",
              "      <th>4386</th>\n",
              "      <td>2001</td>\n",
              "      <td>Rio</td>\n",
              "      <td>Maio</td>\n",
              "      <td>4.0</td>\n",
              "    </tr>\n",
              "    <tr>\n",
              "      <th>4392</th>\n",
              "      <td>2007</td>\n",
              "      <td>Rio</td>\n",
              "      <td>Maio</td>\n",
              "      <td>2.0</td>\n",
              "    </tr>\n",
              "    <tr>\n",
              "      <th>4393</th>\n",
              "      <td>2008</td>\n",
              "      <td>Rio</td>\n",
              "      <td>Maio</td>\n",
              "      <td>0.0</td>\n",
              "    </tr>\n",
              "    <tr>\n",
              "      <th>4406</th>\n",
              "      <td>2001</td>\n",
              "      <td>Rio</td>\n",
              "      <td>Junho</td>\n",
              "      <td>13.0</td>\n",
              "    </tr>\n",
              "    <tr>\n",
              "      <th>4542</th>\n",
              "      <td>1998</td>\n",
              "      <td>Rio</td>\n",
              "      <td>Janeiro</td>\n",
              "      <td>0.0</td>\n",
              "    </tr>\n",
              "    <tr>\n",
              "      <th>4561</th>\n",
              "      <td>2017</td>\n",
              "      <td>Rio</td>\n",
              "      <td>Janeiro</td>\n",
              "      <td>28.0</td>\n",
              "    </tr>\n",
              "    <tr>\n",
              "      <th>4562</th>\n",
              "      <td>1998</td>\n",
              "      <td>Rio</td>\n",
              "      <td>Fevereiro</td>\n",
              "      <td>0.0</td>\n",
              "    </tr>\n",
              "    <tr>\n",
              "      <th>4582</th>\n",
              "      <td>1998</td>\n",
              "      <td>Rio</td>\n",
              "      <td>Março</td>\n",
              "      <td>0.0</td>\n",
              "    </tr>\n",
              "    <tr>\n",
              "      <th>4585</th>\n",
              "      <td>2001</td>\n",
              "      <td>Rio</td>\n",
              "      <td>Março</td>\n",
              "      <td>0.0</td>\n",
              "    </tr>\n",
              "    <tr>\n",
              "      <th>4590</th>\n",
              "      <td>2006</td>\n",
              "      <td>Rio</td>\n",
              "      <td>Março</td>\n",
              "      <td>8.0</td>\n",
              "    </tr>\n",
              "    <tr>\n",
              "      <th>4602</th>\n",
              "      <td>1998</td>\n",
              "      <td>Rio</td>\n",
              "      <td>Abril</td>\n",
              "      <td>0.0</td>\n",
              "    </tr>\n",
              "    <tr>\n",
              "      <th>4608</th>\n",
              "      <td>2004</td>\n",
              "      <td>Rio</td>\n",
              "      <td>Abril</td>\n",
              "      <td>3.0</td>\n",
              "    </tr>\n",
              "    <tr>\n",
              "      <th>4613</th>\n",
              "      <td>2009</td>\n",
              "      <td>Rio</td>\n",
              "      <td>Abril</td>\n",
              "      <td>1.0</td>\n",
              "    </tr>\n",
              "    <tr>\n",
              "      <th>4622</th>\n",
              "      <td>1998</td>\n",
              "      <td>Rio</td>\n",
              "      <td>Maio</td>\n",
              "      <td>0.0</td>\n",
              "    </tr>\n",
              "    <tr>\n",
              "      <th>4631</th>\n",
              "      <td>2007</td>\n",
              "      <td>Rio</td>\n",
              "      <td>Maio</td>\n",
              "      <td>2.0</td>\n",
              "    </tr>\n",
              "    <tr>\n",
              "      <th>4632</th>\n",
              "      <td>2008</td>\n",
              "      <td>Rio</td>\n",
              "      <td>Maio</td>\n",
              "      <td>0.0</td>\n",
              "    </tr>\n",
              "    <tr>\n",
              "      <th>4645</th>\n",
              "      <td>2001</td>\n",
              "      <td>Rio</td>\n",
              "      <td>Junho</td>\n",
              "      <td>13.0</td>\n",
              "    </tr>\n",
              "    <tr>\n",
              "      <th>4671</th>\n",
              "      <td>2007</td>\n",
              "      <td>Rio</td>\n",
              "      <td>Julho</td>\n",
              "      <td>7.0</td>\n",
              "    </tr>\n",
              "    <tr>\n",
              "      <th>4781</th>\n",
              "      <td>1998</td>\n",
              "      <td>Rio</td>\n",
              "      <td>Janeiro</td>\n",
              "      <td>0.0</td>\n",
              "    </tr>\n",
              "    <tr>\n",
              "      <th>4800</th>\n",
              "      <td>2017</td>\n",
              "      <td>Rio</td>\n",
              "      <td>Janeiro</td>\n",
              "      <td>28.0</td>\n",
              "    </tr>\n",
              "    <tr>\n",
              "      <th>4801</th>\n",
              "      <td>1998</td>\n",
              "      <td>Rio</td>\n",
              "      <td>Fevereiro</td>\n",
              "      <td>0.0</td>\n",
              "    </tr>\n",
              "    <tr>\n",
              "      <th>4821</th>\n",
              "      <td>1998</td>\n",
              "      <td>Rio</td>\n",
              "      <td>Março</td>\n",
              "      <td>0.0</td>\n",
              "    </tr>\n",
              "    <tr>\n",
              "      <th>4841</th>\n",
              "      <td>1998</td>\n",
              "      <td>Rio</td>\n",
              "      <td>Abril</td>\n",
              "      <td>0.0</td>\n",
              "    </tr>\n",
              "    <tr>\n",
              "      <th>4861</th>\n",
              "      <td>1998</td>\n",
              "      <td>Rio</td>\n",
              "      <td>Maio</td>\n",
              "      <td>0.0</td>\n",
              "    </tr>\n",
              "    <tr>\n",
              "      <th>4864</th>\n",
              "      <td>2001</td>\n",
              "      <td>Rio</td>\n",
              "      <td>Maio</td>\n",
              "      <td>4.0</td>\n",
              "    </tr>\n",
              "    <tr>\n",
              "      <th>4910</th>\n",
              "      <td>2007</td>\n",
              "      <td>Rio</td>\n",
              "      <td>Julho</td>\n",
              "      <td>7.0</td>\n",
              "    </tr>\n",
              "  </tbody>\n",
              "</table>\n",
              "</div>"
            ],
            "text/plain": [
              "      year        state      month  number\n",
              "258   2017      Alagoas    Janeiro    38.0\n",
              "259   2017      Alagoas    Janeiro    38.0\n",
              "2391  1998  Mato Grosso    Janeiro     0.0\n",
              "2411  1998  Mato Grosso  Fevereiro     0.0\n",
              "2431  1998  Mato Grosso      Março     0.0\n",
              "2451  1998  Mato Grosso      Abril     0.0\n",
              "2471  1998  Mato Grosso       Maio     0.0\n",
              "2630  1998  Mato Grosso    Janeiro     0.0\n",
              "2650  1998  Mato Grosso  Fevereiro     0.0\n",
              "2670  1998  Mato Grosso      Março     0.0\n",
              "2690  1998  Mato Grosso      Abril     0.0\n",
              "2710  1998  Mato Grosso       Maio     0.0\n",
              "3347  1998      Paraiba    Janeiro     0.0\n",
              "3367  1998      Paraiba  Fevereiro     0.0\n",
              "3382  2013      Paraiba  Fevereiro     9.0\n",
              "3387  1998      Paraiba      Março     0.0\n",
              "3407  1998      Paraiba      Abril     0.0\n",
              "3427  1998      Paraiba       Maio     0.0\n",
              "3586  1998      Paraiba    Janeiro     0.0\n",
              "3606  1998      Paraiba  Fevereiro     0.0\n",
              "3621  2013      Paraiba  Fevereiro     9.0\n",
              "3626  1998      Paraiba      Março     0.0\n",
              "3646  1998      Paraiba      Abril     0.0\n",
              "3666  1998      Paraiba       Maio     0.0\n",
              "4303  1998          Rio    Janeiro     0.0\n",
              "4323  1998          Rio  Fevereiro     0.0\n",
              "4343  1998          Rio      Março     0.0\n",
              "4346  2001          Rio      Março     0.0\n",
              "4351  2006          Rio      Março     8.0\n",
              "4363  1998          Rio      Abril     0.0\n",
              "4369  2004          Rio      Abril     3.0\n",
              "4374  2009          Rio      Abril     1.0\n",
              "4383  1998          Rio       Maio     0.0\n",
              "4386  2001          Rio       Maio     4.0\n",
              "4392  2007          Rio       Maio     2.0\n",
              "4393  2008          Rio       Maio     0.0\n",
              "4406  2001          Rio      Junho    13.0\n",
              "4542  1998          Rio    Janeiro     0.0\n",
              "4561  2017          Rio    Janeiro    28.0\n",
              "4562  1998          Rio  Fevereiro     0.0\n",
              "4582  1998          Rio      Março     0.0\n",
              "4585  2001          Rio      Março     0.0\n",
              "4590  2006          Rio      Março     8.0\n",
              "4602  1998          Rio      Abril     0.0\n",
              "4608  2004          Rio      Abril     3.0\n",
              "4613  2009          Rio      Abril     1.0\n",
              "4622  1998          Rio       Maio     0.0\n",
              "4631  2007          Rio       Maio     2.0\n",
              "4632  2008          Rio       Maio     0.0\n",
              "4645  2001          Rio      Junho    13.0\n",
              "4671  2007          Rio      Julho     7.0\n",
              "4781  1998          Rio    Janeiro     0.0\n",
              "4800  2017          Rio    Janeiro    28.0\n",
              "4801  1998          Rio  Fevereiro     0.0\n",
              "4821  1998          Rio      Março     0.0\n",
              "4841  1998          Rio      Abril     0.0\n",
              "4861  1998          Rio       Maio     0.0\n",
              "4864  2001          Rio       Maio     4.0\n",
              "4910  2007          Rio      Julho     7.0"
            ]
          },
          "metadata": {
            "tags": []
          },
          "execution_count": 15
        }
      ]
    },
    {
      "cell_type": "markdown",
      "metadata": {
        "id": "b6XHHFee1mr-",
        "colab_type": "text"
      },
      "source": [
        "Como verificado acima, existem 32 dados duplicados no DataFrame. Excluíndo os registros duplicados e realizando nova verificação:"
      ]
    },
    {
      "cell_type": "code",
      "metadata": {
        "id": "XVSGzOY_19_8",
        "colab_type": "code",
        "outputId": "0a337467-aa36-45e0-9d49-23b76d505c6b",
        "colab": {
          "base_uri": "https://localhost:8080/",
          "height": 170
        }
      },
      "source": [
        "dataset.drop_duplicates(inplace=True)\n",
        "dataset.info()"
      ],
      "execution_count": 16,
      "outputs": [
        {
          "output_type": "stream",
          "text": [
            "<class 'pandas.core.frame.DataFrame'>\n",
            "Int64Index: 6422 entries, 0 to 6453\n",
            "Data columns (total 4 columns):\n",
            "year      6422 non-null int64\n",
            "state     6422 non-null category\n",
            "month     6422 non-null category\n",
            "number    6422 non-null float64\n",
            "dtypes: category(2), float64(1), int64(1)\n",
            "memory usage: 164.3 KB\n"
          ],
          "name": "stdout"
        }
      ]
    },
    {
      "cell_type": "markdown",
      "metadata": {
        "id": "y4YKyOtB2dVm",
        "colab_type": "text"
      },
      "source": [
        "Acima observamos pelo índice que após exclusão dos dados duplicados, agora temos 6422 entradas. "
      ]
    },
    {
      "cell_type": "markdown",
      "metadata": {
        "id": "vgY7aXPhZzNU",
        "colab_type": "text"
      },
      "source": [
        "# Normalizando a coluna 'number'"
      ]
    },
    {
      "cell_type": "markdown",
      "metadata": {
        "id": "udccaeGeatkd",
        "colab_type": "text"
      },
      "source": [
        "A coluna 'number' está assim distribuída: "
      ]
    },
    {
      "cell_type": "code",
      "metadata": {
        "id": "J221iLNzYjY6",
        "colab_type": "code",
        "colab": {
          "base_uri": "https://localhost:8080/",
          "height": 170
        },
        "outputId": "5c2ca932-aded-4b00-8020-30706b522a33"
      },
      "source": [
        "dataset['number'].describe()"
      ],
      "execution_count": 17,
      "outputs": [
        {
          "output_type": "execute_result",
          "data": {
            "text/plain": [
              "count    6422.000000\n",
              "mean      108.815178\n",
              "std       191.142482\n",
              "min         0.000000\n",
              "25%         3.000000\n",
              "50%        24.497000\n",
              "75%       114.000000\n",
              "max       998.000000\n",
              "Name: number, dtype: float64"
            ]
          },
          "metadata": {
            "tags": []
          },
          "execution_count": 17
        }
      ]
    },
    {
      "cell_type": "markdown",
      "metadata": {
        "id": "QFc1t-BoazpD",
        "colab_type": "text"
      },
      "source": [
        "Abaixo temos a normalização aplicada por meio da técnica de padronização transformando os dados da coluna 'number' e imputando os dados padronizados para a uma nova coluna 'number_norm':"
      ]
    },
    {
      "cell_type": "code",
      "metadata": {
        "id": "w5_rpAcYjLUl",
        "colab_type": "code",
        "colab": {
          "base_uri": "https://localhost:8080/",
          "height": 170
        },
        "outputId": "dd9a3bbc-9962-4028-ae84-c9eb4bb9ea5e"
      },
      "source": [
        "from sklearn.preprocessing import StandardScaler, MinMaxScaler\n",
        "scaler = MinMaxScaler()\n",
        "dataset['number_norm'] = scaler.fit_transform(dataset[['number']])\n",
        "dataset['number_norm'].describe()"
      ],
      "execution_count": 18,
      "outputs": [
        {
          "output_type": "execute_result",
          "data": {
            "text/plain": [
              "count    6422.000000\n",
              "mean        0.109033\n",
              "std         0.191526\n",
              "min         0.000000\n",
              "25%         0.003006\n",
              "50%         0.024546\n",
              "75%         0.114228\n",
              "max         1.000000\n",
              "Name: number_norm, dtype: float64"
            ]
          },
          "metadata": {
            "tags": []
          },
          "execution_count": 18
        }
      ]
    },
    {
      "cell_type": "code",
      "metadata": {
        "id": "WZF-3IMmjj-m",
        "colab_type": "code",
        "colab": {
          "base_uri": "https://localhost:8080/",
          "height": 170
        },
        "outputId": "0a059871-68e6-4fe1-d03d-05602bdfa7ae"
      },
      "source": [
        "# Desvio padrão padronizado para 1\n",
        "scaler = StandardScaler()\n",
        "dataset['number_norm'] = scaler.fit_transform(dataset[['number']])\n",
        "dataset['number_norm'].describe()"
      ],
      "execution_count": 20,
      "outputs": [
        {
          "output_type": "execute_result",
          "data": {
            "text/plain": [
              "count    6.422000e+03\n",
              "mean     3.031093e-16\n",
              "std      1.000078e+00\n",
              "min     -5.693326e-01\n",
              "25%     -5.536363e-01\n",
              "50%     -4.411617e-01\n",
              "75%      2.712754e-02\n",
              "max      4.652310e+00\n",
              "Name: number_norm, dtype: float64"
            ]
          },
          "metadata": {
            "tags": []
          },
          "execution_count": 20
        }
      ]
    },
    {
      "cell_type": "markdown",
      "metadata": {
        "id": "1PhI6MsUtq3g",
        "colab_type": "text"
      },
      "source": [
        "# Discretização"
      ]
    },
    {
      "cell_type": "markdown",
      "metadata": {
        "id": "SjLZaeoytwMd",
        "colab_type": "text"
      },
      "source": [
        "Falta codidificar a discretização "
      ]
    },
    {
      "cell_type": "code",
      "metadata": {
        "id": "W8AcueQqwUwY",
        "colab_type": "code",
        "colab": {
          "base_uri": "https://localhost:8080/",
          "height": 204
        },
        "outputId": "105646c0-7a13-430c-a699-dbb9f7a64bef"
      },
      "source": [
        "#10 intervalos iguais\n",
        "dataset['number_dist'] = pd.cut(dataset['number'],10)\n",
        "dataset['number_dist'].value_counts()"
      ],
      "execution_count": 47,
      "outputs": [
        {
          "output_type": "execute_result",
          "data": {
            "text/plain": [
              "(-0.998, 99.8]    4670\n",
              "(99.8, 199.6]      702\n",
              "(199.6, 299.4]     295\n",
              "(299.4, 399.2]     197\n",
              "(399.2, 499.0]     156\n",
              "(499.0, 598.8]     109\n",
              "(598.8, 698.6]      88\n",
              "(798.4, 898.2]      71\n",
              "(698.6, 798.4]      68\n",
              "(898.2, 998.0]      66\n",
              "Name: number_dist, dtype: int64"
            ]
          },
          "metadata": {
            "tags": []
          },
          "execution_count": 47
        }
      ]
    },
    {
      "cell_type": "markdown",
      "metadata": {
        "id": "J7awGSosvFqM",
        "colab_type": "text"
      },
      "source": [
        "# Tratar Outliers"
      ]
    },
    {
      "cell_type": "markdown",
      "metadata": {
        "id": "nHXHijrSvim9",
        "colab_type": "text"
      },
      "source": [
        "Falta tratar os outliers"
      ]
    },
    {
      "cell_type": "markdown",
      "metadata": {
        "id": "JBflAd3MasBZ",
        "colab_type": "text"
      },
      "source": [
        "Abaixo a correlação do DataFrame pelos coeficientes de Spearman e Pearson:"
      ]
    },
    {
      "cell_type": "code",
      "metadata": {
        "id": "Fka9hznBPUJI",
        "colab_type": "code",
        "outputId": "cffd821a-de17-43cb-eb82-d65dc88c8498",
        "colab": {
          "base_uri": "https://localhost:8080/",
          "height": 142
        }
      },
      "source": [
        "# spearman \n",
        "dataset.corr(method='spearman')\n"
      ],
      "execution_count": 21,
      "outputs": [
        {
          "output_type": "execute_result",
          "data": {
            "text/html": [
              "<div>\n",
              "<style scoped>\n",
              "    .dataframe tbody tr th:only-of-type {\n",
              "        vertical-align: middle;\n",
              "    }\n",
              "\n",
              "    .dataframe tbody tr th {\n",
              "        vertical-align: top;\n",
              "    }\n",
              "\n",
              "    .dataframe thead th {\n",
              "        text-align: right;\n",
              "    }\n",
              "</style>\n",
              "<table border=\"1\" class=\"dataframe\">\n",
              "  <thead>\n",
              "    <tr style=\"text-align: right;\">\n",
              "      <th></th>\n",
              "      <th>year</th>\n",
              "      <th>number</th>\n",
              "      <th>number_norm</th>\n",
              "    </tr>\n",
              "  </thead>\n",
              "  <tbody>\n",
              "    <tr>\n",
              "      <th>year</th>\n",
              "      <td>1.000000</td>\n",
              "      <td>0.149714</td>\n",
              "      <td>0.149714</td>\n",
              "    </tr>\n",
              "    <tr>\n",
              "      <th>number</th>\n",
              "      <td>0.149714</td>\n",
              "      <td>1.000000</td>\n",
              "      <td>1.000000</td>\n",
              "    </tr>\n",
              "    <tr>\n",
              "      <th>number_norm</th>\n",
              "      <td>0.149714</td>\n",
              "      <td>1.000000</td>\n",
              "      <td>1.000000</td>\n",
              "    </tr>\n",
              "  </tbody>\n",
              "</table>\n",
              "</div>"
            ],
            "text/plain": [
              "                 year    number  number_norm\n",
              "year         1.000000  0.149714     0.149714\n",
              "number       0.149714  1.000000     1.000000\n",
              "number_norm  0.149714  1.000000     1.000000"
            ]
          },
          "metadata": {
            "tags": []
          },
          "execution_count": 21
        }
      ]
    },
    {
      "cell_type": "code",
      "metadata": {
        "id": "OeyzFxxgQoyH",
        "colab_type": "code",
        "outputId": "a4f346f5-5eec-4725-8cb0-0899a3205d2d",
        "colab": {
          "base_uri": "https://localhost:8080/",
          "height": 142
        }
      },
      "source": [
        "# pearson\n",
        "dataset.corr(method='pearson')"
      ],
      "execution_count": 22,
      "outputs": [
        {
          "output_type": "execute_result",
          "data": {
            "text/html": [
              "<div>\n",
              "<style scoped>\n",
              "    .dataframe tbody tr th:only-of-type {\n",
              "        vertical-align: middle;\n",
              "    }\n",
              "\n",
              "    .dataframe tbody tr th {\n",
              "        vertical-align: top;\n",
              "    }\n",
              "\n",
              "    .dataframe thead th {\n",
              "        text-align: right;\n",
              "    }\n",
              "</style>\n",
              "<table border=\"1\" class=\"dataframe\">\n",
              "  <thead>\n",
              "    <tr style=\"text-align: right;\">\n",
              "      <th></th>\n",
              "      <th>year</th>\n",
              "      <th>number</th>\n",
              "      <th>number_norm</th>\n",
              "    </tr>\n",
              "  </thead>\n",
              "  <tbody>\n",
              "    <tr>\n",
              "      <th>year</th>\n",
              "      <td>1.0000</td>\n",
              "      <td>0.0626</td>\n",
              "      <td>0.0626</td>\n",
              "    </tr>\n",
              "    <tr>\n",
              "      <th>number</th>\n",
              "      <td>0.0626</td>\n",
              "      <td>1.0000</td>\n",
              "      <td>1.0000</td>\n",
              "    </tr>\n",
              "    <tr>\n",
              "      <th>number_norm</th>\n",
              "      <td>0.0626</td>\n",
              "      <td>1.0000</td>\n",
              "      <td>1.0000</td>\n",
              "    </tr>\n",
              "  </tbody>\n",
              "</table>\n",
              "</div>"
            ],
            "text/plain": [
              "               year  number  number_norm\n",
              "year         1.0000  0.0626       0.0626\n",
              "number       0.0626  1.0000       1.0000\n",
              "number_norm  0.0626  1.0000       1.0000"
            ]
          },
          "metadata": {
            "tags": []
          },
          "execution_count": 22
        }
      ]
    },
    {
      "cell_type": "code",
      "metadata": {
        "id": "9ckgZApLtBXe",
        "colab_type": "code",
        "outputId": "d6543cc7-651e-4791-8725-a1d8cf7f8404",
        "colab": {
          "base_uri": "https://localhost:8080/",
          "height": 170
        }
      },
      "source": [
        "# Descrevendo a coluna \"number\", onde são atribuídos todos os casos de incêndios\n",
        "# registrados\n",
        "dataset['number'].describe()"
      ],
      "execution_count": 23,
      "outputs": [
        {
          "output_type": "execute_result",
          "data": {
            "text/plain": [
              "count    6422.000000\n",
              "mean      108.815178\n",
              "std       191.142482\n",
              "min         0.000000\n",
              "25%         3.000000\n",
              "50%        24.497000\n",
              "75%       114.000000\n",
              "max       998.000000\n",
              "Name: number, dtype: float64"
            ]
          },
          "metadata": {
            "tags": []
          },
          "execution_count": 23
        }
      ]
    },
    {
      "cell_type": "markdown",
      "metadata": {
        "id": "nkOHER1Qtz-m",
        "colab_type": "text"
      },
      "source": [
        "Observamos acima informações sobre os casos de incêndio. O mínimo (min) de zero, siginifica que não houve caso de incêndio. Outro dado que chama atenção é o número máximo de casos (max). Abaixo vamos observar onde e em que época ocorreu:"
      ]
    },
    {
      "cell_type": "code",
      "metadata": {
        "id": "aWwfPX7DvNSK",
        "colab_type": "code",
        "outputId": "9eb8156d-339c-475d-c5d1-fd05094b298f",
        "colab": {
          "base_uri": "https://localhost:8080/",
          "height": 85
        }
      },
      "source": [
        "print('Maior número de casos de incêndios registrados: ',dataset['number'].max())\n",
        "print('Ano: ',dataset[dataset['number'] ==  dataset['number'].max()]['year'].iloc[0])\n",
        "print('Mês: ',dataset[dataset['number'] ==  dataset['number'].max()]['month'].iloc[0])\n",
        "print('Estado: ',dataset[dataset['number'] ==  dataset['number'].max()]['state'].iloc[0])"
      ],
      "execution_count": 24,
      "outputs": [
        {
          "output_type": "stream",
          "text": [
            "Maior número de casos de incêndios registrados:  998.0\n",
            "Ano:  2008\n",
            "Mês:  Setembro\n",
            "Estado:  Amazonas\n"
          ],
          "name": "stdout"
        }
      ]
    },
    {
      "cell_type": "code",
      "metadata": {
        "id": "sVgl0L_QMIbN",
        "colab_type": "code",
        "outputId": "1f7320e5-d8d1-49f5-bf6d-59023351cb8d",
        "colab": {
          "base_uri": "https://localhost:8080/",
          "height": 85
        }
      },
      "source": [
        "print('Onde não houve caso de incêndio registrado: ',dataset['number'].min())\n",
        "print('Ano: ',dataset[dataset['number'] ==  dataset['number'].min()]['year'].iloc[0])\n",
        "print('Mês: ',dataset[dataset['number'] ==  dataset['number'].min()]['month'].iloc[0])\n",
        "print('Estado: ',dataset[dataset['number'] ==  dataset['number'].min()]['state'].iloc[0])"
      ],
      "execution_count": 25,
      "outputs": [
        {
          "output_type": "stream",
          "text": [
            "Onde não houve caso de incêndio registrado:  0.0\n",
            "Ano:  1998\n",
            "Mês:  Janeiro\n",
            "Estado:  Acre\n"
          ],
          "name": "stdout"
        }
      ]
    },
    {
      "cell_type": "code",
      "metadata": {
        "id": "179IPm7oq4JH",
        "colab_type": "code",
        "outputId": "14fc4974-9f9f-4569-e97b-781b92753b9e",
        "colab": {
          "base_uri": "https://localhost:8080/",
          "height": 34
        }
      },
      "source": [
        "# Soma de todos os casos de incêndios registrados dentro do intervalo \n",
        "# de 1998 a 2017\n",
        "dataset.number.sum()"
      ],
      "execution_count": 26,
      "outputs": [
        {
          "output_type": "execute_result",
          "data": {
            "text/plain": [
              "698811.073"
            ]
          },
          "metadata": {
            "tags": []
          },
          "execution_count": 26
        }
      ]
    },
    {
      "cell_type": "code",
      "metadata": {
        "id": "nm3UY0OmT68Y",
        "colab_type": "code",
        "outputId": "c2d4da21-fed5-4754-df51-9264e851c670",
        "colab": {
          "base_uri": "https://localhost:8080/",
          "height": 85
        }
      },
      "source": [
        "# Variância de todos os casos de incêndios registrados dentro do intervalo \n",
        "# de 1998 a 2017\n",
        "dataset.var()"
      ],
      "execution_count": 27,
      "outputs": [
        {
          "output_type": "execute_result",
          "data": {
            "text/plain": [
              "year              32.853602\n",
              "number         36535.448488\n",
              "number_norm        1.000156\n",
              "dtype: float64"
            ]
          },
          "metadata": {
            "tags": []
          },
          "execution_count": 27
        }
      ]
    },
    {
      "cell_type": "code",
      "metadata": {
        "id": "7e1jpA8JU2JA",
        "colab_type": "code",
        "outputId": "015cbfbc-c15a-4fb9-f578-0ba8d947a928",
        "colab": {
          "base_uri": "https://localhost:8080/",
          "height": 142
        }
      },
      "source": [
        "# Após verificar a Variância acima, constatamos através da Covariância abaixo \n",
        "# que os valores dos atributos das colunas \"year\" e \"number\" estão assossiados\n",
        "dataset.cov()"
      ],
      "execution_count": 28,
      "outputs": [
        {
          "output_type": "execute_result",
          "data": {
            "text/html": [
              "<div>\n",
              "<style scoped>\n",
              "    .dataframe tbody tr th:only-of-type {\n",
              "        vertical-align: middle;\n",
              "    }\n",
              "\n",
              "    .dataframe tbody tr th {\n",
              "        vertical-align: top;\n",
              "    }\n",
              "\n",
              "    .dataframe thead th {\n",
              "        text-align: right;\n",
              "    }\n",
              "</style>\n",
              "<table border=\"1\" class=\"dataframe\">\n",
              "  <thead>\n",
              "    <tr style=\"text-align: right;\">\n",
              "      <th></th>\n",
              "      <th>year</th>\n",
              "      <th>number</th>\n",
              "      <th>number_norm</th>\n",
              "    </tr>\n",
              "  </thead>\n",
              "  <tbody>\n",
              "    <tr>\n",
              "      <th>year</th>\n",
              "      <td>32.853602</td>\n",
              "      <td>68.583788</td>\n",
              "      <td>0.358838</td>\n",
              "    </tr>\n",
              "    <tr>\n",
              "      <th>number</th>\n",
              "      <td>68.583788</td>\n",
              "      <td>36535.448488</td>\n",
              "      <td>191.157366</td>\n",
              "    </tr>\n",
              "    <tr>\n",
              "      <th>number_norm</th>\n",
              "      <td>0.358838</td>\n",
              "      <td>191.157366</td>\n",
              "      <td>1.000156</td>\n",
              "    </tr>\n",
              "  </tbody>\n",
              "</table>\n",
              "</div>"
            ],
            "text/plain": [
              "                  year        number  number_norm\n",
              "year         32.853602     68.583788     0.358838\n",
              "number       68.583788  36535.448488   191.157366\n",
              "number_norm   0.358838    191.157366     1.000156"
            ]
          },
          "metadata": {
            "tags": []
          },
          "execution_count": 28
        }
      ]
    },
    {
      "cell_type": "code",
      "metadata": {
        "id": "wlfg5URo-9Gd",
        "colab_type": "code",
        "outputId": "e99c9827-82fa-402d-c1dd-54aab2106592",
        "colab": {
          "base_uri": "https://localhost:8080/",
          "height": 442
        }
      },
      "source": [
        "# Mediana dos casos de incêndio por estado\n",
        "dataset.groupby('state')['number'].median()"
      ],
      "execution_count": 44,
      "outputs": [
        {
          "output_type": "execute_result",
          "data": {
            "text/plain": [
              "state\n",
              "Acre                  2.188\n",
              "Alagoas              10.000\n",
              "Amapa                 2.000\n",
              "Amazonas             23.000\n",
              "Bahia               140.000\n",
              "Ceara                16.000\n",
              "Distrito Federal      2.000\n",
              "Espirito Santo       13.000\n",
              "Goias                60.000\n",
              "Maranhao              8.409\n",
              "Mato Grosso         103.000\n",
              "Minas Gerais         81.000\n",
              "Paraiba              47.500\n",
              "Pará                 10.810\n",
              "Pernambuco           27.000\n",
              "Piau                 35.000\n",
              "Rio                  25.000\n",
              "Rondonia             11.000\n",
              "Roraima              35.000\n",
              "Santa Catarina       34.000\n",
              "Sao Paulo           104.000\n",
              "Sergipe               3.000\n",
              "Tocantins            29.000\n",
              "Name: number, dtype: float64"
            ]
          },
          "metadata": {
            "tags": []
          },
          "execution_count": 44
        }
      ]
    },
    {
      "cell_type": "code",
      "metadata": {
        "id": "uoslnFpLEgY_",
        "colab_type": "code",
        "outputId": "15dd6f21-1016-4c85-b266-8ed10d382e1a",
        "colab": {
          "base_uri": "https://localhost:8080/",
          "height": 418
        }
      },
      "source": [
        "# Gráfico da mediana dos casos de incêndios por estado de forma ordenada\n",
        "dataset.groupby('state')['number'].median().sort_values(ascending=False).plot.bar(figsize=(10,5))"
      ],
      "execution_count": 30,
      "outputs": [
        {
          "output_type": "execute_result",
          "data": {
            "text/plain": [
              "<matplotlib.axes._subplots.AxesSubplot at 0x7fc6478fdda0>"
            ]
          },
          "metadata": {
            "tags": []
          },
          "execution_count": 30
        },
        {
          "output_type": "display_data",
          "data": {
            "image/png": "[encoded data removed]",
            "text/plain": [
              "<Figure size 720x360 with 1 Axes>"
            ]
          },
          "metadata": {
            "tags": []
          }
        }
      ]
    },
    {
      "cell_type": "code",
      "metadata": {
        "id": "D05TUY-lE2qB",
        "colab_type": "code",
        "outputId": "571a1a66-ebeb-45fe-a4c5-24bb22d436b3",
        "colab": {
          "base_uri": "https://localhost:8080/",
          "height": 442
        }
      },
      "source": [
        "# Desvio Padrão dos casos de incêndio por estado\n",
        "dataset.groupby('state')['number'].std()"
      ],
      "execution_count": 31,
      "outputs": [
        {
          "output_type": "execute_result",
          "data": {
            "text/plain": [
              "state\n",
              "Acre                182.970983\n",
              "Alagoas              26.762205\n",
              "Amapa               191.572878\n",
              "Amazonas            224.738973\n",
              "Bahia               207.614768\n",
              "Ceara               223.462406\n",
              "Distrito Federal     29.682323\n",
              "Espirito Santo       39.681230\n",
              "Goias               221.249192\n",
              "Maranhao            203.952031\n",
              "Mato Grosso         250.945368\n",
              "Minas Gerais        213.712990\n",
              "Paraiba             177.265461\n",
              "Pará                207.695643\n",
              "Pernambuco          155.821781\n",
              "Piau                245.938544\n",
              "Rio                 115.302832\n",
              "Rondonia            173.596757\n",
              "Roraima             148.765839\n",
              "Santa Catarina      175.059028\n",
              "Sao Paulo           240.674027\n",
              "Sergipe              22.849461\n",
              "Tocantins           229.993182\n",
              "Name: number, dtype: float64"
            ]
          },
          "metadata": {
            "tags": []
          },
          "execution_count": 31
        }
      ]
    },
    {
      "cell_type": "code",
      "metadata": {
        "id": "JWtZT-WyGScn",
        "colab_type": "code",
        "outputId": "adb25175-3ac7-428b-9954-15846e7de96a",
        "colab": {
          "base_uri": "https://localhost:8080/",
          "height": 418
        }
      },
      "source": [
        "# Gráfico do desvio padrão dos casos de incêndios por estado de forma ordenada\n",
        "dataset.groupby('state')['number'].std().sort_values(ascending=False).plot.bar(figsize=(10,5))"
      ],
      "execution_count": 32,
      "outputs": [
        {
          "output_type": "execute_result",
          "data": {
            "text/plain": [
              "<matplotlib.axes._subplots.AxesSubplot at 0x7fc6477fdba8>"
            ]
          },
          "metadata": {
            "tags": []
          },
          "execution_count": 32
        },
        {
          "output_type": "display_data",
          "data": {
            "image/png": "[encoded data removed]",
            "text/plain": [
              "<Figure size 720x360 with 1 Axes>"
            ]
          },
          "metadata": {
            "tags": []
          }
        }
      ]
    },
    {
      "cell_type": "code",
      "metadata": {
        "id": "ygTRn0LbKRaH",
        "colab_type": "code",
        "outputId": "32e1e054-a4ad-41cc-abb5-80fade7d6423",
        "colab": {
          "base_uri": "https://localhost:8080/",
          "height": 442
        }
      },
      "source": [
        "# Média dos casos de incêndios por estado\n",
        "dataset.groupby('state')['number'].mean()"
      ],
      "execution_count": 33,
      "outputs": [
        {
          "output_type": "execute_result",
          "data": {
            "text/plain": [
              "state\n",
              "Acre                 77.255356\n",
              "Alagoas              19.271967\n",
              "Amapa                91.345506\n",
              "Amazonas            128.243218\n",
              "Bahia               187.222703\n",
              "Ceara               127.314071\n",
              "Distrito Federal     14.899582\n",
              "Espirito Santo       27.389121\n",
              "Goias               157.721841\n",
              "Maranhao            105.142808\n",
              "Mato Grosso         203.479975\n",
              "Minas Gerais        156.800243\n",
              "Paraiba             111.073979\n",
              "Pará                102.561272\n",
              "Pernambuco          102.502092\n",
              "Piau                158.174674\n",
              "Rio                  64.698515\n",
              "Rondonia             84.876272\n",
              "Roraima             102.029598\n",
              "Santa Catarina      101.924067\n",
              "Sao Paulo           213.896226\n",
              "Sergipe              13.543933\n",
              "Tocantins           141.037176\n",
              "Name: number, dtype: float64"
            ]
          },
          "metadata": {
            "tags": []
          },
          "execution_count": 33
        }
      ]
    },
    {
      "cell_type": "code",
      "metadata": {
        "id": "0rHb4IUPD3Cq",
        "colab_type": "code",
        "outputId": "01eff339-6f68-44b6-9d6a-b74a152ffd39",
        "colab": {
          "base_uri": "https://localhost:8080/",
          "height": 418
        }
      },
      "source": [
        "# Gráfico da média dos casos de incêndios por estado de forma ordenada\n",
        "dataset.groupby('state')['number'].mean().nlargest(27).sort_values(ascending=False).plot.bar(figsize=(10,5))"
      ],
      "execution_count": 34,
      "outputs": [
        {
          "output_type": "execute_result",
          "data": {
            "text/plain": [
              "<matplotlib.axes._subplots.AxesSubplot at 0x7fc647298ba8>"
            ]
          },
          "metadata": {
            "tags": []
          },
          "execution_count": 34
        },
        {
          "output_type": "display_data",
          "data": {
            "image/png": "[encoded data removed]",
            "text/plain": [
              "<Figure size 720x360 with 1 Axes>"
            ]
          },
          "metadata": {
            "tags": []
          }
        }
      ]
    },
    {
      "cell_type": "markdown",
      "metadata": {
        "id": "56DxNAyuyloa",
        "colab_type": "text"
      },
      "source": [
        "Acima observamos a mediana, o desvio padrão e a média. Verificamos que São Paulo registrou no intervalo de 1998 a 2017 a maior média de casos de incêndios no Brasil. \n",
        "Mas apesar do resultado do cálculo da média ter apresentado que São Paulo tem a maior média de registros de casos de incêndios (suspeita forte de outliers), o gráfico apresentado abaixo mostra que Mato Grosso é que possui um número de casos de incêndios em comparação com São Paulo, devido a sua maior variabilidade dos dados, em consonância com os resultados da mediana e o desvio padrão.  "
      ]
    },
    {
      "cell_type": "code",
      "metadata": {
        "id": "Qtof5_uWwB3B",
        "colab_type": "code",
        "outputId": "9d75b6c2-b491-4842-e15c-e6770e65a6aa",
        "colab": {
          "base_uri": "https://localhost:8080/",
          "height": 550
        }
      },
      "source": [
        "# Junção dos valores dos atributos das colunas year, state e month\n",
        "juncao_valores = dataset.groupby(by = ['year','state', 'month']).sum().reset_index()\n",
        "plt.figure(figsize=(28,8))\n",
        "sns.boxplot(x = 'state', order = ['Acre', 'Alagoas', 'Amapa', 'Amazonas', 'Bahia', 'Ceara',\n",
        "       'Distrito Federal', 'Espirito Santo', 'Goias', 'Maranhao',\n",
        "       'Mato Grosso', 'Minas Gerais', 'Pará', 'Paraiba', 'Pernambuco',\n",
        "       'Piau', 'Rio', 'Rondonia', 'Roraima', 'Santa Catarina',\n",
        "       'Sao Paulo', 'Sergipe', 'Tocantins'], \n",
        "            y = 'number', data = juncao_valores)\n",
        "\n",
        "plt.title('Estados com mais registros de incêndios', fontsize = 12)\n",
        "plt.xlabel('Estados', fontsize = 10)\n",
        "plt.ylabel('Casos de incêncios', fontsize =10)"
      ],
      "execution_count": 35,
      "outputs": [
        {
          "output_type": "execute_result",
          "data": {
            "text/plain": [
              "Text(0, 0.5, 'Casos de incêncios')"
            ]
          },
          "metadata": {
            "tags": []
          },
          "execution_count": 35
        },
        {
          "output_type": "display_data",
          "data": {
            "image/png": "[encoded data removed]",
            "text/plain": [
              "<Figure size 2016x576 with 1 Axes>"
            ]
          },
          "metadata": {
            "tags": []
          }
        }
      ]
    },
    {
      "cell_type": "markdown",
      "metadata": {
        "id": "sURLger09DyJ",
        "colab_type": "text"
      },
      "source": [
        "Abaixo mostramos um gráfico indicando a correlação com valor muito próximo de 1, ou seja, uma correlação positiva entre os atributos das colunas \"year\" (ano) e \"number\" (número de casos de incêndios): "
      ]
    },
    {
      "cell_type": "code",
      "metadata": {
        "id": "xB6mCjZk5lOt",
        "colab_type": "code",
        "outputId": "89a94d56-7cb0-47b5-aeea-a5975b01000c",
        "colab": {
          "base_uri": "https://localhost:8080/",
          "height": 379
        }
      },
      "source": [
        "plt.figure(figsize = (6,6))\n",
        "sns.heatmap(dataset.corr(),annot = True,linewidths = 1.0,cmap='cubehelix_r');"
      ],
      "execution_count": 36,
      "outputs": [
        {
          "output_type": "display_data",
          "data": {
            "image/png": "[encoded data removed]",
            "text/plain": [
              "<Figure size 432x432 with 2 Axes>"
            ]
          },
          "metadata": {
            "tags": []
          }
        }
      ]
    },
    {
      "cell_type": "markdown",
      "metadata": {
        "id": "gQLrFv7t4gBU",
        "colab_type": "text"
      },
      "source": [
        "No gráfico abaixo, observamos também os casos de maiores registros de incêndios por estado, destacando em vermelho aqueles estados que fazem parte direta (denominados de \"Amazonia Legal\") da maior floresta do mundo, que é a Floresta Amazônica"
      ]
    },
    {
      "cell_type": "code",
      "metadata": {
        "id": "ClsDw9eFwGQx",
        "colab_type": "code",
        "outputId": "629a2eeb-afcd-4dfc-82cb-0957e9bd62e0",
        "colab": {
          "base_uri": "https://localhost:8080/",
          "height": 488
        }
      },
      "source": [
        "estados_incendios = ['Amazonas', 'Pará', 'Roraima', 'Amapa', 'Rondonia', 'Acre', 'Tocantins', 'Mato Grosso', 'Maranhao']\n",
        "\n",
        "estados = dataset.groupby('state')['number'].sum().sort_values(ascending=False)\n",
        "\n",
        "ax = plt.gca()\n",
        "colors = ['C1' if i not in estados_incendios else 'g' for i in estados.index]\n",
        "estados.plot(kind='bar',ax=ax,color=colors, figsize=(12, 6))\n",
        "h,l = ax.get_legend_handles_labels()\n",
        "ax.set_title(\"Estados com mais registros de incêndios\")\n",
        "ax.set_ylabel('Casos de incêndios')\n",
        "ax.set_xlabel('Estados')\n",
        "ax.legend([\"Estados que fazem parte diretamente da Floresta Amazônica (Amazonia Legal)\", \"Outros estados\"], labelspacing=2)"
      ],
      "execution_count": 37,
      "outputs": [
        {
          "output_type": "execute_result",
          "data": {
            "text/plain": [
              "<matplotlib.legend.Legend at 0x7fc6433ca4a8>"
            ]
          },
          "metadata": {
            "tags": []
          },
          "execution_count": 37
        },
        {
          "output_type": "display_data",
          "data": {
            "image/png": "[encoded data removed]",
            "text/plain": [
              "<Figure size 864x432 with 1 Axes>"
            ]
          },
          "metadata": {
            "tags": []
          }
        }
      ]
    },
    {
      "cell_type": "markdown",
      "metadata": {
        "colab_type": "text",
        "id": "v9kWSbd1tMAB"
      },
      "source": [
        "O gráfico a seguir mostra quais são os piores meses de casos de incêndios registrados, de acordo com os números de incêndios maiores que a média, levando em consideração o desvio padrão:"
      ]
    },
    {
      "cell_type": "code",
      "metadata": {
        "id": "H9aFFJ5NROHR",
        "colab_type": "code",
        "outputId": "74ad5bf0-0913-4e27-bf26-e25246ca93ba",
        "colab": {
          "base_uri": "https://localhost:8080/",
          "height": 386
        }
      },
      "source": [
        "maior_numero_incendios_mes = dataset.groupby(['month'], as_index=False).sum() \n",
        "maior_numero_incendios_mes.drop('year',axis=1, inplace=True)\n",
        "\n",
        "meses_mais_incendios = maior_numero_incendios_mes[maior_numero_incendios_mes['number']>maior_numero_incendios_mes['number'].mean()+maior_numero_incendios_mes['number'].std()]\n",
        "print('Meses com mais registros de incêndios: ')\n",
        "\n",
        "sns.catplot(x='month', y='number', kind='bar',data=dataset[['month','number']], aspect=2, estimator=sum);"
      ],
      "execution_count": 38,
      "outputs": [
        {
          "output_type": "stream",
          "text": [
            "Meses com mais registros de incêndios: \n"
          ],
          "name": "stdout"
        },
        {
          "output_type": "display_data",
          "data": {
            "image/png": "[encoded data removed]",
            "text/plain": [
              "<Figure size 720x360 with 1 Axes>"
            ]
          },
          "metadata": {
            "tags": []
          }
        }
      ]
    },
    {
      "cell_type": "markdown",
      "metadata": {
        "id": "Pbt8sZv20Sis",
        "colab_type": "text"
      },
      "source": [
        "No gráfico a seguir, comparamos o total de casos de incêndios no país com os estados que fazem parte da Floresta Amazônica.\n",
        "Envidenciamos que nos meses de janeiro, fevereiro, março, abril, maio e junho, ou seja, na primeira metade do ano, a soma dos casos de incêndios na floresta amazônica é superior que a soma do restante do país. "
      ]
    },
    {
      "cell_type": "code",
      "metadata": {
        "colab_type": "code",
        "outputId": "af8478de-f1c8-44f9-9bd8-e2c396acada6",
        "id": "fbTjNnPszlRS",
        "colab": {
          "base_uri": "https://localhost:8080/",
          "height": 517
        }
      },
      "source": [
        "casos_de_incendios_mes = dataset.groupby('month')['number'].sum()\n",
        "casos_de_incendios_amazonia = dataset[dataset.state.isin(estados_incendios)].groupby('month')['number'].sum()\n",
        "\n",
        "ax = plt.gca()\n",
        "casos_de_incendios_mes.plot(kind='bar',x='month',y='number', ax=ax, stacked=True, figsize=(13, 7))\n",
        "casos_de_incendios_amazonia.plot(kind='bar',x='month',y='number', ax=ax, stacked=True, color='g', figsize=(13, 7))\n",
        "ax.set_title(\"Comparação entre o total de casos de incêndios no país e o total de incêndios nos estados que compõem a Amazonia\")\n",
        "ax.set_ylabel('Casos de incêndios')\n",
        "ax.set_xlabel('Mês')\n",
        "ax.legend([\"Total de casos de incêndios no país\", \"Casos de incêndios apenas na Amazonia\"])"
      ],
      "execution_count": 39,
      "outputs": [
        {
          "output_type": "execute_result",
          "data": {
            "text/plain": [
              "<matplotlib.legend.Legend at 0x7fc6432545c0>"
            ]
          },
          "metadata": {
            "tags": []
          },
          "execution_count": 39
        },
        {
          "output_type": "display_data",
          "data": {
            "image/png": "[encoded data removed]",
            "text/plain": [
              "<Figure size 936x504 with 1 Axes>"
            ]
          },
          "metadata": {
            "tags": []
          }
        }
      ]
    },
    {
      "cell_type": "markdown",
      "metadata": {
        "id": "4Km6MrP0LSZO",
        "colab_type": "text"
      },
      "source": [
        "Verificamos abaixo o total de casos de incêndios no país, onde pelo gráfico podemos observar os anos considerados mais críticos, ou seja, que houveram mais casos de incêndios no país.\n",
        "Constata-se que entre os anos de 2002/2003, 2011/2012 e 2015/2016 foram os mais críticos."
      ]
    },
    {
      "cell_type": "code",
      "metadata": {
        "id": "k4xhOsJgRCmu",
        "colab_type": "code",
        "outputId": "a68727bc-aa64-4ad7-db5a-87b60afb1729",
        "colab": {
          "base_uri": "https://localhost:8080/",
          "height": 370
        }
      },
      "source": [
        "sns.set_style('whitegrid')\n",
        "\n",
        "from matplotlib.pyplot import MaxNLocator\n",
        "\n",
        "plt.figure(figsize=(14,5))\n",
        "\n",
        "ax = sns.lineplot(x = 'year', y = 'number', data = juncao_valores, estimator = 'sum', color = 'purple', lw = 2, \n",
        "                  err_style = None)\n",
        "\n",
        "plt.title('Total de casos de incêndios no país entre os anos de 1998 a 2017', fontsize = 13)\n",
        "plt.xlabel('Anos', fontsize = 10)\n",
        "plt.ylabel('Casos de incêndios', fontsize = 10)\n",
        "\n",
        "ax.xaxis.set_major_locator(plt.MaxNLocator(19))"
      ],
      "execution_count": 40,
      "outputs": [
        {
          "output_type": "display_data",
          "data": {
            "image/png": "[encoded data removed]",
            "text/plain": [
              "<Figure size 1008x360 with 1 Axes>"
            ]
          },
          "metadata": {
            "tags": []
          }
        }
      ]
    },
    {
      "cell_type": "code",
      "metadata": {
        "id": "HRCx3hjFOD-n",
        "colab_type": "code",
        "outputId": "8ee333b2-bb7b-4d97-e791-3bbd8588cd21",
        "colab": {
          "base_uri": "https://localhost:8080/",
          "height": 258
        }
      },
      "source": [
        "#Instalando pacote Pandas Profiling para analisar o DataFrame\n",
        "!pip install pandas-profiling \n",
        "import pandas_profiling "
      ],
      "execution_count": 41,
      "outputs": [
        {
          "output_type": "stream",
          "text": [
            "Requirement already satisfied: pandas-profiling in /usr/local/lib/python3.6/dist-packages (1.4.1)\n",
            "Requirement already satisfied: pandas>=0.19 in /usr/local/lib/python3.6/dist-packages (from pandas-profiling) (0.25.3)\n",
            "Requirement already satisfied: jinja2>=2.8 in /usr/local/lib/python3.6/dist-packages (from pandas-profiling) (2.10.3)\n",
            "Requirement already satisfied: six>=1.9 in /usr/local/lib/python3.6/dist-packages (from pandas-profiling) (1.12.0)\n",
            "Requirement already satisfied: matplotlib>=1.4 in /usr/local/lib/python3.6/dist-packages (from pandas-profiling) (3.1.2)\n",
            "Requirement already satisfied: numpy>=1.13.3 in /usr/local/lib/python3.6/dist-packages (from pandas>=0.19->pandas-profiling) (1.17.4)\n",
            "Requirement already satisfied: pytz>=2017.2 in /usr/local/lib/python3.6/dist-packages (from pandas>=0.19->pandas-profiling) (2018.9)\n",
            "Requirement already satisfied: python-dateutil>=2.6.1 in /usr/local/lib/python3.6/dist-packages (from pandas>=0.19->pandas-profiling) (2.6.1)\n",
            "Requirement already satisfied: MarkupSafe>=0.23 in /usr/local/lib/python3.6/dist-packages (from jinja2>=2.8->pandas-profiling) (1.1.1)\n",
            "Requirement already satisfied: cycler>=0.10 in /usr/local/lib/python3.6/dist-packages (from matplotlib>=1.4->pandas-profiling) (0.10.0)\n",
            "Requirement already satisfied: pyparsing!=2.0.4,!=2.1.2,!=2.1.6,>=2.0.1 in /usr/local/lib/python3.6/dist-packages (from matplotlib>=1.4->pandas-profiling) (2.4.5)\n",
            "Requirement already satisfied: kiwisolver>=1.0.1 in /usr/local/lib/python3.6/dist-packages (from matplotlib>=1.4->pandas-profiling) (1.1.0)\n",
            "Requirement already satisfied: setuptools in /usr/local/lib/python3.6/dist-packages (from kiwisolver>=1.0.1->matplotlib>=1.4->pandas-profiling) (42.0.2)\n"
          ],
          "name": "stdout"
        }
      ]
    },
    {
      "cell_type": "code",
      "metadata": {
        "id": "AnFOCJAwTGWS",
        "colab_type": "code",
        "outputId": "bafe6864-2014-4392-8c15-63c8cc40c953",
        "colab": {
          "base_uri": "https://localhost:8080/",
          "height": 1000
        }
      },
      "source": [
        "pandas_profiling.ProfileReport(dataset)"
      ],
      "execution_count": 42,
      "outputs": [
        {
          "output_type": "stream",
          "text": [
            "/usr/local/lib/python3.6/dist-packages/pandas_profiling/describe.py:392: FutureWarning: The join_axes-keyword is deprecated. Use .reindex or .reindex_like on the result to achieve the same functionality.\n",
            "  variable_stats = pd.concat(ldesc, join_axes=pd.Index([names]), axis=1)\n"
          ],
          "name": "stderr"
        },
        {
          "output_type": "execute_result",
          "data": {
            "text/html": [
              "<meta charset=\"UTF-8\">\n",
              "\n",
              "<style>\n",
              "\n",
              "        .variablerow {\n",
              "            border: 1px solid #e1e1e8;\n",
              "            border-top: hidden;\n",
              "            padding-top: 2em;\n",
              "            padding-bottom: 2em;\n",
              "            padding-left: 1em;\n",
              "            padding-right: 1em;\n",
              "        }\n",
              "\n",
              "        .headerrow {\n",
              "            border: 1px solid #e1e1e8;\n",
              "            background-color: #f5f5f5;\n",
              "            padding: 2em;\n",
              "        }\n",
              "        .namecol {\n",
              "            margin-top: -1em;\n",
              "            overflow-x: auto;\n",
              "        }\n",
              "\n",
              "        .dl-horizontal dt {\n",
              "            text-align: left;\n",
              "            padding-right: 1em;\n",
              "            white-space: normal;\n",
              "        }\n",
              "\n",
              "        .dl-horizontal dd {\n",
              "            margin-left: 0;\n",
              "        }\n",
              "\n",
              "        .ignore {\n",
              "            opacity: 0.4;\n",
              "        }\n",
              "\n",
              "        .container.pandas-profiling {\n",
              "            max-width:975px;\n",
              "        }\n",
              "\n",
              "        .col-md-12 {\n",
              "            padding-left: 2em;\n",
              "        }\n",
              "\n",
              "        .indent {\n",
              "            margin-left: 1em;\n",
              "        }\n",
              "\n",
              "        .center-img {\n",
              "            margin-left: auto !important;\n",
              "            margin-right: auto !important;\n",
              "            display: block;\n",
              "        }\n",
              "\n",
              "        /* Table example_values */\n",
              "            table.example_values {\n",
              "                border: 0;\n",
              "            }\n",
              "\n",
              "            .example_values th {\n",
              "                border: 0;\n",
              "                padding: 0 ;\n",
              "                color: #555;\n",
              "                font-weight: 600;\n",
              "            }\n",
              "\n",
              "            .example_values tr, .example_values td{\n",
              "                border: 0;\n",
              "                padding: 0;\n",
              "                color: #555;\n",
              "            }\n",
              "\n",
              "        /* STATS */\n",
              "            table.stats {\n",
              "                border: 0;\n",
              "            }\n",
              "\n",
              "            .stats th {\n",
              "                border: 0;\n",
              "                padding: 0 2em 0 0;\n",
              "                color: #555;\n",
              "                font-weight: 600;\n",
              "            }\n",
              "\n",
              "            .stats tr {\n",
              "                border: 0;\n",
              "            }\n",
              "\n",
              "            .stats td{\n",
              "                color: #555;\n",
              "                padding: 1px;\n",
              "                border: 0;\n",
              "            }\n",
              "\n",
              "\n",
              "        /* Sample table */\n",
              "            table.sample {\n",
              "                border: 0;\n",
              "                margin-bottom: 2em;\n",
              "                margin-left:1em;\n",
              "            }\n",
              "            .sample tr {\n",
              "                border:0;\n",
              "            }\n",
              "            .sample td, .sample th{\n",
              "                padding: 0.5em;\n",
              "                white-space: nowrap;\n",
              "                border: none;\n",
              "\n",
              "            }\n",
              "\n",
              "            .sample thead {\n",
              "                border-top: 0;\n",
              "                border-bottom: 2px solid #ddd;\n",
              "            }\n",
              "\n",
              "            .sample td {\n",
              "                width:100%;\n",
              "            }\n",
              "\n",
              "\n",
              "        /* There is no good solution available to make the divs equal height and then center ... */\n",
              "            .histogram {\n",
              "                margin-top: 3em;\n",
              "            }\n",
              "        /* Freq table */\n",
              "\n",
              "            table.freq {\n",
              "                margin-bottom: 2em;\n",
              "                border: 0;\n",
              "            }\n",
              "            table.freq th, table.freq tr, table.freq td {\n",
              "                border: 0;\n",
              "                padding: 0;\n",
              "            }\n",
              "\n",
              "            .freq thead {\n",
              "                font-weight: 600;\n",
              "                white-space: nowrap;\n",
              "                overflow: hidden;\n",
              "                text-overflow: ellipsis;\n",
              "\n",
              "            }\n",
              "\n",
              "            td.fillremaining{\n",
              "                width:auto;\n",
              "                max-width: none;\n",
              "            }\n",
              "\n",
              "            td.number, th.number {\n",
              "                text-align:right ;\n",
              "            }\n",
              "\n",
              "        /* Freq mini */\n",
              "            .freq.mini td{\n",
              "                width: 50%;\n",
              "                padding: 1px;\n",
              "                font-size: 12px;\n",
              "\n",
              "            }\n",
              "            table.freq.mini {\n",
              "                 width:100%;\n",
              "            }\n",
              "            .freq.mini th {\n",
              "                overflow: hidden;\n",
              "                text-overflow: ellipsis;\n",
              "                white-space: nowrap;\n",
              "                max-width: 5em;\n",
              "                font-weight: 400;\n",
              "                text-align:right;\n",
              "                padding-right: 0.5em;\n",
              "            }\n",
              "\n",
              "            .missing {\n",
              "                color: #a94442;\n",
              "            }\n",
              "            .alert, .alert > th, .alert > td {\n",
              "                color: #a94442;\n",
              "            }\n",
              "\n",
              "\n",
              "        /* Bars in tables */\n",
              "            .freq .bar{\n",
              "                float: left;\n",
              "                width: 0;\n",
              "                height: 100%;\n",
              "                line-height: 20px;\n",
              "                color: #fff;\n",
              "                text-align: center;\n",
              "                background-color: #337ab7;\n",
              "                border-radius: 3px;\n",
              "                margin-right: 4px;\n",
              "            }\n",
              "            .other .bar {\n",
              "                background-color: #999;\n",
              "            }\n",
              "            .missing .bar{\n",
              "                background-color: #a94442;\n",
              "            }\n",
              "            .tooltip-inner {\n",
              "                width: 100%;\n",
              "                white-space: nowrap;\n",
              "                text-align:left;\n",
              "            }\n",
              "\n",
              "            .extrapadding{\n",
              "                padding: 2em;\n",
              "            }\n",
              "\n",
              "            .pp-anchor{\n",
              "\n",
              "            }\n",
              "\n",
              "</style>\n",
              "\n",
              "<div class=\"container pandas-profiling\">\n",
              "    <div class=\"row headerrow highlight\">\n",
              "        <h1>Overview</h1>\n",
              "    </div>\n",
              "    <div class=\"row variablerow\">\n",
              "    <div class=\"col-md-6 namecol\">\n",
              "        <p class=\"h4\">Dataset info</p>\n",
              "        <table class=\"stats\" style=\"margin-left: 1em;\">\n",
              "            <tbody>\n",
              "            <tr>\n",
              "                <th>Number of variables</th>\n",
              "                <td>6 </td>\n",
              "            </tr>\n",
              "            <tr>\n",
              "                <th>Number of observations</th>\n",
              "                <td>6422 </td>\n",
              "            </tr>\n",
              "            <tr>\n",
              "                <th>Total Missing (%)</th>\n",
              "                <td>0.0% </td>\n",
              "            </tr>\n",
              "            <tr>\n",
              "                <th>Total size in memory</th>\n",
              "                <td>214.6 KiB </td>\n",
              "            </tr>\n",
              "            <tr>\n",
              "                <th>Average record size in memory</th>\n",
              "                <td>34.2 B </td>\n",
              "            </tr>\n",
              "            </tbody>\n",
              "        </table>\n",
              "    </div>\n",
              "    <div class=\"col-md-6 namecol\">\n",
              "        <p class=\"h4\">Variables types</p>\n",
              "        <table class=\"stats\" style=\"margin-left: 1em;\">\n",
              "            <tbody>\n",
              "            <tr>\n",
              "                <th>Numeric</th>\n",
              "                <td>3 </td>\n",
              "            </tr>\n",
              "            <tr>\n",
              "                <th>Categorical</th>\n",
              "                <td>2 </td>\n",
              "            </tr>\n",
              "            <tr>\n",
              "                <th>Boolean</th>\n",
              "                <td>0 </td>\n",
              "            </tr>\n",
              "            <tr>\n",
              "                <th>Date</th>\n",
              "                <td>0 </td>\n",
              "            </tr>\n",
              "            <tr>\n",
              "                <th>Text (Unique)</th>\n",
              "                <td>0 </td>\n",
              "            </tr>\n",
              "            <tr>\n",
              "                <th>Rejected</th>\n",
              "                <td>1 </td>\n",
              "            </tr>\n",
              "            <tr>\n",
              "                <th>Unsupported</th>\n",
              "                <td>0 </td>\n",
              "            </tr>\n",
              "            </tbody>\n",
              "        </table>\n",
              "    </div>\n",
              "    <div class=\"col-md-12\" style=\"padding-left: 1em;\">\n",
              "        \n",
              "        <p class=\"h4\">Warnings</p>\n",
              "        <ul class=\"list-unstyled\"><li><a href=\"#pp_var_number\"><code>number</code></a> has 595 / 9.3% zeros <span class=\"label label-info\">Zeros</span></li><li><a href=\"#pp_var_number_norm\"><code>number_norm</code></a> is highly correlated with <a href=\"#pp_var_number\"><code>number</code></a> (ρ = 1) <span class=\"label label-primary\">Rejected</span></li> </ul>\n",
              "    </div>\n",
              "</div>\n",
              "    <div class=\"row headerrow highlight\">\n",
              "        <h1>Variables</h1>\n",
              "    </div>\n",
              "    <div class=\"row variablerow\">\n",
              "    <div class=\"col-md-3 namecol\">\n",
              "        <p class=\"h4 pp-anchor\" id=\"pp_var_index\">index<br/>\n",
              "            <small>Numeric</small>\n",
              "        </p>\n",
              "    </div><div class=\"col-md-6\">\n",
              "    <div class=\"row\">\n",
              "        <div class=\"col-sm-6\">\n",
              "            <table class=\"stats \">\n",
              "                <tr>\n",
              "                    <th>Distinct count</th>\n",
              "                    <td>6422</td>\n",
              "                </tr>\n",
              "                <tr>\n",
              "                    <th>Unique (%)</th>\n",
              "                    <td>100.0%</td>\n",
              "                </tr>\n",
              "                <tr class=\"ignore\">\n",
              "                    <th>Missing (%)</th>\n",
              "                    <td>0.0%</td>\n",
              "                </tr>\n",
              "                <tr class=\"ignore\">\n",
              "                    <th>Missing (n)</th>\n",
              "                    <td>0</td>\n",
              "                </tr>\n",
              "                <tr class=\"ignore\">\n",
              "                    <th>Infinite (%)</th>\n",
              "                    <td>0.0%</td>\n",
              "                </tr>\n",
              "                <tr class=\"ignore\">\n",
              "                    <th>Infinite (n)</th>\n",
              "                    <td>0</td>\n",
              "                </tr>\n",
              "            </table>\n",
              "\n",
              "        </div>\n",
              "        <div class=\"col-sm-6\">\n",
              "            <table class=\"stats \">\n",
              "\n",
              "                <tr>\n",
              "                    <th>Mean</th>\n",
              "                    <td>3222.5</td>\n",
              "                </tr>\n",
              "                <tr>\n",
              "                    <th>Minimum</th>\n",
              "                    <td>0</td>\n",
              "                </tr>\n",
              "                <tr>\n",
              "                    <th>Maximum</th>\n",
              "                    <td>6453</td>\n",
              "                </tr>\n",
              "                <tr class=\"ignore\">\n",
              "                    <th>Zeros (%)</th>\n",
              "                    <td>0.0%</td>\n",
              "                </tr>\n",
              "            </table>\n",
              "        </div>\n",
              "    </div>\n",
              "</div>\n",
              "<div class=\"col-md-3 collapse in\" id=\"minihistogram-1743981157564621103\">\n",
              "    <img src=\"data:image/png;base64,iVBORw0KGgoAAAANSUhEUgAAAMgAAABLCAYAAAA1fMjoAAAABHNCSVQICAgIfAhkiAAAAAlwSFlzAAAPYQAAD2EBqD%2BnaQAAADh0RVh0U29mdHdhcmUAbWF0cGxvdGxpYiB2ZXJzaW9uMy4xLjIsIGh0dHA6Ly9tYXRwbG90bGliLm9yZy8li6FKAAABFElEQVR4nO3XwQnCQABFQSOWZBH25NmeLMKe1rvII4okIc40sJ8NjyXTGGMcgLeOaw%2BALTutPeDV%2BXpfe8LPPG6XRc759M6%2B2bXUd1nqzubaXCB7sqfY/5VA/pBw5/MPAkEgEAQCQSAQBAJBIBAEAkEgEAQCQSAQBAJBIBAEAkEgEAQCQSAQBAJBIBAEAkEgEAQCQSAQBAJBIBAEAkEgEAQCQSAQBAJBIBAEAkEgEAQCQSAQBAJBIBAEAkEgEAQCQSAQBAJBIBAEAkEgEKYxxlh7BGyVFwSCQCAIBIJAIAgEgkAgCASCQCAIBIJAIAgEgkAgCASCQCAIBIJAIAgEgkAgCASCQCAIBIJAIAgEgkAgCATCE1ZeFGEOoAImAAAAAElFTkSuQmCC\">\n",
              "\n",
              "</div>\n",
              "<div class=\"col-md-12 text-right\">\n",
              "    <a role=\"button\" data-toggle=\"collapse\" data-target=\"#descriptives-1743981157564621103,#minihistogram-1743981157564621103\"\n",
              "       aria-expanded=\"false\" aria-controls=\"collapseExample\">\n",
              "        Toggle details\n",
              "    </a>\n",
              "</div>\n",
              "<div class=\"row collapse col-md-12\" id=\"descriptives-1743981157564621103\">\n",
              "    <ul class=\"nav nav-tabs\" role=\"tablist\">\n",
              "        <li role=\"presentation\" class=\"active\"><a href=\"#quantiles-1743981157564621103\"\n",
              "                                                  aria-controls=\"quantiles-1743981157564621103\" role=\"tab\"\n",
              "                                                  data-toggle=\"tab\">Statistics</a></li>\n",
              "        <li role=\"presentation\"><a href=\"#histogram-1743981157564621103\" aria-controls=\"histogram-1743981157564621103\"\n",
              "                                   role=\"tab\" data-toggle=\"tab\">Histogram</a></li>\n",
              "        <li role=\"presentation\"><a href=\"#common-1743981157564621103\" aria-controls=\"common-1743981157564621103\"\n",
              "                                   role=\"tab\" data-toggle=\"tab\">Common Values</a></li>\n",
              "        <li role=\"presentation\"><a href=\"#extreme-1743981157564621103\" aria-controls=\"extreme-1743981157564621103\"\n",
              "                                   role=\"tab\" data-toggle=\"tab\">Extreme Values</a></li>\n",
              "\n",
              "    </ul>\n",
              "\n",
              "    <div class=\"tab-content\">\n",
              "        <div role=\"tabpanel\" class=\"tab-pane active row\" id=\"quantiles-1743981157564621103\">\n",
              "            <div class=\"col-md-4 col-md-offset-1\">\n",
              "                <p class=\"h4\">Quantile statistics</p>\n",
              "                <table class=\"stats indent\">\n",
              "                    <tr>\n",
              "                        <th>Minimum</th>\n",
              "                        <td>0</td>\n",
              "                    </tr>\n",
              "                    <tr>\n",
              "                        <th>5-th percentile</th>\n",
              "                        <td>322.05</td>\n",
              "                    </tr>\n",
              "                    <tr>\n",
              "                        <th>Q1</th>\n",
              "                        <td>1606.2</td>\n",
              "                    </tr>\n",
              "                    <tr>\n",
              "                        <th>Median</th>\n",
              "                        <td>3216.5</td>\n",
              "                    </tr>\n",
              "                    <tr>\n",
              "                        <th>Q3</th>\n",
              "                        <td>4844.8</td>\n",
              "                    </tr>\n",
              "                    <tr>\n",
              "                        <th>95-th percentile</th>\n",
              "                        <td>6131.9</td>\n",
              "                    </tr>\n",
              "                    <tr>\n",
              "                        <th>Maximum</th>\n",
              "                        <td>6453</td>\n",
              "                    </tr>\n",
              "                    <tr>\n",
              "                        <th>Range</th>\n",
              "                        <td>6453</td>\n",
              "                    </tr>\n",
              "                    <tr>\n",
              "                        <th>Interquartile range</th>\n",
              "                        <td>3238.5</td>\n",
              "                    </tr>\n",
              "                </table>\n",
              "            </div>\n",
              "            <div class=\"col-md-4 col-md-offset-2\">\n",
              "                <p class=\"h4\">Descriptive statistics</p>\n",
              "                <table class=\"stats indent\">\n",
              "                    <tr>\n",
              "                        <th>Standard deviation</th>\n",
              "                        <td>1865.6</td>\n",
              "                    </tr>\n",
              "                    <tr>\n",
              "                        <th>Coef of variation</th>\n",
              "                        <td>0.57894</td>\n",
              "                    </tr>\n",
              "                    <tr>\n",
              "                        <th>Kurtosis</th>\n",
              "                        <td>-1.2024</td>\n",
              "                    </tr>\n",
              "                    <tr>\n",
              "                        <th>Mean</th>\n",
              "                        <td>3222.5</td>\n",
              "                    </tr>\n",
              "                    <tr>\n",
              "                        <th>MAD</th>\n",
              "                        <td>1615.7</td>\n",
              "                    </tr>\n",
              "                    <tr class=\"\">\n",
              "                        <th>Skewness</th>\n",
              "                        <td>0.0056032</td>\n",
              "                    </tr>\n",
              "                    <tr>\n",
              "                        <th>Sum</th>\n",
              "                        <td>20694578</td>\n",
              "                    </tr>\n",
              "                    <tr>\n",
              "                        <th>Variance</th>\n",
              "                        <td>3480500</td>\n",
              "                    </tr>\n",
              "                    <tr>\n",
              "                        <th>Memory size</th>\n",
              "                        <td>50.3 KiB</td>\n",
              "                    </tr>\n",
              "                </table>\n",
              "            </div>\n",
              "        </div>\n",
              "        <div role=\"tabpanel\" class=\"tab-pane col-md-8 col-md-offset-2\" id=\"histogram-1743981157564621103\">\n",
              "            <img src=\"data:image/png;base64,iVBORw0KGgoAAAANSUhEUgAAAlgAAAGQCAYAAAByNR6YAAAABHNCSVQICAgIfAhkiAAAAAlwSFlzAAAPYQAAD2EBqD%2BnaQAAADh0RVh0U29mdHdhcmUAbWF0cGxvdGxpYiB2ZXJzaW9uMy4xLjIsIGh0dHA6Ly9tYXRwbG90bGliLm9yZy8li6FKAAAgAElEQVR4nO3df1jUZaL//xc4gUcRhBQ9az9wU0kEUfxBkYViSenqKqFI2yk3NTXSg%2Bmurj%2B2XDtqq56%2BrXY8sl21kXUiOq2/SvOUxtZGW1tagOYm6qYsBiGjokAK9%2BePvk47oYly6wzD83FdXNd23zNv7ve97s6z98y89TPGGAEAAMAaf08vAAAAwNcQWAAAAJYRWAAAAJYRWAAAAJYRWAAAAJYRWAAAAJYRWAAAAJYRWAAAAJYRWAAAAJYRWAAAAJYRWAAAAJYRWAAAAJYRWAAAAJYRWAAAAJYRWAAAAJYRWAAAAJYRWAAAAJYRWAAAAJYRWAAAAJYRWAAAAJYRWAAAAJYRWAAAAJYRWAAAAJYRWAAAAJYRWAAAAJYRWAAAAJYRWAAAAJYRWAAAAJYRWAAAAJYRWAAAAJYRWAAAAJYRWAAAAJYRWAAAAJYRWAAAAJYRWAAAAJYRWAAAAJYRWAAAAJYRWAAAAJYRWAAAAJY5PL2AlqK8/IT1Y/r7%2ByksrK2OHj2p%2Bnpj/fjNCXvhjv1wx358h71wx36488X96NixnUd%2BL1ewmjF/fz/5%2BfnJ39/P00vxOPbCHfvhjv34Dnvhjv1wx37YQ2ABAABYRmABAABYRmABAABYRmABAABYRmABAABYRmABAABYRmABAABYRmABAABYRmABAABYRmABAABYRmABAABYRmABAABYRmABAABY5vD0AgDYcdf/92dPL6HRtmTe4ukl%2BDT%2BLOAs/ix4DoHVzPWfv9XTSwCAFqM5BQs8i7cIAQAALOMKFoArrrldBfC1ty4AXH4EFgBcQHMLQgCex1uEAAAAlhFYAAAAlhFYAAAAlhFYAAAAlhFYAAAAlvEtQgCAx/ANTfgqrmABAABYRmABAABYRmABAABYRmABAABYRmABAABYRmABAABY5tOBtWbNGg0aNEh9%2BvTRhAkTdPjwYUlSfn6%2BUlNTFRcXpxEjRmjjxo1uz8vOzlZycrLi4uKUnp6uwsJCTywfAAA0Uz4bWC%2B%2B%2BKI2btyo7Oxsvffee%2BrWrZv%2B8Ic/qKysTA899JDGjx%2Bv/Px8zZ8/XwsXLlRBQYEkafv27Vq1apV%2B%2B9vf6v3339eQIUM0depUnTp1ysNnBAAAmgufDaxnn31WM2fO1I9//GMFBQVpwYIFWrBggTZt2qSIiAilpqYqMDBQCQkJSkpKUm5uriQpJydHKSkpio2NVevWrTVp0iRJ0o4dOzx5OgAAoBnxycD66quvdPjwYR07dkzDhw9XfHy8ZsyYoaNHj6qoqEhRUVFuj4%2BKinK9Dfj9eX9/f/Xs2dN1hQsAAOBCfPKvyjly5IgkaevWrXruuedkjNGMGTO0YMEC1dTUqFOnTm6Pb9%2B%2BvSorKyVJTqdTISEhbvMhISGu%2BcYoKytTeXm525jD0Ubh4eGXcjrn1aqVT/YxAKAFcjh86zXNJwPLGCNJmjRpkiumpk%2BfrsmTJyshIaHRz79UOTk5Wr16tdtYRkaGZsyY0aTjAgDgq0JD23p6CVb5ZGB16NBBkhQcHOwa69Kli4wxOn36tJxOp9vjKysrFRYWJkkKDQ1tMO90OtW9e/dG//60tDQlJSW5jTkcbVRZefKizuNCuIIFAPAVtl8jz/JUuPlkYHXu3FlBQUHas2ePevXqJUkqKSnRVVddpcTERG3YsMHt8YWFhYqNjZUkRUdHq6ioSGPGjJEk1dXVaffu3UpNTW307w8PD2/wdmB5%2BQmdOVPflNMCAMBn%2BdprpE9eAnE4HEpNTdV///d/6%2B9//7sqKir09NNPa%2BTIkRozZoxKSkqUm5ur2tpa5eXlKS8vT%2BPGjZMkpaena/369dq1a5eqq6u1Zs0aBQQEaPDgwZ49KQAA0Gz45BUsSZo1a5a%2B%2BeYbjR07VqdPn1ZycrIWLFigtm3bau3atXr88ce1aNEidenSRcuXL9eNN94oSbrtttv0yCOPKDMzUxUVFYqJiVFWVpZat27t4TMCAADNhZ9p6ie60Sjl5SesH9Ph8NcdK961flwAAK60LZm3XJbjduzY7rIc90J88i1CAAAATyKwAAAALCOwAAAALCOwAAAALCOwAAAALCOwAAAALCOwAAAALCOwAAAALCOwAAAALCOwAAAALCOwAAAALCOwAAAALCOwAAAALCOwAAAALCOwAAAALCOwAAAALCOwAAAALCOwAAAALCOwAAAALCOwAAAALCOwAAAALCOwAAAALCOwAAAALCOwAAAALCOwAAAALCOwAAAALCOwAAAALCOwAAAALCOwAAAALCOwAAAALCOwAAAALCOwAAAALCOwAAAALCOwAAAALCOwAAAALCOwAAAALCOwAAAALPPZwIqMjFR0dLRiYmJcP4sXL5Yk5efnKzU1VXFxcRoxYoQ2btzo9tzs7GwlJycrLi5O6enpKiws9MQpAACAZsrh6QVcTlu3btU111zjNlZWVqaHHnpI8%2BfP18iRI/Xxxx9r2rRp6tq1q2JiYrR9%2B3atWrVKzzzzjCIjI5Wdna2pU6dq27ZtatOmjYfOBAAANCc%2BewXrfDZt2qSIiAilpqYqMDBQCQkJSkpKUm5uriQpJydHKSkpio2NVevWrTVp0iRJ0o4dOzy5bAAA0Iz49BWslStXaufOnaqqqtJdd92luXPnqqioSFFRUW6Pi4qK0pYtWyRJRUVFGj58uGvO399fPXv2VEFBgUaMGNGo31tWVqby8nK3MYejjcLDw5t4Ru5atWpxfQwA8FEOh2%2B9pvlsYPXp00cJCQl64okndOjQIWVmZmrRokVyOp3q1KmT22Pbt2%2BvyspKSZLT6VRISIjbfEhIiGu%2BMXJycrR69Wq3sYyMDM2YMeMSzwYAAN8WGtrW00uwymcDKycnx/Wfb7jhBs2ePVvTpk1Tv379LvhcY0yTfndaWpqSkpLcxhyONqqsPNmk434fV7AAAL7C9mvkWZ4KN58NrO%2B75pprVFdXJ39/fzmdTre5yspKhYWFSZJCQ0MbzDudTnXv3r3Rvys8PLzB24Hl5Sd05kz9Ja4eAADf5muvkT55CWT37t1atmyZ21hxcbECAgKUmJjY4LYLhYWFio2NlSRFR0erqKjINVdXV6fdu3e75gEAAC7EJwPr6quvVk5OjrKysvTNN9/owIEDeuqpp5SWlqaf/vSnKikpUW5urmpra5WXl6e8vDyNGzdOkpSenq7169dr165dqq6u1po1axQQEKDBgwd79qQAAECz4Wea%2BoEjL/XRRx9p5cqV2rt3rwICAjRmzBjNnDlTgYGB%2Buijj/T444%2BruLhYXbp00axZszRs2DDXc1966SVlZWWpoqJCMTExeuyxx9SjR48mrae8/ERTT6kBh8Nfd6x41/pxAQC40rZk3nJZjtuxY7vLctwL8dnA8jYEFgAA5%2BdrgeWTbxECAAB4EoEFAABgGYEFAABgGYEFAABgGYEFAABgGYEFAABgGYEFAABgGYEFAABgGYEFAABgGYEFAABgGYEFAABgGYEFAABgGYEFAABgGYEFAABgGYEFAABgGYEFAABgGYEFAABgGYEFAABgGYEFAABgGYEFAABgGYEFAABgGYEFAABgGYEFAABgGYEFAABgGYEFAABgGYEFAABgGYEFAABgGYEFAABgGYEFAABgGYEFAABgGYEFAABgGYEFAABgGYEFAABgGYEFAABgGYEFAABgGYEFAABgmdcFVlJSklavXq3S0lJrx1yyZIkiIyNd/5yfn6/U1FTFxcVpxIgR2rhxo9vjs7OzlZycrLi4OKWnp6uwsNDaWgAAgO/zusC6%2B%2B679cYbb%2Bj222/XpEmTtG3bNp05c%2BaSj7dnzx5t2LDB9c9lZWV66KGHNH78eOXn52v%2B/PlauHChCgoKJEnbt2/XqlWr9Nvf/lbvv/%2B%2BhgwZoqlTp%2BrUqVNNPjcAANAyeF1gZWRk6I033tArr7yi7t27a8mSJUpMTNTy5ct14MCBizpWfX29Hn30UU2YMME1tmnTJkVERCg1NVWBgYFKSEhQUlKScnNzJUk5OTlKSUlRbGysWrdurUmTJkmSduzYYe0cAQCAb/O6wDqrV69emjNnjnbs2KF58%2BbplVde0fDhwzVx4kR99tlnjTrGyy%2B/rMDAQI0cOdI1VlRUpKioKLfHRUVFud4G/P68v7%2B/evbs6brC1RhlZWUqKipy%2Bzl69Gs5HP5Wf1q18tr/%2BgAAuCi2XyPP/njsfDz2my/g9OnT%2Br//%2Bz%2B99tpr%2BuCDDxQREaHp06errKxMEyZM0KJFi9zC6fu%2B/vprrVq1Si%2B88ILbuNPpVKdOndzG2rdvr8rKStd8SEiI23xISIhrvjFycnK0evVqt7GMjAzNmDGj0ccAAKAlCQ1t6%2BklWOV1gVVcXKxXX31V69ev18mTJ5WcnKznn39e/fr1cz1mwIABeuyxx34wsJYuXaqUlBR169ZNhw8fvqg1GGMuef2SlJaWpqSkJLcxh6ONKitPNum438cVLACAr7D9GnmWp8LN6wJrxIgR6tq1q6ZMmaLRo0erffv2DR6TmJioo0ePnvcY%2Bfn52rlzpzZv3txgLjQ0VE6n022ssrJSYWFh5513Op3q3r17o88hPDxc4eHhbmPl5Sd05kx9o48BAEBL4muvkV4XWNnZ2Ro4cOAFH/fpp5%2Bed27jxo2qqKjQkCFDJH13RSo%2BPl4PPPBAg/AqLCxUbGysJCk6OlpFRUUaM2aMJKmurk67d%2B9WamrqJZ0PAABoebzuPabIyEhNnTpVb731lmvsD3/4gyZPntzgytL5zJ07V2%2B%2B%2BaY2bNigDRs2KCsrS5K0YcMGjRw5UiUlJcrNzVVtba3y8vKUl5encePGSZLS09O1fv167dq1S9XV1VqzZo0CAgI0ePBg6%2BcKAAB8k9cF1tKlS3XixAl169bNNTZ48GDV19dr2bJljTpGSEiIOnfu7Prp0KGDJKlz58760Y9%2BpLVr12rdunXq16%2BflixZouXLl%2BvGG2%2BUJN1222165JFHlJmZqYEDB%2Br9999XVlaWWrdubf9kAQCAT/IzTf1Et2WDBg3Spk2bFBoa6jZeWVmpn/zkJ/rzn//soZU1TXn5CevHdDj8dceKd60fFwCAK21L5i2X5bgdO7a7LMe9EK%2B7glVTU6PAwMAG4/7%2B/qqurvbAigAAAC6O1wXWgAEDtGzZMh07dsw19tVXX2nRokVut2oAAADwVl73LcJ58%2BbpgQce0M0336ygoCDV19fr5MmTuvbaaxvcNBQAAMAbeV1gXXvttXr99df1pz/9SV9%2B%2BaX8/f3VtWtXDRo0SK1atfL08gAAAC7I6wJLkgICAnT77bd7ehkAAACXxOsC69ChQ1q5cqW%2B%2BOIL1dTUNJh/%2B%2B23PbAqAACAxvO6wJo3b57Kyso0aNAgtWnTxtPLAQAAuGheF1iFhYV6%2B%2B23XX83IAAAQHPjdbdpuPrqq7lyBQAAmjWvC6wpU6Zo9erV8rIbzAMAADSa171F%2BKc//UmffPKJXnvtNV1zzTXy93dvwJdfftlDKwMAAGgcrwusoKAg3XbbbZ5eBgAAwCXzusBaunSpp5cAAADQJF73GSxJ2r9/v1atWqVf/epXrrGdO3d6cEUAAACN53WBlZ%2Bfr1GjRmnbtm3avHmzpG9vPnrfffdxk1EAANAseF1gPfnkk/rFL36hTZs2yc/PT9K3fz/hsmXL9PTTT3t4dQAAABfmdYH1t7/9Tenp6ZLkCixJuvPOO1VcXOypZQEAADSa1wVWu3btzvl3EJaVlSkgIMADKwIAALg4XhdYcXFxWrJkiaqqqlxjBw4c0Jw5c3TzzTd7cGUAAACN43W3afjVr36l%2B%2B%2B/X/Hx8aqrq1NcXJyqq6vVvXt3LVu2zNPLAwAAuCCvC6zOnTtr8%2BbNysvL04EDB9S6dWt17dpVt9xyi9tnsgAAALyV1wWWJF111VW6/fbbPb0MAACAS%2BJ1gZWUlPSDV6q4FxYAAPB2XhdYw4cPdwusuro6HThwQAUFBbr//vs9uDIAAIDG8brAmj179jnH33zzTf3lL3%2B5wqsBAAC4eF53m4bzuf322/X66697ehkAAAAX1GwCa/fu3TLGeHoZAAAAF%2BR1bxGOHz%2B%2BwVh1dbWKi4s1bNgwD6wIAADg4nhdYEVERDT4FmFgYKBSU1M1duxYD60KAACg8bwusLhbOwAAaO68LrDWr1/f6MeOHj36Mq4EAADg0nhdYM2fP1/19fUNPtDu5%2BfnNubn50dgAQAAr%2BR1gfXMM8/o2Wef1dSpUxUZGSljjPbu3avf//73uvfeexUfH%2B/pJQIAAPwgrwusZcuWKSsrS506dXKN9e/fX9dee60mTpyozZs3e3B1AAAAF%2BZ198E6ePCgQkJCGowHBwerpKTEAysCAAC4OF4XWF26dNGyZctUWVnpGjt%2B/LhWrlyp6667zoMrAwAAaByvC6x58%2BZpy5YtSkhIUP/%2B/TVw4EDddNNNeu211zR37txGH%2Bfzzz/X/fffr379%2BikhIUGZmZkqLy%2BXJOXn5ys1NVVxcXEaMWKENm7c6Pbc7OxsJScnKy4uTunp6SosLLR6jgAAwLf5GS/8%2B2eqq6uVl5enI0eOyBijTp066dZbb1W7du0a9fxvvvlGgwcP1s9%2B9jNNnjxZVVVV%2Bvd//3cFBwfr0UcfVXJysubPn6%2BRI0fq448/1rRp07Ru3TrFxMRo%2B/btmjNnjp555hlFRkYqOztb2dnZ2rZtm9q0aXPJ51RefuKSn3s%2BDoe/7ljxrvXjAgBwpW3JvOWyHLdjx8a1g21edwVLkv7lX/5FQ4cO1dChQ/Xzn/9cw4cPb3RcSd8G2syZMzVlyhQFBAQoLCxMd9xxh7744gtt2rRJERERSk1NVWBgoBISEpSUlKTc3FxJUk5OjlJSUhQbG6vWrVtr0qRJkqQdO3ZclnMFAAC%2Bx%2Bu%2BRVhTU6NHH31Ur7/%2BuiSpsLBQx48f1yOPPKL//M//VHBw8AWPERIS4vbX6uzfv19//OMfddddd6moqEhRUVFuj4%2BKitKWLVskSUVFRRo%2BfLhrzt/fXz179lRBQYFGjBjRqHMoKytzvR15lsPRRuHh4Y16fmO1auWVfQwAwEVzOHzrNc3rAmv58uXas2ePVqxYoV/%2B8peu8bq6Oq1YsUK/%2Bc1vGn2skpISJScn68yZMxo3bpxmzJihyZMnu90CQpLat2/v%2BlC90%2Bls8C3GkJAQtw/dX0hOTo5Wr17tNpaRkaEZM2Y0%2BhgAALQkoaFtPb0Eq7wusN58802tW7dOERERmjNnjqRvb9GwdOlSjR49%2BqICq0uXLiooKNDf//53/frXv3YLth/S1I%2BlpaWlKSkpyW3M4WijysqTTTru93EFCwDgK2y/Rp7lqXDzusA6efKkIiIiGoyHhYXp1KlTF308Pz8/RUREaObMmRo/frwSExPldDrdHlNZWamwsDBJUmhoaIN5p9Op7t27N/p3hoeHN3g7sLz8hM6cqb/o9QMA0BL42muk110Cue666/SXv/xFkvuVpK1bt%2BpHP/pRo46Rn5%2Bv5ORk1dd/91%2BWv/%2B3p9q7d%2B8Gt10oLCxUbGysJCk6OlpFRUWuubq6Ou3evds1DwAAcCFeF1j33HOPpk%2BfrieeeEL19fV67rnnNGvWLM2bN0/3339/o44RHR2tqqoqLV%2B%2BXNXV1Tp69KhWrVql/v37Kz09XSUlJcrNzVVtba3y8vKUl5encePGSZLS09O1fv167dq1S9XV1VqzZo0CAgI0ePDgy3jWAADAl3jlfbD%2B93//V%2BvWrdP%2B/fvVunVrde3aVRMmTNCdd97Z6GPs3btXjz/%2BuD777DO1adNGN910k%2BbOnatOnTrpo48%2B0uOPP67i4mJ16dJFs2bN0rBhw1zPfemll5SVlaWKigrFxMToscceU48ePZp0TtwHCwCA8/O1%2B2B5XWAdPXrU9XkoX0JgAQBwfr4WWF73FuHQoUOb/C0%2BAAAAT/K6wIqPj3fd9BMAAKA58rrbNPzrv/6r/uM//kNZWVm67rrrdNVVV7nNr1y50kMrAwAAaByvC6x9%2B/bpxz/%2BsSRd1N3TAQAAvIXXBNbMmTP15JNP6oUXXnCNPf3008rIyPDgqgAAAC6e13wGa/v27Q3GsrKyPLASAACApvGawDrXNwf5NiEAAGiOvCaw/Pz8GjUGAADg7bwmsAAAAHwFgQUAAGCZ13yL8PTp05o1a9YFx7gPFgAA8HZeE1j9%2BvVTWVnZBccAAAC8ndcE1j/f/woAAKA54zNYAAAAlhFYAAAAlhFYAAAAlhFYAAAAlhFYAAAAlhFYAAAAlhFYAAAAlhFYAAAAlhFYAAAAlhFYAAAAlhFYAAAAlhFYAAAAlhFYAAAAlhFYAAAAlhFYAAAAlhFYAAAAlhFYAAAAlhFYAAAAlhFYAAAAlhFYAAAAlhFYAAAAlhFYAAAAlhFYAAAAlvlsYJWUlCgjI0Px8fFKSEjQ3Llzdfz4cUnSnj17dO%2B996pfv34aNmyYnn32WbfnvvHGGxo5cqT69u2rlJQUvffee544BQAA0Ez5bGBNnTpVwcHB2r59u1577TV98cUXeuKJJ1RTU6MpU6bopptu0rvvvqsnn3xSa9eu1bZt2yR9G19z5szR7Nmz9cEHH2jChAl6%2BOGHdeTIEQ%2BfEQAAaC58MrCOHz%2Bu6OhozZo1S23btlXnzp01ZswY/fWvf9U777yj06dPa9q0aWrTpo169eqlsWPHKicnR5KUm5urxMREJSYmKjAwUKNGjVKPHj20ceNGD58VAABoLnwysIKDg7V06VJ16NDBNVZaWqrw8HAVFRUpMjJSrVq1cs1FRUWpsLBQklRUVKSoqCi340VFRamgoODKLB4AADR7Dk8v4EooKCjQunXrtGbNGm3ZskXBwcFu8%2B3bt5fT6VR9fb2cTqdCQkLc5kNCQrRv375G/76ysjKVl5e7jTkcbRQeHn7pJ3EOrVr5ZB8DAFogh8O3XtN8PrA%2B/vhjTZs2TbNmzVJCQoK2bNlyzsf5%2Bfm5/rMxpkm/MycnR6tXr3Yby8jI0IwZM5p0XAAAfFVoaFtPL8Eqnw6s7du36xe/%2BIUWLlyo0aNHS5LCwsJ08OBBt8c5nU61b99e/v7%2BCg0NldPpbDAfFhbW6N%2BblpampKQktzGHo40qK09e2omcB1ewAAC%2BwvZr5FmeCjefDaxPPvlEc%2BbM0VNPPaVBgwa5xqOjo/U///M/OnPmjByOb0%2B/oKBAsbGxrvmzn8c6q6CgQCNGjGj07w4PD2/wdmB5%2BQmdOVN/qacDAIBP87XXSJ%2B8BHLmzBktWLBAs2fPdosrSUpMTFRQUJDWrFmj6upqffrpp3r11VeVnp4uSRo3bpzef/99vfPOO6qtrdWrr76qgwcPatSoUZ44FQAA0Az5maZ%2B4MgL/fWvf9XPfvYzBQQENJjbunWrTp48qUcffVSFhYXq0KGDJk%2BerHvuucf1mG3btmnlypUqKSlRt27dNH/%2BfA0YMKBJayovP9Gk55%2BLw%2BGvO1a8a/24AABcaVsyb7ksx%2B3Ysd1lOe6F%2BGRgeSMCCwCA8/O1wPLJtwgBAAA8icACAACwjMACAACwjMACAACwjMACAACwjMACAACwjMACAACwjMACAACwjMACAACwjMACAACwjMACAACwjMACAACwjMACAACwjMACAACwjMACAACwjMACAACwjMACAACwjMACAACwjMACAACwjMACAACwjMACAACwjMACAACwjMACAACwjMACAACwjMACAACwjMACAACwjMACAACwjMACAACwjMACAACwjMACAACwjMACAACwjMACAACwjMACAACwjMACAACwjMACAACwjMACAACwzGcD691331VCQoJmzpzZYO6NN97QyJEj1bdvX6WkpOi9995zzdXX1%2BvJJ5/U0KFDNWDAAE2cOFGHDh26kksHAADNnE8G1u9//3s9/vjjuv766xvM7dmzR3PmzNHs2bP1wQcfaMKECXr44Yd15MgRSdKLL76oTZs2KSsrSzt27FBERIQyMjJkjLnSpwEAAJopnwyswMBAvfrqq%2BcMrNzcXCUmJioxMVGBgYEaNWqUevTooY0bN0qScnJyNGHCBN1www0KCgrSzJkzVVxcrE8//fRKnwYAAGimfDKw7rvvPrVr1%2B6cc0VFRYqKinIbi4qKUkFBgWpqarRv3z63%2BaCgIF1//fUqKCi4rGsGAAC%2Bw%2BHpBVxpTqdTISEhbmMhISHat2%2Bfjh07JmPMOecrKysb/TvKyspUXl7uNuZwtFF4ePilL/wcWrXyyT4GALRADodvvaa1uMCSdMHPUzX181Y5OTlavXq121hGRoZmzJjRpOMCAOCrQkPbenoJVrW4wAoNDZXT6XQbczqdCgsLU/v27eXv73/O%2BauvvrrRvyMtLU1JSUluYw5HG1VWnrz0hZ8DV7AAAL7C9mvkWZ4KtxYXWNHR0SosLHQbKygo0IgRIxQYGKju3burqKhIAwcOlCQdP35cX375pXr37t3o3xEeHt7g7cDy8hM6c6a%2B6ScAAIAP8rXXyBZ3CWTcuHF6//339c4776i2tlavvvqqDh48qFGjRkmS0tPTlZ2dreLiYlVVVWnFihXq2bOnYmJiPLxyAADQXPjkFayzMXTmzBlJ0ltvvSXp2ytVPXr00IoVK7R06VKVlJSoW7duWrt2rTp27ChJGj9%2BvMrLy/Vv//ZvOnnypOLj4xt8ngoAAOCH%2BBnuoHlFlJefsH5Mh8Nfd6x41/pxAQC40rZk3nJZjtux47lv23S5tbi3CAEAAC43AgsAAMAyAgsAAMAyAgsAAMAyAgsAAMAyAgsAAMAyAgsAAMAyAgsAAMAyAgsAAMAyAgsAAMAyAgsAAMAyAgsAAMAyAgsAAMAyAgsAAMAyAgsAAMAyAgsAAMAyAgsAAMAyAgsAAMAyAgsAAMAyAgsAAMAyAgsAAMAyAgsAAMAyAgsAAMAyAgsAAMAyAgsAAFxrs%2BkAAA1eSURBVMAyAgsAAMAyAgsAAMAyAgsAAMAyAgsAAMAyAgsAAMAyAgsAAMAyAgsAAMAyAgsAAMAyAgsAAMAyAgsAAMAyAgsAAMAyAgsAAMAyAuscSkpK9OCDDyo%2BPl5DhgzR8uXLVV9f7%2BllAQCAZsLh6QV4o%2BnTp6tXr1566623VFFRoSlTpqhDhw76%2Bc9/7umlAQCAZoArWN9TUFCgzz//XLNnz1a7du0UERGhCRMmKCcnx9NLAwAAzQRXsL6nqKhIXbp0UUhIiGusV69eOnDggKqqqhQUFHTBY5SVlam8vNxtzOFoo/DwcKtrbdWKPgYA%2BAaHw7de0wis73E6nQoODnYbOxtblZWVjQqsnJwcrV692m3s4Ycf1vTp0%2B0tVN%2BG3P2dv1BaWpr1eGtuysrKlJOTw178/9gPd%2BzHd9gLd%2ByHO/bDHt/KRUuMMU16flpaml577TW3n7S0NEur%2B055eblWr17d4GpZS8ReuGM/3LEf32Ev3LEf7tgPe7iC9T1hYWFyOp1uY06nU35%2BfgoLC2vUMcLDwyl/AABaMK5gfU90dLRKS0t19OhR11hBQYG6deumtm3benBlAACguSCwvicqKkoxMTFauXKlqqqqVFxcrOeee07p6emeXhoAAGgmWj322GOPeXoR3ubWW2/V5s2btXjxYr3%2B%2ButKTU3VxIkT5efn5%2BmlNdC2bVsNHDiQq2tiL76P/XDHfnyHvXDHfrhjP%2BzwM039RDcAAADc8BYhAACAZQQWAACAZQQWAACAZQQWAACAZQQWAACAZQQWAACAZQQWAACAZQQWAACAZQQWAACAZQRWM1RSUqIHH3xQ8fHxGjJkiJYvX676%2BnpPL8uqd999VwkJCZo5c2aDuTfeeEMjR45U3759lZKSovfee881V19fryeffFJDhw7VgAEDNHHiRB06dMg173Q6lZmZqYSEBA0aNEjz589XTU3NFTmnS1VSUqKMjAzFx8crISFBc%2BfO1fHjxyVJe/bs0b333qt%2B/fpp2LBhevbZZ92e25S98laff/657r//fvXr108JCQnKzMxUeXm5JCk/P1%2BpqamKi4vTiBEjtHHjRrfnZmdnKzk5WXFxcUpPT1dhYaFrrra2Vr/%2B9a912223KT4%2BXjNmzFBlZeUVPbemWLJkiSIjI13/3BL3IjIyUtHR0YqJiXH9LF68WFLL3A9JWrNmjQYNGqQ%2BffpowoQJOnz4sKSWux9XlEGzM2bMGLNgwQJz/Phxc%2BDAATNs2DDz7LPPenpZ1mRlZZlhw4aZ8ePHm8zMTLe53bt3m%2BjoaPPOO%2B%2BYmpoas2HDBhMbG2tKS0uNMcZkZ2ebIUOGmH379pkTJ06Y3/zmN2bkyJGmvr7eGGPMww8/bB588EFTUVFhjhw5YtLS0szixYuv%2BDlejJ/85Cdm7ty5pqqqypSWlpqUlBQzb948U11dbW699VazatUqc/LkSVNYWGgGDhxo3nzzTWNM0/fKG9XW1pqbb77ZrF692tTW1pqKigpz7733moceesh89dVXpk%2BfPiY3N9fU1NSYP//5z6Z3797ms88%2BM8YY8/bbb5v%2B/fubXbt2merqarN27Vpzyy23mJMnTxpjjFm6dKlJSUkx//jHP0xlZaV5%2BOGHzZQpUzx5uo22e/duM3DgQNOjRw9jjGmxe9GjRw9z6NChBuMtdT/WrVtn7rzzTlNcXGxOnDhhFi9ebBYvXtxi9%2BNKI7Camc8%2B%2B8z07NnTOJ1O19hLL71kkpOTPbgqu55//nlz/PhxM2fOnAaBtWjRIpORkeE2NnbsWLN27VpjjDEjRowwzz//vGvuxIkTJioqyuzcudOUl5ebG2%2B80ezZs8c1n5eXZ/r06WO%2B%2Beaby3hGl%2B7YsWNm7ty5pry83DX2wgsvmGHDhpktW7aYm266yZw5c8Y1t3z5cvPAAw8YY5q2V97K6XSaV155xZw%2Bfdo19vzzz5s77rjDPPPMM2b06NFuj8/MzDQLFy40xhjz4IMPmiVLlrjm6urqzC233GI2b95sTp8%2Bbfr162feeust1/y%2BfftMZGSkOXLkyGU%2Bq6apq6szY8eONf/1X//lCqyWuhfnC6yWuh9JSUmuf%2BH6Zy11P6403iJsZoqKitSlSxeFhIS4xnr16qUDBw6oqqrKgyuz57777lO7du3OOVdUVKSoqCi3saioKBUUFKimpkb79u1zmw8KCtL111%2BvgoIC7dmzR61atXJ7G6VXr146deqU9u/ff3lOpomCg4O1dOlSdejQwTVWWlqq8PBwFRUVKTIyUq1atXLNRUVFuS7lN2WvvFVISIjGjh0rh8MhSdq/f7/%2B%2BMc/6q677jrv%2BZ5vP/z9/dWzZ08VFBToyy%2B/1IkTJ9SrVy/X/A033KDWrVurqKjoCpzZpXv55ZcVGBiokSNHusZa6l5I0sqVKzV48GD1799fCxcu1MmTJ1vkfnz11Vc6fPiwjh07puHDh7veyjt69GiL3A9PILCaGafTqeDgYLexs7HVEt4DdzqdbnEpfXv%2BlZWVOnbsmIwx5513Op0KCgqSn5%2Bf25zUfPauoKBA69at07Rp0875Z6F9%2B/ZyOp2qr69v0l55u5KSEkVHR2v48OGKiYnRjBkzzrsfZ8/nh/bD6XRKUoPnBwcHe/V%2BfP3111q1apUeffRRt/GWuBeS1KdPHyUkJGjbtm3KycnRrl27tGjRoha5H0eOHJEkbd26Vc8995w2bNigI0eOaMGCBS1yPzyBwGqGjDGeXoJHXej8f2i%2BOe/dxx9/rIkTJ2rWrFlKSEg47%2BP%2BOSCbslferEuXLiooKNDWrVt18OBB/fKXv2zU83xtP5YuXaqUlBR169btop/ra3shSTk5ORo7dqwCAgJ0ww03aPbs2dq8ebNOnz59wef62n6cXe%2BkSZPUqVMnde7cWdOnT9f27dsv6vmXOg8Cq9kJCwtz/RvEWU6nU35%2BfgoLC/PQqq6c0NDQc55/WFiY2rdvL39//3POX3311QoLC1NVVZXq6urc5iTp6quvvvyLb4Lt27frwQcf1Lx583TfffdJ%2BvbPwvf/jdHpdLr2oSl71Rz4%2BfkpIiJCM2fO1ObNm%2BVwOBqcT2Vlpet/Fz%2B0H2cf8/35Y8eOee1%2B5Ofna%2BfOncrIyGgwd65z9eW9OJ9rrrlGdXV15/yz7uv7cfZjBf98palLly4yxuj06dMtbj88gcBqZqKjo1VaWqqjR4%2B6xgoKCtStWze1bdvWgyu7MqKjo92%2BLix9e/6xsbEKDAxU9%2B7d3T4HcPz4cX355Zfq3bu3evbsKWOMPv/8c7fnBgcHq2vXrlfsHC7WJ598ojlz5uipp57S6NGjXePR0dHau3evzpw54xo7uxdn5y91r7xVfn6%2BkpOT3W5L4u//7f%2BN9e7du8H5FhYWuu3HP59vXV2ddu/erdjYWF177bUKCQlxm//b3/6mb775RtHR0ZfzlC7Zxo0bVVFRoSFDhig%2BPl4pKSmSpPj4ePXo0aNF7YUk7d69W8uWLXMbKy4uVkBAgBITE1vcfnTu3FlBQUHas2ePa6ykpERXXXVVi9wPj7jCH6qHBWPHjjXz5s0zJ06cMPv27TNJSUlm3bp1nl6Wdef6FuHevXtNTEyM2bFjh6mpqTG5ubmmb9%2B%2BpqyszBjz7TcqBw8e7Lr1wMKFC83dd9/ten5mZqaZNGmSqaioMKWlpebuu%2B82y5Ytu6LndTFOnz5t7rrrLvPyyy83mKutrTVDhgwxv/vd78ypU6fMrl27TP/%2B/c2OHTuMMU3fK290/Phxk5CQYJYtW2ZOnTplKioqzMSJE80999xjvv76a9O3b1/zyiuvmJqaGvPOO%2B%2BY3r17u741mpeXZ/r162d27txpTp06ZVatWmUSExNNdXW1Mebbb2COGTPG/OMf/zBHjx41U6ZMMdOnT/fk6f4gp9NpSktLXT87d%2B40PXr0MKWlpaakpKRF7YUxxhw5csT06dPHrF271tTW1pr9%2B/eb4cOHm8WLF7e4PxtnLVmyxAwdOtQcPHjQfP311yYtLc3MnTu3xe7HlUZgNUOlpaVm0qRJpnfv3iYhIcH87ne/8%2Bp7F12s6OhoEx0dbW688UZz4403uv75rDfffNMMGzbM9OrVy/z0pz81H374oWuuvr7ePPXUU%2Bbmm282vXv3NpMnT3bd98mYb1%2BgZ86cafr06WMGDBhgFi1aZGpra6/o%2BV2Mjz76yPTo0cO1B//8c/jwYbN3714zfvx4Ex0dbQYPHmxefPFFt%2Bc3Za%2B81eeff27uvfde07t3b3PTTTeZzMxM19fDP/zwQzNq1CjTq1cvM2zYsAZfUX/xxRdNYmKiiY6ONunp6Wbv3r2uudraWvPYY4%2BZAQMGmL59%2B5pHHnnEHD9%2B/IqeW1McOnTIdZsGY1rmXnz44YcmLS3N9OnTxwwcONAsXbrU1NTUuOZa2n7887r79Olj5syZY6qqqowxLXM/rjQ/Y/ikGgAAgE18BgsAAMAyAgsAAMAyAgsAAMAyAgsAAMAyAgsAAMAyAgsAAMAyAgsAAMAyAgsAAMAyAgsAAMAyAgsAAMAyAgsAAMAyAgsAAMAyAgsAAMCy/wdneYpzwSFsCQAAAABJRU5ErkJggg%3D%3D\"/>\n",
              "        </div>\n",
              "        <div role=\"tabpanel\" class=\"tab-pane col-md-12\" id=\"common-1743981157564621103\">\n",
              "            \n",
              "<table class=\"freq table table-hover\">\n",
              "    <thead>\n",
              "    <tr>\n",
              "        <td class=\"fillremaining\">Value</td>\n",
              "        <td class=\"number\">Count</td>\n",
              "        <td class=\"number\">Frequency (%)</td>\n",
              "        <td style=\"min-width:200px\">&nbsp;</td>\n",
              "    </tr>\n",
              "    </thead>\n",
              "    <tr class=\"\">\n",
              "        <td class=\"fillremaining\">2047</td>\n",
              "        <td class=\"number\">1</td>\n",
              "        <td class=\"number\">0.0%</td>\n",
              "        <td>\n",
              "            <div class=\"bar\" style=\"width:1%\">&nbsp;</div>\n",
              "        </td>\n",
              "</tr><tr class=\"\">\n",
              "        <td class=\"fillremaining\">1322</td>\n",
              "        <td class=\"number\">1</td>\n",
              "        <td class=\"number\">0.0%</td>\n",
              "        <td>\n",
              "            <div class=\"bar\" style=\"width:1%\">&nbsp;</div>\n",
              "        </td>\n",
              "</tr><tr class=\"\">\n",
              "        <td class=\"fillremaining\">5392</td>\n",
              "        <td class=\"number\">1</td>\n",
              "        <td class=\"number\">0.0%</td>\n",
              "        <td>\n",
              "            <div class=\"bar\" style=\"width:1%\">&nbsp;</div>\n",
              "        </td>\n",
              "</tr><tr class=\"\">\n",
              "        <td class=\"fillremaining\">1298</td>\n",
              "        <td class=\"number\">1</td>\n",
              "        <td class=\"number\">0.0%</td>\n",
              "        <td>\n",
              "            <div class=\"bar\" style=\"width:1%\">&nbsp;</div>\n",
              "        </td>\n",
              "</tr><tr class=\"\">\n",
              "        <td class=\"fillremaining\">3347</td>\n",
              "        <td class=\"number\">1</td>\n",
              "        <td class=\"number\">0.0%</td>\n",
              "        <td>\n",
              "            <div class=\"bar\" style=\"width:1%\">&nbsp;</div>\n",
              "        </td>\n",
              "</tr><tr class=\"\">\n",
              "        <td class=\"fillremaining\">5400</td>\n",
              "        <td class=\"number\">1</td>\n",
              "        <td class=\"number\">0.0%</td>\n",
              "        <td>\n",
              "            <div class=\"bar\" style=\"width:1%\">&nbsp;</div>\n",
              "        </td>\n",
              "</tr><tr class=\"\">\n",
              "        <td class=\"fillremaining\">1306</td>\n",
              "        <td class=\"number\">1</td>\n",
              "        <td class=\"number\">0.0%</td>\n",
              "        <td>\n",
              "            <div class=\"bar\" style=\"width:1%\">&nbsp;</div>\n",
              "        </td>\n",
              "</tr><tr class=\"\">\n",
              "        <td class=\"fillremaining\">3355</td>\n",
              "        <td class=\"number\">1</td>\n",
              "        <td class=\"number\">0.0%</td>\n",
              "        <td>\n",
              "            <div class=\"bar\" style=\"width:1%\">&nbsp;</div>\n",
              "        </td>\n",
              "</tr><tr class=\"\">\n",
              "        <td class=\"fillremaining\">5408</td>\n",
              "        <td class=\"number\">1</td>\n",
              "        <td class=\"number\">0.0%</td>\n",
              "        <td>\n",
              "            <div class=\"bar\" style=\"width:1%\">&nbsp;</div>\n",
              "        </td>\n",
              "</tr><tr class=\"\">\n",
              "        <td class=\"fillremaining\">1314</td>\n",
              "        <td class=\"number\">1</td>\n",
              "        <td class=\"number\">0.0%</td>\n",
              "        <td>\n",
              "            <div class=\"bar\" style=\"width:1%\">&nbsp;</div>\n",
              "        </td>\n",
              "</tr><tr class=\"other\">\n",
              "        <td class=\"fillremaining\">Other values (6412)</td>\n",
              "        <td class=\"number\">6412</td>\n",
              "        <td class=\"number\">99.8%</td>\n",
              "        <td>\n",
              "            <div class=\"bar\" style=\"width:100%\">&nbsp;</div>\n",
              "        </td>\n",
              "</tr>\n",
              "</table>\n",
              "        </div>\n",
              "        <div role=\"tabpanel\" class=\"tab-pane col-md-12\"  id=\"extreme-1743981157564621103\">\n",
              "            <p class=\"h4\">Minimum 5 values</p>\n",
              "            \n",
              "<table class=\"freq table table-hover\">\n",
              "    <thead>\n",
              "    <tr>\n",
              "        <td class=\"fillremaining\">Value</td>\n",
              "        <td class=\"number\">Count</td>\n",
              "        <td class=\"number\">Frequency (%)</td>\n",
              "        <td style=\"min-width:200px\">&nbsp;</td>\n",
              "    </tr>\n",
              "    </thead>\n",
              "    <tr class=\"\">\n",
              "        <td class=\"fillremaining\">0</td>\n",
              "        <td class=\"number\">1</td>\n",
              "        <td class=\"number\">0.0%</td>\n",
              "        <td>\n",
              "            <div class=\"bar\" style=\"width:100%\">&nbsp;</div>\n",
              "        </td>\n",
              "</tr><tr class=\"\">\n",
              "        <td class=\"fillremaining\">1</td>\n",
              "        <td class=\"number\">1</td>\n",
              "        <td class=\"number\">0.0%</td>\n",
              "        <td>\n",
              "            <div class=\"bar\" style=\"width:100%\">&nbsp;</div>\n",
              "        </td>\n",
              "</tr><tr class=\"\">\n",
              "        <td class=\"fillremaining\">2</td>\n",
              "        <td class=\"number\">1</td>\n",
              "        <td class=\"number\">0.0%</td>\n",
              "        <td>\n",
              "            <div class=\"bar\" style=\"width:100%\">&nbsp;</div>\n",
              "        </td>\n",
              "</tr><tr class=\"\">\n",
              "        <td class=\"fillremaining\">3</td>\n",
              "        <td class=\"number\">1</td>\n",
              "        <td class=\"number\">0.0%</td>\n",
              "        <td>\n",
              "            <div class=\"bar\" style=\"width:100%\">&nbsp;</div>\n",
              "        </td>\n",
              "</tr><tr class=\"\">\n",
              "        <td class=\"fillremaining\">4</td>\n",
              "        <td class=\"number\">1</td>\n",
              "        <td class=\"number\">0.0%</td>\n",
              "        <td>\n",
              "            <div class=\"bar\" style=\"width:100%\">&nbsp;</div>\n",
              "        </td>\n",
              "</tr>\n",
              "</table>\n",
              "            <p class=\"h4\">Maximum 5 values</p>\n",
              "            \n",
              "<table class=\"freq table table-hover\">\n",
              "    <thead>\n",
              "    <tr>\n",
              "        <td class=\"fillremaining\">Value</td>\n",
              "        <td class=\"number\">Count</td>\n",
              "        <td class=\"number\">Frequency (%)</td>\n",
              "        <td style=\"min-width:200px\">&nbsp;</td>\n",
              "    </tr>\n",
              "    </thead>\n",
              "    <tr class=\"\">\n",
              "        <td class=\"fillremaining\">6449</td>\n",
              "        <td class=\"number\">1</td>\n",
              "        <td class=\"number\">0.0%</td>\n",
              "        <td>\n",
              "            <div class=\"bar\" style=\"width:100%\">&nbsp;</div>\n",
              "        </td>\n",
              "</tr><tr class=\"\">\n",
              "        <td class=\"fillremaining\">6450</td>\n",
              "        <td class=\"number\">1</td>\n",
              "        <td class=\"number\">0.0%</td>\n",
              "        <td>\n",
              "            <div class=\"bar\" style=\"width:100%\">&nbsp;</div>\n",
              "        </td>\n",
              "</tr><tr class=\"\">\n",
              "        <td class=\"fillremaining\">6451</td>\n",
              "        <td class=\"number\">1</td>\n",
              "        <td class=\"number\">0.0%</td>\n",
              "        <td>\n",
              "            <div class=\"bar\" style=\"width:100%\">&nbsp;</div>\n",
              "        </td>\n",
              "</tr><tr class=\"\">\n",
              "        <td class=\"fillremaining\">6452</td>\n",
              "        <td class=\"number\">1</td>\n",
              "        <td class=\"number\">0.0%</td>\n",
              "        <td>\n",
              "            <div class=\"bar\" style=\"width:100%\">&nbsp;</div>\n",
              "        </td>\n",
              "</tr><tr class=\"\">\n",
              "        <td class=\"fillremaining\">6453</td>\n",
              "        <td class=\"number\">1</td>\n",
              "        <td class=\"number\">0.0%</td>\n",
              "        <td>\n",
              "            <div class=\"bar\" style=\"width:100%\">&nbsp;</div>\n",
              "        </td>\n",
              "</tr>\n",
              "</table>\n",
              "        </div>\n",
              "    </div>\n",
              "</div>\n",
              "</div><div class=\"row variablerow\">\n",
              "    <div class=\"col-md-3 namecol\">\n",
              "        <p class=\"h4 pp-anchor\" id=\"pp_var_year\">year<br/>\n",
              "            <small>Numeric</small>\n",
              "        </p>\n",
              "    </div><div class=\"col-md-6\">\n",
              "    <div class=\"row\">\n",
              "        <div class=\"col-sm-6\">\n",
              "            <table class=\"stats \">\n",
              "                <tr>\n",
              "                    <th>Distinct count</th>\n",
              "                    <td>20</td>\n",
              "                </tr>\n",
              "                <tr>\n",
              "                    <th>Unique (%)</th>\n",
              "                    <td>0.3%</td>\n",
              "                </tr>\n",
              "                <tr class=\"ignore\">\n",
              "                    <th>Missing (%)</th>\n",
              "                    <td>0.0%</td>\n",
              "                </tr>\n",
              "                <tr class=\"ignore\">\n",
              "                    <th>Missing (n)</th>\n",
              "                    <td>0</td>\n",
              "                </tr>\n",
              "                <tr class=\"ignore\">\n",
              "                    <th>Infinite (%)</th>\n",
              "                    <td>0.0%</td>\n",
              "                </tr>\n",
              "                <tr class=\"ignore\">\n",
              "                    <th>Infinite (n)</th>\n",
              "                    <td>0</td>\n",
              "                </tr>\n",
              "            </table>\n",
              "\n",
              "        </div>\n",
              "        <div class=\"col-sm-6\">\n",
              "            <table class=\"stats \">\n",
              "\n",
              "                <tr>\n",
              "                    <th>Mean</th>\n",
              "                    <td>2007.5</td>\n",
              "                </tr>\n",
              "                <tr>\n",
              "                    <th>Minimum</th>\n",
              "                    <td>1998</td>\n",
              "                </tr>\n",
              "                <tr>\n",
              "                    <th>Maximum</th>\n",
              "                    <td>2017</td>\n",
              "                </tr>\n",
              "                <tr class=\"ignore\">\n",
              "                    <th>Zeros (%)</th>\n",
              "                    <td>0.0%</td>\n",
              "                </tr>\n",
              "            </table>\n",
              "        </div>\n",
              "    </div>\n",
              "</div>\n",
              "<div class=\"col-md-3 collapse in\" id=\"minihistogram4817422402083466180\">\n",
              "    <img src=\"data:image/png;base64,iVBORw0KGgoAAAANSUhEUgAAAMgAAABLCAYAAAA1fMjoAAAABHNCSVQICAgIfAhkiAAAAAlwSFlzAAAPYQAAD2EBqD%2BnaQAAADh0RVh0U29mdHdhcmUAbWF0cGxvdGxpYiB2ZXJzaW9uMy4xLjIsIGh0dHA6Ly9tYXRwbG90bGliLm9yZy8li6FKAAABFElEQVR4nO3X0QmCIRhA0f5opIZop57bqSHayRaISwWl1Dnv4id4EbcxxtgBD%2B1nDwArO8weYJbj%2BfrxPW6X08trvjHXt7xz/tX8RCCrXqpV5%2BJ522p/EJfqv6326viDQBAIBIFAEAgEgUAQCASBQBAIBIFAEAgEgUAQCASBQBAIBIFAEAgEgUAQCASBQBAIBIFAEAgEgUAQCASBQBAIBIFAEAgEgUAQCASBQBAIBIFAEAgEgUAQCASBQBAIBIFAEAgEgUAQCASBQBAIhG2MMWYPAavygkAQCASBQBAIBIFAEAgEgUAQCASBQBAIBIFAEAgEgUAQCASBQBAIBIFAEAgEgUAQCASBQBAIBIFAEAgEgUC4A50LGFp19CSWAAAAAElFTkSuQmCC\">\n",
              "\n",
              "</div>\n",
              "<div class=\"col-md-12 text-right\">\n",
              "    <a role=\"button\" data-toggle=\"collapse\" data-target=\"#descriptives4817422402083466180,#minihistogram4817422402083466180\"\n",
              "       aria-expanded=\"false\" aria-controls=\"collapseExample\">\n",
              "        Toggle details\n",
              "    </a>\n",
              "</div>\n",
              "<div class=\"row collapse col-md-12\" id=\"descriptives4817422402083466180\">\n",
              "    <ul class=\"nav nav-tabs\" role=\"tablist\">\n",
              "        <li role=\"presentation\" class=\"active\"><a href=\"#quantiles4817422402083466180\"\n",
              "                                                  aria-controls=\"quantiles4817422402083466180\" role=\"tab\"\n",
              "                                                  data-toggle=\"tab\">Statistics</a></li>\n",
              "        <li role=\"presentation\"><a href=\"#histogram4817422402083466180\" aria-controls=\"histogram4817422402083466180\"\n",
              "                                   role=\"tab\" data-toggle=\"tab\">Histogram</a></li>\n",
              "        <li role=\"presentation\"><a href=\"#common4817422402083466180\" aria-controls=\"common4817422402083466180\"\n",
              "                                   role=\"tab\" data-toggle=\"tab\">Common Values</a></li>\n",
              "        <li role=\"presentation\"><a href=\"#extreme4817422402083466180\" aria-controls=\"extreme4817422402083466180\"\n",
              "                                   role=\"tab\" data-toggle=\"tab\">Extreme Values</a></li>\n",
              "\n",
              "    </ul>\n",
              "\n",
              "    <div class=\"tab-content\">\n",
              "        <div role=\"tabpanel\" class=\"tab-pane active row\" id=\"quantiles4817422402083466180\">\n",
              "            <div class=\"col-md-4 col-md-offset-1\">\n",
              "                <p class=\"h4\">Quantile statistics</p>\n",
              "                <table class=\"stats indent\">\n",
              "                    <tr>\n",
              "                        <th>Minimum</th>\n",
              "                        <td>1998</td>\n",
              "                    </tr>\n",
              "                    <tr>\n",
              "                        <th>5-th percentile</th>\n",
              "                        <td>1999</td>\n",
              "                    </tr>\n",
              "                    <tr>\n",
              "                        <th>Q1</th>\n",
              "                        <td>2003</td>\n",
              "                    </tr>\n",
              "                    <tr>\n",
              "                        <th>Median</th>\n",
              "                        <td>2007</td>\n",
              "                    </tr>\n",
              "                    <tr>\n",
              "                        <th>Q3</th>\n",
              "                        <td>2012</td>\n",
              "                    </tr>\n",
              "                    <tr>\n",
              "                        <th>95-th percentile</th>\n",
              "                        <td>2016</td>\n",
              "                    </tr>\n",
              "                    <tr>\n",
              "                        <th>Maximum</th>\n",
              "                        <td>2017</td>\n",
              "                    </tr>\n",
              "                    <tr>\n",
              "                        <th>Range</th>\n",
              "                        <td>19</td>\n",
              "                    </tr>\n",
              "                    <tr>\n",
              "                        <th>Interquartile range</th>\n",
              "                        <td>9</td>\n",
              "                    </tr>\n",
              "                </table>\n",
              "            </div>\n",
              "            <div class=\"col-md-4 col-md-offset-2\">\n",
              "                <p class=\"h4\">Descriptive statistics</p>\n",
              "                <table class=\"stats indent\">\n",
              "                    <tr>\n",
              "                        <th>Standard deviation</th>\n",
              "                        <td>5.7318</td>\n",
              "                    </tr>\n",
              "                    <tr>\n",
              "                        <th>Coef of variation</th>\n",
              "                        <td>0.0028552</td>\n",
              "                    </tr>\n",
              "                    <tr>\n",
              "                        <th>Kurtosis</th>\n",
              "                        <td>-1.2027</td>\n",
              "                    </tr>\n",
              "                    <tr>\n",
              "                        <th>Mean</th>\n",
              "                        <td>2007.5</td>\n",
              "                    </tr>\n",
              "                    <tr>\n",
              "                        <th>MAD</th>\n",
              "                        <td>4.969</td>\n",
              "                    </tr>\n",
              "                    <tr class=\"\">\n",
              "                        <th>Skewness</th>\n",
              "                        <td>-0.00036637</td>\n",
              "                    </tr>\n",
              "                    <tr>\n",
              "                        <th>Sum</th>\n",
              "                        <td>12892107</td>\n",
              "                    </tr>\n",
              "                    <tr>\n",
              "                        <th>Variance</th>\n",
              "                        <td>32.854</td>\n",
              "                    </tr>\n",
              "                    <tr>\n",
              "                        <th>Memory size</th>\n",
              "                        <td>50.3 KiB</td>\n",
              "                    </tr>\n",
              "                </table>\n",
              "            </div>\n",
              "        </div>\n",
              "        <div role=\"tabpanel\" class=\"tab-pane col-md-8 col-md-offset-2\" id=\"histogram4817422402083466180\">\n",
              "            <img src=\"data:image/png;base64,iVBORw0KGgoAAAANSUhEUgAAAlgAAAGQCAYAAAByNR6YAAAABHNCSVQICAgIfAhkiAAAAAlwSFlzAAAPYQAAD2EBqD%2BnaQAAADh0RVh0U29mdHdhcmUAbWF0cGxvdGxpYiB2ZXJzaW9uMy4xLjIsIGh0dHA6Ly9tYXRwbG90bGliLm9yZy8li6FKAAAgAElEQVR4nO3de1xVVf7/8TeXwBS5ZWhZk02JxkXFa6GlYmnq6KihyIyVqaVG%2BtW0dDQnu2KZ36a0caKmJmv6Rjhl2mg5pTJdtNLGAnRsNBuLySA5R5TAC6zfH/484xGVgyw858Dr%2BXich7LWvqwP%2B8B6s/dmE2CMMQIAAIA1gd4eAAAAQENDwAIAALCMgAUAAGAZAQsAAMAyAhYAAIBlBCwAAADLCFgAAACWEbAAAAAsI2ABAABYRsACAACwjIAFAABgGQELAADAMgIWAACAZQQsAAAAywhYAAAAlhGwAAAALCNgAQAAWEbAAgAAsIyABQAAYBkBCwAAwDICFgAAgGUELAAAAMsIWAAAAJYRsAAAACwjYAEAAFhGwAIAALCMgAUAAGAZAQsAAMAyAhYAAIBlBCwAAADLCFgAAACWEbAAAAAsI2ABAABYRsACAACwjIAFAABgGQELAADAMgIWAACAZQQsAAAAywhYAAAAlgV7ewCNRXHxgRqXCQwMUHR0M5WUlKmqypyDUXlHY6izMdQoNY46qbHhaAx1NoYapdrVeeGFzc/RqNxxBsuHBAYGKCAgQIGBAd4eSr1qDHU2hhqlxlEnNTYcjaHOxlCj5B91ErAAAAAsI2ABAABYRsACAACwjIAFAABgGQELAADAMgIWAACAZQQsAAAAywhYAAAAlhGwAAAALCNgAQAAWEbAAgAAsIyABQAAYBkBCwAAwLJgbw8A8FUDf/eRt4dQK2um9fT2EOAj/Om962/vW3/63Er%2B9/ltSAhYQAPhT9/4/e2bfte573h7CA2WP71vgdogYOGc4RspjuO9AKCh4x4sAAAAywhYAAAAlhGwAAAALCNgAQAAWEbAAgAAsIyABQAAYBkBCwAAwDKeg%2BXneJ4QAAC%2BhzNYAAAAlhGwAAAALOMSIQAADZQ/3Ubib3%2BjtCacwQIAALCMgAUAAGAZAQsAAMAyAhYAAIBlDTpgLV26VL169VKnTp00duxYfffdd5KkjRs3KjU1VZ07d9bgwYO1cuVKt/WWLVumAQMGqHPnzkpPT1d%2Bfr43hg8AAPxUgw1Yf/7zn7Vy5UotW7ZMH374oa688kr96U9/UlFRke68806NHj1aGzdu1Ny5czVv3jzl5eVJktatW6fFixfr8ccf18cff6y%2Bfftq0qRJ%2Bumnn7xcEQAA8BcNNmC98MILmj59un7%2B858rLCxM9913n%2B677z6tWrVKbdq0UWpqqkJDQ5WcnKyUlBTl5ORIkrKzszVixAh17NhRTZo00YQJEyRJ69ev92Y5AADAjzTIgPXDDz/ou%2B%2B%2B0/79%2BzVo0CD16NFDU6dOVUlJiQoKChQXF%2Be2fFxcnOsy4Mn9gYGBuuqqq1xnuAAAAGrSIB80unfvXknSO%2B%2B8oxdffFHGGE2dOlX33XefKioq1LJlS7flIyMj5XA4JElOp1MRERFu/REREa5%2BTxQVFam4uNitLTi4qWJiYs64XlBQoNu/AAA0FsHBns99/jBfNsiAZYyRJE2YMMEVpqZMmaLbb79dycnJHq9/trKzs7VkyRK3toyMDE2dOtWj9cPDz6/T/gEA8DdRUc1qvY4vz5cNMmC1aNFCkhQeHu5qa926tYwxOnLkiJxOp9vyDodD0dHRkqSoqKhq/U6nU23btvV4/2lpaUpJSXFrCw5uKoej7IzrBQUFKjz8fJWWlquyssrj/QEA4O9qmiNPVJv58myCmw0NMmC1atVKYWFh2r59u%2BLj4yVJhYWFOu%2B889S7d2%2B99dZbbsvn5%2BerY8eOkqSEhAQVFBRo%2BPDhkqTKykpt27ZNqampHu8/Jiam2uXA4uIDOnrUs9BUWVnl8bIAADQEZzPv%2BfJ86bsXL%2BsgODhYqamp%2BsMf/qB///vf2rdvn5555hkNGTJEw4cPV2FhoXJycnTo0CHl5uYqNzdXo0aNkiSlp6drxYoV2rp1q8rLy7V06VKFhISoT58%2B3i0KAAD4jQZ5BkuSZsyYocOHD2vkyJE6cuSIBgwYoPvuu0/NmjXTs88%2Bq4cfflgPPPCAWrdurYULF6p9%2B/aSpOuuu0533323pk2bpn379ikxMVFZWVlq0qSJlysCAAD%2BIsDU9Y5ueKS4%2BECNywQHByoqqpkcjjKPT3kO/N1HdR0aAABet2ZaT4%2BXrc18eeGFzes6tLPSIC8RAgAAeBMBCwAAwDICFgAAgGUELAAAAMsIWAAAAJYRsAAAACwjYAEAAFhGwAIAALCMgAUAAGAZAQsAAMAyAhYAAIBlBCwAAADLCFgAAACWEbAAAAAsI2ABAABYRsACAACwjIAFAABgGQELAADAMgIWAACAZQQsAAAAywhYAAAAlhGwAAAALCNgAQAAWEbAAgAAsIyABQAAYBkBCwAAwDICFgAAgGUELAAAAMsIWAAAAJYRsAAAACwjYAEAAFhGwAIAALCMgAUAAGAZAQsAAMAyAhYAAIBlBCwAAADLGmzAateunRISEpSYmOh6PfTQQ5KkjRs3KjU1VZ07d9bgwYO1cuVKt3WXLVumAQMGqHPnzkpPT1d%2Bfr43SgAAAH4q2NsDqE/vvPOOLrnkEre2oqIi3XnnnZo7d66GDBmiLVu2aPLkybr88suVmJiodevWafHixXr%2B%2BefVrl07LVu2TJMmTdLatWvVtGlTL1UCAAD8SYM9g3U6q1atUps2bZSamqrQ0FAlJycrJSVFOTk5kqTs7GyNGDFCHTt2VJMmTTRhwgRJ0vr16705bAAA4EcadMBatGiR%2BvTpo65du2revHkqKytTQUGB4uLi3JaLi4tzXQY8uT8wMFBXXXWV8vLyzunYAQCA/2qwlwg7deqk5ORkPfbYY/r22281bdo0PfDAA3I6nWrZsqXbspGRkXI4HJIkp9OpiIgIt/6IiAhXvyeKiopUXFzs1hYc3FQxMTFnXC8oKNDtXwAAGovgYM/nPn%2BYLxtswMrOznb9/4orrtDMmTM1efJkdenSpcZ1jTF13veSJUvc2jIyMjR16lSP1g8PP79O%2BwcAwN9ERTWr9Tq%2BPF822IB1sksuuUSVlZUKDAyU0%2Bl063M4HIqOjpYkRUVFVet3Op1q27atx/tKS0tTSkqKW1twcFM5HGVnXC8oKFDh4eertLRclZVVHu8PAAB/V9MceaLazJdnE9xsaJABa9u2bVq5cqVmz57tatu1a5dCQkLUu3dvvfnmm27L5%2Bfnq2PHjpKkhIQEFRQUaPjw4ZKkyspKbdu2TampqR7vPyYmptrlwOLiAzp61LPQVFlZ5fGyAAA0BGcz7/nyfOm7Fy/r4IILLlB2draysrJ0%2BPBh7d69W0899ZTS0tL0y1/%2BUoWFhcrJydGhQ4eUm5ur3NxcjRo1SpKUnp6uFStWaOvWrSovL9fSpUsVEhKiPn36eLcoAADgNwJMXW848lGfffaZFi1apB07digkJETDhw/X9OnTFRoaqs8%2B%2B0wPP/ywdu3apdatW2vGjBnq37%2B/a91XX31VWVlZ2rdvnxITEzV//nzFxsbWaTzFxQdqXCY4OFBRUc3kcJR5nMgH/u6jOo0LAABfsGZaT4%2BXrc18eeGFzes6tLPSYAOWryFgAQBweg0tYDXIS4QAAADeRMACAACwjIAFAABgGQELAADAMgIWAACAZQQsAAAAywhYAAAAlhGwAAAALCNgAQAAWEbAAgAAsIyABQAAYBkBCwAAwDICFgAAgGUELAAAAMsIWAAAAJYRsAAAACwjYAEAAFhGwAIAALCMgAUAAGAZAQsAAMAyAhYAAIBlBCwAAADLCFgAAACWEbAAAAAsI2ABAABYRsACAACwjIAFAABgGQELAADAMgIWAACAZQQsAAAAywhYAAAAlhGwAAAALCNgAQAAWEbAAgAAsIyABQAAYBkBCwAAwDKfC1gpKSlasmSJvv/%2Be2vbfPTRR9WuXTvXxxs3blRqaqo6d%2B6swYMHa%2BXKlW7LL1u2TAMGDFDnzp2Vnp6u/Px8a2MBAAANn88FrJtuukmrV6/W9ddfrwkTJmjt2rU6evToWW9v%2B/bteuutt1wfFxUV6c4779To0aO1ceNGzZ07V/PmzVNeXp4kad26dVq8eLEef/xxffzxx%2Brbt68mTZqkn376qc61AQCAxsHnAlZGRoZWr16t119/XW3bttWjjz6q3r17a%2BHChdq9e3ettlVVVaX7779fY8eOdbWtWrVKbdq0UWpqqkJDQ5WcnKyUlBTl5ORIkrKzszVixAh17NhRTZo00YQJEyRJ69evt1YjAABo2HwuYB0XHx%2BvWbNmaf369ZozZ45ef/11DRo0SOPHj9eXX37p0TZee%2B01hYaGasiQIa62goICxcXFuS0XFxfnugx4cn9gYKCuuuoq1xkuAACAmgR7ewCnc%2BTIEf3tb3/TG2%2B8oU2bNqlNmzaaMmWKioqKNHbsWD3wwANuwelkP/74oxYvXqyXX37Zrd3pdKply5ZubZGRkXI4HK7%2BiIgIt/6IiAhXvyeKiopUXFzs1hYc3FQxMTFnXC8oKNDtXwAAGovgYM/nPn%2BYL30uYO3atUvLly/XihUrVFZWpgEDBuill15Sly5dXMt069ZN8%2BfPP2PAyszM1IgRI3TllVfqu%2B%2B%2Bq9UYjDFnPX7p2GXGJUuWuLVlZGRo6tSpHq0fHn5%2BnfYPAIC/iYpqVut1fHm%2B9LmANXjwYF1%2B%2BeWaOHGihg0bpsjIyGrL9O7dWyUlJafdxsaNG/WPf/xDb7/9drW%2BqKgoOZ1OtzaHw6Ho6OjT9judTrVt29bjGtLS0pSSkuLWFhzcVA5H2RnXCwoKVHj4%2BSotLVdlZZXH%2BwMAwN/VNEeeqDbz5dkENxt8LmAtW7ZM3bt3r3G5L7744rR9K1eu1L59%2B9S3b19J/z0j1aNHD40bN65a8MrPz1fHjh0lSQkJCSooKNDw4cMlSZWVldq2bZtSU1M9riEmJqba5cDi4gM6etSz0FRZWeXxsgAANARnM%2B/58nzpcxcv27Vrp0mTJum9995ztf3pT3/S7bffXu3M0unMnj1b7777rt566y299dZbysrKkiS99dZbGjJkiAoLC5WTk6NDhw4pNzdXubm5GjVqlCQpPT1dK1as0NatW1VeXq6lS5cqJCREffr0sV4rAABomHwuYGVmZurAgQO68sorXW19%2BvRRVVWVFixY4NE2IiIi1KpVK9erRYsWkqRWrVrp4osv1rPPPqtXXnlFXbp00aOPPqqFCxeqffv2kqTrrrtOd999t6ZNm6bu3bvr448/VlZWlpo0aWK/WAAA0CAFmLre0W1Zr169tGrVKkVFRbm1OxwO/eIXv9BHH33kpZHVTXHxgRqXCQ4OVFRUMzkcZR6f8hz4O//8fAAAcKI103p6vGxt5ssLL2xe16GdFZ87g1VRUaHQ0NBq7YGBgSovL/fCiAAAAGrH5wJWt27dtGDBAu3fv9/V9sMPP%2BiBBx5we1QDAACAr/K53yKcM2eOxo0bp2uuuUZhYWGqqqpSWVmZLr300moPDQUAAPBFPhewLr30Uv31r3/V3//%2Bd%2B3Zs0eBgYG6/PLL1atXLwUFBXl7eAAAADXyuYAlSSEhIbr%2B%2Buu9PQwAAICz4nMB69tvv9WiRYv0r3/9SxUVFdX633//fS%2BMCgAAwHM%2BF7DmzJmjoqIi9erVS02bNvX2cAAAAGrN5wJWfn6%2B3n//fdffBgQAAPA3PveYhgsuuIAzVwAAwK/5XMCaOHGilixZIh97wDwAAIDHfO4S4d///nd9/vnneuONN3TJJZcoMNA9A7722mteGhkAAIBnfC5ghYWF6brrrvP2MAAAAM6azwWszMxMbw8BAACgTnzuHixJ%2Bvrrr7V48WL95je/cbX94x//8OKIAAAAPOdzAWvjxo0aOnSo1q5dq7ffflvSsYeP3nLLLTxkFAAA%2BAWfC1hPPvmk7rnnHq1atUoBAQGSjv19wgULFuiZZ57x8ugAAABq5nMB66uvvlJ6erokuQKWJN14443atWuXt4YFAADgMZ8LWM2bNz/l3yAsKipSSEiIF0YEAABQOz4XsDp37qxHH31UBw8edLXt3r1bs2bN0jXXXOPFkQEAAHjG5x7T8Jvf/Ea33nqrevToocrKSnXu3Fnl5eVq27atFixY4O3hAQAA1MjnAlarVq309ttvKzc3V7t371aTJk10%2BeWXq2fPnm73ZAEAAPgqnwtYknTeeefp%2Buuv9/YwAAAAzorPBayUlJQznqniWVgAAMDX%2BVzAGjRokFvAqqys1O7du5WXl6dbb73ViyMDAADwjM8FrJkzZ56y/d1339Unn3xyjkcDAABQez73mIbTuf766/XXv/7V28MAAACokd8ErG3btskY4%2B1hAAAA1MjnLhGOHj26Wlt5ebl27dql/v37e2FEAAAAteNzAatNmzbVfoswNDRUqampGjlypJdGBQAA4DmfC1g8rR0AAPg7nwtYK1as8HjZYcOG1eNIAAAAzo7PBay5c%2Beqqqqq2g3tAQEBbm0BAQEELAAA4JN8LmA9//zzeuGFFzRp0iS1a9dOxhjt2LFDzz33nMaMGaMePXp4e4gAAABn5HMBa8GCBcrKylLLli1dbV27dtWll16q8ePH6%2B233/bi6AAAAGrmc8/B%2BuabbxQREVGtPTw8XIWFhV4YEQAAQO34XMBq3bq1FixYIIfD4WorLS3VokWL9LOf/cyLIwMAAPCMzwWsOXPmaM2aNUpOTlbXrl3VvXt3XX311XrjjTc0e/Zsj7fzz3/%2BU7feequ6dOmi5ORkTZs2TcXFxZKkjRs3KjU1VZ07d9bgwYO1cuVKt3WXLVumAQMGqHPnzkpPT1d%2Bfr7VGgEAQMPmc/dg9erVSxs2bFBubq727t0rY4xatmypa6%2B9Vs2bN/doG4cPH9a4ceP061//Ws8995wOHjyo//mf/9H8%2BfN1//33684779TcuXM1ZMgQbdmyRZMnT9bll1%2BuxMRErVu3TosXL9bzzz%2Bvdu3aadmyZZo0aZLWrl2rpk2b1nP1AACgIfC5M1iSdP7556tfv37q16%2BfbrvtNg0aNMjjcCUd%2B9M606dP18SJExUSEqLo6GjdcMMN%2Bte//qVVq1apTZs2Sk1NVWhoqJKTk5WSkqKcnBxJUnZ2tkaMGKGOHTuqSZMmmjBhgiRp/fr19VIrAABoeHwuYFVUVGjWrFlKSkrSwIEDJR27B2vChAkqLS31aBsREREaOXKkgoOPnaD7%2Buuv9eabb2rgwIEqKChQXFyc2/JxcXGuy4An9wcGBuqqq65SXl6ejfIAAEAj4HMBa%2BHChdq%2BfbueeOIJBQb%2Bd3iVlZV64oknarWtwsJCJSQkaNCgQUpMTNTUqVPldDoVHh7utlxkZKTrpnqn01nttxgjIiLcbrqvSVFRkQoKCtxeJSU/Kjg48IyvoKBj9QYFnXm5E18AADQEns57tZ0vvVaP1/Z8Gu%2B%2B%2B65eeeUVtWnTRrNmzZJ07BENmZmZGjZsmB588EGPt9W6dWvl5eXp3//%2Bt37729/q3nvv9Wi9k58iX1vZ2dlasmSJW1tGRoamTp3q0frh4efXaf8AAPibqKhmtV7Hl%2BdLnwtYZWVlatOmTbX26Oho/fTTT7XeXkBAgNq0aaPp06dr9OjR6t27t5xOp9syDodD0dHRkqSoqKhq/U6nU23btvV4n2lpaUpJSXFrCw5uKoej7IzrBQUFKjz8fJWWlquyssrj/QEA4O9qmiNPVJv58myCmw0%2Bd43pZz/7mT755BNJ7meS3nnnHV188cUebWPjxo0aMGCAqqr%2B%2B0k/frmxQ4cO1R67kJ%2Bfr44dO0qSEhISVFBQ4OqrrKzUtm3bXP2eiImJUXx8vNsrOrqFjh6tOuPr%2BJuksvLMy534AgCgIfB03qvtfOktPhewfvWrX2nKlCl67LHHVFVVpRdffFEzZszQnDlzdOutt3q0jYSEBB08eFALFy5UeXm5SkpKtHjxYnXt2lXp6ekqLCxUTk6ODh06pNzcXOXm5mrUqFGSpPT0dK1YsUJbt25VeXm5li5dqpCQEPXp06ceqwYAAA1JgKnrDUf14C9/%2BYteeeUVff3112rSpIkuv/xyjR07VjfeeKPH29ixY4cefvhhffnll2ratKmuvvpqzZ49Wy1bttRnn32mhx9%2BWLt27VLr1q01Y8YM9e/f37Xuq6%2B%2BqqysLO3bt0%2BJiYmaP3%2B%2BYmNj61RTcfGBGpcJDg5UVFQzORxlHqfugb/7qE7jAgDAF6yZ1tPjZWszX154oeePebLJ5wJWSUmJ636ohoSABQDA6TW0gOVzlwj79etX59/iAwAA8CafC1g9evTQmjVrvD0MAACAs%2BZzj2m46KKL9MgjjygrK0s/%2B9nPdN5557n1L1q0yEsjAwAA8IzPBaydO3fq5z//uSTV6unpAAAAvsJnAtb06dP15JNP6uWXX3a1PfPMM8rIyPDiqAAAAGrPZ%2B7BWrduXbW2rKwsL4wEAACgbnwmYJ3qNwf5bUIAAOCPfCZgBQQEeNQGAADg63wmYAEAADQUBCwAAADLfOa3CI8cOaIZM2bU2MZzsAAAgK/zmYDVpUsXFRUV1dgGAADg63wmYJ34/CsAAAB/xj1YAAAAlhGwAAAALCNgAQAAWEbAAgAAsIyABQAAYBkBCwAAwDICFgAAgGUELAAAAMsIWAAAAJYRsAAAACwjYAEAAFhGwAIAALCMgAUAAGAZAQsAAMAyAhYAAIBlBCwAAADLCFgAAACWEbAAAAAsI2ABAABYRsACAACwjIAFAABgGQELAADAMgIWAACAZQ02YBUWFiojI0M9evRQcnKyZs%2BerdLSUknS9u3bNWbMGHXp0kX9%2B/fXCy%2B84Lbu6tWrNWTIECUlJWnEiBH68MMPvVECAADwUw02YE2aNEnh4eFat26d3njjDf3rX//SY489poqKCk2cOFFXX321PvjgAz355JN69tlntXbtWknHwtesWbM0c%2BZMbdq0SWPHjtVdd92lvXv3erkiAADgLxpkwCotLVVCQoJmzJihZs2aqVWrVho%2BfLg2b96sDRs26MiRI5o8ebKaNm2q%2BPh4jRw5UtnZ2ZKknJwc9e7dW71791ZoaKiGDh2q2NhYrVy50stVAQAAf9EgA1Z4eLgyMzPVokULV9v333%2BvmJgYFRQUqF27dgoKCnL1xcXFKT8/X5JUUFCguLg4t%2B3FxcUpLy/v3AweAAD4vWBvD%2BBcyMvL0yuvvKKlS5dqzZo1Cg8Pd%2BuPjIyU0%2BlUVVWVnE6nIiIi3PojIiK0c%2BdOj/dXVFSk4uJit7bg4KaKiYk543pBQYFu/wIA0FgEB3s%2B9/nDfNngA9aWLVs0efJkzZgxQ8nJyVqzZs0plwsICHD93xhTp31mZ2dryZIlbm0ZGRmaOnWqR%2BuHh59fp/0DAOBvoqKa1XodX54vG3TAWrdune655x7NmzdPw4YNkyRFR0frm2%2B%2BcVvO6XQqMjJSgYGBioqKktPprNYfHR3t8X7T0tKUkpLi1hYc3FQOR9kZ1wsKClR4%2BPkqLS1XZWWVx/sDAMDf1TRHnqg28%2BXZBDcbGmzA%2BvzzzzVr1iw99dRT6tWrl6s9ISFB//d//6ejR48qOPhY%2BXl5eerYsaOr//j9WMfl5eVp8ODBHu87Jiam2uXA4uIDOnrUs9BUWVnl8bIAADQEZzPv%2BfJ86bsXL%2Bvg6NGjuu%2B%2B%2BzRz5ky3cCVJvXv3VlhYmJYuXary8nJ98cUXWr58udLT0yVJo0aN0scff6wNGzbo0KFDWr58ub755hsNHTrUG6UAAAA/FGDqesORD9q8ebN%2B/etfKyQkpFrfO%2B%2B8o7KyMt1///3Kz89XixYtdPvtt%2BtXv/qVa5m1a9dq0aJFKiws1JVXXqm5c%2BeqW7dudRpTcfGBGpcJDg5UVFQzORxlHifygb/7qE7jAgDAF6yZ1tPjZWszX154YfO6Du2sNMiA5YsIWAAAnF5DC1gN8hIhAACANxGwAAAALCNgAQAAWEbAAgAAsIyABQAAYBkBCwAAwDICFgAAgGUELAAAAMsIWAAAAJYRsAAAACwjYAEAAFhGwAIAALCMgAUAAGAZAQsAAMAyAhYAAIBlBCwAAADLCFgAAACWEbAAAAAsI2ABAABYRsACAACwjIAFAABgGQELAADAMgIWAACAZQQsAAAAywhYAAAAlhGwAAAALCNgAQAAWEbAAgAAsIyABQAAYBkBCwAAwDICFgAAgGUELAAAAMsIWAAAAJYRsAAAACwjYAEAAFhGwAIAALCswQasDz74QMnJyZo%2BfXq1vtWrV2vIkCFKSkrSiBEj9OGHH7r6qqqq9OSTT6pfv37q1q2bxo8fr2%2B//fZcDh0AAPi5BhmwnnvuOT388MO67LLLqvVt375ds2bN0syZM7Vp0yaNHTtWd911l/bu3StJ%2BvOf/6xVq1YpKytL69evV5s2bZSRkSFjzLkuAwAA%2BKkGGbBCQ0O1fPnyUwasnJwc9e7dW71791ZoaKiGDh2q2NhYrVy5UpKUnZ2tsWPH6oorrlBYWJimT5%2BuXbt26YsvvjjXZQAAAD/VIAPWLbfcoubNm5%2Byr6CgQHFxcW5tcXFxysvLU0VFhXbu3OnWHxYWpssuu0x5eXn1OmYAANBwBHt7AOea0%2BlURESEW1tERIR27typ/fv3yxhzyn6Hw%2BHxPoqKilRcXOzWFhzcVDExMWdcLygo0O1fAAAai%2BBgz%2Bc%2Bf5gvG13AklTj/VR1vd8qOztbS5YscWvLyMjQ1KlTPVo/PPz8Ou0fAAB/ExXVrNbr%2BPJ82egCVlRUlJxOp1ub0%2BlUdHS0IiMjFRgYeMr%2BCy64wON9pKWlKSUlxa0tOLipHI6yM64XFBSo8PDzVVparsrKKo/3BwCAv6tpjjxRbebLswluNjS6gJWQkKD8/Hy3try8PA0ePFihoaFq27atCgoK1L17d0lSaWmp9uzZow4dOni8j5iYmGqXA4uLD%2BjoUc9CU2VllcfLAgDQEJzNvJLP2y8AABN8SURBVOfL86XvXrysJ6NGjdLHH3%2BsDRs26NChQ1q%2BfLm%2B%2BeYbDR06VJKUnp6uZcuWadeuXTp48KCeeOIJXXXVVUpMTPTyyAEAgL9okGewjoeho0ePSpLee%2B89ScfOVMXGxuqJJ55QZmamCgsLdeWVV%2BrZZ5/VhRdeKEkaPXq0iouLdfPNN6usrEw9evSodj8VAADAmQQYnqB5ThQXH6hxmeDgQEVFNZPDUebxKc%2BBv/uorkMDAMDr1kzr6fGytZkvL7zw1I9tqm%2BN7hIhAABAfSNgAQAAWEbAAgAAsIyABQAAYBkBCwAAwDICFgAAgGUELAAAAMsIWAAAAJYRsAAAACwjYAEAAFhGwAIAALCMgAUAAGAZAQsAAMAyAhYAAIBlBCwAAADLCFgAAACWEbAAAAAsI2ABAABYRsACAACwjIAFAABgGQELAADAMgIWAACAZQQsAAAAywhYAAAAlhGwAAAALCNgAQAAWEbAAgAAsIyABQAAYBkBCwAAwDICFgAAgGUELAAAAMsIWAAAAJYRsAAAACwjYAEAAFhGwAIAALCMgAUAAGAZAQsAAMAyAtYpFBYW6o477lCPHj3Ut29fLVy4UFVVVd4eFgAA8BPB3h6AL5oyZYri4%2BP13nvvad%2B%2BfZo4caJatGih2267zdtDAwAAfoAzWCfJy8vTP//5T82cOVPNmzdXmzZtNHbsWGVnZ3t7aAAAwE9wBuskBQUFat26tSIiIlxt8fHx2r17tw4ePKiwsLAat1FUVKTi4mK3tuDgpoqJiTnjekFBgW7/AgDQWAQHez73%2BcN8ScA6idPpVHh4uFvb8bDlcDg8CljZ2dlasmSJW9tdd92lKVOmnHG9oqIivfTS80pLS6sxjB23%2BZEbPVrOlxQVFSk7O7tWdfqbxlCj1DjqpMaGozHU2RhqlM5uvjzXfDf6eZExpk7rp6Wl6Y033nB7paWl1bhecXGxlixZUu3sV0PTGOpsDDVKjaNOamw4GkOdjaFGyT/q5AzWSaKjo%2BV0Ot3anE6nAgICFB0d7dE2YmJifDZRAwCA%2BscZrJMkJCTo%2B%2B%2B/V0lJiastLy9PV155pZo1a%2BbFkQEAAH9BwDpJXFycEhMTtWjRIh08eFC7du3Siy%2B%2BqPT0dG8PDQAA%2BImg%2BfPnz/f2IHzNtddeq7ffflsPPfSQ/vrXvyo1NVXjx49XQEBAve%2B7WbNm6t69e4M/W9YY6mwMNUqNo05qbDgaQ52NoUbJ9%2BsMMHW9oxsAAABuuEQIAABgGQELAADAMgIWAACAZQQsAAAAywhYAAAAlhGwAAAALCNgAQAAWEbAAgAAsIyABQAAYBkBy4IPPvhAycnJmj59erW%2Bl156SQMGDFDHjh110003KT8/39X3448/aubMmerZs6e6du2q3/zmN6qoqJAkrVixQomJiW6vhIQEpaSknHIMs2fPdv0dxeOvrl27WquxsLBQGRkZ6tGjh5KTkzV79myVlpZKkrZv364xY8aoS5cu6t%2B/v1544QW3dVevXq0hQ4YoKSlJI0aM0Icffujqq6qq0pNPPql%2B/fqpW7duGj9%2BvL799tvTjqOmfflynUuWLFFKSoqSkpKUlpamzZs3n3Yc7dq1U0JCgtvxfOihh3y6xtq%2BB%2BvzWNZXjQMGDKj2ddm%2BfXu9%2Beab1cbw3XffqV27dtWW/%2BMf/%2BgTdR45ckSPPfaY2rdvr7///e9ufYcOHdJvf/tbXXfdderRo4emTp0qh8Nx2nFs3LhRqamp6ty5swYPHqyVK1f6fI0VFRV65JFHdN1116lr16667bbb9NVXX51yDP58LG%2B%2B%2BWbFx8e7jXvo0KGnHYc/HsuTj0tiYqLatWunTz/9tNoYPvnkk1MeyzVr1lir08WgTrKyskz//v3N6NGjzbRp09z63nzzTZOUlGQ%2B%2B%2Bwzc%2BjQIfPaa6%2BZ5ORkc/DgQWOMMbfccosZN26cKS4uNvv27TPjx4838%2BfPP%2B2%2B7rvvPvP444%2Bfsm/WrFnm6aeftlfYSX7xi1%2BY2bNnm4MHD5rvv//ejBgxwsyZM8eUl5eba6%2B91ixevNiUlZWZ/Px80717d/Puu%2B8aY4zZtm2bSUhIMBs2bDAVFRXmrbfeMh07djTff/%2B9McaYZcuWmb59%2B5qdO3eaAwcOmAcffNAMGTLEVFVVVRtDTfvy5Tr/%2BMc/mj59%2BpivvvrKHDp0yDz99NOme/fu5sCBA6ccR2xsrPn222%2Bt1XUuaqzNe7C%2Bj2V91XiyPXv2mGuuucYUFxdX6/v2229NbGyslXps11lWVmZSU1PN7NmzTWxsrMnNzXXbbmZmphkxYoT5z3/%2BYxwOh7nrrrvMxIkTTzmGH374wXTq1Mnk5OSYiooK89FHH5kOHTqYL7/80qdrfPDBB83w4cNNYWGhKSsrM3PmzDE33HDDKcfgz8dyzJgx5i9/%2BYtHY/DXY3myzZs3m759%2B5ry8vJqfZs2bTJ9%2B/a1Uk9NOINVR6GhoVq%2BfLkuu%2Byyan3r1q3TwIED1bVrV4WEhCgtLU0XXXSR1q9fr7KyMn3yySeaPHmyWrRooejoaM2ePVsrVqzQ4cOHq23ryy%2B/1IYNGzR58uRzUZab0tJSJSQkaMaMGWrWrJlatWql4cOHa/PmzdqwYYOOHDmiyZMnq2nTpoqPj9fIkSOVnZ0tScrJyVHv3r3Vu3dvhYaGaujQoYqNjXX9VJSdna2xY8fqiiuuUFhYmKZPn65du3bpiy%2B%2BqDaOmvbly3UGBgbq3nvvVdu2bRUSEqJx48bJ6XSe9ifm%2BlKfNdZGfR7Lc1njI488onHjxqlFixZ1Hndt1aXOn376STfddJMyMzOrbffo0aNavny57rzzTl100UWKjIzUtGnTtGHDBv3www/Vll%2B1apXatGmj1NRUhYaGKjk5WSkpKcrJyfHZGiUpLCxM9957ry6%2B%2BGI1bdpUt956q/7973%2Bfssb6Vp911oa/HssTVVZW6sEHH9Q999yjJk2a1HncdUHAqqNbbrlFzZs3P21/QECA28cRERHavn37KfvDw8P1008/nfIS2eOPP65JkyYpLCzstPvatGmThg0bpqSkJKWmprpdjqyL8PBwZWZmuk0i33//vWJiYlRQUKB27dopKCjI1RcXF%2Bfad0FBgeLi4ty2FxcXp7y8PFVUVGjnzp1u/WFhYbrsssuUl5dXbRw17ctX65SksWPHauDAga6%2BvXv3SpJiYmJOO55FixapT58%2B6tq1q%2BbNm6eysjKfrlHy/D1Yn8eyvms8btOmTdq%2BfbtuueWWM47n3nvvVa9evXT11Vdr0aJFOnLkSF3Kc6lLnS1atNDo0aNPud09e/bowIEDio%2BPd7VdccUVatKkiQoKCqotf7rPmbeP5ZlqlKTp06fr6quvdttuaGioIiMjT7uOvx3L41avXq1BgwYpKSlJY8eO1Z49e065nL8eyxOtWLFCISEhbt9vT1ZWVua6VHnttdfqxRdflDHmLCs7PQJWPerbt69Wr16tzZs36/Dhw1q7dq2%2B%2BOIL7d%2B/X82aNVO3bt30zDPPaN%2B%2Bfdq/f78WL16s4OBgOZ1Ot%2B1s2bJF33zzjVJTU0%2B7r0svvVSXXXaZnn32WX3wwQfq2rWrxo0bd8b7Js5WXl6eXnnlFU2ePFlOp1Ph4eFu/ZGRkXI6naqqqpLT6VRERIRbf0REhBwOh/bv3y9jzGn7T1bTvmyzVefJDh8%2BrLlz52ro0KG65JJLTrnvTp06KTk5WWvXrlV2dra2bt2qBx54wF5x/5/NGmvzHjyXx7K%2BjuMf/vAH3XbbbQoJCTnlfkNCQpSUlKQbbrhB69evV1ZWllauXKnf//739oo7QW3qPJPj339OXj88PLxWx9Lb33tqY//%2B/a6zkaGhodX6/fVYSsfCcdu2bfXqq6/q/fffV3R0tCZMmHDKKyX%2BfiyrqqqUlZWliRMnnnaZsLAwxcbG6tZbb9UHH3ygzMxMLVmyRH/5y1/OupbTIWDVo2HDhmncuHGun3o%2B/PBD3XDDDa6U/vjjjys0NFQ33nijRo4cqR49eui8885TcHCw23ZeeukljRo16pRf%2BMdlZGTo0UcfVcuWLRUWFqZ77rlHISEheu%2B996zWtGXLFo0fP14zZsxQcnLyaZc78cxcTT8Z1PUnh5PPEtpQH3VK0sGDB3X77bcrKCjojIEpOztbI0eOVEhIiK644grNnDlTb7/99im/KZ4t2zXaeA/aPpb1dRy/%2Buorbd26VaNGjTrtMjExMXrttdd0ww036LzzzlOHDh00ceJEvfHGG7UrwgNnU2dN6uMn%2BrqojxolqaioSDfffLOuuuoqTZky5ZTL%2BPOxnD9/vmbNmqXIyEhFR0frwQcfVGFhobZs2WJryLVWX8cyNzdXR44cUb9%2B/U67THx8vF5%2B%2BWV1795dISEh6tWrl0aPHl0vx5KAVY8CAgJ01113ad26dfr000/14IMPyuFwqGXLlpKkiy66SEuXLtVnn32mtWvXqmfPniovL3f1S1J5eblyc3NP%2B9uDpxMUFKSLLrpIRUVF1upZt26d7rjjDs2ZM8d1WSQ6OrraTzdOp1ORkZEKDAxUVFRUtTNyTqdT0dHRrmVO1X/BBRdU239N%2B7LFdp3HlZSUaMyYMWrevLn%2B%2BMc/qmnTph6P6ZJLLlFlZaX27dtXh8r%2Bq75qPNGZ3oPn4ljWZ43vvPOOrr766lodQ0lq3bq1fvzxR6vh5WzqPJPjtZ78edi/f/8pvy5P9TlzOBynfV%2BcDds1Hrdnzx6NHj1aXbp00f/%2B7/%2B6XaKqiT8cy1MJCwtTRETEKe818%2BdjKR37uuzbt2%2Btg1nr1q2tzpXHEbDq0e7du/X%2B%2B%2B%2B7Pq6oqNCWLVuUlJQk6diNvrt27XL1f/TRR7r44ovVqlUrt7YmTZq43Q9xMmOMMjMz9c9//tPVdvjwYe3Zs0eXXnqplVo%2B//xzzZo1S0899ZSGDRvmak9ISNCOHTt09OhRV1teXp46duzo6j/5%2Bv3x/tDQULVt29btvo7S0lLt2bNHHTp0qDaGmvblq3VKx37tfeLEiYqPj9fTTz99xpsvt23bpgULFri17dq1SyEhIWe8Z8ubNdb2PVjfx7K%2BjuNx77//vnr27HnGMWzcuFFLly51a/v666/VunVra2fqzrbOM7n00ksVERHh9nX51Vdf6fDhw0pISKi2fGJiYrXPWX5%2BvtePZU1KSko0btw4jRgxQvfff/8Zw5W/HsuDBw9q/vz5bmGqpKREJSUlp/y69NdjKR2bB9evX1/j1%2BWaNWv06quvurV9/fXX1ubKkwcFC2bNmlXtMQ2bNm0yHTp0MF988YWpqKgwv/3tb83w4cNdjyCYNWuWufnmm82BAwfMnj17TL9%2B/cxLL73kto2nnnrKDB8%2BvNr%2B9u7dawYMGGD27NljjDHmzjvvNKNHjzZ79%2B41Bw8eNI888ojp2bOnKSsrq3NtR44cMQMHDjSvvfZatb5Dhw6Zvn37mqefftr89NNPZuvWraZr165m/fr1xhhjduzYYRITE8369etNRUWFycnJMUlJSaaoqMgYY8yrr75q%2BvTp43pMw7x588xNN93k2v4TTzxhMjMzPdqXL9f5%2B9//3qSnp5vKyspT7vvll192vX/27t1rOnXqZJ599llz6NAh8/XXX5tBgwaZhx56yKdrrOk9eK6OZX3WeHwbcXFxZt26ddW2f2KNeXl5Jj4%2B3qxYscIcPnzYfPnll6Znz57mhRdeqHONda3zRKf6tfeFCxea4cOHm//85z%2BmpKTETJw40UyZMsXVf88997jq%2BPHHH01SUpJ5/fXXTUVFhdmwYYPp0KGD2b59u0/XOHfuXHP33Xefdt8N5VgOGzbM3HXXXcbhcBin02mmTp1qhg4d6vpe1BCOpTHHHpkSGxtrduzYUa3vxBr/9re/mQ4dOpgPPvjAHD582Hz44YemU6dOVh/3cxwBq44SEhJMQkKCad%2B%2BvWnfvr3r4%2BOee%2B4507NnT9OpUydz%2B%2B23uz1Pp6SkxNxxxx2mU6dOJjk52SxevLja85/mzZtn7rjjjmr7Pf5clp07dxpjjHE4HGb27NkmOTnZdOjQwYwZM8bVV1efffaZiY2NddV24uu7774zO3bsMKNHjzYJCQmmT58%2B5s9//rPb%2Bu%2B%2B%2B67p37%2B/iY%2BPN7/85S/Np59%2B6uqrqqoyTz31lLnmmmtMhw4dqn2OTg6uNe3LV%2Bvs16%2BfiYuLq7bdZ555xhhjzNNPP21GjhzpWv7TTz81aWlpplOnTqZ79%2B4mMzPTVFRU%2BHSNNb0Hz9WxrM8ajTn2rKDY2NhTPhvo5BrXrl1rhg4dajp06GB69uxp/vCHP5w2ZJ/LOt98803XsrGxsSY%2BPt4kJCSYuXPnGmOOTXjz58833bp1M0lJSebuu%2B82paWlrvXHjBljFi5c6Pr4008/NUOHDjXx8fGmf//%2B1iar%2Bqyxffv2rrYTX2%2B%2B%2BaYxpuEcy8LCQpORkWG6d%2B9uOnXqZCZPnmz27t3rWr8hHEtjjPn8889NbGys2bdvX7V9n1zja6%2B9Zvr3728SExNN3759zeuvv26lxpMFGONjdzICAAD4Oe7BAgAAsIyABQAAYBkBCwAAwDICFgAAgGUELAAAAMsIWAAAAJYRsAAAACwjYAEAAFhGwAIAALCMgAUAAGAZAQsAAMAyAhYAAIBlBCwAAADL/h8/lAJ9pFiw8QAAAABJRU5ErkJggg%3D%3D\"/>\n",
              "        </div>\n",
              "        <div role=\"tabpanel\" class=\"tab-pane col-md-12\" id=\"common4817422402083466180\">\n",
              "            \n",
              "<table class=\"freq table table-hover\">\n",
              "    <thead>\n",
              "    <tr>\n",
              "        <td class=\"fillremaining\">Value</td>\n",
              "        <td class=\"number\">Count</td>\n",
              "        <td class=\"number\">Frequency (%)</td>\n",
              "        <td style=\"min-width:200px\">&nbsp;</td>\n",
              "    </tr>\n",
              "    </thead>\n",
              "    <tr class=\"\">\n",
              "        <td class=\"fillremaining\">2015</td>\n",
              "        <td class=\"number\">324</td>\n",
              "        <td class=\"number\">5.0%</td>\n",
              "        <td>\n",
              "            <div class=\"bar\" style=\"width:11%\">&nbsp;</div>\n",
              "        </td>\n",
              "</tr><tr class=\"\">\n",
              "        <td class=\"fillremaining\">2002</td>\n",
              "        <td class=\"number\">324</td>\n",
              "        <td class=\"number\">5.0%</td>\n",
              "        <td>\n",
              "            <div class=\"bar\" style=\"width:11%\">&nbsp;</div>\n",
              "        </td>\n",
              "</tr><tr class=\"\">\n",
              "        <td class=\"fillremaining\">2012</td>\n",
              "        <td class=\"number\">324</td>\n",
              "        <td class=\"number\">5.0%</td>\n",
              "        <td>\n",
              "            <div class=\"bar\" style=\"width:11%\">&nbsp;</div>\n",
              "        </td>\n",
              "</tr><tr class=\"\">\n",
              "        <td class=\"fillremaining\">2016</td>\n",
              "        <td class=\"number\">324</td>\n",
              "        <td class=\"number\">5.0%</td>\n",
              "        <td>\n",
              "            <div class=\"bar\" style=\"width:11%\">&nbsp;</div>\n",
              "        </td>\n",
              "</tr><tr class=\"\">\n",
              "        <td class=\"fillremaining\">2005</td>\n",
              "        <td class=\"number\">324</td>\n",
              "        <td class=\"number\">5.0%</td>\n",
              "        <td>\n",
              "            <div class=\"bar\" style=\"width:11%\">&nbsp;</div>\n",
              "        </td>\n",
              "</tr><tr class=\"\">\n",
              "        <td class=\"fillremaining\">2011</td>\n",
              "        <td class=\"number\">324</td>\n",
              "        <td class=\"number\">5.0%</td>\n",
              "        <td>\n",
              "            <div class=\"bar\" style=\"width:11%\">&nbsp;</div>\n",
              "        </td>\n",
              "</tr><tr class=\"\">\n",
              "        <td class=\"fillremaining\">2000</td>\n",
              "        <td class=\"number\">324</td>\n",
              "        <td class=\"number\">5.0%</td>\n",
              "        <td>\n",
              "            <div class=\"bar\" style=\"width:11%\">&nbsp;</div>\n",
              "        </td>\n",
              "</tr><tr class=\"\">\n",
              "        <td class=\"fillremaining\">2010</td>\n",
              "        <td class=\"number\">324</td>\n",
              "        <td class=\"number\">5.0%</td>\n",
              "        <td>\n",
              "            <div class=\"bar\" style=\"width:11%\">&nbsp;</div>\n",
              "        </td>\n",
              "</tr><tr class=\"\">\n",
              "        <td class=\"fillremaining\">2014</td>\n",
              "        <td class=\"number\">324</td>\n",
              "        <td class=\"number\">5.0%</td>\n",
              "        <td>\n",
              "            <div class=\"bar\" style=\"width:11%\">&nbsp;</div>\n",
              "        </td>\n",
              "</tr><tr class=\"\">\n",
              "        <td class=\"fillremaining\">1999</td>\n",
              "        <td class=\"number\">324</td>\n",
              "        <td class=\"number\">5.0%</td>\n",
              "        <td>\n",
              "            <div class=\"bar\" style=\"width:11%\">&nbsp;</div>\n",
              "        </td>\n",
              "</tr><tr class=\"other\">\n",
              "        <td class=\"fillremaining\">Other values (10)</td>\n",
              "        <td class=\"number\">3182</td>\n",
              "        <td class=\"number\">49.5%</td>\n",
              "        <td>\n",
              "            <div class=\"bar\" style=\"width:100%\">&nbsp;</div>\n",
              "        </td>\n",
              "</tr>\n",
              "</table>\n",
              "        </div>\n",
              "        <div role=\"tabpanel\" class=\"tab-pane col-md-12\"  id=\"extreme4817422402083466180\">\n",
              "            <p class=\"h4\">Minimum 5 values</p>\n",
              "            \n",
              "<table class=\"freq table table-hover\">\n",
              "    <thead>\n",
              "    <tr>\n",
              "        <td class=\"fillremaining\">Value</td>\n",
              "        <td class=\"number\">Count</td>\n",
              "        <td class=\"number\">Frequency (%)</td>\n",
              "        <td style=\"min-width:200px\">&nbsp;</td>\n",
              "    </tr>\n",
              "    </thead>\n",
              "    <tr class=\"\">\n",
              "        <td class=\"fillremaining\">1998</td>\n",
              "        <td class=\"number\">304</td>\n",
              "        <td class=\"number\">4.7%</td>\n",
              "        <td>\n",
              "            <div class=\"bar\" style=\"width:93%\">&nbsp;</div>\n",
              "        </td>\n",
              "</tr><tr class=\"\">\n",
              "        <td class=\"fillremaining\">1999</td>\n",
              "        <td class=\"number\">324</td>\n",
              "        <td class=\"number\">5.0%</td>\n",
              "        <td>\n",
              "            <div class=\"bar\" style=\"width:100%\">&nbsp;</div>\n",
              "        </td>\n",
              "</tr><tr class=\"\">\n",
              "        <td class=\"fillremaining\">2000</td>\n",
              "        <td class=\"number\">324</td>\n",
              "        <td class=\"number\">5.0%</td>\n",
              "        <td>\n",
              "            <div class=\"bar\" style=\"width:100%\">&nbsp;</div>\n",
              "        </td>\n",
              "</tr><tr class=\"\">\n",
              "        <td class=\"fillremaining\">2001</td>\n",
              "        <td class=\"number\">321</td>\n",
              "        <td class=\"number\">5.0%</td>\n",
              "        <td>\n",
              "            <div class=\"bar\" style=\"width:99%\">&nbsp;</div>\n",
              "        </td>\n",
              "</tr><tr class=\"\">\n",
              "        <td class=\"fillremaining\">2002</td>\n",
              "        <td class=\"number\">324</td>\n",
              "        <td class=\"number\">5.0%</td>\n",
              "        <td>\n",
              "            <div class=\"bar\" style=\"width:100%\">&nbsp;</div>\n",
              "        </td>\n",
              "</tr>\n",
              "</table>\n",
              "            <p class=\"h4\">Maximum 5 values</p>\n",
              "            \n",
              "<table class=\"freq table table-hover\">\n",
              "    <thead>\n",
              "    <tr>\n",
              "        <td class=\"fillremaining\">Value</td>\n",
              "        <td class=\"number\">Count</td>\n",
              "        <td class=\"number\">Frequency (%)</td>\n",
              "        <td style=\"min-width:200px\">&nbsp;</td>\n",
              "    </tr>\n",
              "    </thead>\n",
              "    <tr class=\"\">\n",
              "        <td class=\"fillremaining\">2013</td>\n",
              "        <td class=\"number\">323</td>\n",
              "        <td class=\"number\">5.0%</td>\n",
              "        <td>\n",
              "            <div class=\"bar\" style=\"width:99%\">&nbsp;</div>\n",
              "        </td>\n",
              "</tr><tr class=\"\">\n",
              "        <td class=\"fillremaining\">2014</td>\n",
              "        <td class=\"number\">324</td>\n",
              "        <td class=\"number\">5.0%</td>\n",
              "        <td>\n",
              "            <div class=\"bar\" style=\"width:100%\">&nbsp;</div>\n",
              "        </td>\n",
              "</tr><tr class=\"\">\n",
              "        <td class=\"fillremaining\">2015</td>\n",
              "        <td class=\"number\">324</td>\n",
              "        <td class=\"number\">5.0%</td>\n",
              "        <td>\n",
              "            <div class=\"bar\" style=\"width:100%\">&nbsp;</div>\n",
              "        </td>\n",
              "</tr><tr class=\"\">\n",
              "        <td class=\"fillremaining\">2016</td>\n",
              "        <td class=\"number\">324</td>\n",
              "        <td class=\"number\">5.0%</td>\n",
              "        <td>\n",
              "            <div class=\"bar\" style=\"width:100%\">&nbsp;</div>\n",
              "        </td>\n",
              "</tr><tr class=\"\">\n",
              "        <td class=\"fillremaining\">2017</td>\n",
              "        <td class=\"number\">296</td>\n",
              "        <td class=\"number\">4.6%</td>\n",
              "        <td>\n",
              "            <div class=\"bar\" style=\"width:91%\">&nbsp;</div>\n",
              "        </td>\n",
              "</tr>\n",
              "</table>\n",
              "        </div>\n",
              "    </div>\n",
              "</div>\n",
              "</div><div class=\"row variablerow\">\n",
              "    <div class=\"col-md-3 namecol\">\n",
              "        <p class=\"h4 pp-anchor\" id=\"pp_var_state\">state<br/>\n",
              "            <small>Categorical</small>\n",
              "        </p>\n",
              "    </div><div class=\"col-md-3\">\n",
              "    <table class=\"stats \">\n",
              "        <tr class=\"\">\n",
              "            <th>Distinct count</th>\n",
              "            <td>23</td>\n",
              "        </tr>\n",
              "        <tr>\n",
              "            <th>Unique (%)</th>\n",
              "            <td>0.4%</td>\n",
              "        </tr>\n",
              "        <tr class=\"ignore\">\n",
              "            <th>Missing (%)</th>\n",
              "            <td>0.0%</td>\n",
              "        </tr>\n",
              "        <tr class=\"ignore\">\n",
              "            <th>Missing (n)</th>\n",
              "            <td>0</td>\n",
              "        </tr>\n",
              "    </table>\n",
              "</div>\n",
              "<div class=\"col-md-6 collapse in\" id=\"minifreqtable6080612925246089795\">\n",
              "    <table class=\"mini freq\">\n",
              "        <tr class=\"\">\n",
              "    <th>Rio</th>\n",
              "    <td>\n",
              "        <div class=\"bar\" style=\"width:15%\" data-toggle=\"tooltip\" data-placement=\"right\" data-html=\"true\"\n",
              "             data-delay=500 title=\"Percentage: 10.9%\">\n",
              "            &nbsp;\n",
              "        </div>\n",
              "        697\n",
              "    </td>\n",
              "</tr><tr class=\"\">\n",
              "    <th>Mato Grosso</th>\n",
              "    <td>\n",
              "        <div class=\"bar\" style=\"width:10%\" data-toggle=\"tooltip\" data-placement=\"right\" data-html=\"true\"\n",
              "             data-delay=500 title=\"Percentage: 7.4%\">\n",
              "            &nbsp;\n",
              "        </div>\n",
              "        473\n",
              "    </td>\n",
              "</tr><tr class=\"\">\n",
              "    <th>Paraiba</th>\n",
              "    <td>\n",
              "        <div class=\"bar\" style=\"width:10%\" data-toggle=\"tooltip\" data-placement=\"right\" data-html=\"true\"\n",
              "             data-delay=500 title=\"Percentage: 7.3%\">\n",
              "            &nbsp;\n",
              "        </div>\n",
              "        472\n",
              "    </td>\n",
              "</tr><tr class=\"other\">\n",
              "    <th>Other values (20)</th>\n",
              "    <td>\n",
              "        <div class=\"bar\" style=\"width:100%\" data-toggle=\"tooltip\" data-placement=\"right\" data-html=\"true\"\n",
              "             data-delay=500 title=\"Percentage: 74.4%\">\n",
              "            4780\n",
              "        </div>\n",
              "        \n",
              "    </td>\n",
              "</tr>\n",
              "    </table>\n",
              "</div>\n",
              "<div class=\"col-md-12 text-right\">\n",
              "    <a role=\"button\" data-toggle=\"collapse\" data-target=\"#freqtable6080612925246089795, #minifreqtable6080612925246089795\"\n",
              "       aria-expanded=\"true\" aria-controls=\"collapseExample\">\n",
              "        Toggle details\n",
              "    </a>\n",
              "</div>\n",
              "<div class=\"col-md-12 extrapadding collapse\" id=\"freqtable6080612925246089795\">\n",
              "    \n",
              "<table class=\"freq table table-hover\">\n",
              "    <thead>\n",
              "    <tr>\n",
              "        <td class=\"fillremaining\">Value</td>\n",
              "        <td class=\"number\">Count</td>\n",
              "        <td class=\"number\">Frequency (%)</td>\n",
              "        <td style=\"min-width:200px\">&nbsp;</td>\n",
              "    </tr>\n",
              "    </thead>\n",
              "    <tr class=\"\">\n",
              "        <td class=\"fillremaining\">Rio</td>\n",
              "        <td class=\"number\">697</td>\n",
              "        <td class=\"number\">10.9%</td>\n",
              "        <td>\n",
              "            <div class=\"bar\" style=\"width:23%\">&nbsp;</div>\n",
              "        </td>\n",
              "</tr><tr class=\"\">\n",
              "        <td class=\"fillremaining\">Mato Grosso</td>\n",
              "        <td class=\"number\">473</td>\n",
              "        <td class=\"number\">7.4%</td>\n",
              "        <td>\n",
              "            <div class=\"bar\" style=\"width:16%\">&nbsp;</div>\n",
              "        </td>\n",
              "</tr><tr class=\"\">\n",
              "        <td class=\"fillremaining\">Paraiba</td>\n",
              "        <td class=\"number\">472</td>\n",
              "        <td class=\"number\">7.3%</td>\n",
              "        <td>\n",
              "            <div class=\"bar\" style=\"width:16%\">&nbsp;</div>\n",
              "        </td>\n",
              "</tr><tr class=\"\">\n",
              "        <td class=\"fillremaining\">Tocantins</td>\n",
              "        <td class=\"number\">239</td>\n",
              "        <td class=\"number\">3.7%</td>\n",
              "        <td>\n",
              "            <div class=\"bar\" style=\"width:8%\">&nbsp;</div>\n",
              "        </td>\n",
              "</tr><tr class=\"\">\n",
              "        <td class=\"fillremaining\">Maranhao</td>\n",
              "        <td class=\"number\">239</td>\n",
              "        <td class=\"number\">3.7%</td>\n",
              "        <td>\n",
              "            <div class=\"bar\" style=\"width:8%\">&nbsp;</div>\n",
              "        </td>\n",
              "</tr><tr class=\"\">\n",
              "        <td class=\"fillremaining\">Alagoas</td>\n",
              "        <td class=\"number\">239</td>\n",
              "        <td class=\"number\">3.7%</td>\n",
              "        <td>\n",
              "            <div class=\"bar\" style=\"width:8%\">&nbsp;</div>\n",
              "        </td>\n",
              "</tr><tr class=\"\">\n",
              "        <td class=\"fillremaining\">Amapa</td>\n",
              "        <td class=\"number\">239</td>\n",
              "        <td class=\"number\">3.7%</td>\n",
              "        <td>\n",
              "            <div class=\"bar\" style=\"width:8%\">&nbsp;</div>\n",
              "        </td>\n",
              "</tr><tr class=\"\">\n",
              "        <td class=\"fillremaining\">Amazonas</td>\n",
              "        <td class=\"number\">239</td>\n",
              "        <td class=\"number\">3.7%</td>\n",
              "        <td>\n",
              "            <div class=\"bar\" style=\"width:8%\">&nbsp;</div>\n",
              "        </td>\n",
              "</tr><tr class=\"\">\n",
              "        <td class=\"fillremaining\">Bahia</td>\n",
              "        <td class=\"number\">239</td>\n",
              "        <td class=\"number\">3.7%</td>\n",
              "        <td>\n",
              "            <div class=\"bar\" style=\"width:8%\">&nbsp;</div>\n",
              "        </td>\n",
              "</tr><tr class=\"\">\n",
              "        <td class=\"fillremaining\">Ceara</td>\n",
              "        <td class=\"number\">239</td>\n",
              "        <td class=\"number\">3.7%</td>\n",
              "        <td>\n",
              "            <div class=\"bar\" style=\"width:8%\">&nbsp;</div>\n",
              "        </td>\n",
              "</tr><tr class=\"other\">\n",
              "        <td class=\"fillremaining\">Other values (13)</td>\n",
              "        <td class=\"number\">3107</td>\n",
              "        <td class=\"number\">48.4%</td>\n",
              "        <td>\n",
              "            <div class=\"bar\" style=\"width:100%\">&nbsp;</div>\n",
              "        </td>\n",
              "</tr>\n",
              "</table>\n",
              "</div>\n",
              "</div><div class=\"row variablerow\">\n",
              "    <div class=\"col-md-3 namecol\">\n",
              "        <p class=\"h4 pp-anchor\" id=\"pp_var_month\">month<br/>\n",
              "            <small>Categorical</small>\n",
              "        </p>\n",
              "    </div><div class=\"col-md-3\">\n",
              "    <table class=\"stats \">\n",
              "        <tr class=\"\">\n",
              "            <th>Distinct count</th>\n",
              "            <td>12</td>\n",
              "        </tr>\n",
              "        <tr>\n",
              "            <th>Unique (%)</th>\n",
              "            <td>0.2%</td>\n",
              "        </tr>\n",
              "        <tr class=\"ignore\">\n",
              "            <th>Missing (%)</th>\n",
              "            <td>0.0%</td>\n",
              "        </tr>\n",
              "        <tr class=\"ignore\">\n",
              "            <th>Missing (n)</th>\n",
              "            <td>0</td>\n",
              "        </tr>\n",
              "    </table>\n",
              "</div>\n",
              "<div class=\"col-md-6 collapse in\" id=\"minifreqtable6308865915906755401\">\n",
              "    <table class=\"mini freq\">\n",
              "        <tr class=\"\">\n",
              "    <th>Setembro</th>\n",
              "    <td>\n",
              "        <div class=\"bar\" style=\"width:12%\" data-toggle=\"tooltip\" data-placement=\"right\" data-html=\"true\"\n",
              "             data-delay=500 title=\"Percentage: 8.4%\">\n",
              "            &nbsp;\n",
              "        </div>\n",
              "        540\n",
              "    </td>\n",
              "</tr><tr class=\"\">\n",
              "    <th>Outubro</th>\n",
              "    <td>\n",
              "        <div class=\"bar\" style=\"width:12%\" data-toggle=\"tooltip\" data-placement=\"right\" data-html=\"true\"\n",
              "             data-delay=500 title=\"Percentage: 8.4%\">\n",
              "            &nbsp;\n",
              "        </div>\n",
              "        540\n",
              "    </td>\n",
              "</tr><tr class=\"\">\n",
              "    <th>Novembro</th>\n",
              "    <td>\n",
              "        <div class=\"bar\" style=\"width:12%\" data-toggle=\"tooltip\" data-placement=\"right\" data-html=\"true\"\n",
              "             data-delay=500 title=\"Percentage: 8.4%\">\n",
              "            &nbsp;\n",
              "        </div>\n",
              "        540\n",
              "    </td>\n",
              "</tr><tr class=\"other\">\n",
              "    <th>Other values (9)</th>\n",
              "    <td>\n",
              "        <div class=\"bar\" style=\"width:100%\" data-toggle=\"tooltip\" data-placement=\"right\" data-html=\"true\"\n",
              "             data-delay=500 title=\"Percentage: 74.8%\">\n",
              "            4802\n",
              "        </div>\n",
              "        \n",
              "    </td>\n",
              "</tr>\n",
              "    </table>\n",
              "</div>\n",
              "<div class=\"col-md-12 text-right\">\n",
              "    <a role=\"button\" data-toggle=\"collapse\" data-target=\"#freqtable6308865915906755401, #minifreqtable6308865915906755401\"\n",
              "       aria-expanded=\"true\" aria-controls=\"collapseExample\">\n",
              "        Toggle details\n",
              "    </a>\n",
              "</div>\n",
              "<div class=\"col-md-12 extrapadding collapse\" id=\"freqtable6308865915906755401\">\n",
              "    \n",
              "<table class=\"freq table table-hover\">\n",
              "    <thead>\n",
              "    <tr>\n",
              "        <td class=\"fillremaining\">Value</td>\n",
              "        <td class=\"number\">Count</td>\n",
              "        <td class=\"number\">Frequency (%)</td>\n",
              "        <td style=\"min-width:200px\">&nbsp;</td>\n",
              "    </tr>\n",
              "    </thead>\n",
              "    <tr class=\"\">\n",
              "        <td class=\"fillremaining\">Setembro</td>\n",
              "        <td class=\"number\">540</td>\n",
              "        <td class=\"number\">8.4%</td>\n",
              "        <td>\n",
              "            <div class=\"bar\" style=\"width:52%\">&nbsp;</div>\n",
              "        </td>\n",
              "</tr><tr class=\"\">\n",
              "        <td class=\"fillremaining\">Outubro</td>\n",
              "        <td class=\"number\">540</td>\n",
              "        <td class=\"number\">8.4%</td>\n",
              "        <td>\n",
              "            <div class=\"bar\" style=\"width:52%\">&nbsp;</div>\n",
              "        </td>\n",
              "</tr><tr class=\"\">\n",
              "        <td class=\"fillremaining\">Novembro</td>\n",
              "        <td class=\"number\">540</td>\n",
              "        <td class=\"number\">8.4%</td>\n",
              "        <td>\n",
              "            <div class=\"bar\" style=\"width:52%\">&nbsp;</div>\n",
              "        </td>\n",
              "</tr><tr class=\"\">\n",
              "        <td class=\"fillremaining\">Agosto</td>\n",
              "        <td class=\"number\">540</td>\n",
              "        <td class=\"number\">8.4%</td>\n",
              "        <td>\n",
              "            <div class=\"bar\" style=\"width:52%\">&nbsp;</div>\n",
              "        </td>\n",
              "</tr><tr class=\"\">\n",
              "        <td class=\"fillremaining\">Junho</td>\n",
              "        <td class=\"number\">539</td>\n",
              "        <td class=\"number\">8.4%</td>\n",
              "        <td>\n",
              "            <div class=\"bar\" style=\"width:52%\">&nbsp;</div>\n",
              "        </td>\n",
              "</tr><tr class=\"\">\n",
              "        <td class=\"fillremaining\">Julho</td>\n",
              "        <td class=\"number\">539</td>\n",
              "        <td class=\"number\">8.4%</td>\n",
              "        <td>\n",
              "            <div class=\"bar\" style=\"width:52%\">&nbsp;</div>\n",
              "        </td>\n",
              "</tr><tr class=\"\">\n",
              "        <td class=\"fillremaining\">Janeiro</td>\n",
              "        <td class=\"number\">535</td>\n",
              "        <td class=\"number\">8.3%</td>\n",
              "        <td>\n",
              "            <div class=\"bar\" style=\"width:51%\">&nbsp;</div>\n",
              "        </td>\n",
              "</tr><tr class=\"\">\n",
              "        <td class=\"fillremaining\">Fevereiro</td>\n",
              "        <td class=\"number\">535</td>\n",
              "        <td class=\"number\">8.3%</td>\n",
              "        <td>\n",
              "            <div class=\"bar\" style=\"width:51%\">&nbsp;</div>\n",
              "        </td>\n",
              "</tr><tr class=\"\">\n",
              "        <td class=\"fillremaining\">Março</td>\n",
              "        <td class=\"number\">534</td>\n",
              "        <td class=\"number\">8.3%</td>\n",
              "        <td>\n",
              "            <div class=\"bar\" style=\"width:51%\">&nbsp;</div>\n",
              "        </td>\n",
              "</tr><tr class=\"\">\n",
              "        <td class=\"fillremaining\">Abril</td>\n",
              "        <td class=\"number\">534</td>\n",
              "        <td class=\"number\">8.3%</td>\n",
              "        <td>\n",
              "            <div class=\"bar\" style=\"width:51%\">&nbsp;</div>\n",
              "        </td>\n",
              "</tr><tr class=\"other\">\n",
              "        <td class=\"fillremaining\">Other values (2)</td>\n",
              "        <td class=\"number\">1046</td>\n",
              "        <td class=\"number\">16.3%</td>\n",
              "        <td>\n",
              "            <div class=\"bar\" style=\"width:100%\">&nbsp;</div>\n",
              "        </td>\n",
              "</tr>\n",
              "</table>\n",
              "</div>\n",
              "</div><div class=\"row variablerow\">\n",
              "    <div class=\"col-md-3 namecol\">\n",
              "        <p class=\"h4 pp-anchor\" id=\"pp_var_number\">number<br/>\n",
              "            <small>Numeric</small>\n",
              "        </p>\n",
              "    </div><div class=\"col-md-6\">\n",
              "    <div class=\"row\">\n",
              "        <div class=\"col-sm-6\">\n",
              "            <table class=\"stats \">\n",
              "                <tr>\n",
              "                    <th>Distinct count</th>\n",
              "                    <td>1479</td>\n",
              "                </tr>\n",
              "                <tr>\n",
              "                    <th>Unique (%)</th>\n",
              "                    <td>23.0%</td>\n",
              "                </tr>\n",
              "                <tr class=\"ignore\">\n",
              "                    <th>Missing (%)</th>\n",
              "                    <td>0.0%</td>\n",
              "                </tr>\n",
              "                <tr class=\"ignore\">\n",
              "                    <th>Missing (n)</th>\n",
              "                    <td>0</td>\n",
              "                </tr>\n",
              "                <tr class=\"ignore\">\n",
              "                    <th>Infinite (%)</th>\n",
              "                    <td>0.0%</td>\n",
              "                </tr>\n",
              "                <tr class=\"ignore\">\n",
              "                    <th>Infinite (n)</th>\n",
              "                    <td>0</td>\n",
              "                </tr>\n",
              "            </table>\n",
              "\n",
              "        </div>\n",
              "        <div class=\"col-sm-6\">\n",
              "            <table class=\"stats \">\n",
              "\n",
              "                <tr>\n",
              "                    <th>Mean</th>\n",
              "                    <td>108.82</td>\n",
              "                </tr>\n",
              "                <tr>\n",
              "                    <th>Minimum</th>\n",
              "                    <td>0</td>\n",
              "                </tr>\n",
              "                <tr>\n",
              "                    <th>Maximum</th>\n",
              "                    <td>998</td>\n",
              "                </tr>\n",
              "                <tr class=\"alert\">\n",
              "                    <th>Zeros (%)</th>\n",
              "                    <td>9.3%</td>\n",
              "                </tr>\n",
              "            </table>\n",
              "        </div>\n",
              "    </div>\n",
              "</div>\n",
              "<div class=\"col-md-3 collapse in\" id=\"minihistogram-8725503618454502184\">\n",
              "    <img src=\"data:image/png;base64,iVBORw0KGgoAAAANSUhEUgAAAMgAAABLCAYAAAA1fMjoAAAABHNCSVQICAgIfAhkiAAAAAlwSFlzAAAPYQAAD2EBqD%2BnaQAAADh0RVh0U29mdHdhcmUAbWF0cGxvdGxpYiB2ZXJzaW9uMy4xLjIsIGh0dHA6Ly9tYXRwbG90bGliLm9yZy8li6FKAAABG0lEQVR4nO3dwQkCMRBAURVLsgh78mxPFmFP8S7ycRd0g753D8zlJ8wp%2BzHG2AEvHbYeAGZ23HqAZ6fLbfGZ%2B/X8gUnACwJJIBAEAkEgEAQCQSAQBAJBIBAEAkEgEAQCQSAQBAJBIBAEAkEgEAQCQSAQBAJBIBAEAkEgEAQCQSAQBAJBIBAEAkEgEAQCQSAQBAJBIBAEAkEgEAQCQSAQBAJBIBAEAmG6f9LX8Lc6n%2BIFgSAQCAKB8BM7yBr2Ft7xt4GssSaqpUQ4F4FM5hsRzmy2C2I/xhhbDwGzsqRDEAgEgUAQCASBQBAIBIFAEAgEgUAQCASBQBAIBIFAEAgEgUAQCASBQBAIBIFAEAgEgUAQCASBQBAIBIFAeADV7BeXddZBVQAAAABJRU5ErkJggg%3D%3D\">\n",
              "\n",
              "</div>\n",
              "<div class=\"col-md-12 text-right\">\n",
              "    <a role=\"button\" data-toggle=\"collapse\" data-target=\"#descriptives-8725503618454502184,#minihistogram-8725503618454502184\"\n",
              "       aria-expanded=\"false\" aria-controls=\"collapseExample\">\n",
              "        Toggle details\n",
              "    </a>\n",
              "</div>\n",
              "<div class=\"row collapse col-md-12\" id=\"descriptives-8725503618454502184\">\n",
              "    <ul class=\"nav nav-tabs\" role=\"tablist\">\n",
              "        <li role=\"presentation\" class=\"active\"><a href=\"#quantiles-8725503618454502184\"\n",
              "                                                  aria-controls=\"quantiles-8725503618454502184\" role=\"tab\"\n",
              "                                                  data-toggle=\"tab\">Statistics</a></li>\n",
              "        <li role=\"presentation\"><a href=\"#histogram-8725503618454502184\" aria-controls=\"histogram-8725503618454502184\"\n",
              "                                   role=\"tab\" data-toggle=\"tab\">Histogram</a></li>\n",
              "        <li role=\"presentation\"><a href=\"#common-8725503618454502184\" aria-controls=\"common-8725503618454502184\"\n",
              "                                   role=\"tab\" data-toggle=\"tab\">Common Values</a></li>\n",
              "        <li role=\"presentation\"><a href=\"#extreme-8725503618454502184\" aria-controls=\"extreme-8725503618454502184\"\n",
              "                                   role=\"tab\" data-toggle=\"tab\">Extreme Values</a></li>\n",
              "\n",
              "    </ul>\n",
              "\n",
              "    <div class=\"tab-content\">\n",
              "        <div role=\"tabpanel\" class=\"tab-pane active row\" id=\"quantiles-8725503618454502184\">\n",
              "            <div class=\"col-md-4 col-md-offset-1\">\n",
              "                <p class=\"h4\">Quantile statistics</p>\n",
              "                <table class=\"stats indent\">\n",
              "                    <tr>\n",
              "                        <th>Minimum</th>\n",
              "                        <td>0</td>\n",
              "                    </tr>\n",
              "                    <tr>\n",
              "                        <th>5-th percentile</th>\n",
              "                        <td>0</td>\n",
              "                    </tr>\n",
              "                    <tr>\n",
              "                        <th>Q1</th>\n",
              "                        <td>3</td>\n",
              "                    </tr>\n",
              "                    <tr>\n",
              "                        <th>Median</th>\n",
              "                        <td>24.497</td>\n",
              "                    </tr>\n",
              "                    <tr>\n",
              "                        <th>Q3</th>\n",
              "                        <td>114</td>\n",
              "                    </tr>\n",
              "                    <tr>\n",
              "                        <th>95-th percentile</th>\n",
              "                        <td>574.9</td>\n",
              "                    </tr>\n",
              "                    <tr>\n",
              "                        <th>Maximum</th>\n",
              "                        <td>998</td>\n",
              "                    </tr>\n",
              "                    <tr>\n",
              "                        <th>Range</th>\n",
              "                        <td>998</td>\n",
              "                    </tr>\n",
              "                    <tr>\n",
              "                        <th>Interquartile range</th>\n",
              "                        <td>111</td>\n",
              "                    </tr>\n",
              "                </table>\n",
              "            </div>\n",
              "            <div class=\"col-md-4 col-md-offset-2\">\n",
              "                <p class=\"h4\">Descriptive statistics</p>\n",
              "                <table class=\"stats indent\">\n",
              "                    <tr>\n",
              "                        <th>Standard deviation</th>\n",
              "                        <td>191.14</td>\n",
              "                    </tr>\n",
              "                    <tr>\n",
              "                        <th>Coef of variation</th>\n",
              "                        <td>1.7566</td>\n",
              "                    </tr>\n",
              "                    <tr>\n",
              "                        <th>Kurtosis</th>\n",
              "                        <td>6.3133</td>\n",
              "                    </tr>\n",
              "                    <tr>\n",
              "                        <th>Mean</th>\n",
              "                        <td>108.82</td>\n",
              "                    </tr>\n",
              "                    <tr>\n",
              "                        <th>MAD</th>\n",
              "                        <td>127.81</td>\n",
              "                    </tr>\n",
              "                    <tr class=\"\">\n",
              "                        <th>Skewness</th>\n",
              "                        <td>2.542</td>\n",
              "                    </tr>\n",
              "                    <tr>\n",
              "                        <th>Sum</th>\n",
              "                        <td>698810</td>\n",
              "                    </tr>\n",
              "                    <tr>\n",
              "                        <th>Variance</th>\n",
              "                        <td>36535</td>\n",
              "                    </tr>\n",
              "                    <tr>\n",
              "                        <th>Memory size</th>\n",
              "                        <td>50.3 KiB</td>\n",
              "                    </tr>\n",
              "                </table>\n",
              "            </div>\n",
              "        </div>\n",
              "        <div role=\"tabpanel\" class=\"tab-pane col-md-8 col-md-offset-2\" id=\"histogram-8725503618454502184\">\n",
              "            <img src=\"data:image/png;base64,iVBORw0KGgoAAAANSUhEUgAAAlgAAAGQCAYAAAByNR6YAAAABHNCSVQICAgIfAhkiAAAAAlwSFlzAAAPYQAAD2EBqD%2BnaQAAADh0RVh0U29mdHdhcmUAbWF0cGxvdGxpYiB2ZXJzaW9uMy4xLjIsIGh0dHA6Ly9tYXRwbG90bGliLm9yZy8li6FKAAAgAElEQVR4nO3deXRUZZ7G8SeLBEnIBgQdBoWRRZKwL9GAsimgCI3smbGRFlQkwoSGHhBEoaWBaaO0goPQfXQE9JiBdmQRxFYWtU2voiYFokQcIRNMJFVkIQkkeecPh9IyKIG8dYuK3885/sH7Vt387uNJeLh1qxJijDECAACANaGBHgAAAKCxoWABAABYRsECAACwjIIFAABgGQULAADAMgoWAACAZRQsAAAAyyhYAAAAllGwAAAALKNgAQAAWEbBAgAAsIyCBQAAYBkFCwAAwDIKFgAAgGUULAAAAMsoWAAAAJZRsAAAACyjYAEAAFhGwQIAALCMggUAAGAZBQsAAMAyChYAAIBlFCwAAADLKFgAAACWUbAAAAAso2ABAABYRsECAACwjIIFAABgGQULAADAMgoWAACAZRQsAAAAyyhYAAAAllGwAAAALKNgAQAAWEbBAgAAsIyCBQAAYBkFCwAAwDIKFgAAgGUULAAAAMvCAz3Aj0VRUan1Y4aGhig%2BPlLFxeWqrTXWj/9jRrb%2BRb7%2BQ7b%2BRb7%2B469sW7Vqbu1YF4MrWEEsNDREISEhCg0NCfQojQ7Z%2Bhf5%2Bg/Z%2Bhf5%2Bk9jy5aCBQAAYBkFCwAAwDIKFgAAgGUULAAAAMsoWAAAAJZRsAAAACyjYAEAAFhGwQIAALCMggUAAGAZBQsAAMAyChYAAIBlFCwAAADLKFgAAACWhQd6ADRMn0WvB3qEetuV0T/QIwAA4AiuYAEAAFhGwQIAALCMggUAAGAZBQsAAMAyChYAAIBlFCwAAADLKFgAAACWUbAAAAAso2ABAABYRsECAACwjIIFAABgGQULAADAMgoWAACAZRQsAAAAyyhYAAAAllGwAAAALKNgAQAAWEbBAgAAsIyCBQAAYBkFCwAAwDIKFgAAgGUULAAAAMsoWAAAAJZRsAAAACyjYAEAAFhGwQIAALCMggUAAGAZBQsAAMAyChYAAIBlFCwAAADLKFgAAACWUbAAAAAso2ABAABYRsECAACwjIIFAABgGQULAADAMgoWAACAZRQsAAAAyxpFwVq%2BfLk6d%2B7s/XN2drbGjx%2BvXr16aeTIkdq2bZvP4zds2KDhw4erV69eSktLU25urnevqqpKjzzyiG6%2B%2BWalpKRo9uzZcrvdjp0LAAAIfkFfsA4dOqStW7d6/1xYWKiZM2dq8uTJys7O1qJFi7R48WLl5ORIkvbs2aPVq1fr17/%2Btd577z0NHjxYM2bM0OnTpyVJq1atksvlUlZWlnbv3i1jjB566KGAnBsAAAhOQV2wamtr9eijj2rq1Knete3bt6tdu3YaP368IiIilJqaqiFDhmjz5s2SpKysLI0dO1bdu3dX06ZNNX36dEnS3r17VV1drS1btmjmzJm6%2BuqrFRsbq4yMDO3bt09ffvllIE4RAAAEoaAuWC%2B//LIiIiI0atQo75rL5VJiYqLP4xITE70vA353PzQ0VF26dFFOTo6%2B%2BOILlZaWKikpybt/3XXXqWnTpnK5XH4%2BGwAA0FiEB3qAS/XVV19p9erV2rhxo8%2B6x%2BNR69atfdZiY2O991F5PB7FxMT47MfExMjtdsvj8UiSoqOjffajo6Mv6j6swsJCFRUV%2BayFhzdTQkJCvY9RH2FhwdWPw8ODZ95z2QZbxsGCfP2HbP2LfP2nsWUbtAVrxYoVGjt2rDp06KDjx49f1HONMQ3av5CsrCytWbPGZy09PV2zZ89u0HGDXVxcZKBHuGjR0VcGeoRGjXz9h2z9i3z9p7FkG5QFKzs7WwcOHNCOHTvq7MXFxXmvRJ3jdrsVHx//vfsej0cdO3b0Psbj8Sgy8psycOrUKbVo0aLe802aNElDhgzxWQsPbya3u7zex6iPYGv5ts/fn8LCQhUdfaVKSipUU1Mb6HEaHfL1H7L1L/L1H39lG6h/3Adlwdq2bZtOnjypwYMHS/rmilNKSoruueeeOsUrNzdX3bt3lyQlJyfL5XLpzjvvlCTV1NTo4MGDGj9%2BvNq2bauYmBi5XC61adNGkvTJJ5/ozJkzSk5Orvd8CQkJdV4OLCoqVXX1j/ubMRjPv6amNijnDhbk6z9k61/k6z%2BNJdvgugTy/xYsWKDdu3dr69at2rp1q9avXy9J2rp1q0aNGqX8/Hxt3rxZVVVV2r9/v/bv36%2BJEydKktLS0vTqq6/qgw8%2BUEVFhdauXasmTZpo0KBBCgsL08SJE/Xss8%2BqoKBAbrdbTz75pG699Va1bNkykKcMAACCSFBewYqJifG5Ub26ulqSdNVVV0mS1q1bp2XLlmnp0qVq06aNHn/8cV1//fWSpJtvvlk///nPlZGRoZMnT6pr165av369mjZtKkmaPXu2ysvL9ZOf/ETV1dUaPHiwlixZ4uwJAgCAoBZiGnpHN%2BqlqKjU%2BjHDw0N1a%2BY71o/rL7sy%2Bgd6hHoLDw9VXFyk3O7yRnGp%2BnJDvv5Dtv5Fvv7jr2xbtWpu7VgXIyhfIgQAALicUbAAAAAso2ABAABYRsECAACwjIIFAABgGQULAADAMgoWAACAZRQsAAAAyyhYAAAAllGwAAAALKNgAQAAWEbBAgAAsIyCBQAAYBkFCwAAwDIKFgAAgGUULAAAAMsoWAAAAJZRsAAAACyjYAEAAFhGwQIAALCMggUAAGAZBQsAAMAyChYAAIBlFCwAAADLKFgAAACWUbAAAAAso2ABAABYRsECAACwjIIFAABgGQULAADAMgoWAACAZRQsAAAAyyhYAAAAllGwAAAALKNgAQAAWEbBAgAAsIyCBQAAYBkFCwAAwDIKFgAAgGUULAAAAMsoWAAAAJZRsAAAACyjYAEAAFhGwQIAALCMggUAAGAZBQsAAMAyChYAAIBlFCwAAADLKFgAAACWUbAAAAAso2ABAABYRsECAACwjIIFAABgGQULAADAMgoWAACAZUFbsD7%2B%2BGPdfffd6t27t1JTU5WRkaGioiJJUnZ2tsaPH69evXpp5MiR2rZtm89zN2zYoOHDh6tXr15KS0tTbm6ud6%2BqqkqPPPKIbr75ZqWkpGj27Nlyu92OnhsAAAhuQVmwzpw5o3vuuUf9%2BvVTdna2duzYoZMnT2rJkiUqLCzUzJkzNXnyZGVnZ2vRokVavHixcnJyJEl79uzR6tWr9etf/1rvvfeeBg8erBkzZuj06dOSpFWrVsnlcikrK0u7d%2B%2BWMUYPPfRQIE8XAAAEmaAsWBUVFZozZ47uv/9%2BNWnSRPHx8br11lv16aefavv27WrXrp3Gjx%2BviIgIpaamasiQIdq8ebMkKSsrS2PHjlX37t3VtGlTTZ8%2BXZK0d%2B9eVVdXa8uWLZo5c6auvvpqxcbGKiMjQ/v27dOXX34ZyFMGAABBJDzQA1yKmJgYTZgwwfvnzz77TP/93/%2Bt2267TS6XS4mJiT6PT0xM1K5duyRJLpdLt99%2Bu3cvNDRUXbp0UU5Ojrp06aLS0lIlJSV596%2B77jo1bdpULpdLrVu3rtd8hYWF3pcrzwkPb6aEhISLPtcfEhYWXP04PDx45j2XbbBlHCzI13/I1r/I138aW7ZBWbDOyc/P1/Dhw1VdXa2JEydq9uzZuvfee%2BsUodjYWO99VB6PRzExMT77MTExcrvd8ng8kqTo6Gif/ejo6Iu6DysrK0tr1qzxWUtPT9fs2bPrfYzGKC4uMtAjXLTo6CsDPUKjRr7%2BQ7b%2BRb7%2B01iyDeqC1aZNG%2BXk5Oh//ud/9Mgjj%2Bjf/u3f6vU8Y0yD9i9k0qRJGjJkiM9aeHgzud3lDTrudwVby7d9/v4UFhaq6OgrVVJSoZqa2kCP0%2BiQr/%2BQrX%2BRr//4K9tA/eM%2BqAuWJIWEhKhdu3aaM2eOJk%2BerIEDB3qvRJ3jdrsVHx8vSYqLi6uz7/F41LFjR%2B9jPB6PIiO/%2BR9y6tQptWjRot4zJSQk1Hk5sKioVNXVP%2B5vxmA8/5qa2qCcO1iQr/%2BQrX%2BRr/80lmwdvwQyZMgQrVmzRgUFBZd8jOzsbA0fPly1td/8DwgN/fpUunXr5vOxC5KUm5ur7t27S5KSk5Plcrm8ezU1NTp48KC6d%2B%2Butm3bKiYmxmf/k08%2B0ZkzZ5ScnHzJ8wIAgB8XxwvWuHHjtHPnTt1yyy2aPn263njjDVVXV1/UMZKTk1VWVqbHH39cFRUVKi4u1urVq9WnTx%2BlpaUpPz9fmzdvVlVVlfbv36/9%2B/dr4sSJkqS0tDS9%2Buqr%2BuCDD1RRUaG1a9eqSZMmGjRokMLCwjRx4kQ9%2B%2ByzKigokNvt1pNPPqlbb71VLVu29EccAACgEQoxDb3h6BK5XC7t2LFDu3bt0tmzZzVmzBiNHz9e7du3r9fzDx8%2BrGXLlumjjz5Ss2bNdMMNN2jBggVq3bq1/vrXv2rZsmXKy8tTmzZtNHfuXA0bNsz73Jdeeknr16/XyZMn1bVrVy1ZskSdOnWS9PVnbK1YsUKvvfaaqqurNXjwYC1ZskTNmzdv0PkWFZU26PnnEx4eqlsz37F%2BXH/ZldE/0CPUW3h4qOLiIuV2lzeKS9WXG/L1H7L1L/L1H39l26pVw/7%2BvlQBK1jnGGO0c%2BdOLVmyRGVlZUpNTdW//uu/qlu3boEcyzoKFgUL3yBf/yFb/yJf/2lsBStgb0M7e/asdu7cqXvvvVfz589X69at9dBDD6lLly6aOnWqtm/fHqjRAAAAGsTxdxHm5eVpy5YtevXVV1VeXq7hw4frhRdeUO/evb2P6du3r5YsWaJRo0Y5PR4AAECDOV6wRo4cqfbt2%2Bv%2B%2B%2B/XmDFjFBsbW%2BcxAwcOVHFxsdOjAQAAWOF4wdqwYYP69et3wcd9%2BOGHDkwDAABgn%2BP3YHXu3FkzZszQm2%2B%2B6V37z//8T9177711PgAUAAAgGDlesFasWKHS0lJ16NDBuzZo0CDV1tZq5cqVTo8DAABgneMvEb777rvavn274uLivGvt2rVTZmam7rjjDqfHAQAAsM7xK1iVlZWKiIioO0hoqCoqKpweBwAAwDrHC1bfvn21cuVKnTp1yrv25ZdfaunSpT4f1QAAABCsHH%2BJcOHChbrnnnt04403KioqSrW1tSovL1fbtm21ceNGp8cBAACwzvGC1bZtW7322mt6%2B%2B239cUXXyg0NFTt27fXgAEDFBYW5vQ4AAAA1jlesCSpSZMmuuWWWwLxpQEAAPzO8YJ17NgxPfHEE/r0009VWVlZZ/%2Btt95yeiQAAACrAnIPVmFhoQYMGKBmzZo5/eUBAAD8zvGClZubq7feekvx8fFOf2kAAABHOP4xDS1atODKFQAAaNQcL1j333%2B/1qxZI2OM018aAADAEY6/RPj222/r/fff1yuvvKJ//Md/VGiob8d7%2BeWXnR4JAADAKscLVlRUlG6%2B%2BWanvywAAIBjHC9YK1ascPpLAgAAOMrxe7Ak6bPPPtPq1av10EMPedcOHDgQiFEAAACsc7xgZWdna/To0XrjjTe0Y8cOSV9/%2BOiUKVP4kFEAANAoOF6wVq1apV/84hfavn27QkJCJH39%2BwlXrlypZ555xulxAAAArHO8YH3yySdKS0uTJG/BkqQRI0YoLy/P6XEAAACsc7xgNW/e/Ly/g7CwsFBNmjRxehwAAADrHC9YvXr10vLly1VWVuZdO3r0qObPn68bb7zR6XEAAACsc/xjGh566CHdfffdSklJUU1NjXr16qWKigp17NhRK1eudHocAAAA6xwvWFdddZV27Nih/fv36%2BjRo2ratKnat2%2Bv/v37%2B9yTBQAAEKwcL1iSdMUVV%2BiWW24JxJcGAADwO8cL1pAhQ37wShWfhQUAAIKd4wXr9ttv9ylYNTU1Onr0qHJycnT33Xc7PQ4AAIB1jhesefPmnXd99%2B7d%2BvOf/%2BzwNAAAAPYF5HcRns8tt9yi1157LdBjAAAANNhlU7AOHjwoY0ygxwAAAGgwx18inDx5cp21iooK5eXladiwYU6PAwAAYJ3jBatdu3Z13kUYERGh8ePHa8KECU6PAwAAYJ3jBYtPawcAAI2d4wXr1Vdfrfdjx4wZ48dJAAAA/MPxgrVo0SLV1tbWuaE9JCTEZy0kJISCBQAAgpLjBet3v/udnnvuOc2YMUOdO3eWMUaHDx/Wb3/7W911111KSUlxeiQAAACrAnIP1vr169W6dWvvWp8%2BfdS2bVtNmzZNO3bscHokAAAAqxz/HKzPP/9cMTExddajo6OVn5/v9DgAAADWOV6w2rRpo5UrV8rtdnvXSkpK9MQTT%2Biaa65xehwAAADrHH%2BJcOHChZo7d66ysrIUGRmp0NBQlZWVqWnTpnrmmWecHgcAAMA6xwvWgAEDtG/fPu3fv18nTpyQMUatW7fWTTfdpObNmzs9DgAAgHWOFyxJuvLKKzV06FCdOHFCbdu2DcQIAAAAfuP4PViVlZWaP3%2B%2Bevbsqdtuu03S1/dgTZ8%2BXSUlJU6PAwAAYJ3jBevxxx/XoUOHlJmZqdDQb758TU2NMjMznR4HAADAOscL1u7du/X0009rxIgR3l/6HB0drRUrVuiNN95wehwAAADrHC9Y5eXlateuXZ31%2BPh4nT592ulxAAAArHO8YF1zzTX685//LEk%2Bv3vw9ddf1z/8wz84PQ4AAIB1jr%2BL8J//%2BZ81a9YsjRs3TrW1tXr%2B%2BeeVm5ur3bt3a9GiRU6PAwAAYJ3jBWvSpEkKDw/Xpk2bFBYWpmeffVbt27dXZmamRowY4fQ4AAAA1jlesIqLizVu3DiNGzfO6S8NAADgCMfvwRo6dKjPvVeXKj8/X%2Bnp6UpJSVFqaqoWLFjg/RytQ4cO6a677lLv3r01bNgwPffccz7P3blzp0aNGqWePXtq7Nixevfdd717tbW1WrVqlYYOHaq%2Bfftq2rRpOnbsWIPnBQAAPx6OF6yUlBTt2rWrwceZMWOGoqOjtWfPHr3yyiv69NNP9e///u%2BqrKzU/fffrxtuuEHvvPOOVq1apXXr1nk/AuLQoUOaP3%2B%2B5s2bpz/96U%2BaOnWqHnzwQZ04cUKS9OKLL2r79u1av3699u7dq3bt2ik9Pd1KKQQAAD8Ojr9EePXVV%2BtXv/qV1q9fr2uuuUZXXHGFz/4TTzxxwWOUlJQoOTlZc%2BfOVWRkpCIjI3XnnXdq48aN2rdvn86ePasHHnhAYWFhSkpK0oQJE5SVlaVhw4Zp8%2BbNGjhwoAYOHChJGj16tDZt2qRt27bpvvvuU1ZWlqZOnarrrrtOkjRnzhylpKToww8/VI8ePewHAgAAGh3HC9aRI0f0T//0T5Ikt9t9Scc498Gk31ZQUKCEhAS5XC517txZYWFh3r3ExERt3rxZkuRyubzl6tv7OTk5qqys1JEjR5SYmOjdi4qK0rXXXqucnJx6F6zCwkIVFRX5rIWHN1NCQsJFneeFhIU5fgGyQcLDg2fec9kGW8bBgnz9h2z9i3z9p7Fl61jBmjNnjlatWqWNGzd615555hmlp6c3%2BNg5OTnatGmT1q5dq127dik6OtpnPzY2Vh6PR7W1tfJ4PIqJifHZj4mJ0ZEjR3Tq1CkZY867fzFlMCsrS2vWrPFZS09P1%2BzZsy/yzBqXuLjIQI9w0aKjrwz0CI0a%2BfoP2foX%2BfpPY8nWsYK1Z8%2BeOmvr169vcMH6%2B9//rgceeEBz585Vamrq997fde7X8ki64P1UDb3fatKkSRoyZIjPWnh4M7nd5Q067ncFW8u3ff7%2BFBYWqujoK1VSUqGamtpAj9PokK//kK1/ka//%2BCvbQP3j3rGCdb7S0tAis2fPHv3iF7/Q4sWLNWbMGElf/8qdzz//3OdxHo9HsbGxCg0NVVxcnDweT539%2BPh472POt9%2BiRYt6z5WQkFDn5cCiolJVV/%2B4vxmD8fxramqDcu5gQb7%2BQ7b%2BRb7%2B01iydewSyLevIP3QWn29//77mj9/vp566ilvuZKk5ORkHT58WNXV1d61nJwcde/e3bufm5vrc6xz%2BxEREerYsaNcLpd3r6SkRF988YW6det2ybMCAIAfl%2BB6jen/VVdX6%2BGHH9a8efM0YMAAn72BAwcqKipKa9euVUVFhT788ENt2bJFaWlpkqSJEyfqvffe0759%2B1RVVaUtW7bo888/1%2BjRoyVJaWlp2rBhg/Ly8lRWVqbMzEx16dJFXbt2dfw8AQBAcHL8XYQ2fPDBB8rLy9OyZcu0bNkyn73XX39dzz77rB599FGtX79eLVu21Jw5czRo0CBJUqdOnZSZmakVK1YoPz9fHTp00Lp169SqVStJ0uTJk1VUVKSf/vSnKi8vV0pKSp0b1gEAAH5IiHHoEzQTExN12223%2Bazt2rWrzlp9PgcrGBUVlVo/Znh4qG7NfMf6cf1lV0b/QI9Qb%2BHhoYqLi5TbXd4o7gW43JCv/5Ctf5Gv//gr21atmls71sVw7ApW7969VVhYeME1AACAYOdYwfr2518BAAA0ZkF5kzsAAMDljIIFAABgGQULAADAMgoWAACAZRQsAAAAyyhYAAAAllGwAAAALKNgAQAAWEbBAgAAsIyCBQAAYBkFCwAAwDIKFgAAgGUULAAAAMsoWAAAAJZRsAAAACyjYAEAAFhGwQIAALCMggUAAGAZBQsAAMAyChYAAIBlFCwAAADLKFgAAACWUbAAAAAso2ABAABYRsECAACwjIIFAABgGQULAADAMgoWAACAZRQsAAAAyyhYAAAAllGwAAAALKNgAQAAWEbBAgAAsIyCBQAAYBkFCwAAwDIKFgAAgGUULAAAAMsoWAAAAJZRsAAAACyjYAEAAFhGwQIAALCMggUAAGAZBQsAAMAyChYAAIBlFCwAAADLKFgAAACWUbAAAAAso2ABAABYRsECAACwjIIFAABgGQULAADAMgoWAACAZUFdsN555x2lpqZqzpw5dfZ27typUaNGqWfPnho7dqzeffdd715tba1WrVqloUOHqm/fvpo2bZqOHTvm3fd4PMrIyFBqaqoGDBigRYsWqbKy0pFzAgAAwS9oC9Zvf/tbLVu2TNdee22dvUOHDmn%2B/PmaN2%2Be/vSnP2nq1Kl68MEHdeLECUnSiy%2B%2BqO3bt2v9%2BvXau3ev2rVrp/T0dBljJEmLFy9WRUWFduzYod///vfKy8tTZmamo%2BcHAACCV9AWrIiICG3ZsuW8BWvz5s0aOHCgBg4cqIiICI0ePVqdOnXStm3bJElZWVmaOnWqrrvuOkVFRWnOnDnKy8vThx9%2BqK%2B%2B%2Bkpvvvmm5syZo/j4eLVu3VozZ87U73//e509e9bp0wQAAEEoaAvWlClT1Lx58/PuuVwuJSYm%2BqwlJiYqJydHlZWVOnLkiM9%2BVFSUrr32WuXk5OjQoUMKCwtT586dvftJSUk6ffq0PvvsM/%2BcDAAAaFTCAz2AP3g8HsXExPisxcTE6MiRIzp16pSMMefdd7vdio2NVVRUlEJCQnz2JMntdtfr6xcWFqqoqMhnLTy8mRISEi7ldL5XWFhw9ePw8OCZ91y2wZZxsCBf/yFb/yJf/2ls2TbKgiXJez/Vpexf6LkXkpWVpTVr1vispaena/bs2Q06brCLi4sM9AgXLTr6ykCP0KiRr/%2BQrX%2BRr/80lmwbZcGKi4uTx%2BPxWfN4PIqPj1dsbKxCQ0PPu9%2BiRQvFx8errKxMNTU1CgsL8%2B5JUosWLer19SdNmqQhQ4b4rIWHN5PbXX6pp3RewdbybZ%2B/P4WFhSo6%2BkqVlFSopqY20OM0OuTrP2TrX%2BTrP/7KNlD/uG%2BUBSs5OVm5ubk%2Bazk5ORo5cqQiIiLUsWNHuVwu9evXT5JUUlKiL774Qt26dVObNm1kjNHHH3%2BspKQk73Ojo6PVvn37en39hISEOi8HFhWVqrr6x/3NGIznX1NTG5RzBwvy9R%2By9S/y9Z/Gkm1wXQKpp4kTJ%2Bq9997Tvn37VFVVpS1btujzzz/X6NGjJUlpaWnasGGD8vLyVFZWpszMTHXp0kVdu3ZVfHy8hg8frt/85jcqLi7WiRMn9Mwzz2j8%2BPEKD2%2BUfRQAAFgWtI2ha9eukqTq6mpJ0ptvvinp66tNnTp1UmZmplasWKH8/Hx16NBB69atU6tWrSRJkydPVlFRkX7605%2BqvLxcKSkpPvdM/fKXv9Sjjz6qoUOH6oorrtAdd9xx3g8zBQAAOJ8Q09A7ulEvRUWl1o8ZHh6qWzPfsX5cf9mV0T/QI9RbeHio4uIi5XaXN4pL1Zcb8vUfsvUv8vUff2XbqtX5P9LJ3xrlS4QAAACBRMECAACwjIIFAABgGQULAADAMgoWAACAZRQsAAAAyyhYAAAAllGwAAAALKNgAQAAWEbBAgAAsIyCBQAAYBkFCwAAwDIKFgAAgGXhgR4APx63/eaPgR7hovztVyMCPQIAIEhxBQsAAMAyChYAAIBlFCwAAADLKFgAAACWUbAAAAAso2ABAABYRsECAACwjIIFAABgGQULAADAMgoWAACAZRQsAAAAyyhYAAAAllGwAAAALKNgAQAAWEbBAgAAsIyCBQAAYBkFCwAAwDIKFgAAgGUULAAAAMsoWAAAAJZRsAAAACyjYAEAAFhGwQIAALCMggUAAGAZBQsAAMAyChYAAIBl4YEeALhc9Vn0eqBHuCi7MvoHegQAwP/jChYAAIBlFCwAAADLKFgAAACWUbAAAAAso2ABAABYxrsIgUbitt/8MdAj1Nsf5t0U6BEAwK%2B4ggUAAGAZBQsAAMAyXiIE4LhbM98J9AgXhQ9xBXCxuIIFAABgGQULAADAMl4iBIALCKZ3aErS3341ItAjAD96FCwAaGSC6ReVc38bGisKFgAA9cQbNFBfIcYYE%2BghLjf5%2BflaunSpPvzwQzVr1ky333675s6dq9DQS79lraio1OKEXwsPDw26b3YAAM7nD/NuUlxcpNzuclVX11o7bqtWza0d62JwBes8Zs2apaSkJL355ps6efKk7r//frVs2VI/%2B9nPAj0aAAAIAryL8DtycnL08ccfa968eWrevLnatWunqVOnKisrKyy2qeEAAAsiSURBVNCjAQCAIMEVrO9wuVxq06aNYmJivGtJSUk6evSoysrKFBUVdcFjFBYWqqioyGctPLyZEhISrM4aFkY/BgA0Duf%2BTmssf7dRsL7D4/EoOjraZ%2B1c2XK73fUqWFlZWVqzZo3P2oMPPqhZs2bZG1RfF7m7r/pUkyZNsl7efuwKCwuVlZVFtn5Cvv5Dtv5Fvv5TWFioF174XaPJtnHURMsaet//pEmT9Morr/j8N2nSJEvTfaOoqEhr1qypc7UMDUe2/kW%2B/kO2/kW%2B/tPYsuUK1nfEx8fL4/H4rHk8HoWEhCg%2BPr5ex0hISGgU7RsAAFwarmB9R3JysgoKClRcXOxdy8nJUYcOHRQZGRnAyQAAQLCgYH1HYmKiunbtqieeeEJlZWXKy8vT888/r7S0tECPBgAAgkTYkiVLlgR6iMvNTTfdpB07duixxx7Ta6%2B9pvHjx2vatGkKCQkJ9Gh1REZGql%2B/flxd8wOy9S/y9R%2By9S/y9Z/GlC2f5A4AAGAZLxECAABYRsECAACwjIIFAABgGQULAADAMgoWAACAZRQsAAAAyyhYAAAAllGwAAAALKNgAQAAWEbBCkL5%2Bfm67777lJKSosGDB%2Bvxxx9XbW1toMcKGvn5%2BUpPT1dKSopSU1O1YMEClZSUSJIOHTqku%2B66S71799awYcP03HPP%2BTx3586dGjVqlHr27KmxY8fq3XffDcQpBIXly5erc%2BfO3j9nZ2dr/Pjx6tWrl0aOHKlt27b5PH7Dhg0aPny4evXqpbS0NOXm5jo9clBYu3atBgwYoB49emjq1Kk6fvy4JPK14eDBg5oyZYr69Omj/v37a968eSouLpZEvpfinXfeUWpqqubMmVNn74d%2BltbW1mrVqlUaOnSo%2Bvbtq2nTpunYsWPefY/Ho4yMDKWmpmrAgAFatGiRKisrHTmni2IQdO68807z8MMPm5KSEnP06FEzbNgw89xzzwV6rKBxxx13mAULFpiysjJTUFBgxo4daxYuXGgqKirMTTfdZFavXm3Ky8tNbm6u6devn9m9e7cxxpiDBw%2Ba5ORks2/fPlNZWWm2bt1qunfvbgoKCgJ8RpefgwcPmn79%2BplOnToZY4z58ssvTY8ePczmzZtNZWWl%2BeMf/2i6detmPvroI2OMMW%2B99Zbp06eP%2BeCDD0xFRYVZt26d6d%2B/vykvLw/kaVx2Nm3aZEaMGGHy8vJMaWmpeeyxx8xjjz1GvhacPXvW9O/f3zzxxBOmqqrKFBcXm5/97Gdm1qxZ5HsJ1q9fb4YNG2YmT55sMjIyfPYu9LN0w4YNZvDgwebIkSOmtLTU/PKXvzSjRo0ytbW1xhhjHnzwQXPfffeZkydPmhMnTphJkyaZxx57zPFzvBAKVpD56KOPTJcuXYzH4/GuvfTSS2b48OEBnCp4nDp1yixYsMAUFRV51zZu3GiGDRtmdu3aZW644QZTXV3t3Xv88cfNPffcY4wxZunSpSY9Pd3neBMmTDDr1q1zZvggUVNTYyZMmGD%2B4z/%2Bw1uwfve735kxY8b4PC4jI8MsXrzYGGPMfffdZ5YvX%2B5zjP79%2B5sdO3Y4N3gQGDJkiLfwfxv5Ntz//u//mk6dOpkjR45411566SVzyy23kO8leOGFF0xJSYmZP39%2BnYJ1oZ%2BlI0eONC%2B88IJ3r7S01CQmJpoDBw6YoqIic/3115tDhw559/fv32969Ohhzpw548czuni8RBhkXC6X2rRpo5iYGO9aUlKSjh49qrKysgBOFhyio6O1YsUKtWzZ0rtWUFCghIQEuVwude7cWWFhYd69xMRE76V%2Bl8ulxMREn%2BMlJiYqJyfHmeGDxMsvv6yIiAiNGjXKu/Z92X1ftqGhoerSpQvZfsuXX36p48eP69SpU7r99tuVkpKi2bNnq7i4mHwtaN26tbp06aKsrCyVl5fr5MmTeuONNzRo0CDyvQRTpkxR8%2BbNz7v3Qz9LKysrdeTIEZ/9qKgoXXvttcrJydGhQ4cUFhbmc/tBUlKSTp8%2Brc8%2B%2B8w/J3OJKFhBxuPxKDo62mftXNlyu92BGCmo5eTkaNOmTXrggQfOm21sbKw8Ho9qa2vl8Xh8iq30dfbk/o2vvvpKq1ev1qOPPuqz/n3ZnsuObC/sxIkTkqTXX39dzz//vLZu3aoTJ07o4YcfJl8LQkNDtXr1ar311lvq1auXUlNTVV1drblz55KvZT%2BU16lTp2SM%2Bd59j8ejqKgohYSE%2BOxJl9/fgRSsIGSMCfQIjcLf//53TZs2TXPnzlVqaur3Pu7b38hk/8NWrFihsWPHqkOHDhf9XLL9YefymT59ulq3bq2rrrpKs2bN0p49ey7q%2BTi/M2fOaMaMGRoxYoT%2B9re/6e2331bz5s01b968ej2ffC/OhfL6of1gyZqCFWTi4%2BPl8Xh81jwej0JCQhQfHx%2BgqYLPnj17dN9992nhwoWaMmWKpK%2Bz/e6/gDwej2JjYxUaGqq4uLjzZk/uX8vOztaBAweUnp5eZ%2B982bndbm92ZHth517W/vaVlDZt2sgYo7Nnz5JvA2VnZ%2Bv48eP6%2Bc9/rubNm6t169aaPXu2/vCHPyg0NJR8LfqhvM79vD3ffosWLRQfH6%2BysjLV1NT47ElSixYt/D/8RaBgBZnk5GQVFBR43zosff0yV4cOHRQZGRnAyYLH%2B%2B%2B/r/nz5%2Bupp57SmDFjvOvJyck6fPiwqqurvWs5OTnq3r27d/%2B7b73%2B9v6P3bZt23Ty5EkNHjxYKSkpGjt2rCQpJSVFnTp1qpNdbm6uT7Yul8u7V1NTo4MHD5Ltt1x11VWKiorSoUOHvGv5%2Bfm64oorNHDgQPJtoJqaGtXW1vpcHTlz5owkKTU1lXwt%2BqGfpREREerYsaNPniUlJfriiy/UrVs3denSRcYYffzxxz7PjY6OVvv27R07h3oJyK31aJAJEyaYhQsXmtLSUnPkyBEzZMgQs2nTpkCPFRTOnj1rbrvtNvPyyy/X2auqqjKDBw82Tz/9tDl9%2BrT54IMPTJ8%2BfczevXuNMcYcPnzYdO3a1ezdu9dUVlaazZs3m549e5rCwkKHz%2BLy5PF4TEFBgfe/AwcOmE6dOpmCggKTn59vevbsaf7rv/7LVFZWmn379plu3bp53wm0f/9%2B07t3b3PgwAFz%2BvRps3r1ajNw4EBTUVER4LO6vCxfvtwMHTrUfP755%2Barr74ykyZNMgsWLDBfffUV%2BTZQcXGx6devn3nyySfN6dOnTXFxsZkxY4b5l3/5F/JtgPO9i/BCP0tfeuklM2jQIO/HNCxevNiMGzfO%2B/yMjAwzffp0c/LkSVNQUGDGjRtnVq5c6eh51QcFKwgVFBSY6dOnm27dupnU1FTz9NNPez8fBD/sr3/9q%2BnUqZNJTk6u89/x48fN4cOHzeTJk01ycrIZNGiQefHFF32ev3v3bjNs2DCTlJRkfvKTn5i//OUvATqTy9%2BxY8e8H9NgjDF/%2BctfzOjRo01SUpIZNmxYnY8bePHFF83AgQNNcnKySUtLM4cPH3Z65MteVVWVWbJkienbt6/p0aOHmT9/vikrKzPGkK8NOTk55q677jJ9%2BvQxqampJiMjw5w4ccIYQ74X69zP1euvv95cf/313j%2Bf80M/S2tra81TTz1lbrzxRtOtWzdz7733%2BnzeYElJiZkzZ47p0aOH6du3r1m6dKmpqqpy9PzqI8SYILlbDAAAIEhwDxYAAIBlFCwAAADLKFgAAACWUbAAAAAso2ABAABYRsECAACwjIIFAABgGQULAADAMgoWAACAZRQsAAAAyyhYAAAAllGwAAAALKNgAQAAWPZ/dgDs7X5W62YAAAAASUVORK5CYII%3D\"/>\n",
              "        </div>\n",
              "        <div role=\"tabpanel\" class=\"tab-pane col-md-12\" id=\"common-8725503618454502184\">\n",
              "            \n",
              "<table class=\"freq table table-hover\">\n",
              "    <thead>\n",
              "    <tr>\n",
              "        <td class=\"fillremaining\">Value</td>\n",
              "        <td class=\"number\">Count</td>\n",
              "        <td class=\"number\">Frequency (%)</td>\n",
              "        <td style=\"min-width:200px\">&nbsp;</td>\n",
              "    </tr>\n",
              "    </thead>\n",
              "    <tr class=\"\">\n",
              "        <td class=\"fillremaining\">0.0</td>\n",
              "        <td class=\"number\">595</td>\n",
              "        <td class=\"number\">9.3%</td>\n",
              "        <td>\n",
              "            <div class=\"bar\" style=\"width:13%\">&nbsp;</div>\n",
              "        </td>\n",
              "</tr><tr class=\"\">\n",
              "        <td class=\"fillremaining\">1.0</td>\n",
              "        <td class=\"number\">236</td>\n",
              "        <td class=\"number\">3.7%</td>\n",
              "        <td>\n",
              "            <div class=\"bar\" style=\"width:5%\">&nbsp;</div>\n",
              "        </td>\n",
              "</tr><tr class=\"\">\n",
              "        <td class=\"fillremaining\">2.0</td>\n",
              "        <td class=\"number\">173</td>\n",
              "        <td class=\"number\">2.7%</td>\n",
              "        <td>\n",
              "            <div class=\"bar\" style=\"width:4%\">&nbsp;</div>\n",
              "        </td>\n",
              "</tr><tr class=\"\">\n",
              "        <td class=\"fillremaining\">3.0</td>\n",
              "        <td class=\"number\">142</td>\n",
              "        <td class=\"number\">2.2%</td>\n",
              "        <td>\n",
              "            <div class=\"bar\" style=\"width:3%\">&nbsp;</div>\n",
              "        </td>\n",
              "</tr><tr class=\"\">\n",
              "        <td class=\"fillremaining\">4.0</td>\n",
              "        <td class=\"number\">114</td>\n",
              "        <td class=\"number\">1.8%</td>\n",
              "        <td>\n",
              "            <div class=\"bar\" style=\"width:3%\">&nbsp;</div>\n",
              "        </td>\n",
              "</tr><tr class=\"\">\n",
              "        <td class=\"fillremaining\">5.0</td>\n",
              "        <td class=\"number\">93</td>\n",
              "        <td class=\"number\">1.4%</td>\n",
              "        <td>\n",
              "            <div class=\"bar\" style=\"width:2%\">&nbsp;</div>\n",
              "        </td>\n",
              "</tr><tr class=\"\">\n",
              "        <td class=\"fillremaining\">9.0</td>\n",
              "        <td class=\"number\">87</td>\n",
              "        <td class=\"number\">1.4%</td>\n",
              "        <td>\n",
              "            <div class=\"bar\" style=\"width:2%\">&nbsp;</div>\n",
              "        </td>\n",
              "</tr><tr class=\"\">\n",
              "        <td class=\"fillremaining\">7.0</td>\n",
              "        <td class=\"number\">84</td>\n",
              "        <td class=\"number\">1.3%</td>\n",
              "        <td>\n",
              "            <div class=\"bar\" style=\"width:2%\">&nbsp;</div>\n",
              "        </td>\n",
              "</tr><tr class=\"\">\n",
              "        <td class=\"fillremaining\">6.0</td>\n",
              "        <td class=\"number\">84</td>\n",
              "        <td class=\"number\">1.3%</td>\n",
              "        <td>\n",
              "            <div class=\"bar\" style=\"width:2%\">&nbsp;</div>\n",
              "        </td>\n",
              "</tr><tr class=\"\">\n",
              "        <td class=\"fillremaining\">12.0</td>\n",
              "        <td class=\"number\">65</td>\n",
              "        <td class=\"number\">1.0%</td>\n",
              "        <td>\n",
              "            <div class=\"bar\" style=\"width:2%\">&nbsp;</div>\n",
              "        </td>\n",
              "</tr><tr class=\"other\">\n",
              "        <td class=\"fillremaining\">Other values (1469)</td>\n",
              "        <td class=\"number\">4749</td>\n",
              "        <td class=\"number\">73.9%</td>\n",
              "        <td>\n",
              "            <div class=\"bar\" style=\"width:100%\">&nbsp;</div>\n",
              "        </td>\n",
              "</tr>\n",
              "</table>\n",
              "        </div>\n",
              "        <div role=\"tabpanel\" class=\"tab-pane col-md-12\"  id=\"extreme-8725503618454502184\">\n",
              "            <p class=\"h4\">Minimum 5 values</p>\n",
              "            \n",
              "<table class=\"freq table table-hover\">\n",
              "    <thead>\n",
              "    <tr>\n",
              "        <td class=\"fillremaining\">Value</td>\n",
              "        <td class=\"number\">Count</td>\n",
              "        <td class=\"number\">Frequency (%)</td>\n",
              "        <td style=\"min-width:200px\">&nbsp;</td>\n",
              "    </tr>\n",
              "    </thead>\n",
              "    <tr class=\"\">\n",
              "        <td class=\"fillremaining\">0.0</td>\n",
              "        <td class=\"number\">595</td>\n",
              "        <td class=\"number\">9.3%</td>\n",
              "        <td>\n",
              "            <div class=\"bar\" style=\"width:100%\">&nbsp;</div>\n",
              "        </td>\n",
              "</tr><tr class=\"\">\n",
              "        <td class=\"fillremaining\">1.0</td>\n",
              "        <td class=\"number\">236</td>\n",
              "        <td class=\"number\">3.7%</td>\n",
              "        <td>\n",
              "            <div class=\"bar\" style=\"width:40%\">&nbsp;</div>\n",
              "        </td>\n",
              "</tr><tr class=\"\">\n",
              "        <td class=\"fillremaining\">1.001</td>\n",
              "        <td class=\"number\">2</td>\n",
              "        <td class=\"number\">0.0%</td>\n",
              "        <td>\n",
              "            <div class=\"bar\" style=\"width:1%\">&nbsp;</div>\n",
              "        </td>\n",
              "</tr><tr class=\"\">\n",
              "        <td class=\"fillremaining\">1.002</td>\n",
              "        <td class=\"number\">2</td>\n",
              "        <td class=\"number\">0.0%</td>\n",
              "        <td>\n",
              "            <div class=\"bar\" style=\"width:1%\">&nbsp;</div>\n",
              "        </td>\n",
              "</tr><tr class=\"\">\n",
              "        <td class=\"fillremaining\">1.004</td>\n",
              "        <td class=\"number\">1</td>\n",
              "        <td class=\"number\">0.0%</td>\n",
              "        <td>\n",
              "            <div class=\"bar\" style=\"width:1%\">&nbsp;</div>\n",
              "        </td>\n",
              "</tr>\n",
              "</table>\n",
              "            <p class=\"h4\">Maximum 5 values</p>\n",
              "            \n",
              "<table class=\"freq table table-hover\">\n",
              "    <thead>\n",
              "    <tr>\n",
              "        <td class=\"fillremaining\">Value</td>\n",
              "        <td class=\"number\">Count</td>\n",
              "        <td class=\"number\">Frequency (%)</td>\n",
              "        <td style=\"min-width:200px\">&nbsp;</td>\n",
              "    </tr>\n",
              "    </thead>\n",
              "    <tr class=\"\">\n",
              "        <td class=\"fillremaining\">982.0</td>\n",
              "        <td class=\"number\">2</td>\n",
              "        <td class=\"number\">0.0%</td>\n",
              "        <td>\n",
              "            <div class=\"bar\" style=\"width:100%\">&nbsp;</div>\n",
              "        </td>\n",
              "</tr><tr class=\"\">\n",
              "        <td class=\"fillremaining\">987.0</td>\n",
              "        <td class=\"number\">1</td>\n",
              "        <td class=\"number\">0.0%</td>\n",
              "        <td>\n",
              "            <div class=\"bar\" style=\"width:50%\">&nbsp;</div>\n",
              "        </td>\n",
              "</tr><tr class=\"\">\n",
              "        <td class=\"fillremaining\">989.0</td>\n",
              "        <td class=\"number\">1</td>\n",
              "        <td class=\"number\">0.0%</td>\n",
              "        <td>\n",
              "            <div class=\"bar\" style=\"width:50%\">&nbsp;</div>\n",
              "        </td>\n",
              "</tr><tr class=\"\">\n",
              "        <td class=\"fillremaining\">995.0</td>\n",
              "        <td class=\"number\">2</td>\n",
              "        <td class=\"number\">0.0%</td>\n",
              "        <td>\n",
              "            <div class=\"bar\" style=\"width:100%\">&nbsp;</div>\n",
              "        </td>\n",
              "</tr><tr class=\"\">\n",
              "        <td class=\"fillremaining\">998.0</td>\n",
              "        <td class=\"number\">1</td>\n",
              "        <td class=\"number\">0.0%</td>\n",
              "        <td>\n",
              "            <div class=\"bar\" style=\"width:50%\">&nbsp;</div>\n",
              "        </td>\n",
              "</tr>\n",
              "</table>\n",
              "        </div>\n",
              "    </div>\n",
              "</div>\n",
              "</div><div class=\"row variablerow ignore\">\n",
              "    <div class=\"col-md-3 namecol\">\n",
              "        <p class=\"h4 pp-anchor\" id=\"pp_var_number_norm\"><s>number_norm</s><br/>\n",
              "            <small>Highly correlated</small>\n",
              "        </p>\n",
              "    </div><div class=\"col-md-3\">\n",
              "    <p><em>This variable is highly correlated with <a href=\"#pp_var_number\"><code>number</code></a> and should be ignored for analysis</em></p>\n",
              "</div>\n",
              "<div class=\"col-md-6\">\n",
              "    <table class=\"stats \">\n",
              "        <tr>\n",
              "            <th>Correlation</th>\n",
              "            <td>1</td>\n",
              "        </tr>\n",
              "    </table>\n",
              "</div>\n",
              "</div>\n",
              "    <div class=\"row headerrow highlight\">\n",
              "        <h1>Correlations</h1>\n",
              "    </div>\n",
              "    <div class=\"row variablerow\">\n",
              "    <img src=\"data:image/png;base64,iVBORw0KGgoAAAANSUhEUgAAAocAAAI8CAYAAACDGQFUAAAABHNCSVQICAgIfAhkiAAAAAlwSFlzAAAPYQAAD2EBqD%2BnaQAAADh0RVh0U29mdHdhcmUAbWF0cGxvdGxpYiB2ZXJzaW9uMy4xLjIsIGh0dHA6Ly9tYXRwbG90bGliLm9yZy8li6FKAAAgAElEQVR4nOzdeVxVdf7H8TdcERcERQHNcEnFBbAgyXVcQMNxbDDHDSfTtNRUVNJsMUvN0krTUivNJf1NNTTpmJk9VGybymZytCSSVGSUSAGTq%2BIGwv394XjGm6DguXTx9Ho%2BHvcBfM9yv%2Bd7eHg/vr/nHDwcDodDAAAAgCRPd3cAAAAAlQfFIQAAAAwUhwAAADBQHAIAAMBAcQgAAAADxSEAAAAMFIcAAAAwUBwCAADAQHEIAAAAA8UhAAAADFXc3QEA1tSyZctSl3l5eal27doKCwtTv379FBsbKw8Pj1%2BxdwCA0njwt5UBVIRLxWHbtm0VEBDgtOz8%2BfM6ePCgfvrpJ0lSjx499PLLL6tq1aq/ej8BAM4oDgFUiEvF4dKlS9WzZ88S10lOTtbDDz%2BsM2fOaOTIkXrkkUd%2BzS4CAErANYcA3KZnz56aMmWKJOntt9/W%2BfPn3dwjAADXHAJwqzvvvFNPP/20zp49q%2B%2B//14RERFOy3fs2KE333xT33zzjex2u3x8fNSqVSv96U9/0l133VXiPu12u1avXq1PP/1Uhw4dUkFBgfz8/NS2bVvdd999at%2B%2B/RXbREdHKysrS6%2B//rrOnz%2BvhQsXKjMzU2%2B88YZuv/12SdK%2Bffu0atUq7dy5U9nZ2apSpYoCAwN1xx136J577inxOstTp05pzZo12r59uw4dOqTCwkLVq1dPkZGRGjFihMLDw53W//HHHxUTEyNJ2rNnj9LT0/Xqq69q9%2B7dstvtCgwMVExMjBITE1WjRo3rGnMAuBqSQwBuVbt2beP7kydPOi1buHChRowYoW3btsnHx0ft27eXv7%2B/duzYoalTp2ry5MkqKipy2iY3N1f9%2B/fXa6%2B9poMHD6pNmzbq0KGDqlatqo8//ljDhw/XunXrSu3PwYMHlZiYKC8vL3Xo0EHVqlWTJP3rX//Sn/70J/3973/X%2BfPndfvttysiIkL5%2Bfl65513NGjQIO3YscNpX1lZWbr77ru1ePFiHThwQK1atVKHDh3kcDi0adMmDRo0SO%2B%2B%2B26pfdm1a5eGDh2q1NRUtWrVSk2bNlVWVpbWrl2rhISEMo8xAJSLAwAqQEhIiCMkJMSxbdu2q66Xnp5urLtnzx6jfevWrY6QkBBHVFSU45///KfTNv/6178cnTp1coSEhDhWr17ttGzOnDmOkJAQR2xsrOPYsWNG%2B4ULFxzPPPOMIyQkxHH77bc78vPznbbr0aOHIyQkxBEdHe149dVXr%2BjnwIEDHSEhIY558%2BY5ioqKnPa7cOFCR0hIiKNv375O2wwdOtQREhLi6N%2B/vyM7O9toLyoqcixevNgREhLiCAsLcxw8eNBYlpmZaYxH9%2B7dHcuXL3cUFxcby//%2B978by/fu3Xu1oQWA60JyCMCttm7dKkny8/NT69atjfZXX31VkvTII4/ojjvucNomKipK06ZNkyStWbPGaVlgYKD%2B8Ic/aMKECapbt67RbrPZlJiYKE9PT506dUrffPNNif0pLi7W6NGjr2jfu3evJKl///7y9PzfP502m00TJ07UxIkTNWzYMBUUFEiSvv32W%2B3cuVOS9PzzzyswMNDYxtPTUxMmTFBoaKgKCgr017/%2BtcS%2BtGjRQg888IDTY37i4uLk7%2B9vvAcAuBrXHAJwm08//VTLli2TJN1///2qUuXiP0nZ2dlKTU2VJPXq1avEbXv27CkPDw/99NNPysjIUNOmTSVJDzzwQKnvV716ddWtW1e5ubnKzc0tcZ0OHTo4FX%2BX%2BPr66tixY9q8ebMmTZrktMzT01Pjx493avvHP/4h6eJd282aNSv1GFJTU6%2BYjr6kpGsqPTw8FBwcrOPHjysvL6/E7QDADIpDABVq2bJlWr9%2BvVNbQUGB/vOf/ygzM1PSxTTu/vvvN5bv27fP%2BP7RRx8tdd9VqlRRYWGh/vOf/xjF4aX9f/rpp/ruu%2B%2BUk5OjkydPyvHfp3adOnVK0sWEsCRBQUEltg8fPlwLFizQK6%2B8on/84x/q27evOnbsWOrDvg8cOCDpYvpXmltuuUXSxescS9KoUaMS2729vSVJhYWFpe4bAK4XxSGACrVnz54r2mw2m%2BrUqaOYmBgNHjxY3bp1c1p%2B4sQJ4/vt27df8z0uFXySlJaWpvHjx%2BvHH3%2B8rv76%2BfmV2H5pqnnZsmVKSUlRSkqKJCkgIEC9e/fW8OHDFRwcfEWffH19S32vWrVqSbpY5J07d864%2BeUSHgoOwB0oDgFUqKs9BLs0l66x8/LyUkpKSpn/tN65c%2Bf04IMP6qefflKTJk00btw4dezYUXXq1JGXl5ek/z2y5lrvXZLRo0dryJAhSk5O1qeffqovv/xSubm5%2Br//%2Bz8lJSXp%2Beef1%2B9///syH6fjsr9BUNJUNgC4A8UhgErn0uNtCgsLlZeXZ9yAcS2fffaZfvrpJ3l4eGj58uVq3LjxFeucO3fOVN98fX3Vv39/9e/fX0VFRfryyy%2B1dOlS7d69W9OnT1eHDh1Up04dI4H85eN5LndpWbVq1UgJAVQa/FcVQKUTEhJifL9///4yb/ef//xH0sVr9UoqDA8fPqyff/7ZdP8usdls%2Bt3vfqe1a9cqKChIp0%2BfNqbRL11rePn1k790adnVrksEgF8bxSGASicgIEChoaGSpHfeeafEdTIyMhQXF2c88kb63zV8pf0ZvqVLlxrf//Lh2Vfz7bff6vHHH9eqVatKXF61alXVq1dP0v%2BSyUvXUe7bt6/EArG4uNh4jM/vfve7MvcFACoaxSGASmns2LGSpE2bNumNN95wuj7v0KFDmjhxotLS0nTkyBGjvVWrVpKko0ePKjk52Wg/e/as5syZo5SUFOPP85V2h3BJbDab1q1bp5dfflmffPLJFcu3bdumvXv3ysvLS5GRkZKkNm3aqEuXLpKkxx9/XMePHzfWv3Dhgl544QWlp6erVq1aGjJkSJn7AgAVjWsOAVRKd955p0aPHq3ly5dr7ty5Wrt2rW655Rbl5eVp7969KioqUps2bTR16lRjm4iICHXp0kWff/65EhISdOutt8rb21vfffedqlSpotWrV%2BuDDz7Q7t27tXbtWv3www968MEHFRUVddW%2BhIWFaeTIkVq1apXGjBmjhg0bqnHjxvL09NSPP/5oTGdPnz5dAQEBxnbPPvushg8frpSUFEVHRyskJETe3t7av3%2B/8vLyVK1aNS1YsKDUx%2BcAgDtQHAKotKZMmaJOnTrpL3/5i7755hvt2LFD3t7eCgsLU58%2BfTR06NArbuRYtGiR5s%2Bfr%2B3bt%2Bu7775TYGCgYmNjNXbsWDVq1Ej169fX999/r127dmn//v1lvhP6kUceUVRUlDZs2KDvvvtOu3fv1oULFxQQEKC%2BffvqnnvuMVLJS4KCgvTuu%2B/qjTfe0LZt27R//35duHBBQUFBuvPOOzVq1KgSr40EAHfycFw%2BVwMAAIDfNK45BAAAgIHiEAAAAAaKQwAAABgoDgEAACrYP/7xD3Xq1EmJiYlXXa%2B4uFgLFy5UTEyMoqKiNGrUKGVmZhrL7Xa7Jk%2BerE6dOqlLly6aPn266b/89EsUhwAAABXo9ddf15w5c8r0dII333xT77//vpYvX66PP/5YTZo00fjx441nvc6YMUNnz57Vpk2btG7dOqWnp2v%2B/Pku7S/FIQAAQAXy9vbWu%2B%2B%2BW6biMCkpSSNGjFCzZs3k4%2BOjxMREpaen69tvv9WxY8eUnJysxMRE%2Bfv7KygoSOPGjdO6detUWFjosv7ynEMAAICryMnJUW5urlNbQECAAgMDy7T9vffeW6b1zp07pwMHDqhNmzZGm4%2BPjxo3bqyUlBSdOnVKNptNLVu2NJaHhobqzJkzOnjwoFO7GRSHN7oyPsD3htG0qbR/v9SihZSR4e7euE5xsbt7gLK4cMHdPXCtKlWsd0xWZNXz5OXlnvetgM/FpJdf1pIlS5zaJkyYoISEBJe%2Bz4kTJ%2BRwOOTn5%2BfU7ufnp7y8PNWuXVs%2BPj5OD%2B%2B/tG5eXp7L%2BkFxiMqldm3JZrv4FZWXh4fE8/MrP6v959GqOE%2BV3uDBgxUdHe3UdvmfynS1q/19kl/jb5dQHAIAAOvwdP3tFIGBgWWeQjajdu3a8vT0lN1ud2q32%2B2qW7eu/P39lZ%2Bfr6KiItlsNmOZJNWtW9dl/eCGFAAAgErA29tbLVq0UGpqqtF28uRJHT58WG3btlXr1q3lcDiUlpZmLE9JSZGvr6%2BaNm3qsn5QHAIAAOvw9HT9qwJlZ2erd%2B/exrMM4%2BPjtXbtWqWnpys/P1/z589X69atFR4eLn9/f8XGxmrRokU6fvy4jh49qqVLl2rAgAGqUsV1k8FMKwMAAOuo4GLueoSHh0uSLvz3xqPk5GRJF1O/wsJCZWRkqKCgQJI0ZMgQ5ebmatiwYTp9%2BrTat2/vdDPM7Nmz9dRTTykmJkZeXl7q27fvNR%2BsXV4ejl/jykZUHKtdyBwRIe3aJUVGSrt3u7s3rmO1u5WtekOK1e4Y9fKSXPjsM1QQq54nd92t7O3t%2Bn2eP%2B/6fVZiJIcAAMA6KmFyeKNhBAEAAGAgOQQAANZBcmgaxSEAALAOikPTGEEAAAAYSA4BAIB1kByaxggCAADAQHIIAACsg%2BTQNIpDAABgHRSHpjGCAAAAMJAcAgAA6yA5NI0RBAAAgIHkEAAAWAfJoWkUhwAAwDooDk1jBAEAAGAgOQQAANZBcmgaIwgAAAADySEAALAOkkPTKA4BAIB1UByaxggCAADAQHIIAACsg%2BTQNEYQAAAABpJDAABgHSSHplEcAgAA66A4NI0RBAAAgIHkEAAAWAfJoWmMIAAAAAwkhwAAwDpIDk2jOAQAANZBcWgaIwgAAAADySEAALAOkkPTKA4BAIB1UByaxggCAADAQHIIAACsg%2BTQNEYQAAAABpJDAABgHSSHplEcAgAA66A4NI0RBAAAgIHkEAAAWAfJoWmMIAAAAAwkhwAAwDpIDk1jBCVlZWUpPDxcGRkZ5d52/vz5GjZsWAX0CgAAlJunp%2BtfvzEkh5IaNmyolJQUd3cDAABYUFZWlmbNmqVvv/1WNWrUUJ8%2BfTRlyhR5/qLwHDlypL7%2B%2BmuntgsXLmj8%2BPGaMGGChg0bpl27djlt17RpU23cuNGl/aU4BAAA1lEJk76EhASFhoYqOTlZP//8s8aMGaN69erpvvvuc1pv1apVTj%2BfPHlSffr0Ua9evYy2p59%2BWv3796/Q/la%2BEXSDH3/8US1btlR6erqio6P1t7/9TaNHj1ZERIR69uypzz//3Fj3o48%2BUmxsrCIiIjR58mSdO3fOaV%2BbN29WXFycbrvtNsXExCgpKUmSdOzYMd1xxx365JNPjHUfeughPfjgg7/KMQIAgF9fSkqK0tLSNHXqVNWqVUtNmjTRiBEjjPrgahYtWqRevXqpZcuWv0JP/4fksAQrV67U888/r1atWmnmzJl69tlntXnzZp08eVKJiYmaOnWqBg8erB07dmjKlClq3bq1pIu/ANOnT9fixYvVsWNH7d69Ww888IBatGihyMhIPfzww5o7d646deqkPXv26LPPPtMHH3xQ5n7l5OQoNzfXqS2gaVMF1q7t0uN3q1atnL8CAFAeFZAclvj5GxCgwMDAa26bmpqqhg0bys/Pz2gLDQ1VRkaG8vPz5ePjU%2BJ2hw4d0oYNG5ScnOzUvnnzZq1YsUJHjhzRrbfeqtmzZ6tRo0bXcVSlozgsQY8ePdS2bVtJUmxsrDZs2KDi4mJ9/vnnqlGjhv785z/L09NT3bp1U7t27XT69GlJ0vr169W9e3d16dJFktSuXTv9/ve/13vvvafIyEgNGDBAGzdu1KpVq7RlyxY9/PDDCgoKKnO/kpKStGTJEqe2CZMmKWHSJBcdeSXy1lvu7gGuxcPD3T1wPS8vd/fA9ax4TFZktfNUWOi%2B966A4rDEz98JE5SQkHDNbe12u3x9fZ3aLhWKeXl5pRaHy5cv15/%2B9Cf5%2B/sbbc2aNVP16tU1f/58FRcXa86cObr//vu1adMmVa1atbyHVSqKwxLcfPPNxvfVqlVTUVGRCgsLdfToUTVo0MDpQtAmTZooNTVVknT48GHt2LFD4eHhxnKHw2EUix4eHpozZ47uuusuhYWFadCgQeXq1%2BDBgxUdHe3UFnDXXdKaNeU%2BxkqrVauLheHQoVJamrt74zr//re7e%2BBaHh6Sw%2BHuXrjehQvu7oFreXm590MaZcN5qvRK/PwNCCjz9o5y/ntpt9v13nvv6cMPP3RqnzlzptPPs2fPVvv27fXvf/9bHTt2LNd7XA3FYQl%2BeffQJQUFBSoqKnJqKy4uNr6vVq2a4uPjNWPGjFL3ffToUVWpUkVHjx7V2bNnVaNGjTL3KzAw8MoI%2Bzoev3NDSEuTdu92dy8AADeaCkgOS/z8LSN/f3/Z7XanNrvdLg8PD6dU8HLbt29X06ZNFRwcfNV9%2B/j4yM/PT9nZ2dfVt9JwQ0o5BAYGKjs72%2Bl/AOnp6cb3jRo10g8//OC0zdGjR42CsqCgQE8%2B%2BaRmzZqlFi1aaNGiRb9OxwEAgFuEhYXpyJEjOn78uNGWkpKi5s2bq2bNmiVus337dnXu3NmpLT8/XzNnznQqBI8fP67jx49fs4gsL4rDcujUqZPy8/P117/%2BVQUFBUpOTta3335rLB8wYIB27dqldevWqaCgQHv37tXAgQO1ZcsWSdLSpUsVGBiou%2B66S9OnT9c777zjtD0AADCpkj0Eu02bNgoPD9eCBQuUn5%2Bv9PR0rV69WvHx8ZKk3r17a%2BfOnU7b7N271%2BkSN%2BliSvjtt99qzpw5stvtOnHihGbNmqWWLVsqIiLCVB9/ieKwHOrXr68FCxZo1apVuuOOO7Rx40YNHTrUWN6sWTMtWLBAK1asULt27ZSQkKBRo0apT58%2B2rdvn9asWaOnnnpK0sWUceTIkXriiSdUyLUmAAC4RiUrDiXp5ZdfVk5Ojjp37qx7771X/fr1M%2BqHjIwMnTlzxmn93Nxc1atX74r9LF26VA6HQ7GxserevbsKCwu1fPnyUi%2BHu14ejvJeJYnKxWp3jEZESLt2SZGR1rrm8LJrUy2BG1JuDNzocGOw6nly1x3YsbGu3%2Bd/ZwB/K7ghBQAAWEcl/AspNxpGEAAAAAaSQwAAYB0kh6ZRHAIAAOugODSNEQQAAICB5BAAAFgHyaFpjCAAAAAMJIcAAMA6SA5NozgEAADWQXFoGiMIAAAAA8khAACwDpJD0xhBAAAAGEgOAQCAdZAcmkZxCAAArIPi0DRGEAAAAAaSQwAAYB0kh6YxggAAADCQHAIAAOsgOTSN4hAAAFgHxaFpjCAAAAAMJIcAAMA6SA5NozgEAADWQXFoGiMIAAAAA8khAACwDpJD0xhBAAAAGEgOAQCAdZAcmkZxCAAArIPi0DRGEAAAAAaSQwAAYB0kh6YxggAAADCQHAIAAOsgOTSN4hAAAFgHxaFpjCAAAAAMJIcAAMA6SA5NYwQBAABgIDkEAADWQXJoGsUhAACwDopD0xhBAAAAGEgOAQCAdZAcmsYIAgAAwEByCAAArIPk0DSKQwAAYB0Uh6YxggAAABUoKytLo0ePVvv27dWjRw%2B98MILKi4uvmK9xYsXq3Xr1goPD3d6HTt2TJJ0/vx5Pfnkk%2Bratavat2%2BviRMnKi8vz%2BX9pTgEAADW4enp%2BpdJCQkJCgoKUnJyslavXq3k5GStWbOmxHXj4uKUkpLi9KpXr54kaeHChUpNTVVSUpK2bNkih8Ohxx57zHT/foniEAAAoIKkpKQoLS1NU6dOVa1atdSkSRONGDFCSUlJ5drPhQsX9O6772rcuHFq0KCBateurcmTJ%2BuTTz5Rdna2S/vMNYc3uhJiaUv497/d3QPXstI1MBER0q5d0u23S7t3u7s3rnX8uLt74Do2m%2BTlJZ09KxUVubs3KI2Vz1OdOu553wr49zYnJ0e5ublObQEBAQoMDLzmtqmpqWrYsKH8/PyMttDQUGVkZCg/P18%2BPj5O6//www8aMmSI9u3bpwYNGuixxx5Tly5ddPjwYZ06dUqhoaHGus2aNVO1atWUmpqqoKAgk0f5PxSHAADAOiqgOExKStKSJUuc2iZMmKCEhIRrbmu32%2BXr6%2BvUdqlQzMvLcyoO69evr%2BDgYE2ZMkWBgYFKSkrS2LFjtXHjRtntdkm6Yl%2B%2Bvr4uv%2B6Q4hAAAOAqBg8erOjoaKe2gICAMm/vcDjKtN7AgQM1cOBA4%2BcRI0bogw8%2B0MaNG9W1a9dy7csMikMAAGAdFZAcBgYGlmkKuST%2B/v5G6neJ3W6Xh4eH/P39r7l9w4YNlZOTY6xrt9tVs2ZNY/mJEydUt27d6%2BpbaSx0IRQAAEDlEhYWpiNHjuj4Zdc0p6SkqHnz5k5FniS98sor2rFjh1Nbenq6goODFRwcLD8/P6WmphrL9u3bp4KCAoWFhbm0zxSHAADAOirZo2zatGmj8PBwLViwQPn5%2BUpPT9fq1asVHx8vSerdu7d27twp6WIqOGvWLB08eFDnz5/XqlWrdPjwYd19992y2WwaNGiQXnvtNR05ckR5eXl68cUX1atXL%2BNRN67CtDIAALCOSvh0iJdfflkzZsxQ586d5ePjoyFDhmjo0KGSpIyMDJ05c0aSNGXKFEkXrzW02%2B1q3ry53njjDdWvX1%2BSNHHiRJ0%2BfVpxcXG6cOGCevTooZkzZ7q8vx6OX%2BPKRlQcK54%2BDw/rHVcl/Mfqul16lE1kJI%2ByqcxsNsnXVzp50nqPSLESK58ndz3KZu5c1%2B%2BzAh40XZmRHAIAAOuw0n/G3YQRBAAAgIHkEAAAWAfJoWkUhwAAwDooDk1jBAEAAGAgOQQAANZBcmgaIwgAAAADySEAALAOkkPTKA4BAIB1UByaxggCAADAQHIIAACsg%2BTQNIpDAABgHRSHpjGCAAAAMJAcAgAA6yA5NI0RBAAAgIHkEAAAWAfJoWkUhwAAwDooDk1jBAEAAGAgOQQAANZBcmgaIwgAAAADySEAALAOkkPTKA4BAIB1UByaxggCAADAQHIIAACsg%2BTQNEYQAAAABpJDAABgHSSHplEcAgAA66A4NI0RBAAAgIHkEAAAWAfJoWmMIAAAAAwkhwAAwDpIDk2jOAQAANZBcWgaIwgAAAADySEAALAOkkPTGEEAAAAYSA4BAIB1kByaRnEIAACsg%2BLQNEYQAAAABpJDAABgHSSHpjGCAAAAMJAcAgAA6yA5NI3iEAAAWAfFoWmMIAAAQAXKysrS6NGj1b59e/Xo0UMvvPCCiouLS1z37bffVmxsrCIiIhQXF6fk5GRj2aOPPqo2bdooPDzceLVr187l/SU5BAAA1lEJk8OEhASFhoYqOTlZP//8s8aMGaN69erpvvvuc1pvy5YtWrBggZYtW6a2bdtqw4YNmjx5sj788EMFBwdLkh588EElJCRUaH8r3whWEsOHD9e8efOc2pYuXaohQ4YoKytLY8eOVfv27RUVFaVp06YpPz/fWG/jxo3q06ePIiIiFB0drbfeestYtnjxYo0ZM0aTJ09WZGTkr3Y8AADg15eSkqK0tDRNnTpVtWrVUpMmTTRixAglJSVdse65c%2Bf00EMP6fbbb5eXl5cGDhyomjVr6ptvvvlV%2B0xyWIp%2B/frpxRdf1LRp0%2BT53/%2BFbN26VYMGDdK4ceMUGRmphQsX6syZM3rooYf03HPP6emnn1ZmZqYeeeQRrVy5Uh07dtRXX32lkSNHKjIyUq1atZIkffPNN5o0aZIWLFhQrj7l5OQoNzfXqS2gXj0FBga65qBRcSIi3N0D1/nv77Hx1UpsNnf3wHUupSeVMEXBZax6noqK3PfeFTCWJX7%2BBgSU6fM3NTVVDRs2lJ%2Bfn9EWGhqqjIwM5efny8fHx2iPi4tz2vbkyZM6ffq0goKCjLavvvpK27dv16FDh9SsWTPNnDlTYWFh13toJaI4LMWdd96p2bNn65///Kc6duyozMxMpaenKzw8XM8884zefvttVa9eXdWrV1dCQoJGjRql2bNn6%2Babb9ZXX31l/BJ07NhRdevWVWpqqlEc2mw2xcfHy8PDo1x9SkpK0pIlS5zaJowfr4SJE11z0JVJOcem0tu1y909cL3LEnFUYpd98KASs9p5ystz33tXQHFY4ufvhAllmt612%2B3y9fV1artUI%2BTl5TkVh5dzOBx64okndOutt%2BqOO%2B6QJAUHB8vT01OTJk1SzZo1tWTJEo0cOVJbtmxRnTp1rufQSkRxWIqaNWuqZ8%2Be2rhxozp27KitW7eqc%2BfOyszMVFFRkdq3b%2B%2B0flFRkfLy8uTv76%2B3335b7777rnJycuRwOFRQUKCCggJj3fr165e7MJSkwYMHKzo62qktoF49yeG4voOsrDw8rHdMt9/u7h64TqtWFwvDoUOltDR398a1PvnE3T1wHU/PiwVHfr5UyoXvqAQ4TzeEEj9/AwLKvL2jnJ9phYWFevTRR3XgwAGtXbvWaB8/frzTeg8//LA2bdqk5ORkDRw4sFzvcTUUh1fRr18/TZw4UbNmzdK2bdt0zz33yNvbWzVq1NDu3btL3OZvf/ubli9frldeeUVRUVGy2Wzq1q2b0zpVqlzfsAcGBl4ZYVutiLKqUn5fbmhpadY7LndOhVWU4mJrHpfVcJ5cpwKSwxI/f8vI399fdrvdqc1ut8vDw0P%2B/v5XrH/u3DmNGzdOZ8%2Be1ZtvvnnVRNBms6lBgwbKycm5rr6VxmIXObhWx44dVbNmTf3tb3/T/v37FRMTo0aNGunMmTPKzMw01svPz1fefyP0lJQUtWvXTh06dJDNZlNubq7LTxoAALgxhIWF6ciRIzp%2B/LjRlpKSoubNm6tmzZpO6zocDiUmJqpKlSp64403nApDh8OhuXPnKu2yGZuCggIdPnzYuJPZVSgOr8LT01N33XWXXnzxRcXExKh69eoKCQlRRESEnnnmGR0/flwnT57UU7tzWc0AACAASURBVE89pWnTpkmSGjZsqIMHD%2BrEiRPKysrSnDlzdNNNNyk7O9vNRwMAwG%2BAp6frXyZcei7hggULlJ%2Bfr/T0dK1evVrx8fGSpN69e2vnzp2SpPfff18HDhzQSy%2B9JG9vb6f9eHh46Mcff9SsWbOUnZ2t06dPa/78%2BfLy8lLPnj1N9fGXKA6voV%2B/fsrPz9ddd91ltC1YsEAOh0MxMTHq1auXioqKjMfexMfHq3HjxurWrZtGjx6te%2B65R/fcc49Wr16tN998012HAQDAb0MlKw4l6eWXX1ZOTo46d%2B6se%2B%2B9V/369dPQoUMlSRkZGTpz5owkad26dcrKytIdd9zh9KDrJ554QpL0zDPPqEmTJurfv786deqkvXv3as2aNapRo4bpPl7Ow1HeqyR/Y7766is9/vjjSk5ONh5pU6lY8fRZ8YaUyvi7c70iIi7efR0Zab1rDi%2Bb9rnh2WySr6908iTXslVmVj5PLrx7tlx27HD9Pjt2dP0%2BKzFuSLmKnJwcPfvssxo1alTlLAwBAIAzPq9NYwRLsWzZMv3%2B979XVFSUcV0AAACo5CrhtPKNhuSwFGPGjNGYMWPc3Q0AAIBfFcUhAACwjt9g0udqjCAAAAAMJIcAAMA6SA5NozgEAADWQXFoGiMIAAAAA8khAACwDpJD0xhBAAAAGEgOAQCAdZAcmkZxCAAArIPi0DRGEAAAAAaSQwAAYB0kh6YxggAAADCQHAIAAOsgOTSN4hAAAFgHxaFpjCAAAAAMJIcAAMA6SA5NYwQBAABgIDkEAADWQXJoGsUhAACwDopD0xhBAAAAGEgOAQCAdZAcmsYIAgAAwEByCAAArIPk0DSKQwAAYB0Uh6YxggAAADCQHAIAAOsgOTSNEQQAAICB5BAAAFgHyaFpFIcAAMA6KA5NYwQBAABgIDkEAADWQXJoGiMIAAAAA8khAACwDpJD0ygOAQCAdVAcmsYIAgAAwEByCAAArIPk0DRGEAAAAAaSQwAAYB0kh6ZRHAIAAOugODSNEQQAAKhAWVlZGj16tNq3b68ePXrohRdeUHFxcYnrrl27VrGxsYqMjFR8fLy%2B%2B%2B47Y9n58%2Bf15JNPqmvXrmrfvr0mTpyovLw8l/eX4hAAAFiHp6frXyYlJCQoKChIycnJWr16tZKTk7VmzZor1vvoo4%2B0ePFiPf/88/ryyy/Vo0cPjR07VmfOnJEkLVy4UKmpqUpKStKWLVvkcDj02GOPme7fL1EcAgAAVJCUlBSlpaVp6tSpqlWrlpo0aaIRI0YoKSnpinWTkpLUv39/3XrrrapWrZruv/9%2BSdLHH3%2BsCxcu6N1339W4cePUoEED1a5dW5MnT9Ynn3yi7Oxsl/aZaw5vdBcuuLsHruflZb3jOn7c3T1wHZvt4tdPPpGKitzaFZfz93d3D1wnIkLatUvq3l3avdvdvUFprHyeHA73vG8FXHOYk5Oj3Nxcp7aAgAAFBgZec9vU1FQ1bNhQfn5%2BRltoaKgyMjKUn58vHx8fp3X79Olj/Ozp6anWrVsrJSVFrVu31qlTpxQaGmosb9asmapVq6bU1FQFBQWZOUQnFIcAAMAyHPJw%2BT6TkpK0ZMkSp7YJEyYoISHhmtva7Xb5%2Bvo6tV0qFPPy8pyKQ7vd7lREXlo3Ly9Pdrtdkq7Yl6%2Bvr8uvO6Q4BAAAuIrBgwcrOjraqS0gIKDM2zvKkaJea93y7Ot6URwCAADLKOUmYFMCAwPLNIVcEn9/fyP1u8Rut8vDw0P%2Bv7iUpU6dOiWu26JFC2Ndu92umjVrGstPnDihunXrXlffSsMNKQAAwDKKi13/MiMsLExHjhzR8cuuPU9JSVHz5s2dirxL66ampho/FxUV6fvvv9ett96q4OBg%2Bfn5OS3ft2%2BfCgoKFBYWZq6Tv0BxCAAAUEHatGmj8PBwLViwQPn5%2BUpPT9fq1asVHx8vSerdu7d27twpSYqPj9eGDRv0zTff6OzZs3r11VdVtWpVde/eXTabTYMGDdJrr72mI0eOKC8vTy%2B%2B%2BKJ69eqlevXqubTPTCsDAADLqIhpZbNefvllzZgxQ507d5aPj4%2BGDBmioUOHSpIyMjKM5xh27dpVDz30kCZPnqyff/5Z4eHhWr58uapVqyZJmjhxok6fPq24uDhduHBBPXr00MyZM13eXw/Hr3FlIypOYaG7e%2BB6Xl7WO678fHf3wHVsNsnXVzp5kkfZVGaXHpESGWm9R6RYiZXPk5vKi/PnXb9Pb2/X77MyIzkEAACWURmTwxsNxSEAALAMikPzuCEFAAAABpJDAABgGSSH5pEcAgAAwEByCAAALIPk0DyKQwAAYBkUh%2BYxrQwAAAADySEAALAMkkPzSA4BAABgIDkEAACWQXJoHsUhAACwDIpD85hWBgAAgIHkEAAAWAbJoXkkhwAAADCQHAIAAMsgOTSP4hAAAFgGxaF5TCsDAADAQHIIAAAsg%2BTQPJJDAAAAGEgOAQCAZZAcmkdxCAAALIPi0DymlQEAAGAgOQQAAJZBcmgeySEAAAAMJIcAAMAySA7NozgEAACWQXFoHtPKAAAAMJAcAgAAyyA5NI/kEAAAAAaSQwAAYBkkh%2BZRHAIAAMugODSPaWUAAAAYSA4BAIBlkByaR3IIAAAAA8khAACwDJJD8ygOAQCAZVAcmse0MgAAAAwkhwAAwDJIDs2jOAQAAJZBcWge08oAAAAwUBxep5YtW%2Bqzzz5zdzcAAMBliotd//qtoTgEAABwE7vdrsmTJ6tTp07q0qWLpk%2BfrnPnzpW6/tatW/XHP/5RERERio2N1TvvvGMsW7x4sVq3bq3w8HCn17Fjx8rVJ645BAAAlnGjJX0zZsxQQUGBNm3apMLCQk2aNEnz58/XE088ccW6e/bs0dSpU/Xiiy%2Bqe/fu%2BuKLLzR%2B/HjdcsstateunSQpLi5O8%2BbNM9UnSyWHLVu21NatWxUfH6/bbrtNd911l77//ntJ0vr169W5c2en9QcNGqTFixdLulhtjx07VosXL1ZUVJS6dOmi5ORkrV%2B/Xt26dVNUVJReffVVp%2B0zMzM1ePBg3XbbbRowYIAOHDhgLEtLS9Pw4cPVrl07dejQQXPmzFFhYaHRl759%2B2revHm67bbblJ2dXZHDAgDAb8aNNK187NgxJScnKzExUf7%2B/goKCtK4ceO0bt06o2a4nN1u15gxY9SzZ09VqVJF3bp1U0hIiHbu3OnSflkuOVyxYoXmzZunBg0aaMKECVq4cKFef/31Mm27e/dudevWTV988YWefvppzZw5U7169dLWrVv14Ycf6vHHH9egQYNUt25dSdJbb72lRYsW6aabbtKMGTM0adIkffDBBzp79qzuv/9%2BDRs2TK%2B//rqys7M1btw4rVy5UmPHjpUk5eTkyNvbW19//bW8vLzK1L%2BcnBzl5uY6tQXUqaPAgIByjBDcwmZzdw9cx9PT%2BauVRES4uweu06qV81dUTlY9T7t3u7sHLlXi529AgAIDA03td%2B/evbLZbGrZsqXRFhoaqjNnzujgwYNO7ZLUtWtXde3a1fj5woULys3NVVBQkNH2ww8/aMiQIdq3b58aNGigxx57TF26dClXvyxXHMbFxemWW26RJEVHR2vlypVl3tbLy0vx8fGSpG7duumdd97R6NGj5e3trejoaBUVFSkzM9MoDuPi4tSiRQtJ0ujRoxUXF6esrCzt2bNHDodDY8aMkSQFBwdr1KhRWrZsmVEcnjp1Sg888ECZC0NJSkpK0pIlS5zaJowfr4SJE8u8jxtGOcblhmC145EkHx9398D1du1ydw9c76233N0DlIXVzpOHh9veuiKSvhI/fydMUEJCgqn92u12%2Bfj4yOOy8fLz85Mk5eXlXXP7%2BfPnq0aNGurTp48kqX79%2BgoODtaUKVMUGBiopKQkjR07Vhs3bjRqo7KwXHF48803G99Xr15d58%2BfL/O29evXN76vWrWqJBnVuLe3tyQ57a9Zs2bG98HBwZKk7OxsZWZm6ueff1Z4eLix3OFwGPuUJF9fX/mU88N18ODBio6OdmoLqFNHKiF6vqF5eVnvmM6edXcPXMfT82JhmJ9/413ccy3du7u7B67TqtXFgmPoUCktzd29QWk4TzeEEj9/yzhr995772natGklLktMTJTD4Sh3fxwOh%2BbPn69NmzZp7dq1Ro0ycOBADRw40FhvxIgR%2BuCDD7Rx40ZNnjy5zPu3XHHoUY7/rRQVFTn97FnCNFlJbSUtu3Ryvb295e3trRYtWuj9998vddsqVco/9IGBgVdG2FYroqzqF79rllBcbL3jsthUmKSLBYcVj8tqOE8uUxH/Zy3x87eM4uLiFBcXV%2BKyL774Qvn5%2BSoqKpLtv5cf2e12STJmKX%2BpuLhYjz32mPbs2aO3337bCKdK07BhQ%2BXk5JSrzxa8aKhk3t7eOntZelNUVKSsrCxT%2B8zIyDC%2Bz8zMlHQxaWzUqJEyMzN1%2BvRpY3leXp7y8/NNvR8AALi6G%2BmGlNatW8vhcCjtstQ4JSVFvr6%2Batq0aYnbPPvss9q/f3%2BJheErr7yiHTt2OLWlp6dfs4D8pd9Mcdi4cWOdPn1an3/%2BuQoKCrRs2bLrinIvt2HDBh06dEjnzp3TihUrFBERoXr16qlLly7y9/fXc889p/z8fOXm5hq3pgMAAEiSv7%2B/YmNjtWjRIh0/flxHjx7V0qVLNWDAAGOGcfjw4dq8ebMk6d///rc2btyo5cuXq3bt2lfsz263a9asWTp48KDOnz%2BvVatW6fDhw7r77rvL1S/LTSuXJiwsTCNGjFBiYqJsNptGjhypCJN3Jg4bNkxTpkzRgQMH1LJlSz333HOSLt7Y8sorr2jOnDnq3LmzfHx8FBMTo0ceecQVhwIAAEpxo10KPXv2bD311FOKiYmRl5eX%2Bvbtq8TERGN5ZmamTpw4IUlat26dTp06pR49ejjtIyoqSqtWrdKUKVMkXbzW0G63q3nz5nrjjTec7qkoCw%2BH2fgM7mXFaw6teEOKlS4psNkkX1/p5EnrXXPo7%2B/uHrhORMTFu68jI7mWrTKz8nlyU3mxZYvr9xkb6/p9Vma/meQQAABY342WHFZGFIcAAMAyKA7N%2B83ckAIAAIBrIzkEAACWQXJoHskhAAAADCSHAADAMkgOzaM4BAAAlkFxaB7TygAAADCQHAIAAMsgOTSP5BAAAAAGkkMAAGAZJIfmURwCAADLoDg0j2llAAAAGEgOAQCAZZAcmkdyCAAAAAPJIQAAsAySQ/MoDgEAgGVQHJrHtDIAAAAMJIcAAMAySA7NIzkEAACAgeQQAABYBsmheRSHAADAMigOzWNaGQAAAAaSQwAAYBkkh%2BaRHAIAAMBAcggAACyD5NA8ikMAAGAZFIfmMa0MAAAAA8khAACwDJJD8ygOAQCAZVAcmse0MgAAAAwkhwAAwDJIDs0jOQQAAICB5BAAAFgGyaF5FIcAAMAyKA7NY1oZAAAABpJDAABgGSSH5pEcAgAAwEByCAAALIPk0DyKQwAAYBkUh%2BYxrQwAAAADxSEAALCM4mLXvyqS3W7X5MmT1alTJ3Xp0kXTp0/XuXPnSlx3/fr1atWqlcLDw51ee/bs%2Be%2BxF2vhwoWKiYlRVFSURo0apczMzHL3ieIQAADATWbMmKGzZ89q06ZNWrdundLT0zV//vxS14%2BKilJKSorTq23btpKkN998U%2B%2B//76WL1%2Bujz/%2BWE2aNNH48ePlcDjK1SeKQwAAYBk3UnJ47NgxJScnKzExUf7%2B/goKCtK4ceO0bt06FRYWlnt/SUlJGjFihJo1ayYfHx8lJiYqPT1d3377bbn2Q3EIAAAs40YqDvfu3SubzaaWLVsabaGhoTpz5owOHjxY4jZHjhzRfffdp6ioKMXExOi9996TJJ07d04HDhxQmzZtjHV9fHzUuHFjpaSklKtf3K0MAABwFTk5OcrNzXVqCwgIUGBgoKn92u12%2Bfj4yMPDw2jz8/OTJOXl5V2xvr%2B/v5o0aaKHHnpIzZs317Zt2zRt2jQFBgbqlltukcPhMLa/fH8l7etqKA4BAIBlVETSl5SUpCVLlji1TZgwQQkJCdfc9r333tO0adNKXJaYmFiu6wG7d%2B%2Bu7t27Gz//4Q9/0LZt27R%2B/XpNnTpVksp9fWFJKA4BAACuYvDgwYqOjnZqCwgIKNO2cXFxiouLK3HZF198ofz8fBUVFclms0m6mCZKUt26dcu0/4YNG%2Bq7775T7dq15enpaWx/id1uL/O%2BLqE4BAAAllERyWFgYKDpKeSStG7dWg6HQ2lpaQoNDZUkpaSkyNfXV02bNr1i/bffflt%2Bfn7q06eP0Zaenq7g4GB5e3urRYsWSk1N1R133CFJOnnypA4fPmzczVxW3JACAAAs40a6IcXf31%2BxsbFatGiRjh8/rqNHj2rp0qUaMGCAqlS5mN8NHz5cmzdvliQVFBTo6aefVkpKigoLC7Vp0yZ99tlnGjJkiCQpPj5ea9euVXp6uvLz8zV//ny1bt1a4eHh5eoXySEAAICbzJ49W0899ZRiYmLk5eWlvn37KjEx0ViemZmpEydOSJLuvfdenT59WpMmTVJubq5uvvlmLV26VGFhYZKkIUOGKDc3V8OGDdPp06fVvn37K66VLAsPhyuuXIT7XMdzkCo9Ly/rHVd%2Bvrt74Do2m%2BTrK508KRUVubs3ruXv7%2B4euE5EhLRrlxQZKe3e7e7eoDRWPk9uKi8ee8z1%2B5w71/X7rMyYVgYAAICBaWUAAGAZFf23kH8LKA4BAIBlUByax7QyAAAADCSHAADAMkgOzSM5BAAAgIHkEAAAWAbJoXkUhwAAwDIoDs1jWhkAAAAGkkMAAGAZJIfmkRwCAADAQHIIAAAsg%2BTQPIpDAABgGRSH5jGtDAAAAAPJIQAAsAySQ/NIDgEAAGAgOQQAAJZBcmgexSEAALAMikPzmFYGAACAgeQQAABYBsmheSSHAAAAMJAcAgAAyyA5NI/iEAAAWAbFoXlMKwMAAMBAcggAACyD5NA8ikMAAGAZFIfmMa0MAAAAA8khAACwDJJD80gOAQAAYCA5BAAAlkFyaB7FIQAAsAyKQ/OYVgYAAICB5BAAAFgGyaF5JIcAAAAwkBwCAADLIDk0j%2BIQAABYBsWheUwrAwAAwEByCAAALIPk0DySQwAAABhIDgEAgGWQHJpHcQgAACyD4tA8ppUBAABgqLTJYcuWLfX666%2Bra9eu7u4KAAC4QdxoyaHdbtfMmTP1r3/9S56enurWrZtmzJihatWqXbHuE088offee8%2BpraioSHFxcZo7d64effRRbdy4UTabzVju7e2tnTt3lqtPJIcAAABuMmPGDJ09e1abNm3SunXrlJ6ervnz55e47pw5c5SSkmK8du/erVtuuUW9e/c21nnwwQed1ilvYShRHAIAAAspLnb9q6IcO3ZMycnJSkxMlL%2B/v4KCgjRu3DitW7dOhYWF19x%2BzZo1uummm9StWzeX9qtc08otW7bU4sWLtXr1au3du1fBwcF67rnn1KZNG61fv14LFizQF198Yaw/aNAg/e53v1NCQoIWL16s1NRUhYaGau3atfL29tbMmTN18uRJvfTSSzpz5oxGjhypBx980Ng%2BMzNTgwcP1g8//KDmzZtr3rx5at68uSQpLS1Nc%2BfOVWpqqqpUqaK%2BffvqkUcekZeXl9avX69Vq1apS5cu%2Butf/6otW7YoKCjoqscWHR2tBx98UNu2bdPXX3%2BtunXraubMmerSpYskaf/%2B/Xr66af1/fffy2azqXfv3nr88cfl7e1d4vstXLhQ1atXV1FRkd5//335%2B/vrhRde0M6dO7V69WpJ0sMPP6z%2B/fuXefxzcnKUm5vr1BZQp44CAwLKvA%2B4yWUR/w3P09P5q5VERLi7B67TqpXzV1ROVj1Pu3e77a0ropgr8fM3IECBgYGm9rt3717ZbDa1bNnSaAsNDdWZM2d08OBBp/ZfOnnypF577TW99dZbTu1fffWVtm/frkOHDqlZs2aaOXOmwsLCytWvcl9zuGLFCs2bN08NGjTQhAkTtHDhQr3%2B%2Butl2nb37t3q1q2bvvjiCz399NOaOXOmevXqpa1bt%2BrDDz/U448/rkGDBqlu3bqSpLfeekuLFi3STTfdpBkzZmjSpEn64IMPdPbsWd1///0aNmyYXn/9dWVnZ2vcuHFauXKlxo4dK%2BniifT29tbXX38tLy%2BvMvVv5cqVev7559WqVSvNnDlTzz77rDZv3qyCggKNHDlS/fr10/Lly5WTk6OxY8fqpZde0rRp00p9v82bN2vevHmaPn26JkyYoIceekgDBw7Up59%2BqhUrVujZZ59Vv3795FnGD9mkpCQtWbLEqW3C%2BPFKmDixTNvfUMp4zm4YVjseSfLxcXcPXG/XLnf3wPV%2B8cGBSspq58nDw909cKkSP38nTFBCQoKp/drtdvn4%2BMjjsvHy8/OTJOXl5V1127/85S%2BKiopSixYtjLbg4GB5enpq0qRJqlmzppYsWaKRI0dqy5YtqlOnTpn7Ve7iMC4uTrfccouki2nbypUry7ytl5eX4uPjJUndunXTO%2B%2B8o9GjR8vb21vR0dEqKipSZmamURzGxcUZBz169GjFxcUpKytLe/bskcPh0JgxYyRdHIxRo0Zp2bJlRnF46tQpPfDAA2UuDCWpR48eatu2rSQpNjZWGzZsUHFxsT777DOdPXtWCQkJqlq1qho1aqQ///nPWrFihVEclvR%2BTZo0UY8ePSRJnTt31j//%2BU898MADqlq1qnr06KGXXnpJP//8swLKmPwNHjxY0dHRTm0BdepIZYiebyheXtY7prNn3d0D1/H0vFgY5uffeFd%2BX0v37u7ugeu0anWx4Bg6VEpLc3dvUBrOk8tVxD9LJX7%2BlvGz%2B7333jNqhV9KTEyUw%2BEod3%2BKior05ptvasGCBU7t48ePd/r54Ycf1qZNm5ScnKyBAweWef/lLg5vvvlm4/vq1avr/PnzZd62fv36xvdVq1aVJGO619vbW5Kc9tesWTPj%2B%2BDgYElSdna2MjMz9fPPPys8PNxY7nA4jH1Kkq%2Bvr3zKmWxcfmzVqlVTUVGRCgsL9eOPPyo4ONhp/40bN9ZPP/2k4v/%2BFpb0fpcfr7e3t/z9/Y19XPpanvELDAy8MsK2WhFlVUVF7u6B6xUXW%2B%2B43DgVVmHS0qx5XFbDearUSvz8LaO4uDjFxcWVuOyLL75Qfn6%2BioqKjDuM7Xa7JBlBWUm%2B/vprFRQUqF27dld9b5vNpgYNGignJ6dcfS53cehRjqi46BcfHCVNn15tSvXyZZcqa29vb3l7e6tFixZ6//33S922SpXyP6WntL4UFBSU2H75WJT0fr/cX1mnjwEAwPW5kSY0WrduLYfDobS0NIWGhkqSUlJS5Ovrq6ZNm5a63fbt29WhQwen2sPhcGjevHm6%2B%2B671eq/17AWFBTo8OHDRsBWVi6rVry9vXX2sqmzoqIiZWVlmdpnRkaG8X1mZqaki0ljo0aNlJmZqdOnTxvL8/LylJ%2Bfb%2Br9ShMcHKzMzEynIvHgwYO6%2BeabKfgAAKhEbqS7lf39/RUbG6tFixbp%2BPHjOnr0qJYuXaoBAwYYhd/w4cO1efNmp%2B327t3rNNspXQysfvzxR82aNUvZ2dk6ffq05s%2BfLy8vL/Xs2bNc/XJZZdO4cWOdPn1an3/%2BuQoKCrRs2bLrmke/3IYNG3To0CGdO3dOK1asUEREhOrVq6cuXbrI399fzz33nPLz85Wbm6tJkyaV%2Blwgs7p27aoqVapo6dKlKigo0MGDB7V27Vr169evQt4PAAD8NsyePVu1atVSTEyM/vjHP6pt27ZKTEw0lmdmZurEiRNO2%2BTm5qpevXpX7OuZZ55RkyZN1L9/f3Xq1El79%2B7VmjVrVKNGjXL1yWV/ISUsLEwjRoxQYmKibDabRo4cqQiTj4UYNmyYpkyZogMHDqhly5Z67rnnJF28seWVV17RnDlz1LlzZ/n4%2BCgmJkaPPPKIKw7lCjVr1tTy5cs1b948dezYUbVr11a/fv2Mm18AAEDlcCNNK0tSrVq19OKLL5a6/KOPPrqibcuWLSWuW7t2bc2dO9d0nzwcZuM9uJcVb0ix4t3KFXTJg1vYbJKvr3TypPVuSPH3d3cPXCci4uKjeSIjudGhMrPyeXJTedGxo%2Bv3uWOH6/dZmVXav60MAABQXjdaclgZ/SaKwz/%2B8Y9ON7f80qpVqxQVFfUr9ggAAFQEikPzfhPF4caNG93dBQAAgBvCb6I4BAAAvw0kh%2BbxkD4AAAAYSA4BAIBlkByaR3EIAAAsg%2BLQPKaVAQAAYCA5BAAAlkFyaB7JIQAAAAwkhwAAwDJIDs2jOAQAAJZBcWge08oAAAAwkBwCAADLIDk0j%2BIQAABYBsWheUwrAwAAwEByCAAALIPk0DySQwAAABhIDgEAgGWQHJpHcQgAACyD4tA8ppUBAABgIDkEAACWQXJoHskhAAAADCSHAADAMkgOzaM4BAAAlkFxaB7TygAAADCQHAIAAMsgOTSP5BAAAAAGkkMAAGAZJIfmURwCAADLoDg0j2llAAAAGEgOAQCAZZAcmkdyCAAAAAPJIQAAsAySQ/MoDgEAgGVQHJrHtDIAAAAMJIcAAMAySA7NIzkEAACAgeQQAABYBsmheRSHAADAMigOzWNaGQAAAAaKQwAAYBnFxa5/VbSUlBT16tVLgwYNuua6a9euVWxsrCIjIxUfH6/vvvvOWHb%2B/Hk9%2BeST6tq1q9q3b6%2BJEycqLy%2Bv3P2hOAQAAHCTjRs3KiEhQY0bN77muh999JEWL16s559/Xl9%2B%2BaV69OihsWPH6syZM5KkhQv/v727D4ryuts4fi2iC1o1YnkxCNSqUQIOwlhSDFpFxdaGEDMVtRkzlkhilFSrVZs4iWYyYumA/iEqqWLmSVsrxgk2SVMNpibBoYxQ3y00CdoKqCwSaZUKyMLzwG7f2gAAE8FJREFUB3GbdfHtecyeBb6fGWbcc1b3mrlZ53efc%2B5zNur06dPKz8/X/v371d7erhdffPGeM1EcAgCAbqOrjRw2NzcrPz9fUVFRd3xvfn6%2BnnzySUVFRcnHx0cLFiyQJB08eFCtra3as2ePFi1apCFDhuiBBx7Q0qVL9dFHH6m2tvaeMvFACgAA6Da%2BjmLOZrOprq7Oqc3f318BAQH/73971qxZd/3e06dPa8aMGY7XXl5eCg8P18mTJxUeHq4rV64oIiLC0T98%2BHD5%2BPjo9OnTCgwMvOvPoTjs6nr3Np3gvrLZbMrPz9fs2bPvy5fOYwwaZDrBfWOz2ZT/P//T/a6RJLW3m05w39hsNuVv2qTZ%2B/Z1v%2BvUjXCd7r%2Bv42u8aVO%2BcnJynNrS09P1wgsv3P8Pu42GhgYNHDjQqW3gwIG6fPmyGhoaJEkDBgxw6h8wYMA9rzukOIRHqaurU05OjhISEviP0kNxjboGrlPXwHXqGmbPnq2EhASnNn9//7v6u3/4wx%2B0cuXKTvvWr1%2BvJ5988p6ytN%2Bh%2Br1T/92gOAQAALiNgICA/3PxnpycrOTk5PuSY9CgQY4RwhsaGho0cuRI%2Bfn5OV7369fP0f%2Bvf/1LgwcPvqfP4YEUAACALiAyMlKnT592vLbb7frb3/6mqKgohYSEaODAgU79n376qVpaWhQZGXlPn0NxCAAA4KG%2B//3vq6ysTJI0d%2B5c7d27V8eOHdO1a9e0detW9enTR5MmTVKvXr2UkpKi3NxcXbhwQZcvX9aGDRs0bdo0ffOb37ynz2RaGR7F399f6enpd72WA%2B7HNeoauE5dA9cJ06dP1/nz52W329XW1qYxY8ZIkvbt26fg4GCdPXvWsY/hxIkTtWzZMi1dulT19fUaM2aMfv3rX8vHx0eS9NOf/lSNjY1KTk5Wa2urJk%2BerLVr195zJkv7/Vi5CAAAgG6BaWUAAAA4UBwCAADAgeIQAAAADhSHAAAAcKA4BAAAgAPFIQAAABwoDgEAAOBAcQgAAAAHikMAAAA4UBwCAADAgbOV4bHsdrt69eplOgbQZdTV1XFGbxdTX1%2Bv5uZml/YHH3zQQBqgAyOHMGrx4sW6dOmSS/uJEyc0c%2BZMA4lws3Hjxokj2LuGxMRE2e120zFwFwoKChQbG6v4%2BHhNmTLF8ZOQkKApU6aYjocejpFDGGW1WjVjxgytWLFCs2bNUlNTkzZu3Kjdu3crNTXVdDxImjBhgnbv3q3Zs2ebjoI7mDNnjjZv3qxnnnlG/fr1Mx0Ht5GVlaWf/OQnmjx5svr06WM6DuDE0s6QAAwrKytTRkaG%2Bvbtq4sXL2rEiBFavXq1QkJCTEeDpIULF%2Br48ePq1auXgoKC5O3tfE%2B5a9cuQ8lws6SkJNlsNl29elUDBgxwWZZx6NAhQ8lws/Hjx%2BuTTz5x%2BT4BnoDfShg3duxYTZ8%2BXVu2bJG3t7eSkpIoDD1IZGSkIiMjTcfAXWC0veuYP3%2B%2Btm3bprS0NApEeBxGDmHUxx9/rIyMDAUFBem1117ThQsXtGbNGgUGBmrNmjX69re/bToibmPnzp368Y9/bDoG0OUcPXpUy5Yt0%2BXLl%2BXn5yeLxeLU/%2BGHHxpKBlAcwrBHHnlEK1as0I9%2B9CNHW0tLizZv3qw333xTR48eNZgON3z66ac6ffq0WlpaHG21tbV64403uEYexG63Ky8vT3v37lVdXZ1KS0vV2Nio7OxsrVq1Slar1XREfGnatGkaNmyYHn300U6vy5w5cwykAjpQHMKo%2Bvp6DR48uNO%2Bzz77TCNHjnRzItzs97//vV577TUNHjxYly5dUmBgoGw2m4KDg/XUU09p/vz5piPiS%2BvWrdPhw4eVmpqql19%2BWSdOnFBDQ4OWLFmiYcOGae3ataYj4ksxMTEqKSnhYRR4JLaygVGDBw/WsWPH9Oqrr2rRokWSpLa2Nu3bt4/C0EPk5eVpx44dKioqUu/evfXRRx/p448/VkREBGsRPcwf//hHbdmyRcnJyY5pygceeEBZWVk6cOCA4XT4qscee0x/%2BctfTMcAOsUqWBi1e/du/fKXv9QPfvADFRUVSerYyDcjI0M2m01PP/204YSor6/Xd7/7XUmSl5eX2tvb5e/vrxUrVmjhwoV69913DSfEDdevX1dQUJBLu6%2BvrxobGw0kwq14e3vrF7/4hcLCwjRkyBB5eTmP1WRnZxtKBjByCMO2bdumbdu2ad26dY6RjsDAQL3%2B%2Buv67W9/azgdpI6TGkpKSiRJ/v7%2BKisrkyT1799f1dXVJqPhJhEREdqxY4dT27Vr15SVlcUor4e5du2aJk2apGHDhsnHx0d9%2BvRx%2BgFMYs0hjIqOjtaRI0dksVgUFRWl48ePS%2BoYAfnOd76jY8eOGU6Id955Ry%2B%2B%2BKJKSkr0u9/9Ttu3b9e4ceN05swZhYaGavv27aYj4ksVFRVasGCBpI4R35EjR6qqqkp%2Bfn7asmWLRo0aZTghbuCoQ3gyppVhVFhYmEpKShQXF%2BfU/t5773G2qId4/PHHFRMTo/79%2B2vhwoUaPHiwTp48qZiYGM2dO9d0PHzF6NGjdeDAAR08eFBVVVXy8fFRaGio4uPj2UvPwyQmJuqvf/2ry3Qy4AkYOYRR77//vlavXq2EhATt27dPc%2BfO1d///ncdPXpU2dnZmj59uumI%2BIrLly9r0KBBpmPgDi5cuKDa2lpZrVYFBgbKz8/PdCTcJDMzUz4%2BPlqwYAFHHcLjUBzCuJMnT6qgoEDnzp2Tj4%2BPQkJCNGvWLDbA9hCNjY3KzMzUO%2B%2B8o9bWVp06dUoNDQ1atWqV1q9fT%2BHhQSorK7VkyRJVVlbqxn/tFotFY8eOVWZmpkJDQw0nxA0cdQhPRnEI4LZWrVolm82mxYsXKzU1VSdOnFBjY6NeeeUVtbe3a8OGDaYj4kspKSkKCQlRWlqaQkND1d7ernPnzmn79u2qqanhHGwPUlBQcNv%2BmTNnuikJ4IriEG43b948l6OibuXNN9/8mtPgTh555BH96U9/kp%2Bfn9NDQ//%2B9781ffp09mrzINHR0SouLpavr69Te1NTk%2BLi4jjNBsBdYSUs3G7s2LGKiopSVFSUHnroIZWXl6tv376KiIhQeHi4evfurfLyckVHR5uOCnVMS37jG99wabfb7WpubjaQCLcyatQonT9/3qXdZrNpxIgRBhLhVlpaWpSVlaWEhASFh4fr4YcfVmJiorZu3aq2tjbT8dDD8fga3G758uWOPy9btkzZ2dmaOHGi03sOHDig9957z93R0ImxY8fqV7/6lX7%2B85872mpqarRu3TrFxsYaTAbJeW1aUlKSli5dquTkZA0fPlxeXl46e/as9u7dq3nz5hlMiZtlZGSotLRUCxYsUFhYmKSONaO/%2Bc1v1NbWpsWLFxtOiJ6MaWUYFRMTo8OHD7tss3H9%2BnXFxsYyDeYBzp8/r0WLFumzzz6T3W5Xv3799J///EfR0dHKzs7WkCFDTEfs0UaPHn1X77NYLCovL/%2Ba0%2BBuxcXFaffu3QoJCXFqP3PmjJ577jkVFhYaSgYwcgjDAgIClJ%2Bfr6eeesqp/e2332aDWA%2BxfPlypaSkaMyYMaqqqpLValVoaChnX3uIiooK0xHwf9Da2qrAwECX9qFDh6qhocFAIuC/KA5h1MqVK7Vs2TJt2bJFQ4YMkd1uV21tra5cucJTsB4iPj5eu3fv1vr16/Xoo4/q8ccfZ0sUD/bFF1%2BourraZT2oxWLRuHHjDKXCzR5%2B%2BGFt3rxZ6enp6t27t6SOgnHr1q166KGHDKdDT8e0Moy7cuWKioqKVFtbq5aWFgUEBGj8%2BPGd3lXDnKqqKhUWFqqwsFCff/65pk6dqqSkJI0fP950NHwpNzdXmzZtkt1ud%2BljWtmzfP7550pNTVVTU5OGDh0qSaqurpa3t7def/11jRkzxnBC9GQUh/AYLS0tLm0cQO95WlpatGfPHm3YsEFXr15VcHCw0tLSNGfOHNPRerzY2Fi99NJLmjJliqxWq0s/3yfP0tLSok8%2B%2BUTV1dVqaWlRaGioJk6cqL59%2B5qOhh6O4hBGFRcXKyMjQ//4xz86He1gpMNzlJSU6N1339UHH3ygfv366bHHHtMTTzyhS5cuaf369YqNjdXq1atNx%2BzRJk2apA8%2B%2BIAisIvhxhiehuIQRk2bNk2xsbFKTEx02bhXEluleIDMzEy9//77unLliqZOnaonnnhCcXFxThuZ22w2/fCHP1RpaanBpCgoKNCpU6f07LPPsizDw93qxri9vZ0lADCOB1Jg1KVLl/Tqq6%2B6bGUDz1FeXq6f/exnSkxMvOV0V0BAgNLS0tycDDfr37%2B/9u/fr507d3baT8HhOdasWaPY2FitWLGi0xtjwCRGDmHUc889pxdeeEGRkZGmowBd3oQJEzR58mRNnDix0zWHEyZMMJAKnYmOjlZpaSk3xvBI/FbCqKlTp2rlypWaPHmyhg4dKi8v5xMdZ8%2BebSgZ0PU0NzfrlVdeoeDoAmJjY1VRUcGNMTwSI4cwKiEh4ZZ9FotFH374oRvTAF1bTk6OAgIClJKSYjoK7uCtt97SG2%2B8wY0xPBLFIdzun//8p%2BMs0TNnzjg92HCzYcOGuSsW0OU9//zzOnLkiKxWq4KCglwKjl27dhlKhptxYwxPxtwD3C4pKUknTpyQJM2YMaPT4pAn9oB7FxERoYiICNMxcBf%2B/Oc/39X7ysrKONkGbsfIIdzu/PnzevDBByVJNTU1t31vcHCwOyIBgEeKiorS8ePHTcdAD8PIIdzuRmEoUfwB91NOTs5t%2B9PT092UBPcL4zcwgeIQALqJoqIip9d2u101NTVqb29XTEyMoVT4/7jdmmzg60JxCADdRH5%2BvktbW1ubcnNzOY4NwF3zuvNbAABdlZeXl9LS0rRjxw7TUQB0ERSHANDNlZaWqrW11XQMAF0E08oA0E3Ex8e7tDU1NamxsVHz5893fyAAXRLFIQB0E8uXL3dps1qtCgsLY/9DD1NXVyd/f/87vu9b3/rW1x8GuAn7HAIA4GbR0dEqKytTr169TEcBXFAcAkA3UVFRoY0bN6qyslJNTU0u/YcOHTKQCp3JzMyUr6%2BvnnnmGfXr1890HMAJxSEAdBNJSUkKDAxUQkKCfH19XfpnzpxpIBU6k5SUJJvNpqtXr2rAgAEuI4gU8jCJNYcA0E1UV1drz549slqtpqPgDlJTU01HAG6J4hAAuonw8HBdvHhRYWFhpqPgDhjFhSdjWhkAuonCwkLl5eUpOTlZwcHB8vJy3sq2s61uYIbdbldeXp727t2ruro6lZaWqrGxUdnZ2Vq1ahWjvzCK4hAAuonRo0ffss9isai8vNyNaXA769at0%2BHDh5WamqqXX35ZJ06cUENDg5YsWaJhw4Zp7dq1piOiB6M4BADAzcaPH6%2B33npLwcHBioqK0vHjxyV17H84c%2BZMHkiBURyfBwCAm12/fl1BQUEu7b6%2BvmpsbDSQCPgvikMAANwsIiJCO3bscGq7du2asrKyFBkZaSgV0IFpZQAA3KyiokILFiyQJNXX12vkyJGqqqqSn5%2BftmzZolGjRhlOiJ6M4hAAAAOampp08OBBVVVVycfHR6GhoYqPj5e3N7vMwSyKQwAADLlw4YJqa2tltVoVGBgoPz8/05EANsEGAMDdKisrtWTJElVWVurGGI3FYtHYsWOVmZmp0NBQwwnRkzFyCACAm6WkpCgkJERpaWkKDQ1Ve3u7zp07p%2B3bt6umpka7du0yHRE9GMUhAABuFh0dreLiYvn6%2Bjq1NzU1KS4uTkePHjWUDGArGwAA3G7UqFE6f/68S7vNZtOIESMMJAL%2BizWHAAC4wVdPPUlKStLSpUuVnJys4cOHy8vLS2fPntXevXs1b948gykBppUBAHCL2519/VWcgw3TKA4BAADgwLQyAAAGfPHFF6qurlZzc7NTu8Vi0bhx4wylAigOAQBwu9zcXG3atEl2u92lj2llmMa0MgAAbhYbG6uXXnpJU6ZMkdVqdenv06ePgVRAB0YOAQBws759%2B2rGjBkUgfBIjBwCAOBmBQUFOnXqlJ599lkFBgaajgM4YeQQAAA369%2B/v/bv36%2BdO3d22s%2BaQ5jEyCEAAG42YcIETZ48WRMnTux0zeGECRMMpAI6UBwCAOBmsbGxKi4ulrc3E3jwPJytDACAmz399NN6%2B%2B23TccAOsXIIQAAbvb888/ryJEjslqtCgoKkpeX81jNrl27DCUDeCAFAAC3i4iIUEREhOkYQKcYOQQAAIADI4cAALhZTk7ObfvT09PdlARwRXEIAICbFRUVOb222%2B2qqalRe3u7YmJiDKUCOlAcAgDgZvn5%2BS5tbW1tys3N5Ug9GMeaQwAAPMT169f1ve99T8XFxaajoAdjn0MAADxEaWmpWltbTcdAD8e0MgAAbhYfH%2B/S1tTUpMbGRs2fP9/9gYCvYFoZAAA3KygocGmzWq0KCwtj/0MYR3EIAAAAB6aVAQBws4qKCm3cuFGVlZVqampy6T906JCBVEAHikMAANxsxYoVCgwMVGpqqnx9fU3HAZwwrQwAgJtFR0erpKREVqvVdBTABVvZAADgZuHh4bp48aLpGECnGDkEAMDNCgsLlZeXp%2BTkZAUHB8vLy3msprOtbgB3oTgEAMDNRo8efcs%2Bi8Wi8vJyN6YBnFEcAgAAwIE1hwAAAHCgOAQAAIADxSEAAAAcKA4BAADgQHEIAAAAB4pDAAAAOFAcAgAAwIHiEAAAAA7/C26Tw0zMqOOMAAAAAElFTkSuQmCC\" class=\"center-img\">\n",
              "    <img src=\"data:image/png;base64,iVBORw0KGgoAAAANSUhEUgAAAocAAAI8CAYAAACDGQFUAAAABHNCSVQICAgIfAhkiAAAAAlwSFlzAAAPYQAAD2EBqD%2BnaQAAADh0RVh0U29mdHdhcmUAbWF0cGxvdGxpYiB2ZXJzaW9uMy4xLjIsIGh0dHA6Ly9tYXRwbG90bGliLm9yZy8li6FKAAAgAElEQVR4nOzde1RVdf7/8Rcg4gXFUFBTjLyAClSY5HW8YA6Ok2F9veFkkpaaikqa3bTULLU0LbWL13Qqh0q/ecmWSlPjL8caTUsiSUVKRAVUjgpeQDi/Pxj315Ng4D50cPd8rHUW8NmX89mf7eK8fX323rjZ7Xa7AAAAAEnuru4AAAAAKg%2BKQwAAABgoDgEAAGCgOAQAAICB4hAAAAAGikMAAAAYKA4BAABgoDgEAACAgeIQAAAABopDAAAAGKq4ugMAbj779u3TunXrtHfvXh09elQXLlyQl5eX/P39FRoaqt69eysyMlJubm6u7ioAoJzc%2BNvKAMrKbrfrpZde0t///ndJko%2BPj4KCguTt7a3c3Fzt379fubm5kqTu3bvrjTfeUNWqVV3ZZQBAOVEcAiiz999/XzNmzFC1atU0ffp09enTRx4eHsbyixcv6h//%2BIfmzJmjoqIijRgxQhMnTnRhjwEA5cU1hwDKbM2aNZKkhx9%2BWH379nUoDCWpWrVqio2N1WOPPSZJeu%2B993Tx4sXfvZ8AgBtHcQigzI4cOSJJCg4Ovu56sbGxWrZsmbZt26Zq1apJkp5%2B%2BmkFBwdrzpw5ysvL06xZsxQZGamwsDC1b99eY8eO1YEDB0rd586dOzV27Fh17txZoaGhat%2B%2BvWJjY7Vx48ZSt7HZbJo/f7769u2r8PBwhYSEqGPHjho1apS%2B%2BeabEreJjIxUcHCwtm/frm3btql3794KCwvTt99%2BK0lauHChgoOD9fTTTys/P18LFy5UVFSU7rjjDnXt2lUvvviizp8/L0k6ePCgxo0bp06dOiksLEx9%2BvTRhg0bSnzfCxcuaOnSpRowYIDatm2r1q1bq127dnrkkUe0bdu2ErcZMmSIgoODtWbNGuXl5Wn%2B/PlGXyIiIvTYY4/phx9%2BKHV8AKAkFIcAyszX11eS9N133/3men/6059Ur169a5bl5eUpNjZWa9as0S233KKIiAgVFhZq27Zt6t%2B/f4nFzPz58xUbG6tt27bJ29tb7dq1k6%2Bvr3bu3KlJkyZpwoQJKiwsdNgmOztbDz74oN5%2B%2B20dPnxYrVu3Vvv27VW1alV98cUXGjp0qNauXVvqMRw%2BfFjx8fHy9PRU%2B/btjSL3ak8%2B%2BaRWrFihRo0aqUWLFsrKytJ7772np556SgcOHFBMTIxSUlLUsmVL%2Bfn56cCBA3ryySf15ZdfOuznwoULGjx4sObOnavk5GQ1a9ZMHTp0kI%2BPj/79739r7NixWrhwYal9zc/PV2xsrFatWqWGDRsqJCREhYWF2r59u4YMGWIU9QBQJnYAKKOnnnrKHhQUZA8ODrbPmTPHnpmZWe5t27RpY7/vvvsctj179qy9X79%2B9qCgIHu/fv0cttu6das9KCjIHhERYf/mm28clv3nP/%2Bxd%2BzY0R4UFGRfuXKlw7KZM2fag4KC7FFRUfaTJ08a7ZcvX7a/9NJL9qCgIPvdd99tz83Nddiue/fu9qCgIHtkZKT9rbfeuuY43njjDXtQUJC9c%2BfO9vvvv9%2BenZ1tLNu2bZsxPr169bIvXLjQXlRUZLfb7fbCwkL7mDFj7EFBQfbhw4c77HPlypX2oKAge/v27e1paWklLmvVqpX9yJEjDsseeughe1BQkL1bt272wYMH20%2BdOmUsy8rKsnfq1MkeFBRkf/nll685DgAoDckhgDKbMGGCGjZsKLvdruXLl6tbt2566KGHtGDBAv373//WhQsXfnMfubm5mjZtmvz9/Y22WrVq6emnn5ZU/Jicn3/%2B2Vj21ltvSZKeeuop3XPPPQ77ioiI0OTJkyVJq1atcljm7%2B%2Bvv/71rxo7dqzq1q1rtHt4eCg%2BPl7u7u46d%2B5cqSnolRtqSpOVlaXp06c7pKP33nuv/Pz8ZLfbVaVKFY0ZM8Z4nI%2B7u7sGDhwoSfrxxx8d9lWzZk316dNHo0aNUmBgoMOyoUOHys/PT4WFhdq5c2eJfcnOztZrr71mJLuS5Ofnpz59%2BkiSvv/%2B%2B1KPAwB%2BjeccAiizBg0a6KOPPtKrr76qTZs2qbCwULt27dKuXbv01ltvydPTU%2B3atdP999%2Bvv/71r6pS5dpfMf7%2B/rr77ruvaQ8PD1fNmjWVl5en7777ToGBgcrMzFRycrIkqWfPniX26d5775Wbm5uOHTumtLQ03X777ZJk3BRTkurVq6tu3brKzs5WdnZ2ieu0b99e7u6l///Zz89Pd9111zXtjRo1UnZ2trp3737Ncx4bNWokSTpz5oxDe//%2B/dW/f/8S38fNzU2NGze%2Bbl/vuece1a9f/5r2Jk2aSJJycnJKPQ4A%2BDWKQwDl4ufnp1deeUWTJ0/Wtm3btHPnTu3evVunTp1SQUGBvvrqK3311VdaunSp3nzzTaNAuSIoKKjE/bq7u6tRo0Y6cOCAjh49KkkON6hcSRZLUqVKFRUUFOjnn382ikOp%2BFq8f/3rX/rhhx%2BUlZWls2fPyv7fp3edO3dOUnFCWJKSiq2rNW7cuMT2K891vFIIlrTs8uXL1ywrKirSjh07tHfvXmVlZclmsxl9S0tLu25fAwICSmz38vKSJBUUFFzvUADAAcUhgBtSr149xcTEKCYmRlLxDRzffPON1q9fr7179%2BrgwYMaMWKENm7cKE9PT2M7Hx%2BfUvdZq1YtScU3rUiOCdvnn3/%2Bm326UvBJUkpKisaMGWMUmuV1vX5KcjimG1l%2BtWPHjmnMmDHXTDeXFQ8aB%2BBMFIcAnKJp06Zq2rSpYmJitGrVKr388stKS0vT5s2bFR0dbax3vanaK8nYlXWuTMt6enoqKSmpzH%2BO7%2BLFi3r88cd17NgxBQYGavTo0erQoYNuueUWo2iLjIxURkZGqfv4Pf/037hx4/Tjjz%2BqXr16iouLU5cuXVSvXj2j6BsyZIj%2B85///G79AfDHRnEIwOmGDh2q9957T0eOHNHBgwcdll3583olubLsSoJYp04dScXTojk5OQ43XFzP9u3bdezYMbm5uWnJkiW67bbbrlmnsjycOzk5WUlJSZKkuXPnqkOHDtesU1n6CuCPgbuVAZTJtm3b9Pzzz2vJkiVlWv/KtOyV696uOHToUInrFxYWGknelWvorr4%2B8ddF5vVcudu5SZMmJRaGR44c0alTp8q8v4r0yy%2B/SJLxPMVfy8vLu%2B7DwQHA2SgOAZRJUlKSEhIStGTJEh07duy662ZmZiolJUWSrrmjNz09Xfv3779mm2%2B//db4yyLh4eGSim9%2BCQkJkSR9%2BOGHJb5XWlqaoqOjjUfeSP%2BXPF66dKnEbRYvXmx8/%2BuHZ//evL29JRVPqZd048jy5cuN5LCkG1kAwNkoDgGUySOPPCI/Pz%2BdO3dOQ4cOLfHPz9ntdn399dd69NFHVVBQoLvuukudOnVyWKdWrVqaMmWKQ3Jns9k0e/ZsScWPkLn11luNZaNGjZIkbdq0Se%2B%2B%2B65xt7FUnLqNGzdOKSkpOn78uNHesmVLSdKJEyeUmJhotF%2B4cEEzZ85UUlKSUYAePnz4hsfEGYKCguTh4aHCwkJ98MEHRvvly5f1zjvvKCEhQd27d5f0f3ctA0BF4ppDAGVyyy23aMWKFYqLi9PPP/%2Bshx9%2BWH5%2BfmratKlq1Kghm82mo0ePGs/iu/vuu7Vo0aJrbkCJjIxUenq6evToobCwMHl6eur7779Xbm6uvL299fzzzzus/%2Bc//1kjRozQkiVLNGvWLK1evVpNmzZVTk6O9u/fr8LCQrVu3VqTJk0ytgkPD1fnzp311VdfKS4uTnfeeae8vLz0ww8/qEqVKlq5cqU%2B/fRT7d27V6tXr9ZPP/2kxx9/XBERERU/kL/SoEED9evXTwkJCZo1a5Y2bNigOnXqaP/%2B/crLy9OiRYt09OhRffHFF9qyZYuGDBmiwYMH6y9/%2Bcvv3lcAfwwUhwDKLCgoSBs3btSnn36qf/7zn0pJSdG%2BffuUn5%2BvatWqqX79%2BurQoYN69%2B6tbt26lXjHr7u7u1asWKE333xTW7du1bFjx1SzZk1FRUUpPj7e4TmFV0ycOFEdO3bUe%2B%2B9p%2B%2B%2B%2B047d%2B6Ul5eXQkND1bt3bw0ePPiax7ksWLBAc%2BfO1eeff64ffvhB/v7%2BioqK0qhRo9SkSRM1aNBAP/74o/bs2aODBw/%2Brncn/9qUKVPk4%2BOjTZs26cCBA6pbt67atWunkSNHqlWrVrp48aK%2B%2BeYbbd%2B%2BXQcPHnRITwHA2dzs/JYB8Dt4%2Bumn9b//%2B7964IEHjClkAEDlwzWHAAAAMFAcAgAAwEBxCAAAAAPFIQAAQAX7f//v/6ljx46Kj4%2B/7npFRUWaP3%2B%2BevTooYiICA0fPlzp6enGcpvNpgkTJqhjx47q3LmznnvuOaf/FSVuSAEAAKhAS5cu1ccffyxfX181aNBA8%2BfPL3Xdv//971q5cqWWLl2q%2BvXra/78%2Bdq1a5fWr18vNzc3xcXFKT8/X7NmzVJBQYHGjx%2Bv0NBQTZkyxWn9JTkEAACoQF5eXvr4449L/HOev5aQkKDY2Fg1a9ZM3t7eio%2BPV2pqqr7//nudPHlSiYmJio%2BPl6%2Bvr%2BrXr6/Ro0dr7dq1Jf6FpRvFcw4BAACuIysry3jA/xV%2Bfn7y9/cv0/YPP/xwmda7ePGiDh06pNatWxtt3t7euu2225SUlKRz587Jw8NDwcHBxvKQkBCdP39ehw8fdmg3g%2BLwZufCB/dWiNtvlw4elFq0kKz0p8KKilzdA5TFb/zN6JuKh4dUv76UmSm5%2BO9H4zqsfJ4aNXLN%2B1bA52LCG29o0aJFDm1jx45VXFycU9/nzJkzstvt8vHxcWj38fFRTk6O6tSpI29vb4eH9l9ZNycnx2n9oDhE5VKnTvEvyzp1XN0TXI%2Bbm8TlypWbu3vxeXJ3t17RYSWcp5vCwIEDFRkZ6dDm5%2BdXYe93vdtBfo9bRSgOAQCAdbg7/3YKf3//Mk8hm1GnTh25u7vLZrM5tNtsNtWtW1e%2Bvr7Kzc1VYWGhPDw8jGWSVLduXaf1gxtSAAAAKgEvLy%2B1aNFCycnJRtvZs2d15MgR3XHHHWrVqpXsdrtSUlKM5UlJSapdu3aJf5f%2BRlEcAgAA63B3d/6rAmVmZqpXr17GswxjYmK0evVqpaamKjc3V3PnzlWrVq0UFhYmX19fRUVFacGCBTp9%2BrROnDihxYsXq1%2B/fqpSxXmTwUwrAwAA66jgYu5GhIWFSZIuX74sSUpMTJRUnPoVFBQoLS1N%2Bfn5kqRBgwYpOztbQ4YMUV5entq1a%2BdwM8yMGTP0wgsvqEePHvL09NR99933mw/WLi8egn2zs9rdyuHh0p49Ups20t69ru6N81jtbmWr3pBipbuVPT0lf38pK0ty4vPP4GRWPk%2BuulvZy8v5%2B7x0yfn7rMRIDgEAgHVUwuTwZsMIAgAAwEByCAAArIPk0DSKQwAAYB0Uh6YxggAAADCQHAIAAOsgOTSNEQQAAICB5BAAAFgHyaFpFIcAAMA6KA5NYwQBAABgIDkEAADWQXJoGiMIAAAAA8khAACwDpJD0ygOAQCAdVAcmsYIAgAAwEByCAAArIPk0DRGEAAAAAaSQwAAYB0kh6ZRHAIAAOugODSNEQQAAICB5BAAAFgHyaFpjCAAAAAMJIcAAMA6SA5NozgEAADWQXFoGiMIAAAAA8khAACwDpJD0xhBAAAAGEgOAQCAdZAcmkZxCAAArIPi0DRGEAAAAAaSQwAAYB0kh6ZRHAIAAOugODSNEQQAAICB5BAAAFgHyaFpjCAAAAAMJIcAAMA6SA5NozgEAADWQXFoGiMIAAAAA8khAACwDpJD0xhBAAAAGEgOAQCAdZAcmsYISsrIyFBYWJjS0tLKve3cuXM1ZMiQCugVAAAoN3d357/%2BYEgOJTVq1EhJSUmu7gYAALCgjIwMTZ8%2BXd9//71q1Kih3r17a%2BLEiXL/VeE5bNgw7dq1y6Ht8uXLGjNmjMaOHashQ4Zoz549Dtvdfvvt2rBhg1P7S3EIAACsoxImfXFxcQoJCVFiYqJOnTqlkSNHql69enrkkUcc1luxYoXDz2fPnlXv3r3Vs2dPo%2B3FF1/Ugw8%2BWKH9rXwj6AJHjx5VcHCwUlNTFRkZqY8%2B%2BkgjRoxQeHi47r33Xn311VfGuv/85z8VFRWl8PBwTZgwQRcvXnTY1%2BbNmxUdHa277rpLPXr0UEJCgiTp5MmTuueee/Tll18a6z7xxBN6/PHHf5djBAAAv7%2BkpCSlpKRo0qRJqlWrlgIDAxUbG2vUB9ezYMEC9ezZU8HBwb9DT/8PyWEJli9frldeeUUtW7bUtGnT9PLLL2vz5s06e/as4uPjNWnSJA0cOFA7d%2B7UxIkT1apVK0nF/wCee%2B45LVy4UB06dNDevXv12GOPqUWLFmrTpo2efPJJzZo1Sx07dtS%2Bffu0fft2ffrpp2XuV1ZWlrKzsx3a/G6/Xf516jj1%2BF2qZUvHr8DvydPT1T1wnipVHL%2BicrLqeSoocN17V0ByWOLnr5%2Bf/P39f3Pb5ORkNWrUSD4%2BPkZbSEiI0tLSlJubK29v7xK3%2B%2BWXX/TJJ58oMTHRoX3z5s1atmyZjh8/rjvvvFMzZsxQkyZNbuCoSmexf43O0b17d91xxx2SpKioKH3yyScqKirSV199pRo1auhvf/ub3N3d1bVrV7Vt21Z5eXmSpHXr1qlbt27q3LmzJKlt27b6y1/%2BovXr16tNmzbq16%2BfNmzYoBUrVmjLli168sknVb9%2B/TL3KyEhQYsWLXJoGzt%2BvOLGj3fSkVciH3zg6h7gt7i5uboHzleGX/Q3HV9fV/cAZWG185SR4br3roDisMTP37FjFRcX95vb2mw21a5d26HtSqGYk5NTanG4ZMkS/c///I98r/q30axZM1WvXl1z585VUVGRZs6cqUcffVSbNm1S1apVy3tYpaI4LEHjxo2N76tVq6bCwkIVFBToxIkTatiwocOFoIGBgUpOTpYkHTlyRDt37lRYWJix3G63G8Wim5ubZs6cqT59%2Big0NFQDBgwoV78GDhyoyMhIhza/Pn2kVavKfYyVVsuWxYXh4MFSSoqre%2BM8337r6h44l5ubZLe7uhfO96tk4KZWpUpxwXH6tHT5sqt7g9Jwnm4KJX7%2B%2BvmVeXt7OX9f2mw2rV%2B/Xp999plD%2B7Rp0xx%2BnjFjhtq1a6dvv/1WHTp0KNd7XA/FYQl%2BfffQFfn5%2BSosLHRoKyoqMr6vVq2aYmJiNHXq1FL3feLECVWpUkUnTpzQhQsXVKNGjTL3y9/f/9oI%2BwYev3NTSEmR9u51dS/wR%2BPKqbCKcvmyNY/LajhPzlMByWGJn79l5OvrK5vN5tBms9nk5ubmkApe7fPPP9ftt9%2BugICA6%2B7b29tbPj4%2ByszMvKG%2BlYYbUsrB399fmZmZDv8DSE1NNb5v0qSJfvrpJ4dtTpw4YRSU%2Bfn5ev755zV9%2BnS1aNFCCxYs%2BH06DgAAXCI0NFTHjx/X6dOnjbakpCQ1b95cNWvWLHGbzz//XJ06dXJoy83N1bRp0xwKwdOnT%2Bv06dO/WUSWF8VhOXTs2FG5ubn6xz/%2Bofz8fCUmJur77783lvfr10979uzR2rVrlZ%2Bfr/3796t///7asmWLJGnx4sXy9/dXnz599Nxzz%2BnDDz902B4AAJhUyR6C3bp1a4WFhWnevHnKzc1VamqqVq5cqZiYGElSr169tHv3bodt9u/f73CJm1ScEn7//feaOXOmbDabzpw5o%2BnTpys4OFjh4eGm%2BvhrFIfl0KBBA82bN08rVqzQPffcow0bNmjw4MHG8mbNmmnevHlatmyZ2rZtq7i4OA0fPly9e/fWgQMHtGrVKr3wwguSilPGYcOGacqUKSpgKgEAAOeoZMWhJL3xxhvKyspSp06d9PDDD6tv375G/ZCWlqbz5887rJ%2Bdna169epds5/FixfLbrcrKipK3bp1U0FBgZYsWVLq5XA3ys1e3qskUblY7Y7R8HBpzx6pTRtrXXN41bWplmDVG1KOHXN1D5zH07P47uusLK5lq8ysfJ4aNXLN%2B0ZFOX%2Bf/50B/KPghhQAAGAdlfAvpNxsGEEAAAAYSA4BAIB1kByaRnEIAACsg%2BLQNEYQAAAABpJDAABgHSSHpjGCAAAAMJAcAgAA6yA5NI3iEAAAWAfFoWmMIAAAAAwkhwAAwDpIDk1jBAEAAGAgOQQAANZBcmgaxSEAALAOikPTGEEAAAAYSA4BAIB1kByaxggCAADAQHIIAACsg%2BTQNIpDAABgHRSHpjGCAAAAMJAcAgAA6yA5NI3iEAAAWAfFoWmMIAAAAAwkhwAAwDpIDk1jBAEAAGAgOQQAANZBcmgaxSEAALAOikPTGEEAAAAYSA4BAIB1kByaxggCAADAQHIIAACsg%2BTQNIpDAABgHRSHpjGCAAAAMJAcAgAA6yA5NI0RBAAAgIHkEAAAWAfJoWkUhwAAwDooDk1jBAEAAGAgOQQAANZBcmgaIwgAAAADySEAALAOkkPTKA4BAIB1UByaxggCAABUoIyMDI0YMULt2rVT9%2B7d9eqrr6qoqOia9RYuXKhWrVopLCzM4XXy5ElJ0qVLl/T888%2BrS5cuateuncaNG6ecnByn95fiEAAAWIe7u/NfJsXFxal%2B/fpKTEzUypUrlZiYqFWrVpW4bnR0tJKSkhxe9erVkyTNnz9fycnJSkhI0JYtW2S32/XMM8%2BY7t%2BvURwCAABUkKSkJKWkpGjSpEmqVauWAgMDFRsbq4SEhHLt5/Lly/r44481evRoNWzYUHXq1NGECRP05ZdfKjMz06l95prDm10JsbQlfPutq3vgXFa6BiY8XNqzR7r7bmnvXlf3xrlSUlzdA%2Bfx8ir%2Bev68dOmSa/uC0nGenK8Cft9mZWUpOzvboc3Pz0/%2B/v6/uW1ycrIaNWokHx8foy0kJERpaWnKzc2Vt7e3w/o//fSTBg0apAMHDqhhw4Z65pln1LlzZx05ckTnzp1TSEiIsW6zZs1UrVo1JScnq379%2BiaP8v9QHAIAAOuogOIwISFBixYtcmgbO3as4uLifnNbm82m2rVrO7RdKRRzcnIcisMGDRooICBAEydOlL%2B/vxISEjRq1Cht2LBBNptNkq7ZV%2B3atZ1%2B3SHFIQAAwHUMHDhQkZGRDm1%2Bfn5l3t5ut5dpvf79%2B6t///7Gz7Gxsfr000%2B1YcMGdenSpVz7MoPiEAAAWEcFJIf%2B/v5lmkIuia%2Bvr5H6XWGz2eTm5iZfX9/f3L5Ro0bKysoy1rXZbKpZs6ax/MyZM6pbt%2B4N9a00FroQCgAAoHIJDQ3V8ePHdfr0aaMtKSlJzZs3dyjyJOnNN9/Uzp07HdpSU1MVEBCggIAA%2Bfj4KDk52Vh24MAB5efnKzQ01Kl9pjgEAADWUckeZdO6dWuFhYVp3rx5ys3NVWpqqlauXKmYmBhJUq9evbR7925Jxang9OnTdfjwYV26dEkrVqzQkSNH9MADD8jDw0MDBgzQ22%2B/rePHjysnJ0evvfaaevbsaTzqxlmYVgYAANZRCZ8O8cYbb2jq1Knq1KmTvL29NWjQIA0ePFiSlJaWpvPnz0uSJk6cKKn4WkObzabmzZvr3XffVYMGDSRJ48aNU15enqKjo3X58mV1795d06ZNc3p/3ey/x5WNqDhWPH1ubtY7rkr4y%2BqGXXmUTZs2PMqmMvPykgIDpZ9/5hEplZmVz1NwsGved9Ys5%2B%2BzAh40XZmRHAIAAOuw0n/GXYQRBAAAgIHkEAAAWAfJoWkUhwAAwDooDk1jBAEAAGAgOQQAANZBcmgaIwgAAAADySEAALAOkkPTKA4BAIB1UByaxggCAADAQHIIAACsg%2BTQNIpDAABgHRSHpjGCAAAAMJAcAgAA6yA5NI0RBAAAgIHkEAAAWAfJoWkUhwAAwDooDk1jBAEAAGAgOQQAANZBcmgaIwgAAAADySEAALAOkkPTKA4BAIB1UByaxggCAADAQHIIAACsg%2BTQNEYQAAAABpJDAABgHSSHplEcAgAA66A4NI0RBAAAgIHkEAAAWAfJoWmMIAAAAAwkhwAAwDpIDk2jOAQAANZBcWgaIwgAAAADySEAALAOkkPTGEEAAAAYSA4BAIB1kByaRnEIAACsg%2BLQNEYQAAAABpJDAABgHSSHpjGCAAAAMJAcAgAA6yA5NI3iEAAAWAfFoWmMIAAAQAXKyMjQiBEj1K5dO3Xv3l2vvvqqioqKSlx3zZo1ioqKUnh4uKKjo5WYmGgse/rpp9W6dWuFhYUZr7Zt2zq9vySHAADAOiphchgXF6eQkBAlJibq1KlTGjlypOrVq6dHHnnEYb0tW7Zo3rx5euedd3THHXfok08%2B0YQJE/TZZ58pICBAkvT4448rLi6uQvtb%2BUawkhg6dKhmz57t0LZ48WINGjRIGRkZGjVqlNq1a6eIiAhNnjxZubm5xnobNmxQ7969FR4ersjISH3wwQfGsoULF2rkyJGaMGGC2rRp87sdDwAA%2BP0lJSUpJSVFkyZNUq1atRQYGKjY2FglJCRcs%2B7Fixf1xBNP6O6775anp6f69%2B%2BvmjVr6rvvvvtd%2B0xyWIq%2Bffvqtdde0%2BTJk%2BX%2B3/%2BFbN26VQMGDNDo0aPVpk0bzZ8/X%2BfPn9cTTzyhOXPm6MUXX1R6erqeeuopLV%2B%2BXB06dNDXX3%2BtYcOGqU2bNmrZsqUk6bvvvtP48eM1b968cvUpKytL2dnZDm1%2B9erJ39/fOQeNihMe7uoeOM9//x0bX63Ey8vVPXCeqlUdv6Jysup5unTJde9dAclhiZ%2B/fn5l%2BvxNTk5Wo0aN5OPjY7SFhIQoLS1Nubm58vb2Ntqjo6Mdtj179qzy8vJUv359o%2B3rr7/W559/rl9%2B%2BUXNmjXTtGnTFBoaeqOHViKKw1L8%2Bc9/1owZM/TNN9%2BoQ4cOSk9PV2pqqsLCwvTSSy9pzZo1ql69uqpXr664uDgNHz5cM2bMUOPGjfX1118b/wg6dOigunXrKulLB1UAACAASURBVDk52SgOPTw8FBMTIzc3t3L1KSEhQYsWLXJoGztmjOLGjXPOQVcm5RybSm/PHlf3wPmuSsRRid16q6t7gLKw2nn66SfXvXcFFIclfv6OHVum6V2bzabatWs7tF2pEXJychyKw6vZ7XZNmTJFd955p%2B655x5JUkBAgNzd3TV%2B/HjVrFlTixYt0rBhw7RlyxbdcsstN3JoJaI4LEXNmjV17733asOGDerQoYO2bt2qTp06KT09XYWFhWrXrp3D%2BoWFhcrJyZGvr6/WrFmjjz/%2BWFlZWbLb7crPz1d%2Bfr6xboMGDcpdGErSwIEDFRkZ6dDmV6%2BeZLff2EFWVm5u1jumu%2B92dQ%2Bcp2XL4sJw8GApJcXVvXGudetc3QPnqVq1uOA4dky66vcPKhnO002hxM9fP78yb28v52daQUGBnn76aR06dEirV6822seMGeOw3pNPPqlNmzYpMTFR/fv3L9d7XA/F4XX07dtX48aN0/Tp07Vt2zY99NBD8vLyUo0aNbR3794St/noo4%2B0ZMkSvfnmm4qIiJCHh4e6du3qsE6VKjc27P7%2B/tdG2FYroqyqlH8vN7WUFOsdlyunwipKfr41j8tqOE/OUwHJYYmfv2Xk6%2Bsrm83m0Gaz2eTm5iZfX99r1r948aJGjx6tCxcu6P33379uIujh4aGGDRsqKyvrhvpWGm5IuY4OHTqoZs2a%2Buijj3Tw4EH16NFDTZo00fnz55Wenm6sl5ubq5ycHEnFF562bdtW7du3l4eHh7Kzs51%2B0gAAwM0hNDRUx48f1%2BnTp422pKQkNW/eXDVr1nRY1263Kz4%2BXlWqVNG7777rUBja7XbNmjVLKVfN2OTn5%2BvIkSPGnczOQnF4He7u7urTp49ee%2B019ejRQ9WrV1dQUJDCw8P10ksv6fTp0zp79qxeeOEFTZ48WZLUqFEjHT58WGfOnFFGRoZmzpypW2%2B9VZmZmS4%2BGgAA/gDc3Z3/MuHKcwnnzZun3NxcpaamauXKlYqJiZEk9erVS7t375Ykbdy4UYcOHdLrr78ur1/dIOfm5qajR49q%2BvTpyszMVF5enubOnStPT0/de%2B%2B9pvr4axSHv6Fv377Kzc1Vnz59jLZ58%2BbJbrerR48e6tmzpwoLC43H3sTExOi2225T165dNWLECD300EN66KGHtHLlSr3//vuuOgwAAP4YKllxKElvvPGGsrKy1KlTJz388MPq27evBg8eLElKS0vT%2BfPnJUlr165VRkaG7rnnHocHXU%2BZMkWS9NJLLykwMFAPPvigOnbsqP3792vVqlWqUaOG6T5ezc1e3qsk/2C%2B/vprPfvss0pMTDQeaVOpWPH0WfGGlMr4b%2BdGhYcX333dpo31rjm00g02Xl5SYKD0889cy1aZWfk8BQe75n137nT%2BPjt0cP4%2BKzFuSLmOrKwsvfzyyxo%2BfHjlLAwBAIAjPq9NYwRL8c477%2Bgvf/mLIiIijOsCAABAJVcJp5VvNiSHpRg5cqRGjhzp6m4AAAD8rigOAQCAdfwBkz5nYwQBAABgIDkEAADWQXJoGsUhAACwDopD0xhBAAAAGEgOAQCAdZAcmsYIAgAAwEByCAAArIPk0DSKQwAAYB0Uh6YxggAAADCQHAIAAOsgOTSNEQQAAICB5BAAAFgHyaFpFIcAAMA6KA5NYwQBAABgIDkEAADWQXJoGiMIAAAAA8khAACwDpJD0ygOAQCAdVAcmsYIAgAAwEByCAAArIPk0DRGEAAAAAaSQwAAYB0kh6ZRHAIAAOugODSNEQQAAICB5BAAAFgHyaFpjCAAAAAMJIcAAMA6SA5NozgEAADWQXFoGiMIAAAAA8khAACwDpJD0xhBAAAAGEgOAQCAdZAcmkZxCAAArIPi0DRGEAAAAAaSQwAAYB0kh6YxggAAADCQHAIAAOsgOTSN4hAAAFgHxaFpjCAAAEAFysjI0IgRI9SuXTt1795dr776qoqKikpcd/Xq1YqKilKbNm0UExOjH374wVh26dIlPf/88%2BrSpYvatWuncePGKScnx%2Bn9pTgEAADW4e7u/JdJcXFxql%2B/vhITE7Vy5UolJiZq1apV16z3z3/%2BUwsXLtQrr7yif//73%2BrevbtGjRql8%2BfPS5Lmz5%2Bv5ORkJSQkaMuWLbLb7XrmmWdM9%2B/XKA4BAAAqSFJSklJSUjRp0iTVqlVLgYGBio2NVUJCwjXrJiQk6MEHH9Sdd96patWq6dFHH5UkffHFF7p8%2BbI%2B/vhjjR49Wg0bNlSdOnU0YcIEffnll8rMzHRqn7nm8GZ37Jire%2BBcnp6Sv7%2BUnS0VFLi6N86TkuLqHjiPl1fx13XrpEuXXNsXZ2vZ0tU9cJ7wcGnPHunBB6W9e13dG5TGyufJbnfN%2B1bANYdZWVnKzs52aPPz85O/v/9vbpucnKxGjRrJx8fHaAsJCVFaWppyc3Pl7e3tsG7v3r2Nn93d3dWqVSslJSWpVatWOnfunEJCQozlzZo1U7Vq1ZScnKz69eubOUQHFIcAAMAy7HJz%2Bj4TEhK0aNEih7axY8cqLi7uN7e12WyqXbu2Q9uVQjEnJ8ehOLTZbA5F5JV1c3JyZLPZJOmafdWuXdvp1x1SHAIAAFzHwIEDFRkZ6dDm5%2BdX5u3t5UhRf2vd8uzrRlEcAgAAyyjlJmBT/P39yzSFXBJfX18j9bvCZrPJzc1Nvr6%2BDu233HJLieu2aNHCWNdms6lmzZrG8jNnzqhu3bo31LfScEMKAACwjKIi57/MCA0N1fHjx3X69GmjLSkpSc2bN3co8q6sm5ycbPxcWFioH3/8UXfeeacCAgLk4%2BPjsPzAgQPKz89XaGiouU7%2BCsUhAABABWndurXCwsI0b9485ebmKjU1VStXrlRMTIwkqVevXtq9e7ckKSYmRp988om%2B%2B%2B47XbhwQW%2B99ZaqVq2qbt26ycPDQwMGDNDbb7%2Bt48ePKycnR6%2B99pp69uypevXqObXPTCsDAADLqIhpZbPeeOMNTZ06VZ06dZK3t7cGDRqkwYMHS5LS0tKM5xh26dJFTzzxhCZMmKBTp04pLCxMS5YsUbVq1SRJ48aNU15enqKjo3X58mV1795d06ZNc3p/3ey/x5WNqDgZGa7ugXNdeZRNVpa1HmWTm%2BvqHjiPl5cUGCj9/DOPsqnMrjwipU0b6z0ixUqsfJ5cVF5UxK%2BlK0/w%2BqMgOQQAAJZRGZPDmw3FIQAAsAyKQ/O4IQUAAAAGkkMAAGAZJIfmkRwCAADAQHIIAAAsg%2BTQPIpDAABgGRSH5jGtDAAAAAPJIQAAsAySQ/NIDgEAAGAgOQQAAJZBcmgexSEAALAMikPzmFYGAACAgeQQAABYBsmheSSHAAAAMJAcAgAAyyA5NI/iEAAAWAbFoXlMKwMAAMBAcggAACyD5NA8kkMAAAAYSA4BAIBlkByaR3EIAAAsg%2BLQPKaVAQAAYCA5BAAAlkFyaB7JIQAAAAwkhwAAwDJIDs2jOAQAAJZBcWge08oAAAAwkBwCAADLIDk0j%2BQQAAAABpJDAABgGSSH5lEcAgAAy6A4NI9pZQAAABhIDgEAgGWQHJpHcggAAAADySEAALAMkkPzKA4BAIBlUByax7QyAAAADCSHAADAMkgOzaM4BAAAlkFxaB7TygAAADBQHN6g4OBgbd%2B%2B3dXdAAAAVykqcv7rj4biEAAAwEVsNpsmTJigjh07qnPnznruued08eLFUtffunWr7r//foWHhysqKkoffvihsWzhwoVq1aqVwsLCHF4nT54sV5%2B45hAAAFjGzZb0TZ06Vfn5%2Bdq0aZMKCgo0fvx4zZ07V1OmTLlm3X379mnSpEl67bXX1K1bN%2B3YsUNjxoxR06ZN1bZtW0lSdHS0Zs%2BebapPlkoOg4ODtXXrVsXExOiuu%2B5Snz599OOPP0qS1q1bp06dOjmsP2DAAC1cuFBScbU9atQoLVy4UBEREercubMSExO1bt06de3aVREREXrrrbcctk9PT9fAgQN11113qV%2B/fjp06JCxLCUlRUOHDlXbtm3Vvn17zZw5UwUFBUZf7rvvPs2ePVt33XWXMjMzK3JYAAD4w7iZppVPnjypxMRExcfHy9fXV/Xr19fo0aO1du1ao2a4ms1m08iRI3XvvfeqSpUq6tq1q4KCgrR7926n9styyeGyZcs0e/ZsNWzYUGPHjtX8%2BfO1dOnSMm27d%2B9ede3aVTt27NCLL76oadOmqWfPntq6das%2B%2B%2BwzPfvssxowYIDq1q0rSfrggw%2B0YMEC3XrrrZo6darGjx%2BvTz/9VBcuXNCjjz6qIUOGaOnSpcrMzNTo0aO1fPlyjRo1SpKUlZUlLy8v7dq1S56enmXqX1ZWlrKzsx3a/CT5%2B/mVfYAquypVHL9ahZeXq3vgPFWrOn61kvBwV/fAeVq2dPyKysmq52nvXlf3wKlK/Pz185O/v7%2Bp/e7fv18eHh4KDg422kJCQnT%2B/HkdPnzYoV2SunTpoi5duhg/X758WdnZ2apfv77R9tNPP2nQoEE6cOCAGjZsqGeeeUadO3cuV78s9glcHKc2bdpUkhQZGanly5eXeVtPT0/FxMRIkrp27aoPP/xQI0aMkJeXlyIjI1VYWKj09HSjOIyOjlaLFi0kSSNGjFB0dLQyMjK0b98%2B2e12jRw5UpIUEBCg4cOH65133jGKw3Pnzumxxx4rc2EoSQkJCVq0aJFD29gxYxQ3blyZ93HT8PV1dQ/wW2691dU9cL49e1zdA%2Bf74ANX9wBlYbXz5ObmsreuiKSvxM/fsWMVFxdnar82m03e3t5yu2q8fHx8JEk5OTm/uf3cuXNVo0YN9e7dW5LUoEEDBQQEaOLEifL391dCQoJGjRqlDRs2GLVRWViuOGzcuLHxffXq1XXp0qUyb9ugQQPj%2B6r/TUWuVONe/01%2Brt5fs2bNjO8DAgIkSZmZmUpPT9epU6cUFhZmLLfb7cY%2BJal27dry9vYuc98kaeDAgYqMjHRo85OkrKxy7adSq1KluDA8fVq6fNnVvXGe8%2Bdd3QPnqVq1uDA8dkzKz3d1b5zrwQdd3QPnadmyuOAYPFhKSXF1b1AaztNNocTP3zLO2q1fv16TJ08ucVl8fLzsdnu5%2B2O32zV37lxt2rRJq1evNmqU/v37q3///sZ6sbGx%2BvTTT7VhwwZNmDChzPu3XHHoVo7/rRQWFjr87O5%2B7SWYJbWVtOzKyfXy8pKXl5datGihjRs3lrptlRuYNvX39782ws7IkEq4LuGmd/mytY6rHP9JuWnk51vvuCw2FSapuOCw4nFZDefJaSoiOSzx87eMoqOjFR0dXeKyHTt2KDc3V4WFhfLw8JBUnCZKMmYpf62oqEjPPPOM9u3bpzVr1hjhVGkaNWqkrHKGSJa6IeV6vLy8dOHCBePnwsJCZWRkmNpnWlqa8X16erqk4qSxSZMmSk9PV15enrE8JydHubm5pt4PAABc3810Q0qrVq1kt9uVclVqnJSUpNq1a%2Bv2228vcZuXX35ZBw8eLLEwfPPNN7Vz506HttTU1N8sIH/tD1Mc3nbbbcrLy9NXX32l/Px8vfPOOzcU5V7tk08%2B0S%2B//KKLFy9q2bJlCg8PV7169dS5c2f5%2Bvpqzpw5ys3NVXZ2tnFrOgAAgCT5%2BvoqKipKCxYs0OnTp3XixAktXrxY/fr1M2YYhw4dqs2bN0uSvv32W23YsEFLlixRnTp1rtmfzWbT9OnTdfjwYV26dEkrVqzQkSNH9MADD5SrX5abVi5NaGioYmNjFR8fLw8PDw0bNkzhJu9MHDJkiCZOnKhDhw4pODhYc%2BbMkVR8Y8ubb76pmTNnqlOnTvL29laPHj301FNPOeNQAABAKW625xzOmDFDL7zwgnr06CFPT0/dd999io%2BPN5anp6frzJkzkqS1a9fq3Llz6t69u8M%2BIiIitGLFCk2cOFFS8bWGNptNzZs317vvvutwT0VZuNnNxmdwLZNT45WOp6fk7198k42Vrjm00iUFXl5SYKD088/Wu%2BbQSo8TCQ8vvvu6TRuuZavMrHyeXFRebNni/H1GRTl/n5XZHyY5BAAA1nezJYeVEcUhAACwDIpD8/4wN6QAAADgt5EcAgAAyyA5NI/kEAAAAAaSQwAAYBkkh%2BZRHAIAAMugODSPaWUAAAAYSA4BAIBlkByaR3IIAAAAA8khAACwDJJD8ygOAQCAZVAcmse0MgAAAAwkhwAAwDJIDs0jOQQAAICB5BAAAFgGyaF5FIcAAMAyKA7NY1oZAAAABpJDAABgGSSH5pEcAgAAwEByCAAALIPk0DyKQwAAYBkUh%2BYxrQwAAAADySEAALAMkkPzSA4BAABgIDkEAACWQXJoHsUhAACwDIpD85hWBgAAgIHkEAAAWAbJoXkUhwAAwDIoDs1jWhkAAAAGkkMAAGAZJIfmkRwCAADAQHIIAAAsg%2BTQPIpDAABgGRSH5jGtDAAAAAPJIQAAsAySQ/NIDgEAAGAgOQQAAJZBcmgexSEAALAMikPzmFYGAACAgeIQAABYRlGR818VyWazacKECerYsaM6d%2B6s5557ThcvXixx3XXr1qlly5YKCwtzeO3bt%2B%2B/x16k%2BfPnq0ePHoqIiNDw4cOVnp5e7j5RHAIAALjI1KlTdeHCBW3atElr165Vamqq5s6dW%2Br6ERERSkpKcnjdcccdkqT3339fGzdu1JIlS/TFF18oMDBQY8aMkd1uL1efKA4BAIBl3EzJ4cmTJ5WYmKj4%2BHj5%2Bvqqfv36Gj16tNauXauCgoJy7y8hIUGxsbFq1qyZvL29FR8fr9TUVH3//ffl2g/FIQAAsIybqTjcv3%2B/PDw8FBwcbLSFhITo/PnzOnz4cInbHD9%2BXI888ogiIiLUo0cPrV%2B/XpJ08eJFHTp0SK1btzbW9fb21m233aakpKRy9Yu7lQEAAK4jKytL2dnZDm1%2Bfn7y9/c3tV%2BbzSZvb2%2B5ubkZbT4%2BPpKknJyca9b39fVVYGCgnnjiCTVv3lzbtm3T5MmT5e/vr6ZNm8putxvbX72/kvZ1PRSHAADAMioi6UtISNCiRYsc2saOHau4uLjf3Hb9%2BvWaPHlyicvi4%2BPLdT1gt27d1K1bN%2BPnv/71r9q2bZvWrVunSZMmSVK5ry8sCcUhAADAdQwcOFCRkZEObX5%2BfmXaNjo6WtHR0SUu27Fjh3Jzc1VYWCgPDw9JxWmiJNWtW7dM%2B2/UqJF%2B%2BOEH1alTR%2B7u7sb2V9hstjLv6wqKQwAAYBkVkRz6%2B/ubnkIuSatWrWS325WSkqKQkBBJUlJSkmrXrq3bb7/9mvXXrFkjHx8f9e7d22hLTU1VQECAvLy81KJFCyUnJ%2Buee%2B6RJJ09e1ZHjhwx7mYuK25IAQAAlnEz3ZDi6%2BurqKgoLViwQKdPn9aJEye0ePFi9evXT1WqFOd3Q4cO1ebNmyVJ%2Bfn5evHFF5WUlKSCggJt2rRJ27dv16BBgyRJMTExWr16tVJTU5Wbm6u5c%2BeqVatWCgsLK1e/SA4BAABcZMaMGXrhhRfUo0cPeXp66r777lN8fLyxPD09XWfOnJEkPfzww8rLy9P48eOVnZ2txo0ba/HixQoNDZUkDRo0SNnZ2RoyZIjy8vLUrl27a66VLAs3uzOuXITrZGS4ugfO5ekp%2BftLWVnSDTzjqdLKzXV1D5zHy0sKDJR%2B/lm6dMnVvXGuli1d3QPnCQ%2BX9uyR2rSR9u51dW9QGiufJxeVF8884/x9zprl/H1WZkwrAwAAwMC0MgAAsIyK/lvIfwQUhwAAwDIoDs1jWhkAAAAGkkMAAGAZJIfmkRwCAADAQHIIAAAsg%2BTQPIpDAABgGRSH5jGtDAAAAAPJIQAAsAySQ/NIDgEAAGAgOQQAAJZBcmgexSEAALAMikPzmFYGAACAgeQQAABYBsmheSSHAAAAMJAcAgAAyyA5NI/iEAAAWAbFoXlMKwMAAMBAcggAACyD5NA8kkMAAAAYSA4BAIBlkByaR3EIAAAsg%2BLQPKaVAQAAYCA5BAAAlkFyaB7FIQAAsAyKQ/OYVgYAAICB5BAAAFgGyaF5JIcAAAAwkBwCAADLIDk0j%2BIQAABYBsWheUwrAwAAwEByCAAALIPk0DySQwAAABhIDgEAgGWQHJpHcQgAACyD4tA8ppUBAABgIDkEAACWQXJoHskhAAAADCSHAADAMkgOzaM4BAAAlkFxaB7TygAAADBU2uQwODhYS5cuVZcuXVzdFQAAcJO42ZJDm82madOm6T//%2BY/c3d3VtWtXTZ06VdWqVbtm3SlTpmj9%2BvUObYWFhYqOjtasWbP09NNPa8OGDfLw8DCWe3l5affu3eXqE8khAACAi0ydOlUXLlzQpk2btHbtWqWmpmru3Lklrjtz5kwlJSUZr71796pp06bq1auXsc7jjz/usE55C0OJ4hAAAFhIUZHzXxXl5MmTSkxMVHx8vHx9fVW/fn2NHj1aa9euVUFBwW9uv2rVKt16663q2rWrU/tVrmnl4OBgLVy4UCtXrtT%2B/fsVEBCgOXPmqHXr1lq3bp3mzZunHTt2GOsPGDBAf/rTnxQXF6eFCxcqOTlZISEhWr16tby8vDRt2jSdPXtWr7/%2Bus6fP69hw4bp8ccfN7ZPT0/XwIED9dNPP6l58%2BaaPXu2mjdvLklKSUnRrFmzlJycrCpVqui%2B%2B%2B7TU089JU9PT61bt04rVqxQ586d9Y9//ENbtmxR/fr1r3tskZGRevzxx7Vt2zbt2rVLdevW1bRp09S5c2dJ0sGDB/Xiiy/qxx9/lIeHh3r16qVnn31WXl5eJb7f/PnzVb16dRUWFmrjxo3y9fXVq6%2B%2Bqt27d2vlypWSpCeffFIPPvhgmcc/KytL2dnZDm1%2Bkvz9/Mq8j0qvShXHr1bh5eXqHjhP1aqOX60kPNzVPXCeli0dv6Jysup52rvXZW9dEcVciZ%2B/fn7y9/c3td/9%2B/fLw8NDwcHBRltISIjOnz%2Bvw4cPO7T/2tmzZ/X222/rgw8%2BcGj/%2Buuv9fnnn%2BuXX35Rs2bNNG3aNIWGhparX%2BX%2BBF62bJlmz56thg0bauzYsZo/f76WLl1apm337t2rrl27aseOHXrxxRc1bdo09ezZU1u3btVnn32mZ599VgMGDFDdunUlSR988IEWLFigW2%2B9VVOnTtX48eP16aef6sKFC3r00Uc1ZMgQLV26VJmZmRo9erSWL1%2BuUaNGSSo%2BkV5eXtq1a5c8PT3L1L/ly5frlVdeUcuWLTVt2jS9/PLL2rx5s/Lz8zVs2DD17dtXS5YsUVZWlkaNGqXXX39dkydPLvX9Nm/erNmzZ%2Bu5557T2LFj9cQTT6h///7617/%2BpWXLlunll19W37595e5etgA3ISFBixYtcmgbO2aM4saNK9P2NxVfX1f3AL/l1ltd3QPn27PH1T1wvl99cKCSstp5cnNzdQ%2BcqsTP37FjFRcXZ2q/NptN3t7ecrtqvHx8fCRJOTk51932vffeU0REhFq0aGG0BQQEyN3dXePHj1fNmjW1aNEiDRs2TFu2bNEtt9xS5n6VuziMjo5W06ZNJRWnbcuXLy/ztp6enoqJiZEkde3aVR9%2B%2BKFGjBghLy8vRUZGqrCwUOnp6UZxGB0dbRz0iBEjFB0drYyMDO3bt092u10jR46UVDwYw4cP1zvvvGMUh%2BfOndNjjz1W5sJQkrp376477rhDkhQVFaVPPvlERUVF2r59uy5cuKC4uDhVrVpVTZo00d/%2B9jctW7bMKA5Ler/AwEB1795dktSpUyd98803euyxx1S1alV1795dr7/%2Buk6dOiW/MiZ/AwcOVGRkpEObnyRlZZX5GCu9KlWKC8PTp6XLl13dG%2Bc5f97VPXCeqlWLC8Njx6T8fFf3xrnKkeRXei1bFhccgwdLKSmu7g1Kw3lyuopIDkv8/C3jZ/f69euNWuHX4uPjZbfby92fwsJCvf/%2B%2B5o3b55D%2B5gxYxx%2BfvLJJ7Vp0yYlJiaqf//%2BZd5/uYvDxo0bG99Xr15dly5dKvO2DRo0ML6v%2Bt8pqSvTvV7/nXa7en/NmjUzvg8ICJAkZWZmKj09XadOnVJYWJix3G63G/uUpNq1a8vb27vMfZMcj61atWoqLCxUQUGBjh49qoCAAIf933bbbTp27JiK/vuvsKT3u/p4vby85Ovra%2BzjytfyjJ%2B/v/%2B1EXZGhlSG6xJuOpcvW%2Bu4ynGebxr5%2BdY7LhdOhVWYlBRrHpfVcJ4qtRI/f8soOjpa0dHRJS7bsWOHcnNzVVhYaNxhbLPZJMkIykqya9cu5efnq23bttd9bw8PDzVs2FBZ5QyRyl0cupUjKi4sLHT4uaTp0%2BtNqV697Epl7eXlJS8vL7Vo0UIbN24sddsqN3DNWml9yS8lHbl6LEp6v1/vr6zTxwAA4MbcTI%2ByadWqlex2u1JSUhQSEiJJSkpKUu3atXX77beXut3nn3%2Bu9u3bO9Qedrtds2fP1gMPPKCW/72GNT8/X0eOHDECtrJyWrXi5eWlCxcuGD8XFhYqIyPD1D7T0tKM79PT0yUVJ41NmjRRenq68vLyjOU5OTnKzc019X6lCQgIUHp6ukORePjwYTVu3JiCDwCASuRmulvZ19dXUVFRWrBggU6fPq0TJ05o8eLF6tevn1H4DR06VJs3b3bYbv/%2B/Q6znVJxYHX06FFNnz5dmZmZysvL09y5c%2BXp6al77723XP1yWmVz2223KS8vT1999ZXy8/P1zjvv3NA8%2BtU%2B%2BeQT/fLLL7p48aKWLVum8PBw1atXT507d5avr6/mzJmj3NxcZWdna/z48aU%2BF8isLl26qEqVKlq8eLHy8/N1%2BPBhrV69Wn379q2Q9wMAAH8MM2bMUK1atdSjRw/df//9uuOOOxQfH28sT09P15kzZxy2yc7OVr169a7Z10svvaTAwEA9%2BOCD6tixo/bv369Vq1apRo0a5eqT054XEhoaqtjYWMXHx8vDw0PDhg1TuMnHQgwZMkQTJ07U7pfxFwAAFsNJREFUoUOHFBwcrDlz5kgqvrHlzTff1MyZM9WpU6f/3969B0V53X8c/yxeFiReguViEIhVowQchDFYDFLBW2uDaKaiNmPGEkmMl2i1ahMnaiajhozoH14TL5mxrRXjBGvSVKPRJDqEEevdQpOgqYAKaKRVIiALvz%2BI26yLtx%2B6Z1nerxlm5JwVPs4j%2Bt3veZ5z9Mgjj2jw4MGaN2/eg/ijOPH19dW7776rt956S3FxcerUqZNGjRplf/gFAAC4h%2Ba0rCxJ7du31/Lly287v2/fPqex3bt3N/raTp06aenSpU3OZKlvansPZjVx6d7ttGkjBQQ0PIHtSQ%2BkPKRbHoywWqXHH5e%2B/dbzHkjxpL3moqMbtuaJieFBB3fmydfJUHkRF/fgv%2BaXXz74r%2BnOPGynYQAA0JI1t86hO2oRxeHIkSMdHm651aZNm/TUU0%2B5MBEAAHgYKA6brkUUhzt37jQdAQAAoFloEcUhAABoGegcNh2b9AEAAMCOziEAAPAYdA6bjuIQAAB4DIrDpmNZGQAAAHZ0DgEAgMegc9h0dA4BAABgR%2BcQAAB4DDqHTUdxCAAAPAbFYdOxrAwAAAA7OocAAMBj0DlsOopDAADgMSgOm45lZQAAANjROQQAAB6DzmHT0TkEAACAHZ1DAADgMegcNh3FIQAA8BgUh03HsjIAAADs6BwCAACPQeew6egcAgAAwI7OIQAA8Bh0DpuO4hAAAHgMisOmY1kZAAAAdnQOAQCAx6Bz2HR0DgEAAGBH5xAAAHgMOodNR3EIAAA8BsVh07GsDAAAADs6hwAAwGPQOWw6OocAAACwo3MIAAA8Bp3DpqM4BAAAHoPisOlYVgYAAIAdnUMAAOAx6Bw2HZ1DAAAA2NE5BAAAHoPOYdNRHAIAAI9Bcdh0LCsDAADAjuIQAAB4jLq6B//xsJ08eVJDhw5VamrqXV%2B7efNmDR8%2BXDExMRo/frxOnTpln6uurtaCBQuUkJCg/v3765VXXtGVK1fuOw/FIQAAgCE7d%2B7U9OnTFRYWdtfX7tu3TytXrtTbb7%2BtnJwcJSYmavLkyfr%2B%2B%2B8lSStWrNDp06eVlZWl3bt3q76%2BXq%2B%2B%2Bup9Z6I4BAAAHqO5dQ6rq6uVlZWlqKiou742KytLzz77rKKiouTt7a1JkyZJkvbv36/a2lpt375dU6ZMUZcuXdSpUyfNnDlTn332mUpLS%2B8rEw%2BkAAAAj/EwirmysjKVl5c7jPn7%2BysgIKDJX3vMmDH3/NrTp09rxIgR9s%2B9vLwUHh6ukydPKjw8XFevXlVERIR9vnv37vL29tbp06cVGBh4z9%2BH4rC5Cw42neCBKisrU9bKlRo7dqwCPOzP5ikcrtHjj5uO82DV15tO8MDYr9OuXQ/kPzA8HFynB%2B9h/BivXJmlVatWOYxNmzZN06dPf/Df7A4qKirUsWNHh7GOHTvqypUrqqiokCR16NDBYb5Dhw73fd8hxSHcSnl5uVatWqWkpCT%2BoXRTXKPmgevUPHCdmoexY8cqKSnJYczf3/%2Befu9f//pXzZ07t9G5pUuX6tlnn72vLPV3qX7vNn8vKA4BAADuICAg4P9dvKekpCglJeWB5Hj00UftHcKbKioq1LNnT/n5%2Bdk/9/X1tc//5z//UefOne/r%2B/BACgAAQDMQGRmp06dP2z%2B32Wz65z//qaioKIWEhKhjx44O81999ZVqamoUGRl5X9%2BH4hAAAMBN/eIXv9Dhw4clSePHj9eOHTt07NgxXb9%2BXWvXrlXbtm01aNAgtWrVSqmpqVq3bp0uXLigK1euaPny5Ro6dKh%2B8pOf3Nf3ZFkZbsXf31/Tpk2753s54Hpco%2BaB69Q8cJ0wfPhwnT9/XjabTXV1derTp48kadeuXQoODtbZs2ft%2BxgmJCRo1qxZmjlzpi5fvqw%2Bffro3Xfflbe3tyTplVdeUWVlpVJSUlRbW6vExEQtWrTovjNZ6h/EnYsAAADwCCwrAwAAwI7iEAAAAHYUhwAAALCjOAQAAIAdxSEAAADsKA4BAABgR3EIAAAAO4pDAAAA2FEcAgAAwI7iEAAAAHacrQy3ZbPZ1KpVK9MxgGajvLycM3qbmcuXL6u6utpp/LHHHjOQBmhA5xBGTZ06VZcuXXIaP3HihEaPHm0gEW7Vr18/cQR78zBs2DDZbDbTMXAPsrOzFRsbq/j4eA0ePNj%2BkZSUpMGDB5uOhxaOziGMslqtGjFihObMmaMxY8aoqqpKK1as0LZt25SWlmY6HiQNHDhQ27Zt09ixY01HwV2MGzdOq1ev1gsvvCBfX1/TcXAHy5Yt029/%2B1slJiaqbdu2puMADiz1tARg2OHDh7VkyRK1a9dOFy9eVI8ePTR//nyFhISYjgZJkydP1vHjx9WqVSsFBQWpdWvH95Rbt241lAy3Sk5OVllZma5du6YOHTo43ZZx8OBBQ8lwqwEDBuiLL75w%2BnkC3AF/K2Fc3759NXz4cK1Zs0atW7dWcnIyhaEbiYyMVGRkpOkYuAd025uPiRMnav369UpPT6dAhNuhcwijPv/8cy1ZskRBQUF68803deHCBS1cuFCBgYFauHChfvrTn5qOiDvYsmWLfvOb35iOATQ7R48e1axZs3TlyhX5%2BfnJYrE4zH/66aeGkgEUhzCsf//%2BmjNnjn7961/bx2pqarR69Wpt3rxZR48eNZgON3311Vc6ffq0ampq7GOlpaV67733uEZuxGazaePGjdqxY4fKy8uVl5enyspKZWZmat68ebJaraYj4gdDhw5Vt27d9PTTTzd6XcaNG2cgFdCA4hBGXb58WZ07d2507uuvv1bPnj1dnAi3%2Bstf/qI333xTnTt31qVLlxQYGKiysjIFBwfrueee08SJE01HxA8WL16sQ4cOKS0tTa%2B//rpOnDihiooKzZgxQ926ddOiRYtMR8QPYmJilJuby8MocEtsZQOjOnfurGPHjumNN97QlClTJEl1dXXatWsXhaGb2LhxozZt2qQDBw6oTZs2%2Buyzz/T5558rIiKCexHdzN/%2B9jetWbNGKSkp9mXKTp06admyZdq7d6/hdPixZ555Rl9%2B%2BaXpGECjuAsWRm3btk1vvfWWfvnLX%2BrAgQOSGjbyXbJkicrKyvT8888bTojLly/rZz/7mSTJy8tL9fX18vf315w5czR58mR9%2BOGHhhPiphs3bigoKMhp3MfHR5WVlQYS4XZat26tP/zhDwoLC1OXLl3k5eXYq8nMzDSUDKBzCMPWr1%2Bv9evXa/HixfZOR2BgoN555x396U9/MpwOUsNJDbm5uZIkf39/HT58WJLUvn17FRcXm4yGW0RERGjTpk0OY9evX9eyZcvo8rqZ69eva9CgQerWrZu8vb3Vtm1bhw/AJO45hFHR0dE6cuSILBaLoqKidPz4cUkNHZCnnnpKx44dM5wQO3fu1Kuvvqrc3Fz9%2Bc9/1oYNG9SvXz%2BdOXNGoaGh2rBhg%2BmI%2BEFBQYEmTZokqaHj27NnTxUVFcnPz09r1qxRr169DCfETRx1CHfGsjKMCgsLU25uruLi4hzGP/roI84WdRMjR45UTEyM2rdvr8mTJ6tz5846efKkYmJiNH78eNPx8CO9e/fW3r17tX//fhUVFcnb21uhoaGKj49nLz03M2zYMP3jH/9wWk4G3AGdQxj18ccfa/78%2BUpKStKuXbs0fvx4/etf/9LRo0eVmZmp4cOHm46IH7ly5YoeffRR0zFwFxcuXFBpaamsVqsCAwPl5%2BdnOhJukZGRIW9vb02aNImjDuF2KA5h3MmTJ5Wdna1z587J29tbISEhGjNmDBtgu4nKykplZGRo586dqq2t1alTp1RRUaF58%2BZp6dKlFB5upLCwUDNmzFBhYaFu/tNusVjUt29fZWRkKDQ01HBC3MRRh3BnFIcA7mjevHkqKyvT1KlTlZaWphMnTqiyslILFixQfX29li9fbjoifpCamqqQkBClp6crNDRU9fX1OnfunDZs2KCSkhLOwXYj2dnZd5wfPXq0i5IAzigO4XITJkxwOirqdjZv3vyQ0%2BBu%2Bvfvr7///e/y8/NzeGjov//9r4YPH85ebW4kOjpaOTk58vHxcRivqqpSXFwcp9kAuCfcCQuX69u3r6KiohQVFaUnnnhC%2Bfn5ateunSIiIhQeHq42bdooPz9f0dHRpqNCDcuSjzzyiNO4zWZTdXW1gUS4nV69eun8%2BfNO42VlZerRo4eBRLidmpoaLVu2TElJSQoPD9eTTz6pYcOGae3ataqrqzMdDy0cj6/B5WbPnm3/9axZs5SZmamEhASH1%2Bzdu1cfffSRq6OhEX379tXbb7%2Bt3//%2B9/axkpISLV68WLGxsQaTQXK8Ny05OVkzZ85USkqKunfvLi8vL509e1Y7duzQhAkTDKbErZYsWaK8vDxNmjRJYWFhkhruGf3jH/%2Bouro6TZ061XBCtGQsK8OomJgYHTp0yGmbjRs3big2NpZlMDdw/vx5TZkyRV9//bVsNpt8fX31/fffKzo6WpmZmerSpYvpiC1a79697%2Bl1FotF%2Bfn5DzkN7lVcXJy2bdumkJAQh/EzZ87opZde0p49ewwlA%2BgcwrCAgABlZWXpueeecxj/4IMP2CDWTcyePVupqanq06ePioqKZLVaFRoaytnXbqKgoMB0BPw/1NbWKjAw0Gm8a9euqqioMJAI%2BB%2BKQxg1d%2B5czZo1S2vWrFGXLl1ks9lUWlqqq1ev8hSsm4iPj9e2bdu0dOlSPf300xo5ciRborix7777TsXFxU73g1osFvXr189QKtzqySef1OrVqzVt2jS1adNGUkPBuHbtWj3xxBOG06GlY1kZxl29elUHDhxQaWmpampqFBAQoAEDBjT6rhrmFBUVac%2BePdqzZ4%2B%2B%2BeYbDRkyRMnJyRowYIDpaPjBunXrtHLlStlsNqc5lpXdyzfffKO0tDRVVVWpa9eukqTi4mK1bt1a77zzjvr06WM4IVoyikO4jZqaGqcxDqB3PzU1Ndq%2BfbuWL1%2Bua9euKTg4WOnp6Ro3bpzpaC1ebGysXnvtNQ0ePFhWq9Vpnp8n91JTU6MvvvhCxcXFqqmpUWhoqBISEtSuXTvT0dDCURzCqJycHC1ZskTffvtto90OOh3uIzc3Vx9%2B%2BKE%2B%2BeQT%2Bfr66plnntGoUaN06dIlLV26VLGxsZo/f77pmC3aoEGD9Mknn1AENjO8MYa7oTiEUUOHDlVsbKyGDRvmtHGvJLZKcQMZGRn6%2BOOPdfXqVQ0ZMkSjRo1SXFycw0bmZWVl%2BtWvfqW8vDyDSZGdna1Tp07pxRdf5LYMN3e7N8b19fXcAgDjeCAFRl26dElvvPGG01Y2cB/5%2Bfn63e9%2Bp2HDht12uSsgIEDp6ekuToZbtW/fXrt379aWLVsanafgcB8LFy5UbGys5syZ0%2BgbY8AkOocw6qWXXtL06dMVGRlpOgrQ7A0cOFCJiYlKSEho9J7DgQMHGkiFxkRHRysvL483xnBL/K2EUUOGDNHcuXOVmJiorl27ysvL8UTHsWPHGkoGND/V1dVasGABBUczEBsbq4KCAt4Ywy3ROYRRSUlJt52zWCz69NNPXZgGaN5WrVqlgIAApaammo6Cu3j//ff13nvv8cYYboniEC7373//236W6JkzZxwebLhVt27dXBULaPZefvllHTlyRFarVUFBQU4Fx9atWw0lw614Ywx3xtoDXC45OVknTpyQJI0YMaLR4pAn9oD7FxERoYiICNMxcA/27dt3T687fPgwJ9vA5egcwuXOnz%2Bvxx57TJJUUlJyx9cGBwe7IhIAuKWoqCgdP37cdAy0MHQO4XI3C0OJ4g94kFatWnXH%2BWnTprkoCR4U%2BjcwgeIQADzEgQMHHD632WwqKSlRfX29YmJiDKVCU9zpnmzgYaE4BAAPkZWV5TRWV1endevWcRwbgHvmdfeXAACaKy8vL6Wnp2vTpk2mowBoJigOAcDD5eXlqba21nQMAM0Ey8oA4CHi4%2BOdxqqqqlRZWamJEye6PhCAZoniEAA8xOzZs53GrFarwsLC2P/QzZSXl8vf3/%2Bur3v88ccffhjgFuxzCACAi0VHR%2Bvw4cNq1aqV6SiAE4pDAPAQBQUFWrFihQoLC1VVVeU0f/DgQQOp0JiMjAz5%2BPjohRdekK%2Bvr%2Bk4gAOKQwDwEMnJyQoMDFRSUpJ8fHyc5kePHm0gFRqTnJyssrIyXbt2TR06dHDqIFLIwyTuOQQAD1FcXKzt27fLarWajoK7SEtLMx0BuC2KQwDwEOHh4bp48aLCwsJMR8Fd0MWFO2NZGQA8xJ49e7Rx40alpKQoODhYXl6OW9k2ttUNzLDZbNq4caN27Nih8vJy5eXlqbKyUpmZmZo3bx7dXxhFcQgAHqJ37963nbNYLMrPz3dhGtzJ4sWLdejQIaWlpen111/XiRMnVFFRoRkzZqhbt25atGiR6YhowSgOAQBwsQEDBuj9999XcHCwoqKidPz4cUkN%2Bx%2BOHj2aB1JgFMfnAQDgYjdu3FBQUJDTuI%2BPjyorKw0kAv6H4hAAABeLiIjQpk2bHMauX7%2BuZcuWKTIy0lAqoAHLygAAuFhBQYEmTZokSbp8%2BbJ69uypoqIi%2Bfn5ac2aNerVq5fhhGjJKA4BADCgqqpK%2B/fvV1FRkby9vRUaGqr4%2BHi1bs0uczCL4hAAAEMuXLig0tJSWa1WBQYGys/Pz3QkgE2wAQBwtcLCQs2YMUOFhYW62aOxWCzq27evMjIyFBoaajghWjI6hwAAuFhqaqpCQkKUnp6u0NBQ1dfX69y5c9qwYYNKSkq0detW0xHRglEcAgDgYtHR0crJyZGPj4/DeFVVleLi4nT06FFDyQC2sgEAwOV69eql8%2BfPO42XlZWpR48eBhIB/8M9hwAAuMCPTz1JTk7WzJkzlZKSou7du8vLy0tnz57Vjh07NGHCBIMpAZaVAQBwiTudff1jnIMN0ygOAQAAYMeyMgAABnz33XcqLi5WdXW1w7jFYlG/fv0MpQIoDgEAcLl169Zp5cqVstlsTnMsK8M0lpUBAHCx2NhYvfbaaxo8eLCsVqvTfNu2bQ2kAhrQOQQAwMXatWunESNGUATCLdE5BADAxbKzs3Xq1Cm9%2BOKLCgwMNB0HcEDnEAAAF2vfvr12796tLVu2NDrPPYcwic4hAAAuNnDgQCUmJiohIaHRew4HDhxoIBXQgOIQAAAXi42NVU5Ojlq3ZgEP7oezlQEAcLHnn39eH3zwgekYQKPoHAIA4GIvv/yyjhw5IqvVqqCgIHl5OfZqtm7daigZwAMpAAC4XEREhCIiIkzHABpF5xAAAAB2dA4BAHCxVatW3XF%2B2rRpLkoCOKM4BADAxQ4cOODwuc1mU0lJierr6xUTE2MoFdCA4hAAABfLyspyGqurq9O6des4Ug/Gcc8hAABu4saNG/r5z3%2BunJwc01HQgrHPIQAAbiIvL0%2B1tbWmY6CFY1kZAAAXi4%2BPdxqrqqpSZWWlJk6c6PpAwI%2BwrAwAgItlZ2c7jVmtVoWFhbH/IYyjOAQAAIAdy8oAALhYQUGBVqxYocLCQlVVVTnNHzx40EAqoAHFIQAALjZnzhwFBgYqLS1NPj4%2BpuMADlhWBgDAxaKjo5Wbmyur1Wo6CuCErWwAAHCx8PBwXbx40XQMoFF0DgEAcLE9e/Zo48aNSklJUXBwsLy8HHs1jW11A7gKxSEAAC7Wu3fv285ZLBbl5%2Be7MA3giOIQAAAAdtxzCAAAADuKQwAAANhRHAIAAMCO4hAAAAB2FIcAAACwozgEAACAHcUhAAAA7CgOAQAAYPd/XtbQ/w4bjvUAAAAASUVORK5CYII%3D\" class=\"center-img\">\n",
              "</div>\n",
              "    <div class=\"row headerrow highlight\">\n",
              "        <h1>Sample</h1>\n",
              "    </div>\n",
              "    <div class=\"row variablerow\">\n",
              "    <div class=\"col-md-12\" style=\"overflow:scroll; width: 100%%; overflow-y: hidden;\">\n",
              "        <table border=\"1\" class=\"dataframe sample\">\n",
              "  <thead>\n",
              "    <tr style=\"text-align: right;\">\n",
              "      <th></th>\n",
              "      <th>year</th>\n",
              "      <th>state</th>\n",
              "      <th>month</th>\n",
              "      <th>number</th>\n",
              "      <th>number_norm</th>\n",
              "    </tr>\n",
              "  </thead>\n",
              "  <tbody>\n",
              "    <tr>\n",
              "      <th>0</th>\n",
              "      <td>1998</td>\n",
              "      <td>Acre</td>\n",
              "      <td>Janeiro</td>\n",
              "      <td>0.0</td>\n",
              "      <td>-0.569333</td>\n",
              "    </tr>\n",
              "    <tr>\n",
              "      <th>1</th>\n",
              "      <td>1999</td>\n",
              "      <td>Acre</td>\n",
              "      <td>Janeiro</td>\n",
              "      <td>0.0</td>\n",
              "      <td>-0.569333</td>\n",
              "    </tr>\n",
              "    <tr>\n",
              "      <th>2</th>\n",
              "      <td>2000</td>\n",
              "      <td>Acre</td>\n",
              "      <td>Janeiro</td>\n",
              "      <td>0.0</td>\n",
              "      <td>-0.569333</td>\n",
              "    </tr>\n",
              "    <tr>\n",
              "      <th>3</th>\n",
              "      <td>2001</td>\n",
              "      <td>Acre</td>\n",
              "      <td>Janeiro</td>\n",
              "      <td>0.0</td>\n",
              "      <td>-0.569333</td>\n",
              "    </tr>\n",
              "    <tr>\n",
              "      <th>4</th>\n",
              "      <td>2002</td>\n",
              "      <td>Acre</td>\n",
              "      <td>Janeiro</td>\n",
              "      <td>0.0</td>\n",
              "      <td>-0.569333</td>\n",
              "    </tr>\n",
              "  </tbody>\n",
              "</table>\n",
              "    </div>\n",
              "</div>\n",
              "</div>"
            ],
            "text/plain": [
              "<pandas_profiling.ProfileReport at 0x7fc6428d1630>"
            ]
          },
          "metadata": {
            "tags": []
          },
          "execution_count": 42
        }
      ]
    }
  ]
}