{
  "nbformat": 4,
  "nbformat_minor": 0,
  "metadata": {
    "colab": {
      "name": "Amazonia.ipynb",
      "provenance": [],
      "include_colab_link": true
    },
    "kernelspec": {
      "name": "python3",
      "display_name": "Python 3"
    }
  },
  "cells": [
    {
      "cell_type": "markdown",
      "metadata": {
        "id": "view-in-github",
        "colab_type": "text"
      },
      "source": [
        "<a href=\"https://colab.research.google.com/github/niltontac/EspAnalise-EngDados/blob/master/Amazon.ipynb\" target=\"_parent\"><img src=\"https://colab.research.google.com/assets/colab-badge.svg\" alt=\"Open In Colab\"/></a>"
      ]
    },
    {
      "cell_type": "markdown",
      "metadata": {
        "id": "YpSsrULIjLFG",
        "colab_type": "text"
      },
      "source": [
        "# **Sobre este Conjunto de Dados**\n",
        "\n",
        "Os olhos do Brasil e do mundo se voltam para a maior floresta tropical e maior reserva de biodiversidade da terra. O bioma é o mais afetado pela onda de incêndios florestais no país ao longo dos anos. \n",
        "Não há novidade no fenômeno em si. A Amazonia sempre sofreu com incêncios. Essa prática provoca degradação físico-química e biológica do solo, e traz prejuízos ao meio ambiente.\n",
        "\n",
        "Este relatório tem o objetivo de ajudar a compreender através de um conjunto de dados, a frequência de casos de incêndios florestais e fornecer informações que revelem mais precisamente quais os estados que sofrem mais com esses incêndios ao longo de aproximadamente 20 anos.\n",
        "\n",
        "\n",
        "# Aluno | Analista: Nilton Thiago de Andrade Coura\n",
        "### Especialização em Análise e Engenharia de Dados - Cesar School/CInUFPE\n",
        "#### Disciplina: Introdução à Análise de Dados\n",
        "##### Professor: Luciano Barbosa"
      ]
    },
    {
      "cell_type": "markdown",
      "metadata": {
        "id": "B-RXkhpYqubF",
        "colab_type": "text"
      },
      "source": [
        "# Carregando o arquivo e consultando as informações básicas do DataFrame"
      ]
    },
    {
      "cell_type": "code",
      "metadata": {
        "id": "q7qTm3Dgsrby",
        "colab_type": "code",
        "colab": {}
      },
      "source": [
        "# Importando bibliotecas\n",
        "import pandas as pd\n",
        "import numpy as np\n",
        "import matplotlib.pyplot as plt\n",
        "import seaborn as sns\n",
        "import math"
      ],
      "execution_count": 0,
      "outputs": []
    },
    {
      "cell_type": "code",
      "metadata": {
        "id": "1cN_qN7n5KCL",
        "colab_type": "code",
        "colab": {}
      },
      "source": [
        "# Carregando conjunto de dados do arquivo \n",
        "dataset=pd.read_csv(\"https://raw.githubusercontent.com/niltontac/EspAnalise-EngDados/master/amazon.csv\",encoding = \"ISO-8859-1\")"
      ],
      "execution_count": 0,
      "outputs": []
    },
    {
      "cell_type": "code",
      "metadata": {
        "colab_type": "code",
        "outputId": "d219b0fb-3b07-4e03-ecec-6904e4988246",
        "id": "KDIh0cOUUDhI",
        "colab": {
          "base_uri": "https://localhost:8080/",
          "height": 187
        }
      },
      "source": [
        "# Informação do DataFrame\n",
        "# Índice de entradas (6454) e colunas (5)\n",
        "dataset.info()"
      ],
      "execution_count": 3,
      "outputs": [
        {
          "output_type": "stream",
          "text": [
            "<class 'pandas.core.frame.DataFrame'>\n",
            "RangeIndex: 6454 entries, 0 to 6453\n",
            "Data columns (total 5 columns):\n",
            "year      6454 non-null int64\n",
            "state     6454 non-null object\n",
            "month     6454 non-null object\n",
            "number    6454 non-null float64\n",
            "date      6454 non-null object\n",
            "dtypes: float64(1), int64(1), object(3)\n",
            "memory usage: 252.2+ KB\n"
          ],
          "name": "stdout"
        }
      ]
    },
    {
      "cell_type": "code",
      "metadata": {
        "id": "qKEgrxVdcMl4",
        "colab_type": "code",
        "outputId": "710b1c72-c1e3-4910-b852-8d2bf7a6e2c4",
        "colab": {
          "base_uri": "https://localhost:8080/",
          "height": 119
        }
      },
      "source": [
        "# Tipos de Dados\n",
        "dataset.dtypes"
      ],
      "execution_count": 4,
      "outputs": [
        {
          "output_type": "execute_result",
          "data": {
            "text/plain": [
              "year        int64\n",
              "state      object\n",
              "month      object\n",
              "number    float64\n",
              "date       object\n",
              "dtype: object"
            ]
          },
          "metadata": {
            "tags": []
          },
          "execution_count": 4
        }
      ]
    },
    {
      "cell_type": "markdown",
      "metadata": {
        "id": "GsIWMkferRw2",
        "colab_type": "text"
      },
      "source": [
        "## Setando os dados como categóricos"
      ]
    },
    {
      "cell_type": "code",
      "metadata": {
        "id": "kmCV9_tzcrXF",
        "colab_type": "code",
        "outputId": "167f8776-5de3-4cd1-8842-3be927c75b13",
        "colab": {
          "base_uri": "https://localhost:8080/",
          "height": 119
        }
      },
      "source": [
        "# Ajustando os tipos de dados setando como categoricos as colunas \"state\" e \"month\"\n",
        "dataset.state = dataset.state.astype('category')\n",
        "dataset.month = dataset.month.astype('category')\n",
        "dataset.dtypes"
      ],
      "execution_count": 5,
      "outputs": [
        {
          "output_type": "execute_result",
          "data": {
            "text/plain": [
              "year         int64\n",
              "state     category\n",
              "month     category\n",
              "number     float64\n",
              "date        object\n",
              "dtype: object"
            ]
          },
          "metadata": {
            "tags": []
          },
          "execution_count": 5
        }
      ]
    },
    {
      "cell_type": "markdown",
      "metadata": {
        "id": "j_q2coUmfb4M",
        "colab_type": "text"
      },
      "source": [
        "Em nova consulta sobre as informações do DataFrame, constata-se que o tratamento realizado no ajuste dos tipos de dados otimizou consideravelmente o espaço em memória, que caiu de 252.2KB (observe em consulta pouco mais acima) para para 165.2KB (consulta abaixo):"
      ]
    },
    {
      "cell_type": "code",
      "metadata": {
        "id": "Ki5TcoBTfLLL",
        "colab_type": "code",
        "outputId": "89e7995c-d688-4c77-9bb2-b7e61faa7dd1",
        "colab": {
          "base_uri": "https://localhost:8080/",
          "height": 187
        }
      },
      "source": [
        "# Informação do DataFrame após ajustar os tipos de daddos\n",
        "dataset.info()"
      ],
      "execution_count": 6,
      "outputs": [
        {
          "output_type": "stream",
          "text": [
            "<class 'pandas.core.frame.DataFrame'>\n",
            "RangeIndex: 6454 entries, 0 to 6453\n",
            "Data columns (total 5 columns):\n",
            "year      6454 non-null int64\n",
            "state     6454 non-null category\n",
            "month     6454 non-null category\n",
            "number    6454 non-null float64\n",
            "date      6454 non-null object\n",
            "dtypes: category(2), float64(1), int64(1), object(1)\n",
            "memory usage: 165.2+ KB\n"
          ],
          "name": "stdout"
        }
      ]
    },
    {
      "cell_type": "markdown",
      "metadata": {
        "id": "SrOEO8rvrhMH",
        "colab_type": "text"
      },
      "source": [
        "## Describe, Head, Tail e Unique"
      ]
    },
    {
      "cell_type": "code",
      "metadata": {
        "id": "3iwzcfyRSyyM",
        "colab_type": "code",
        "outputId": "5dd15e85-4ea4-4ad2-8f79-cf7d9283dfa9",
        "colab": {
          "base_uri": "https://localhost:8080/",
          "height": 297
        }
      },
      "source": [
        "# Resumo da forma de distribuição do conjunto dos dados carregados\n",
        "# onde temos 6454 registros para observação \n",
        "# média, desvio padrão, mínimo, máximo, e quantis.\n",
        "dataset.describe()"
      ],
      "execution_count": 7,
      "outputs": [
        {
          "output_type": "execute_result",
          "data": {
            "text/html": [
              "<div>\n",
              "<style scoped>\n",
              "    .dataframe tbody tr th:only-of-type {\n",
              "        vertical-align: middle;\n",
              "    }\n",
              "\n",
              "    .dataframe tbody tr th {\n",
              "        vertical-align: top;\n",
              "    }\n",
              "\n",
              "    .dataframe thead th {\n",
              "        text-align: right;\n",
              "    }\n",
              "</style>\n",
              "<table border=\"1\" class=\"dataframe\">\n",
              "  <thead>\n",
              "    <tr style=\"text-align: right;\">\n",
              "      <th></th>\n",
              "      <th>year</th>\n",
              "      <th>number</th>\n",
              "    </tr>\n",
              "  </thead>\n",
              "  <tbody>\n",
              "    <tr>\n",
              "      <th>count</th>\n",
              "      <td>6454.000000</td>\n",
              "      <td>6454.000000</td>\n",
              "    </tr>\n",
              "    <tr>\n",
              "      <th>mean</th>\n",
              "      <td>2007.461729</td>\n",
              "      <td>108.293163</td>\n",
              "    </tr>\n",
              "    <tr>\n",
              "      <th>std</th>\n",
              "      <td>5.746654</td>\n",
              "      <td>190.812242</td>\n",
              "    </tr>\n",
              "    <tr>\n",
              "      <th>min</th>\n",
              "      <td>1998.000000</td>\n",
              "      <td>0.000000</td>\n",
              "    </tr>\n",
              "    <tr>\n",
              "      <th>25%</th>\n",
              "      <td>2002.000000</td>\n",
              "      <td>3.000000</td>\n",
              "    </tr>\n",
              "    <tr>\n",
              "      <th>50%</th>\n",
              "      <td>2007.000000</td>\n",
              "      <td>24.000000</td>\n",
              "    </tr>\n",
              "    <tr>\n",
              "      <th>75%</th>\n",
              "      <td>2012.000000</td>\n",
              "      <td>113.000000</td>\n",
              "    </tr>\n",
              "    <tr>\n",
              "      <th>max</th>\n",
              "      <td>2017.000000</td>\n",
              "      <td>998.000000</td>\n",
              "    </tr>\n",
              "  </tbody>\n",
              "</table>\n",
              "</div>"
            ],
            "text/plain": [
              "              year       number\n",
              "count  6454.000000  6454.000000\n",
              "mean   2007.461729   108.293163\n",
              "std       5.746654   190.812242\n",
              "min    1998.000000     0.000000\n",
              "25%    2002.000000     3.000000\n",
              "50%    2007.000000    24.000000\n",
              "75%    2012.000000   113.000000\n",
              "max    2017.000000   998.000000"
            ]
          },
          "metadata": {
            "tags": []
          },
          "execution_count": 7
        }
      ]
    },
    {
      "cell_type": "code",
      "metadata": {
        "id": "vA7KTnb75cih",
        "colab_type": "code",
        "outputId": "518e2d82-58fc-4d2c-e0cb-aa252b61d480",
        "colab": {
          "base_uri": "https://localhost:8080/",
          "height": 204
        }
      },
      "source": [
        "# Visualizando as primeiras linhas \n",
        "dataset.head()"
      ],
      "execution_count": 8,
      "outputs": [
        {
          "output_type": "execute_result",
          "data": {
            "text/html": [
              "<div>\n",
              "<style scoped>\n",
              "    .dataframe tbody tr th:only-of-type {\n",
              "        vertical-align: middle;\n",
              "    }\n",
              "\n",
              "    .dataframe tbody tr th {\n",
              "        vertical-align: top;\n",
              "    }\n",
              "\n",
              "    .dataframe thead th {\n",
              "        text-align: right;\n",
              "    }\n",
              "</style>\n",
              "<table border=\"1\" class=\"dataframe\">\n",
              "  <thead>\n",
              "    <tr style=\"text-align: right;\">\n",
              "      <th></th>\n",
              "      <th>year</th>\n",
              "      <th>state</th>\n",
              "      <th>month</th>\n",
              "      <th>number</th>\n",
              "      <th>date</th>\n",
              "    </tr>\n",
              "  </thead>\n",
              "  <tbody>\n",
              "    <tr>\n",
              "      <th>0</th>\n",
              "      <td>1998</td>\n",
              "      <td>Acre</td>\n",
              "      <td>Janeiro</td>\n",
              "      <td>0.0</td>\n",
              "      <td>1998-01-01</td>\n",
              "    </tr>\n",
              "    <tr>\n",
              "      <th>1</th>\n",
              "      <td>1999</td>\n",
              "      <td>Acre</td>\n",
              "      <td>Janeiro</td>\n",
              "      <td>0.0</td>\n",
              "      <td>1999-01-01</td>\n",
              "    </tr>\n",
              "    <tr>\n",
              "      <th>2</th>\n",
              "      <td>2000</td>\n",
              "      <td>Acre</td>\n",
              "      <td>Janeiro</td>\n",
              "      <td>0.0</td>\n",
              "      <td>2000-01-01</td>\n",
              "    </tr>\n",
              "    <tr>\n",
              "      <th>3</th>\n",
              "      <td>2001</td>\n",
              "      <td>Acre</td>\n",
              "      <td>Janeiro</td>\n",
              "      <td>0.0</td>\n",
              "      <td>2001-01-01</td>\n",
              "    </tr>\n",
              "    <tr>\n",
              "      <th>4</th>\n",
              "      <td>2002</td>\n",
              "      <td>Acre</td>\n",
              "      <td>Janeiro</td>\n",
              "      <td>0.0</td>\n",
              "      <td>2002-01-01</td>\n",
              "    </tr>\n",
              "  </tbody>\n",
              "</table>\n",
              "</div>"
            ],
            "text/plain": [
              "   year state    month  number        date\n",
              "0  1998  Acre  Janeiro     0.0  1998-01-01\n",
              "1  1999  Acre  Janeiro     0.0  1999-01-01\n",
              "2  2000  Acre  Janeiro     0.0  2000-01-01\n",
              "3  2001  Acre  Janeiro     0.0  2001-01-01\n",
              "4  2002  Acre  Janeiro     0.0  2002-01-01"
            ]
          },
          "metadata": {
            "tags": []
          },
          "execution_count": 8
        }
      ]
    },
    {
      "cell_type": "code",
      "metadata": {
        "colab_type": "code",
        "outputId": "a4084aac-e0ee-477f-8511-e6a25e35f4c6",
        "id": "zpcSJv4POBGi",
        "colab": {
          "base_uri": "https://localhost:8080/",
          "height": 204
        }
      },
      "source": [
        "# Visualizando as últimas linhas\n",
        "dataset.tail()"
      ],
      "execution_count": 9,
      "outputs": [
        {
          "output_type": "execute_result",
          "data": {
            "text/html": [
              "<div>\n",
              "<style scoped>\n",
              "    .dataframe tbody tr th:only-of-type {\n",
              "        vertical-align: middle;\n",
              "    }\n",
              "\n",
              "    .dataframe tbody tr th {\n",
              "        vertical-align: top;\n",
              "    }\n",
              "\n",
              "    .dataframe thead th {\n",
              "        text-align: right;\n",
              "    }\n",
              "</style>\n",
              "<table border=\"1\" class=\"dataframe\">\n",
              "  <thead>\n",
              "    <tr style=\"text-align: right;\">\n",
              "      <th></th>\n",
              "      <th>year</th>\n",
              "      <th>state</th>\n",
              "      <th>month</th>\n",
              "      <th>number</th>\n",
              "      <th>date</th>\n",
              "    </tr>\n",
              "  </thead>\n",
              "  <tbody>\n",
              "    <tr>\n",
              "      <th>6449</th>\n",
              "      <td>2012</td>\n",
              "      <td>Tocantins</td>\n",
              "      <td>Dezembro</td>\n",
              "      <td>128.0</td>\n",
              "      <td>2012-01-01</td>\n",
              "    </tr>\n",
              "    <tr>\n",
              "      <th>6450</th>\n",
              "      <td>2013</td>\n",
              "      <td>Tocantins</td>\n",
              "      <td>Dezembro</td>\n",
              "      <td>85.0</td>\n",
              "      <td>2013-01-01</td>\n",
              "    </tr>\n",
              "    <tr>\n",
              "      <th>6451</th>\n",
              "      <td>2014</td>\n",
              "      <td>Tocantins</td>\n",
              "      <td>Dezembro</td>\n",
              "      <td>223.0</td>\n",
              "      <td>2014-01-01</td>\n",
              "    </tr>\n",
              "    <tr>\n",
              "      <th>6452</th>\n",
              "      <td>2015</td>\n",
              "      <td>Tocantins</td>\n",
              "      <td>Dezembro</td>\n",
              "      <td>373.0</td>\n",
              "      <td>2015-01-01</td>\n",
              "    </tr>\n",
              "    <tr>\n",
              "      <th>6453</th>\n",
              "      <td>2016</td>\n",
              "      <td>Tocantins</td>\n",
              "      <td>Dezembro</td>\n",
              "      <td>119.0</td>\n",
              "      <td>2016-01-01</td>\n",
              "    </tr>\n",
              "  </tbody>\n",
              "</table>\n",
              "</div>"
            ],
            "text/plain": [
              "      year      state     month  number        date\n",
              "6449  2012  Tocantins  Dezembro   128.0  2012-01-01\n",
              "6450  2013  Tocantins  Dezembro    85.0  2013-01-01\n",
              "6451  2014  Tocantins  Dezembro   223.0  2014-01-01\n",
              "6452  2015  Tocantins  Dezembro   373.0  2015-01-01\n",
              "6453  2016  Tocantins  Dezembro   119.0  2016-01-01"
            ]
          },
          "metadata": {
            "tags": []
          },
          "execution_count": 9
        }
      ]
    },
    {
      "cell_type": "code",
      "metadata": {
        "id": "22NjOwSodgp7",
        "colab_type": "code",
        "outputId": "f1e81425-2fc2-409c-efc2-b20a90e5f8e0",
        "colab": {
          "base_uri": "https://localhost:8080/",
          "height": 51
        }
      },
      "source": [
        "# Visualizando o intervalo dos anos\n",
        "dataset.year.unique()"
      ],
      "execution_count": 10,
      "outputs": [
        {
          "output_type": "execute_result",
          "data": {
            "text/plain": [
              "array([1998, 1999, 2000, 2001, 2002, 2003, 2004, 2005, 2006, 2007, 2008,\n",
              "       2009, 2010, 2011, 2012, 2013, 2014, 2015, 2016, 2017])"
            ]
          },
          "metadata": {
            "tags": []
          },
          "execution_count": 10
        }
      ]
    },
    {
      "cell_type": "code",
      "metadata": {
        "id": "KBNh9V-UgEWJ",
        "colab_type": "code",
        "outputId": "f928774d-daf9-489a-fefc-6c7440014e0b",
        "colab": {
          "base_uri": "https://localhost:8080/",
          "height": 85
        }
      },
      "source": [
        "# Visualizando os estados\n",
        "dataset.state.unique()"
      ],
      "execution_count": 11,
      "outputs": [
        {
          "output_type": "execute_result",
          "data": {
            "text/plain": [
              "[Acre, Alagoas, Amapa, Amazonas, Bahia, ..., Roraima, Santa Catarina, Sao Paulo, Sergipe, Tocantins]\n",
              "Length: 23\n",
              "Categories (23, object): [Acre, Alagoas, Amapa, Amazonas, ..., Santa Catarina, Sao Paulo, Sergipe,\n",
              "                          Tocantins]"
            ]
          },
          "metadata": {
            "tags": []
          },
          "execution_count": 11
        }
      ]
    },
    {
      "cell_type": "code",
      "metadata": {
        "id": "JOdzPrEggiXq",
        "colab_type": "code",
        "outputId": "05c0565d-2457-4e94-f5df-12935a748c1a",
        "colab": {
          "base_uri": "https://localhost:8080/",
          "height": 68
        }
      },
      "source": [
        "# Visualizando os meses\n",
        "dataset.month.unique()"
      ],
      "execution_count": 12,
      "outputs": [
        {
          "output_type": "execute_result",
          "data": {
            "text/plain": [
              "[Janeiro, Fevereiro, Março, Abril, Maio, ..., Agosto, Setembro, Outubro, Novembro, Dezembro]\n",
              "Length: 12\n",
              "Categories (12, object): [Janeiro, Fevereiro, Março, Abril, ..., Setembro, Outubro, Novembro, Dezembro]"
            ]
          },
          "metadata": {
            "tags": []
          },
          "execution_count": 12
        }
      ]
    },
    {
      "cell_type": "markdown",
      "metadata": {
        "id": "BjlXgLUzPfmK",
        "colab_type": "text"
      },
      "source": [
        "# Analizando, explorando, tratando e visualizando os dados do DataFrame\n",
        "\n",
        "######Após consultarmos acima algumas informações básicas do DataFrame, vamos agora de fato explorar os dados, realizar as análises e tratamentos necessários desses dados, além de visualizá-los através de gráficos:"
      ]
    },
    {
      "cell_type": "code",
      "metadata": {
        "id": "CGwAzVy7ZZdE",
        "colab_type": "code",
        "outputId": "86f8c855-555e-41e3-985c-97bca4e0a3a7",
        "colab": {
          "base_uri": "https://localhost:8080/",
          "height": 204
        }
      },
      "source": [
        " # A coluna \"date\" do DataFrame não será necessária, pois já existem as colunas \n",
        " # \"year\" e \"month\" que fornecem informações em relação a períodos. \n",
        " # Logo, a coluna \"date\" será excluída. \n",
        "dataset.drop('date', axis=1, inplace=True)\n",
        "dataset.head()"
      ],
      "execution_count": 13,
      "outputs": [
        {
          "output_type": "execute_result",
          "data": {
            "text/html": [
              "<div>\n",
              "<style scoped>\n",
              "    .dataframe tbody tr th:only-of-type {\n",
              "        vertical-align: middle;\n",
              "    }\n",
              "\n",
              "    .dataframe tbody tr th {\n",
              "        vertical-align: top;\n",
              "    }\n",
              "\n",
              "    .dataframe thead th {\n",
              "        text-align: right;\n",
              "    }\n",
              "</style>\n",
              "<table border=\"1\" class=\"dataframe\">\n",
              "  <thead>\n",
              "    <tr style=\"text-align: right;\">\n",
              "      <th></th>\n",
              "      <th>year</th>\n",
              "      <th>state</th>\n",
              "      <th>month</th>\n",
              "      <th>number</th>\n",
              "    </tr>\n",
              "  </thead>\n",
              "  <tbody>\n",
              "    <tr>\n",
              "      <th>0</th>\n",
              "      <td>1998</td>\n",
              "      <td>Acre</td>\n",
              "      <td>Janeiro</td>\n",
              "      <td>0.0</td>\n",
              "    </tr>\n",
              "    <tr>\n",
              "      <th>1</th>\n",
              "      <td>1999</td>\n",
              "      <td>Acre</td>\n",
              "      <td>Janeiro</td>\n",
              "      <td>0.0</td>\n",
              "    </tr>\n",
              "    <tr>\n",
              "      <th>2</th>\n",
              "      <td>2000</td>\n",
              "      <td>Acre</td>\n",
              "      <td>Janeiro</td>\n",
              "      <td>0.0</td>\n",
              "    </tr>\n",
              "    <tr>\n",
              "      <th>3</th>\n",
              "      <td>2001</td>\n",
              "      <td>Acre</td>\n",
              "      <td>Janeiro</td>\n",
              "      <td>0.0</td>\n",
              "    </tr>\n",
              "    <tr>\n",
              "      <th>4</th>\n",
              "      <td>2002</td>\n",
              "      <td>Acre</td>\n",
              "      <td>Janeiro</td>\n",
              "      <td>0.0</td>\n",
              "    </tr>\n",
              "  </tbody>\n",
              "</table>\n",
              "</div>"
            ],
            "text/plain": [
              "   year state    month  number\n",
              "0  1998  Acre  Janeiro     0.0\n",
              "1  1999  Acre  Janeiro     0.0\n",
              "2  2000  Acre  Janeiro     0.0\n",
              "3  2001  Acre  Janeiro     0.0\n",
              "4  2002  Acre  Janeiro     0.0"
            ]
          },
          "metadata": {
            "tags": []
          },
          "execution_count": 13
        }
      ]
    },
    {
      "cell_type": "code",
      "metadata": {
        "id": "4BIF2lvkxcWU",
        "colab_type": "code",
        "outputId": "18de9190-e667-47f2-e57b-7464beeadb3a",
        "colab": {
          "base_uri": "https://localhost:8080/",
          "height": 102
        }
      },
      "source": [
        "# Verificando se há registros nulos no DataFrame para serem tratados \n",
        "dataset.isna().sum()"
      ],
      "execution_count": 14,
      "outputs": [
        {
          "output_type": "execute_result",
          "data": {
            "text/plain": [
              "year      0\n",
              "state     0\n",
              "month     0\n",
              "number    0\n",
              "dtype: int64"
            ]
          },
          "metadata": {
            "tags": []
          },
          "execution_count": 14
        }
      ]
    },
    {
      "cell_type": "markdown",
      "metadata": {
        "id": "IR_7z34CzhZr",
        "colab_type": "text"
      },
      "source": [
        "Como verificado acima, neste DataFrame não existem dados nulos. Agora, vamos verificar se existem dados duplicados:"
      ]
    },
    {
      "cell_type": "code",
      "metadata": {
        "id": "RkbtOsVKzyS3",
        "colab_type": "code",
        "outputId": "dec12ac3-f5a2-4b8f-bf97-1a1f4a9a378d",
        "colab": {
          "base_uri": "https://localhost:8080/",
          "height": 1000
        }
      },
      "source": [
        "dataset[dataset.duplicated(keep=False)]"
      ],
      "execution_count": 15,
      "outputs": [
        {
          "output_type": "execute_result",
          "data": {
            "text/html": [
              "<div>\n",
              "<style scoped>\n",
              "    .dataframe tbody tr th:only-of-type {\n",
              "        vertical-align: middle;\n",
              "    }\n",
              "\n",
              "    .dataframe tbody tr th {\n",
              "        vertical-align: top;\n",
              "    }\n",
              "\n",
              "    .dataframe thead th {\n",
              "        text-align: right;\n",
              "    }\n",
              "</style>\n",
              "<table border=\"1\" class=\"dataframe\">\n",
              "  <thead>\n",
              "    <tr style=\"text-align: right;\">\n",
              "      <th></th>\n",
              "      <th>year</th>\n",
              "      <th>state</th>\n",
              "      <th>month</th>\n",
              "      <th>number</th>\n",
              "    </tr>\n",
              "  </thead>\n",
              "  <tbody>\n",
              "    <tr>\n",
              "      <th>258</th>\n",
              "      <td>2017</td>\n",
              "      <td>Alagoas</td>\n",
              "      <td>Janeiro</td>\n",
              "      <td>38.0</td>\n",
              "    </tr>\n",
              "    <tr>\n",
              "      <th>259</th>\n",
              "      <td>2017</td>\n",
              "      <td>Alagoas</td>\n",
              "      <td>Janeiro</td>\n",
              "      <td>38.0</td>\n",
              "    </tr>\n",
              "    <tr>\n",
              "      <th>2391</th>\n",
              "      <td>1998</td>\n",
              "      <td>Mato Grosso</td>\n",
              "      <td>Janeiro</td>\n",
              "      <td>0.0</td>\n",
              "    </tr>\n",
              "    <tr>\n",
              "      <th>2411</th>\n",
              "      <td>1998</td>\n",
              "      <td>Mato Grosso</td>\n",
              "      <td>Fevereiro</td>\n",
              "      <td>0.0</td>\n",
              "    </tr>\n",
              "    <tr>\n",
              "      <th>2431</th>\n",
              "      <td>1998</td>\n",
              "      <td>Mato Grosso</td>\n",
              "      <td>Março</td>\n",
              "      <td>0.0</td>\n",
              "    </tr>\n",
              "    <tr>\n",
              "      <th>2451</th>\n",
              "      <td>1998</td>\n",
              "      <td>Mato Grosso</td>\n",
              "      <td>Abril</td>\n",
              "      <td>0.0</td>\n",
              "    </tr>\n",
              "    <tr>\n",
              "      <th>2471</th>\n",
              "      <td>1998</td>\n",
              "      <td>Mato Grosso</td>\n",
              "      <td>Maio</td>\n",
              "      <td>0.0</td>\n",
              "    </tr>\n",
              "    <tr>\n",
              "      <th>2630</th>\n",
              "      <td>1998</td>\n",
              "      <td>Mato Grosso</td>\n",
              "      <td>Janeiro</td>\n",
              "      <td>0.0</td>\n",
              "    </tr>\n",
              "    <tr>\n",
              "      <th>2650</th>\n",
              "      <td>1998</td>\n",
              "      <td>Mato Grosso</td>\n",
              "      <td>Fevereiro</td>\n",
              "      <td>0.0</td>\n",
              "    </tr>\n",
              "    <tr>\n",
              "      <th>2670</th>\n",
              "      <td>1998</td>\n",
              "      <td>Mato Grosso</td>\n",
              "      <td>Março</td>\n",
              "      <td>0.0</td>\n",
              "    </tr>\n",
              "    <tr>\n",
              "      <th>2690</th>\n",
              "      <td>1998</td>\n",
              "      <td>Mato Grosso</td>\n",
              "      <td>Abril</td>\n",
              "      <td>0.0</td>\n",
              "    </tr>\n",
              "    <tr>\n",
              "      <th>2710</th>\n",
              "      <td>1998</td>\n",
              "      <td>Mato Grosso</td>\n",
              "      <td>Maio</td>\n",
              "      <td>0.0</td>\n",
              "    </tr>\n",
              "    <tr>\n",
              "      <th>3347</th>\n",
              "      <td>1998</td>\n",
              "      <td>Paraiba</td>\n",
              "      <td>Janeiro</td>\n",
              "      <td>0.0</td>\n",
              "    </tr>\n",
              "    <tr>\n",
              "      <th>3367</th>\n",
              "      <td>1998</td>\n",
              "      <td>Paraiba</td>\n",
              "      <td>Fevereiro</td>\n",
              "      <td>0.0</td>\n",
              "    </tr>\n",
              "    <tr>\n",
              "      <th>3382</th>\n",
              "      <td>2013</td>\n",
              "      <td>Paraiba</td>\n",
              "      <td>Fevereiro</td>\n",
              "      <td>9.0</td>\n",
              "    </tr>\n",
              "    <tr>\n",
              "      <th>3387</th>\n",
              "      <td>1998</td>\n",
              "      <td>Paraiba</td>\n",
              "      <td>Março</td>\n",
              "      <td>0.0</td>\n",
              "    </tr>\n",
              "    <tr>\n",
              "      <th>3407</th>\n",
              "      <td>1998</td>\n",
              "      <td>Paraiba</td>\n",
              "      <td>Abril</td>\n",
              "      <td>0.0</td>\n",
              "    </tr>\n",
              "    <tr>\n",
              "      <th>3427</th>\n",
              "      <td>1998</td>\n",
              "      <td>Paraiba</td>\n",
              "      <td>Maio</td>\n",
              "      <td>0.0</td>\n",
              "    </tr>\n",
              "    <tr>\n",
              "      <th>3586</th>\n",
              "      <td>1998</td>\n",
              "      <td>Paraiba</td>\n",
              "      <td>Janeiro</td>\n",
              "      <td>0.0</td>\n",
              "    </tr>\n",
              "    <tr>\n",
              "      <th>3606</th>\n",
              "      <td>1998</td>\n",
              "      <td>Paraiba</td>\n",
              "      <td>Fevereiro</td>\n",
              "      <td>0.0</td>\n",
              "    </tr>\n",
              "    <tr>\n",
              "      <th>3621</th>\n",
              "      <td>2013</td>\n",
              "      <td>Paraiba</td>\n",
              "      <td>Fevereiro</td>\n",
              "      <td>9.0</td>\n",
              "    </tr>\n",
              "    <tr>\n",
              "      <th>3626</th>\n",
              "      <td>1998</td>\n",
              "      <td>Paraiba</td>\n",
              "      <td>Março</td>\n",
              "      <td>0.0</td>\n",
              "    </tr>\n",
              "    <tr>\n",
              "      <th>3646</th>\n",
              "      <td>1998</td>\n",
              "      <td>Paraiba</td>\n",
              "      <td>Abril</td>\n",
              "      <td>0.0</td>\n",
              "    </tr>\n",
              "    <tr>\n",
              "      <th>3666</th>\n",
              "      <td>1998</td>\n",
              "      <td>Paraiba</td>\n",
              "      <td>Maio</td>\n",
              "      <td>0.0</td>\n",
              "    </tr>\n",
              "    <tr>\n",
              "      <th>4303</th>\n",
              "      <td>1998</td>\n",
              "      <td>Rio</td>\n",
              "      <td>Janeiro</td>\n",
              "      <td>0.0</td>\n",
              "    </tr>\n",
              "    <tr>\n",
              "      <th>4323</th>\n",
              "      <td>1998</td>\n",
              "      <td>Rio</td>\n",
              "      <td>Fevereiro</td>\n",
              "      <td>0.0</td>\n",
              "    </tr>\n",
              "    <tr>\n",
              "      <th>4343</th>\n",
              "      <td>1998</td>\n",
              "      <td>Rio</td>\n",
              "      <td>Março</td>\n",
              "      <td>0.0</td>\n",
              "    </tr>\n",
              "    <tr>\n",
              "      <th>4346</th>\n",
              "      <td>2001</td>\n",
              "      <td>Rio</td>\n",
              "      <td>Março</td>\n",
              "      <td>0.0</td>\n",
              "    </tr>\n",
              "    <tr>\n",
              "      <th>4351</th>\n",
              "      <td>2006</td>\n",
              "      <td>Rio</td>\n",
              "      <td>Março</td>\n",
              "      <td>8.0</td>\n",
              "    </tr>\n",
              "    <tr>\n",
              "      <th>4363</th>\n",
              "      <td>1998</td>\n",
              "      <td>Rio</td>\n",
              "      <td>Abril</td>\n",
              "      <td>0.0</td>\n",
              "    </tr>\n",
              "    <tr>\n",
              "      <th>4369</th>\n",
              "      <td>2004</td>\n",
              "      <td>Rio</td>\n",
              "      <td>Abril</td>\n",
              "      <td>3.0</td>\n",
              "    </tr>\n",
              "    <tr>\n",
              "      <th>4374</th>\n",
              "      <td>2009</td>\n",
              "      <td>Rio</td>\n",
              "      <td>Abril</td>\n",
              "      <td>1.0</td>\n",
              "    </tr>\n",
              "    <tr>\n",
              "      <th>4383</th>\n",
              "      <td>1998</td>\n",
              "      <td>Rio</td>\n",
              "      <td>Maio</td>\n",
              "      <td>0.0</td>\n",
              "    </tr>\n",
              "    <tr>\n",
              "      <th>4386</th>\n",
              "      <td>2001</td>\n",
              "      <td>Rio</td>\n",
              "      <td>Maio</td>\n",
              "      <td>4.0</td>\n",
              "    </tr>\n",
              "    <tr>\n",
              "      <th>4392</th>\n",
              "      <td>2007</td>\n",
              "      <td>Rio</td>\n",
              "      <td>Maio</td>\n",
              "      <td>2.0</td>\n",
              "    </tr>\n",
              "    <tr>\n",
              "      <th>4393</th>\n",
              "      <td>2008</td>\n",
              "      <td>Rio</td>\n",
              "      <td>Maio</td>\n",
              "      <td>0.0</td>\n",
              "    </tr>\n",
              "    <tr>\n",
              "      <th>4406</th>\n",
              "      <td>2001</td>\n",
              "      <td>Rio</td>\n",
              "      <td>Junho</td>\n",
              "      <td>13.0</td>\n",
              "    </tr>\n",
              "    <tr>\n",
              "      <th>4542</th>\n",
              "      <td>1998</td>\n",
              "      <td>Rio</td>\n",
              "      <td>Janeiro</td>\n",
              "      <td>0.0</td>\n",
              "    </tr>\n",
              "    <tr>\n",
              "      <th>4561</th>\n",
              "      <td>2017</td>\n",
              "      <td>Rio</td>\n",
              "      <td>Janeiro</td>\n",
              "      <td>28.0</td>\n",
              "    </tr>\n",
              "    <tr>\n",
              "      <th>4562</th>\n",
              "      <td>1998</td>\n",
              "      <td>Rio</td>\n",
              "      <td>Fevereiro</td>\n",
              "      <td>0.0</td>\n",
              "    </tr>\n",
              "    <tr>\n",
              "      <th>4582</th>\n",
              "      <td>1998</td>\n",
              "      <td>Rio</td>\n",
              "      <td>Março</td>\n",
              "      <td>0.0</td>\n",
              "    </tr>\n",
              "    <tr>\n",
              "      <th>4585</th>\n",
              "      <td>2001</td>\n",
              "      <td>Rio</td>\n",
              "      <td>Março</td>\n",
              "      <td>0.0</td>\n",
              "    </tr>\n",
              "    <tr>\n",
              "      <th>4590</th>\n",
              "      <td>2006</td>\n",
              "      <td>Rio</td>\n",
              "      <td>Março</td>\n",
              "      <td>8.0</td>\n",
              "    </tr>\n",
              "    <tr>\n",
              "      <th>4602</th>\n",
              "      <td>1998</td>\n",
              "      <td>Rio</td>\n",
              "      <td>Abril</td>\n",
              "      <td>0.0</td>\n",
              "    </tr>\n",
              "    <tr>\n",
              "      <th>4608</th>\n",
              "      <td>2004</td>\n",
              "      <td>Rio</td>\n",
              "      <td>Abril</td>\n",
              "      <td>3.0</td>\n",
              "    </tr>\n",
              "    <tr>\n",
              "      <th>4613</th>\n",
              "      <td>2009</td>\n",
              "      <td>Rio</td>\n",
              "      <td>Abril</td>\n",
              "      <td>1.0</td>\n",
              "    </tr>\n",
              "    <tr>\n",
              "      <th>4622</th>\n",
              "      <td>1998</td>\n",
              "      <td>Rio</td>\n",
              "      <td>Maio</td>\n",
              "      <td>0.0</td>\n",
              "    </tr>\n",
              "    <tr>\n",
              "      <th>4631</th>\n",
              "      <td>2007</td>\n",
              "      <td>Rio</td>\n",
              "      <td>Maio</td>\n",
              "      <td>2.0</td>\n",
              "    </tr>\n",
              "    <tr>\n",
              "      <th>4632</th>\n",
              "      <td>2008</td>\n",
              "      <td>Rio</td>\n",
              "      <td>Maio</td>\n",
              "      <td>0.0</td>\n",
              "    </tr>\n",
              "    <tr>\n",
              "      <th>4645</th>\n",
              "      <td>2001</td>\n",
              "      <td>Rio</td>\n",
              "      <td>Junho</td>\n",
              "      <td>13.0</td>\n",
              "    </tr>\n",
              "    <tr>\n",
              "      <th>4671</th>\n",
              "      <td>2007</td>\n",
              "      <td>Rio</td>\n",
              "      <td>Julho</td>\n",
              "      <td>7.0</td>\n",
              "    </tr>\n",
              "    <tr>\n",
              "      <th>4781</th>\n",
              "      <td>1998</td>\n",
              "      <td>Rio</td>\n",
              "      <td>Janeiro</td>\n",
              "      <td>0.0</td>\n",
              "    </tr>\n",
              "    <tr>\n",
              "      <th>4800</th>\n",
              "      <td>2017</td>\n",
              "      <td>Rio</td>\n",
              "      <td>Janeiro</td>\n",
              "      <td>28.0</td>\n",
              "    </tr>\n",
              "    <tr>\n",
              "      <th>4801</th>\n",
              "      <td>1998</td>\n",
              "      <td>Rio</td>\n",
              "      <td>Fevereiro</td>\n",
              "      <td>0.0</td>\n",
              "    </tr>\n",
              "    <tr>\n",
              "      <th>4821</th>\n",
              "      <td>1998</td>\n",
              "      <td>Rio</td>\n",
              "      <td>Março</td>\n",
              "      <td>0.0</td>\n",
              "    </tr>\n",
              "    <tr>\n",
              "      <th>4841</th>\n",
              "      <td>1998</td>\n",
              "      <td>Rio</td>\n",
              "      <td>Abril</td>\n",
              "      <td>0.0</td>\n",
              "    </tr>\n",
              "    <tr>\n",
              "      <th>4861</th>\n",
              "      <td>1998</td>\n",
              "      <td>Rio</td>\n",
              "      <td>Maio</td>\n",
              "      <td>0.0</td>\n",
              "    </tr>\n",
              "    <tr>\n",
              "      <th>4864</th>\n",
              "      <td>2001</td>\n",
              "      <td>Rio</td>\n",
              "      <td>Maio</td>\n",
              "      <td>4.0</td>\n",
              "    </tr>\n",
              "    <tr>\n",
              "      <th>4910</th>\n",
              "      <td>2007</td>\n",
              "      <td>Rio</td>\n",
              "      <td>Julho</td>\n",
              "      <td>7.0</td>\n",
              "    </tr>\n",
              "  </tbody>\n",
              "</table>\n",
              "</div>"
            ],
            "text/plain": [
              "      year        state      month  number\n",
              "258   2017      Alagoas    Janeiro    38.0\n",
              "259   2017      Alagoas    Janeiro    38.0\n",
              "2391  1998  Mato Grosso    Janeiro     0.0\n",
              "2411  1998  Mato Grosso  Fevereiro     0.0\n",
              "2431  1998  Mato Grosso      Março     0.0\n",
              "2451  1998  Mato Grosso      Abril     0.0\n",
              "2471  1998  Mato Grosso       Maio     0.0\n",
              "2630  1998  Mato Grosso    Janeiro     0.0\n",
              "2650  1998  Mato Grosso  Fevereiro     0.0\n",
              "2670  1998  Mato Grosso      Março     0.0\n",
              "2690  1998  Mato Grosso      Abril     0.0\n",
              "2710  1998  Mato Grosso       Maio     0.0\n",
              "3347  1998      Paraiba    Janeiro     0.0\n",
              "3367  1998      Paraiba  Fevereiro     0.0\n",
              "3382  2013      Paraiba  Fevereiro     9.0\n",
              "3387  1998      Paraiba      Março     0.0\n",
              "3407  1998      Paraiba      Abril     0.0\n",
              "3427  1998      Paraiba       Maio     0.0\n",
              "3586  1998      Paraiba    Janeiro     0.0\n",
              "3606  1998      Paraiba  Fevereiro     0.0\n",
              "3621  2013      Paraiba  Fevereiro     9.0\n",
              "3626  1998      Paraiba      Março     0.0\n",
              "3646  1998      Paraiba      Abril     0.0\n",
              "3666  1998      Paraiba       Maio     0.0\n",
              "4303  1998          Rio    Janeiro     0.0\n",
              "4323  1998          Rio  Fevereiro     0.0\n",
              "4343  1998          Rio      Março     0.0\n",
              "4346  2001          Rio      Março     0.0\n",
              "4351  2006          Rio      Março     8.0\n",
              "4363  1998          Rio      Abril     0.0\n",
              "4369  2004          Rio      Abril     3.0\n",
              "4374  2009          Rio      Abril     1.0\n",
              "4383  1998          Rio       Maio     0.0\n",
              "4386  2001          Rio       Maio     4.0\n",
              "4392  2007          Rio       Maio     2.0\n",
              "4393  2008          Rio       Maio     0.0\n",
              "4406  2001          Rio      Junho    13.0\n",
              "4542  1998          Rio    Janeiro     0.0\n",
              "4561  2017          Rio    Janeiro    28.0\n",
              "4562  1998          Rio  Fevereiro     0.0\n",
              "4582  1998          Rio      Março     0.0\n",
              "4585  2001          Rio      Março     0.0\n",
              "4590  2006          Rio      Março     8.0\n",
              "4602  1998          Rio      Abril     0.0\n",
              "4608  2004          Rio      Abril     3.0\n",
              "4613  2009          Rio      Abril     1.0\n",
              "4622  1998          Rio       Maio     0.0\n",
              "4631  2007          Rio       Maio     2.0\n",
              "4632  2008          Rio       Maio     0.0\n",
              "4645  2001          Rio      Junho    13.0\n",
              "4671  2007          Rio      Julho     7.0\n",
              "4781  1998          Rio    Janeiro     0.0\n",
              "4800  2017          Rio    Janeiro    28.0\n",
              "4801  1998          Rio  Fevereiro     0.0\n",
              "4821  1998          Rio      Março     0.0\n",
              "4841  1998          Rio      Abril     0.0\n",
              "4861  1998          Rio       Maio     0.0\n",
              "4864  2001          Rio       Maio     4.0\n",
              "4910  2007          Rio      Julho     7.0"
            ]
          },
          "metadata": {
            "tags": []
          },
          "execution_count": 15
        }
      ]
    },
    {
      "cell_type": "markdown",
      "metadata": {
        "id": "b6XHHFee1mr-",
        "colab_type": "text"
      },
      "source": [
        "Como verificado acima, existem 32 dados duplicados no DataFrame. Excluíndo os registros duplicados e realizando nova verificação, observamos abaixo que pelo índice agora temos 6422 entradas após exclusão dos dados duplicados."
      ]
    },
    {
      "cell_type": "code",
      "metadata": {
        "id": "XVSGzOY_19_8",
        "colab_type": "code",
        "outputId": "b26939cf-5382-4221-c820-e9f6bc89c94a",
        "colab": {
          "base_uri": "https://localhost:8080/",
          "height": 170
        }
      },
      "source": [
        "# Exluíndo dados duplicados\n",
        "dataset.drop_duplicates(inplace=True)\n",
        "dataset.info()"
      ],
      "execution_count": 16,
      "outputs": [
        {
          "output_type": "stream",
          "text": [
            "<class 'pandas.core.frame.DataFrame'>\n",
            "Int64Index: 6422 entries, 0 to 6453\n",
            "Data columns (total 4 columns):\n",
            "year      6422 non-null int64\n",
            "state     6422 non-null category\n",
            "month     6422 non-null category\n",
            "number    6422 non-null float64\n",
            "dtypes: category(2), float64(1), int64(1)\n",
            "memory usage: 164.3 KB\n"
          ],
          "name": "stdout"
        }
      ]
    },
    {
      "cell_type": "markdown",
      "metadata": {
        "id": "vgY7aXPhZzNU",
        "colab_type": "text"
      },
      "source": [
        "## Aplicando a Normalização"
      ]
    },
    {
      "cell_type": "markdown",
      "metadata": {
        "id": "udccaeGeatkd",
        "colab_type": "text"
      },
      "source": [
        "A coluna 'number' está assim distribuída: "
      ]
    },
    {
      "cell_type": "code",
      "metadata": {
        "id": "J221iLNzYjY6",
        "colab_type": "code",
        "outputId": "f2060074-691a-4b0b-facb-e8642256504c",
        "colab": {
          "base_uri": "https://localhost:8080/",
          "height": 170
        }
      },
      "source": [
        "dataset['number'].describe()"
      ],
      "execution_count": 17,
      "outputs": [
        {
          "output_type": "execute_result",
          "data": {
            "text/plain": [
              "count    6422.000000\n",
              "mean      108.815178\n",
              "std       191.142482\n",
              "min         0.000000\n",
              "25%         3.000000\n",
              "50%        24.497000\n",
              "75%       114.000000\n",
              "max       998.000000\n",
              "Name: number, dtype: float64"
            ]
          },
          "metadata": {
            "tags": []
          },
          "execution_count": 17
        }
      ]
    },
    {
      "cell_type": "markdown",
      "metadata": {
        "id": "CYdoXWizzYuw",
        "colab_type": "text"
      },
      "source": [
        "#### Padronizando e imputando os dados normalizados"
      ]
    },
    {
      "cell_type": "markdown",
      "metadata": {
        "id": "QFc1t-BoazpD",
        "colab_type": "text"
      },
      "source": [
        "Abaixo temos a normalização aplicada por meio da técnica de padronização transformando os dados da coluna 'number' e imputando os dados padronizados para a uma nova coluna 'number_norm':"
      ]
    },
    {
      "cell_type": "code",
      "metadata": {
        "id": "w5_rpAcYjLUl",
        "colab_type": "code",
        "outputId": "d2fab751-983d-4379-a361-f88a2c2631b6",
        "colab": {
          "base_uri": "https://localhost:8080/",
          "height": 170
        }
      },
      "source": [
        "# Normalizando e imputando os dados\n",
        "from sklearn.preprocessing import StandardScaler, MinMaxScaler\n",
        "scaler = MinMaxScaler()\n",
        "dataset['number_norm'] = scaler.fit_transform(dataset[['number']])\n",
        "dataset['number_norm'].describe()"
      ],
      "execution_count": 18,
      "outputs": [
        {
          "output_type": "execute_result",
          "data": {
            "text/plain": [
              "count    6422.000000\n",
              "mean        0.109033\n",
              "std         0.191526\n",
              "min         0.000000\n",
              "25%         0.003006\n",
              "50%         0.024546\n",
              "75%         0.114228\n",
              "max         1.000000\n",
              "Name: number_norm, dtype: float64"
            ]
          },
          "metadata": {
            "tags": []
          },
          "execution_count": 18
        }
      ]
    },
    {
      "cell_type": "code",
      "metadata": {
        "id": "WZF-3IMmjj-m",
        "colab_type": "code",
        "outputId": "183a2968-fe44-4a98-c769-21028a40da04",
        "colab": {
          "base_uri": "https://localhost:8080/",
          "height": 170
        }
      },
      "source": [
        "# Desvio padrão padronizado para 1\n",
        "scaler = StandardScaler()\n",
        "dataset['number_norm'] = scaler.fit_transform(dataset[['number']])\n",
        "dataset['number_norm'].describe()"
      ],
      "execution_count": 19,
      "outputs": [
        {
          "output_type": "execute_result",
          "data": {
            "text/plain": [
              "count    6.422000e+03\n",
              "mean     3.031093e-16\n",
              "std      1.000078e+00\n",
              "min     -5.693326e-01\n",
              "25%     -5.536363e-01\n",
              "50%     -4.411617e-01\n",
              "75%      2.712754e-02\n",
              "max      4.652310e+00\n",
              "Name: number_norm, dtype: float64"
            ]
          },
          "metadata": {
            "tags": []
          },
          "execution_count": 19
        }
      ]
    },
    {
      "cell_type": "markdown",
      "metadata": {
        "id": "1PhI6MsUtq3g",
        "colab_type": "text"
      },
      "source": [
        "## Aplicando a Discretização"
      ]
    },
    {
      "cell_type": "markdown",
      "metadata": {
        "id": "0X5KFrLOdRwl",
        "colab_type": "text"
      },
      "source": [
        "Montando 8 intervalos da coluna 'number':"
      ]
    },
    {
      "cell_type": "code",
      "metadata": {
        "id": "W8AcueQqwUwY",
        "colab_type": "code",
        "outputId": "452e24a8-79ff-4e08-fa9c-a617009ec6be",
        "colab": {
          "base_uri": "https://localhost:8080/",
          "height": 170
        }
      },
      "source": [
        "#Intervalos\n",
        "dataset['number_range'] = pd.cut(dataset['number'],8)\n",
        "dataset['number_range'].value_counts()"
      ],
      "execution_count": 20,
      "outputs": [
        {
          "output_type": "execute_result",
          "data": {
            "text/plain": [
              "(-0.998, 124.75]    4908\n",
              "(124.75, 249.5]      627\n",
              "(249.5, 374.25]      287\n",
              "(374.25, 499.0]      198\n",
              "(499.0, 623.75]      129\n",
              "(623.75, 748.5]      107\n",
              "(748.5, 873.25]       85\n",
              "(873.25, 998.0]       81\n",
              "Name: number_range, dtype: int64"
            ]
          },
          "metadata": {
            "tags": []
          },
          "execution_count": 20
        }
      ]
    },
    {
      "cell_type": "code",
      "metadata": {
        "id": "HhRSrRhyaMiI",
        "colab_type": "code",
        "colab": {
          "base_uri": "https://localhost:8080/",
          "height": 408
        },
        "outputId": "45f3fe45-e71c-4b44-dc28-d126d21925e0"
      },
      "source": [
        "#Gráfico que mostra os 8 intervalos\n",
        "counts = dataset['number_range'].value_counts()\n",
        "counts.plot.bar(figsize=(10,5))"
      ],
      "execution_count": 21,
      "outputs": [
        {
          "output_type": "execute_result",
          "data": {
            "text/plain": [
              "<matplotlib.axes._subplots.AxesSubplot at 0x7f9164e40c88>"
            ]
          },
          "metadata": {
            "tags": []
          },
          "execution_count": 21
        },
        {
          "output_type": "display_data",
          "data": {
            "image/png": "[encoded data removed]",
            "text/plain": [
              "<Figure size 720x360 with 1 Axes>"
            ]
          },
          "metadata": {
            "tags": []
          }
        }
      ]
    },
    {
      "cell_type": "code",
      "metadata": {
        "id": "HwUQ5_5qcZso",
        "colab_type": "code",
        "colab": {
          "base_uri": "https://localhost:8080/",
          "height": 170
        },
        "outputId": "999a19bb-4d65-4567-bc8d-b1ee45e6681e"
      },
      "source": [
        "# Descrevendo a coluna 'number'\n",
        "dataset['number'].describe()"
      ],
      "execution_count": 22,
      "outputs": [
        {
          "output_type": "execute_result",
          "data": {
            "text/plain": [
              "count    6422.000000\n",
              "mean      108.815178\n",
              "std       191.142482\n",
              "min         0.000000\n",
              "25%         3.000000\n",
              "50%        24.497000\n",
              "75%       114.000000\n",
              "max       998.000000\n",
              "Name: number, dtype: float64"
            ]
          },
          "metadata": {
            "tags": []
          },
          "execution_count": 22
        }
      ]
    },
    {
      "cell_type": "code",
      "metadata": {
        "id": "9xAU10fLdHb4",
        "colab_type": "code",
        "colab": {
          "base_uri": "https://localhost:8080/",
          "height": 170
        },
        "outputId": "ecee4bc1-cac7-4b50-d863-1a6b3e4f65e1"
      },
      "source": [
        "# Realizando a Discretização da coluna 'number' \n",
        "dataset['number_range_disc'] = pd.qcut(dataset['number'],8)\n",
        "dataset['number_range_disc'].value_counts()"
      ],
      "execution_count": 23,
      "outputs": [
        {
          "output_type": "execute_result",
          "data": {
            "text/plain": [
              "(-0.001, 1.0]     831\n",
              "(3.0, 9.0]        807\n",
              "(24.497, 54.0]    805\n",
              "(1.0, 3.0]        805\n",
              "(54.0, 114.0]     804\n",
              "(278.0, 998.0]    801\n",
              "(114.0, 278.0]    801\n",
              "(9.0, 24.497]     768\n",
              "Name: number_range_disc, dtype: int64"
            ]
          },
          "metadata": {
            "tags": []
          },
          "execution_count": 23
        }
      ]
    },
    {
      "cell_type": "code",
      "metadata": {
        "id": "u80BLLBjflhK",
        "colab_type": "code",
        "colab": {
          "base_uri": "https://localhost:8080/",
          "height": 398
        },
        "outputId": "d21bb33f-2a7c-4b00-807a-aef347390e56"
      },
      "source": [
        "# Gráfico com os dados discretizados\n",
        "counts = dataset['number_range_disc'].value_counts()\n",
        "counts.plot.bar(figsize=(10,5))"
      ],
      "execution_count": 24,
      "outputs": [
        {
          "output_type": "execute_result",
          "data": {
            "text/plain": [
              "<matplotlib.axes._subplots.AxesSubplot at 0x7f91636eb9b0>"
            ]
          },
          "metadata": {
            "tags": []
          },
          "execution_count": 24
        },
        {
          "output_type": "display_data",
          "data": {
            "image/png": "[encoded data removed]",
            "text/plain": [
              "<Figure size 720x360 with 1 Axes>"
            ]
          },
          "metadata": {
            "tags": []
          }
        }
      ]
    },
    {
      "cell_type": "markdown",
      "metadata": {
        "id": "JY2VJYQ2gBMC",
        "colab_type": "text"
      },
      "source": [
        "## Correlação"
      ]
    },
    {
      "cell_type": "markdown",
      "metadata": {
        "id": "JBflAd3MasBZ",
        "colab_type": "text"
      },
      "source": [
        "Abaixo a correlação do DataFrame pelos coeficientes de Spearman e Pearson:"
      ]
    },
    {
      "cell_type": "code",
      "metadata": {
        "id": "Fka9hznBPUJI",
        "colab_type": "code",
        "outputId": "eac41036-9cac-4515-fe00-9e387e526a2a",
        "colab": {
          "base_uri": "https://localhost:8080/",
          "height": 142
        }
      },
      "source": [
        "# spearman \n",
        "dataset.corr(method='spearman')\n"
      ],
      "execution_count": 25,
      "outputs": [
        {
          "output_type": "execute_result",
          "data": {
            "text/html": [
              "<div>\n",
              "<style scoped>\n",
              "    .dataframe tbody tr th:only-of-type {\n",
              "        vertical-align: middle;\n",
              "    }\n",
              "\n",
              "    .dataframe tbody tr th {\n",
              "        vertical-align: top;\n",
              "    }\n",
              "\n",
              "    .dataframe thead th {\n",
              "        text-align: right;\n",
              "    }\n",
              "</style>\n",
              "<table border=\"1\" class=\"dataframe\">\n",
              "  <thead>\n",
              "    <tr style=\"text-align: right;\">\n",
              "      <th></th>\n",
              "      <th>year</th>\n",
              "      <th>number</th>\n",
              "      <th>number_norm</th>\n",
              "    </tr>\n",
              "  </thead>\n",
              "  <tbody>\n",
              "    <tr>\n",
              "      <th>year</th>\n",
              "      <td>1.000000</td>\n",
              "      <td>0.149714</td>\n",
              "      <td>0.149714</td>\n",
              "    </tr>\n",
              "    <tr>\n",
              "      <th>number</th>\n",
              "      <td>0.149714</td>\n",
              "      <td>1.000000</td>\n",
              "      <td>1.000000</td>\n",
              "    </tr>\n",
              "    <tr>\n",
              "      <th>number_norm</th>\n",
              "      <td>0.149714</td>\n",
              "      <td>1.000000</td>\n",
              "      <td>1.000000</td>\n",
              "    </tr>\n",
              "  </tbody>\n",
              "</table>\n",
              "</div>"
            ],
            "text/plain": [
              "                 year    number  number_norm\n",
              "year         1.000000  0.149714     0.149714\n",
              "number       0.149714  1.000000     1.000000\n",
              "number_norm  0.149714  1.000000     1.000000"
            ]
          },
          "metadata": {
            "tags": []
          },
          "execution_count": 25
        }
      ]
    },
    {
      "cell_type": "code",
      "metadata": {
        "id": "OeyzFxxgQoyH",
        "colab_type": "code",
        "outputId": "f7af8b47-f84d-49ee-a92e-a9ad20161564",
        "colab": {
          "base_uri": "https://localhost:8080/",
          "height": 142
        }
      },
      "source": [
        "# pearson\n",
        "dataset.corr(method='pearson')"
      ],
      "execution_count": 26,
      "outputs": [
        {
          "output_type": "execute_result",
          "data": {
            "text/html": [
              "<div>\n",
              "<style scoped>\n",
              "    .dataframe tbody tr th:only-of-type {\n",
              "        vertical-align: middle;\n",
              "    }\n",
              "\n",
              "    .dataframe tbody tr th {\n",
              "        vertical-align: top;\n",
              "    }\n",
              "\n",
              "    .dataframe thead th {\n",
              "        text-align: right;\n",
              "    }\n",
              "</style>\n",
              "<table border=\"1\" class=\"dataframe\">\n",
              "  <thead>\n",
              "    <tr style=\"text-align: right;\">\n",
              "      <th></th>\n",
              "      <th>year</th>\n",
              "      <th>number</th>\n",
              "      <th>number_norm</th>\n",
              "    </tr>\n",
              "  </thead>\n",
              "  <tbody>\n",
              "    <tr>\n",
              "      <th>year</th>\n",
              "      <td>1.0000</td>\n",
              "      <td>0.0626</td>\n",
              "      <td>0.0626</td>\n",
              "    </tr>\n",
              "    <tr>\n",
              "      <th>number</th>\n",
              "      <td>0.0626</td>\n",
              "      <td>1.0000</td>\n",
              "      <td>1.0000</td>\n",
              "    </tr>\n",
              "    <tr>\n",
              "      <th>number_norm</th>\n",
              "      <td>0.0626</td>\n",
              "      <td>1.0000</td>\n",
              "      <td>1.0000</td>\n",
              "    </tr>\n",
              "  </tbody>\n",
              "</table>\n",
              "</div>"
            ],
            "text/plain": [
              "               year  number  number_norm\n",
              "year         1.0000  0.0626       0.0626\n",
              "number       0.0626  1.0000       1.0000\n",
              "number_norm  0.0626  1.0000       1.0000"
            ]
          },
          "metadata": {
            "tags": []
          },
          "execution_count": 26
        }
      ]
    },
    {
      "cell_type": "markdown",
      "metadata": {
        "id": "sURLger09DyJ",
        "colab_type": "text"
      },
      "source": [
        "Abaixo mostramos um gráfico indicando a correlação com valor muito próximo de 1, ou seja, uma correlação positiva entre os atributos das colunas \"year\" (ano) e \"number\" (número de casos de incêndios): "
      ]
    },
    {
      "cell_type": "code",
      "metadata": {
        "id": "xB6mCjZk5lOt",
        "colab_type": "code",
        "outputId": "5d1bc399-5b14-4156-bd55-8e4566ea6a56",
        "colab": {
          "base_uri": "https://localhost:8080/",
          "height": 379
        }
      },
      "source": [
        "plt.figure(figsize = (6,6))\n",
        "sns.heatmap(dataset.corr(),annot = True,linewidths = 1.0,cmap='cubehelix_r');"
      ],
      "execution_count": 27,
      "outputs": [
        {
          "output_type": "display_data",
          "data": {
            "image/png": "[encoded data removed]",
            "text/plain": [
              "<Figure size 432x432 with 2 Axes>"
            ]
          },
          "metadata": {
            "tags": []
          }
        }
      ]
    },
    {
      "cell_type": "markdown",
      "metadata": {
        "id": "pm23Be4SgbY9",
        "colab_type": "text"
      },
      "source": [
        "## Estatísticas Univariadas e Bivariadas"
      ]
    },
    {
      "cell_type": "code",
      "metadata": {
        "id": "9ckgZApLtBXe",
        "colab_type": "code",
        "outputId": "d98e0f50-91fa-4493-ca91-178d5cc0694b",
        "colab": {
          "base_uri": "https://localhost:8080/",
          "height": 170
        }
      },
      "source": [
        "# Descrevendo a coluna \"number\", onde são atribuídos todos os casos de incêndios\n",
        "# registrados\n",
        "dataset['number'].describe()"
      ],
      "execution_count": 28,
      "outputs": [
        {
          "output_type": "execute_result",
          "data": {
            "text/plain": [
              "count    6422.000000\n",
              "mean      108.815178\n",
              "std       191.142482\n",
              "min         0.000000\n",
              "25%         3.000000\n",
              "50%        24.497000\n",
              "75%       114.000000\n",
              "max       998.000000\n",
              "Name: number, dtype: float64"
            ]
          },
          "metadata": {
            "tags": []
          },
          "execution_count": 28
        }
      ]
    },
    {
      "cell_type": "markdown",
      "metadata": {
        "id": "nkOHER1Qtz-m",
        "colab_type": "text"
      },
      "source": [
        "Observamos acima informações sobre os casos de incêndio. O mínimo (min) de zero, siginifica que não houve caso de incêndio. Outro dado que chama atenção é o número máximo de casos (max). Abaixo vamos observar onde e em que época ocorreu:"
      ]
    },
    {
      "cell_type": "code",
      "metadata": {
        "id": "aWwfPX7DvNSK",
        "colab_type": "code",
        "outputId": "6ef3a8c7-3c9b-4767-f948-889d424f70a6",
        "colab": {
          "base_uri": "https://localhost:8080/",
          "height": 102
        }
      },
      "source": [
        "print('Maior número de casos de incêndios registrados: ')\n",
        "print('Ano: ',dataset[dataset['number'] ==  dataset['number'].max()]['year'].iloc[0])\n",
        "print('Mês: ',dataset[dataset['number'] ==  dataset['number'].max()]['month'].iloc[0])\n",
        "print('Estado: ',dataset[dataset['number'] ==  dataset['number'].max()]['state'].iloc[0])\n",
        "print('Total de casos: ', dataset['number'].max())"
      ],
      "execution_count": 29,
      "outputs": [
        {
          "output_type": "stream",
          "text": [
            "Maior número de casos de incêndios registrados: \n",
            "Ano:  2008\n",
            "Mês:  Setembro\n",
            "Estado:  Amazonas\n",
            "Total de casos:  998.0\n"
          ],
          "name": "stdout"
        }
      ]
    },
    {
      "cell_type": "code",
      "metadata": {
        "id": "sVgl0L_QMIbN",
        "colab_type": "code",
        "outputId": "fe33c34c-0eb7-4be1-dc38-28807ee559ca",
        "colab": {
          "base_uri": "https://localhost:8080/",
          "height": 102
        }
      },
      "source": [
        "print('Onde não houve caso de incêndio registrado: ')\n",
        "print('Ano: ',dataset[dataset['number'] ==  dataset['number'].min()]['year'].iloc[0])\n",
        "print('Mês: ',dataset[dataset['number'] ==  dataset['number'].min()]['month'].iloc[0])\n",
        "print('Estado: ',dataset[dataset['number'] ==  dataset['number'].min()]['state'].iloc[0])\n",
        "print('Total de casos: ',dataset['number'].min())"
      ],
      "execution_count": 30,
      "outputs": [
        {
          "output_type": "stream",
          "text": [
            "Onde não houve caso de incêndio registrado: \n",
            "Ano:  1998\n",
            "Mês:  Janeiro\n",
            "Estado:  Acre\n",
            "Total de casos:  0.0\n"
          ],
          "name": "stdout"
        }
      ]
    },
    {
      "cell_type": "code",
      "metadata": {
        "id": "179IPm7oq4JH",
        "colab_type": "code",
        "outputId": "ec4e853b-a424-466d-81f9-1b3ab47a1fed",
        "colab": {
          "base_uri": "https://localhost:8080/",
          "height": 34
        }
      },
      "source": [
        "# Soma de todos os casos de incêndios registrados dentro do intervalo \n",
        "# de 1998 a 2017\n",
        "dataset.number.sum()"
      ],
      "execution_count": 31,
      "outputs": [
        {
          "output_type": "execute_result",
          "data": {
            "text/plain": [
              "698811.073"
            ]
          },
          "metadata": {
            "tags": []
          },
          "execution_count": 31
        }
      ]
    },
    {
      "cell_type": "code",
      "metadata": {
        "id": "nm3UY0OmT68Y",
        "colab_type": "code",
        "outputId": "08591fc6-2616-45c8-956f-3949cce74b7d",
        "colab": {
          "base_uri": "https://localhost:8080/",
          "height": 85
        }
      },
      "source": [
        "# Variância de todos os casos de incêndios registrados dentro do intervalo \n",
        "# de 1998 a 2017\n",
        "dataset.var()"
      ],
      "execution_count": 32,
      "outputs": [
        {
          "output_type": "execute_result",
          "data": {
            "text/plain": [
              "year              32.853602\n",
              "number         36535.448488\n",
              "number_norm        1.000156\n",
              "dtype: float64"
            ]
          },
          "metadata": {
            "tags": []
          },
          "execution_count": 32
        }
      ]
    },
    {
      "cell_type": "code",
      "metadata": {
        "id": "7e1jpA8JU2JA",
        "colab_type": "code",
        "outputId": "b95df66f-a984-4665-b561-090e9ef63df5",
        "colab": {
          "base_uri": "https://localhost:8080/",
          "height": 142
        }
      },
      "source": [
        "# Após verificar a variância acima, constatamos através da covariância abaixo \n",
        "# que os valores dos atributos das colunas \"year\", \"number\" e \"number_norm\" estão assossiados\n",
        "dataset.cov()"
      ],
      "execution_count": 33,
      "outputs": [
        {
          "output_type": "execute_result",
          "data": {
            "text/html": [
              "<div>\n",
              "<style scoped>\n",
              "    .dataframe tbody tr th:only-of-type {\n",
              "        vertical-align: middle;\n",
              "    }\n",
              "\n",
              "    .dataframe tbody tr th {\n",
              "        vertical-align: top;\n",
              "    }\n",
              "\n",
              "    .dataframe thead th {\n",
              "        text-align: right;\n",
              "    }\n",
              "</style>\n",
              "<table border=\"1\" class=\"dataframe\">\n",
              "  <thead>\n",
              "    <tr style=\"text-align: right;\">\n",
              "      <th></th>\n",
              "      <th>year</th>\n",
              "      <th>number</th>\n",
              "      <th>number_norm</th>\n",
              "    </tr>\n",
              "  </thead>\n",
              "  <tbody>\n",
              "    <tr>\n",
              "      <th>year</th>\n",
              "      <td>32.853602</td>\n",
              "      <td>68.583788</td>\n",
              "      <td>0.358838</td>\n",
              "    </tr>\n",
              "    <tr>\n",
              "      <th>number</th>\n",
              "      <td>68.583788</td>\n",
              "      <td>36535.448488</td>\n",
              "      <td>191.157366</td>\n",
              "    </tr>\n",
              "    <tr>\n",
              "      <th>number_norm</th>\n",
              "      <td>0.358838</td>\n",
              "      <td>191.157366</td>\n",
              "      <td>1.000156</td>\n",
              "    </tr>\n",
              "  </tbody>\n",
              "</table>\n",
              "</div>"
            ],
            "text/plain": [
              "                  year        number  number_norm\n",
              "year         32.853602     68.583788     0.358838\n",
              "number       68.583788  36535.448488   191.157366\n",
              "number_norm   0.358838    191.157366     1.000156"
            ]
          },
          "metadata": {
            "tags": []
          },
          "execution_count": 33
        }
      ]
    },
    {
      "cell_type": "code",
      "metadata": {
        "id": "HOX83BRe9Ca3",
        "colab_type": "code",
        "colab": {
          "base_uri": "https://localhost:8080/",
          "height": 442
        },
        "outputId": "b903de07-f2c4-481c-f685-1197fe25ca96"
      },
      "source": [
        "# Soma dos casos de incêndios por estado\n",
        "dataset.groupby('state')['number'].sum()"
      ],
      "execution_count": 34,
      "outputs": [
        {
          "output_type": "execute_result",
          "data": {
            "text/plain": [
              "state\n",
              "Acre                18464.030\n",
              "Alagoas              4606.000\n",
              "Amapa               21831.576\n",
              "Amazonas            30650.129\n",
              "Bahia               44746.226\n",
              "Ceara               30428.063\n",
              "Distrito Federal     3561.000\n",
              "Espirito Santo       6546.000\n",
              "Goias               37695.520\n",
              "Maranhao            25129.131\n",
              "Mato Grosso         96246.028\n",
              "Minas Gerais        37475.258\n",
              "Paraiba             52426.918\n",
              "Pará                24512.144\n",
              "Pernambuco          24498.000\n",
              "Piau                37803.747\n",
              "Rio                 45094.865\n",
              "Rondonia            20285.429\n",
              "Roraima             24385.074\n",
              "Santa Catarina      24359.852\n",
              "Sao Paulo           51121.198\n",
              "Sergipe              3237.000\n",
              "Tocantins           33707.885\n",
              "Name: number, dtype: float64"
            ]
          },
          "metadata": {
            "tags": []
          },
          "execution_count": 34
        }
      ]
    },
    {
      "cell_type": "code",
      "metadata": {
        "id": "gXFj0DJb9iml",
        "colab_type": "code",
        "colab": {
          "base_uri": "https://localhost:8080/",
          "height": 419
        },
        "outputId": "47de8829-0ca6-4a1b-a6b9-fffe9acc26e7"
      },
      "source": [
        "# Gráfico da soma dos casos de incêndios por estado de forma ordenada\n",
        "dataset.groupby('state')['number'].sum().nlargest(23).sort_values(ascending=False).plot.bar(figsize=(10,5))"
      ],
      "execution_count": 35,
      "outputs": [
        {
          "output_type": "execute_result",
          "data": {
            "text/plain": [
              "<matplotlib.axes._subplots.AxesSubplot at 0x7f9163151668>"
            ]
          },
          "metadata": {
            "tags": []
          },
          "execution_count": 35
        },
        {
          "output_type": "display_data",
          "data": {
            "image/png": "[encoded data removed]",
            "text/plain": [
              "<Figure size 720x360 with 1 Axes>"
            ]
          },
          "metadata": {
            "tags": []
          }
        }
      ]
    },
    {
      "cell_type": "code",
      "metadata": {
        "id": "ygTRn0LbKRaH",
        "colab_type": "code",
        "outputId": "1dc142f8-54c9-4a52-da4d-eedec4c830b7",
        "colab": {
          "base_uri": "https://localhost:8080/",
          "height": 442
        }
      },
      "source": [
        "# Média dos casos de incêndios por estado\n",
        "dataset.groupby('state')['number'].mean()"
      ],
      "execution_count": 36,
      "outputs": [
        {
          "output_type": "execute_result",
          "data": {
            "text/plain": [
              "state\n",
              "Acre                 77.255356\n",
              "Alagoas              19.271967\n",
              "Amapa                91.345506\n",
              "Amazonas            128.243218\n",
              "Bahia               187.222703\n",
              "Ceara               127.314071\n",
              "Distrito Federal     14.899582\n",
              "Espirito Santo       27.389121\n",
              "Goias               157.721841\n",
              "Maranhao            105.142808\n",
              "Mato Grosso         203.479975\n",
              "Minas Gerais        156.800243\n",
              "Paraiba             111.073979\n",
              "Pará                102.561272\n",
              "Pernambuco          102.502092\n",
              "Piau                158.174674\n",
              "Rio                  64.698515\n",
              "Rondonia             84.876272\n",
              "Roraima             102.029598\n",
              "Santa Catarina      101.924067\n",
              "Sao Paulo           213.896226\n",
              "Sergipe              13.543933\n",
              "Tocantins           141.037176\n",
              "Name: number, dtype: float64"
            ]
          },
          "metadata": {
            "tags": []
          },
          "execution_count": 36
        }
      ]
    },
    {
      "cell_type": "code",
      "metadata": {
        "id": "0rHb4IUPD3Cq",
        "colab_type": "code",
        "outputId": "75bda895-2a1f-4611-d5bf-dff9aa9a201f",
        "colab": {
          "base_uri": "https://localhost:8080/",
          "height": 418
        }
      },
      "source": [
        "# Gráfico da média dos casos de incêndios por estado de forma ordenada\n",
        "dataset.groupby('state')['number'].mean().nlargest(23).sort_values(ascending=False).plot.bar(figsize=(10,5))"
      ],
      "execution_count": 37,
      "outputs": [
        {
          "output_type": "execute_result",
          "data": {
            "text/plain": [
              "<matplotlib.axes._subplots.AxesSubplot at 0x7f91652a2748>"
            ]
          },
          "metadata": {
            "tags": []
          },
          "execution_count": 37
        },
        {
          "output_type": "display_data",
          "data": {
            "image/png": "[encoded data removed]",
            "text/plain": [
              "<Figure size 720x360 with 1 Axes>"
            ]
          },
          "metadata": {
            "tags": []
          }
        }
      ]
    },
    {
      "cell_type": "code",
      "metadata": {
        "id": "wlfg5URo-9Gd",
        "colab_type": "code",
        "outputId": "272f0848-cf73-4120-fe74-5aed37acea8c",
        "colab": {
          "base_uri": "https://localhost:8080/",
          "height": 442
        }
      },
      "source": [
        "# Mediana dos casos de incêndio por estado\n",
        "dataset.groupby('state')['number'].median()"
      ],
      "execution_count": 38,
      "outputs": [
        {
          "output_type": "execute_result",
          "data": {
            "text/plain": [
              "state\n",
              "Acre                  2.188\n",
              "Alagoas              10.000\n",
              "Amapa                 2.000\n",
              "Amazonas             23.000\n",
              "Bahia               140.000\n",
              "Ceara                16.000\n",
              "Distrito Federal      2.000\n",
              "Espirito Santo       13.000\n",
              "Goias                60.000\n",
              "Maranhao              8.409\n",
              "Mato Grosso         103.000\n",
              "Minas Gerais         81.000\n",
              "Paraiba              47.500\n",
              "Pará                 10.810\n",
              "Pernambuco           27.000\n",
              "Piau                 35.000\n",
              "Rio                  25.000\n",
              "Rondonia             11.000\n",
              "Roraima              35.000\n",
              "Santa Catarina       34.000\n",
              "Sao Paulo           104.000\n",
              "Sergipe               3.000\n",
              "Tocantins            29.000\n",
              "Name: number, dtype: float64"
            ]
          },
          "metadata": {
            "tags": []
          },
          "execution_count": 38
        }
      ]
    },
    {
      "cell_type": "code",
      "metadata": {
        "id": "uoslnFpLEgY_",
        "colab_type": "code",
        "outputId": "59fb260f-7330-46d7-df4a-3bb276154551",
        "colab": {
          "base_uri": "https://localhost:8080/",
          "height": 418
        }
      },
      "source": [
        "# Gráfico da mediana dos casos de incêndios por estado de forma ordenada\n",
        "dataset.groupby('state')['number'].median().nlargest(23).sort_values(ascending=False).plot.bar(figsize=(10,5))"
      ],
      "execution_count": 39,
      "outputs": [
        {
          "output_type": "execute_result",
          "data": {
            "text/plain": [
              "<matplotlib.axes._subplots.AxesSubplot at 0x7f915f477da0>"
            ]
          },
          "metadata": {
            "tags": []
          },
          "execution_count": 39
        },
        {
          "output_type": "display_data",
          "data": {
            "image/png": "[encoded data removed]",
            "text/plain": [
              "<Figure size 720x360 with 1 Axes>"
            ]
          },
          "metadata": {
            "tags": []
          }
        }
      ]
    },
    {
      "cell_type": "code",
      "metadata": {
        "id": "D05TUY-lE2qB",
        "colab_type": "code",
        "outputId": "86583ec2-bc3b-4305-d1de-73d34cc6ddf0",
        "colab": {
          "base_uri": "https://localhost:8080/",
          "height": 442
        }
      },
      "source": [
        "# Desvio Padrão dos casos de incêndio por estado\n",
        "dataset.groupby('state')['number'].std()"
      ],
      "execution_count": 40,
      "outputs": [
        {
          "output_type": "execute_result",
          "data": {
            "text/plain": [
              "state\n",
              "Acre                182.970983\n",
              "Alagoas              26.762205\n",
              "Amapa               191.572878\n",
              "Amazonas            224.738973\n",
              "Bahia               207.614768\n",
              "Ceara               223.462406\n",
              "Distrito Federal     29.682323\n",
              "Espirito Santo       39.681230\n",
              "Goias               221.249192\n",
              "Maranhao            203.952031\n",
              "Mato Grosso         250.945368\n",
              "Minas Gerais        213.712990\n",
              "Paraiba             177.265461\n",
              "Pará                207.695643\n",
              "Pernambuco          155.821781\n",
              "Piau                245.938544\n",
              "Rio                 115.302832\n",
              "Rondonia            173.596757\n",
              "Roraima             148.765839\n",
              "Santa Catarina      175.059028\n",
              "Sao Paulo           240.674027\n",
              "Sergipe              22.849461\n",
              "Tocantins           229.993182\n",
              "Name: number, dtype: float64"
            ]
          },
          "metadata": {
            "tags": []
          },
          "execution_count": 40
        }
      ]
    },
    {
      "cell_type": "code",
      "metadata": {
        "id": "JWtZT-WyGScn",
        "colab_type": "code",
        "outputId": "4e14d098-f9d8-4f87-e384-7833afedd63a",
        "colab": {
          "base_uri": "https://localhost:8080/",
          "height": 418
        }
      },
      "source": [
        "# Gráfico do desvio padrão dos casos de incêndios por estado de forma ordenada\n",
        "dataset.groupby('state')['number'].std().nlargest(23).sort_values(ascending=False).plot.bar(figsize=(10,5))"
      ],
      "execution_count": 41,
      "outputs": [
        {
          "output_type": "execute_result",
          "data": {
            "text/plain": [
              "<matplotlib.axes._subplots.AxesSubplot at 0x7f916318e9e8>"
            ]
          },
          "metadata": {
            "tags": []
          },
          "execution_count": 41
        },
        {
          "output_type": "display_data",
          "data": {
            "image/png": "[encoded data removed]",
            "text/plain": [
              "<Figure size 720x360 with 1 Axes>"
            ]
          },
          "metadata": {
            "tags": []
          }
        }
      ]
    },
    {
      "cell_type": "markdown",
      "metadata": {
        "id": "rw6i3Y4zh4xy",
        "colab_type": "text"
      },
      "source": [
        "## Estatísticas descritivas com visualização dos dados"
      ]
    },
    {
      "cell_type": "markdown",
      "metadata": {
        "id": "56DxNAyuyloa",
        "colab_type": "text"
      },
      "source": [
        "Nos gráficos acima observamos a soma, média, mediana, desvio padrão, variância e covariância. Verificamos que São Paulo registrou no intervalo de 1998 a 2017 a maior média de casos de incêndios no Brasil. Apesar do resultado dos cálculos estatísticos terem apresentado que São Paulo tem a maior média de registros de casos de incêndios (suspeita forte de outliers), o gráfico apresentado abaixo prova que Mato Grosso é o estado que possui um número maior de casos de incêndios em comparação com São Paulo devido a sua maior variabilidade dos dados, em consonância com os resultados dos cálculos já realizados e mostrados nas estatísticas univariadas e bivariadas."
      ]
    },
    {
      "cell_type": "code",
      "metadata": {
        "id": "Qtof5_uWwB3B",
        "colab_type": "code",
        "outputId": "5d52984f-ac3a-49fc-a417-88acaac5b062",
        "colab": {
          "base_uri": "https://localhost:8080/",
          "height": 387
        }
      },
      "source": [
        "# Junção dos valores dos atributos das colunas year, state e month\n",
        "juncao_valores = dataset.groupby(by = ['year','state', 'month']).sum().reset_index()\n",
        "plt.figure(figsize=(29,5))\n",
        "sns.boxplot(x = 'state', order = ['Acre', 'Alagoas', 'Amapa', 'Amazonas', 'Bahia', 'Ceara',\n",
        "       'Distrito Federal', 'Espirito Santo', 'Goias', 'Maranhao',\n",
        "       'Mato Grosso', 'Minas Gerais', 'Pará', 'Paraiba', 'Pernambuco',\n",
        "       'Piau', 'Rio', 'Rondonia', 'Roraima', 'Santa Catarina',\n",
        "       'Sao Paulo', 'Sergipe', 'Tocantins'], \n",
        "            y = 'number', data = juncao_valores)\n",
        "\n",
        "plt.title('Estados com mais registros de incêndios', fontsize = 12)\n",
        "plt.xlabel('Estados', fontsize = 10)\n",
        "plt.ylabel('Casos de incêncios', fontsize =10)"
      ],
      "execution_count": 42,
      "outputs": [
        {
          "output_type": "execute_result",
          "data": {
            "text/plain": [
              "Text(0, 0.5, 'Casos de incêncios')"
            ]
          },
          "metadata": {
            "tags": []
          },
          "execution_count": 42
        },
        {
          "output_type": "display_data",
          "data": {
            "image/png": "[encoded data removed]",
            "text/plain": [
              "<Figure size 2088x360 with 1 Axes>"
            ]
          },
          "metadata": {
            "tags": []
          }
        }
      ]
    },
    {
      "cell_type": "markdown",
      "metadata": {
        "id": "gQLrFv7t4gBU",
        "colab_type": "text"
      },
      "source": [
        "No gráfico abaixo, observamos também os casos de maiores registros de incêndios por estado, destacando em verde aqueles estados que fazem parte direta (denominados de \"Amazonia Legal\") da maior floresta do mundo, que é a Floresta Amazônica"
      ]
    },
    {
      "cell_type": "code",
      "metadata": {
        "id": "ClsDw9eFwGQx",
        "colab_type": "code",
        "outputId": "0650d393-99a3-462f-fab4-2601f6dfdc0d",
        "colab": {
          "base_uri": "https://localhost:8080/",
          "height": 488
        }
      },
      "source": [
        "estados_incendios = ['Amazonas', 'Pará', 'Roraima', 'Amapa', 'Rondonia', 'Acre', 'Tocantins', 'Mato Grosso', 'Maranhao']\n",
        "\n",
        "estados = dataset.groupby('state')['number'].sum().sort_values(ascending=False)\n",
        "\n",
        "ax = plt.gca()\n",
        "colors = ['C1' if i not in estados_incendios else 'g' for i in estados.index]\n",
        "estados.plot(kind='bar',ax=ax,color=colors, figsize=(12, 6))\n",
        "h,l = ax.get_legend_handles_labels()\n",
        "ax.set_title(\"Estados com mais registros de incêndios\")\n",
        "ax.set_ylabel('Casos de incêndios')\n",
        "ax.set_xlabel('Estados')\n",
        "ax.legend([\"Estados que fazem parte diretamente da Floresta Amazônica (Amazonia Legal)\", \"Outros estados\"], labelspacing=2)"
      ],
      "execution_count": 43,
      "outputs": [
        {
          "output_type": "execute_result",
          "data": {
            "text/plain": [
              "<matplotlib.legend.Legend at 0x7f915f125080>"
            ]
          },
          "metadata": {
            "tags": []
          },
          "execution_count": 43
        },
        {
          "output_type": "display_data",
          "data": {
            "image/png": "[encoded data removed]",
            "text/plain": [
              "<Figure size 864x432 with 1 Axes>"
            ]
          },
          "metadata": {
            "tags": []
          }
        }
      ]
    },
    {
      "cell_type": "markdown",
      "metadata": {
        "colab_type": "text",
        "id": "v9kWSbd1tMAB"
      },
      "source": [
        "O gráfico a seguir mostra quais são os piores meses de casos de incêndios registrados, de acordo com a soma dos números de incêndios maiores que a média, levando em consideração o desvio padrão:"
      ]
    },
    {
      "cell_type": "code",
      "metadata": {
        "id": "H9aFFJ5NROHR",
        "colab_type": "code",
        "outputId": "ff13de80-8b84-4ec2-d47f-38c4e53f1549",
        "colab": {
          "base_uri": "https://localhost:8080/",
          "height": 386
        }
      },
      "source": [
        "maior_numero_incendios_mes = dataset.groupby(['month'], as_index=False).sum() \n",
        "maior_numero_incendios_mes.drop('year',axis=1, inplace=True)\n",
        "\n",
        "meses_mais_incendios = maior_numero_incendios_mes[maior_numero_incendios_mes['number']>maior_numero_incendios_mes['number'].mean()+maior_numero_incendios_mes['number'].std()]\n",
        "print('Meses com mais registros de incêndios: ')\n",
        "\n",
        "sns.catplot(x='month', y='number', kind='bar',data=dataset[['month','number']], aspect=2, estimator=sum);"
      ],
      "execution_count": 44,
      "outputs": [
        {
          "output_type": "stream",
          "text": [
            "Meses com mais registros de incêndios: \n"
          ],
          "name": "stdout"
        },
        {
          "output_type": "display_data",
          "data": {
            "image/png": "[encoded data removed]",
            "text/plain": [
              "<Figure size 720x360 with 1 Axes>"
            ]
          },
          "metadata": {
            "tags": []
          }
        }
      ]
    },
    {
      "cell_type": "markdown",
      "metadata": {
        "id": "Pbt8sZv20Sis",
        "colab_type": "text"
      },
      "source": [
        "No gráfico a seguir, comparamos o total de casos de incêndios no país com os estados que fazem parte da Floresta Amazônica.\n",
        "Envidenciamos que nos meses de janeiro, fevereiro, março, abril, maio e junho, ou seja, na primeira metade do ano, a soma dos casos de incêndios na floresta amazônica é superior que a soma do restante do país. "
      ]
    },
    {
      "cell_type": "code",
      "metadata": {
        "colab_type": "code",
        "outputId": "5720e022-225c-4ede-e833-24dab5919239",
        "id": "fbTjNnPszlRS",
        "colab": {
          "base_uri": "https://localhost:8080/",
          "height": 517
        }
      },
      "source": [
        "casos_de_incendios_mes = dataset.groupby('month')['number'].sum()\n",
        "casos_de_incendios_amazonia = dataset[dataset.state.isin(estados_incendios)].groupby('month')['number'].sum()\n",
        "\n",
        "ax = plt.gca()\n",
        "casos_de_incendios_mes.plot(kind='bar',x='month',y='number', ax=ax, stacked=True, figsize=(13, 7))\n",
        "casos_de_incendios_amazonia.plot(kind='bar',x='month',y='number', ax=ax, stacked=True, color='g', figsize=(13, 7))\n",
        "ax.set_title(\"Comparação entre o total de casos de incêndios no país e o total de incêndios nos estados que compõem a Amazonia\")\n",
        "ax.set_ylabel('Casos de incêndios')\n",
        "ax.set_xlabel('Mês')\n",
        "ax.legend([\"Total de casos de incêndios no país\", \"Casos de incêndios apenas na Amazonia\"])"
      ],
      "execution_count": 45,
      "outputs": [
        {
          "output_type": "execute_result",
          "data": {
            "text/plain": [
              "<matplotlib.legend.Legend at 0x7f915ef30128>"
            ]
          },
          "metadata": {
            "tags": []
          },
          "execution_count": 45
        },
        {
          "output_type": "display_data",
          "data": {
            "image/png": "[encoded data removed]",
            "text/plain": [
              "<Figure size 936x504 with 1 Axes>"
            ]
          },
          "metadata": {
            "tags": []
          }
        }
      ]
    },
    {
      "cell_type": "markdown",
      "metadata": {
        "id": "4Km6MrP0LSZO",
        "colab_type": "text"
      },
      "source": [
        "Verificamos abaixo o total de casos de incêndios no país, onde pelo gráfico podemos observar os anos considerados mais críticos, ou seja, que houveram mais casos de incêndios no país.\n",
        "Constata-se que entre os anos de 2002/2003, 2011/2012 e 2015/2016 foram os mais críticos."
      ]
    },
    {
      "cell_type": "code",
      "metadata": {
        "id": "k4xhOsJgRCmu",
        "colab_type": "code",
        "outputId": "039f1658-ef53-4736-d743-c7ce4d5a2a4e",
        "colab": {
          "base_uri": "https://localhost:8080/",
          "height": 370
        }
      },
      "source": [
        "sns.set_style('whitegrid')\n",
        "\n",
        "from matplotlib.pyplot import MaxNLocator\n",
        "\n",
        "plt.figure(figsize=(14,5))\n",
        "\n",
        "ax = sns.lineplot(x = 'year', y = 'number', data = juncao_valores, estimator = 'sum', color = 'purple', lw = 2, \n",
        "                  err_style = None)\n",
        "\n",
        "plt.title('Total de casos de incêndios no país entre os anos de 1998 a 2017', fontsize = 13)\n",
        "plt.xlabel('Anos', fontsize = 10)\n",
        "plt.ylabel('Casos de incêndios', fontsize = 10)\n",
        "\n",
        "ax.xaxis.set_major_locator(plt.MaxNLocator(19))"
      ],
      "execution_count": 46,
      "outputs": [
        {
          "output_type": "display_data",
          "data": {
            "image/png": "[encoded data removed]",
            "text/plain": [
              "<Figure size 1008x360 with 1 Axes>"
            ]
          },
          "metadata": {
            "tags": []
          }
        }
      ]
    }
  ]
}