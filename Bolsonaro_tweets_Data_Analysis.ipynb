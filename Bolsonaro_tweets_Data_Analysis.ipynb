{
  "nbformat": 4,
  "nbformat_minor": 0,
  "metadata": {
    "colab": {
      "name": "Bolsonaro_tweets_Data_Analysis.ipynb",
      "provenance": [],
      "collapsed_sections": [],
      "include_colab_link": true
    },
    "kernelspec": {
      "name": "python3",
      "display_name": "Python 3"
    }
  },
  "cells": [
    {
      "cell_type": "markdown",
      "metadata": {
        "id": "view-in-github",
        "colab_type": "text"
      },
      "source": [
        "<a href=\"https://colab.research.google.com/github/niltontac/EspAnalise-EngDados/blob/master/Bolsonaro_tweets_Data_Analysis.ipynb\" target=\"_parent\"><img src=\"https://colab.research.google.com/assets/colab-badge.svg\" alt=\"Open In Colab\"/></a>"
      ]
    },
    {
      "cell_type": "markdown",
      "metadata": {
        "id": "EE-JHuqKp490"
      },
      "source": [
        "# Analisando tópicos nos tweets do Presidente Jair Bolsonaro de agosto/2017 a agosto/2018.\n",
        "\n",
        "```\n",
        "\n",
        "https://raw.githubusercontent.com/ufrpe-ensino/curso-mineracao-textos/master/data/bolsonaro.csv\n",
        "\n",
        "```"
      ]
    },
    {
      "cell_type": "markdown",
      "metadata": {
        "id": "lzrR2bjHRN-d"
      },
      "source": [
        "##Importando dados"
      ]
    },
    {
      "cell_type": "code",
      "metadata": {
        "id": "es4ysxzrnpez",
        "outputId": "dd9dc5f2-aef3-425f-ef19-ac9cfb97e159",
        "colab": {
          "base_uri": "https://localhost:8080/",
          "height": 202
        }
      },
      "source": [
        "import pandas as pd\n",
        "\n",
        "url = 'https://raw.githubusercontent.com/ufrpe-ensino/curso-mineracao-textos/master/data/bolsonaro.csv'\n",
        "df = pd.read_csv(url, encoding='utf-8')\n",
        "df.head()"
      ],
      "execution_count": null,
      "outputs": [
        {
          "output_type": "execute_result",
          "data": {
            "text/html": [
              "<div>\n",
              "<style scoped>\n",
              "    .dataframe tbody tr th:only-of-type {\n",
              "        vertical-align: middle;\n",
              "    }\n",
              "\n",
              "    .dataframe tbody tr th {\n",
              "        vertical-align: top;\n",
              "    }\n",
              "\n",
              "    .dataframe thead th {\n",
              "        text-align: right;\n",
              "    }\n",
              "</style>\n",
              "<table border=\"1\" class=\"dataframe\">\n",
              "  <thead>\n",
              "    <tr style=\"text-align: right;\">\n",
              "      <th></th>\n",
              "      <th>data</th>\n",
              "      <th>tweet</th>\n",
              "    </tr>\n",
              "  </thead>\n",
              "  <tbody>\n",
              "    <tr>\n",
              "      <th>0</th>\n",
              "      <td>2017-08-01</td>\n",
              "      <td>venezuela esta sendo destruida pelo socialismo...</td>\n",
              "    </tr>\n",
              "    <tr>\n",
              "      <th>1</th>\n",
              "      <td>2017-08-01</td>\n",
              "      <td>quem pariu poa voz do pt paulo henrique amorim...</td>\n",
              "    </tr>\n",
              "    <tr>\n",
              "      <th>2</th>\n",
              "      <td>2017-08-01</td>\n",
              "      <td>toddynho pro moleque</td>\n",
              "    </tr>\n",
              "    <tr>\n",
              "      <th>3</th>\n",
              "      <td>2017-08-01</td>\n",
              "      <td>a apagou mas temos o</td>\n",
              "    </tr>\n",
              "    <tr>\n",
              "      <th>4</th>\n",
              "      <td>2017-08-01</td>\n",
              "      <td>falamos de agronegocio e n de grafeno e no mai...</td>\n",
              "    </tr>\n",
              "  </tbody>\n",
              "</table>\n",
              "</div>"
            ],
            "text/plain": [
              "         data                                              tweet\n",
              "0  2017-08-01  venezuela esta sendo destruida pelo socialismo...\n",
              "1  2017-08-01  quem pariu poa voz do pt paulo henrique amorim...\n",
              "2  2017-08-01                               toddynho pro moleque\n",
              "3  2017-08-01                               a apagou mas temos o\n",
              "4  2017-08-01  falamos de agronegocio e n de grafeno e no mai..."
            ]
          },
          "metadata": {
            "tags": []
          },
          "execution_count": 1
        }
      ]
    },
    {
      "cell_type": "markdown",
      "metadata": {
        "id": "bspldkB8G4JC"
      },
      "source": [
        "##Consultando e limpando os dados"
      ]
    },
    {
      "cell_type": "code",
      "metadata": {
        "id": "qOL_nlx6Q6g3",
        "outputId": "06256f14-0c3e-47ea-d760-f3d876aae2c6",
        "colab": {
          "base_uri": "https://localhost:8080/",
          "height": 34
        }
      },
      "source": [
        "df.shape"
      ],
      "execution_count": null,
      "outputs": [
        {
          "output_type": "execute_result",
          "data": {
            "text/plain": [
              "(1741, 2)"
            ]
          },
          "metadata": {
            "tags": []
          },
          "execution_count": 2
        }
      ]
    },
    {
      "cell_type": "code",
      "metadata": {
        "id": "4T6gMlhrDR_F",
        "outputId": "f023dbae-f795-40ff-e8c2-b9a581d5fbd2",
        "colab": {
          "base_uri": "https://localhost:8080/",
          "height": 173
        }
      },
      "source": [
        "df.info()"
      ],
      "execution_count": null,
      "outputs": [
        {
          "output_type": "stream",
          "text": [
            "<class 'pandas.core.frame.DataFrame'>\n",
            "RangeIndex: 1741 entries, 0 to 1740\n",
            "Data columns (total 2 columns):\n",
            " #   Column  Non-Null Count  Dtype \n",
            "---  ------  --------------  ----- \n",
            " 0   data    1741 non-null   object\n",
            " 1   tweet   1734 non-null   object\n",
            "dtypes: object(2)\n",
            "memory usage: 27.3+ KB\n"
          ],
          "name": "stdout"
        }
      ]
    },
    {
      "cell_type": "code",
      "metadata": {
        "id": "BxnkSebbCds-",
        "outputId": "495c9baa-d4da-4dd8-8fab-b32f40d97eef",
        "colab": {
          "base_uri": "https://localhost:8080/",
          "height": 69
        }
      },
      "source": [
        "df.isna().sum()"
      ],
      "execution_count": null,
      "outputs": [
        {
          "output_type": "execute_result",
          "data": {
            "text/plain": [
              "data     0\n",
              "tweet    7\n",
              "dtype: int64"
            ]
          },
          "metadata": {
            "tags": []
          },
          "execution_count": 4
        }
      ]
    },
    {
      "cell_type": "code",
      "metadata": {
        "id": "7Eb3JvDXEriw"
      },
      "source": [
        "df = df.dropna()"
      ],
      "execution_count": null,
      "outputs": []
    },
    {
      "cell_type": "code",
      "metadata": {
        "id": "mRKdS6gHF51s",
        "outputId": "cefc57ee-1667-417f-9633-0e8cc94fe65a",
        "colab": {
          "base_uri": "https://localhost:8080/",
          "height": 69
        }
      },
      "source": [
        "df.isna().sum()"
      ],
      "execution_count": null,
      "outputs": [
        {
          "output_type": "execute_result",
          "data": {
            "text/plain": [
              "data     0\n",
              "tweet    0\n",
              "dtype: int64"
            ]
          },
          "metadata": {
            "tags": []
          },
          "execution_count": 6
        }
      ]
    },
    {
      "cell_type": "code",
      "metadata": {
        "id": "d4C7SyWIGWMU",
        "outputId": "5b1d441f-beb8-4de0-b4a4-f4d93016d3fa",
        "colab": {
          "base_uri": "https://localhost:8080/",
          "height": 416
        }
      },
      "source": [
        "df"
      ],
      "execution_count": null,
      "outputs": [
        {
          "output_type": "execute_result",
          "data": {
            "text/html": [
              "<div>\n",
              "<style scoped>\n",
              "    .dataframe tbody tr th:only-of-type {\n",
              "        vertical-align: middle;\n",
              "    }\n",
              "\n",
              "    .dataframe tbody tr th {\n",
              "        vertical-align: top;\n",
              "    }\n",
              "\n",
              "    .dataframe thead th {\n",
              "        text-align: right;\n",
              "    }\n",
              "</style>\n",
              "<table border=\"1\" class=\"dataframe\">\n",
              "  <thead>\n",
              "    <tr style=\"text-align: right;\">\n",
              "      <th></th>\n",
              "      <th>data</th>\n",
              "      <th>tweet</th>\n",
              "    </tr>\n",
              "  </thead>\n",
              "  <tbody>\n",
              "    <tr>\n",
              "      <th>0</th>\n",
              "      <td>2017-08-01</td>\n",
              "      <td>venezuela esta sendo destruida pelo socialismo...</td>\n",
              "    </tr>\n",
              "    <tr>\n",
              "      <th>1</th>\n",
              "      <td>2017-08-01</td>\n",
              "      <td>quem pariu poa voz do pt paulo henrique amorim...</td>\n",
              "    </tr>\n",
              "    <tr>\n",
              "      <th>2</th>\n",
              "      <td>2017-08-01</td>\n",
              "      <td>toddynho pro moleque</td>\n",
              "    </tr>\n",
              "    <tr>\n",
              "      <th>3</th>\n",
              "      <td>2017-08-01</td>\n",
              "      <td>a apagou mas temos o</td>\n",
              "    </tr>\n",
              "    <tr>\n",
              "      <th>4</th>\n",
              "      <td>2017-08-01</td>\n",
              "      <td>falamos de agronegocio e n de grafeno e no mai...</td>\n",
              "    </tr>\n",
              "    <tr>\n",
              "      <th>...</th>\n",
              "      <td>...</td>\n",
              "      <td>...</td>\n",
              "    </tr>\n",
              "    <tr>\n",
              "      <th>1736</th>\n",
              "      <td>2018-08-16</td>\n",
              "      <td>os rumos da educacao no brasil precisam mudar ...</td>\n",
              "    </tr>\n",
              "    <tr>\n",
              "      <th>1737</th>\n",
              "      <td>2018-08-16</td>\n",
              "      <td>o psdb mais que nunca se unindo ao a narrativa...</td>\n",
              "    </tr>\n",
              "    <tr>\n",
              "      <th>1738</th>\n",
              "      <td>2018-08-16</td>\n",
              "      <td>o jogo de caas que a imprensa persegue mente e...</td>\n",
              "    </tr>\n",
              "    <tr>\n",
              "      <th>1739</th>\n",
              "      <td>2018-08-16</td>\n",
              "      <td>conhecam a verdadeira wal de mambucaba angra dos</td>\n",
              "    </tr>\n",
              "    <tr>\n",
              "      <th>1740</th>\n",
              "      <td>2018-08-16</td>\n",
              "      <td>justica condena juca kfouri a pagar mil a bols...</td>\n",
              "    </tr>\n",
              "  </tbody>\n",
              "</table>\n",
              "<p>1734 rows × 2 columns</p>\n",
              "</div>"
            ],
            "text/plain": [
              "            data                                              tweet\n",
              "0     2017-08-01  venezuela esta sendo destruida pelo socialismo...\n",
              "1     2017-08-01  quem pariu poa voz do pt paulo henrique amorim...\n",
              "2     2017-08-01                               toddynho pro moleque\n",
              "3     2017-08-01                               a apagou mas temos o\n",
              "4     2017-08-01  falamos de agronegocio e n de grafeno e no mai...\n",
              "...          ...                                                ...\n",
              "1736  2018-08-16  os rumos da educacao no brasil precisam mudar ...\n",
              "1737  2018-08-16  o psdb mais que nunca se unindo ao a narrativa...\n",
              "1738  2018-08-16  o jogo de caas que a imprensa persegue mente e...\n",
              "1739  2018-08-16   conhecam a verdadeira wal de mambucaba angra dos\n",
              "1740  2018-08-16  justica condena juca kfouri a pagar mil a bols...\n",
              "\n",
              "[1734 rows x 2 columns]"
            ]
          },
          "metadata": {
            "tags": []
          },
          "execution_count": 7
        }
      ]
    },
    {
      "cell_type": "markdown",
      "metadata": {
        "id": "ZMYEgt-IRCbX"
      },
      "source": [
        "##Scikit-learn"
      ]
    },
    {
      "cell_type": "code",
      "metadata": {
        "id": "IFXCr9US7oT4",
        "outputId": "f9b96925-6e94-49ab-b98e-898a8f9a1e6c",
        "colab": {
          "base_uri": "https://localhost:8080/",
          "height": 52
        }
      },
      "source": [
        "from sklearn.decomposition import LatentDirichletAllocation, TruncatedSVD\n",
        "from sklearn.feature_extraction.text import CountVectorizer, TfidfVectorizer\n",
        "from sklearn.model_selection import GridSearchCV\n",
        "\n",
        "vectorizer = CountVectorizer(analyzer='word',\n",
        "                             min_df=10,                       #Número mínimo de ocorrências da palavra\n",
        "                             lowercase=True,                  #Convertendo para minúsculos\n",
        "                             token_pattern='[a-zA-Z0-9]{4,}', #Palavras com pelo menos 3 caracteres\n",
        "                             )\n",
        "\n",
        "tokens_cv = vectorizer.fit_transform(df['tweet'])\n",
        "tokens_cv"
      ],
      "execution_count": null,
      "outputs": [
        {
          "output_type": "execute_result",
          "data": {
            "text/plain": [
              "<1734x232 sparse matrix of type '<class 'numpy.int64'>'\n",
              "\twith 5967 stored elements in Compressed Sparse Row format>"
            ]
          },
          "metadata": {
            "tags": []
          },
          "execution_count": 8
        }
      ]
    },
    {
      "cell_type": "code",
      "metadata": {
        "id": "OOQyfx749b8a"
      },
      "source": [
        "#Construíndo um modelo LDA\n",
        "\n",
        "lda_model = LatentDirichletAllocation(n_components=10,          #Quantidade de tópicos\n",
        "                                      max_iter=300,              #Quantidade máxima de iterações \n",
        "                                      learning_method='online',\n",
        "                                      random_state=100,\n",
        "                                      batch_size=128,  \n",
        "                                      evaluate_every = -1,\n",
        "                                      n_jobs = -1                #Quantidade de CPU's\n",
        "                                      )\n",
        "\n",
        "lda_output = lda_model.fit_transform(tokens_cv)"
      ],
      "execution_count": null,
      "outputs": []
    },
    {
      "cell_type": "code",
      "metadata": {
        "id": "7bADMocj-tHj",
        "outputId": "c43c79ef-3002-4adf-8f81-a060ace28f68",
        "colab": {
          "base_uri": "https://localhost:8080/",
          "height": 356
        }
      },
      "source": [
        "#Função para Visualizar tópicos\n",
        "\n",
        "import numpy as np\n",
        "\n",
        "def visualizar_topicos(vectorizer=vectorizer, lda_model='', n_words=20):\n",
        "  keywords = np.array(vectorizer.get_feature_names())\n",
        "  topic_keywords = []\n",
        "  for topic_weights in lda_model.components_:\n",
        "    top_keyword_locs = (-topic_weights).argsort()[:n_words]\n",
        "    topic_keywords.append(keywords.take(top_keyword_locs))\n",
        "  return topic_keywords\n",
        "\n",
        "topic_keywords = visualizar_topicos(vectorizer=vectorizer, lda_model=lda_model, n_words=15)\n",
        "\n",
        "#Tópicos - Palavras chaves do Dataframe\n",
        "df_topic_keywords = pd.DataFrame(topic_keywords)\n",
        "df_topic_keywords.columns = ['Palavra '+str(i) for i in range(df_topic_keywords.shape[1])]\n",
        "df_topic_keywords.index = ['Tópico '+str(i) for i in range(df_topic_keywords.shape[0])]\n",
        "df_topic_keywords"
      ],
      "execution_count": null,
      "outputs": [
        {
          "output_type": "execute_result",
          "data": {
            "text/html": [
              "<div>\n",
              "<style scoped>\n",
              "    .dataframe tbody tr th:only-of-type {\n",
              "        vertical-align: middle;\n",
              "    }\n",
              "\n",
              "    .dataframe tbody tr th {\n",
              "        vertical-align: top;\n",
              "    }\n",
              "\n",
              "    .dataframe thead th {\n",
              "        text-align: right;\n",
              "    }\n",
              "</style>\n",
              "<table border=\"1\" class=\"dataframe\">\n",
              "  <thead>\n",
              "    <tr style=\"text-align: right;\">\n",
              "      <th></th>\n",
              "      <th>Palavra 0</th>\n",
              "      <th>Palavra 1</th>\n",
              "      <th>Palavra 2</th>\n",
              "      <th>Palavra 3</th>\n",
              "      <th>Palavra 4</th>\n",
              "      <th>Palavra 5</th>\n",
              "      <th>Palavra 6</th>\n",
              "      <th>Palavra 7</th>\n",
              "      <th>Palavra 8</th>\n",
              "      <th>Palavra 9</th>\n",
              "      <th>Palavra 10</th>\n",
              "      <th>Palavra 11</th>\n",
              "      <th>Palavra 12</th>\n",
              "      <th>Palavra 13</th>\n",
              "      <th>Palavra 14</th>\n",
              "    </tr>\n",
              "  </thead>\n",
              "  <tbody>\n",
              "    <tr>\n",
              "      <th>Tópico 0</th>\n",
              "      <td>bolsonaro</td>\n",
              "      <td>jair</td>\n",
              "      <td>imprensa</td>\n",
              "      <td>voce</td>\n",
              "      <td>lula</td>\n",
              "      <td>canal</td>\n",
              "      <td>eleicoes</td>\n",
              "      <td>esse</td>\n",
              "      <td>youtube</td>\n",
              "      <td>assista</td>\n",
              "      <td>direita</td>\n",
              "      <td>ponto</td>\n",
              "      <td>unidos</td>\n",
              "      <td>link</td>\n",
              "      <td>fosse</td>\n",
              "    </tr>\n",
              "    <tr>\n",
              "      <th>Tópico 1</th>\n",
              "      <td>isso</td>\n",
              "      <td>sera</td>\n",
              "      <td>midia</td>\n",
              "      <td>corrupcao</td>\n",
              "      <td>temos</td>\n",
              "      <td>nome</td>\n",
              "      <td>qualquer</td>\n",
              "      <td>apos</td>\n",
              "      <td>controle</td>\n",
              "      <td>contra</td>\n",
              "      <td>nesta</td>\n",
              "      <td>lado</td>\n",
              "      <td>democracia</td>\n",
              "      <td>segundo</td>\n",
              "      <td>vitoria</td>\n",
              "    </tr>\n",
              "    <tr>\n",
              "      <th>Tópico 2</th>\n",
              "      <td>mesmo</td>\n",
              "      <td>sempre</td>\n",
              "      <td>seus</td>\n",
              "      <td>governo</td>\n",
              "      <td>cada</td>\n",
              "      <td>deputado</td>\n",
              "      <td>revista</td>\n",
              "      <td>este</td>\n",
              "      <td>psdb</td>\n",
              "      <td>antes</td>\n",
              "      <td>campanha</td>\n",
              "      <td>temer</td>\n",
              "      <td>ninguem</td>\n",
              "      <td>logo</td>\n",
              "      <td>direitos</td>\n",
              "    </tr>\n",
              "    <tr>\n",
              "      <th>Tópico 3</th>\n",
              "      <td>para</td>\n",
              "      <td>esta</td>\n",
              "      <td>brasil</td>\n",
              "      <td>mais</td>\n",
              "      <td>agora</td>\n",
              "      <td>vamos</td>\n",
              "      <td>sempre</td>\n",
              "      <td>tambem</td>\n",
              "      <td>todo</td>\n",
              "      <td>fazer</td>\n",
              "      <td>pouco</td>\n",
              "      <td>melhor</td>\n",
              "      <td>eles</td>\n",
              "      <td>nossas</td>\n",
              "      <td>nada</td>\n",
              "    </tr>\n",
              "    <tr>\n",
              "      <th>Tópico 4</th>\n",
              "      <td>obrigado</td>\n",
              "      <td>muito</td>\n",
              "      <td>nossa</td>\n",
              "      <td>pelo</td>\n",
              "      <td>todos</td>\n",
              "      <td>abraco</td>\n",
              "      <td>verdade</td>\n",
              "      <td>parabens</td>\n",
              "      <td>deus</td>\n",
              "      <td>apoio</td>\n",
              "      <td>voces</td>\n",
              "      <td>agradeco</td>\n",
              "      <td>minha</td>\n",
              "      <td>chegada</td>\n",
              "      <td>fakenews</td>\n",
              "    </tr>\n",
              "    <tr>\n",
              "      <th>Tópico 5</th>\n",
              "      <td>sobre</td>\n",
              "      <td>pela</td>\n",
              "      <td>todos</td>\n",
              "      <td>quem</td>\n",
              "      <td>contra</td>\n",
              "      <td>hoje</td>\n",
              "      <td>mais</td>\n",
              "      <td>consideracao</td>\n",
              "      <td>estamos</td>\n",
              "      <td>grato</td>\n",
              "      <td>noite</td>\n",
              "      <td>pessoas</td>\n",
              "      <td>video</td>\n",
              "      <td>onde</td>\n",
              "      <td>valeu</td>\n",
              "    </tr>\n",
              "    <tr>\n",
              "      <th>Tópico 6</th>\n",
              "      <td>como</td>\n",
              "      <td>brasil</td>\n",
              "      <td>mais</td>\n",
              "      <td>amor</td>\n",
              "      <td>presidente</td>\n",
              "      <td>globo</td>\n",
              "      <td>muitos</td>\n",
              "      <td>mudar</td>\n",
              "      <td>nunca</td>\n",
              "      <td>menos</td>\n",
              "      <td>somente</td>\n",
              "      <td>educacao</td>\n",
              "      <td>mulheres</td>\n",
              "      <td>favor</td>\n",
              "      <td>defesa</td>\n",
              "    </tr>\n",
              "    <tr>\n",
              "      <th>Tópico 7</th>\n",
              "      <td>nosso</td>\n",
              "      <td>pode</td>\n",
              "      <td>paulo</td>\n",
              "      <td>quando</td>\n",
              "      <td>porque</td>\n",
              "      <td>povo</td>\n",
              "      <td>pesquisa</td>\n",
              "      <td>futuro</td>\n",
              "      <td>trabalho</td>\n",
              "      <td>brasil</td>\n",
              "      <td>anos</td>\n",
              "      <td>folha</td>\n",
              "      <td>estado</td>\n",
              "      <td>pais</td>\n",
              "      <td>general</td>\n",
              "    </tr>\n",
              "    <tr>\n",
              "      <th>Tópico 8</th>\n",
              "      <td>esquerda</td>\n",
              "      <td>para</td>\n",
              "      <td>entrevista</td>\n",
              "      <td>tudo</td>\n",
              "      <td>fala</td>\n",
              "      <td>sistema</td>\n",
              "      <td>voto</td>\n",
              "      <td>essa</td>\n",
              "      <td>suas</td>\n",
              "      <td>quer</td>\n",
              "      <td>jair</td>\n",
              "      <td>semana</td>\n",
              "      <td>sendo</td>\n",
              "      <td>ainda</td>\n",
              "      <td>enquanto</td>\n",
              "    </tr>\n",
              "    <tr>\n",
              "      <th>Tópico 9</th>\n",
              "      <td>grande</td>\n",
              "      <td>abraco</td>\n",
              "      <td>poder</td>\n",
              "      <td>amigos</td>\n",
              "      <td>entre</td>\n",
              "      <td>plano</td>\n",
              "      <td>alguns</td>\n",
              "      <td>estao</td>\n",
              "      <td>dizer</td>\n",
              "      <td>problema</td>\n",
              "      <td>policia</td>\n",
              "      <td>alem</td>\n",
              "      <td>sociedade</td>\n",
              "      <td>camara</td>\n",
              "      <td>blica</td>\n",
              "    </tr>\n",
              "  </tbody>\n",
              "</table>\n",
              "</div>"
            ],
            "text/plain": [
              "          Palavra 0 Palavra 1   Palavra 2  ...  Palavra 12 Palavra 13 Palavra 14\n",
              "Tópico 0  bolsonaro      jair    imprensa  ...      unidos       link      fosse\n",
              "Tópico 1       isso      sera       midia  ...  democracia    segundo    vitoria\n",
              "Tópico 2      mesmo    sempre        seus  ...     ninguem       logo   direitos\n",
              "Tópico 3       para      esta      brasil  ...        eles     nossas       nada\n",
              "Tópico 4   obrigado     muito       nossa  ...       minha    chegada   fakenews\n",
              "Tópico 5      sobre      pela       todos  ...       video       onde      valeu\n",
              "Tópico 6       como    brasil        mais  ...    mulheres      favor     defesa\n",
              "Tópico 7      nosso      pode       paulo  ...      estado       pais    general\n",
              "Tópico 8   esquerda      para  entrevista  ...       sendo      ainda   enquanto\n",
              "Tópico 9     grande    abraco       poder  ...   sociedade     camara      blica\n",
              "\n",
              "[10 rows x 15 columns]"
            ]
          },
          "metadata": {
            "tags": []
          },
          "execution_count": 10
        }
      ]
    },
    {
      "cell_type": "markdown",
      "metadata": {
        "id": "qY8SqGbTEm7p"
      },
      "source": [
        "## Preprocessamento\n",
        "\n",
        "Tokenização utilizando o TweetTokenizer do NLTK."
      ]
    },
    {
      "cell_type": "code",
      "metadata": {
        "id": "XVrky7gQEEha",
        "outputId": "6fd5b4c2-bed2-469e-d1d8-93ca5f7cc984",
        "colab": {
          "base_uri": "https://localhost:8080/",
          "height": 34
        }
      },
      "source": [
        "from nltk.tokenize import TweetTokenizer \n",
        "\n",
        "tweet_tokenizer = TweetTokenizer(strip_handles=False,\n",
        "                                 preserve_case=False)\n",
        "tweet_tokenizer.tokenize(df.iloc[90]['tweet'])"
      ],
      "execution_count": null,
      "outputs": [
        {
          "output_type": "execute_result",
          "data": {
            "text/plain": [
              "['jair', 'bolsonaro', 'e', 'entrevistado', 'pelo', 'em', 'ribeirao', 'preto']"
            ]
          },
          "metadata": {
            "tags": []
          },
          "execution_count": 11
        }
      ]
    },
    {
      "cell_type": "code",
      "metadata": {
        "id": "fM5nSWGXFWi0",
        "outputId": "b145616b-66f6-4acf-943f-7132b671c368",
        "colab": {
          "base_uri": "https://localhost:8080/",
          "height": 52
        }
      },
      "source": [
        "import re\n",
        "from nltk.tokenize import TweetTokenizer\n",
        "tt = TweetTokenizer(strip_handles=True,\n",
        "                    reduce_len=True,\n",
        "                    preserve_case=False)\n",
        "\n",
        "def preprocessamento(text, join=True):\n",
        "\n",
        "  #removendo links, colocando em minúsculos, removendo vírgulas, pontos, hífens e dois pontos\n",
        "  text = re.sub(r'http\\S+', '', text).lower().replace(',', '').replace('.', '').replace('-', '').replace(':', '')\n",
        "  if join:\n",
        "    text = ' '.join(tt.tokenize(text))\n",
        "  else:\n",
        "    text = tt.tokenize(text)\n",
        "  return text\n",
        "\n",
        "tokens_nltk = vectorizer.fit_transform(df['tweet'].apply(preprocessamento))\n",
        "tokens_nltk"
      ],
      "execution_count": null,
      "outputs": [
        {
          "output_type": "execute_result",
          "data": {
            "text/plain": [
              "<1734x232 sparse matrix of type '<class 'numpy.int64'>'\n",
              "\twith 5967 stored elements in Compressed Sparse Row format>"
            ]
          },
          "metadata": {
            "tags": []
          },
          "execution_count": 12
        }
      ]
    },
    {
      "cell_type": "code",
      "metadata": {
        "id": "diNEAxxaoxHy",
        "outputId": "0744e08c-9976-44ec-9a8d-6171cddac756",
        "colab": {
          "base_uri": "https://localhost:8080/",
          "height": 356
        }
      },
      "source": [
        "# Modelo LDA\n",
        "lda_model = LatentDirichletAllocation(n_components=10,            # Número de tópicos\n",
        "                                      max_iter=300,               # Número de interações\n",
        "                                      learning_method='online',\n",
        "                                      random_state=100,          \n",
        "                                      batch_size=128,            \n",
        "                                      evaluate_every = -1,       \n",
        "                                      n_jobs = -1,               # Número de CPUs\n",
        "                                     )\n",
        "\n",
        "lda_output = lda_model.fit_transform(tokens_nltk)\n",
        "\n",
        "topic_keywords = visualizar_topicos(vectorizer=vectorizer, lda_model=lda_model, n_words=15)\n",
        "\n",
        "#Tópicos - Palavras chaves do Dataframe\n",
        "df_topic_keywords = pd.DataFrame(topic_keywords)\n",
        "df_topic_keywords.columns = ['Palavra '+str(i) for i in range(df_topic_keywords.shape[1])]\n",
        "df_topic_keywords.index = ['Tópico '+str(i) for i in range(df_topic_keywords.shape[0])]\n",
        "df_topic_keywords"
      ],
      "execution_count": null,
      "outputs": [
        {
          "output_type": "execute_result",
          "data": {
            "text/html": [
              "<div>\n",
              "<style scoped>\n",
              "    .dataframe tbody tr th:only-of-type {\n",
              "        vertical-align: middle;\n",
              "    }\n",
              "\n",
              "    .dataframe tbody tr th {\n",
              "        vertical-align: top;\n",
              "    }\n",
              "\n",
              "    .dataframe thead th {\n",
              "        text-align: right;\n",
              "    }\n",
              "</style>\n",
              "<table border=\"1\" class=\"dataframe\">\n",
              "  <thead>\n",
              "    <tr style=\"text-align: right;\">\n",
              "      <th></th>\n",
              "      <th>Palavra 0</th>\n",
              "      <th>Palavra 1</th>\n",
              "      <th>Palavra 2</th>\n",
              "      <th>Palavra 3</th>\n",
              "      <th>Palavra 4</th>\n",
              "      <th>Palavra 5</th>\n",
              "      <th>Palavra 6</th>\n",
              "      <th>Palavra 7</th>\n",
              "      <th>Palavra 8</th>\n",
              "      <th>Palavra 9</th>\n",
              "      <th>Palavra 10</th>\n",
              "      <th>Palavra 11</th>\n",
              "      <th>Palavra 12</th>\n",
              "      <th>Palavra 13</th>\n",
              "      <th>Palavra 14</th>\n",
              "    </tr>\n",
              "  </thead>\n",
              "  <tbody>\n",
              "    <tr>\n",
              "      <th>Tópico 0</th>\n",
              "      <td>bolsonaro</td>\n",
              "      <td>jair</td>\n",
              "      <td>imprensa</td>\n",
              "      <td>voce</td>\n",
              "      <td>lula</td>\n",
              "      <td>canal</td>\n",
              "      <td>eleicoes</td>\n",
              "      <td>esse</td>\n",
              "      <td>youtube</td>\n",
              "      <td>assista</td>\n",
              "      <td>direita</td>\n",
              "      <td>ponto</td>\n",
              "      <td>unidos</td>\n",
              "      <td>link</td>\n",
              "      <td>fosse</td>\n",
              "    </tr>\n",
              "    <tr>\n",
              "      <th>Tópico 1</th>\n",
              "      <td>isso</td>\n",
              "      <td>sera</td>\n",
              "      <td>midia</td>\n",
              "      <td>corrupcao</td>\n",
              "      <td>temos</td>\n",
              "      <td>nome</td>\n",
              "      <td>qualquer</td>\n",
              "      <td>apos</td>\n",
              "      <td>controle</td>\n",
              "      <td>contra</td>\n",
              "      <td>nesta</td>\n",
              "      <td>lado</td>\n",
              "      <td>democracia</td>\n",
              "      <td>segundo</td>\n",
              "      <td>vitoria</td>\n",
              "    </tr>\n",
              "    <tr>\n",
              "      <th>Tópico 2</th>\n",
              "      <td>mesmo</td>\n",
              "      <td>sempre</td>\n",
              "      <td>seus</td>\n",
              "      <td>governo</td>\n",
              "      <td>cada</td>\n",
              "      <td>deputado</td>\n",
              "      <td>revista</td>\n",
              "      <td>este</td>\n",
              "      <td>psdb</td>\n",
              "      <td>antes</td>\n",
              "      <td>campanha</td>\n",
              "      <td>temer</td>\n",
              "      <td>ninguem</td>\n",
              "      <td>logo</td>\n",
              "      <td>direitos</td>\n",
              "    </tr>\n",
              "    <tr>\n",
              "      <th>Tópico 3</th>\n",
              "      <td>para</td>\n",
              "      <td>esta</td>\n",
              "      <td>brasil</td>\n",
              "      <td>mais</td>\n",
              "      <td>agora</td>\n",
              "      <td>vamos</td>\n",
              "      <td>sempre</td>\n",
              "      <td>tambem</td>\n",
              "      <td>todo</td>\n",
              "      <td>fazer</td>\n",
              "      <td>pouco</td>\n",
              "      <td>melhor</td>\n",
              "      <td>eles</td>\n",
              "      <td>nossas</td>\n",
              "      <td>nada</td>\n",
              "    </tr>\n",
              "    <tr>\n",
              "      <th>Tópico 4</th>\n",
              "      <td>obrigado</td>\n",
              "      <td>muito</td>\n",
              "      <td>nossa</td>\n",
              "      <td>pelo</td>\n",
              "      <td>todos</td>\n",
              "      <td>abraco</td>\n",
              "      <td>verdade</td>\n",
              "      <td>parabens</td>\n",
              "      <td>deus</td>\n",
              "      <td>apoio</td>\n",
              "      <td>voces</td>\n",
              "      <td>agradeco</td>\n",
              "      <td>minha</td>\n",
              "      <td>chegada</td>\n",
              "      <td>fakenews</td>\n",
              "    </tr>\n",
              "    <tr>\n",
              "      <th>Tópico 5</th>\n",
              "      <td>sobre</td>\n",
              "      <td>pela</td>\n",
              "      <td>todos</td>\n",
              "      <td>quem</td>\n",
              "      <td>contra</td>\n",
              "      <td>hoje</td>\n",
              "      <td>mais</td>\n",
              "      <td>consideracao</td>\n",
              "      <td>estamos</td>\n",
              "      <td>grato</td>\n",
              "      <td>noite</td>\n",
              "      <td>pessoas</td>\n",
              "      <td>video</td>\n",
              "      <td>onde</td>\n",
              "      <td>valeu</td>\n",
              "    </tr>\n",
              "    <tr>\n",
              "      <th>Tópico 6</th>\n",
              "      <td>como</td>\n",
              "      <td>brasil</td>\n",
              "      <td>mais</td>\n",
              "      <td>amor</td>\n",
              "      <td>presidente</td>\n",
              "      <td>globo</td>\n",
              "      <td>muitos</td>\n",
              "      <td>mudar</td>\n",
              "      <td>nunca</td>\n",
              "      <td>menos</td>\n",
              "      <td>somente</td>\n",
              "      <td>educacao</td>\n",
              "      <td>mulheres</td>\n",
              "      <td>favor</td>\n",
              "      <td>defesa</td>\n",
              "    </tr>\n",
              "    <tr>\n",
              "      <th>Tópico 7</th>\n",
              "      <td>nosso</td>\n",
              "      <td>pode</td>\n",
              "      <td>paulo</td>\n",
              "      <td>quando</td>\n",
              "      <td>porque</td>\n",
              "      <td>povo</td>\n",
              "      <td>pesquisa</td>\n",
              "      <td>futuro</td>\n",
              "      <td>trabalho</td>\n",
              "      <td>brasil</td>\n",
              "      <td>anos</td>\n",
              "      <td>folha</td>\n",
              "      <td>estado</td>\n",
              "      <td>pais</td>\n",
              "      <td>general</td>\n",
              "    </tr>\n",
              "    <tr>\n",
              "      <th>Tópico 8</th>\n",
              "      <td>esquerda</td>\n",
              "      <td>para</td>\n",
              "      <td>entrevista</td>\n",
              "      <td>tudo</td>\n",
              "      <td>fala</td>\n",
              "      <td>sistema</td>\n",
              "      <td>voto</td>\n",
              "      <td>essa</td>\n",
              "      <td>suas</td>\n",
              "      <td>quer</td>\n",
              "      <td>jair</td>\n",
              "      <td>semana</td>\n",
              "      <td>sendo</td>\n",
              "      <td>ainda</td>\n",
              "      <td>enquanto</td>\n",
              "    </tr>\n",
              "    <tr>\n",
              "      <th>Tópico 9</th>\n",
              "      <td>grande</td>\n",
              "      <td>abraco</td>\n",
              "      <td>poder</td>\n",
              "      <td>amigos</td>\n",
              "      <td>entre</td>\n",
              "      <td>plano</td>\n",
              "      <td>alguns</td>\n",
              "      <td>estao</td>\n",
              "      <td>dizer</td>\n",
              "      <td>problema</td>\n",
              "      <td>policia</td>\n",
              "      <td>alem</td>\n",
              "      <td>sociedade</td>\n",
              "      <td>camara</td>\n",
              "      <td>blica</td>\n",
              "    </tr>\n",
              "  </tbody>\n",
              "</table>\n",
              "</div>"
            ],
            "text/plain": [
              "          Palavra 0 Palavra 1   Palavra 2  ...  Palavra 12 Palavra 13 Palavra 14\n",
              "Tópico 0  bolsonaro      jair    imprensa  ...      unidos       link      fosse\n",
              "Tópico 1       isso      sera       midia  ...  democracia    segundo    vitoria\n",
              "Tópico 2      mesmo    sempre        seus  ...     ninguem       logo   direitos\n",
              "Tópico 3       para      esta      brasil  ...        eles     nossas       nada\n",
              "Tópico 4   obrigado     muito       nossa  ...       minha    chegada   fakenews\n",
              "Tópico 5      sobre      pela       todos  ...       video       onde      valeu\n",
              "Tópico 6       como    brasil        mais  ...    mulheres      favor     defesa\n",
              "Tópico 7      nosso      pode       paulo  ...      estado       pais    general\n",
              "Tópico 8   esquerda      para  entrevista  ...       sendo      ainda   enquanto\n",
              "Tópico 9     grande    abraco       poder  ...   sociedade     camara      blica\n",
              "\n",
              "[10 rows x 15 columns]"
            ]
          },
          "metadata": {
            "tags": []
          },
          "execution_count": 13
        }
      ]
    },
    {
      "cell_type": "markdown",
      "metadata": {
        "id": "Ii2OfVRkrhGc"
      },
      "source": [
        "## Visualizando tópicos com o [pyLDAvis](https://pypi.org/project/pyLDAvis/)"
      ]
    },
    {
      "cell_type": "code",
      "metadata": {
        "id": "uHLaZMFirENx",
        "outputId": "4b43ac04-36dc-42ac-8136-c5fb553ee5cd",
        "colab": {
          "base_uri": "https://localhost:8080/",
          "height": 381
        }
      },
      "source": [
        "!pip install pyLDAvis"
      ],
      "execution_count": null,
      "outputs": [
        {
          "output_type": "stream",
          "text": [
            "Requirement already satisfied: pyLDAvis in /usr/local/lib/python3.6/dist-packages (2.1.2)\n",
            "Requirement already satisfied: numpy>=1.9.2 in /usr/local/lib/python3.6/dist-packages (from pyLDAvis) (1.18.5)\n",
            "Requirement already satisfied: joblib>=0.8.4 in /usr/local/lib/python3.6/dist-packages (from pyLDAvis) (0.16.0)\n",
            "Requirement already satisfied: jinja2>=2.7.2 in /usr/local/lib/python3.6/dist-packages (from pyLDAvis) (2.11.2)\n",
            "Requirement already satisfied: numexpr in /usr/local/lib/python3.6/dist-packages (from pyLDAvis) (2.7.1)\n",
            "Requirement already satisfied: pytest in /usr/local/lib/python3.6/dist-packages (from pyLDAvis) (3.6.4)\n",
            "Requirement already satisfied: funcy in /usr/local/lib/python3.6/dist-packages (from pyLDAvis) (1.14)\n",
            "Requirement already satisfied: scipy>=0.18.0 in /usr/local/lib/python3.6/dist-packages (from pyLDAvis) (1.4.1)\n",
            "Requirement already satisfied: future in /usr/local/lib/python3.6/dist-packages (from pyLDAvis) (0.16.0)\n",
            "Requirement already satisfied: wheel>=0.23.0 in /usr/local/lib/python3.6/dist-packages (from pyLDAvis) (0.34.2)\n",
            "Requirement already satisfied: pandas>=0.17.0 in /usr/local/lib/python3.6/dist-packages (from pyLDAvis) (1.0.5)\n",
            "Requirement already satisfied: MarkupSafe>=0.23 in /usr/local/lib/python3.6/dist-packages (from jinja2>=2.7.2->pyLDAvis) (1.1.1)\n",
            "Requirement already satisfied: pluggy<0.8,>=0.5 in /usr/local/lib/python3.6/dist-packages (from pytest->pyLDAvis) (0.7.1)\n",
            "Requirement already satisfied: py>=1.5.0 in /usr/local/lib/python3.6/dist-packages (from pytest->pyLDAvis) (1.9.0)\n",
            "Requirement already satisfied: setuptools in /usr/local/lib/python3.6/dist-packages (from pytest->pyLDAvis) (49.2.0)\n",
            "Requirement already satisfied: six>=1.10.0 in /usr/local/lib/python3.6/dist-packages (from pytest->pyLDAvis) (1.15.0)\n",
            "Requirement already satisfied: attrs>=17.4.0 in /usr/local/lib/python3.6/dist-packages (from pytest->pyLDAvis) (19.3.0)\n",
            "Requirement already satisfied: more-itertools>=4.0.0 in /usr/local/lib/python3.6/dist-packages (from pytest->pyLDAvis) (8.4.0)\n",
            "Requirement already satisfied: atomicwrites>=1.0 in /usr/local/lib/python3.6/dist-packages (from pytest->pyLDAvis) (1.4.0)\n",
            "Requirement already satisfied: pytz>=2017.2 in /usr/local/lib/python3.6/dist-packages (from pandas>=0.17.0->pyLDAvis) (2018.9)\n",
            "Requirement already satisfied: python-dateutil>=2.6.1 in /usr/local/lib/python3.6/dist-packages (from pandas>=0.17.0->pyLDAvis) (2.8.1)\n"
          ],
          "name": "stdout"
        }
      ]
    },
    {
      "cell_type": "code",
      "metadata": {
        "id": "qps4ptNxruK5",
        "outputId": "9722f13c-3512-44f5-e263-8e001d3a9902",
        "colab": {
          "base_uri": "https://localhost:8080/",
          "height": 861
        }
      },
      "source": [
        "# Construíndo dashboard interativo para visualizar os principais tópicos identificados pelo pyLDAvis\n",
        "\n",
        "# Mapa de distância intertópica\n",
        "# Lista com os 30 principais tópicos\n",
        "\n",
        "import pyLDAvis.sklearn\n",
        "import pyLDAvis\n",
        "import matplotlib.pyplot as plt\n",
        "\n",
        "pyLDAvis.enable_notebook()\n",
        "panel = pyLDAvis.sklearn.prepare(lda_model,\n",
        "                                 tokens_nltk,\n",
        "                                 vectorizer,\n",
        "                                 mds='tsne',\n",
        "                                 sort_topics=False)\n",
        "panel"
      ],
      "execution_count": null,
      "outputs": [
        {
          "output_type": "execute_result",
          "data": {
            "text/html": [
              "\n",
              "<link rel=\"stylesheet\" type=\"text/css\" href=\"https://cdn.rawgit.com/bmabey/pyLDAvis/files/ldavis.v1.0.0.css\">\n",
              "\n",
              "\n",
              "<div id=\"ldavis_el24961402067418747521151254119\"></div>\n",
              "<script type=\"text/javascript\">\n",
              "\n",
              "var ldavis_el24961402067418747521151254119_data = {\"mdsDat\": {\"x\": [32.42095184326172, 0.648955225944519, 71.01968383789062, 3.7859814167022705, -42.666500091552734, -3.6216893196105957, -3.632401704788208, -36.58440017700195, 44.391380310058594, 40.235809326171875], \"y\": [8.115229606628418, 71.70709991455078, 9.971006393432617, 33.18513488769531, -9.22206974029541, -43.52651596069336, -4.171707630157471, 35.804412841796875, 50.61538314819336, -31.591665267944336], \"topics\": [1, 2, 3, 4, 5, 6, 7, 8, 9, 10], \"cluster\": [1, 1, 1, 1, 1, 1, 1, 1, 1, 1], \"Freq\": [10.806414215185047, 7.249886478321593, 6.472464867169457, 14.981612721553542, 10.70496226631905, 12.786249457420224, 9.702398751163289, 9.813882530496713, 10.58238834956973, 6.89974036280135]}, \"tinfo\": {\"Term\": [\"bolsonaro\", \"para\", \"obrigado\", \"como\", \"grande\", \"sobre\", \"pela\", \"jair\", \"abraco\", \"isso\", \"nosso\", \"mais\", \"brasil\", \"esquerda\", \"todos\", \"sempre\", \"quem\", \"muito\", \"nossa\", \"mesmo\", \"sera\", \"midia\", \"contra\", \"pode\", \"paulo\", \"seus\", \"pelo\", \"hoje\", \"esta\", \"imprensa\", \"bolsonaro\", \"imprensa\", \"voce\", \"canal\", \"eleicoes\", \"youtube\", \"assista\", \"ponto\", \"unidos\", \"link\", \"fosse\", \"estados\", \"combate\", \"filho\", \"rede\", \"desespero\", \"esse\", \"jair\", \"facebook\", \"lula\", \"crescimento\", \"tipo\", \"direita\", \"assim\", \"outros\", \"eles\", \"livre\", \"economia\", \"menos\", \"caso\", \"pelo\", \"fazer\", \"isso\", \"sera\", \"midia\", \"corrupcao\", \"temos\", \"nome\", \"qualquer\", \"apos\", \"controle\", \"nesta\", \"lado\", \"democracia\", \"segundo\", \"vitoria\", \"guerra\", \"seja\", \"caso\", \"qual\", \"segue\", \"contra\", \"diferente\", \"video\", \"canalhas\", \"esse\", \"dizem\", \"respeito\", \"brasil\", \"desespero\", \"crescimento\", \"ditadura\", \"brasileiros\", \"cidadao\", \"mesmo\", \"seus\", \"governo\", \"cada\", \"deputado\", \"revista\", \"este\", \"psdb\", \"antes\", \"campanha\", \"temer\", \"ninguem\", \"logo\", \"direitos\", \"conta\", \"candidato\", \"pede\", \"tenha\", \"sempre\", \"dinheiro\", \"corrupto\", \"populacao\", \"desespero\", \"crescimento\", \"ditadura\", \"queremos\", \"compromissos\", \"domingo\", \"news\", \"fake\", \"seria\", \"cidadao\", \"diferente\", \"estamos\", \"segundo\", \"apenas\", \"para\", \"vamos\", \"tambem\", \"pouco\", \"melhor\", \"nossas\", \"nada\", \"coreia\", \"brasileiros\", \"psol\", \"desta\", \"quanto\", \"redes\", \"algo\", \"criancas\", \"adiante\", \"queremos\", \"apenas\", \"para\", \"todo\", \"agora\", \"fazer\", \"todas\", \"diferente\", \"livre\", \"nossos\", \"esta\", \"seguranca\", \"seria\", \"eles\", \"outros\", \"sempre\", \"brasil\", \"mais\", \"liberdade\", \"pais\", \"aqui\", \"direita\", \"obrigado\", \"muito\", \"nossa\", \"verdade\", \"apoio\", \"voces\", \"agradeco\", \"chegada\", \"fakenews\", \"brasileiro\", \"aeropoo\", \"carinho\", \"passagem\", \"compromissos\", \"pelo\", \"deus\", \"parabens\", \"minha\", \"militar\", \"meus\", \"policiais\", \"abraco\", \"familia\", \"todos\", \"dias\", \"nossos\", \"sendo\", \"agora\", \"pelos\", \"todo\", \"esta\", \"pais\", \"sobre\", \"pela\", \"quem\", \"hoje\", \"consideracao\", \"estamos\", \"grato\", \"noite\", \"pessoas\", \"onde\", \"valeu\", \"campo\", \"temas\", \"caminho\", \"crime\", \"foram\", \"domingo\", \"ditadura\", \"video\", \"contra\", \"pelos\", \"todos\", \"vida\", \"venezuela\", \"segue\", \"meus\", \"minha\", \"estao\", \"possivel\", \"economia\", \"mais\", \"populacao\", \"como\", \"amor\", \"presidente\", \"globo\", \"muitos\", \"mudar\", \"nunca\", \"somente\", \"educacao\", \"mulheres\", \"favor\", \"defesa\", \"ensino\", \"nacional\", \"jeito\", \"fake\", \"news\", \"cidadao\", \"menos\", \"audiencia\", \"brasil\", \"aqui\", \"mais\", \"possivel\", \"vida\", \"alguma\", \"militar\", \"tenha\", \"politica\", \"crescimento\", \"deus\", \"nosso\", \"pode\", \"paulo\", \"quando\", \"porque\", \"povo\", \"pesquisa\", \"futuro\", \"trabalho\", \"anos\", \"folha\", \"estado\", \"general\", \"jornal\", \"paido\", \"alguem\", \"paises\", \"respeito\", \"foro\", \"mundo\", \"maior\", \"pais\", \"liberdade\", \"economia\", \"seria\", \"parabens\", \"possivel\", \"esta\", \"brasil\", \"mais\", \"esquerda\", \"entrevista\", \"tudo\", \"fala\", \"sistema\", \"voto\", \"essa\", \"suas\", \"quer\", \"semana\", \"enquanto\", \"impresso\", \"programa\", \"armas\", \"veja\", \"querem\", \"criar\", \"sendo\", \"ainda\", \"corrupto\", \"canalhas\", \"familia\", \"politica\", \"assim\", \"populacao\", \"dizem\", \"lula\", \"seja\", \"maior\", \"dinheiro\", \"para\", \"jair\", \"todos\", \"grande\", \"poder\", \"amigos\", \"entre\", \"plano\", \"alguns\", \"dizer\", \"policia\", \"problema\", \"alem\", \"sociedade\", \"camara\", \"blica\", \"prol\", \"desde\", \"estao\", \"abraco\", \"qual\", \"alguma\", \"tenho\", \"dizem\", \"estar\", \"dinheiro\", \"foro\", \"audiencia\", \"maior\", \"canalhas\", \"caso\", \"desespero\", \"ditadura\", \"crime\", \"corrupto\"], \"Freq\": [183.0, 276.0, 108.0, 98.0, 73.0, 93.0, 91.0, 104.0, 90.0, 65.0, 73.0, 166.0, 148.0, 70.0, 109.0, 64.0, 62.0, 56.0, 56.0, 42.0, 42.0, 41.0, 68.0, 42.0, 42.0, 35.0, 54.0, 47.0, 85.0, 38.0, 182.72459889565263, 38.09481808803765, 30.265406258508172, 22.78120243230835, 21.492511170340897, 17.643200983851507, 17.60796468213075, 12.21312331530302, 12.164751682442398, 11.51333289619079, 11.35341003633221, 11.284716951498382, 10.361787856796196, 9.68984835422879, 9.603381992889188, 8.837692776167115, 18.322881507774433, 83.77385372134643, 8.509056011274911, 26.86013261394518, 6.202508175239731, 6.8059749880866685, 14.843712143776981, 8.027035361927602, 6.649416330876586, 7.062233945953376, 3.0754720255793293, 4.934846105930299, 3.9158035409520844, 5.028652539878505, 10.251323721324537, 4.530996338641865, 64.23795398027929, 41.242812817262205, 41.081021227659676, 31.091680553538815, 26.165377978029326, 24.96240434272227, 23.169655792475197, 19.118965226227797, 15.26624728352367, 14.127997099089725, 12.245051879670049, 12.21524701318843, 11.241502945250152, 11.226788402949005, 11.203222973626172, 9.929921986092257, 11.00839567788774, 4.147242510846836, 3.7309592146440216, 14.998017517345929, 2.7569317771417503, 3.7397929837966917, 2.612048594279782, 3.120467130281484, 1.4634367004549218, 1.339017291923826, 6.937868972244446, 0.10448919621887678, 0.10450719435766441, 0.10446253103315384, 0.10449300419990207, 0.10449257996330646, 41.521893660783505, 34.49837489575286, 28.198054743971642, 25.05483097610586, 19.96667200337496, 16.860094390907925, 16.443448723650302, 15.651401815267034, 14.779867102995755, 14.619324963199086, 13.653231600853942, 13.568314924016429, 12.529936806187132, 11.621986940947027, 11.549350382497867, 10.580843242713525, 10.519864892617177, 8.244373691679868, 38.029843421445875, 9.598243704981144, 2.817788800346509, 4.979638542904846, 0.10811285331227356, 0.10815002715119812, 0.10812752551682499, 0.10810986361425831, 0.1081076997772614, 0.10811395554056222, 0.10810606295187261, 0.10811183636159157, 0.10816271393650963, 0.10813925435478348, 0.10813743270198665, 0.10813614981837094, 0.10813560112248133, 0.10813549163036079, 0.1081335802446544, 32.413788716588265, 25.789445713244966, 20.292054461057678, 19.494704448142055, 15.969378539967371, 15.18719489685996, 12.559765249903558, 12.280879072426076, 11.571441309526412, 10.673199272685443, 10.611405018822124, 10.482428808256046, 9.837030092039756, 9.819117186303117, 9.713184188765648, 9.001002497472031, 14.651990071237199, 224.1287046047827, 21.384223775896842, 35.266734377475515, 21.089869173907516, 7.807037033879078, 9.201730302093067, 9.2764988559938, 11.775525473880174, 59.21880258595314, 13.532866794360576, 8.600046874862954, 16.57000683554471, 9.28656536032508, 25.91281112456008, 46.09152382431652, 43.477824367219434, 12.949628414710729, 12.64798220676882, 10.503574268705458, 9.82424306092789, 107.32923089756557, 55.46909631778389, 55.241417341551106, 28.850438189111088, 22.16401092038269, 16.041391050741172, 15.267833144478145, 13.628268145946139, 13.609868719208453, 13.205323708137907, 12.645571006318617, 11.534660721710395, 10.891047515984368, 9.072007289256623, 43.84353865048434, 23.123601374680888, 24.545059723950985, 14.039413190977422, 11.539065530488395, 8.965495036943327, 5.598563858995235, 36.019565094303125, 5.432930598482552, 38.34652717979327, 3.8106241297116896, 4.286095805535923, 4.608858334007137, 8.088783439205924, 2.2343843639497494, 4.593743494657477, 11.615277673473456, 4.045489488807932, 92.5275206882835, 90.49971069919111, 61.86529616445464, 46.52124962832359, 29.259015495930498, 25.736183645343235, 21.056775470792168, 20.363954020319408, 19.4146154531836, 15.087959497044187, 11.60433090561701, 11.570302864406196, 10.893187446018889, 10.753222616920569, 10.620962137057225, 9.834889290429652, 9.09819301057459, 8.984303137479516, 15.581795534399804, 52.91991318403693, 8.39086313757054, 62.10875820544392, 8.711067230590626, 6.304149340413489, 4.815063184975013, 6.164128367763271, 8.13300135530953, 8.16271145310418, 3.98391892655622, 6.469107810440197, 41.85106759795569, 6.636855392852162, 97.97499112547032, 32.34404571629465, 27.600883192794743, 26.09398703921709, 15.758957211746912, 15.532573709592723, 14.625773591882256, 14.042228917790867, 13.842531525712529, 13.130039530227615, 11.780769746025662, 11.189256261568744, 11.06812305015673, 11.030382230537695, 10.257895313860857, 9.40526570872548, 9.378211999043012, 9.745460565638083, 14.493406769501584, 6.56290340450317, 72.82120857208977, 9.458326140760882, 71.59851477057063, 5.764090547688743, 6.712234578119079, 4.393447436291555, 6.785286892698055, 4.688091638812482, 8.516494647928523, 2.875818384367528, 5.483318382849928, 72.9347383424218, 41.94064271824713, 41.796243653296216, 27.9664366041006, 27.563307235274188, 27.0187289293648, 24.723816448977477, 22.351096075985808, 22.26721950832149, 20.48037348968422, 19.645804991981368, 18.704473924878563, 15.869300203086627, 15.666676978156701, 12.06573865507218, 10.338353092780617, 10.289609792623084, 12.309202621609222, 15.022155595214091, 12.383183817971773, 12.314240291123507, 15.891596657542234, 12.435250862171346, 10.474043712540212, 4.240754305352457, 10.047840429697853, 3.389715293828641, 13.586280376222364, 21.83753575980863, 8.484736186616427, 69.25045939080385, 37.623543641876964, 36.43804069183224, 33.684925343613536, 30.406821200616644, 27.072350764996536, 24.462356854926107, 24.41862264170708, 23.488713973991157, 19.57923852088418, 16.001479774403958, 15.895376871349082, 12.309232733396735, 11.278886032067485, 10.371050332206208, 10.319165567098583, 9.41392124791392, 17.546567496323508, 16.48605146280634, 7.811065617347486, 10.337640040665057, 8.593197939182948, 13.56778716161473, 7.245505015372382, 10.770400953147275, 4.532919460092038, 11.575376441256271, 3.9350732180650505, 6.18147801199889, 5.282249687366766, 51.54205960816276, 20.321900041344513, 7.979251635805216, 72.7126907173509, 29.88633044170359, 20.428912693140116, 18.52739276856126, 18.453147968207567, 16.421454852205766, 12.373152938534139, 12.337583376506576, 12.33759741276847, 12.230274737240276, 11.35153360985793, 11.294786984930639, 10.347232380378195, 10.282059721333974, 9.223905411412396, 14.106662911497482, 53.2879351279282, 6.239490497051318, 5.583619514378429, 5.01905315910849, 5.817715108538175, 6.12542997483334, 7.56821856133608, 7.261283189226302, 3.147356085635239, 4.112062540428165, 2.676190719428403, 3.536627239615964, 0.10575252006171056, 0.10577066619807411, 0.10579144177320843, 0.10578665647629554], \"Total\": [183.0, 276.0, 108.0, 98.0, 73.0, 93.0, 91.0, 104.0, 90.0, 65.0, 73.0, 166.0, 148.0, 70.0, 109.0, 64.0, 62.0, 56.0, 56.0, 42.0, 42.0, 41.0, 68.0, 42.0, 42.0, 35.0, 54.0, 47.0, 85.0, 38.0, 183.60847033820193, 38.978756918447566, 31.149331987358963, 23.66506802741919, 22.376407642409152, 18.527058495267465, 18.491837312461545, 13.097050963705243, 13.048619642262016, 12.397254749934454, 12.237272076935984, 12.168555507088362, 11.245685272379081, 10.573739798421855, 10.487245941757052, 9.721602218211558, 22.222815887037896, 104.88282862176374, 12.112187562022285, 39.22261629382844, 9.866454873424255, 11.364944969733239, 25.45996116180018, 16.05965855100547, 16.728025877084402, 29.214993106751127, 13.143966176930412, 22.573682733136696, 19.19732788669027, 24.995050789685227, 54.88598729275948, 26.412856443472066, 65.10767277846954, 42.1125119173605, 41.950744055697655, 31.96140119555492, 27.03509708402458, 25.832106150900227, 24.0393940731127, 19.98867372537209, 16.13595874886128, 14.997728433602546, 13.114739978860033, 13.084983999684939, 12.111246104158221, 12.096495157298062, 12.072911039370116, 14.637918235317606, 24.995050789685227, 11.150699357872472, 11.2561266291436, 68.69560198509856, 12.736548080365516, 20.09922875907245, 16.293067649712448, 22.222815887037896, 12.481254304217671, 16.71126119214933, 148.27406325385851, 9.721602218211558, 9.866454873424255, 9.866478777359745, 13.16324079235661, 12.839020228622543, 42.38794987983156, 35.364442875984174, 29.064122268856497, 25.92091097142847, 20.832712532652508, 17.726149075656643, 17.30954985268818, 16.517426758484163, 15.645930271883046, 15.485366353647578, 14.519276347637755, 14.434413840088233, 13.395998041661496, 12.488030931047275, 12.415419022660956, 11.446897039199163, 11.385888122503191, 13.702725431765346, 64.71685384217672, 23.112213719456136, 11.398153213437666, 25.448734867941262, 9.721602218211558, 9.866454873424255, 9.866478777359745, 9.883263707707368, 9.953332284066141, 9.980295801740313, 10.256538824892719, 10.283605006005777, 13.627102923450664, 12.839020228622543, 12.736548080365516, 26.618361319203494, 12.111246104158221, 17.70015252907341, 276.45631534531833, 33.29607582308116, 26.67177464727181, 21.174341398617955, 20.37699698013872, 16.851655707266136, 16.06949569634733, 13.442054765777725, 13.16324079235661, 12.453721486705833, 11.55556167111893, 11.493672703720794, 11.364739630550975, 10.71933136027445, 10.7014177955825, 10.595439956978103, 9.883263707707368, 17.70015252907341, 276.45631534531833, 26.767488960567377, 44.145034845854, 26.412856443472066, 10.75251767524671, 12.736548080365516, 13.143966176930412, 16.851149088027782, 85.11377255948682, 19.678325095747674, 13.627102923450664, 29.214993106751127, 16.728025877084402, 64.71685384217672, 148.27406325385851, 166.0104419788514, 26.171143355332035, 33.27847976009193, 20.74841026312958, 25.45996116180018, 108.21057681258904, 56.35048047540118, 56.12280128398323, 29.731810365646098, 23.04538606431139, 16.922754976021658, 16.149209668449494, 14.509596370725415, 14.491266953806551, 14.086717260338537, 13.526898094317103, 12.416068217812516, 11.772405269177195, 9.953332284066141, 54.88598729275948, 29.39249703867368, 35.37817199890784, 22.961747493424827, 19.109906142143977, 15.918934365340103, 11.655984588712327, 90.08309813770614, 14.810723755842071, 109.12705924149739, 11.741406383140273, 16.851149088027782, 22.940045942404343, 44.145034845854, 12.492889307751527, 26.767488960567377, 85.11377255948682, 33.27847976009193, 93.40964095249078, 91.3818168925261, 62.747418220816165, 47.40337136348272, 30.141090061283094, 26.618361319203494, 21.938832656088856, 21.246031939477227, 20.296775249819298, 15.97007663656599, 12.486388907894442, 12.452413577857467, 11.775270200757669, 11.635302881009371, 11.503120738263085, 10.717009805596291, 9.980295801740313, 9.866478777359745, 20.09922875907245, 68.69560198509856, 12.492889307751527, 109.12705924149739, 16.2096042645625, 12.433851690773027, 11.2561266291436, 15.918934365340103, 22.961747493424827, 23.04571883495474, 13.827908112666476, 22.573682733136696, 166.0104419788514, 25.448734867941262, 98.85336406600456, 33.22235920131796, 28.4792386229613, 26.97234476480415, 16.637359120982314, 16.41092247310456, 15.504107505015039, 14.920581449989644, 14.720869780018917, 14.00843320425434, 12.659120338005987, 12.06759586861758, 11.94649664110891, 11.908712516895255, 11.136262430138988, 10.283605006005777, 10.256538824892719, 12.839020228622543, 19.19732788669027, 10.482823302881922, 148.27406325385851, 20.74841026312958, 166.0104419788514, 13.827908112666476, 16.2096042645625, 10.749653093476397, 19.109906142143977, 13.702725431765346, 27.550072052259264, 9.866454873424255, 29.39249703867368, 73.81284330895353, 42.818702592422916, 42.67429146038614, 28.84453417099855, 28.441389446070612, 27.896805349901697, 25.601843764732326, 23.229168578117527, 23.14527100204114, 21.358424744421676, 20.523848939451458, 19.582548170889797, 16.74736572008313, 16.544720823016224, 12.943795498414124, 11.216417253785735, 11.167672798931125, 16.71126119214933, 23.0557722956226, 20.122361418774986, 23.283301978105577, 33.27847976009193, 26.171143355332035, 22.573682733136696, 13.627102923450664, 35.37817199890784, 13.827908112666476, 85.11377255948682, 148.27406325385851, 166.0104419788514, 70.12786890469356, 38.500897363443606, 37.31545383461775, 34.56228718186377, 31.284175148704975, 27.949695784708517, 25.33973176848955, 25.296055110109215, 24.36609230826295, 20.456633358165856, 16.878876836571422, 16.77269996052435, 13.186604909489313, 12.15629352598806, 11.248443616242277, 11.196575005629407, 10.291278017748152, 22.940045942404343, 22.949952700579743, 11.398153213437666, 16.293067649712448, 14.810723755842071, 27.550072052259264, 16.05965855100547, 25.448734867941262, 12.481254304217671, 39.22261629382844, 14.637918235317606, 23.283301978105577, 23.112213719456136, 276.45631534531833, 104.88282862176374, 109.12705924149739, 73.58110137675011, 30.754748561035957, 21.297318468356604, 19.39581727869844, 19.321569877540206, 17.289887940297803, 13.2415629279596, 13.205971782561045, 13.206010581328938, 13.09868762481595, 12.219972911811903, 12.163172139644898, 11.215658602433644, 11.15045855703615, 12.055634232728123, 23.04571883495474, 90.08309813770614, 11.150699357872472, 10.749653093476397, 10.537860143923282, 12.481254304217671, 14.848811700506824, 23.112213719456136, 23.0557722956226, 10.482823302881922, 23.283301978105577, 16.293067649712448, 24.995050789685227, 9.721602218211558, 9.866478777359745, 11.503120738263085, 11.398153213437666], \"Category\": [\"Default\", \"Default\", \"Default\", \"Default\", \"Default\", \"Default\", \"Default\", \"Default\", \"Default\", \"Default\", \"Default\", \"Default\", \"Default\", \"Default\", \"Default\", \"Default\", \"Default\", \"Default\", \"Default\", \"Default\", \"Default\", \"Default\", \"Default\", \"Default\", \"Default\", \"Default\", \"Default\", \"Default\", \"Default\", \"Default\", \"Topic1\", \"Topic1\", \"Topic1\", \"Topic1\", \"Topic1\", \"Topic1\", \"Topic1\", \"Topic1\", \"Topic1\", \"Topic1\", \"Topic1\", \"Topic1\", \"Topic1\", \"Topic1\", \"Topic1\", \"Topic1\", \"Topic1\", \"Topic1\", \"Topic1\", \"Topic1\", \"Topic1\", \"Topic1\", \"Topic1\", \"Topic1\", \"Topic1\", \"Topic1\", \"Topic1\", \"Topic1\", \"Topic1\", \"Topic1\", \"Topic1\", \"Topic1\", \"Topic2\", \"Topic2\", \"Topic2\", \"Topic2\", \"Topic2\", \"Topic2\", \"Topic2\", \"Topic2\", \"Topic2\", \"Topic2\", \"Topic2\", \"Topic2\", \"Topic2\", \"Topic2\", \"Topic2\", \"Topic2\", \"Topic2\", \"Topic2\", \"Topic2\", \"Topic2\", \"Topic2\", \"Topic2\", \"Topic2\", \"Topic2\", \"Topic2\", \"Topic2\", \"Topic2\", \"Topic2\", \"Topic2\", \"Topic2\", \"Topic2\", \"Topic2\", \"Topic3\", \"Topic3\", \"Topic3\", \"Topic3\", \"Topic3\", \"Topic3\", \"Topic3\", \"Topic3\", \"Topic3\", \"Topic3\", \"Topic3\", \"Topic3\", \"Topic3\", \"Topic3\", \"Topic3\", \"Topic3\", \"Topic3\", \"Topic3\", \"Topic3\", \"Topic3\", \"Topic3\", \"Topic3\", \"Topic3\", \"Topic3\", \"Topic3\", \"Topic3\", \"Topic3\", \"Topic3\", \"Topic3\", \"Topic3\", \"Topic3\", \"Topic3\", \"Topic3\", \"Topic3\", \"Topic3\", \"Topic3\", \"Topic3\", \"Topic4\", \"Topic4\", \"Topic4\", \"Topic4\", \"Topic4\", \"Topic4\", \"Topic4\", \"Topic4\", \"Topic4\", \"Topic4\", \"Topic4\", \"Topic4\", \"Topic4\", \"Topic4\", \"Topic4\", \"Topic4\", \"Topic4\", \"Topic4\", \"Topic4\", \"Topic4\", \"Topic4\", \"Topic4\", \"Topic4\", \"Topic4\", \"Topic4\", \"Topic4\", \"Topic4\", \"Topic4\", \"Topic4\", \"Topic4\", \"Topic4\", \"Topic4\", \"Topic4\", \"Topic4\", \"Topic4\", \"Topic4\", \"Topic4\", \"Topic5\", \"Topic5\", \"Topic5\", \"Topic5\", \"Topic5\", \"Topic5\", \"Topic5\", \"Topic5\", \"Topic5\", \"Topic5\", \"Topic5\", \"Topic5\", \"Topic5\", \"Topic5\", \"Topic5\", \"Topic5\", \"Topic5\", \"Topic5\", \"Topic5\", \"Topic5\", \"Topic5\", \"Topic5\", \"Topic5\", \"Topic5\", \"Topic5\", \"Topic5\", \"Topic5\", \"Topic5\", \"Topic5\", \"Topic5\", \"Topic5\", \"Topic5\", \"Topic6\", \"Topic6\", \"Topic6\", \"Topic6\", \"Topic6\", \"Topic6\", \"Topic6\", \"Topic6\", \"Topic6\", \"Topic6\", \"Topic6\", \"Topic6\", \"Topic6\", \"Topic6\", \"Topic6\", \"Topic6\", \"Topic6\", \"Topic6\", \"Topic6\", \"Topic6\", \"Topic6\", \"Topic6\", \"Topic6\", \"Topic6\", \"Topic6\", \"Topic6\", \"Topic6\", \"Topic6\", \"Topic6\", \"Topic6\", \"Topic6\", \"Topic6\", \"Topic7\", \"Topic7\", \"Topic7\", \"Topic7\", \"Topic7\", \"Topic7\", \"Topic7\", \"Topic7\", \"Topic7\", \"Topic7\", \"Topic7\", \"Topic7\", \"Topic7\", \"Topic7\", \"Topic7\", \"Topic7\", \"Topic7\", \"Topic7\", \"Topic7\", \"Topic7\", \"Topic7\", \"Topic7\", \"Topic7\", \"Topic7\", \"Topic7\", \"Topic7\", \"Topic7\", \"Topic7\", \"Topic7\", \"Topic7\", \"Topic7\", \"Topic8\", \"Topic8\", \"Topic8\", \"Topic8\", \"Topic8\", \"Topic8\", \"Topic8\", \"Topic8\", \"Topic8\", \"Topic8\", \"Topic8\", \"Topic8\", \"Topic8\", \"Topic8\", \"Topic8\", \"Topic8\", \"Topic8\", \"Topic8\", \"Topic8\", \"Topic8\", \"Topic8\", \"Topic8\", \"Topic8\", \"Topic8\", \"Topic8\", \"Topic8\", \"Topic8\", \"Topic8\", \"Topic8\", \"Topic8\", \"Topic9\", \"Topic9\", \"Topic9\", \"Topic9\", \"Topic9\", \"Topic9\", \"Topic9\", \"Topic9\", \"Topic9\", \"Topic9\", \"Topic9\", \"Topic9\", \"Topic9\", \"Topic9\", \"Topic9\", \"Topic9\", \"Topic9\", \"Topic9\", \"Topic9\", \"Topic9\", \"Topic9\", \"Topic9\", \"Topic9\", \"Topic9\", \"Topic9\", \"Topic9\", \"Topic9\", \"Topic9\", \"Topic9\", \"Topic9\", \"Topic9\", \"Topic9\", \"Topic9\", \"Topic10\", \"Topic10\", \"Topic10\", \"Topic10\", \"Topic10\", \"Topic10\", \"Topic10\", \"Topic10\", \"Topic10\", \"Topic10\", \"Topic10\", \"Topic10\", \"Topic10\", \"Topic10\", \"Topic10\", \"Topic10\", \"Topic10\", \"Topic10\", \"Topic10\", \"Topic10\", \"Topic10\", \"Topic10\", \"Topic10\", \"Topic10\", \"Topic10\", \"Topic10\", \"Topic10\", \"Topic10\", \"Topic10\", \"Topic10\", \"Topic10\", \"Topic10\"], \"logprob\": [30.0, 29.0, 28.0, 27.0, 26.0, 25.0, 24.0, 23.0, 22.0, 21.0, 20.0, 19.0, 18.0, 17.0, 16.0, 15.0, 14.0, 13.0, 12.0, 11.0, 10.0, 9.0, 8.0, 7.0, 6.0, 5.0, 4.0, 3.0, 2.0, 1.0, -1.291, -2.8589, -3.089, -3.3731, -3.4313, -3.6287, -3.6307, -3.9965, -4.0005, -4.0555, -4.0695, -4.0756, -4.1609, -4.2279, -4.2369, -4.32, -3.5909, -2.0709, -4.3579, -3.2084, -4.6741, -4.5812, -3.8014, -4.4162, -4.6045, -4.5443, -5.3756, -4.9027, -5.134, -4.8839, -4.1716, -4.9881, -1.9373, -2.3804, -2.3843, -2.6629, -2.8354, -2.8825, -2.957, -3.1492, -3.3742, -3.4517, -3.5947, -3.5972, -3.6802, -3.6816, -3.6837, -3.8043, -3.7012, -4.6774, -4.7832, -3.3919, -5.0857, -4.7808, -5.1397, -4.9619, -5.7191, -5.8079, -4.1629, -8.3585, -8.3584, -8.3588, -8.3585, -8.3585, -2.2602, -2.4455, -2.6472, -2.7654, -2.9924, -3.1615, -3.1865, -3.2359, -3.2932, -3.3041, -3.3725, -3.3787, -3.4583, -3.5335, -3.5398, -3.6274, -3.6332, -3.8769, -2.3481, -3.7249, -4.9505, -4.3811, -8.211, -8.2107, -8.2109, -8.211, -8.2111, -8.211, -8.2111, -8.211, -8.2106, -8.2108, -8.2108, -8.2108, -8.2108, -8.2108, -8.2108, -3.3471, -3.5757, -3.8155, -3.8556, -4.055, -4.1052, -4.2952, -4.3177, -4.3772, -4.458, -4.4638, -4.476, -4.5395, -4.5414, -4.5522, -4.6284, -4.1411, -1.4135, -3.763, -3.2628, -3.7769, -4.7707, -4.6063, -4.5982, -4.3597, -2.7445, -4.2206, -4.6739, -4.0181, -4.5971, -3.571, -2.9951, -3.0534, -4.2646, -4.2882, -4.474, -4.5408, -1.8137, -2.4738, -2.4779, -3.1275, -3.3911, -3.7144, -3.7638, -3.8774, -3.8788, -3.909, -3.9523, -4.0442, -4.1016, -4.2844, -2.709, -3.3487, -3.2891, -3.8477, -4.0438, -4.2962, -4.7671, -2.9055, -4.7971, -2.8429, -5.1518, -5.0342, -4.9616, -4.3991, -5.6856, -4.9649, -4.0373, -5.092, -2.1397, -2.1619, -2.5423, -2.8273, -3.2911, -3.4193, -3.62, -3.6535, -3.7012, -3.9533, -4.2159, -4.2188, -4.2791, -4.292, -4.3044, -4.3813, -4.4592, -4.4718, -3.9211, -2.6985, -4.5401, -2.5384, -4.5027, -4.826, -5.0955, -4.8485, -4.5713, -4.5677, -5.285, -4.8002, -2.9331, -4.7746, -1.8065, -2.9148, -3.0734, -3.1295, -3.6338, -3.6483, -3.7085, -3.7492, -3.7635, -3.8163, -3.9248, -3.9763, -3.9872, -3.9906, -4.0632, -4.15, -4.1529, -4.1144, -3.7176, -4.5098, -2.1032, -4.1444, -2.1202, -4.6396, -4.4873, -4.9111, -4.4765, -4.8462, -4.2492, -5.3349, -4.6895, -2.1131, -2.6664, -2.6699, -3.0717, -3.0862, -3.1061, -3.1949, -3.2958, -3.2996, -3.3832, -3.4248, -3.4739, -3.6383, -3.6511, -3.9123, -4.0668, -4.0715, -3.8923, -3.6931, -3.8863, -3.8919, -3.6369, -3.8821, -4.0538, -4.9579, -4.0953, -5.1819, -3.7936, -3.319, -4.2644, -2.2403, -2.8504, -2.8825, -2.961, -3.0634, -3.1796, -3.2809, -3.2827, -3.3215, -3.5036, -3.7054, -3.712, -3.9677, -4.0551, -4.139, -4.1441, -4.2359, -3.6132, -3.6756, -4.4225, -4.1423, -4.3271, -3.8704, -4.4977, -4.1013, -4.9667, -4.0292, -5.1081, -4.6565, -4.8137, -2.5357, -3.4664, -4.4012, -1.7638, -2.653, -3.0334, -3.1311, -3.1351, -3.2518, -3.5348, -3.5377, -3.5377, -3.5464, -3.621, -3.626, -3.7136, -3.72, -3.8286, -3.4037, -2.0746, -4.2195, -4.3305, -4.4371, -4.2895, -4.2379, -4.0264, -4.0678, -4.9038, -4.6364, -5.066, -4.7872, -8.297, -8.2968, -8.2966, -8.2967], \"loglift\": [30.0, 29.0, 28.0, 27.0, 26.0, 25.0, 24.0, 23.0, 22.0, 21.0, 20.0, 19.0, 18.0, 17.0, 16.0, 15.0, 14.0, 13.0, 12.0, 11.0, 10.0, 9.0, 8.0, 7.0, 6.0, 5.0, 4.0, 3.0, 2.0, 1.0, 2.2202, 2.2021, 2.1962, 2.187, 2.1847, 2.1761, 2.1761, 2.1552, 2.1549, 2.1511, 2.1501, 2.1496, 2.1432, 2.1377, 2.137, 2.1297, 2.0321, 2.0003, 1.8719, 1.8464, 1.7608, 1.7123, 1.6855, 1.5315, 1.3025, 0.8051, 0.7725, 0.7046, 0.6353, 0.6215, 0.5472, 0.4621, 2.6107, 2.6033, 2.6032, 2.5966, 2.5915, 2.5899, 2.5873, 2.5797, 2.5688, 2.5644, 2.5556, 2.5554, 2.5497, 2.5496, 2.5494, 2.2361, 1.8042, 1.6351, 1.5199, 1.1024, 1.0938, 0.9425, 0.7936, 0.661, 0.4807, 0.1, -0.4379, -1.9088, -1.9235, -1.9239, -2.2119, -2.1869, 2.717, 2.7128, 2.7074, 2.7036, 2.6952, 2.6875, 2.6863, 2.6838, 2.6807, 2.6801, 2.6761, 2.6757, 2.6708, 2.6657, 2.6653, 2.6589, 2.6585, 2.2295, 2.206, 1.8588, 1.3401, 1.1063, -1.7613, -1.7758, -1.776, -1.7778, -1.7849, -1.7876, -1.8149, -1.8175, -2.0986, -2.0392, -2.0312, -2.7684, -1.9809, -2.3603, -5.1088, 1.8715, 1.8647, 1.8558, 1.8541, 1.8446, 1.8419, 1.8305, 1.829, 1.8249, 1.8189, 1.8185, 1.8175, 1.8125, 1.8123, 1.8114, 1.8048, 1.7093, 1.6885, 1.6738, 1.6738, 1.6733, 1.5782, 1.5733, 1.5499, 1.54, 1.5356, 1.524, 1.4381, 1.3313, 1.3098, 0.9831, 0.7299, 0.5585, 1.1948, 0.9309, 1.2176, 0.9461, 2.2263, 2.2187, 2.2186, 2.2044, 2.1955, 2.181, 2.1783, 2.1718, 2.1717, 2.1699, 2.1671, 2.1608, 2.1566, 2.1417, 2.0098, 1.9946, 1.8689, 1.7425, 1.73, 1.6603, 1.5012, 1.3178, 1.2316, 1.1886, 1.1091, 0.8654, 0.6296, 0.5375, 0.5133, 0.472, 0.2428, 0.1272, 2.0473, 2.0471, 2.0426, 2.038, 2.0271, 2.0231, 2.0158, 2.0144, 2.0124, 2.0, 1.9835, 1.9833, 1.9789, 1.978, 1.977, 1.9709, 1.9643, 1.9631, 1.8022, 1.7959, 1.6588, 1.4932, 1.4358, 1.3776, 1.2076, 1.108, 1.0189, 1.0189, 0.8124, 0.8071, 0.6789, 0.7128, 2.3239, 2.306, 2.3015, 2.2997, 2.2786, 2.2778, 2.2745, 2.2721, 2.2713, 2.268, 2.2609, 2.2572, 2.2564, 2.2562, 2.2506, 2.2435, 2.2433, 2.0571, 2.0517, 1.8645, 1.6217, 1.5472, 1.4918, 1.4578, 1.4511, 1.438, 1.2973, 1.2602, 1.1588, 1.1, 0.6538, 2.3094, 2.3007, 2.3006, 2.2905, 2.29, 2.2894, 2.2865, 2.2828, 2.2827, 2.2794, 2.2776, 2.2755, 2.2675, 2.2668, 2.2511, 2.2399, 2.2395, 2.0156, 1.893, 1.8359, 1.6844, 1.5823, 1.5773, 1.5535, 1.1541, 1.0626, 0.9154, 0.4864, 0.4059, -0.6524, 2.2334, 2.2229, 2.2222, 2.2203, 2.2175, 2.2141, 2.2107, 2.2107, 2.2093, 2.2021, 2.1926, 2.1923, 2.1771, 2.1711, 2.1648, 2.1644, 2.1569, 1.978, 1.9152, 1.8681, 1.791, 1.7016, 1.5377, 1.45, 1.3861, 1.2331, 1.0256, 0.9323, 0.9198, 0.77, 0.5663, 0.6048, -0.3697, 2.6618, 2.645, 2.6321, 2.6279, 2.6277, 2.6222, 2.6059, 2.6057, 2.6057, 2.6051, 2.6, 2.5996, 2.5931, 2.5926, 2.406, 2.1829, 2.1487, 2.0931, 2.0187, 1.932, 1.9104, 1.7882, 1.5573, 1.5183, 1.4705, 0.9399, 0.8673, 0.7182, -1.8473, -1.8619, -2.0152, -2.0061]}, \"token.table\": {\"Topic\": [5, 10, 4, 5, 4, 5, 5, 4, 9, 10, 4, 8, 7, 10, 10, 10, 7, 8, 3, 4, 6, 5, 2, 4, 7, 9, 1, 9, 1, 7, 10, 10, 1, 2, 4, 7, 8, 5, 4, 3, 10, 6, 3, 6, 1, 2, 9, 10, 3, 5, 1, 2, 9, 10, 5, 6, 7, 1, 7, 5, 6, 3, 2, 6, 2, 4, 2, 3, 9, 1, 7, 4, 9, 6, 7, 2, 3, 9, 10, 1, 4, 5, 7, 4, 5, 9, 2, 4, 3, 9, 10, 1, 4, 3, 6, 2, 9, 10, 10, 6, 1, 6, 8, 7, 1, 1, 4, 9, 9, 7, 10, 9, 9, 9, 1, 2, 4, 5, 8, 8, 1, 6, 6, 10, 4, 6, 10, 3, 1, 6, 7, 5, 9, 5, 9, 7, 1, 4, 1, 8, 6, 8, 10, 1, 8, 8, 7, 3, 10, 6, 2, 6, 1, 9, 2, 1, 9, 7, 8, 2, 4, 8, 1, 1, 4, 3, 1, 9, 8, 9, 10, 4, 6, 7, 8, 4, 1, 7, 3, 5, 6, 2, 5, 7, 5, 6, 7, 5, 7, 7, 4, 8, 7, 4, 2, 7, 3, 6, 2, 5, 4, 8, 4, 5, 7, 5, 6, 1, 4, 8, 4, 5, 8, 8, 4, 9, 5, 8, 5, 8, 3, 6, 1, 5, 5, 6, 9, 8, 6, 10, 8, 10, 10, 4, 5, 6, 7, 9, 1, 3, 6, 7, 9, 8, 6, 7, 8, 4, 8, 7, 10, 9, 10, 3, 4, 2, 10, 2, 8, 4, 6, 9, 9, 4, 1, 4, 2, 4, 8, 3, 2, 6, 9, 2, 4, 6, 2, 9, 9, 3, 4, 5, 9, 2, 4, 8, 3, 9, 6, 10, 7, 9, 4, 6, 3, 2, 3, 7, 4, 10, 1, 4, 4, 6, 4, 5, 5, 6, 9, 8, 9, 1, 6, 4, 9, 4, 6, 5, 6, 7, 2, 6, 2, 1, 5, 9, 1], \"Freq\": [0.39963101563146014, 0.5883456619018719, 0.9438022432861838, 0.9610481212586008, 0.7928411456059168, 0.1812208332813524, 0.9288380241483464, 0.2614384473153373, 0.6971691928408994, 0.9161223126861621, 0.9328940083949384, 0.8915502850631584, 0.37210503122444627, 0.5581575468366694, 0.9253963967405803, 0.9390853608972346, 0.9632067309274813, 0.9363986454676877, 0.9587157643771536, 0.847450324247869, 0.11299337656638253, 0.9546379452531586, 0.9505383028931457, 0.5301610995974599, 0.43376817239792176, 0.9048810787995449, 0.49814259590837523, 0.4358747714198283, 0.973402463792492, 0.6677590375939629, 0.286182444683127, 0.8916105914484717, 0.9966860442926128, 0.04720987505424581, 0.3102363217850439, 0.49233155413713486, 0.14837389302762968, 0.9228551805041042, 0.9116296046918735, 0.9644722759765831, 0.9043693432691271, 0.9453986812800306, 0.9686564500598173, 0.9636686032768831, 0.9718966357228038, 0.1841273886844106, 0.6137579622813686, 0.1841273886844106, 0.9609591107818308, 0.9664895351319341, 0.20003960152236872, 0.44008712334921113, 0.20003960152236872, 0.16003168121789496, 0.9648786666627351, 0.1557751264805487, 0.7788756324027435, 0.88922993644161, 0.9913673745545496, 0.9042197872171625, 0.9621417122286214, 0.9665400723163091, 0.21835458990888235, 0.7715195510113843, 0.92960078997838, 0.9671140481510939, 0.969919929677907, 0.2632005329129283, 0.7018680877678088, 0.6081211617519554, 0.3040605808759777, 0.9344556199018748, 0.8745269522870496, 0.9562622396381928, 0.9115320167959949, 0.9170817480777155, 0.9600286073478266, 0.16589753482819553, 0.7465389067268798, 0.9257733239835946, 0.9519225731357172, 0.7825126245564423, 0.1701114401209657, 0.5110120375882333, 0.3406746917254889, 0.08516867293137223, 0.23554262748984223, 0.7066278824695267, 0.432671665353366, 0.216335832676683, 0.34613733228269283, 0.5891603645690481, 0.3927735763793654, 0.9609201055200823, 0.9121795326466395, 0.08012015264059474, 0.4006007632029737, 0.48072091584356846, 0.906237433246038, 0.9017768790410626, 0.22149686690955064, 0.26579624029146076, 0.4429937338191013, 0.9510307617150873, 0.9384884444185536, 0.239603000227387, 0.5818930005522256, 0.1711450001624193, 0.9479303720809692, 0.9207720330450742, 0.979592647579066, 0.9869899821109311, 0.9839169659322405, 0.9471292048104656, 0.8099783614955395, 0.1349963935825899, 0.6931898120103224, 0.14098775837498081, 0.16448571810414428, 0.9702516666469496, 0.9039692503841018, 0.9767693693917444, 0.34713605842773493, 0.6074881022485361, 0.3367272816739496, 0.20203636900436978, 0.40407273800873955, 0.9243452392561898, 0.7430532225425127, 0.24768440751417092, 0.875179472057111, 0.9660991026269442, 0.9837311929356681, 0.33759322518102847, 0.6076678053258513, 0.9479331643584162, 0.18930175199720775, 0.7950673583882726, 0.9457391793859458, 0.9744760867712049, 0.9330960950299889, 0.6505962935298385, 0.303611603647258, 0.898893146351799, 0.9470851238612373, 0.9553741327099041, 0.9639503063866754, 0.9633870839444977, 0.9921025729993527, 0.9572068090036553, 0.9111307094145462, 0.9914906608563825, 0.9748899914767588, 0.9539310926479965, 0.9829870623353653, 0.8008937316414974, 0.19068898372416604, 0.897967344316184, 0.9670758528449489, 0.9150009851009696, 0.4967303041940434, 0.45852028079450163, 0.967956232412135, 0.22824160984721947, 0.6847248295416584, 0.9704390788629601, 0.6883783528802583, 0.3059459346134481, 0.5153908157564672, 0.2576954078782336, 0.17179693858548908, 0.25901985132644795, 0.25299613385373987, 0.4337076580349826, 0.048189739781664735, 0.932423949344407, 0.2083623316541489, 0.7292681607895212, 0.9908476375731455, 0.565364476883294, 0.3769096512555294, 0.9773366580951375, 0.6279465692160483, 0.36630216537602817, 0.6097096923485004, 0.34840553848485734, 0.9749604281064632, 0.9760342686697995, 0.9616910883303286, 0.9280124201221818, 0.34787169628454806, 0.5963514793449396, 0.923693471010738, 0.9334455967656513, 0.9334746966502523, 0.8774890003006582, 0.9699042964334479, 0.9413522514215007, 0.9677879091221051, 0.9799938481633905, 0.9494616005655209, 0.9889877794633751, 0.7121176091502049, 0.23737253638340164, 0.9674855514996927, 0.9888127681392398, 0.9392566073011291, 0.41845941962519606, 0.5380192538038235, 0.927085104324326, 0.39064284467675114, 0.12019779836207728, 0.4807911934483091, 0.8954417075110864, 0.8102545956318785, 0.18809481684311466, 0.7066504171208104, 0.2826601668483242, 0.9343884914326279, 0.9841991176113124, 0.9661082105891663, 0.9848786450136874, 0.18219586625381143, 0.8016618115167703, 0.16009106866568087, 0.6403642746627235, 0.08004553433284044, 0.9764921710224093, 0.9361092964838913, 0.9316013198763716, 0.9808797898381958, 0.9754591210674969, 0.9086798152822366, 0.428964191051008, 0.5147570292612097, 0.1814877286170281, 0.3266779115106506, 0.5081656401276787, 0.9162367950811668, 0.19647342101468038, 0.2750627894205525, 0.07858936840587215, 0.43224152623229684, 0.9844807354820848, 0.2892700737818736, 0.4339051106728104, 0.2169525553364052, 0.9445394132213905, 0.9678527580970895, 0.9831723512940084, 0.9086771456147376, 0.9100143730980056, 0.8968241035871849, 0.9686738881273751, 0.9635673973285677, 0.35872189462053533, 0.538082841930803, 0.9567628838750463, 0.9707211714360886, 0.9570483067991853, 0.9880884625693139, 0.9439346986385796, 0.8931302648329695, 0.9106303612015773, 0.953539189939564, 0.87991457130419, 0.059839888115074354, 0.11967977623014871, 0.7180786573808923, 0.9590351478734959, 0.35536202921202675, 0.44420253651503344, 0.17768101460601338, 0.9082467572204077, 0.7114426625173138, 0.2540866651847549, 0.6831572522295227, 0.2732629008918091, 0.9776779810161882, 0.587173166555185, 0.4017500613272319, 0.21795945886741108, 0.7846540519226799, 0.973582389966582, 0.6604485231055269, 0.29353267693578977, 0.9614176623460747, 0.9589512863100649, 0.9956145752374841, 0.9001656615267396, 0.9383012349032629, 0.9487645364280035, 0.974813275226119, 0.9341611540508187, 0.964235383692367, 0.9617128401348988, 0.5838254615723805, 0.36489091348273783, 0.4744796317004908, 0.4744796317004908, 0.6159290712486667, 0.35195946928495236, 0.7440117972013885, 0.18600294930034714, 0.7845338063251367, 0.18679376341074683, 0.3482179421320818, 0.5681450634786598, 0.07330904044885933, 0.9505181424775652, 0.9647477465918586, 0.919637504118387, 0.9610464713631556, 0.961074216974761, 0.889011879435518, 0.4021280070205779, 0.48255360842469347, 0.9753862830198973, 0.5552263863514444, 0.43184274494001235, 0.19901261127716, 0.79605044510864, 0.9093543094061817, 0.9631025157192653, 0.9454725322603125, 0.9660212478867801, 0.9715519603178187], \"Term\": [\"abraco\", \"abraco\", \"adiante\", \"aeropoo\", \"agora\", \"agora\", \"agradeco\", \"ainda\", \"ainda\", \"alem\", \"algo\", \"alguem\", \"alguma\", \"alguma\", \"alguns\", \"amigos\", \"amor\", \"anos\", \"antes\", \"apenas\", \"apenas\", \"apoio\", \"apos\", \"aqui\", \"aqui\", \"armas\", \"assim\", \"assim\", \"assista\", \"audiencia\", \"audiencia\", \"blica\", \"bolsonaro\", \"brasil\", \"brasil\", \"brasil\", \"brasil\", \"brasileiro\", \"brasileiros\", \"cada\", \"camara\", \"caminho\", \"campanha\", \"campo\", \"canal\", \"canalhas\", \"canalhas\", \"canalhas\", \"candidato\", \"carinho\", \"caso\", \"caso\", \"caso\", \"caso\", \"chegada\", \"cidadao\", \"cidadao\", \"combate\", \"como\", \"compromissos\", \"consideracao\", \"conta\", \"contra\", \"contra\", \"controle\", \"coreia\", \"corrupcao\", \"corrupto\", \"corrupto\", \"crescimento\", \"crescimento\", \"criancas\", \"criar\", \"crime\", \"defesa\", \"democracia\", \"deputado\", \"desde\", \"desde\", \"desespero\", \"desta\", \"deus\", \"deus\", \"dias\", \"dias\", \"dias\", \"diferente\", \"diferente\", \"dinheiro\", \"dinheiro\", \"dinheiro\", \"direita\", \"direita\", \"direitos\", \"ditadura\", \"dizem\", \"dizem\", \"dizem\", \"dizer\", \"domingo\", \"economia\", \"economia\", \"economia\", \"educacao\", \"eleicoes\", \"eles\", \"eles\", \"eles\", \"enquanto\", \"ensino\", \"entre\", \"entrevista\", \"esquerda\", \"essa\", \"esse\", \"esse\", \"esta\", \"esta\", \"esta\", \"estado\", \"estados\", \"estamos\", \"estao\", \"estao\", \"estar\", \"estar\", \"estar\", \"este\", \"facebook\", \"facebook\", \"fake\", \"fakenews\", \"fala\", \"familia\", \"familia\", \"favor\", \"fazer\", \"fazer\", \"filho\", \"folha\", \"foram\", \"foro\", \"foro\", \"fosse\", \"futuro\", \"general\", \"globo\", \"governo\", \"grande\", \"grato\", \"guerra\", \"hoje\", \"imprensa\", \"impresso\", \"isso\", \"jair\", \"jair\", \"jeito\", \"jornal\", \"lado\", \"liberdade\", \"liberdade\", \"link\", \"livre\", \"livre\", \"logo\", \"lula\", \"lula\", \"maior\", \"maior\", \"maior\", \"mais\", \"mais\", \"mais\", \"mais\", \"melhor\", \"menos\", \"menos\", \"mesmo\", \"meus\", \"meus\", \"midia\", \"militar\", \"militar\", \"minha\", \"minha\", \"mudar\", \"muito\", \"muitos\", \"mulheres\", \"mundo\", \"mundo\", \"nacional\", \"nada\", \"nesta\", \"news\", \"ninguem\", \"noite\", \"nome\", \"nossa\", \"nossas\", \"nosso\", \"nossos\", \"nossos\", \"nunca\", \"obrigado\", \"onde\", \"outros\", \"outros\", \"paido\", \"pais\", \"pais\", \"pais\", \"paises\", \"para\", \"para\", \"parabens\", \"parabens\", \"passagem\", \"paulo\", \"pede\", \"pela\", \"pelo\", \"pelo\", \"pelos\", \"pelos\", \"pelos\", \"pesquisa\", \"pessoas\", \"plano\", \"pode\", \"poder\", \"policia\", \"policiais\", \"policiais\", \"politica\", \"politica\", \"politica\", \"ponto\", \"populacao\", \"populacao\", \"populacao\", \"populacao\", \"porque\", \"possivel\", \"possivel\", \"possivel\", \"pouco\", \"povo\", \"presidente\", \"problema\", \"programa\", \"prol\", \"psdb\", \"psol\", \"qual\", \"qual\", \"qualquer\", \"quando\", \"quanto\", \"quem\", \"quer\", \"querem\", \"queremos\", \"rede\", \"redes\", \"respeito\", \"respeito\", \"respeito\", \"revista\", \"segue\", \"segue\", \"segue\", \"segundo\", \"seguranca\", \"seguranca\", \"seja\", \"seja\", \"semana\", \"sempre\", \"sempre\", \"sendo\", \"sendo\", \"sera\", \"seria\", \"seria\", \"seus\", \"sistema\", \"sobre\", \"sociedade\", \"somente\", \"suas\", \"tambem\", \"temas\", \"temer\", \"temos\", \"tenha\", \"tenha\", \"tenho\", \"tenho\", \"tipo\", \"tipo\", \"todas\", \"todas\", \"todo\", \"todo\", \"todos\", \"todos\", \"todos\", \"trabalho\", \"tudo\", \"unidos\", \"valeu\", \"vamos\", \"veja\", \"venezuela\", \"venezuela\", \"verdade\", \"vida\", \"vida\", \"video\", \"video\", \"vitoria\", \"voce\", \"voces\", \"voto\", \"youtube\"]}, \"R\": 30, \"lambda.step\": 0.01, \"plot.opts\": {\"xlab\": \"PC1\", \"ylab\": \"PC2\"}, \"topic.order\": [1, 2, 3, 4, 5, 6, 7, 8, 9, 10]};\n",
              "\n",
              "function LDAvis_load_lib(url, callback){\n",
              "  var s = document.createElement('script');\n",
              "  s.src = url;\n",
              "  s.async = true;\n",
              "  s.onreadystatechange = s.onload = callback;\n",
              "  s.onerror = function(){console.warn(\"failed to load library \" + url);};\n",
              "  document.getElementsByTagName(\"head\")[0].appendChild(s);\n",
              "}\n",
              "\n",
              "if(typeof(LDAvis) !== \"undefined\"){\n",
              "   // already loaded: just create the visualization\n",
              "   !function(LDAvis){\n",
              "       new LDAvis(\"#\" + \"ldavis_el24961402067418747521151254119\", ldavis_el24961402067418747521151254119_data);\n",
              "   }(LDAvis);\n",
              "}else if(typeof define === \"function\" && define.amd){\n",
              "   // require.js is available: use it to load d3/LDAvis\n",
              "   require.config({paths: {d3: \"https://cdnjs.cloudflare.com/ajax/libs/d3/3.5.5/d3.min\"}});\n",
              "   require([\"d3\"], function(d3){\n",
              "      window.d3 = d3;\n",
              "      LDAvis_load_lib(\"https://cdn.rawgit.com/bmabey/pyLDAvis/files/ldavis.v1.0.0.js\", function(){\n",
              "        new LDAvis(\"#\" + \"ldavis_el24961402067418747521151254119\", ldavis_el24961402067418747521151254119_data);\n",
              "      });\n",
              "    });\n",
              "}else{\n",
              "    // require.js not available: dynamically load d3 & LDAvis\n",
              "    LDAvis_load_lib(\"https://cdnjs.cloudflare.com/ajax/libs/d3/3.5.5/d3.min.js\", function(){\n",
              "         LDAvis_load_lib(\"https://cdn.rawgit.com/bmabey/pyLDAvis/files/ldavis.v1.0.0.js\", function(){\n",
              "                 new LDAvis(\"#\" + \"ldavis_el24961402067418747521151254119\", ldavis_el24961402067418747521151254119_data);\n",
              "            })\n",
              "         });\n",
              "}\n",
              "</script>"
            ],
            "text/plain": [
              "PreparedData(topic_coordinates=               x          y  topics  cluster       Freq\n",
              "topic                                                  \n",
              "0      32.420952   8.115230       1        1  10.806414\n",
              "1       0.648955  71.707100       2        1   7.249886\n",
              "2      71.019684   9.971006       3        1   6.472465\n",
              "3       3.785981  33.185135       4        1  14.981613\n",
              "4     -42.666500  -9.222070       5        1  10.704962\n",
              "5      -3.621689 -43.526516       6        1  12.786249\n",
              "6      -3.632402  -4.171708       7        1   9.702399\n",
              "7     -36.584400  35.804413       8        1   9.813883\n",
              "8      44.391380  50.615383       9        1  10.582388\n",
              "9      40.235809 -31.591665      10        1   6.899740, topic_info=          Term        Freq       Total Category  logprob  loglift\n",
              "24   bolsonaro  183.000000  183.000000  Default  30.0000  30.0000\n",
              "152       para  276.000000  276.000000  Default  29.0000  29.0000\n",
              "146   obrigado  108.000000  108.000000  Default  28.0000  28.0000\n",
              "41        como   98.000000   98.000000  Default  27.0000  27.0000\n",
              "104     grande   73.000000   73.000000  Default  26.0000  26.0000\n",
              "..         ...         ...         ...      ...      ...      ...\n",
              "37        caso    3.536627   24.995051  Topic10  -4.7872   0.7182\n",
              "58   desespero    0.105753    9.721602  Topic10  -8.2970  -1.8473\n",
              "66    ditadura    0.105771    9.866479  Topic10  -8.2968  -1.8619\n",
              "53       crime    0.105791   11.503121  Topic10  -8.2966  -2.0152\n",
              "49    corrupto    0.105787   11.398153  Topic10  -8.2967  -2.0061\n",
              "\n",
              "[358 rows x 6 columns], token_table=      Topic      Freq     Term\n",
              "term                          \n",
              "0         5  0.399631   abraco\n",
              "0        10  0.588346   abraco\n",
              "1         4  0.943802  adiante\n",
              "2         5  0.961048  aeropoo\n",
              "3         4  0.792841    agora\n",
              "...     ...       ...      ...\n",
              "227       2  0.909354  vitoria\n",
              "228       1  0.963103     voce\n",
              "229       5  0.945473    voces\n",
              "230       9  0.966021     voto\n",
              "231       1  0.971552  youtube\n",
              "\n",
              "[327 rows x 3 columns], R=30, lambda_step=0.01, plot_opts={'xlab': 'PC1', 'ylab': 'PC2'}, topic_order=[1, 2, 3, 4, 5, 6, 7, 8, 9, 10])"
            ]
          },
          "metadata": {
            "tags": []
          },
          "execution_count": 15
        }
      ]
    },
    {
      "cell_type": "markdown",
      "metadata": {
        "id": "ptQvz986tVos"
      },
      "source": [
        "### Salvando pyLDAvis como HTML"
      ]
    },
    {
      "cell_type": "code",
      "metadata": {
        "id": "pW6nWOQLsitV"
      },
      "source": [
        "pyLDAvis.save_html(panel, 'LDA.html')"
      ],
      "execution_count": null,
      "outputs": []
    },
    {
      "cell_type": "markdown",
      "metadata": {
        "id": "Gf5iZ3aat0Cv"
      },
      "source": [
        "## Visualizando tópicos com [Gensim](https://radimrehurek.com/gensim/)"
      ]
    },
    {
      "cell_type": "code",
      "metadata": {
        "id": "IwnPwRi3toZ3",
        "outputId": "5190ad18-5ad4-486c-f5e9-9e8c36917f4f",
        "colab": {
          "base_uri": "https://localhost:8080/",
          "height": 138
        }
      },
      "source": [
        "from gensim.corpora import Dictionary\n",
        "from gensim.models import Phrases\n",
        "\n",
        "docs = df['tweet'].apply(lambda x: preprocessamento(x, join=False)).values\n",
        "\n",
        "#Adicionando bigrams e trigrams to docs (apenas aqueles que aparecem 20 vezes ou mais)\n",
        "bigram = Phrases(docs, min_count=20)\n",
        "for idx in range(len(docs)):\n",
        "  for token in bigram[docs[idx]]:\n",
        "    if '_' in token:\n",
        "      # Token é um bigram, adicione ao documento\n",
        "      docs[idx].append(token)\n",
        "\n",
        "# Criando uma representação de dicionário dos documentos\n",
        "dictionary = Dictionary(docs)\n",
        "\n",
        "# Filtrando palavras que ocorrem em menos de 20 documentos ou em mais que 50% dos documentos\n",
        "dictionary.filter_extremes(no_below=20, no_above=0.5)\n",
        "\n",
        "# Representação de Bag-of-words dos documentos\n",
        "corpus = [dictionary.doc2bow(doc) for doc in docs] # Convertendo cada doc para um vetor usando BOW\n",
        "\n",
        "print('Number of unique tokens: %d' % len(dictionary))\n",
        "print('Number of documents: %d' % len(corpus))"
      ],
      "execution_count": null,
      "outputs": [
        {
          "output_type": "stream",
          "text": [
            "/usr/local/lib/python3.6/dist-packages/scipy/sparse/sparsetools.py:21: DeprecationWarning: `scipy.sparse.sparsetools` is deprecated!\n",
            "scipy.sparse.sparsetools is a private module for scipy.sparse, and should not be used.\n",
            "  _deprecated()\n",
            "/usr/local/lib/python3.6/dist-packages/gensim/models/phrases.py:598: UserWarning: For a faster implementation, use the gensim.models.phrases.Phraser class\n",
            "  warnings.warn(\"For a faster implementation, use the gensim.models.phrases.Phraser class\")\n"
          ],
          "name": "stderr"
        },
        {
          "output_type": "stream",
          "text": [
            "Number of unique tokens: 157\n",
            "Number of documents: 1734\n"
          ],
          "name": "stdout"
        }
      ]
    },
    {
      "cell_type": "code",
      "metadata": {
        "id": "-oGV3zip2Ydc"
      },
      "source": [
        "# Treinando modelo LDA para o Gensim\n",
        "\n",
        "from gensim.models import LdaModel\n",
        "\n",
        "# Definindo parametros de treinamento\n",
        "num_topics = 10\n",
        "chunksize = 3000\n",
        "passes = 30\n",
        "iterations = 500\n",
        "eval_every = None # Avaliar a perplexidade do modelo é muito custoso\n",
        "\n",
        "# Construíndo um index para o dicionário de palavras\n",
        "temp = dictionary[0] # Carregando o dicionário\n",
        "id2word = dictionary.id2token\n",
        "\n",
        "model = LdaModel(\n",
        "    corpus=corpus,\n",
        "    id2word=id2word,\n",
        "    chunksize=chunksize,\n",
        "    alpha='auto',\n",
        "    eta='auto',\n",
        "    iterations=iterations,\n",
        "    num_topics=num_topics,\n",
        "    passes=passes,\n",
        "    eval_every=eval_every\n",
        ")"
      ],
      "execution_count": null,
      "outputs": []
    },
    {
      "cell_type": "code",
      "metadata": {
        "id": "f9WkBSZD6keW",
        "outputId": "2416fe6d-717a-46c6-c6fd-8b4002a9bc62",
        "colab": {
          "base_uri": "https://localhost:8080/",
          "height": 364
        }
      },
      "source": [
        "model.show_topics()"
      ],
      "execution_count": null,
      "outputs": [
        {
          "output_type": "execute_result",
          "data": {
            "text/plain": [
              "[(0,\n",
              "  '0.153*\"bolsonaro\" + 0.106*\"e\" + 0.103*\"jair\" + 0.092*\"de\" + 0.061*\"o\" + 0.048*\"jair_bolsonaro\" + 0.047*\"a\" + 0.035*\"sobre\" + 0.030*\"fala\" + 0.029*\"em\"'),\n",
              " (1,\n",
              "  '0.112*\"um\" + 0.092*\"obrigado\" + 0.072*\"abraco\" + 0.061*\"a\" + 0.047*\"de\" + 0.045*\"e\" + 0.036*\"todos\" + 0.033*\"pela\" + 0.030*\"um_abraco\" + 0.028*\"muito\"'),\n",
              " (2,\n",
              "  '0.083*\"o\" + 0.077*\"que\" + 0.066*\"e\" + 0.059*\"de\" + 0.053*\"a\" + 0.045*\"para\" + 0.037*\"um\" + 0.033*\"nao\" + 0.032*\"do\" + 0.028*\"se\"'),\n",
              " (3,\n",
              "  '0.141*\"de\" + 0.104*\"a\" + 0.062*\"que\" + 0.062*\"e\" + 0.036*\"do\" + 0.034*\"em\" + 0.032*\"o\" + 0.026*\"as\" + 0.026*\"sua\" + 0.022*\"por\"'),\n",
              " (4,\n",
              "  '0.128*\"o\" + 0.083*\"que\" + 0.073*\"e\" + 0.054*\"em\" + 0.047*\"a\" + 0.041*\"nao\" + 0.040*\"da\" + 0.034*\"de\" + 0.021*\"isso\" + 0.019*\"mas\"'),\n",
              " (5,\n",
              "  '0.136*\"e\" + 0.124*\"a\" + 0.053*\"nao\" + 0.051*\"o\" + 0.043*\"de\" + 0.037*\"para\" + 0.028*\"que\" + 0.027*\"da\" + 0.020*\"mas\" + 0.020*\"se\"'),\n",
              " (6,\n",
              "  '0.100*\"e\" + 0.097*\"de\" + 0.068*\"sao\" + 0.060*\"o\" + 0.049*\"do\" + 0.037*\"que\" + 0.035*\"a\" + 0.034*\"por\" + 0.033*\"paulo\" + 0.030*\"amor\"'),\n",
              " (7,\n",
              "  '0.080*\"nosso\" + 0.072*\"ou\" + 0.070*\"e\" + 0.070*\"de\" + 0.058*\"o\" + 0.047*\"a\" + 0.037*\"que\" + 0.036*\"pela\" + 0.030*\"para\" + 0.027*\"pela_consideracao\"'),\n",
              " (8,\n",
              "  '0.094*\"no\" + 0.092*\"com\" + 0.067*\"a\" + 0.064*\"de\" + 0.063*\"e\" + 0.062*\"uma\" + 0.045*\"mais\" + 0.031*\"boa\" + 0.027*\"todos\" + 0.026*\"na\"'),\n",
              " (9,\n",
              "  '0.153*\"do\" + 0.110*\"da\" + 0.082*\"de\" + 0.079*\"e\" + 0.045*\"a\" + 0.045*\"o\" + 0.039*\"em\" + 0.036*\"na\" + 0.031*\"com\" + 0.027*\"um\"')]"
            ]
          },
          "metadata": {
            "tags": []
          },
          "execution_count": 19
        }
      ]
    },
    {
      "cell_type": "code",
      "metadata": {
        "id": "fk1Gupu06rd-",
        "outputId": "a56f35e0-9ec4-4881-d9fe-22ac3c6e5710",
        "colab": {
          "base_uri": "https://localhost:8080/",
          "height": 861
        }
      },
      "source": [
        "# Construíndo dashboard interativo para visualizar os principais tópicos identificados pelo Gensim\n",
        "\n",
        "# Mapa de distância intertópica\n",
        "# Lista com os 30 principais tópicos\n",
        "\n",
        "import pyLDAvis.gensim\n",
        "panel = pyLDAvis.gensim.prepare(model, corpus, dictionary)\n",
        "panel"
      ],
      "execution_count": null,
      "outputs": [
        {
          "output_type": "execute_result",
          "data": {
            "text/html": [
              "\n",
              "<link rel=\"stylesheet\" type=\"text/css\" href=\"https://cdn.rawgit.com/bmabey/pyLDAvis/files/ldavis.v1.0.0.css\">\n",
              "\n",
              "\n",
              "<div id=\"ldavis_el24961402066496468004467510744\"></div>\n",
              "<script type=\"text/javascript\">\n",
              "\n",
              "var ldavis_el24961402066496468004467510744_data = {\"mdsDat\": {\"x\": [0.05358091298314595, 0.00681262468330759, 0.07539292945049617, 0.048801629762382275, -0.023768745357278298, -0.03933235445445617, -0.2551078330699835, 0.04763157418939956, 0.07749419690390767, 0.008495064909078812], \"y\": [0.06474641344346357, 0.011073914643254119, 0.06652683477420883, 0.035130264537796344, -0.10062121422193523, 0.0066688062891669475, -0.0013021716414908673, -0.012029322291482817, -0.16763894555246103, 0.09744542001948074], \"topics\": [1, 2, 3, 4, 5, 6, 7, 8, 9, 10], \"cluster\": [1, 1, 1, 1, 1, 1, 1, 1, 1, 1], \"Freq\": [16.48519515991211, 12.210091590881348, 12.108718872070312, 11.65364933013916, 11.246417999267578, 8.49673843383789, 8.116388320922852, 7.36110782623291, 7.07224178314209, 5.249458312988281]}, \"tinfo\": {\"Term\": [\"bolsonaro\", \"jair\", \"do\", \"obrigado\", \"um\", \"abraco\", \"nosso\", \"sao\", \"da\", \"que\", \"no\", \"ou\", \"uma\", \"de\", \"nao\", \"com\", \"o\", \"jair_bolsonaro\", \"pela\", \"e\", \"mais\", \"grande\", \"todos\", \"boa\", \"um_abraco\", \"paulo\", \"sobre\", \"amor\", \"mas\", \"para\", \"ele\", \"vai\", \"quer\", \"essa\", \"seus\", \"ser\", \"tem\", \"futuro\", \"presidente\", \"n\", \"pt\", \"cada\", \"se\", \"voto\", \"lula\", \"pais\", \"brasil\", \"voce\", \"bem\", \"aqui\", \"governo\", \"temos\", \"ainda\", \"para\", \"que\", \"todo\", \"fazer\", \"nas\", \"diz\", \"caso\", \"contra\", \"um\", \"nao\", \"o\", \"ja\", \"e\", \"de\", \"a\", \"mais\", \"do\", \"no\", \"na\", \"por\", \"dos\", \"os\", \"em\", \"com\", \"ate\", \"sua\", \"imprensa\", \"agora\", \"sera\", \"porque\", \"corrupcao\", \"deus\", \"sempre\", \"as\", \"diz\", \"governo\", \"mundo\", \"tudo\", \"ter\", \"politica\", \"maior\", \"populacao\", \"dos\", \"de\", \"mesmo\", \"minha\", \"liberdade\", \"por\", \"fazer\", \"a\", \"que\", \"os\", \"pae\", \"das\", \"em\", \"mais\", \"na\", \"do\", \"e\", \"no\", \"para\", \"o\", \"da\", \"com\", \"brasil\", \"um\", \"globo\", \"eles\", \"quando\", \"isso\", \"nome\", \"foi\", \"sistema\", \"me\", \"caso\", \"minha\", \"meu\", \"mas\", \"q\", \"hoje\", \"deus\", \"sendo\", \"pt\", \"anos\", \"bem\", \"so\", \"aos\", \"qualquer\", \"suas\", \"o\", \"esquerda\", \"pelo\", \"nao\", \"em\", \"corrupcao\", \"que\", \"uma\", \"da\", \"como\", \"e\", \"a\", \"ao\", \"de\", \"por\", \"se\", \"os\", \"com\", \"do\", \"pode\", \"economia\", \"populacao\", \"verdade\", \"sem\", \"ha\", \"anos\", \"ainda\", \"direita\", \"dinheiro\", \"quem\", \"tambem\", \"estao\", \"fazer\", \"mas\", \"esquerda\", \"temos\", \"nao\", \"seguranca\", \"q\", \"pouco\", \"contra\", \"esta\", \"se\", \"como\", \"eles\", \"a\", \"tudo\", \"para\", \"das\", \"e\", \"o\", \"da\", \"de\", \"que\", \"os\", \"na\", \"bolsonaro\", \"as\", \"com\", \"brasil\", \"no\", \"via\", \"rio\", \"video\", \"pae\", \"seguranca\", \"midia\", \"do\", \"grande\", \"da\", \"dos\", \"aos\", \"na\", \"nossa\", \"pesquisa\", \"pais\", \"das\", \"dia\", \"como\", \"brasil\", \"em\", \"nos\", \"com\", \"todo\", \"esquerda\", \"um\", \"no\", \"de\", \"pela\", \"sem\", \"direita\", \"bem\", \"e\", \"o\", \"a\", \"ao\", \"por\", \"noite\", \"boa\", \"youtube\", \"canal\", \"uma\", \"estamos\", \"hoje\", \"vez\", \"entrevista\", \"no\", \"com\", \"mais\", \"assista\", \"todos\", \"ja\", \"mesmo\", \"cada\", \"mundo\", \"as\", \"ao\", \"sobre\", \"meu\", \"seu\", \"na\", \"minha\", \"sendo\", \"todo\", \"politica\", \"esta\", \"apoio\", \"vamos\", \"nos\", \"a\", \"de\", \"e\", \"os\", \"em\", \"o\", \"para\", \"do\", \"que\", \"abraco\", \"obrigado\", \"um_abraco\", \"um_foe\", \"foe\", \"bom\", \"muito\", \"apoio\", \"pouco\", \"grande\", \"parabens\", \"um\", \"consideracao\", \"dia\", \"pela\", \"todos\", \"pelo\", \"direita\", \"meu\", \"melhor\", \"nossa\", \"todo\", \"sempre\", \"ha\", \"vamos\", \"video\", \"grato\", \"sao\", \"estao\", \"das\", \"as\", \"em\", \"a\", \"para\", \"de\", \"e\", \"com\", \"no\", \"o\", \"amor\", \"sao_paulo\", \"foro\", \"paulo\", \"folha\", \"sao\", \"poder\", \"suas\", \"povo\", \"esse\", \"assista\", \"voce\", \"liberdade\", \"dinheiro\", \"aqui\", \"nas\", \"melhor\", \"seu\", \"por\", \"so\", \"quem\", \"esta\", \"apoio\", \"muito\", \"parabens\", \"ha\", \"lula\", \"temos\", \"nossa\", \"os\", \"mais\", \"de\", \"e\", \"do\", \"o\", \"que\", \"a\", \"da\", \"no\", \"para\", \"jair_bolsonaro\", \"jair\", \"fala\", \"bolsonaro\", \"sobre\", \"lula\", \"entrevista\", \"qualquer\", \"presidente\", \"caso\", \"seus\", \"assista\", \"das\", \"nome\", \"contra\", \"melhor\", \"poder\", \"sendo\", \"paulo\", \"por\", \"vamos\", \"os\", \"e\", \"esquerda\", \"de\", \"foi\", \"em\", \"o\", \"bom\", \"aos\", \"na\", \"da\", \"a\", \"para\", \"do\", \"com\", \"ao\", \"no\", \"sempre\", \"pela_consideracao\", \"ou\", \"nosso\", \"eleicoes\", \"grato\", \"pesquisa\", \"consideracao\", \"trabalho\", \"maior\", \"voto\", \"sera\", \"pela\", \"entrevista\", \"povo\", \"nome\", \"corrupcao\", \"canal\", \"tambem\", \"futuro\", \"ao\", \"midia\", \"aos\", \"vamos\", \"sobre\", \"ter\", \"tudo\", \"nossa\", \"para\", \"nao\", \"sendo\", \"mais\", \"de\", \"o\", \"e\", \"que\", \"a\", \"por\", \"em\", \"com\", \"da\", \"no\", \"um\"], \"Freq\": [191.0, 107.0, 522.0, 108.0, 312.0, 85.0, 67.0, 90.0, 401.0, 583.0, 297.0, 57.0, 140.0, 1037.0, 287.0, 309.0, 847.0, 49.0, 95.0, 1147.0, 172.0, 68.0, 118.0, 40.0, 36.0, 40.0, 102.0, 32.0, 82.0, 298.0, 22.35248374938965, 21.019865036010742, 21.88278579711914, 21.665666580200195, 23.3148136138916, 51.19651412963867, 49.31586837768555, 15.444490432739258, 15.93292236328125, 13.206016540527344, 23.763362884521484, 11.906177520751953, 67.5092544555664, 14.251689910888672, 18.381437301635742, 13.828251838684082, 63.06206130981445, 13.203709602355957, 14.532456398010254, 8.582965850830078, 10.147401809692383, 9.630166053771973, 8.674705505371094, 107.84961700439453, 183.87278747558594, 9.559523582458496, 8.271105766296387, 11.749421119689941, 9.572857856750488, 7.623676300048828, 20.708358764648438, 87.93812561035156, 78.7798843383789, 196.55177307128906, 13.375382423400879, 156.66909790039062, 140.70803833007812, 126.48094177246094, 36.8953971862793, 76.05126953125, 46.926937103271484, 35.763553619384766, 32.967071533203125, 25.124269485473633, 30.84084701538086, 39.35648727416992, 33.03304672241211, 25.8655948638916, 44.9752082824707, 31.923505783081055, 35.49142837524414, 23.570987701416016, 15.58258056640625, 15.125362396240234, 13.073620796203613, 27.3950138092041, 46.64688491821289, 13.185543060302734, 9.97636604309082, 7.4250168800354, 12.982950210571289, 7.888744354248047, 8.531716346740723, 5.825705528259277, 6.661010265350342, 26.057132720947266, 247.9452667236328, 9.284517288208008, 5.4139628410339355, 6.179698944091797, 38.73473358154297, 5.591627597808838, 183.5623016357422, 109.74853515625, 32.670658111572266, 7.3150553703308105, 9.511687278747559, 59.02361297607422, 27.273439407348633, 29.500843048095703, 64.26162719726562, 109.69212341308594, 38.29536819458008, 33.31028747558594, 57.09291076660156, 28.459945678710938, 23.320180892944336, 17.075754165649414, 16.300214767456055, 25.188188552856445, 22.083118438720703, 20.418941497802734, 37.17518997192383, 13.309432029724121, 23.311479568481445, 16.33263397216797, 21.698108673095703, 11.949748992919922, 10.311758041381836, 23.843700408935547, 33.45167922973633, 16.391063690185547, 19.522205352783203, 9.81932544708252, 8.074509620666504, 15.593300819396973, 7.254830837249756, 11.814454078674316, 12.84959888458252, 15.043559074401855, 6.453006267547607, 6.73038911819458, 223.32261657714844, 19.28453826904297, 14.621261596679688, 72.36805725097656, 93.90506744384766, 7.287509441375732, 144.3464813232422, 32.69313049316406, 70.49946594238281, 21.648433685302734, 127.74930572509766, 82.95054626464844, 20.59680938720703, 59.84151840209961, 20.385190963745117, 18.402109146118164, 17.94013023376465, 19.733903884887695, 18.674589157104492, 29.111574172973633, 17.429088592529297, 18.44145393371582, 22.512418746948242, 31.25072479248047, 27.132585525512695, 12.219815254211426, 12.484295845031738, 14.180614471435547, 10.95740795135498, 32.15784454345703, 14.609786033630371, 11.286544799804688, 12.533320426940918, 34.40392303466797, 29.340129852294922, 9.53988265991211, 89.43814849853516, 6.6808624267578125, 12.820991516113281, 6.48518180847168, 20.239654541015625, 22.935476303100586, 33.626197814941406, 24.510921478271484, 6.953425407409668, 207.7831573486328, 8.562572479248047, 62.66590881347656, 11.593091011047363, 228.49058532714844, 86.51055145263672, 45.98293685913086, 72.0626449584961, 47.628047943115234, 21.3363037109375, 22.18734359741211, 20.54205894470215, 16.801469802856445, 21.52265167236328, 15.379812240600586, 15.372025489807129, 41.02425003051758, 30.324800491333008, 17.595497131347656, 28.436288833618164, 12.11687183380127, 19.485628128051758, 248.10000610351562, 32.57744216918945, 178.6276092529297, 42.926876068115234, 17.2581729888916, 58.83268737792969, 15.871923446655273, 5.916374206542969, 8.950729370117188, 13.401907920837402, 10.797181129455566, 21.25687026977539, 27.71308135986328, 63.164024353027344, 13.455957412719727, 49.913997650146484, 4.78957462310791, 10.847384452819824, 44.52470779418945, 38.61380386352539, 133.21742248535156, 11.996822357177734, 6.409679889678955, 3.4139885902404785, 4.5281853675842285, 127.44798278808594, 73.08258056640625, 73.32833099365234, 11.86127758026123, 11.86008358001709, 20.096925735473633, 37.94453430175781, 18.81691551208496, 19.427352905273438, 75.7910385131836, 14.967235565185547, 25.66910171508789, 10.932059288024902, 16.16880226135254, 114.62507629394531, 113.29838562011719, 55.499393463134766, 6.529755592346191, 33.039833068847656, 12.204026222229004, 9.694425582885742, 5.740932941436768, 5.225576877593994, 25.270923614501953, 22.77710723876953, 20.263965606689453, 10.779458999633789, 10.229387283325195, 31.442079544067383, 3.698549747467041, 3.672133445739746, 4.490163326263428, 3.9751217365264893, 12.456183433532715, 3.069732189178467, 4.721676349639893, 10.343108177185059, 82.32295989990234, 78.72991180419922, 76.87771606445312, 16.254323959350586, 27.552804946899414, 26.401653289794922, 14.834797859191895, 16.512226104736328, 14.255363464355469, 84.34432220458984, 107.63294219970703, 35.65316390991211, 24.416074752807617, 30.750720977783203, 21.561037063598633, 32.735633850097656, 11.919483184814453, 10.566608428955078, 31.57505226135254, 16.768024444580078, 131.40444946289062, 12.2900972366333, 20.157115936279297, 38.61366653442383, 42.55807876586914, 19.952804565429688, 9.500553131103516, 17.208112716674805, 5.761623859405518, 14.65106201171875, 6.268207550048828, 11.190530776977539, 7.743667125701904, 5.785987854003906, 2.7462642192840576, 2.556063175201416, 10.807391166687012, 2.4207491874694824, 5.33470344543457, 9.993202209472656, 31.305374145507812, 71.5705795288086, 21.552518844604492, 55.03812789916992, 53.23051071166992, 15.354676246643066, 12.331671714782715, 14.358519554138184, 31.837478637695312, 25.482234954833984, 20.849761962890625, 34.99862289428711, 16.80476951599121, 72.59396362304688, 16.612258911132812, 13.501543045043945, 14.690539360046387, 11.02043342590332, 8.540085792541504, 10.232701301574707, 8.044931411743164, 6.016868591308594, 4.917027950286865, 8.535848617553711, 4.70956563949585, 12.002633094787598, 36.06385040283203, 7.187522888183594, 11.39789867401123, 15.44278621673584, 3.7893643379211426, 10.099794387817383, 6.126946926116943, 7.196779727935791, 6.411275863647461, 3.881995916366577, 8.213143348693848, 24.10948371887207, 22.50762176513672, 103.48094177246094, 106.0309066772461, 52.44552230834961, 63.972686767578125, 39.341487884521484, 36.79202651977539, 13.761762619018555, 11.888032913208008, 8.893630981445312, 48.7271614074707, 105.34044647216797, 30.500858306884766, 156.10560607910156, 35.62836837768555, 14.690656661987305, 11.353718757629395, 5.088645935058594, 5.443881034851074, 4.841854095458984, 5.571052074432373, 3.5487794876098633, 9.7987699508667, 3.662961006164551, 10.705443382263184, 2.9613122940063477, 3.2054977416992188, 2.5881073474884033, 4.382588863372803, 19.64478302001953, 3.715799570083618, 18.129114151000977, 107.87361145019531, 6.9041008949279785, 93.9521713256836, 3.4201455116271973, 29.382884979248047, 62.502132415771484, 1.9561251401901245, 3.4655027389526367, 11.74768352508545, 22.373056411743164, 48.000244140625, 16.947093963623047, 22.514360427856445, 14.15073013305664, 4.905838966369629, 4.416231632232666, 3.7663323879241943, 20.559757232666016, 54.2797737121582, 60.71879959106445, 16.98013687133789, 14.569697380065918, 15.218137741088867, 16.145198822021484, 9.850616455078125, 8.568431854248047, 10.362303733825684, 13.14278507232666, 26.906742095947266, 10.173446655273438, 6.569521427154541, 4.306675910949707, 5.3944478034973145, 4.229399681091309, 5.103151321411133, 3.756587028503418, 16.1853084564209, 5.689855575561523, 5.359811782836914, 3.384793996810913, 9.31506061553955, 2.083566665649414, 3.1736984252929688, 4.652234077453613, 23.040632247924805, 20.253326416015625, 1.609084963798523, 10.740598678588867, 52.76036071777344, 43.8913688659668, 53.384769439697266, 27.684385299682617, 35.7161750793457, 11.180487632751465, 15.90217399597168, 11.445167541503906, 10.984047889709473, 7.492400646209717, 6.118862628936768], \"Total\": [191.0, 107.0, 522.0, 108.0, 312.0, 85.0, 67.0, 90.0, 401.0, 583.0, 297.0, 57.0, 140.0, 1037.0, 287.0, 309.0, 847.0, 49.0, 95.0, 1147.0, 172.0, 68.0, 118.0, 40.0, 36.0, 40.0, 102.0, 32.0, 82.0, 298.0, 24.209619522094727, 23.261377334594727, 25.196496963500977, 26.420446395874023, 32.11537551879883, 71.76410675048828, 71.52249908447266, 24.809616088867188, 28.318416595458984, 23.909181594848633, 46.72282028198242, 23.582067489624023, 136.16412353515625, 28.916786193847656, 43.03934860229492, 33.878211975097656, 155.31411743164062, 32.916725158691406, 37.2985725402832, 22.504802703857422, 26.946308135986328, 26.30866813659668, 23.93976593017578, 298.7378845214844, 583.291259765625, 31.024620056152344, 27.519012451171875, 39.19615173339844, 32.037940979003906, 25.651023864746094, 70.29286193847656, 312.81304931640625, 287.37548828125, 847.6868286132812, 45.39878845214844, 1147.446533203125, 1037.7364501953125, 948.5072021484375, 172.89605712890625, 522.4056396484375, 297.0704040527344, 194.57418823242188, 183.67105102539062, 108.16692352294922, 173.72427368164062, 374.7325134277344, 309.7688293457031, 29.37692642211914, 53.672271728515625, 39.971702575683594, 46.351295471191406, 37.81187438964844, 28.084592819213867, 29.37843894958496, 28.49854278564453, 62.19667434692383, 109.82024383544922, 32.037940979003906, 26.946308135986328, 22.34744644165039, 39.82509994506836, 24.689496994018555, 28.25344467163086, 21.51961898803711, 26.37786102294922, 108.16692352294922, 1037.7364501953125, 39.103668212890625, 23.508941650390625, 27.706565856933594, 183.67105102539062, 27.519012451171875, 948.5072021484375, 583.291259765625, 173.72427368164062, 41.6361198425293, 56.82905578613281, 374.7325134277344, 172.89605712890625, 194.57418823242188, 522.4056396484375, 1147.446533203125, 297.0704040527344, 298.7378845214844, 847.6868286132812, 401.7080078125, 309.7688293457031, 155.31411743164062, 312.81304931640625, 27.381507873535156, 30.49384880065918, 30.71613311767578, 61.677101135253906, 22.558746337890625, 42.59346008300781, 30.26401138305664, 44.78636169433594, 25.651023864746094, 23.508941650390625, 56.20582962036133, 82.146728515625, 41.76856994628906, 51.94855880737305, 28.49854278564453, 23.704559326171875, 46.72282028198242, 22.79443359375, 37.2985725402832, 41.05410385131836, 54.37841796875, 23.63452911376953, 25.160219192504883, 847.6868286132812, 74.15735626220703, 58.05657196044922, 287.37548828125, 374.7325134277344, 29.37843894958496, 583.291259765625, 140.1681671142578, 401.7080078125, 105.7465591430664, 1147.446533203125, 948.5072021484375, 109.57823944091797, 1037.7364501953125, 183.67105102539062, 136.16412353515625, 173.72427368164062, 309.7688293457031, 522.4056396484375, 39.222412109375, 24.79693603515625, 26.37786102294922, 33.04182815551758, 52.16380310058594, 46.479305267333984, 22.79443359375, 23.93976593017578, 28.118711471557617, 22.356565475463867, 65.8197250366211, 30.30396842956543, 23.883407592773438, 27.519012451171875, 82.146728515625, 74.15735626220703, 26.30866813659668, 287.37548828125, 21.700777053833008, 41.76856994628906, 21.776025772094727, 70.29286193847656, 89.25910949707031, 136.16412353515625, 105.7465591430664, 30.49384880065918, 948.5072021484375, 39.82509994506836, 298.7378845214844, 56.82905578613281, 1147.446533203125, 847.6868286132812, 401.7080078125, 1037.7364501953125, 583.291259765625, 173.72427368164062, 194.57418823242188, 191.2552490234375, 109.82024383544922, 309.7688293457031, 155.31411743164062, 297.0704040527344, 44.781341552734375, 33.119789123535156, 21.26888084411621, 41.6361198425293, 21.700777053833008, 39.16706085205078, 522.4056396484375, 68.64128112792969, 401.7080078125, 108.16692352294922, 54.37841796875, 194.57418823242188, 58.70488357543945, 22.147869110107422, 33.878211975097656, 56.82905578613281, 49.498252868652344, 105.7465591430664, 155.31411743164062, 374.7325134277344, 83.281982421875, 309.7688293457031, 31.024620056152344, 74.15735626220703, 312.81304931640625, 297.0704040527344, 1037.7364501953125, 95.17510986328125, 52.16380310058594, 28.118711471557617, 37.2985725402832, 1147.446533203125, 847.6868286132812, 948.5072021484375, 109.57823944091797, 183.67105102539062, 20.755390167236328, 40.13093948364258, 20.382654190063477, 25.002826690673828, 140.1681671142578, 29.028369903564453, 51.94855880737305, 24.010608673095703, 38.85536193847656, 297.0704040527344, 309.7688293457031, 172.89605712890625, 20.468612670898438, 118.2950668334961, 45.39878845214844, 39.103668212890625, 23.582067489624023, 22.34744644165039, 109.82024383544922, 109.57823944091797, 102.5913314819336, 56.20582962036133, 61.087825775146484, 194.57418823242188, 23.508941650390625, 23.704559326171875, 31.024620056152344, 28.25344467163086, 89.25910949707031, 22.514204025268555, 35.29229736328125, 83.281982421875, 948.5072021484375, 1037.7364501953125, 1147.446533203125, 173.72427368164062, 374.7325134277344, 847.6868286132812, 298.7378845214844, 522.4056396484375, 583.291259765625, 85.2452621459961, 108.9212875366211, 36.42566680908203, 25.13572120666504, 31.926923751831055, 29.719470977783203, 60.44541549682617, 22.514204025268555, 21.776025772094727, 68.64128112792969, 37.82795715332031, 312.81304931640625, 29.43270492553711, 49.498252868652344, 95.17510986328125, 118.2950668334961, 58.05657196044922, 28.118711471557617, 56.20582962036133, 22.417879104614258, 58.70488357543945, 31.024620056152344, 62.19667434692383, 46.479305267333984, 35.29229736328125, 21.26888084411621, 20.529258728027344, 90.15980529785156, 23.883407592773438, 56.82905578613281, 109.82024383544922, 374.7325134277344, 948.5072021484375, 298.7378845214844, 1037.7364501953125, 1147.446533203125, 309.7688293457031, 297.0704040527344, 847.6868286132812, 32.6295051574707, 26.215681076049805, 22.04662322998047, 40.41603088378906, 20.794713973999023, 90.15980529785156, 28.94887351989746, 25.160219192504883, 27.581933975219727, 24.03883171081543, 20.468612670898438, 32.916725158691406, 27.706565856933594, 22.356565475463867, 22.504802703857422, 39.19615173339844, 22.417879104614258, 61.087825775146484, 183.67105102539062, 41.05410385131836, 65.8197250366211, 89.25910949707031, 22.514204025268555, 60.44541549682617, 37.82795715332031, 46.479305267333984, 43.03934860229492, 26.30866813659668, 58.70488357543945, 173.72427368164062, 172.89605712890625, 1037.7364501953125, 1147.446533203125, 522.4056396484375, 847.6868286132812, 583.291259765625, 948.5072021484375, 401.7080078125, 297.0704040527344, 298.7378845214844, 49.49031066894531, 107.35954284667969, 35.00276184082031, 191.2552490234375, 102.5913314819336, 43.03934860229492, 38.85536193847656, 23.63452911376953, 28.318416595458984, 25.651023864746094, 32.11537551879883, 20.468612670898438, 56.82905578613281, 22.558746337890625, 70.29286193847656, 22.417879104614258, 28.94887351989746, 23.704559326171875, 40.41603088378906, 183.67105102539062, 35.29229736328125, 173.72427368164062, 1147.446533203125, 74.15735626220703, 1037.7364501953125, 42.59346008300781, 374.7325134277344, 847.6868286132812, 29.719470977783203, 54.37841796875, 194.57418823242188, 401.7080078125, 948.5072021484375, 298.7378845214844, 522.4056396484375, 309.7688293457031, 109.57823944091797, 297.0704040527344, 62.19667434692383, 21.285343170166016, 57.357391357421875, 67.60867309570312, 20.090736389160156, 20.529258728027344, 22.147869110107422, 29.43270492553711, 23.12458610534668, 21.51961898803711, 28.916786193847656, 37.81187438964844, 95.17510986328125, 38.85536193847656, 27.581933975219727, 22.558746337890625, 29.37843894958496, 25.002826690673828, 30.30396842956543, 24.809616088867188, 109.57823944091797, 39.16706085205078, 54.37841796875, 35.29229736328125, 102.5913314819336, 24.689496994018555, 39.82509994506836, 58.70488357543945, 298.7378845214844, 287.37548828125, 23.704559326171875, 172.89605712890625, 1037.7364501953125, 847.6868286132812, 1147.446533203125, 583.291259765625, 948.5072021484375, 183.67105102539062, 374.7325134277344, 309.7688293457031, 401.7080078125, 297.0704040527344, 312.81304931640625], \"Category\": [\"Default\", \"Default\", \"Default\", \"Default\", \"Default\", \"Default\", \"Default\", \"Default\", \"Default\", \"Default\", \"Default\", \"Default\", \"Default\", \"Default\", \"Default\", \"Default\", \"Default\", \"Default\", \"Default\", \"Default\", \"Default\", \"Default\", \"Default\", \"Default\", \"Default\", \"Default\", \"Default\", \"Default\", \"Default\", \"Default\", \"Topic1\", \"Topic1\", \"Topic1\", \"Topic1\", \"Topic1\", \"Topic1\", \"Topic1\", \"Topic1\", \"Topic1\", \"Topic1\", \"Topic1\", \"Topic1\", \"Topic1\", \"Topic1\", \"Topic1\", \"Topic1\", \"Topic1\", \"Topic1\", \"Topic1\", \"Topic1\", \"Topic1\", \"Topic1\", \"Topic1\", \"Topic1\", \"Topic1\", \"Topic1\", \"Topic1\", \"Topic1\", \"Topic1\", \"Topic1\", \"Topic1\", \"Topic1\", \"Topic1\", \"Topic1\", \"Topic1\", \"Topic1\", \"Topic1\", \"Topic1\", \"Topic1\", \"Topic1\", \"Topic1\", \"Topic1\", \"Topic1\", \"Topic1\", \"Topic1\", \"Topic1\", \"Topic1\", \"Topic2\", \"Topic2\", \"Topic2\", \"Topic2\", \"Topic2\", \"Topic2\", \"Topic2\", \"Topic2\", \"Topic2\", \"Topic2\", \"Topic2\", \"Topic2\", \"Topic2\", \"Topic2\", \"Topic2\", \"Topic2\", \"Topic2\", \"Topic2\", \"Topic2\", \"Topic2\", \"Topic2\", \"Topic2\", \"Topic2\", \"Topic2\", \"Topic2\", \"Topic2\", \"Topic2\", \"Topic2\", \"Topic2\", \"Topic2\", \"Topic2\", \"Topic2\", \"Topic2\", \"Topic2\", \"Topic2\", \"Topic2\", \"Topic2\", \"Topic2\", \"Topic2\", \"Topic2\", \"Topic2\", \"Topic2\", \"Topic3\", \"Topic3\", \"Topic3\", \"Topic3\", \"Topic3\", \"Topic3\", \"Topic3\", \"Topic3\", \"Topic3\", \"Topic3\", \"Topic3\", \"Topic3\", \"Topic3\", \"Topic3\", \"Topic3\", \"Topic3\", \"Topic3\", \"Topic3\", \"Topic3\", \"Topic3\", \"Topic3\", \"Topic3\", \"Topic3\", \"Topic3\", \"Topic3\", \"Topic3\", \"Topic3\", \"Topic3\", \"Topic3\", \"Topic3\", \"Topic3\", \"Topic3\", \"Topic3\", \"Topic3\", \"Topic3\", \"Topic3\", \"Topic3\", \"Topic3\", \"Topic3\", \"Topic3\", \"Topic3\", \"Topic3\", \"Topic4\", \"Topic4\", \"Topic4\", \"Topic4\", \"Topic4\", \"Topic4\", \"Topic4\", \"Topic4\", \"Topic4\", \"Topic4\", \"Topic4\", \"Topic4\", \"Topic4\", \"Topic4\", \"Topic4\", \"Topic4\", \"Topic4\", \"Topic4\", \"Topic4\", \"Topic4\", \"Topic4\", \"Topic4\", \"Topic4\", \"Topic4\", \"Topic4\", \"Topic4\", \"Topic4\", \"Topic4\", \"Topic4\", \"Topic4\", \"Topic4\", \"Topic4\", \"Topic4\", \"Topic4\", \"Topic4\", \"Topic4\", \"Topic4\", \"Topic4\", \"Topic4\", \"Topic4\", \"Topic4\", \"Topic4\", \"Topic5\", \"Topic5\", \"Topic5\", \"Topic5\", \"Topic5\", \"Topic5\", \"Topic5\", \"Topic5\", \"Topic5\", \"Topic5\", \"Topic5\", \"Topic5\", \"Topic5\", \"Topic5\", \"Topic5\", \"Topic5\", \"Topic5\", \"Topic5\", \"Topic5\", \"Topic5\", \"Topic5\", \"Topic5\", \"Topic5\", \"Topic5\", \"Topic5\", \"Topic5\", \"Topic5\", \"Topic5\", \"Topic5\", \"Topic5\", \"Topic5\", \"Topic5\", \"Topic5\", \"Topic5\", \"Topic5\", \"Topic5\", \"Topic6\", \"Topic6\", \"Topic6\", \"Topic6\", \"Topic6\", \"Topic6\", \"Topic6\", \"Topic6\", \"Topic6\", \"Topic6\", \"Topic6\", \"Topic6\", \"Topic6\", \"Topic6\", \"Topic6\", \"Topic6\", \"Topic6\", \"Topic6\", \"Topic6\", \"Topic6\", \"Topic6\", \"Topic6\", \"Topic6\", \"Topic6\", \"Topic6\", \"Topic6\", \"Topic6\", \"Topic6\", \"Topic6\", \"Topic6\", \"Topic6\", \"Topic6\", \"Topic6\", \"Topic6\", \"Topic6\", \"Topic6\", \"Topic6\", \"Topic6\", \"Topic6\", \"Topic6\", \"Topic6\", \"Topic7\", \"Topic7\", \"Topic7\", \"Topic7\", \"Topic7\", \"Topic7\", \"Topic7\", \"Topic7\", \"Topic7\", \"Topic7\", \"Topic7\", \"Topic7\", \"Topic7\", \"Topic7\", \"Topic7\", \"Topic7\", \"Topic7\", \"Topic7\", \"Topic7\", \"Topic7\", \"Topic7\", \"Topic7\", \"Topic7\", \"Topic7\", \"Topic7\", \"Topic7\", \"Topic7\", \"Topic7\", \"Topic7\", \"Topic7\", \"Topic7\", \"Topic7\", \"Topic7\", \"Topic7\", \"Topic7\", \"Topic7\", \"Topic7\", \"Topic7\", \"Topic7\", \"Topic8\", \"Topic8\", \"Topic8\", \"Topic8\", \"Topic8\", \"Topic8\", \"Topic8\", \"Topic8\", \"Topic8\", \"Topic8\", \"Topic8\", \"Topic8\", \"Topic8\", \"Topic8\", \"Topic8\", \"Topic8\", \"Topic8\", \"Topic8\", \"Topic8\", \"Topic8\", \"Topic8\", \"Topic8\", \"Topic8\", \"Topic8\", \"Topic8\", \"Topic8\", \"Topic8\", \"Topic8\", \"Topic8\", \"Topic8\", \"Topic8\", \"Topic8\", \"Topic8\", \"Topic8\", \"Topic8\", \"Topic8\", \"Topic8\", \"Topic8\", \"Topic8\", \"Topic8\", \"Topic9\", \"Topic9\", \"Topic9\", \"Topic9\", \"Topic9\", \"Topic9\", \"Topic9\", \"Topic9\", \"Topic9\", \"Topic9\", \"Topic9\", \"Topic9\", \"Topic9\", \"Topic9\", \"Topic9\", \"Topic9\", \"Topic9\", \"Topic9\", \"Topic9\", \"Topic9\", \"Topic9\", \"Topic9\", \"Topic9\", \"Topic9\", \"Topic9\", \"Topic9\", \"Topic9\", \"Topic9\", \"Topic9\", \"Topic9\", \"Topic9\", \"Topic9\", \"Topic9\", \"Topic9\", \"Topic9\", \"Topic9\", \"Topic9\", \"Topic9\", \"Topic9\", \"Topic10\", \"Topic10\", \"Topic10\", \"Topic10\", \"Topic10\", \"Topic10\", \"Topic10\", \"Topic10\", \"Topic10\", \"Topic10\", \"Topic10\", \"Topic10\", \"Topic10\", \"Topic10\", \"Topic10\", \"Topic10\", \"Topic10\", \"Topic10\", \"Topic10\", \"Topic10\", \"Topic10\", \"Topic10\", \"Topic10\", \"Topic10\", \"Topic10\", \"Topic10\", \"Topic10\", \"Topic10\", \"Topic10\", \"Topic10\", \"Topic10\", \"Topic10\", \"Topic10\", \"Topic10\", \"Topic10\", \"Topic10\", \"Topic10\", \"Topic10\", \"Topic10\", \"Topic10\", \"Topic10\", \"Topic10\"], \"logprob\": [30.0, 29.0, 28.0, 27.0, 26.0, 25.0, 24.0, 23.0, 22.0, 21.0, 20.0, 19.0, 18.0, 17.0, 16.0, 15.0, 14.0, 13.0, 12.0, 11.0, 10.0, 9.0, 8.0, 7.0, 6.0, 5.0, 4.0, 3.0, 2.0, 1.0, -4.667200088500977, -4.728700160980225, -4.688399791717529, -4.698400020599365, -4.625100135803223, -3.8385000228881836, -3.8759000301361084, -5.036900043487549, -5.005799770355225, -5.19350004196167, -4.605999946594238, -5.297100067138672, -3.5618999004364014, -5.117300033569336, -4.862800121307373, -5.14739990234375, -3.630000114440918, -5.193699836730957, -5.097799777984619, -5.6244001388549805, -5.456900119781494, -5.509200096130371, -5.613699913024902, -3.093400001525879, -2.5599000453948975, -5.516600131988525, -5.661399841308594, -5.310299873352051, -5.515200138092041, -5.7428998947143555, -4.743599891662598, -3.297499895095825, -3.4075000286102295, -2.4932000637054443, -5.180699825286865, -2.7200000286102295, -2.827500104904175, -2.9340999126434326, -4.166100025177002, -3.442699909210205, -3.925600051879883, -4.197199821472168, -4.278600215911865, -4.550300121307373, -4.345300197601318, -4.101500034332275, -4.276599884033203, -4.2210001945495605, -3.667799949645996, -4.0106000900268555, -3.9047000408172607, -4.313899993896484, -4.727799892425537, -4.757599830627441, -4.90339994430542, -4.163599967956543, -3.6312999725341797, -4.894800186157227, -5.173699855804443, -5.469099998474121, -4.910299777984619, -5.4085001945495605, -5.3302001953125, -5.711699962615967, -5.577700138092041, -4.213699817657471, -1.9607000350952148, -5.24560022354126, -5.784999847412109, -5.652699947357178, -3.817199945449829, -5.752699851989746, -2.261399984359741, -2.7757999897003174, -3.987499952316284, -5.484000205993652, -5.221399784088135, -3.3959999084472656, -4.168000221252441, -4.0894999504089355, -3.311000108718872, -2.7762999534606934, -3.8285999298095703, -3.968100070953369, -3.42930006980896, -4.125500202178955, -4.3246002197265625, -4.636300086975098, -4.682799816131592, -4.239200115203857, -4.370800018310547, -4.449100017547607, -3.8499999046325684, -4.877099990844727, -4.316699981689453, -4.672399997711182, -4.388400077819824, -4.984899997711182, -5.132299900054932, -4.294099807739258, -3.9554998874664307, -4.668900012969971, -4.494100093841553, -5.181300163269043, -5.3769001960754395, -4.718800067901611, -5.48390007019043, -4.996300220489502, -4.912300109863281, -4.754700183868408, -5.601099967956543, -5.559000015258789, -2.056999921798706, -4.50629997253418, -4.783100128173828, -3.183799982070923, -2.92330002784729, -5.479400157928467, -2.4934000968933105, -3.9783999919891357, -3.2100000381469727, -4.390699863433838, -2.615499973297119, -3.0473999977111816, -4.440499782562256, -3.3738999366760254, -4.450799942016602, -4.553100109100342, -4.57859992980957, -4.48330020904541, -4.538400173187256, -4.05620002746582, -4.569200038909912, -4.512700080871582, -4.313199996948242, -3.985300064086914, -4.1265997886657715, -4.924200057983398, -4.9028000831604, -4.775400161743164, -5.033299922943115, -3.9565999507904053, -4.74560022354126, -5.003699779510498, -4.898900032043457, -3.8891000747680664, -4.048299789428711, -5.171800136566162, -2.933799982070923, -5.52810001373291, -4.876200199127197, -5.557799816131592, -4.4197001457214355, -4.294600009918213, -3.9119999408721924, -4.2281999588012695, -5.488100051879883, -2.0908000469207764, -5.279900074005127, -3.2894999980926514, -4.976900100708008, -1.9958000183105469, -2.9670000076293945, -3.5989999771118164, -3.1498000621795654, -3.5638999938964844, -4.3668999671936035, -4.3277997970581055, -4.404799938201904, -4.605800151824951, -4.3582000732421875, -4.694200038909912, -4.694799900054932, -3.6775999069213867, -3.97979998588562, -4.524099826812744, -4.044099807739258, -4.89709997177124, -4.422100067138672, -1.8779000043869019, -3.908099889755249, -2.206399917602539, -3.632200002670288, -4.543399810791016, -3.316999912261963, -4.627200126647949, -5.613999843597412, -5.199999809265137, -4.796299934387207, -5.012499809265137, -4.335100173950195, -4.069799900054932, -3.246000051498413, -4.792300224304199, -3.4814000129699707, -5.825300216674805, -5.007800102233887, -3.5957000255584717, -3.738100051879883, -2.499799966812134, -4.907100200653076, -5.533899784088135, -6.163899898529053, -5.881400108337402, -2.5439999103546143, -3.100100040435791, -3.0968000888824463, -4.918499946594238, -4.918600082397461, -4.110799789428711, -3.4751999378204346, -4.176599979400635, -4.144700050354004, -2.783400058746338, -4.4054999351501465, -3.8661000728607178, -4.719699859619141, -4.3282999992370605, -2.3696999549865723, -2.3812999725341797, -3.0950000286102295, -5.235000133514404, -3.6136999130249023, -4.609600067138672, -4.839799880981445, -5.363699913024902, -5.457799911499023, -3.881700038909912, -3.985599994659424, -4.102499961853027, -4.733699798583984, -4.786099910736084, -3.6631999015808105, -5.803400039672852, -5.8105998039245605, -5.609499931335449, -5.731299877166748, -4.589200019836426, -5.989799976348877, -5.559199810028076, -4.775000095367432, -2.700700044631958, -2.745300054550171, -2.769200086593628, -4.322999954223633, -3.795300006866455, -3.837899923324585, -4.414400100708008, -4.307300090789795, -4.45419979095459, -2.63070011138916, -2.3868000507354736, -3.4916999340057373, -3.870300054550171, -3.639699935913086, -3.9946999549865723, -3.5771000385284424, -4.587399959564209, -4.707900047302246, -3.6131999492645264, -4.246099948883057, -2.187299966812134, -4.55679988861084, -4.061999797821045, -3.4119999408721924, -3.31469988822937, -4.072199821472168, -4.814199924468994, -4.220200061798096, -5.3144001960754395, -4.381100177764893, -5.230100154876709, -4.6504998207092285, -5.018700122833252, -5.310100078582764, -6.055300235748291, -6.127099990844727, -4.685299873352051, -6.18149995803833, -5.391300201416016, -4.763700008392334, -3.621799945831299, -2.7948999404907227, -3.9951000213623047, -3.057499885559082, -3.09089994430542, -4.334199905395508, -4.553400039672852, -4.401199817657471, -3.5072999000549316, -3.7298998832702637, -3.9305999279022217, -3.412600040435791, -4.146200180053711, -2.683000087738037, -4.157800197601318, -4.365099906921387, -4.280700206756592, -4.5680999755859375, -4.8231000900268555, -4.642300128936768, -4.882900238037109, -5.173299789428711, -5.375199794769287, -4.823599815368652, -5.418300151824951, -4.482800006866455, -3.3826000690460205, -4.995500087738037, -4.5345001220703125, -4.230800151824951, -5.635700225830078, -4.655399799346924, -5.155200004577637, -4.99429988861084, -5.109799861907959, -5.611499786376953, -4.862199783325195, -3.7853000164031982, -3.8540000915527344, -2.3285000324249268, -2.3041999340057373, -3.0081000328063965, -2.8094000816345215, -3.295599937438965, -3.362600088119507, -4.3460001945495605, -4.492400169372559, -4.782599925994873, -3.041599988937378, -2.270699977874756, -3.5100998878479004, -1.8773000240325928, -3.3547000885009766, -4.240699768066406, -4.498300075531006, -5.300899982452393, -5.233399868011475, -5.350599765777588, -5.210299968719482, -5.661300182342529, -4.645599842071533, -5.6296000480651855, -4.55709981918335, -5.842199802398682, -5.763000011444092, -5.976900100708008, -5.450200080871582, -3.9500999450683594, -5.615300178527832, -4.030300140380859, -2.2469000816345215, -4.995699882507324, -2.3850998878479004, -5.698200225830078, -3.547499895095825, -2.7927000522613525, -6.256899833679199, -5.684999942779541, -4.464200019836426, -3.819999933242798, -3.0566999912261963, -4.097799777984619, -3.813699960708618, -4.27810001373291, -5.337399959564209, -5.442599773406982, -5.601799964904785, -3.6064999103546143, -2.635699987411499, -2.5236001014709473, -3.797800064086914, -3.950900077819824, -3.9072999954223633, -3.8482000827789307, -4.342299938201904, -4.4816999435424805, -4.291600227355957, -4.053899765014648, -3.337399959564209, -4.309999942779541, -4.747399806976318, -5.169600009918213, -4.944399833679199, -5.18779993057251, -5.0, -5.306300163269043, -3.8457000255584717, -4.89109992980957, -4.950900077819824, -5.4105000495910645, -4.398200035095215, -5.895699977874756, -5.474899768829346, -5.09250020980835, -3.4925999641418457, -3.621500015258789, -6.154099941253662, -4.255799770355225, -2.664099931716919, -2.848099946975708, -2.6522998809814453, -3.3089001178741455, -3.0541999340057373, -4.21560001373291, -3.8633999824523926, -4.192200183868408, -4.233399868011475, -4.615900039672852, -4.818399906158447], \"loglift\": [30.0, 29.0, 28.0, 27.0, 26.0, 25.0, 24.0, 23.0, 22.0, 21.0, 20.0, 19.0, 18.0, 17.0, 16.0, 15.0, 14.0, 13.0, 12.0, 11.0, 10.0, 9.0, 8.0, 7.0, 6.0, 5.0, 4.0, 3.0, 2.0, 1.0, 1.7229000329971313, 1.7014000415802002, 1.6617000102996826, 1.6043000221252441, 1.4824999570846558, 1.465000033378601, 1.430899977684021, 1.3286999464035034, 1.2275999784469604, 1.2091000080108643, 1.1266000270843506, 1.1193000078201294, 1.101099967956543, 1.0951999425888062, 0.9519000053405762, 0.9065999984741211, 0.9014000296592712, 0.88919997215271, 0.8600999712944031, 0.8388000130653381, 0.8260999917984009, 0.7976999878883362, 0.7875999808311462, 0.7839000225067139, 0.6482999920845032, 0.6255000233650208, 0.600600004196167, 0.5978999733924866, 0.5946999788284302, 0.5893999934196472, 0.5806000232696533, 0.5336999893188477, 0.5085999965667725, 0.3411000072956085, 0.5806000232696533, -0.18850000202655792, -0.19539999961853027, -0.21209999918937683, 0.2581000030040741, -0.12430000305175781, -0.04270000010728836, 0.1088000014424324, 0.08510000258684158, 0.34290000796318054, 0.07410000264644623, -0.45080000162124634, -0.43560001254081726, 1.975600004196167, 1.9261000156402588, 1.878100037574768, 1.8358999490737915, 1.6303000450134277, 1.513800024986267, 1.4390000104904175, 1.323699951171875, 1.2829999923706055, 1.2467000484466553, 1.2151000499725342, 1.1093000173568726, 1.001099944114685, 0.9819999933242798, 0.9620000123977661, 0.9054999947547913, 0.7961999773979187, 0.7267000079154968, 0.6794999837875366, 0.6712999939918518, 0.6650000214576721, 0.6345000267028809, 0.6025000214576721, 0.546500027179718, 0.5092999935150146, 0.46059998869895935, 0.4323999881744385, 0.4318999946117401, 0.36390000581741333, 0.31540000438690186, 0.25459998846054077, 0.25609999895095825, 0.21649999916553497, 0.007400000002235174, -0.24469999969005585, 0.05429999902844429, -0.09080000221729279, -0.5949000120162964, -0.5443000197410583, -0.483599990606308, -0.10490000247955322, -0.8514999747276306, 2.0278000831604004, 1.7884999513626099, 1.7029000520706177, 1.6050000190734863, 1.5836000442504883, 1.5084999799728394, 1.4945000410079956, 1.3866000175476074, 1.3473999500274658, 1.2870999574661255, 1.2537000179290771, 1.2128000259399414, 1.1757999658584595, 1.1325000524520874, 1.045699954032898, 1.0342999696731567, 1.0139000415802002, 0.9664000272750854, 0.9616000056266785, 0.9496999979019165, 0.826200008392334, 0.8130999803543091, 0.7925999760627747, 0.777400016784668, 0.7644000053405762, 0.7322999835014343, 0.732200026512146, 0.7272999882698059, 0.7171000242233276, 0.7148000001907349, 0.6556000113487244, 0.3711000084877014, 0.5250999927520752, -0.08399999886751175, -0.3253999948501587, 0.43970000743865967, -0.7419000267982483, -0.08709999918937683, 0.10980000346899033, -0.15919999778270721, -0.6421999931335449, -1.2200000286102295, 1.8514000177383423, 1.7970000505447388, 1.791599988937378, 1.7657999992370605, 1.6371999979019165, 1.611299991607666, 1.5261000394821167, 1.4984999895095825, 1.465000033378601, 1.436400055885315, 1.4333000183105469, 1.4199999570846558, 1.399999976158142, 1.3631000518798828, 1.2791999578475952, 1.2223000526428223, 1.13510000705719, 0.9822999835014343, 0.9714000225067139, 0.968500018119812, 0.9383000135421753, 0.9045000076293945, 0.7907000184059143, 0.7509999871253967, 0.6876000165939331, 0.6712999939918518, 0.6312000155448914, 0.612500011920929, 0.5878000259399414, 0.5598999857902527, 0.5357999801635742, -0.13269999623298645, -0.017899999395012856, -0.5177000164985657, -0.35569998621940613, 0.05249999836087227, -0.021700000390410423, -0.08160000294446945, 0.27219998836517334, -0.5171999931335449, -0.16279999911785126, -0.8119000196456909, 2.0975000858306885, 2.0969998836517334, 1.9954999685287476, 1.8037999868392944, 1.6023999452590942, 1.4869999885559082, 1.440500020980835, 1.4398000240325928, 1.3746999502182007, 1.2609000205993652, 1.0374000072479248, 0.9890000224113464, 0.8770999908447266, 0.8651000261306763, 0.8540999889373779, 0.7404999732971191, 0.6625000238418579, 0.5807999968528748, 0.46160000562667847, 0.40459999442100525, 0.36230000853538513, 0.3596000075340271, 0.31679999828338623, 0.2628999948501587, 0.23559999465942383, 0.14480000734329224, 0.13230000436306, 0.11400000005960464, 0.0885000005364418, 0.07660000026226044, 0.07649999856948853, -0.012500000186264515, -0.26579999923706055, -0.3747999966144562, -0.03819999843835831, -0.5547999739646912, 2.433199882507324, 2.4094998836517334, 2.3856000900268555, 2.213200092315674, 1.850600004196167, 1.8030999898910522, 1.7604999542236328, 1.6786999702453613, 1.5887000560760498, 1.513200044631958, 1.4596999883651733, 1.329200029373169, 1.3229999542236328, 1.190000057220459, 1.1518000364303589, 1.0707999467849731, 1.0526000261306763, 1.0123000144958496, 0.9962999820709229, 0.894599974155426, 0.8435999751091003, 0.8141000270843506, 0.6783999800682068, 0.642799973487854, 0.6159999966621399, 0.600600004196167, 0.5325999855995178, 0.5042999982833862, 0.49619999527931213, 0.47290000319480896, 0.45399999618530273, 0.37959998846054077, 0.021199999377131462, -0.11330000311136246, -0.23759999871253967, 0.09640000015497208, -0.1446000039577484, -1.003600001335144, -0.5371000170707703, -0.9889000058174133, -1.2460999488830566, 2.500699996948242, 2.4993999004364014, 2.489799976348877, 2.4821999073028564, 2.4737000465393066, 2.1903998851776123, 1.8980000019073486, 1.8753000497817993, 1.7882000207901, 1.7347999811172485, 1.697700023651123, 1.6440000534057617, 1.6380000114440918, 1.6129000186920166, 1.6092000007629395, 1.4889999628067017, 1.4431999921798706, 1.426200032234192, 1.3276000022888184, 1.1526000499725342, 1.1232999563217163, 0.9120000004768372, 0.7961000204086304, 0.7192000150680542, 0.7031000256538391, 0.4643000066280365, 0.4278999865055084, 0.38989999890327454, 0.22220000624656677, 0.14550000429153442, 0.11429999768733978, 0.02889999933540821, -0.07289999723434448, -0.11779999732971191, -0.4255000054836273, -0.5594000220298767, -0.49309998750686646, -0.6704999804496765, -1.5669000148773193, 2.584399938583374, 2.5806000232696533, 2.553100109100342, 2.4649999141693115, 2.395900011062622, 2.3922998905181885, 2.0536000728607178, 1.9865000247955322, 1.9789999723434448, 1.8289999961853027, 1.7347999811172485, 1.440600037574768, 1.3723000288009644, 1.2963999509811401, 1.0879000425338745, 1.0846999883651733, 1.048699975013733, 0.9818000197410583, 0.9811000227928162, 0.8664000034332275, 0.8554999828338623, 0.8546000123023987, 0.8270000219345093, 0.8197000026702881, 0.7886000275611877, 0.7436000108718872, 0.7049000263214111, 0.6953999996185303, 0.6421999931335449, 0.6341000199317932, 0.5701000094413757, 0.303600013256073, 0.227400004863739, 0.31029999256134033, 0.024900000542402267, -0.08739999681711197, -0.6406000256538391, -0.7649000287055969, -0.609499990940094, -0.9053000211715698, 2.633500099182129, 2.630000114440918, 2.5113000869750977, 2.4458999633789062, 1.5914000272750854, 1.5741000175476074, 1.4186999797821045, 1.1132999658584595, 1.0, 0.9817000031471252, 0.8971999883651733, 0.8967000246047974, 0.8912000060081482, 0.8310999870300293, 0.7670999765396118, 0.6248000264167786, 0.44830000400543213, 0.4343000054359436, 0.42739999294281006, 0.41370001435279846, 0.3978999853134155, 0.3889999985694885, 0.2847000062465668, 0.27489998936653137, 0.24699999392032623, 0.12700000405311584, 0.10320000350475311, 0.04170000180602074, -0.07180000096559525, -0.10409999638795853, -0.1581999957561493, -0.23890000581741333, -0.33469998836517334, -0.22050000727176666, -0.4952999949455261, -0.43709999322891235, -0.45719999074935913, -1.5597000122070312, -0.15520000457763672, 2.912400007247925, 2.891900062561035, 2.839600086212158, 2.7788000106811523, 2.604099988937378, 2.5717999935150146, 2.34660005569458, 2.0936999320983887, 2.02620005607605, 1.920799970626831, 1.8903000354766846, 1.6836999654769897, 1.6069999933242798, 1.5123000144958496, 1.291100025177002, 1.2522000074386597, 1.1700999736785889, 1.1655999422073364, 1.0592999458312988, 1.034500002861023, 1.017899990081787, 0.6299999952316284, 0.6026999950408936, 0.5479000210762024, 0.474700003862381, 0.4174000024795532, 0.41190001368522644, 0.3847000002861023, 0.2946000099182129, 0.25699999928474426, 0.16840000450611115, -0.03200000151991844, -0.013700000010430813, -0.12070000171661377, -0.10080000013113022, -0.33219999074935913, 0.14810000360012054, -0.2126999944448471, -0.35120001435279846, -0.6521999835968018, -0.7329999804496765, -0.9872000217437744]}, \"token.table\": {\"Topic\": [1, 2, 3, 4, 5, 6, 7, 8, 9, 10, 7, 2, 3, 5, 9, 1, 4, 10, 8, 1, 3, 4, 1, 2, 3, 4, 5, 6, 7, 8, 9, 10, 1, 2, 3, 4, 5, 6, 7, 8, 9, 10, 2, 6, 7, 8, 1, 2, 3, 4, 8, 1, 2, 3, 4, 5, 6, 7, 9, 10, 5, 6, 8, 9, 2, 3, 6, 1, 3, 5, 7, 8, 6, 7, 1, 2, 3, 4, 5, 6, 8, 9, 4, 7, 9, 1, 2, 3, 4, 5, 6, 7, 8, 9, 10, 1, 3, 6, 6, 10, 1, 3, 9, 1, 2, 3, 4, 5, 6, 7, 8, 9, 10, 1, 2, 3, 4, 5, 6, 7, 8, 9, 10, 7, 10, 1, 2, 3, 4, 5, 8, 9, 10, 2, 3, 10, 1, 2, 3, 4, 5, 6, 7, 8, 9, 10, 1, 2, 4, 5, 6, 7, 8, 9, 1, 2, 3, 4, 5, 6, 7, 8, 9, 10, 1, 2, 3, 1, 2, 3, 5, 6, 7, 9, 1, 4, 8, 4, 5, 7, 1, 2, 3, 4, 1, 2, 3, 4, 5, 6, 7, 8, 9, 10, 1, 2, 3, 4, 5, 8, 1, 2, 3, 4, 5, 6, 7, 8, 9, 10, 2, 3, 4, 5, 1, 10, 2, 10, 3, 4, 1, 2, 3, 4, 5, 6, 7, 8, 9, 10, 6, 9, 10, 3, 4, 5, 8, 9, 1, 2, 8, 10, 1, 3, 4, 8, 9, 1, 2, 3, 4, 5, 6, 7, 8, 9, 10, 1, 2, 4, 6, 1, 2, 3, 4, 6, 7, 4, 9, 1, 2, 4, 7, 1, 2, 3, 5, 9, 3, 5, 6, 8, 8, 1, 2, 8, 9, 10, 3, 6, 1, 2, 4, 10, 2, 5, 7, 2, 7, 10, 4, 5, 7, 8, 10, 3, 6, 7, 9, 2, 3, 1, 2, 3, 8, 1, 2, 3, 4, 6, 7, 8, 9, 10, 6, 9, 9, 1, 2, 3, 4, 5, 8, 9, 1, 2, 8, 9, 10, 2, 3, 4, 10, 1, 2, 3, 4, 5, 6, 7, 8, 9, 10, 1, 3, 4, 1, 3, 7, 8, 10, 1, 3, 4, 7, 8, 9, 1, 2, 3, 6, 10, 3, 4, 6, 7, 8, 1, 2, 3, 5, 8, 10, 2, 3, 6, 8, 9, 1, 2, 3, 4, 5, 6, 7, 8, 9, 1, 2, 4, 6, 1, 3, 4, 8, 1, 2, 3, 4, 5, 6, 7, 8, 9, 10, 1, 2, 3, 4, 5, 6, 7, 8, 9, 10, 1, 2, 3, 4, 8, 10, 1, 2, 3, 4, 5, 6, 7, 8, 9, 10, 6, 3, 9, 10, 1, 2, 3, 4, 5, 6, 7, 8, 9, 10, 1, 2, 3, 4, 5, 6, 7, 8, 9, 10, 3, 4, 10, 1, 2, 3, 4, 5, 6, 7, 8, 9, 10, 7, 1, 2, 3, 4, 5, 6, 7, 8, 9, 10, 1, 10, 2, 3, 5, 6, 10, 1, 3, 4, 5, 1, 2, 3, 4, 5, 6, 7, 8, 9, 10, 2, 4, 5, 6, 7, 8, 8, 9, 2, 4, 5, 7, 8, 10, 10, 1, 3, 4, 5, 6, 7, 8, 5, 10, 1, 4, 8, 1, 3, 8, 9, 10, 1, 2, 4, 6, 9, 2, 4, 1, 2, 3, 4, 5, 6, 7, 8, 9, 10, 2, 3, 4, 8, 2, 3, 4, 7, 3, 7, 8, 10, 1, 3, 9, 1, 3, 8, 1, 3, 4, 5, 1, 3, 4, 6, 9, 10, 1, 3, 7, 1, 2, 3, 4, 5, 6, 7, 8, 9, 10, 1, 2, 3, 4, 6, 7, 8, 9, 10, 1, 8, 5, 9, 2, 7, 8, 8, 1, 2, 3, 4, 5, 6, 7, 8, 9, 10, 4, 5, 6, 1, 2, 4, 5, 6, 10, 2, 3, 6, 7, 8, 9, 10, 1, 3, 6, 8, 9, 10, 1, 2, 4, 6, 10, 2, 10, 1, 2, 3, 4, 5, 6, 7, 8, 9, 10, 1, 5, 9, 1, 3, 4, 6, 8, 1, 3, 4, 7, 8, 1, 2, 3, 4, 5, 6, 7, 8, 9, 10, 1, 2, 5, 7, 8, 3, 5, 7, 8, 2, 3, 4, 5, 7, 10, 1, 2, 3, 4, 6, 10, 1, 3, 4, 8, 1, 2, 3, 6, 7, 10, 1, 2, 3, 5, 6, 7, 10, 1, 2, 3, 4, 5, 6, 7, 8, 9, 10, 1, 4, 6, 10, 1, 2, 3, 4, 5, 8, 10, 1, 2, 3, 4, 5, 6, 7, 8, 9, 10, 7, 7, 1, 2, 3, 4, 5, 6, 7, 8, 9, 10, 1, 2, 1, 2, 3, 4, 6, 7, 9, 10, 1, 2, 4, 7, 9, 1, 2, 3, 6, 3, 5, 5, 7, 1, 2, 5, 6, 7, 8, 1, 2, 8, 10, 6], \"Freq\": [0.1328403204679489, 0.19398903846740723, 0.08750592172145844, 0.21929195523262024, 0.07696304470300674, 0.08645163476467133, 0.07590875774621964, 0.03900866582989693, 0.050605837255716324, 0.03795437887310982, 0.9853920340538025, 0.7551029324531555, 0.12944622337818146, 0.06472311168909073, 0.021574370563030243, 0.37594351172447205, 0.5012580156326294, 0.041771501302719116, 0.9807074666023254, 0.08774071931838989, 0.3070925176143646, 0.5264443159103394, 0.03650359809398651, 0.07300719618797302, 0.19164389371871948, 0.09125899523496628, 0.10951079428195953, 0.20989568531513214, 0.027377698570489883, 0.0638812929391861, 0.04562949761748314, 0.14601439237594604, 0.03677929565310478, 0.03677929565310478, 0.2758447229862213, 0.01838964782655239, 0.3126240372657776, 0.07355859130620956, 0.03677929565310478, 0.05516894534230232, 0.05516894534230232, 0.0919482409954071, 0.1332492083311081, 0.1332492083311081, 0.5329968333244324, 0.1776656210422516, 0.39991462230682373, 0.17773984372615814, 0.08886992186307907, 0.08886992186307907, 0.22217479348182678, 0.009105789475142956, 0.42797210812568665, 0.07284631580114365, 0.15479841828346252, 0.009105789475142956, 0.22764472663402557, 0.09105788916349411, 0.009105789475142956, 0.009105789475142956, 0.048855289816856384, 0.3419870138168335, 0.43969759345054626, 0.19542115926742554, 0.8850483298301697, 0.03404032066464424, 0.03404032066464424, 0.4021601676940918, 0.3217281401157379, 0.13405339419841766, 0.053621355444192886, 0.053621355444192886, 0.9469003081321716, 0.02491842955350876, 0.005228614434599876, 0.020914457738399506, 0.005228614434599876, 0.10980090498924255, 0.036600302904844284, 0.005228614434599876, 0.005228614434599876, 0.8156638741493225, 0.16823987662792206, 0.7402554154396057, 0.06729594618082047, 0.40562957525253296, 0.10945560038089752, 0.0386313870549202, 0.09657847136259079, 0.18027980625629425, 0.05150851607322693, 0.0386313870549202, 0.03219282254576683, 0.0193156935274601, 0.025754258036613464, 0.508861243724823, 0.2120255082845688, 0.2544306218624115, 0.7599141001701355, 0.15998190641403198, 0.31187838315963745, 0.4678175747394562, 0.194923996925354, 0.1065310537815094, 0.07424891740083694, 0.06456427276134491, 0.0710207000374794, 0.16141068935394287, 0.36478814482688904, 0.04842320829629898, 0.025825710967183113, 0.04519499093294144, 0.0355103500187397, 0.132392019033432, 0.0851091518998146, 0.20804458856582642, 0.23641431331634521, 0.198588028550148, 0.056739434599876404, 0.01891314424574375, 0.0378262884914875, 0.01891314424574375, 0.009456572122871876, 0.4077097177505493, 0.5436129570007324, 0.298750102519989, 0.1280357539653778, 0.028452390804886818, 0.2845239043235779, 0.0426785871386528, 0.0426785871386528, 0.15648815035820007, 0.014226195402443409, 0.5105785131454468, 0.23826998472213745, 0.17019283771514893, 0.02987244352698326, 0.06970237195491791, 0.17425592243671417, 0.11451103538274765, 0.4455972909927368, 0.02240433357656002, 0.024893702939152718, 0.034851185977458954, 0.05476614832878113, 0.027383074164390564, 0.01759663224220276, 0.1759663224220276, 0.2111595869064331, 0.22875621914863586, 0.07038652896881104, 0.0879831612110138, 0.03519326448440552, 0.1759663224220276, 0.13587264716625214, 0.2389816790819168, 0.05781814828515053, 0.06938178092241287, 0.12816356122493744, 0.07612723112106323, 0.05299996957182884, 0.09925448894500732, 0.09058176726102829, 0.05107269808650017, 0.17544756829738617, 0.4561636745929718, 0.35089513659477234, 0.12121640145778656, 0.08081093430519104, 0.08081093430519104, 0.22223006188869476, 0.04040546715259552, 0.4040546715259552, 0.04040546715259552, 0.17891836166381836, 0.4920254945755005, 0.26837754249572754, 0.49788910150527954, 0.10669051855802536, 0.3556350767612457, 0.3121299147605896, 0.40576890110969543, 0.12485197186470032, 0.12485197186470032, 0.14548081159591675, 0.12251016497612, 0.03637020289897919, 0.02488487772643566, 0.4747268855571747, 0.03254176303744316, 0.013399548828601837, 0.09953951090574265, 0.044027090072631836, 0.0076568853110075, 0.23112425208091736, 0.24036923050880432, 0.009244970045983791, 0.036979880183935165, 0.39753371477127075, 0.07395976036787033, 0.1368255466222763, 0.09586503356695175, 0.11155203729867935, 0.19870206713676453, 0.11068053543567657, 0.06710552424192429, 0.04618951678276062, 0.09237903356552124, 0.0941220298409462, 0.04618951678276062, 0.040327563881874084, 0.16131025552749634, 0.6855685710906982, 0.08065512776374817, 0.9087296724319458, 0.041305895894765854, 0.09954836964607239, 0.8461611270904541, 0.7214570045471191, 0.22955448925495148, 0.10407423228025436, 0.15744563937187195, 0.2508455812931061, 0.018679991364479065, 0.16811992228031158, 0.07471996545791626, 0.08272567391395569, 0.021348562091588974, 0.07738853245973587, 0.04269712418317795, 0.4117835760116577, 0.2831012010574341, 0.25736474990844727, 0.25621193647384644, 0.39106032252311707, 0.14833322167396545, 0.08090903609991074, 0.09439387172460556, 0.8326884508132935, 0.03784947469830513, 0.03784947469830513, 0.03784947469830513, 0.24959616363048553, 0.12479808181524277, 0.08319871872663498, 0.4575929641723633, 0.04159935936331749, 0.16805008053779602, 0.11203338205814362, 0.11203338205814362, 0.25767678022384644, 0.022406676784157753, 0.13444006443023682, 0.011203338392078876, 0.16805008053779602, 0.011203338392078876, 0.011203338392078876, 0.27559247612953186, 0.10334717482328415, 0.03444905951619148, 0.516735851764679, 0.08374014496803284, 0.12561021745204926, 0.08374014496803284, 0.4605707824230194, 0.04187007248401642, 0.08374014496803284, 0.08570752292871475, 0.8856443762779236, 0.29070809483528137, 0.21803107857704163, 0.4724006652832031, 0.9709673523902893, 0.16434447467327118, 0.046955566853284836, 0.5399889945983887, 0.11738891154527664, 0.0704333484172821, 0.04808914288878441, 0.04808914288878441, 0.04808914288878441, 0.8175154328346252, 0.9525268077850342, 0.6046043038368225, 0.040306951850652695, 0.08061390370130539, 0.040306951850652695, 0.16122780740261078, 0.9130249619483948, 0.03652099892497063, 0.37110835313796997, 0.37110835313796997, 0.18555417656898499, 0.037110835313797, 0.04370547831058502, 0.48076024651527405, 0.46619176864624023, 0.09742192924022675, 0.14613290131092072, 0.7306644916534424, 0.5809037089347839, 0.04302990436553955, 0.1721196174621582, 0.15060466527938843, 0.021514952182769775, 0.384996235370636, 0.5004951357841492, 0.0769992470741272, 0.0192498117685318, 0.8005663752555847, 0.1751238852739334, 0.1945616751909256, 0.12970778346061707, 0.5998985171318054, 0.032426945865154266, 0.2863512635231018, 0.022027019411325455, 0.1982431709766388, 0.11013510078191757, 0.26432424783706665, 0.022027019411325455, 0.022027019411325455, 0.022027019411325455, 0.022027019411325455, 0.00931449607014656, 0.978022038936615, 0.9900928139686584, 0.07218505442142487, 0.2165551632642746, 0.14437010884284973, 0.1082775816321373, 0.1082775816321373, 0.28874021768569946, 0.03609252721071243, 0.41822195053100586, 0.023234551772475243, 0.13940730690956116, 0.3485182821750641, 0.023234551772475243, 0.278815358877182, 0.23234611749649048, 0.046469222754240036, 0.4182230234146118, 0.21400141716003418, 0.15616318583488464, 0.04048675298690796, 0.017351465299725533, 0.011567643843591213, 0.3181101977825165, 0.04627057537436485, 0.13302789628505707, 0.005783821921795607, 0.06362204253673553, 0.15825341641902924, 0.40172019600868225, 0.41389355063438416, 0.2679387032985687, 0.49122098088264465, 0.08931290358304977, 0.06698467582464218, 0.06698467582464218, 0.0446072518825531, 0.1338217556476593, 0.1338217556476593, 0.2676435112953186, 0.2230362594127655, 0.1338217556476593, 0.23015743494033813, 0.23015743494033813, 0.20458438992500305, 0.2557304799556732, 0.02557304874062538, 0.4270019829273224, 0.017791748046875, 0.1957092434167862, 0.302459716796875, 0.017791748046875, 0.07659497112035751, 0.15318994224071503, 0.05106331408023834, 0.48510149121284485, 0.02553165704011917, 0.15318994224071503, 0.21268503367900848, 0.42537006735801697, 0.17014802992343903, 0.042537007480859756, 0.042537007480859756, 0.016543852165341377, 0.04963155463337898, 0.08271925896406174, 0.04963155463337898, 0.033087704330682755, 0.04963155463337898, 0.5459471344947815, 0.16543851792812347, 0.016543852165341377, 0.2684870660305023, 0.3132348954677582, 0.13424353301525116, 0.22373920679092407, 0.5437241792678833, 0.2509496212005615, 0.08364987373352051, 0.041824936866760254, 0.18501940369606018, 0.15418283641338348, 0.005139427725225687, 0.11306741088628769, 0.3032262325286865, 0.15932226181030273, 0.005139427725225687, 0.005139427725225687, 0.061673134565353394, 0.005139427725225687, 0.2749016582965851, 0.041757214814424515, 0.2505432963371277, 0.3096993565559387, 0.006959535647183657, 0.010439303703606129, 0.0034797678235918283, 0.024358374997973442, 0.0034797678235918283, 0.06959535926580429, 0.30615249276161194, 0.12756353616714478, 0.07653812319040298, 0.17858895659446716, 0.22961437702178955, 0.05102541670203209, 0.15821164846420288, 0.12791579961776733, 0.023563437163829803, 0.05049308016896248, 0.1312820166349411, 0.38711363077163696, 0.04039446637034416, 0.04039446637034416, 0.013464821502566338, 0.023563437163829803, 0.9636051058769226, 0.5762731432914734, 0.17731481790542603, 0.17731481790542603, 0.18011099100112915, 0.09605919569730759, 0.18011099100112915, 0.14408878982067108, 0.1560961902141571, 0.12007398903369904, 0.04802959784865379, 0.012007399462163448, 0.03602219745516777, 0.03602219745516777, 0.06813742965459824, 0.01703435741364956, 0.08517178893089294, 0.03406871482729912, 0.27254971861839294, 0.051103074103593826, 0.25551536679267883, 0.13627485930919647, 0.01703435741364956, 0.08517178893089294, 0.044373005628585815, 0.029582003131508827, 0.902251124382019, 0.2323971390724182, 0.06724181026220322, 0.2630688548088074, 0.10263223946094513, 0.08611670881509781, 0.030671704560518265, 0.01651553250849247, 0.07549957931041718, 0.07431989908218384, 0.05190595984458923, 0.9915416836738586, 0.17844368517398834, 0.1899561882019043, 0.10361246019601822, 0.12088120728731155, 0.05180623009800911, 0.09209996461868286, 0.011512495577335358, 0.1381499469280243, 0.10361246019601822, 0.005756247788667679, 0.01743454486131668, 0.941465437412262, 0.168123260140419, 0.048035215586423874, 0.672493040561676, 0.024017607793211937, 0.048035215586423874, 0.41324496269226074, 0.17710497975349426, 0.11806998401880264, 0.2656574547290802, 0.3615209460258484, 0.11046472936868668, 0.023431912064552307, 0.21088720858097076, 0.010042248293757439, 0.050211239606142044, 0.07364315539598465, 0.030126744881272316, 0.0569060742855072, 0.07699056714773178, 0.15861284732818604, 0.07930642366409302, 0.07930642366409302, 0.026435473933815956, 0.4494030773639679, 0.15861284732818604, 0.8659930229187012, 0.09897062927484512, 0.11557643860578537, 0.03152084723114967, 0.1260833889245987, 0.40977099537849426, 0.010506948456168175, 0.28368762135505676, 0.9865943789482117, 0.1722457855939865, 0.25836867094039917, 0.01722457818686962, 0.01722457818686962, 0.10334747284650803, 0.344491571187973, 0.06889831274747849, 0.2709064185619354, 0.6772660613059998, 0.20396502315998077, 0.7393732070922852, 0.025495627894997597, 0.24180561304092407, 0.034543659538030624, 0.5872421860694885, 0.10363097488880157, 0.034543659538030624, 0.2831513285636902, 0.31854522228240967, 0.17696957290172577, 0.1415756642818451, 0.07078783214092255, 0.2653740644454956, 0.6823904514312744, 0.17966903746128082, 0.21233612298965454, 0.10889032483100891, 0.010889031924307346, 0.06533419340848923, 0.010889031924307346, 0.04900064691901207, 0.19600258767604828, 0.10889032483100891, 0.05988967791199684, 0.5697073936462402, 0.2136402726173401, 0.17803356051445007, 0.035606712102890015, 0.09184412658214569, 0.045922063291072845, 0.2755323648452759, 0.5051426887512207, 0.10876684635877609, 0.0725112333893776, 0.5438342094421387, 0.2537893056869507, 0.5650033354759216, 0.2118762582540512, 0.1765635460615158, 0.513667643070221, 0.3424450755119324, 0.12841691076755524, 0.19153156876564026, 0.3830631375312805, 0.3112387955188751, 0.0718243420124054, 0.2115548849105835, 0.2538658678531647, 0.16924390196800232, 0.04231097549200058, 0.2115548849105835, 0.04231097549200058, 0.22789326310157776, 0.6511236429214478, 0.06511235982179642, 0.31545132398605347, 0.18858502805233002, 0.24687494337558746, 0.08229164779186249, 0.01714409328997135, 0.024001730605959892, 0.006857637315988541, 0.06686196476221085, 0.0051432279869914055, 0.048003461211919785, 0.12154410779476166, 0.13673712313175201, 0.015193013474345207, 0.48617643117904663, 0.015193013474345207, 0.030386026948690414, 0.16712315380573273, 0.015193013474345207, 0.015193013474345207, 0.8731372356414795, 0.07937611639499664, 0.905802845954895, 0.030193429440259933, 0.055457085371017456, 0.12200558930635452, 0.8096734285354614, 0.9536277055740356, 0.499397337436676, 0.0073440782725811005, 0.1321934163570404, 0.249698668718338, 0.0073440782725811005, 0.0220322348177433, 0.0073440782725811005, 0.0514085479080677, 0.0073440782725811005, 0.029376313090324402, 0.3225691020488739, 0.552975594997406, 0.0921626016497612, 0.05751114338636398, 0.05751114338636398, 0.5942818522453308, 0.11502228677272797, 0.11502228677272797, 0.019170381128787994, 0.4341067969799042, 0.22509242594242096, 0.016078030690550804, 0.1768583357334137, 0.016078030690550804, 0.06431212276220322, 0.03215606138110161, 0.21092988550662994, 0.3374878168106079, 0.16874390840530396, 0.04218597710132599, 0.12655793130397797, 0.08437195420265198, 0.7106616497039795, 0.0836072564125061, 0.1114763393998146, 0.013934542424976826, 0.0557381696999073, 0.6347212195396423, 0.3438073396682739, 0.21280835568904877, 0.09821924567222595, 0.18006861209869385, 0.049109622836112976, 0.049109622836112976, 0.1636987328529358, 0.03273974731564522, 0.1964384913444519, 0.01636987365782261, 0.01636987365782261, 0.7161678671836853, 0.062275465577840805, 0.18682639300823212, 0.1652127355337143, 0.5286807417869568, 0.0991276428103447, 0.0991276428103447, 0.0330425463616848, 0.26793912053108215, 0.31665530800819397, 0.17050670087337494, 0.024358101189136505, 0.17050670087337494, 0.0487370602786541, 0.03898964822292328, 0.146211177110672, 0.00974741205573082, 0.02924223616719246, 0.1949482411146164, 0.01949482411146164, 0.07797929644584656, 0.3509068489074707, 0.08772671222686768, 0.037263188511133194, 0.8384217619895935, 0.05589478462934494, 0.018631594255566597, 0.018631594255566597, 0.2782169580459595, 0.11923584342002869, 0.039745282381772995, 0.556433916091919, 0.06599795818328857, 0.09899693727493286, 0.4949846863746643, 0.09899693727493286, 0.06599795818328857, 0.16499489545822144, 0.6850991249084473, 0.013981614261865616, 0.11185291409492493, 0.0838896855711937, 0.02796322852373123, 0.04194484278559685, 0.38010287284851074, 0.038010284304618835, 0.38010287284851074, 0.15204113721847534, 0.24301831424236298, 0.32402440905570984, 0.20251525938510895, 0.08100610226392746, 0.04050305113196373, 0.08100610226392746, 0.32232466340065, 0.06446493417024612, 0.09669739753007889, 0.161162331700325, 0.12892986834049225, 0.19339479506015778, 0.03223246708512306, 0.09298781305551529, 0.0591740645468235, 0.04226718842983246, 0.10989469289779663, 0.008453438058495522, 0.27896344661712646, 0.3634978234767914, 0.016906876116991043, 0.008453438058495522, 0.008453438058495522, 0.30270811915397644, 0.1729760617017746, 0.04324401542544365, 0.4324401617050171, 0.12554895877838135, 0.32642731070518494, 0.12554895877838135, 0.22598813474178314, 0.07532937824726105, 0.0251097921282053, 0.07532937824726105, 0.28131818771362305, 0.05114876106381416, 0.00639359513297677, 0.031967975199222565, 0.14385588467121124, 0.028771178796887398, 0.41878047585487366, 0.00639359513297677, 0.0095903929322958, 0.0191807858645916, 0.9883140921592712, 0.954816460609436, 0.007134287618100643, 0.08561144769191742, 0.2354314923286438, 0.057074300944805145, 0.021402861922979355, 0.5422058701515198, 0.007134287618100643, 0.03567143902182579, 0.007134287618100643, 0.007134287618100643, 0.9027840495109558, 0.042989715933799744, 0.22667835652828217, 0.05666958913207054, 0.08500438183546066, 0.11333917826414108, 0.1416739672422409, 0.17000876367092133, 0.11333917826414108, 0.08500438183546066, 0.06052934005856514, 0.1513233482837677, 0.6960874199867249, 0.03026467002928257, 0.03026467002928257, 0.24988953769207, 0.1665930300951004, 0.124944768846035, 0.4581308364868164, 0.04466145858168602, 0.9155598878860474, 0.8463068604469299, 0.14105114340782166, 0.3949359953403473, 0.15189845860004425, 0.03037969209253788, 0.03037969209253788, 0.03037969209253788, 0.3037969172000885, 0.484147846698761, 0.069163978099823, 0.0345819890499115, 0.345819890499115, 0.9321651458740234], \"Term\": [\"a\", \"a\", \"a\", \"a\", \"a\", \"a\", \"a\", \"a\", \"a\", \"a\", \"abraco\", \"agora\", \"agora\", \"agora\", \"agora\", \"ainda\", \"ainda\", \"ainda\", \"amor\", \"anos\", \"anos\", \"anos\", \"ao\", \"ao\", \"ao\", \"ao\", \"ao\", \"ao\", \"ao\", \"ao\", \"ao\", \"ao\", \"aos\", \"aos\", \"aos\", \"aos\", \"aos\", \"aos\", \"aos\", \"aos\", \"aos\", \"aos\", \"apoio\", \"apoio\", \"apoio\", \"apoio\", \"aqui\", \"aqui\", \"aqui\", \"aqui\", \"aqui\", \"as\", \"as\", \"as\", \"as\", \"as\", \"as\", \"as\", \"as\", \"as\", \"assista\", \"assista\", \"assista\", \"assista\", \"ate\", \"ate\", \"ate\", \"bem\", \"bem\", \"bem\", \"bem\", \"bem\", \"boa\", \"boa\", \"bolsonaro\", \"bolsonaro\", \"bolsonaro\", \"bolsonaro\", \"bolsonaro\", \"bolsonaro\", \"bolsonaro\", \"bolsonaro\", \"bom\", \"bom\", \"bom\", \"brasil\", \"brasil\", \"brasil\", \"brasil\", \"brasil\", \"brasil\", \"brasil\", \"brasil\", \"brasil\", \"brasil\", \"cada\", \"cada\", \"cada\", \"canal\", \"canal\", \"caso\", \"caso\", \"caso\", \"com\", \"com\", \"com\", \"com\", \"com\", \"com\", \"com\", \"com\", \"com\", \"com\", \"como\", \"como\", \"como\", \"como\", \"como\", \"como\", \"como\", \"como\", \"como\", \"como\", \"consideracao\", \"consideracao\", \"contra\", \"contra\", \"contra\", \"contra\", \"contra\", \"contra\", \"contra\", \"contra\", \"corrupcao\", \"corrupcao\", \"corrupcao\", \"da\", \"da\", \"da\", \"da\", \"da\", \"da\", \"da\", \"da\", \"da\", \"da\", \"das\", \"das\", \"das\", \"das\", \"das\", \"das\", \"das\", \"das\", \"de\", \"de\", \"de\", \"de\", \"de\", \"de\", \"de\", \"de\", \"de\", \"de\", \"deus\", \"deus\", \"deus\", \"dia\", \"dia\", \"dia\", \"dia\", \"dia\", \"dia\", \"dia\", \"dinheiro\", \"dinheiro\", \"dinheiro\", \"direita\", \"direita\", \"direita\", \"diz\", \"diz\", \"diz\", \"diz\", \"do\", \"do\", \"do\", \"do\", \"do\", \"do\", \"do\", \"do\", \"do\", \"do\", \"dos\", \"dos\", \"dos\", \"dos\", \"dos\", \"dos\", \"e\", \"e\", \"e\", \"e\", \"e\", \"e\", \"e\", \"e\", \"e\", \"e\", \"economia\", \"economia\", \"economia\", \"economia\", \"ele\", \"ele\", \"eleicoes\", \"eleicoes\", \"eles\", \"eles\", \"em\", \"em\", \"em\", \"em\", \"em\", \"em\", \"em\", \"em\", \"em\", \"em\", \"entrevista\", \"entrevista\", \"entrevista\", \"esquerda\", \"esquerda\", \"esquerda\", \"esquerda\", \"esquerda\", \"essa\", \"essa\", \"essa\", \"essa\", \"esse\", \"esse\", \"esse\", \"esse\", \"esse\", \"esta\", \"esta\", \"esta\", \"esta\", \"esta\", \"esta\", \"esta\", \"esta\", \"esta\", \"esta\", \"estamos\", \"estamos\", \"estamos\", \"estamos\", \"estao\", \"estao\", \"estao\", \"estao\", \"estao\", \"estao\", \"fala\", \"fala\", \"fazer\", \"fazer\", \"fazer\", \"foe\", \"foi\", \"foi\", \"foi\", \"foi\", \"foi\", \"folha\", \"folha\", \"folha\", \"folha\", \"foro\", \"futuro\", \"futuro\", \"futuro\", \"futuro\", \"futuro\", \"globo\", \"globo\", \"governo\", \"governo\", \"governo\", \"governo\", \"grande\", \"grande\", \"grande\", \"grato\", \"grato\", \"grato\", \"ha\", \"ha\", \"ha\", \"ha\", \"ha\", \"hoje\", \"hoje\", \"hoje\", \"hoje\", \"imprensa\", \"imprensa\", \"isso\", \"isso\", \"isso\", \"isso\", \"ja\", \"ja\", \"ja\", \"ja\", \"ja\", \"ja\", \"ja\", \"ja\", \"ja\", \"jair\", \"jair\", \"jair_bolsonaro\", \"liberdade\", \"liberdade\", \"liberdade\", \"liberdade\", \"liberdade\", \"liberdade\", \"liberdade\", \"lula\", \"lula\", \"lula\", \"lula\", \"lula\", \"maior\", \"maior\", \"maior\", \"maior\", \"mais\", \"mais\", \"mais\", \"mais\", \"mais\", \"mais\", \"mais\", \"mais\", \"mais\", \"mais\", \"mas\", \"mas\", \"mas\", \"me\", \"me\", \"me\", \"me\", \"me\", \"melhor\", \"melhor\", \"melhor\", \"melhor\", \"melhor\", \"melhor\", \"mesmo\", \"mesmo\", \"mesmo\", \"mesmo\", \"mesmo\", \"meu\", \"meu\", \"meu\", \"meu\", \"meu\", \"midia\", \"midia\", \"midia\", \"midia\", \"midia\", \"midia\", \"minha\", \"minha\", \"minha\", \"minha\", \"minha\", \"muito\", \"muito\", \"muito\", \"muito\", \"muito\", \"muito\", \"muito\", \"muito\", \"muito\", \"mundo\", \"mundo\", \"mundo\", \"mundo\", \"n\", \"n\", \"n\", \"n\", \"na\", \"na\", \"na\", \"na\", \"na\", \"na\", \"na\", \"na\", \"na\", \"na\", \"nao\", \"nao\", \"nao\", \"nao\", \"nao\", \"nao\", \"nao\", \"nao\", \"nao\", \"nao\", \"nas\", \"nas\", \"nas\", \"nas\", \"nas\", \"nas\", \"no\", \"no\", \"no\", \"no\", \"no\", \"no\", \"no\", \"no\", \"no\", \"no\", \"noite\", \"nome\", \"nome\", \"nome\", \"nos\", \"nos\", \"nos\", \"nos\", \"nos\", \"nos\", \"nos\", \"nos\", \"nos\", \"nos\", \"nossa\", \"nossa\", \"nossa\", \"nossa\", \"nossa\", \"nossa\", \"nossa\", \"nossa\", \"nossa\", \"nossa\", \"nosso\", \"nosso\", \"nosso\", \"o\", \"o\", \"o\", \"o\", \"o\", \"o\", \"o\", \"o\", \"o\", \"o\", \"obrigado\", \"os\", \"os\", \"os\", \"os\", \"os\", \"os\", \"os\", \"os\", \"os\", \"os\", \"ou\", \"ou\", \"pae\", \"pae\", \"pae\", \"pae\", \"pae\", \"pais\", \"pais\", \"pais\", \"pais\", \"para\", \"para\", \"para\", \"para\", \"para\", \"para\", \"para\", \"para\", \"para\", \"para\", \"parabens\", \"parabens\", \"parabens\", \"parabens\", \"parabens\", \"parabens\", \"paulo\", \"paulo\", \"pela\", \"pela\", \"pela\", \"pela\", \"pela\", \"pela\", \"pela_consideracao\", \"pelo\", \"pelo\", \"pelo\", \"pelo\", \"pelo\", \"pelo\", \"pelo\", \"pesquisa\", \"pesquisa\", \"pode\", \"pode\", \"pode\", \"poder\", \"poder\", \"poder\", \"poder\", \"poder\", \"politica\", \"politica\", \"politica\", \"politica\", \"politica\", \"populacao\", \"populacao\", \"por\", \"por\", \"por\", \"por\", \"por\", \"por\", \"por\", \"por\", \"por\", \"por\", \"porque\", \"porque\", \"porque\", \"porque\", \"pouco\", \"pouco\", \"pouco\", \"pouco\", \"povo\", \"povo\", \"povo\", \"povo\", \"presidente\", \"presidente\", \"presidente\", \"pt\", \"pt\", \"pt\", \"q\", \"q\", \"q\", \"q\", \"qualquer\", \"qualquer\", \"qualquer\", \"qualquer\", \"qualquer\", \"qualquer\", \"quando\", \"quando\", \"quando\", \"que\", \"que\", \"que\", \"que\", \"que\", \"que\", \"que\", \"que\", \"que\", \"que\", \"quem\", \"quem\", \"quem\", \"quem\", \"quem\", \"quem\", \"quem\", \"quem\", \"quem\", \"quer\", \"quer\", \"rio\", \"rio\", \"sao\", \"sao\", \"sao\", \"sao_paulo\", \"se\", \"se\", \"se\", \"se\", \"se\", \"se\", \"se\", \"se\", \"se\", \"se\", \"seguranca\", \"seguranca\", \"seguranca\", \"sem\", \"sem\", \"sem\", \"sem\", \"sem\", \"sem\", \"sempre\", \"sempre\", \"sempre\", \"sempre\", \"sempre\", \"sempre\", \"sempre\", \"sendo\", \"sendo\", \"sendo\", \"sendo\", \"sendo\", \"sendo\", \"ser\", \"ser\", \"ser\", \"ser\", \"ser\", \"sera\", \"sera\", \"seu\", \"seu\", \"seu\", \"seu\", \"seu\", \"seu\", \"seu\", \"seu\", \"seu\", \"seu\", \"seus\", \"seus\", \"seus\", \"sistema\", \"sistema\", \"sistema\", \"sistema\", \"sistema\", \"so\", \"so\", \"so\", \"so\", \"so\", \"sobre\", \"sobre\", \"sobre\", \"sobre\", \"sobre\", \"sobre\", \"sobre\", \"sobre\", \"sobre\", \"sobre\", \"sua\", \"sua\", \"sua\", \"sua\", \"sua\", \"suas\", \"suas\", \"suas\", \"suas\", \"tambem\", \"tambem\", \"tambem\", \"tambem\", \"tambem\", \"tambem\", \"tem\", \"tem\", \"tem\", \"tem\", \"tem\", \"tem\", \"temos\", \"temos\", \"temos\", \"temos\", \"ter\", \"ter\", \"ter\", \"ter\", \"ter\", \"ter\", \"todo\", \"todo\", \"todo\", \"todo\", \"todo\", \"todo\", \"todo\", \"todos\", \"todos\", \"todos\", \"todos\", \"todos\", \"todos\", \"todos\", \"todos\", \"todos\", \"todos\", \"trabalho\", \"trabalho\", \"trabalho\", \"trabalho\", \"tudo\", \"tudo\", \"tudo\", \"tudo\", \"tudo\", \"tudo\", \"tudo\", \"um\", \"um\", \"um\", \"um\", \"um\", \"um\", \"um\", \"um\", \"um\", \"um\", \"um_abraco\", \"um_foe\", \"uma\", \"uma\", \"uma\", \"uma\", \"uma\", \"uma\", \"uma\", \"uma\", \"uma\", \"uma\", \"vai\", \"vai\", \"vamos\", \"vamos\", \"vamos\", \"vamos\", \"vamos\", \"vamos\", \"vamos\", \"vamos\", \"verdade\", \"verdade\", \"verdade\", \"verdade\", \"verdade\", \"vez\", \"vez\", \"vez\", \"vez\", \"via\", \"via\", \"video\", \"video\", \"voce\", \"voce\", \"voce\", \"voce\", \"voce\", \"voce\", \"voto\", \"voto\", \"voto\", \"voto\", \"youtube\"]}, \"R\": 30, \"lambda.step\": 0.01, \"plot.opts\": {\"xlab\": \"PC1\", \"ylab\": \"PC2\"}, \"topic.order\": [3, 4, 5, 6, 10, 9, 2, 7, 1, 8]};\n",
              "\n",
              "function LDAvis_load_lib(url, callback){\n",
              "  var s = document.createElement('script');\n",
              "  s.src = url;\n",
              "  s.async = true;\n",
              "  s.onreadystatechange = s.onload = callback;\n",
              "  s.onerror = function(){console.warn(\"failed to load library \" + url);};\n",
              "  document.getElementsByTagName(\"head\")[0].appendChild(s);\n",
              "}\n",
              "\n",
              "if(typeof(LDAvis) !== \"undefined\"){\n",
              "   // already loaded: just create the visualization\n",
              "   !function(LDAvis){\n",
              "       new LDAvis(\"#\" + \"ldavis_el24961402066496468004467510744\", ldavis_el24961402066496468004467510744_data);\n",
              "   }(LDAvis);\n",
              "}else if(typeof define === \"function\" && define.amd){\n",
              "   // require.js is available: use it to load d3/LDAvis\n",
              "   require.config({paths: {d3: \"https://cdnjs.cloudflare.com/ajax/libs/d3/3.5.5/d3.min\"}});\n",
              "   require([\"d3\"], function(d3){\n",
              "      window.d3 = d3;\n",
              "      LDAvis_load_lib(\"https://cdn.rawgit.com/bmabey/pyLDAvis/files/ldavis.v1.0.0.js\", function(){\n",
              "        new LDAvis(\"#\" + \"ldavis_el24961402066496468004467510744\", ldavis_el24961402066496468004467510744_data);\n",
              "      });\n",
              "    });\n",
              "}else{\n",
              "    // require.js not available: dynamically load d3 & LDAvis\n",
              "    LDAvis_load_lib(\"https://cdnjs.cloudflare.com/ajax/libs/d3/3.5.5/d3.min.js\", function(){\n",
              "         LDAvis_load_lib(\"https://cdn.rawgit.com/bmabey/pyLDAvis/files/ldavis.v1.0.0.js\", function(){\n",
              "                 new LDAvis(\"#\" + \"ldavis_el24961402066496468004467510744\", ldavis_el24961402066496468004467510744_data);\n",
              "            })\n",
              "         });\n",
              "}\n",
              "</script>"
            ],
            "text/plain": [
              "PreparedData(topic_coordinates=              x         y  topics  cluster       Freq\n",
              "topic                                                \n",
              "2      0.053581  0.064746       1        1  16.485195\n",
              "3      0.006813  0.011074       2        1  12.210092\n",
              "4      0.075393  0.066527       3        1  12.108719\n",
              "5      0.048802  0.035130       4        1  11.653649\n",
              "9     -0.023769 -0.100621       5        1  11.246418\n",
              "8     -0.039332  0.006669       6        1   8.496738\n",
              "1     -0.255108 -0.001302       7        1   8.116388\n",
              "6      0.047632 -0.012029       8        1   7.361108\n",
              "0      0.077494 -0.167639       9        1   7.072242\n",
              "7      0.008495  0.097445      10        1   5.249458, topic_info=          Term        Freq       Total Category  logprob  loglift\n",
              "40   bolsonaro  191.000000  191.000000  Default  30.0000  30.0000\n",
              "92        jair  107.000000  107.000000  Default  29.0000  29.0000\n",
              "3           do  522.000000  522.000000  Default  28.0000  28.0000\n",
              "102   obrigado  108.000000  108.000000  Default  27.0000  27.0000\n",
              "25          um  312.000000  312.000000  Default  26.0000  26.0000\n",
              "..         ...         ...         ...      ...      ...      ...\n",
              "46          em   15.902174  374.732513  Topic10  -3.8634  -0.2127\n",
              "28         com   11.445168  309.768829  Topic10  -4.1922  -0.3512\n",
              "45          da   10.984048  401.708008  Topic10  -4.2334  -0.6522\n",
              "11          no    7.492401  297.070404  Topic10  -4.6159  -0.7330\n",
              "25          um    6.118863  312.813049  Topic10  -4.8184  -0.9872\n",
              "\n",
              "[440 rows x 6 columns], token_table=      Topic      Freq     Term\n",
              "term                          \n",
              "15        1  0.132840        a\n",
              "15        2  0.193989        a\n",
              "15        3  0.087506        a\n",
              "15        4  0.219292        a\n",
              "15        5  0.076963        a\n",
              "...     ...       ...      ...\n",
              "35        1  0.484148     voto\n",
              "35        2  0.069164     voto\n",
              "35        8  0.034582     voto\n",
              "35       10  0.345820     voto\n",
              "154       6  0.932165  youtube\n",
              "\n",
              "[804 rows x 3 columns], R=30, lambda_step=0.01, plot_opts={'xlab': 'PC1', 'ylab': 'PC2'}, topic_order=[3, 4, 5, 6, 10, 9, 2, 7, 1, 8])"
            ]
          },
          "metadata": {
            "tags": []
          },
          "execution_count": 20
        }
      ]
    }
  ]
}