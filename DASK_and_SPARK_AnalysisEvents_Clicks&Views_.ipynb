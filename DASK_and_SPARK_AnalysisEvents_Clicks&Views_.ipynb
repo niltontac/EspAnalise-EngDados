{
  "nbformat": 4,
  "nbformat_minor": 0,
  "metadata": {
    "kernelspec": {
      "display_name": "Python 3",
      "language": "python",
      "name": "python3"
    },
    "language_info": {
      "codemirror_mode": {
        "name": "ipython",
        "version": 3
      },
      "file_extension": ".py",
      "mimetype": "text/x-python",
      "name": "python",
      "nbconvert_exporter": "python",
      "pygments_lexer": "ipython3",
      "version": "3.8.3"
    },
    "colab": {
      "name": "DASK-and-SPARK-AnalysisEvents-Clicks&Views-.ipynb",
      "provenance": [],
      "include_colab_link": true
    }
  },
  "cells": [
    {
      "cell_type": "markdown",
      "metadata": {
        "id": "view-in-github",
        "colab_type": "text"
      },
      "source": [
        "<a href=\"https://colab.research.google.com/github/niltontac/EspAnalise-EngDados/blob/master/DASK_and_SPARK_AnalysisEvents_Clicks%26Views_.ipynb\" target=\"_parent\"><img src=\"https://colab.research.google.com/assets/colab-badge.svg\" alt=\"Open In Colab\"/></a>"
      ]
    },
    {
      "cell_type": "markdown",
      "metadata": {
        "id": "T5jOSkNI1q6V"
      },
      "source": [
        "## Sobre os dados\n",
        "\n",
        "O arquivo CSV contém eventos 'click' ou 'view' no tempo, de usuários em anúncios de determinadas campanhas.\n",
        "\n",
        "**Descrição das colunas:**  \n",
        "timestamp,user_id,action,adId,campaignId \n",
        "\n",
        "**Amostra:**  \n",
        "2016-09-21 22:11:00,7c74953c-66cc-48bd-9d02-a02bf039cf3f,click,adId_09,campaignId_01  \n",
        "2016-06-25 18:29:00,676a083e-2f8e-4ff2-9ec2-270f7f9d6033,view,adId_09,campaignId_02  \n",
        "2016-02-14 19:03:00,77158997-0dfa-48b7-9149-973dc151ef8d,click,adId_02,campaignId_02  \n",
        "2016-03-26 06:27:00,78aa2467-b502-413b-94e9-04ec8210bd13,click,adId_07,campaignId_03\n",
        "\n",
        "**Nome do arquivo CSV:**  \n",
        "ad_action.csv\n",
        "## ----------------------"
      ]
    },
    {
      "cell_type": "code",
      "metadata": {
        "id": "Ab_a88zW1q6W",
        "outputId": "6b8b32f2-5a7c-4e2e-8a5b-1f2bdc4252d6"
      },
      "source": [
        "import dask.dataframe as dd\n",
        "from dask.distributed import Client, LocalCluster\n",
        "\n",
        "cluster = LocalCluster()\n",
        "client = Client(cluster)\n",
        "client"
      ],
      "execution_count": null,
      "outputs": [
        {
          "output_type": "execute_result",
          "data": {
            "text/html": [
              "<table style=\"border: 2px solid white;\">\n",
              "<tr>\n",
              "<td style=\"vertical-align: top; border: 0px solid white\">\n",
              "<h3 style=\"text-align: left;\">Client</h3>\n",
              "<ul style=\"text-align: left; list-style: none; margin: 0; padding: 0;\">\n",
              "  <li><b>Scheduler: </b>tcp://127.0.0.1:64047</li>\n",
              "  <li><b>Dashboard: </b><a href='http://127.0.0.1:8787/status' target='_blank'>http://127.0.0.1:8787/status</a></li>\n",
              "</ul>\n",
              "</td>\n",
              "<td style=\"vertical-align: top; border: 0px solid white\">\n",
              "<h3 style=\"text-align: left;\">Cluster</h3>\n",
              "<ul style=\"text-align: left; list-style:none; margin: 0; padding: 0;\">\n",
              "  <li><b>Workers: </b>4</li>\n",
              "  <li><b>Cores: </b>8</li>\n",
              "  <li><b>Memory: </b>8.49 GB</li>\n",
              "</ul>\n",
              "</td>\n",
              "</tr>\n",
              "</table>"
            ],
            "text/plain": [
              "<Client: 'tcp://127.0.0.1:64047' processes=4 threads=8, memory=8.49 GB>"
            ]
          },
          "metadata": {
            "tags": []
          },
          "execution_count": 1
        }
      ]
    },
    {
      "cell_type": "code",
      "metadata": {
        "id": "cpxcEttR1q6a",
        "outputId": "ea55bcda-fcbe-402e-e10a-5da37ea1f8f3"
      },
      "source": [
        "data_dask = dd.read_csv('C:/Users/niltontac/Documents/Cesar_School/Análise_e_Engenharia_de_Dados/09._GDBD_-_Gerenciamento_de_Dados_para_BigData/Spark/data/ad_action.csv', header=None, parse_dates=[0])\n",
        "data_dask.columns = ['timestamp','user_id','action','adId','campaignId']\n",
        "data_dask"
      ],
      "execution_count": null,
      "outputs": [
        {
          "output_type": "execute_result",
          "data": {
            "text/html": [
              "<div><strong>Dask DataFrame Structure:</strong></div>\n",
              "<div>\n",
              "<style scoped>\n",
              "    .dataframe tbody tr th:only-of-type {\n",
              "        vertical-align: middle;\n",
              "    }\n",
              "\n",
              "    .dataframe tbody tr th {\n",
              "        vertical-align: top;\n",
              "    }\n",
              "\n",
              "    .dataframe thead th {\n",
              "        text-align: right;\n",
              "    }\n",
              "</style>\n",
              "<table border=\"1\" class=\"dataframe\">\n",
              "  <thead>\n",
              "    <tr style=\"text-align: right;\">\n",
              "      <th></th>\n",
              "      <th>timestamp</th>\n",
              "      <th>user_id</th>\n",
              "      <th>action</th>\n",
              "      <th>adId</th>\n",
              "      <th>campaignId</th>\n",
              "    </tr>\n",
              "    <tr>\n",
              "      <th>npartitions=1</th>\n",
              "      <th></th>\n",
              "      <th></th>\n",
              "      <th></th>\n",
              "      <th></th>\n",
              "      <th></th>\n",
              "    </tr>\n",
              "  </thead>\n",
              "  <tbody>\n",
              "    <tr>\n",
              "      <th></th>\n",
              "      <td>datetime64[ns]</td>\n",
              "      <td>object</td>\n",
              "      <td>object</td>\n",
              "      <td>object</td>\n",
              "      <td>object</td>\n",
              "    </tr>\n",
              "    <tr>\n",
              "      <th></th>\n",
              "      <td>...</td>\n",
              "      <td>...</td>\n",
              "      <td>...</td>\n",
              "      <td>...</td>\n",
              "      <td>...</td>\n",
              "    </tr>\n",
              "  </tbody>\n",
              "</table>\n",
              "</div>\n",
              "<div>Dask Name: rename, 2 tasks</div>"
            ],
            "text/plain": [
              "Dask DataFrame Structure:\n",
              "                    timestamp user_id  action    adId campaignId\n",
              "npartitions=1                                                   \n",
              "               datetime64[ns]  object  object  object     object\n",
              "                          ...     ...     ...     ...        ...\n",
              "Dask Name: rename, 2 tasks"
            ]
          },
          "metadata": {
            "tags": []
          },
          "execution_count": 2
        }
      ]
    },
    {
      "cell_type": "code",
      "metadata": {
        "id": "qWYdPTZL1q6d",
        "outputId": "db19d3d8-2c4c-4f0a-8d83-efd72900ae2f"
      },
      "source": [
        "data_dask.head(5)"
      ],
      "execution_count": null,
      "outputs": [
        {
          "output_type": "execute_result",
          "data": {
            "text/html": [
              "<div>\n",
              "<style scoped>\n",
              "    .dataframe tbody tr th:only-of-type {\n",
              "        vertical-align: middle;\n",
              "    }\n",
              "\n",
              "    .dataframe tbody tr th {\n",
              "        vertical-align: top;\n",
              "    }\n",
              "\n",
              "    .dataframe thead th {\n",
              "        text-align: right;\n",
              "    }\n",
              "</style>\n",
              "<table border=\"1\" class=\"dataframe\">\n",
              "  <thead>\n",
              "    <tr style=\"text-align: right;\">\n",
              "      <th></th>\n",
              "      <th>timestamp</th>\n",
              "      <th>user_id</th>\n",
              "      <th>action</th>\n",
              "      <th>adId</th>\n",
              "      <th>campaignId</th>\n",
              "    </tr>\n",
              "  </thead>\n",
              "  <tbody>\n",
              "    <tr>\n",
              "      <th>0</th>\n",
              "      <td>2016-09-21 22:11:00</td>\n",
              "      <td>7c74953c-66cc-48bd-9d02-a02bf039cf3f</td>\n",
              "      <td>click</td>\n",
              "      <td>adId_09</td>\n",
              "      <td>campaignId_01</td>\n",
              "    </tr>\n",
              "    <tr>\n",
              "      <th>1</th>\n",
              "      <td>2016-06-25 18:29:00</td>\n",
              "      <td>676a083e-2f8e-4ff2-9ec2-270f7f9d6033</td>\n",
              "      <td>view</td>\n",
              "      <td>adId_09</td>\n",
              "      <td>campaignId_02</td>\n",
              "    </tr>\n",
              "    <tr>\n",
              "      <th>2</th>\n",
              "      <td>2016-02-14 19:03:00</td>\n",
              "      <td>77158997-0dfa-48b7-9149-973dc151ef8d</td>\n",
              "      <td>click</td>\n",
              "      <td>adId_02</td>\n",
              "      <td>campaignId_02</td>\n",
              "    </tr>\n",
              "    <tr>\n",
              "      <th>3</th>\n",
              "      <td>2016-03-26 06:27:00</td>\n",
              "      <td>78aa2467-b502-413b-94e9-04ec8210bd13</td>\n",
              "      <td>click</td>\n",
              "      <td>adId_07</td>\n",
              "      <td>campaignId_03</td>\n",
              "    </tr>\n",
              "    <tr>\n",
              "      <th>4</th>\n",
              "      <td>2016-01-02 04:57:00</td>\n",
              "      <td>fef9a98c-d73e-48ef-b2cb-766ba85dc3e3</td>\n",
              "      <td>view</td>\n",
              "      <td>adId_02</td>\n",
              "      <td>campaignId_02</td>\n",
              "    </tr>\n",
              "  </tbody>\n",
              "</table>\n",
              "</div>"
            ],
            "text/plain": [
              "            timestamp                               user_id action     adId  \\\n",
              "0 2016-09-21 22:11:00  7c74953c-66cc-48bd-9d02-a02bf039cf3f  click  adId_09   \n",
              "1 2016-06-25 18:29:00  676a083e-2f8e-4ff2-9ec2-270f7f9d6033   view  adId_09   \n",
              "2 2016-02-14 19:03:00  77158997-0dfa-48b7-9149-973dc151ef8d  click  adId_02   \n",
              "3 2016-03-26 06:27:00  78aa2467-b502-413b-94e9-04ec8210bd13  click  adId_07   \n",
              "4 2016-01-02 04:57:00  fef9a98c-d73e-48ef-b2cb-766ba85dc3e3   view  adId_02   \n",
              "\n",
              "      campaignId  \n",
              "0  campaignId_01  \n",
              "1  campaignId_02  \n",
              "2  campaignId_02  \n",
              "3  campaignId_03  \n",
              "4  campaignId_02  "
            ]
          },
          "metadata": {
            "tags": []
          },
          "execution_count": 3
        }
      ]
    },
    {
      "cell_type": "markdown",
      "metadata": {
        "id": "zg9NWB1u1q6f"
      },
      "source": [
        "#### Utilizando Dask para analisar os dados e listar as top 3 campanhas que geraram mais eventos e ordenando pela quantidade de eventos (clicks e views)"
      ]
    },
    {
      "cell_type": "code",
      "metadata": {
        "id": "K3p8bBeq1q6f",
        "outputId": "0718ffd0-c0d4-4b50-b851-279190966209"
      },
      "source": [
        "more_events = data_dask[['campaignId', 'action']]\\\n",
        "    .groupby('campaignId')['action']\\\n",
        "    .count()\\\n",
        "    .compute()\\\n",
        "    .sort_values(ascending=False)\n",
        "\n",
        "print('As campanhas top 3 são:', more_events)"
      ],
      "execution_count": null,
      "outputs": [
        {
          "output_type": "stream",
          "text": [
            "As campanhas top 3 são: campaignId\n",
            "campaignId_02    91216\n",
            "campaignId_03    87036\n",
            "campaignId_01    76461\n",
            "Name: action, dtype: int64\n"
          ],
          "name": "stdout"
        }
      ]
    },
    {
      "cell_type": "markdown",
      "metadata": {
        "id": "5ySB8EnR1q6i"
      },
      "source": [
        "#### Listando com Dask qual campanha teve mais clicks"
      ]
    },
    {
      "cell_type": "code",
      "metadata": {
        "id": "sT7BB3M81q6i",
        "outputId": "362b2733-adfb-4bb5-c5e1-0bc38558be7a"
      },
      "source": [
        "campaign_more_clicks = data_dask[['campaignId', 'action']].groupby('campaignId')['action']\\\n",
        "    .count()\\\n",
        "    .nlargest(1)\\\n",
        "    .compute()\\\n",
        "    .index[0]\n",
        "\n",
        "campaign_clicks = data_dask[['campaignId', 'timestamp']].groupby('campaignId')['timestamp']\\\n",
        "    .count()\\\n",
        "    .nlargest(1)\\\n",
        "    .compute()\\\n",
        "    .index[0]\n",
        "\n",
        "number_clicks = data_dask[['campaignId', 'action']]\\\n",
        "    .where(data_dask['campaignId'] == campaign_clicks)['action']\\\n",
        "    .value_counts()\\\n",
        "    .compute()\\\n",
        "    .loc['click']\n",
        "\n",
        "print('A campanha com mais clicks é a',campaign_more_clicks, 'com', f\"{number_clicks} clicks\")"
      ],
      "execution_count": null,
      "outputs": [
        {
          "output_type": "stream",
          "text": [
            "A campanha com mais clicks é a campaignId_02 com 63983 clicks\n"
          ],
          "name": "stdout"
        }
      ]
    },
    {
      "cell_type": "markdown",
      "metadata": {
        "id": "PIVdMW0A1q6k"
      },
      "source": [
        "#### Preparando ambiente para Spark"
      ]
    },
    {
      "cell_type": "code",
      "metadata": {
        "id": "DtQ1yXPr1q6l"
      },
      "source": [
        "# Para que o Jupyter consiga carregar o Spark corretamente no notebook\n",
        "import findspark\n",
        "from distutils.sysconfig import get_python_lib\n",
        "findspark.init(f\"{get_python_lib()}/pyspark\")\n",
        "from pyspark import SparkConf, SparkContext\n",
        "from pyspark.sql import SparkSession"
      ],
      "execution_count": null,
      "outputs": []
    },
    {
      "cell_type": "code",
      "metadata": {
        "id": "q-VSE5ks1q6n"
      },
      "source": [
        "# Para quem usar Spark com Map-Reduce\n",
        "conf = SparkConf().setMaster(\"local[*]\")\n",
        "sc = SparkContext(conf=conf)\n",
        "#data_sc = sc.textFile('ad_action.csv')\n",
        "#data_sc.take(5)"
      ],
      "execution_count": null,
      "outputs": []
    },
    {
      "cell_type": "code",
      "metadata": {
        "id": "Z95qObWg1q6q",
        "outputId": "dc907c09-f321-4048-b601-328d08bf8dad"
      },
      "source": [
        "# Para quem usar Spark SQL\n",
        "from pyspark.sql.functions import to_timestamp\n",
        "spark = SparkSession.builder\\\n",
        "    .master(\"local[*]\")\\\n",
        "    .getOrCreate()\n",
        "data_spark = spark.read.csv('C:/Users/niltontac/Documents/Cesar_School/Análise_e_Engenharia_de_Dados/09._GDBD_-_Gerenciamento_de_Dados_para_BigData/Spark/data/ad_action.csv', header=False, inferSchema=True)\n",
        "data_spark = data_spark.withColumnRenamed('_c0', 'timestamp')\n",
        "data_spark = data_spark.withColumnRenamed('_c1', 'user_id')\n",
        "data_spark = data_spark.withColumnRenamed('_c2', 'action')\n",
        "data_spark = data_spark.withColumnRenamed('_c3', 'adId')\n",
        "data_spark = data_spark.withColumnRenamed('_c4', 'campaignId')\n",
        "data_spark = data_spark.withColumn('timestamp', to_timestamp('timestamp'))\n",
        "data_spark.printSchema()"
      ],
      "execution_count": null,
      "outputs": [
        {
          "output_type": "stream",
          "text": [
            "root\n",
            " |-- timestamp: timestamp (nullable = true)\n",
            " |-- user_id: string (nullable = true)\n",
            " |-- action: string (nullable = true)\n",
            " |-- adId: string (nullable = true)\n",
            " |-- campaignId: string (nullable = true)\n",
            "\n"
          ],
          "name": "stdout"
        }
      ]
    },
    {
      "cell_type": "code",
      "metadata": {
        "id": "VJcaWVLr1q6s",
        "outputId": "804b0ff4-937e-4626-c3a6-f8080d8dc5b2"
      },
      "source": [
        "data_spark.show(5)"
      ],
      "execution_count": null,
      "outputs": [
        {
          "output_type": "stream",
          "text": [
            "+-------------------+--------------------+------+-------+-------------+\n",
            "|          timestamp|             user_id|action|   adId|   campaignId|\n",
            "+-------------------+--------------------+------+-------+-------------+\n",
            "|2016-09-21 22:11:00|7c74953c-66cc-48b...| click|adId_09|campaignId_01|\n",
            "|2016-06-25 18:29:00|676a083e-2f8e-4ff...|  view|adId_09|campaignId_02|\n",
            "|2016-02-14 19:03:00|77158997-0dfa-48b...| click|adId_02|campaignId_02|\n",
            "|2016-03-26 06:27:00|78aa2467-b502-413...| click|adId_07|campaignId_03|\n",
            "|2016-01-02 04:57:00|fef9a98c-d73e-48e...|  view|adId_02|campaignId_02|\n",
            "+-------------------+--------------------+------+-------+-------------+\n",
            "only showing top 5 rows\n",
            "\n"
          ],
          "name": "stdout"
        }
      ]
    },
    {
      "cell_type": "markdown",
      "metadata": {
        "id": "lG-RIQF-1q6u"
      },
      "source": [
        "#### Utilizando Spark para trazer o mês (entre 12 meses do ano) que teve o maior total de eventos acumulado ao longo dos anos"
      ]
    },
    {
      "cell_type": "code",
      "metadata": {
        "id": "uFF5Y3wZ1q6u",
        "outputId": "0ea4bae6-a816-4767-a1f6-ce645d61557c"
      },
      "source": [
        "from pyspark.sql.functions import month, year\n",
        "\n",
        "data_spark = data_spark.withColumn('Year', year('timestamp'))\\\n",
        "    .withColumn('Month', month('timestamp'))\\\n",
        "\n",
        "data_spark.groupBy('Month')\\\n",
        "    .count()\\\n",
        "    .withColumnRenamed('count', 'MounthEvents')\\\n",
        "    .toPandas()\\\n",
        "    .sort_values(by='MounthEvents', ascending=False)\\\n",
        "    .head(1)"
      ],
      "execution_count": null,
      "outputs": [
        {
          "output_type": "execute_result",
          "data": {
            "text/html": [
              "<div>\n",
              "<style scoped>\n",
              "    .dataframe tbody tr th:only-of-type {\n",
              "        vertical-align: middle;\n",
              "    }\n",
              "\n",
              "    .dataframe tbody tr th {\n",
              "        vertical-align: top;\n",
              "    }\n",
              "\n",
              "    .dataframe thead th {\n",
              "        text-align: right;\n",
              "    }\n",
              "</style>\n",
              "<table border=\"1\" class=\"dataframe\">\n",
              "  <thead>\n",
              "    <tr style=\"text-align: right;\">\n",
              "      <th></th>\n",
              "      <th>Month</th>\n",
              "      <th>MounthEvents</th>\n",
              "    </tr>\n",
              "  </thead>\n",
              "  <tbody>\n",
              "    <tr>\n",
              "      <th>1</th>\n",
              "      <td>1</td>\n",
              "      <td>25800</td>\n",
              "    </tr>\n",
              "  </tbody>\n",
              "</table>\n",
              "</div>"
            ],
            "text/plain": [
              "   Month  MounthEvents\n",
              "1      1         25800"
            ]
          },
          "metadata": {
            "tags": []
          },
          "execution_count": 10
        }
      ]
    },
    {
      "cell_type": "markdown",
      "metadata": {
        "id": "pmn-PzwD1q6w"
      },
      "source": [
        "#### Analisando com Spark qual campanha teve mais views"
      ]
    },
    {
      "cell_type": "code",
      "metadata": {
        "id": "WnViUVpm1q6x"
      },
      "source": [
        "AD_ACTION_CSV_PATH = 'C:/Users/niltontac/Documents/Cesar_School/Análise_e_Engenharia_de_Dados/09._GDBD_-_Gerenciamento_de_Dados_para_BigData/Spark/data/ad_action.csv'"
      ],
      "execution_count": null,
      "outputs": []
    },
    {
      "cell_type": "code",
      "metadata": {
        "id": "Kj5qyGvd1q6z",
        "outputId": "7848bdc6-7945-4eab-94fb-9c8c6efabbba"
      },
      "source": [
        "def parse_campaing(line):\n",
        "    fields = line.split(\",\")\n",
        "    return (fields[4], 1)\n",
        "\n",
        "def parse_campaing_action(line):\n",
        "    fields = line.split(\",\")\n",
        "    return (fields[4], fields[2])\n",
        "\n",
        "rdd = sc.textFile(AD_ACTION_CSV_PATH)\n",
        "\n",
        "campaings = rdd.map(parse_campaing)\n",
        "\n",
        "campaings_count = campaings.reduceByKey(lambda x, y: x + y)\n",
        "\n",
        "campaings_sorted = campaings_count.map(lambda x: (x[1], x[0])).sortByKey(ascending=False)\n",
        "\n",
        "most_popular_campain_list = campaings_sorted.take(1)\n",
        "most_popular_campain = most_popular_campain_list[0][1]\n",
        "\n",
        "campaings = rdd.map(parse_campaing_action)\n",
        "\n",
        "best_campaing_views = campaings.filter(lambda x: most_popular_campain == x[0] and \"view\" == x[1])\n",
        "\n",
        "print(\"A campanha que teve mais views foi a {}\".format(most_popular_campain), \"com {}\".format(best_campaing_views.count()), \"views\")"
      ],
      "execution_count": null,
      "outputs": [
        {
          "output_type": "stream",
          "text": [
            "A campanha que teve mais views foi a campaignId_02 com 27233 views\n"
          ],
          "name": "stdout"
        }
      ]
    },
    {
      "cell_type": "markdown",
      "metadata": {
        "id": "oHk_Y9K31q61"
      },
      "source": [
        "#### Spark Streaming"
      ]
    },
    {
      "cell_type": "code",
      "metadata": {
        "id": "h6L2zVqr1q62"
      },
      "source": [
        "import numpy\n",
        "import operator\n",
        "\n",
        "from pyspark.streaming import StreamingContext"
      ],
      "execution_count": null,
      "outputs": []
    },
    {
      "cell_type": "markdown",
      "metadata": {
        "id": "OKVUHJOI1q64"
      },
      "source": [
        "#### Configurando Streaming para dividir os dados em 25471 mini-batches e enviar 1 por segundo"
      ]
    },
    {
      "cell_type": "code",
      "metadata": {
        "id": "SxKUW3XV1q64",
        "outputId": "7172f9c8-aa75-4b5c-ef9a-1c33493722af"
      },
      "source": [
        "ad_action_rdd = sc.textFile(\"C:/Users/niltontac/Documents/Cesar_School/Análise_e_Engenharia_de_Dados/09._GDBD_-_Gerenciamento_de_Dados_para_BigData/Spark/data/ad_action.csv\")\n",
        "ad_action = ad_action_rdd.collect()\n",
        "print(f\"Total de registros: {len(ad_action)}\")\n",
        "ad_action_stream = numpy.array_split(ad_action, 25471)\n",
        "rddQueue = [sc.parallelize(mini_batch) for mini_batch in ad_action_stream]\n",
        "print(f\"Total de mini-batches: {len(rddQueue)}\")\n",
        "print(f\"Total de registros no primeiro mini-batch: {len(ad_action_stream[0])}\")\n",
        "print(ad_action_stream[:3])"
      ],
      "execution_count": null,
      "outputs": [
        {
          "output_type": "stream",
          "text": [
            "Total de registros: 254713\n",
            "Total de mini-batches: 25471\n",
            "Total de registros no primeiro mini-batch: 11\n",
            "[array(['2016-09-21 22:11:00,7c74953c-66cc-48bd-9d02-a02bf039cf3f,click,adId_09,campaignId_01',\n",
            "       '2016-06-25 18:29:00,676a083e-2f8e-4ff2-9ec2-270f7f9d6033,view,adId_09,campaignId_02',\n",
            "       '2016-02-14 19:03:00,77158997-0dfa-48b7-9149-973dc151ef8d,click,adId_02,campaignId_02',\n",
            "       '2016-03-26 06:27:00,78aa2467-b502-413b-94e9-04ec8210bd13,click,adId_07,campaignId_03',\n",
            "       '2016-01-02 04:57:00,fef9a98c-d73e-48ef-b2cb-766ba85dc3e3,view,adId_02,campaignId_02',\n",
            "       '2016-03-04 09:14:00,6ba65af9-4d83-4567-b580-a34f177bb788,view,adId_09,campaignId_01',\n",
            "       '2016-07-09 21:42:00,be3befb9-ee08-4311-89f4-430d23ee63f1,click,adId_09,campaignId_01',\n",
            "       '2016-07-18 21:15:00,d37832ae-546f-4b9b-94f1-ab2ddfc0f49d,click,adId_05,campaignId_02',\n",
            "       '2016-04-20 13:30:00,1e5b575e-19e7-44fa-b5c2-f9aa6953de8a,click,adId_03,campaignId_01',\n",
            "       '2016-02-23 19:55:00,ed1b4467-8581-459e-94cb-8b5ed3835779,view,adId_06,campaignId_01',\n",
            "       '2016-10-12 09:51:00,7ebccca0-6039-47b0-b338-9b67e7b0bcd3,click,adId_08,campaignId_02'],\n",
            "      dtype='<U84'), array(['2016-01-30 12:01:00,413f4bb6-1eed-47e4-9e04-eb9114ae188c,view,adId_09,campaignId_02',\n",
            "       '2016-04-30 11:13:00,36b8fffb-66a8-4269-b28b-e61bf0c0e4ca,click,adId_02,campaignId_02',\n",
            "       '2016-11-03 09:22:00,f193d313-e475-4613-ac5e-c8a035e3c356,click,adId_05,campaignId_02',\n",
            "       '2016-02-03 14:09:00,1cb95f66-e5db-4976-9822-1ba64fa6bd8e,click,adId_02,campaignId_03',\n",
            "       '2016-02-25 10:49:00,4a1d1ad6-e404-4f4c-a8d0-90fb440ab371,click,adId_06,campaignId_03',\n",
            "       '2016-01-11 04:43:00,c748defa-2451-4999-9c98-a59ef0876e1f,view,adId_04,campaignId_03',\n",
            "       '2016-11-12 11:35:00,eec3f831-fe26-4500-90d1-97649e307491,click,adId_06,campaignId_02',\n",
            "       '2016-09-26 07:57:00,802efe54-909d-470b-bb9a-d2a79c555d79,click,adId_09,campaignId_03',\n",
            "       '2016-11-02 08:37:00,99b11329-4d2e-4ce2-833f-981ae914ca3f,view,adId_06,campaignId_01',\n",
            "       '2016-01-21 10:14:00,f6548a2c-a710-4f55-b6ae-2eda922699b4,click,adId_05,campaignId_01',\n",
            "       '2016-09-21 18:38:00,c1e522f9-f887-4f83-8c5f-8a81a94ad660,click,adId_05,campaignId_02'],\n",
            "      dtype='<U84'), array(['2016-12-19 00:24:00,af216304-766d-4a2c-ba3b-1a8a12260eb2,click,adId_08,campaignId_01',\n",
            "       '2016-11-20 11:35:00,dbbd3319-b860-4f6c-9e90-1c9fc955244b,click,adId_06,campaignId_02',\n",
            "       '2016-05-05 21:02:00,23b7c758-b73f-426b-bfdc-0854a3574712,view,adId_03,campaignId_03',\n",
            "       '2016-08-09 09:06:00,7e900efc-b56c-4c19-96fd-e66d07f8ee15,click,adId_04,campaignId_03',\n",
            "       '2016-06-26 07:51:00,8eb82956-3f24-4fc3-9f1f-6006878f572f,view,adId_06,campaignId_01',\n",
            "       '2016-08-17 08:18:00,fd137586-d23a-413c-bb2d-a7bf37a49f63,click,adId_10,campaignId_01',\n",
            "       '2016-04-06 19:00:00,d1d511ab-f566-4f07-83c3-ee950bfa113f,click,adId_07,campaignId_01',\n",
            "       '2016-10-16 15:02:00,4192ba4e-111c-485e-b70f-b38749d53b37,view,adId_02,campaignId_01',\n",
            "       '2016-04-28 18:39:00,3e7a3819-6524-4481-aca1-764f213be0a6,view,adId_06,campaignId_03',\n",
            "       '2016-09-20 16:33:00,92707aaa-cf35-43d5-a424-e365f4ee4cc3,click,adId_02,campaignId_01',\n",
            "       '2016-04-04 18:44:00,5c78b3ea-c80a-4e75-8f5c-c17d228345c1,click,adId_03,campaignId_01'],\n",
            "      dtype='<U84')]\n"
          ],
          "name": "stdout"
        }
      ]
    },
    {
      "cell_type": "markdown",
      "metadata": {
        "id": "PXyETgdF1q66"
      },
      "source": [
        "#### Utilizando SparkStreaming para listar as top 3 campanhas que geraram mais eventos nos últimos 10 segundos, ordenando pela quantidade de eventos e calculando a cada 3 segundos"
      ]
    },
    {
      "cell_type": "code",
      "metadata": {
        "id": "r07BL3-p1q67"
      },
      "source": [
        "ssc = StreamingContext(sc, 1)\n",
        "\n",
        "# Input data\n",
        "inputStream = ssc.queueStream(rddQueue)\n",
        "\n",
        "# Process streaming\n",
        "def parse_action(line):\n",
        "    fields = line.split(\",\")\n",
        "    return (fields[4], fields[2])\n",
        "\n",
        "def events(action):\n",
        "    return 1\n",
        "\n",
        "def campaign_top(rdd):\n",
        "    print(rdd.top(3, lambda x: x[1]))\n",
        "\n",
        "inputStream.window(10, 3)\\\n",
        "    .map(parse_action)\\\n",
        "    .mapValues(events)\\\n",
        "    .reduceByKey(operator.add)\\\n",
        "    .foreachRDD(campaign_top)\n",
        "\n",
        "\n",
        "# Start job\n",
        "ssc.start()"
      ],
      "execution_count": null,
      "outputs": []
    },
    {
      "cell_type": "code",
      "metadata": {
        "id": "KT5KwcEN1q69"
      },
      "source": [
        "# Stop job\n",
        "ssc.stop(stopSparkContext=False, stopGraceFully=False)"
      ],
      "execution_count": null,
      "outputs": []
    },
    {
      "cell_type": "code",
      "metadata": {
        "id": "mVXE-Xiu1q7A"
      },
      "source": [
        ""
      ],
      "execution_count": null,
      "outputs": []
    }
  ]
}