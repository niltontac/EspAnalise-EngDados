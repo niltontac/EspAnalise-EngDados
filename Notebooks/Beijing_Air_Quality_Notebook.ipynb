{
  "nbformat": 4,
  "nbformat_minor": 0,
  "metadata": {
    "colab": {
      "name": "Copy of Avaliação 11.01.ipynb",
      "provenance": [],
      "collapsed_sections": [],
      "include_colab_link": true
    },
    "kernelspec": {
      "name": "python3",
      "display_name": "Python 3"
    }
  },
  "cells": [
    {
      "cell_type": "markdown",
      "metadata": {
        "id": "view-in-github",
        "colab_type": "text"
      },
      "source": [
        "<a href=\"https://colab.research.google.com/github/niltontac/EspAnalise-EngDados/blob/master/PRSA.ipynb\" target=\"_parent\"><img src=\"https://colab.research.google.com/assets/colab-badge.svg\" alt=\"Open In Colab\"/></a>"
      ]
    },
    {
      "cell_type": "markdown",
      "metadata": {
        "id": "LkXi0sv1CS8G",
        "colab_type": "text"
      },
      "source": [
        "Especialização em Análise e Engenharia de Dados - Cesar School/CInUFPE\n",
        "\n",
        "Disciplina: Estatística Descritiva dos Dados\n",
        "\n",
        "Professor: Tsang Ing Ren\n",
        "\n",
        "Monitor: José Ivson Soares da Silva\n",
        "\n",
        "Alunos | Analistas:\n",
        "01. Cristiano Santana\n",
        "02. Matheus Queiroz\n",
        "03. Nilton Coura\n",
        "\n",
        "Fonte dos dados: arquivo PRSA.csv disponível em https://archive.ics.uci.edu/ml/datasets/Beijing+Multi-Site+Air-Quality+Data"
      ]
    },
    {
      "cell_type": "code",
      "metadata": {
        "id": "cSOAEdT3VMfo",
        "colab_type": "code",
        "colab": {}
      },
      "source": [
        "import numpy as np\n",
        "import pandas as pd\n",
        "from pandas import DataFrame\n",
        "from math import log"
      ],
      "execution_count": 0,
      "outputs": []
    },
    {
      "cell_type": "code",
      "metadata": {
        "id": "hMKnjcHGhTKk",
        "colab_type": "code",
        "colab": {}
      },
      "source": [
        "#Importando arquivo do conjunto de dados\n",
        "weather_raw=pd.read_csv(\"https://raw.githubusercontent.com/niltontac/EspAnalise-EngDados/master/prsa.csv\",encoding = \"ISO-8859-1\", sep=\";\", decimal=\",\", thousands=\".\")"
      ],
      "execution_count": 0,
      "outputs": []
    },
    {
      "cell_type": "code",
      "metadata": {
        "id": "s61Qo8J_U5Ts",
        "colab_type": "code",
        "outputId": "2d1d5b2b-6778-4156-f149-f4b28fa215ab",
        "colab": {
          "base_uri": "https://localhost:8080/",
          "height": 527
        }
      },
      "source": [
        "#Display mostra .head() a qualquer momento no código. Aqui vemos a \"cara\" do conjunto de dados importado\n",
        "display(weather_raw.head())  \n",
        "\n",
        "weather_raw.dtypes"
      ],
      "execution_count": 3,
      "outputs": [
        {
          "output_type": "display_data",
          "data": {
            "text/html": [
              "<div>\n",
              "<style scoped>\n",
              "    .dataframe tbody tr th:only-of-type {\n",
              "        vertical-align: middle;\n",
              "    }\n",
              "\n",
              "    .dataframe tbody tr th {\n",
              "        vertical-align: top;\n",
              "    }\n",
              "\n",
              "    .dataframe thead th {\n",
              "        text-align: right;\n",
              "    }\n",
              "</style>\n",
              "<table border=\"1\" class=\"dataframe\">\n",
              "  <thead>\n",
              "    <tr style=\"text-align: right;\">\n",
              "      <th></th>\n",
              "      <th>No</th>\n",
              "      <th>year</th>\n",
              "      <th>month</th>\n",
              "      <th>day</th>\n",
              "      <th>hour</th>\n",
              "      <th>PM2.5</th>\n",
              "      <th>PM10</th>\n",
              "      <th>SO2</th>\n",
              "      <th>NO2</th>\n",
              "      <th>CO</th>\n",
              "      <th>O3</th>\n",
              "      <th>TEMP</th>\n",
              "      <th>PRES</th>\n",
              "      <th>DEWP</th>\n",
              "      <th>RAIN</th>\n",
              "      <th>wd</th>\n",
              "      <th>WSPM</th>\n",
              "      <th>station</th>\n",
              "    </tr>\n",
              "  </thead>\n",
              "  <tbody>\n",
              "    <tr>\n",
              "      <th>0</th>\n",
              "      <td>1</td>\n",
              "      <td>2013</td>\n",
              "      <td>3</td>\n",
              "      <td>1</td>\n",
              "      <td>0</td>\n",
              "      <td>3.0</td>\n",
              "      <td>6.0</td>\n",
              "      <td>13.0</td>\n",
              "      <td>7.0</td>\n",
              "      <td>300.0</td>\n",
              "      <td>85.0</td>\n",
              "      <td>-23.0</td>\n",
              "      <td>10208.0</td>\n",
              "      <td>-197.0</td>\n",
              "      <td>0.0</td>\n",
              "      <td>E</td>\n",
              "      <td>5.0</td>\n",
              "      <td>Changping</td>\n",
              "    </tr>\n",
              "    <tr>\n",
              "      <th>1</th>\n",
              "      <td>2</td>\n",
              "      <td>2013</td>\n",
              "      <td>3</td>\n",
              "      <td>1</td>\n",
              "      <td>1</td>\n",
              "      <td>3.0</td>\n",
              "      <td>3.0</td>\n",
              "      <td>6.0</td>\n",
              "      <td>6.0</td>\n",
              "      <td>300.0</td>\n",
              "      <td>85.0</td>\n",
              "      <td>-25.0</td>\n",
              "      <td>10213.0</td>\n",
              "      <td>-19.0</td>\n",
              "      <td>0.0</td>\n",
              "      <td>ENE</td>\n",
              "      <td>7.0</td>\n",
              "      <td>Changping</td>\n",
              "    </tr>\n",
              "    <tr>\n",
              "      <th>2</th>\n",
              "      <td>3</td>\n",
              "      <td>2013</td>\n",
              "      <td>3</td>\n",
              "      <td>1</td>\n",
              "      <td>2</td>\n",
              "      <td>3.0</td>\n",
              "      <td>3.0</td>\n",
              "      <td>22.0</td>\n",
              "      <td>13.0</td>\n",
              "      <td>400.0</td>\n",
              "      <td>74.0</td>\n",
              "      <td>-3.0</td>\n",
              "      <td>10213.0</td>\n",
              "      <td>-199.0</td>\n",
              "      <td>0.0</td>\n",
              "      <td>ENE</td>\n",
              "      <td>2.0</td>\n",
              "      <td>Changping</td>\n",
              "    </tr>\n",
              "    <tr>\n",
              "      <th>3</th>\n",
              "      <td>4</td>\n",
              "      <td>2013</td>\n",
              "      <td>3</td>\n",
              "      <td>1</td>\n",
              "      <td>3</td>\n",
              "      <td>3.0</td>\n",
              "      <td>6.0</td>\n",
              "      <td>12.0</td>\n",
              "      <td>8.0</td>\n",
              "      <td>300.0</td>\n",
              "      <td>81.0</td>\n",
              "      <td>-36.0</td>\n",
              "      <td>10218.0</td>\n",
              "      <td>-191.0</td>\n",
              "      <td>0.0</td>\n",
              "      <td>NNE</td>\n",
              "      <td>1.0</td>\n",
              "      <td>Changping</td>\n",
              "    </tr>\n",
              "    <tr>\n",
              "      <th>4</th>\n",
              "      <td>5</td>\n",
              "      <td>2013</td>\n",
              "      <td>3</td>\n",
              "      <td>1</td>\n",
              "      <td>4</td>\n",
              "      <td>3.0</td>\n",
              "      <td>3.0</td>\n",
              "      <td>14.0</td>\n",
              "      <td>8.0</td>\n",
              "      <td>300.0</td>\n",
              "      <td>81.0</td>\n",
              "      <td>-35.0</td>\n",
              "      <td>10223.0</td>\n",
              "      <td>-194.0</td>\n",
              "      <td>0.0</td>\n",
              "      <td>N</td>\n",
              "      <td>21.0</td>\n",
              "      <td>Changping</td>\n",
              "    </tr>\n",
              "  </tbody>\n",
              "</table>\n",
              "</div>"
            ],
            "text/plain": [
              "   No  year  month  day  hour  ...   DEWP  RAIN   wd  WSPM    station\n",
              "0   1  2013      3    1     0  ... -197.0   0.0    E   5.0  Changping\n",
              "1   2  2013      3    1     1  ...  -19.0   0.0  ENE   7.0  Changping\n",
              "2   3  2013      3    1     2  ... -199.0   0.0  ENE   2.0  Changping\n",
              "3   4  2013      3    1     3  ... -191.0   0.0  NNE   1.0  Changping\n",
              "4   5  2013      3    1     4  ... -194.0   0.0    N  21.0  Changping\n",
              "\n",
              "[5 rows x 18 columns]"
            ]
          },
          "metadata": {
            "tags": []
          }
        },
        {
          "output_type": "execute_result",
          "data": {
            "text/plain": [
              "No           int64\n",
              "year         int64\n",
              "month        int64\n",
              "day          int64\n",
              "hour         int64\n",
              "PM2.5      float64\n",
              "PM10       float64\n",
              "SO2        float64\n",
              "NO2        float64\n",
              "CO         float64\n",
              "O3         float64\n",
              "TEMP       float64\n",
              "PRES       float64\n",
              "DEWP       float64\n",
              "RAIN       float64\n",
              "wd          object\n",
              "WSPM       float64\n",
              "station     object\n",
              "dtype: object"
            ]
          },
          "metadata": {
            "tags": []
          },
          "execution_count": 3
        }
      ]
    },
    {
      "cell_type": "code",
      "metadata": {
        "id": "GQXTk1n5ATxu",
        "colab_type": "code",
        "outputId": "a5bb577f-b585-499a-9dd5-6e97ac4232f2",
        "colab": {
          "base_uri": "https://localhost:8080/",
          "height": 340
        }
      },
      "source": [
        "#Setando as colunas \"wd\" e \"station\" como categoricos\n",
        "weather_raw.wd = weather_raw.wd.astype('category')\n",
        "weather_raw.station = weather_raw.station.astype('category')\n",
        "\n",
        "weather_raw.dtypes"
      ],
      "execution_count": 4,
      "outputs": [
        {
          "output_type": "execute_result",
          "data": {
            "text/plain": [
              "No            int64\n",
              "year          int64\n",
              "month         int64\n",
              "day           int64\n",
              "hour          int64\n",
              "PM2.5       float64\n",
              "PM10        float64\n",
              "SO2         float64\n",
              "NO2         float64\n",
              "CO          float64\n",
              "O3          float64\n",
              "TEMP        float64\n",
              "PRES        float64\n",
              "DEWP        float64\n",
              "RAIN        float64\n",
              "wd         category\n",
              "WSPM        float64\n",
              "station    category\n",
              "dtype: object"
            ]
          },
          "metadata": {
            "tags": []
          },
          "execution_count": 4
        }
      ]
    },
    {
      "cell_type": "code",
      "metadata": {
        "id": "kx-6et4spDlX",
        "colab_type": "code",
        "colab": {}
      },
      "source": [
        "#IDENTIFICANDO AS VARIÁVEIS\n",
        "\n",
        "#No           int64  #DISCRETO #ORDINAL\n",
        "#year         int64  #DISCRETO #ORDINAL\n",
        "#month        int64  #DISCRETO #ORDINAL\n",
        "#day          int64  #DISCRETO #ORDINAL\n",
        "#hour         int64  #DISCRETO #ORDINAL\n",
        "#PM2.5      float64  #CONTINUO \n",
        "#PM10       float64  #CONTINUO \n",
        "#SO2        float64  #CONTINUO \n",
        "#NO2        float64  #CONTINUO \n",
        "#CO         float64  #CONTINUO \n",
        "#O3         float64  #CONTINUO \n",
        "#TEMP       float64  #CONTINUO \n",
        "#PRES       float64  #CONTINUO \n",
        "#DEWP       float64  #CONTINUO \n",
        "#RAIN       float64  #CONTINUO \n",
        "#wd         category #CONTINUO \n",
        "#WSPM       float64  #CONTINUO \n",
        "#station    category #NOMINAL"
      ],
      "execution_count": 0,
      "outputs": []
    },
    {
      "cell_type": "markdown",
      "metadata": {
        "id": "-X3yClq9tgFq",
        "colab_type": "text"
      },
      "source": [
        "EXCLUINDO COLUNAS DESNECESSÁRIAS"
      ]
    },
    {
      "cell_type": "code",
      "metadata": {
        "id": "_kL8NHMzte0-",
        "colab_type": "code",
        "outputId": "40ea6caa-947f-4568-e3ac-94b2fba23596",
        "colab": {
          "base_uri": "https://localhost:8080/",
          "height": 419
        }
      },
      "source": [
        "weather_loc=weather_raw.loc[:,['year','month','SO2','NO2','CO','station']]\n",
        "\n",
        "weather_loc.head(100)"
      ],
      "execution_count": 6,
      "outputs": [
        {
          "output_type": "execute_result",
          "data": {
            "text/html": [
              "<div>\n",
              "<style scoped>\n",
              "    .dataframe tbody tr th:only-of-type {\n",
              "        vertical-align: middle;\n",
              "    }\n",
              "\n",
              "    .dataframe tbody tr th {\n",
              "        vertical-align: top;\n",
              "    }\n",
              "\n",
              "    .dataframe thead th {\n",
              "        text-align: right;\n",
              "    }\n",
              "</style>\n",
              "<table border=\"1\" class=\"dataframe\">\n",
              "  <thead>\n",
              "    <tr style=\"text-align: right;\">\n",
              "      <th></th>\n",
              "      <th>year</th>\n",
              "      <th>month</th>\n",
              "      <th>SO2</th>\n",
              "      <th>NO2</th>\n",
              "      <th>CO</th>\n",
              "      <th>station</th>\n",
              "    </tr>\n",
              "  </thead>\n",
              "  <tbody>\n",
              "    <tr>\n",
              "      <th>0</th>\n",
              "      <td>2013</td>\n",
              "      <td>3</td>\n",
              "      <td>13.0</td>\n",
              "      <td>7.0</td>\n",
              "      <td>300.0</td>\n",
              "      <td>Changping</td>\n",
              "    </tr>\n",
              "    <tr>\n",
              "      <th>1</th>\n",
              "      <td>2013</td>\n",
              "      <td>3</td>\n",
              "      <td>6.0</td>\n",
              "      <td>6.0</td>\n",
              "      <td>300.0</td>\n",
              "      <td>Changping</td>\n",
              "    </tr>\n",
              "    <tr>\n",
              "      <th>2</th>\n",
              "      <td>2013</td>\n",
              "      <td>3</td>\n",
              "      <td>22.0</td>\n",
              "      <td>13.0</td>\n",
              "      <td>400.0</td>\n",
              "      <td>Changping</td>\n",
              "    </tr>\n",
              "    <tr>\n",
              "      <th>3</th>\n",
              "      <td>2013</td>\n",
              "      <td>3</td>\n",
              "      <td>12.0</td>\n",
              "      <td>8.0</td>\n",
              "      <td>300.0</td>\n",
              "      <td>Changping</td>\n",
              "    </tr>\n",
              "    <tr>\n",
              "      <th>4</th>\n",
              "      <td>2013</td>\n",
              "      <td>3</td>\n",
              "      <td>14.0</td>\n",
              "      <td>8.0</td>\n",
              "      <td>300.0</td>\n",
              "      <td>Changping</td>\n",
              "    </tr>\n",
              "    <tr>\n",
              "      <th>...</th>\n",
              "      <td>...</td>\n",
              "      <td>...</td>\n",
              "      <td>...</td>\n",
              "      <td>...</td>\n",
              "      <td>...</td>\n",
              "      <td>...</td>\n",
              "    </tr>\n",
              "    <tr>\n",
              "      <th>95</th>\n",
              "      <td>2013</td>\n",
              "      <td>3</td>\n",
              "      <td>21.0</td>\n",
              "      <td>43.0</td>\n",
              "      <td>1200.0</td>\n",
              "      <td>Changping</td>\n",
              "    </tr>\n",
              "    <tr>\n",
              "      <th>96</th>\n",
              "      <td>2013</td>\n",
              "      <td>3</td>\n",
              "      <td>20.0</td>\n",
              "      <td>37.0</td>\n",
              "      <td>900.0</td>\n",
              "      <td>Changping</td>\n",
              "    </tr>\n",
              "    <tr>\n",
              "      <th>97</th>\n",
              "      <td>2013</td>\n",
              "      <td>3</td>\n",
              "      <td>38.0</td>\n",
              "      <td>66.0</td>\n",
              "      <td>1600.0</td>\n",
              "      <td>Changping</td>\n",
              "    </tr>\n",
              "    <tr>\n",
              "      <th>98</th>\n",
              "      <td>2013</td>\n",
              "      <td>3</td>\n",
              "      <td>32.0</td>\n",
              "      <td>54.0</td>\n",
              "      <td>1399.0</td>\n",
              "      <td>Changping</td>\n",
              "    </tr>\n",
              "    <tr>\n",
              "      <th>99</th>\n",
              "      <td>2013</td>\n",
              "      <td>3</td>\n",
              "      <td>20.0</td>\n",
              "      <td>36.0</td>\n",
              "      <td>1100.0</td>\n",
              "      <td>Changping</td>\n",
              "    </tr>\n",
              "  </tbody>\n",
              "</table>\n",
              "<p>100 rows × 6 columns</p>\n",
              "</div>"
            ],
            "text/plain": [
              "    year  month   SO2   NO2      CO    station\n",
              "0   2013      3  13.0   7.0   300.0  Changping\n",
              "1   2013      3   6.0   6.0   300.0  Changping\n",
              "2   2013      3  22.0  13.0   400.0  Changping\n",
              "3   2013      3  12.0   8.0   300.0  Changping\n",
              "4   2013      3  14.0   8.0   300.0  Changping\n",
              "..   ...    ...   ...   ...     ...        ...\n",
              "95  2013      3  21.0  43.0  1200.0  Changping\n",
              "96  2013      3  20.0  37.0   900.0  Changping\n",
              "97  2013      3  38.0  66.0  1600.0  Changping\n",
              "98  2013      3  32.0  54.0  1399.0  Changping\n",
              "99  2013      3  20.0  36.0  1100.0  Changping\n",
              "\n",
              "[100 rows x 6 columns]"
            ]
          },
          "metadata": {
            "tags": []
          },
          "execution_count": 6
        }
      ]
    },
    {
      "cell_type": "markdown",
      "metadata": {
        "id": "dMJgzG2Yv5Ob",
        "colab_type": "text"
      },
      "source": [
        "DEFININDO POPULAÇÃO"
      ]
    },
    {
      "cell_type": "code",
      "metadata": {
        "id": "GNgZPSlnv0EL",
        "colab_type": "code",
        "outputId": "ae202aa9-55ae-48db-bbbe-a9dfff4bbf0c",
        "colab": {
          "base_uri": "https://localhost:8080/",
          "height": 68
        }
      },
      "source": [
        "weather_months=weather_loc[(weather_loc['month']<=3)] #Escolhendo população do primeiro trimestre\n",
        "\n",
        "weather_years=weather_months[(weather_loc['year']>=2015) ] #Escolhendo população de 2015, 2016 e 2017\n",
        "\n",
        "#População formada\n",
        "weather_pop = weather_years\n",
        "weather_pop.shape"
      ],
      "execution_count": 7,
      "outputs": [
        {
          "output_type": "stream",
          "text": [
            "/usr/local/lib/python3.6/dist-packages/ipykernel_launcher.py:3: UserWarning: Boolean Series key will be reindexed to match DataFrame index.\n",
            "  This is separate from the ipykernel package so we can avoid doing imports until\n"
          ],
          "name": "stderr"
        },
        {
          "output_type": "execute_result",
          "data": {
            "text/plain": [
              "(17280, 6)"
            ]
          },
          "metadata": {
            "tags": []
          },
          "execution_count": 7
        }
      ]
    },
    {
      "cell_type": "markdown",
      "metadata": {
        "id": "2NmvSSip7fKN",
        "colab_type": "text"
      },
      "source": [
        "LIMPANDO E TRATANDO OS DADOS"
      ]
    },
    {
      "cell_type": "code",
      "metadata": {
        "id": "6xMlScjX7elr",
        "colab_type": "code",
        "outputId": "4ff0d201-c684-45b3-bc7c-ace40c9a2c64",
        "colab": {
          "base_uri": "https://localhost:8080/",
          "height": 877
        }
      },
      "source": [
        "#Encontrando valores N/A\n",
        "display(weather_pop.isna().sum())\n",
        "\n",
        "#Encontrando valores NULL\n",
        "display(weather_pop.isnull().sum())\n",
        "\n",
        "weather_pop.dropna(axis=0, how = 'any', inplace=True)\n",
        "\n",
        "display(weather_pop.isna().sum())\n",
        "\n",
        "weather_pop.shape\n",
        "\n",
        "#Data FRAME COM N/A TRATADO\n",
        "display(weather_pop.boxplot('CO'))\n",
        "\n",
        "display(weather_pop['CO'].describe())"
      ],
      "execution_count": 8,
      "outputs": [
        {
          "output_type": "display_data",
          "data": {
            "text/plain": [
              "year         0\n",
              "month        0\n",
              "SO2        224\n",
              "NO2        256\n",
              "CO         226\n",
              "station      0\n",
              "dtype: int64"
            ]
          },
          "metadata": {
            "tags": []
          }
        },
        {
          "output_type": "display_data",
          "data": {
            "text/plain": [
              "year         0\n",
              "month        0\n",
              "SO2        224\n",
              "NO2        256\n",
              "CO         226\n",
              "station      0\n",
              "dtype: int64"
            ]
          },
          "metadata": {
            "tags": []
          }
        },
        {
          "output_type": "stream",
          "text": [
            "/usr/local/lib/python3.6/dist-packages/ipykernel_launcher.py:6: SettingWithCopyWarning: \n",
            "A value is trying to be set on a copy of a slice from a DataFrame\n",
            "\n",
            "See the caveats in the documentation: http://pandas.pydata.org/pandas-docs/stable/user_guide/indexing.html#returning-a-view-versus-a-copy\n",
            "  \n"
          ],
          "name": "stderr"
        },
        {
          "output_type": "display_data",
          "data": {
            "text/plain": [
              "year       0\n",
              "month      0\n",
              "SO2        0\n",
              "NO2        0\n",
              "CO         0\n",
              "station    0\n",
              "dtype: int64"
            ]
          },
          "metadata": {
            "tags": []
          }
        },
        {
          "output_type": "display_data",
          "data": {
            "text/plain": [
              "<matplotlib.axes._subplots.AxesSubplot at 0x7fabfc8be470>"
            ]
          },
          "metadata": {
            "tags": []
          }
        },
        {
          "output_type": "display_data",
          "data": {
            "text/plain": [
              "count    16861.000000\n",
              "mean      1388.879663\n",
              "std       1310.598845\n",
              "min        100.000000\n",
              "25%        500.000000\n",
              "50%        900.000000\n",
              "75%       1900.000000\n",
              "max      10000.000000\n",
              "Name: CO, dtype: float64"
            ]
          },
          "metadata": {
            "tags": []
          }
        },
        {
          "output_type": "display_data",
          "data": {
            "image/png": "[encoded data removed]",
            "text/plain": [
              "<Figure size 432x288 with 1 Axes>"
            ]
          },
          "metadata": {
            "tags": []
          }
        }
      ]
    },
    {
      "cell_type": "code",
      "metadata": {
        "id": "IeIUfb9ABZSt",
        "colab_type": "code",
        "outputId": "d1177826-ff76-4fe8-c150-c6b10d1a1c14",
        "colab": {
          "base_uri": "https://localhost:8080/",
          "height": 435
        }
      },
      "source": [
        "display(weather_pop['SO2'].describe())\n",
        "\n",
        "display(weather_pop.boxplot('SO2'))"
      ],
      "execution_count": 9,
      "outputs": [
        {
          "output_type": "display_data",
          "data": {
            "text/plain": [
              "count    16861.000000\n",
              "mean        19.148568\n",
              "std         21.600155\n",
              "min          1.000000\n",
              "25%          4.000000\n",
              "50%         12.000000\n",
              "75%         27.000000\n",
              "max        589.000000\n",
              "Name: SO2, dtype: float64"
            ]
          },
          "metadata": {
            "tags": []
          }
        },
        {
          "output_type": "display_data",
          "data": {
            "text/plain": [
              "<matplotlib.axes._subplots.AxesSubplot at 0x7fabfc447438>"
            ]
          },
          "metadata": {
            "tags": []
          }
        },
        {
          "output_type": "display_data",
          "data": {
            "image/png": "[encoded data removed]",
            "text/plain": [
              "<Figure size 432x288 with 1 Axes>"
            ]
          },
          "metadata": {
            "tags": []
          }
        }
      ]
    },
    {
      "cell_type": "code",
      "metadata": {
        "id": "OF0Gmvu7CJDa",
        "colab_type": "code",
        "outputId": "66ac73aa-9841-48a7-efa7-916e8d1a9ecb",
        "colab": {
          "base_uri": "https://localhost:8080/",
          "height": 435
        }
      },
      "source": [
        "display(weather_pop['NO2'].describe())\n",
        "\n",
        "display(weather_pop.boxplot('NO2'))"
      ],
      "execution_count": 10,
      "outputs": [
        {
          "output_type": "display_data",
          "data": {
            "text/plain": [
              "count    16861.000000\n",
              "mean        47.352470\n",
              "std         36.415086\n",
              "min          2.000000\n",
              "25%         18.000000\n",
              "50%         40.000000\n",
              "75%         70.000000\n",
              "max        897.000000\n",
              "Name: NO2, dtype: float64"
            ]
          },
          "metadata": {
            "tags": []
          }
        },
        {
          "output_type": "display_data",
          "data": {
            "text/plain": [
              "<matplotlib.axes._subplots.AxesSubplot at 0x7fabfbef0828>"
            ]
          },
          "metadata": {
            "tags": []
          }
        },
        {
          "output_type": "display_data",
          "data": {
            "image/png": "[encoded data removed]",
            "text/plain": [
              "<Figure size 432x288 with 1 Axes>"
            ]
          },
          "metadata": {
            "tags": []
          }
        }
      ]
    },
    {
      "cell_type": "code",
      "metadata": {
        "id": "A0PhbvAcCTnW",
        "colab_type": "code",
        "outputId": "6b6baaac-cc9e-461f-d8e8-7822270ad376",
        "colab": {
          "base_uri": "https://localhost:8080/",
          "height": 333
        }
      },
      "source": [
        "#TRANTANDO OUTLIERS\n",
        "\n",
        "#custo_coletiva_d969=custo_coletiva_d969.drop(['CustoRecente_log'], axis=1)\n",
        "\n",
        "weather_outlier_solved1=weather_pop[weather_pop['SO2']<=300]\n",
        "\n",
        "weather_outlier_solved2=weather_outlier_solved1[weather_pop['NO2']<=400]\n",
        "\n",
        "#Mostrando que os outliers de SO2 foram removidos\n",
        "display(weather_outlier_solved2.boxplot('SO2'))\n",
        "\n",
        "#Mostrando que os outliers de NO2 foram removidos\n",
        "display(weather_outlier_solved2.boxplot('NO2'))"
      ],
      "execution_count": 11,
      "outputs": [
        {
          "output_type": "stream",
          "text": [
            "/usr/local/lib/python3.6/dist-packages/ipykernel_launcher.py:4: UserWarning: Boolean Series key will be reindexed to match DataFrame index.\n",
            "  after removing the cwd from sys.path.\n"
          ],
          "name": "stderr"
        },
        {
          "output_type": "display_data",
          "data": {
            "text/plain": [
              "<matplotlib.axes._subplots.AxesSubplot at 0x7fabfbe5b940>"
            ]
          },
          "metadata": {
            "tags": []
          }
        },
        {
          "output_type": "display_data",
          "data": {
            "text/plain": [
              "<matplotlib.axes._subplots.AxesSubplot at 0x7fabfbe5b940>"
            ]
          },
          "metadata": {
            "tags": []
          }
        },
        {
          "output_type": "display_data",
          "data": {
            "image/png": "[encoded data removed]",
            "text/plain": [
              "<Figure size 432x288 with 1 Axes>"
            ]
          },
          "metadata": {
            "tags": []
          }
        }
      ]
    },
    {
      "cell_type": "code",
      "metadata": {
        "id": "X07IwCx4JJz9",
        "colab_type": "code",
        "outputId": "90233811-e1eb-4e45-93e6-677229e15a95",
        "colab": {
          "base_uri": "https://localhost:8080/",
          "height": 323
        }
      },
      "source": [
        "#Selecionando valores maximos\n",
        "\n",
        "#Aproveitando que describe() fornece o valor máximo para cada coluna, segue:\n",
        "max_SO2=weather_outlier_solved2['SO2'].describe()[7]\n",
        "\n",
        "max_CO=weather_outlier_solved2['CO'].describe()[7]\n",
        "\n",
        "max_NO2=weather_outlier_solved2['NO2'].describe()[7]\n",
        "\n",
        "#Normalizando\n",
        "weather_outlier_solved2['SO2']=weather_outlier_solved2['SO2']/max_SO2\n",
        "\n",
        "weather_outlier_solved2['CO']=weather_outlier_solved2['CO']/max_CO\n",
        "\n",
        "weather_outlier_solved2['NO2']=weather_outlier_solved2['NO2']/max_NO2"
      ],
      "execution_count": 12,
      "outputs": [
        {
          "output_type": "stream",
          "text": [
            "/usr/local/lib/python3.6/dist-packages/ipykernel_launcher.py:8: SettingWithCopyWarning: \n",
            "A value is trying to be set on a copy of a slice from a DataFrame.\n",
            "Try using .loc[row_indexer,col_indexer] = value instead\n",
            "\n",
            "See the caveats in the documentation: http://pandas.pydata.org/pandas-docs/stable/user_guide/indexing.html#returning-a-view-versus-a-copy\n",
            "  \n",
            "/usr/local/lib/python3.6/dist-packages/ipykernel_launcher.py:10: SettingWithCopyWarning: \n",
            "A value is trying to be set on a copy of a slice from a DataFrame.\n",
            "Try using .loc[row_indexer,col_indexer] = value instead\n",
            "\n",
            "See the caveats in the documentation: http://pandas.pydata.org/pandas-docs/stable/user_guide/indexing.html#returning-a-view-versus-a-copy\n",
            "  # Remove the CWD from sys.path while we load stuff.\n",
            "/usr/local/lib/python3.6/dist-packages/ipykernel_launcher.py:12: SettingWithCopyWarning: \n",
            "A value is trying to be set on a copy of a slice from a DataFrame.\n",
            "Try using .loc[row_indexer,col_indexer] = value instead\n",
            "\n",
            "See the caveats in the documentation: http://pandas.pydata.org/pandas-docs/stable/user_guide/indexing.html#returning-a-view-versus-a-copy\n",
            "  if sys.path[0] == '':\n"
          ],
          "name": "stderr"
        }
      ]
    },
    {
      "cell_type": "code",
      "metadata": {
        "id": "5FkuPxIVJJun",
        "colab_type": "code",
        "outputId": "8e9e24e2-bf06-4a4b-f5e2-078562b6c02d",
        "colab": {
          "base_uri": "https://localhost:8080/",
          "height": 1000
        }
      },
      "source": [
        "#APRESENTANDO DFs\n",
        "\n",
        "#População\n",
        "weather_population=weather_outlier_solved2\n",
        "\n",
        "#ESTATISTICA POPULAÇÃO\n",
        "display('POPULAÇÃO', weather_population.describe())\n",
        "\n",
        "\n",
        "#ESTATISTICA PRIMEIRO GRUPO\n",
        "weather_sample_1=weather_population.sample(frac=0.1)\n",
        "display(weather_sample_1)\n",
        "\n",
        "display('AMOSTRA 1',weather_sample_1.describe())\n",
        "\n",
        "\n",
        "#ESTATISTICA SEGUNDO GRUPO\n",
        "weather_sample_2= weather_population.sample(frac=0.1)\n",
        "display(weather_sample_2)\n",
        "\n",
        "display('AMOSTRA 2',weather_sample_2.describe())"
      ],
      "execution_count": 13,
      "outputs": [
        {
          "output_type": "display_data",
          "data": {
            "text/plain": [
              "'POPULAÇÃO'"
            ]
          },
          "metadata": {
            "tags": []
          }
        },
        {
          "output_type": "display_data",
          "data": {
            "text/html": [
              "<div>\n",
              "<style scoped>\n",
              "    .dataframe tbody tr th:only-of-type {\n",
              "        vertical-align: middle;\n",
              "    }\n",
              "\n",
              "    .dataframe tbody tr th {\n",
              "        vertical-align: top;\n",
              "    }\n",
              "\n",
              "    .dataframe thead th {\n",
              "        text-align: right;\n",
              "    }\n",
              "</style>\n",
              "<table border=\"1\" class=\"dataframe\">\n",
              "  <thead>\n",
              "    <tr style=\"text-align: right;\">\n",
              "      <th></th>\n",
              "      <th>year</th>\n",
              "      <th>month</th>\n",
              "      <th>SO2</th>\n",
              "      <th>NO2</th>\n",
              "      <th>CO</th>\n",
              "    </tr>\n",
              "  </thead>\n",
              "  <tbody>\n",
              "    <tr>\n",
              "      <th>count</th>\n",
              "      <td>16851.000000</td>\n",
              "      <td>16851.000000</td>\n",
              "      <td>16851.000000</td>\n",
              "      <td>16851.000000</td>\n",
              "      <td>16851.000000</td>\n",
              "    </tr>\n",
              "    <tr>\n",
              "      <th>mean</th>\n",
              "      <td>2015.871818</td>\n",
              "      <td>1.862797</td>\n",
              "      <td>0.073860</td>\n",
              "      <td>0.135986</td>\n",
              "      <td>0.138835</td>\n",
              "    </tr>\n",
              "    <tr>\n",
              "      <th>std</th>\n",
              "      <td>0.777469</td>\n",
              "      <td>0.790627</td>\n",
              "      <td>0.077474</td>\n",
              "      <td>0.100153</td>\n",
              "      <td>0.131004</td>\n",
              "    </tr>\n",
              "    <tr>\n",
              "      <th>min</th>\n",
              "      <td>2015.000000</td>\n",
              "      <td>1.000000</td>\n",
              "      <td>0.003891</td>\n",
              "      <td>0.005764</td>\n",
              "      <td>0.010000</td>\n",
              "    </tr>\n",
              "    <tr>\n",
              "      <th>25%</th>\n",
              "      <td>2015.000000</td>\n",
              "      <td>1.000000</td>\n",
              "      <td>0.015564</td>\n",
              "      <td>0.051873</td>\n",
              "      <td>0.050000</td>\n",
              "    </tr>\n",
              "    <tr>\n",
              "      <th>50%</th>\n",
              "      <td>2016.000000</td>\n",
              "      <td>2.000000</td>\n",
              "      <td>0.046693</td>\n",
              "      <td>0.115274</td>\n",
              "      <td>0.090000</td>\n",
              "    </tr>\n",
              "    <tr>\n",
              "      <th>75%</th>\n",
              "      <td>2016.000000</td>\n",
              "      <td>3.000000</td>\n",
              "      <td>0.105058</td>\n",
              "      <td>0.201729</td>\n",
              "      <td>0.190000</td>\n",
              "    </tr>\n",
              "    <tr>\n",
              "      <th>max</th>\n",
              "      <td>2017.000000</td>\n",
              "      <td>3.000000</td>\n",
              "      <td>1.000000</td>\n",
              "      <td>1.000000</td>\n",
              "      <td>1.000000</td>\n",
              "    </tr>\n",
              "  </tbody>\n",
              "</table>\n",
              "</div>"
            ],
            "text/plain": [
              "               year         month           SO2           NO2            CO\n",
              "count  16851.000000  16851.000000  16851.000000  16851.000000  16851.000000\n",
              "mean    2015.871818      1.862797      0.073860      0.135986      0.138835\n",
              "std        0.777469      0.790627      0.077474      0.100153      0.131004\n",
              "min     2015.000000      1.000000      0.003891      0.005764      0.010000\n",
              "25%     2015.000000      1.000000      0.015564      0.051873      0.050000\n",
              "50%     2016.000000      2.000000      0.046693      0.115274      0.090000\n",
              "75%     2016.000000      3.000000      0.105058      0.201729      0.190000\n",
              "max     2017.000000      3.000000      1.000000      1.000000      1.000000"
            ]
          },
          "metadata": {
            "tags": []
          }
        },
        {
          "output_type": "display_data",
          "data": {
            "text/html": [
              "<div>\n",
              "<style scoped>\n",
              "    .dataframe tbody tr th:only-of-type {\n",
              "        vertical-align: middle;\n",
              "    }\n",
              "\n",
              "    .dataframe tbody tr th {\n",
              "        vertical-align: top;\n",
              "    }\n",
              "\n",
              "    .dataframe thead th {\n",
              "        text-align: right;\n",
              "    }\n",
              "</style>\n",
              "<table border=\"1\" class=\"dataframe\">\n",
              "  <thead>\n",
              "    <tr style=\"text-align: right;\">\n",
              "      <th></th>\n",
              "      <th>year</th>\n",
              "      <th>month</th>\n",
              "      <th>SO2</th>\n",
              "      <th>NO2</th>\n",
              "      <th>CO</th>\n",
              "      <th>station</th>\n",
              "    </tr>\n",
              "  </thead>\n",
              "  <tbody>\n",
              "    <tr>\n",
              "      <th>97014</th>\n",
              "      <td>2016</td>\n",
              "      <td>3</td>\n",
              "      <td>0.007782</td>\n",
              "      <td>0.020173</td>\n",
              "      <td>0.02</td>\n",
              "      <td>Huairou</td>\n",
              "    </tr>\n",
              "    <tr>\n",
              "      <th>51980</th>\n",
              "      <td>2015</td>\n",
              "      <td>2</td>\n",
              "      <td>0.058366</td>\n",
              "      <td>0.097983</td>\n",
              "      <td>0.06</td>\n",
              "      <td>Gucheng</td>\n",
              "    </tr>\n",
              "    <tr>\n",
              "      <th>34084</th>\n",
              "      <td>2017</td>\n",
              "      <td>1</td>\n",
              "      <td>0.035019</td>\n",
              "      <td>0.092219</td>\n",
              "      <td>0.08</td>\n",
              "      <td>Changping</td>\n",
              "    </tr>\n",
              "    <tr>\n",
              "      <th>51920</th>\n",
              "      <td>2015</td>\n",
              "      <td>2</td>\n",
              "      <td>0.097276</td>\n",
              "      <td>0.164265</td>\n",
              "      <td>0.18</td>\n",
              "      <td>Gucheng</td>\n",
              "    </tr>\n",
              "    <tr>\n",
              "      <th>25455</th>\n",
              "      <td>2016</td>\n",
              "      <td>1</td>\n",
              "      <td>0.042802</td>\n",
              "      <td>0.103746</td>\n",
              "      <td>0.02</td>\n",
              "      <td>Changping</td>\n",
              "    </tr>\n",
              "    <tr>\n",
              "      <th>...</th>\n",
              "      <td>...</td>\n",
              "      <td>...</td>\n",
              "      <td>...</td>\n",
              "      <td>...</td>\n",
              "      <td>...</td>\n",
              "      <td>...</td>\n",
              "    </tr>\n",
              "    <tr>\n",
              "      <th>52661</th>\n",
              "      <td>2015</td>\n",
              "      <td>3</td>\n",
              "      <td>0.038911</td>\n",
              "      <td>0.023055</td>\n",
              "      <td>0.06</td>\n",
              "      <td>Gucheng</td>\n",
              "    </tr>\n",
              "    <tr>\n",
              "      <th>69270</th>\n",
              "      <td>2017</td>\n",
              "      <td>1</td>\n",
              "      <td>0.062257</td>\n",
              "      <td>0.167147</td>\n",
              "      <td>0.16</td>\n",
              "      <td>Gucheng</td>\n",
              "    </tr>\n",
              "    <tr>\n",
              "      <th>86697</th>\n",
              "      <td>2015</td>\n",
              "      <td>1</td>\n",
              "      <td>0.042802</td>\n",
              "      <td>0.132565</td>\n",
              "      <td>0.16</td>\n",
              "      <td>Huairou</td>\n",
              "    </tr>\n",
              "    <tr>\n",
              "      <th>34189</th>\n",
              "      <td>2017</td>\n",
              "      <td>1</td>\n",
              "      <td>0.077821</td>\n",
              "      <td>0.161383</td>\n",
              "      <td>0.11</td>\n",
              "      <td>Changping</td>\n",
              "    </tr>\n",
              "    <tr>\n",
              "      <th>34691</th>\n",
              "      <td>2017</td>\n",
              "      <td>2</td>\n",
              "      <td>0.062257</td>\n",
              "      <td>0.074928</td>\n",
              "      <td>0.07</td>\n",
              "      <td>Changping</td>\n",
              "    </tr>\n",
              "  </tbody>\n",
              "</table>\n",
              "<p>1685 rows × 6 columns</p>\n",
              "</div>"
            ],
            "text/plain": [
              "       year  month       SO2       NO2    CO    station\n",
              "97014  2016      3  0.007782  0.020173  0.02    Huairou\n",
              "51980  2015      2  0.058366  0.097983  0.06    Gucheng\n",
              "34084  2017      1  0.035019  0.092219  0.08  Changping\n",
              "51920  2015      2  0.097276  0.164265  0.18    Gucheng\n",
              "25455  2016      1  0.042802  0.103746  0.02  Changping\n",
              "...     ...    ...       ...       ...   ...        ...\n",
              "52661  2015      3  0.038911  0.023055  0.06    Gucheng\n",
              "69270  2017      1  0.062257  0.167147  0.16    Gucheng\n",
              "86697  2015      1  0.042802  0.132565  0.16    Huairou\n",
              "34189  2017      1  0.077821  0.161383  0.11  Changping\n",
              "34691  2017      2  0.062257  0.074928  0.07  Changping\n",
              "\n",
              "[1685 rows x 6 columns]"
            ]
          },
          "metadata": {
            "tags": []
          }
        },
        {
          "output_type": "display_data",
          "data": {
            "text/plain": [
              "'AMOSTRA 1'"
            ]
          },
          "metadata": {
            "tags": []
          }
        },
        {
          "output_type": "display_data",
          "data": {
            "text/html": [
              "<div>\n",
              "<style scoped>\n",
              "    .dataframe tbody tr th:only-of-type {\n",
              "        vertical-align: middle;\n",
              "    }\n",
              "\n",
              "    .dataframe tbody tr th {\n",
              "        vertical-align: top;\n",
              "    }\n",
              "\n",
              "    .dataframe thead th {\n",
              "        text-align: right;\n",
              "    }\n",
              "</style>\n",
              "<table border=\"1\" class=\"dataframe\">\n",
              "  <thead>\n",
              "    <tr style=\"text-align: right;\">\n",
              "      <th></th>\n",
              "      <th>year</th>\n",
              "      <th>month</th>\n",
              "      <th>SO2</th>\n",
              "      <th>NO2</th>\n",
              "      <th>CO</th>\n",
              "    </tr>\n",
              "  </thead>\n",
              "  <tbody>\n",
              "    <tr>\n",
              "      <th>count</th>\n",
              "      <td>1685.000000</td>\n",
              "      <td>1685.000000</td>\n",
              "      <td>1685.000000</td>\n",
              "      <td>1685.000000</td>\n",
              "      <td>1685.000000</td>\n",
              "    </tr>\n",
              "    <tr>\n",
              "      <th>mean</th>\n",
              "      <td>2015.872997</td>\n",
              "      <td>1.889614</td>\n",
              "      <td>0.072274</td>\n",
              "      <td>0.132967</td>\n",
              "      <td>0.134997</td>\n",
              "    </tr>\n",
              "    <tr>\n",
              "      <th>std</th>\n",
              "      <td>0.780105</td>\n",
              "      <td>0.794678</td>\n",
              "      <td>0.078197</td>\n",
              "      <td>0.098100</td>\n",
              "      <td>0.130441</td>\n",
              "    </tr>\n",
              "    <tr>\n",
              "      <th>min</th>\n",
              "      <td>2015.000000</td>\n",
              "      <td>1.000000</td>\n",
              "      <td>0.003891</td>\n",
              "      <td>0.005764</td>\n",
              "      <td>0.010000</td>\n",
              "    </tr>\n",
              "    <tr>\n",
              "      <th>25%</th>\n",
              "      <td>2015.000000</td>\n",
              "      <td>1.000000</td>\n",
              "      <td>0.015564</td>\n",
              "      <td>0.051873</td>\n",
              "      <td>0.040000</td>\n",
              "    </tr>\n",
              "    <tr>\n",
              "      <th>50%</th>\n",
              "      <td>2016.000000</td>\n",
              "      <td>2.000000</td>\n",
              "      <td>0.046693</td>\n",
              "      <td>0.112392</td>\n",
              "      <td>0.090000</td>\n",
              "    </tr>\n",
              "    <tr>\n",
              "      <th>75%</th>\n",
              "      <td>2016.000000</td>\n",
              "      <td>3.000000</td>\n",
              "      <td>0.101167</td>\n",
              "      <td>0.195965</td>\n",
              "      <td>0.180000</td>\n",
              "    </tr>\n",
              "    <tr>\n",
              "      <th>max</th>\n",
              "      <td>2017.000000</td>\n",
              "      <td>3.000000</td>\n",
              "      <td>0.961089</td>\n",
              "      <td>0.599424</td>\n",
              "      <td>0.990000</td>\n",
              "    </tr>\n",
              "  </tbody>\n",
              "</table>\n",
              "</div>"
            ],
            "text/plain": [
              "              year        month          SO2          NO2           CO\n",
              "count  1685.000000  1685.000000  1685.000000  1685.000000  1685.000000\n",
              "mean   2015.872997     1.889614     0.072274     0.132967     0.134997\n",
              "std       0.780105     0.794678     0.078197     0.098100     0.130441\n",
              "min    2015.000000     1.000000     0.003891     0.005764     0.010000\n",
              "25%    2015.000000     1.000000     0.015564     0.051873     0.040000\n",
              "50%    2016.000000     2.000000     0.046693     0.112392     0.090000\n",
              "75%    2016.000000     3.000000     0.101167     0.195965     0.180000\n",
              "max    2017.000000     3.000000     0.961089     0.599424     0.990000"
            ]
          },
          "metadata": {
            "tags": []
          }
        },
        {
          "output_type": "display_data",
          "data": {
            "text/html": [
              "<div>\n",
              "<style scoped>\n",
              "    .dataframe tbody tr th:only-of-type {\n",
              "        vertical-align: middle;\n",
              "    }\n",
              "\n",
              "    .dataframe tbody tr th {\n",
              "        vertical-align: top;\n",
              "    }\n",
              "\n",
              "    .dataframe thead th {\n",
              "        text-align: right;\n",
              "    }\n",
              "</style>\n",
              "<table border=\"1\" class=\"dataframe\">\n",
              "  <thead>\n",
              "    <tr style=\"text-align: right;\">\n",
              "      <th></th>\n",
              "      <th>year</th>\n",
              "      <th>month</th>\n",
              "      <th>SO2</th>\n",
              "      <th>NO2</th>\n",
              "      <th>CO</th>\n",
              "      <th>station</th>\n",
              "    </tr>\n",
              "  </thead>\n",
              "  <tbody>\n",
              "    <tr>\n",
              "      <th>17021</th>\n",
              "      <td>2015</td>\n",
              "      <td>2</td>\n",
              "      <td>0.015564</td>\n",
              "      <td>0.046110</td>\n",
              "      <td>0.05</td>\n",
              "      <td>Changping</td>\n",
              "    </tr>\n",
              "    <tr>\n",
              "      <th>95152</th>\n",
              "      <td>2016</td>\n",
              "      <td>1</td>\n",
              "      <td>0.023346</td>\n",
              "      <td>0.048991</td>\n",
              "      <td>0.01</td>\n",
              "      <td>Huairou</td>\n",
              "    </tr>\n",
              "    <tr>\n",
              "      <th>86237</th>\n",
              "      <td>2015</td>\n",
              "      <td>1</td>\n",
              "      <td>0.023346</td>\n",
              "      <td>0.014409</td>\n",
              "      <td>0.03</td>\n",
              "      <td>Huairou</td>\n",
              "    </tr>\n",
              "    <tr>\n",
              "      <th>34267</th>\n",
              "      <td>2017</td>\n",
              "      <td>1</td>\n",
              "      <td>0.015564</td>\n",
              "      <td>0.054755</td>\n",
              "      <td>0.04</td>\n",
              "      <td>Changping</td>\n",
              "    </tr>\n",
              "    <tr>\n",
              "      <th>69715</th>\n",
              "      <td>2017</td>\n",
              "      <td>2</td>\n",
              "      <td>0.108949</td>\n",
              "      <td>0.149856</td>\n",
              "      <td>0.12</td>\n",
              "      <td>Gucheng</td>\n",
              "    </tr>\n",
              "    <tr>\n",
              "      <th>...</th>\n",
              "      <td>...</td>\n",
              "      <td>...</td>\n",
              "      <td>...</td>\n",
              "      <td>...</td>\n",
              "      <td>...</td>\n",
              "      <td>...</td>\n",
              "    </tr>\n",
              "    <tr>\n",
              "      <th>51694</th>\n",
              "      <td>2015</td>\n",
              "      <td>1</td>\n",
              "      <td>0.295720</td>\n",
              "      <td>0.325648</td>\n",
              "      <td>0.36</td>\n",
              "      <td>Gucheng</td>\n",
              "    </tr>\n",
              "    <tr>\n",
              "      <th>96948</th>\n",
              "      <td>2016</td>\n",
              "      <td>3</td>\n",
              "      <td>0.038911</td>\n",
              "      <td>0.017291</td>\n",
              "      <td>0.02</td>\n",
              "      <td>Huairou</td>\n",
              "    </tr>\n",
              "    <tr>\n",
              "      <th>51323</th>\n",
              "      <td>2015</td>\n",
              "      <td>1</td>\n",
              "      <td>0.132296</td>\n",
              "      <td>0.184438</td>\n",
              "      <td>0.14</td>\n",
              "      <td>Gucheng</td>\n",
              "    </tr>\n",
              "    <tr>\n",
              "      <th>51379</th>\n",
              "      <td>2015</td>\n",
              "      <td>1</td>\n",
              "      <td>0.112840</td>\n",
              "      <td>0.224784</td>\n",
              "      <td>0.14</td>\n",
              "      <td>Gucheng</td>\n",
              "    </tr>\n",
              "    <tr>\n",
              "      <th>34637</th>\n",
              "      <td>2017</td>\n",
              "      <td>2</td>\n",
              "      <td>0.035019</td>\n",
              "      <td>0.054755</td>\n",
              "      <td>0.04</td>\n",
              "      <td>Changping</td>\n",
              "    </tr>\n",
              "  </tbody>\n",
              "</table>\n",
              "<p>1685 rows × 6 columns</p>\n",
              "</div>"
            ],
            "text/plain": [
              "       year  month       SO2       NO2    CO    station\n",
              "17021  2015      2  0.015564  0.046110  0.05  Changping\n",
              "95152  2016      1  0.023346  0.048991  0.01    Huairou\n",
              "86237  2015      1  0.023346  0.014409  0.03    Huairou\n",
              "34267  2017      1  0.015564  0.054755  0.04  Changping\n",
              "69715  2017      2  0.108949  0.149856  0.12    Gucheng\n",
              "...     ...    ...       ...       ...   ...        ...\n",
              "51694  2015      1  0.295720  0.325648  0.36    Gucheng\n",
              "96948  2016      3  0.038911  0.017291  0.02    Huairou\n",
              "51323  2015      1  0.132296  0.184438  0.14    Gucheng\n",
              "51379  2015      1  0.112840  0.224784  0.14    Gucheng\n",
              "34637  2017      2  0.035019  0.054755  0.04  Changping\n",
              "\n",
              "[1685 rows x 6 columns]"
            ]
          },
          "metadata": {
            "tags": []
          }
        },
        {
          "output_type": "display_data",
          "data": {
            "text/plain": [
              "'AMOSTRA 2'"
            ]
          },
          "metadata": {
            "tags": []
          }
        },
        {
          "output_type": "display_data",
          "data": {
            "text/html": [
              "<div>\n",
              "<style scoped>\n",
              "    .dataframe tbody tr th:only-of-type {\n",
              "        vertical-align: middle;\n",
              "    }\n",
              "\n",
              "    .dataframe tbody tr th {\n",
              "        vertical-align: top;\n",
              "    }\n",
              "\n",
              "    .dataframe thead th {\n",
              "        text-align: right;\n",
              "    }\n",
              "</style>\n",
              "<table border=\"1\" class=\"dataframe\">\n",
              "  <thead>\n",
              "    <tr style=\"text-align: right;\">\n",
              "      <th></th>\n",
              "      <th>year</th>\n",
              "      <th>month</th>\n",
              "      <th>SO2</th>\n",
              "      <th>NO2</th>\n",
              "      <th>CO</th>\n",
              "    </tr>\n",
              "  </thead>\n",
              "  <tbody>\n",
              "    <tr>\n",
              "      <th>count</th>\n",
              "      <td>1685.000000</td>\n",
              "      <td>1685.000000</td>\n",
              "      <td>1685.000000</td>\n",
              "      <td>1685.000000</td>\n",
              "      <td>1685.000000</td>\n",
              "    </tr>\n",
              "    <tr>\n",
              "      <th>mean</th>\n",
              "      <td>2015.816024</td>\n",
              "      <td>1.847478</td>\n",
              "      <td>0.077463</td>\n",
              "      <td>0.135233</td>\n",
              "      <td>0.140623</td>\n",
              "    </tr>\n",
              "    <tr>\n",
              "      <th>std</th>\n",
              "      <td>0.777110</td>\n",
              "      <td>0.790307</td>\n",
              "      <td>0.081701</td>\n",
              "      <td>0.099078</td>\n",
              "      <td>0.134588</td>\n",
              "    </tr>\n",
              "    <tr>\n",
              "      <th>min</th>\n",
              "      <td>2015.000000</td>\n",
              "      <td>1.000000</td>\n",
              "      <td>0.003891</td>\n",
              "      <td>0.005764</td>\n",
              "      <td>0.010000</td>\n",
              "    </tr>\n",
              "    <tr>\n",
              "      <th>25%</th>\n",
              "      <td>2015.000000</td>\n",
              "      <td>1.000000</td>\n",
              "      <td>0.019455</td>\n",
              "      <td>0.048991</td>\n",
              "      <td>0.040000</td>\n",
              "    </tr>\n",
              "    <tr>\n",
              "      <th>50%</th>\n",
              "      <td>2016.000000</td>\n",
              "      <td>2.000000</td>\n",
              "      <td>0.046693</td>\n",
              "      <td>0.115274</td>\n",
              "      <td>0.090000</td>\n",
              "    </tr>\n",
              "    <tr>\n",
              "      <th>75%</th>\n",
              "      <td>2016.000000</td>\n",
              "      <td>2.000000</td>\n",
              "      <td>0.108949</td>\n",
              "      <td>0.201729</td>\n",
              "      <td>0.190000</td>\n",
              "    </tr>\n",
              "    <tr>\n",
              "      <th>max</th>\n",
              "      <td>2017.000000</td>\n",
              "      <td>3.000000</td>\n",
              "      <td>0.715953</td>\n",
              "      <td>0.645533</td>\n",
              "      <td>0.990000</td>\n",
              "    </tr>\n",
              "  </tbody>\n",
              "</table>\n",
              "</div>"
            ],
            "text/plain": [
              "              year        month          SO2          NO2           CO\n",
              "count  1685.000000  1685.000000  1685.000000  1685.000000  1685.000000\n",
              "mean   2015.816024     1.847478     0.077463     0.135233     0.140623\n",
              "std       0.777110     0.790307     0.081701     0.099078     0.134588\n",
              "min    2015.000000     1.000000     0.003891     0.005764     0.010000\n",
              "25%    2015.000000     1.000000     0.019455     0.048991     0.040000\n",
              "50%    2016.000000     2.000000     0.046693     0.115274     0.090000\n",
              "75%    2016.000000     2.000000     0.108949     0.201729     0.190000\n",
              "max    2017.000000     3.000000     0.715953     0.645533     0.990000"
            ]
          },
          "metadata": {
            "tags": []
          }
        }
      ]
    },
    {
      "cell_type": "markdown",
      "metadata": {
        "id": "rn1s1dtXVEYq",
        "colab_type": "text"
      },
      "source": [
        "GRÁFICOS"
      ]
    },
    {
      "cell_type": "code",
      "metadata": {
        "id": "MjLuA7GtRzCa",
        "colab_type": "code",
        "outputId": "2c0cc7a0-a2f7-4936-e2fa-8fba301cbba8",
        "colab": {
          "base_uri": "https://localhost:8080/",
          "height": 420
        }
      },
      "source": [
        "#TRABALHANDO COM O GRUPO 1, UMA VEZ QUE FOI PROVADO SER BEM SUCEDIDO \n",
        "\n",
        "weather_outlier_solved2.groupby('year')['SO2','NO2','CO'].mean().plot.bar(figsize=(15,6))\n",
        "\n",
        "#weather_sample_1.plot(x='year',y='CO').hist()\n",
        "\n",
        "#Abaixo os gráficos mostram a Média, Mediana, Desvio Padrão, Variância e Coeficiente de Variância  \n",
        "\n",
        "\n",
        "#Média"
      ],
      "execution_count": 14,
      "outputs": [
        {
          "output_type": "execute_result",
          "data": {
            "text/plain": [
              "<matplotlib.axes._subplots.AxesSubplot at 0x7fabfbde16a0>"
            ]
          },
          "metadata": {
            "tags": []
          },
          "execution_count": 14
        },
        {
          "output_type": "display_data",
          "data": {
            "image/png": "[encoded data removed]",
            "text/plain": [
              "<Figure size 1080x432 with 1 Axes>"
            ]
          },
          "metadata": {
            "tags": []
          }
        }
      ]
    },
    {
      "cell_type": "code",
      "metadata": {
        "id": "KD2UFRrBVxQk",
        "colab_type": "code",
        "colab": {
          "base_uri": "https://localhost:8080/",
          "height": 420
        },
        "outputId": "0c9e789d-4e68-4ccc-c0c5-f9c9e3068328"
      },
      "source": [
        "#Mediana \n",
        "\n",
        "weather_outlier_solved2.groupby('year')['SO2','NO2','CO'].median().plot.bar(figsize=(15,6))"
      ],
      "execution_count": 15,
      "outputs": [
        {
          "output_type": "execute_result",
          "data": {
            "text/plain": [
              "<matplotlib.axes._subplots.AxesSubplot at 0x7fabfaadf1d0>"
            ]
          },
          "metadata": {
            "tags": []
          },
          "execution_count": 15
        },
        {
          "output_type": "display_data",
          "data": {
            "image/png": "[encoded data removed]",
            "text/plain": [
              "<Figure size 1080x432 with 1 Axes>"
            ]
          },
          "metadata": {
            "tags": []
          }
        }
      ]
    },
    {
      "cell_type": "code",
      "metadata": {
        "colab_type": "code",
        "outputId": "6d7bd417-ab28-45c8-9ab2-b458a854d3cb",
        "id": "mpEX-t_bm2qj",
        "colab": {
          "base_uri": "https://localhost:8080/",
          "height": 420
        }
      },
      "source": [
        "#Desvio Padrão\n",
        "\n",
        "weather_outlier_solved2.groupby('year')['SO2','NO2','CO'].std().plot.bar(figsize=(15,6))"
      ],
      "execution_count": 16,
      "outputs": [
        {
          "output_type": "execute_result",
          "data": {
            "text/plain": [
              "<matplotlib.axes._subplots.AxesSubplot at 0x7fabfaa42ef0>"
            ]
          },
          "metadata": {
            "tags": []
          },
          "execution_count": 16
        },
        {
          "output_type": "display_data",
          "data": {
            "image/png": "[encoded data removed]",
            "text/plain": [
              "<Figure size 1080x432 with 1 Axes>"
            ]
          },
          "metadata": {
            "tags": []
          }
        }
      ]
    },
    {
      "cell_type": "code",
      "metadata": {
        "id": "kBqDlBBmWSox",
        "colab_type": "code",
        "colab": {
          "base_uri": "https://localhost:8080/",
          "height": 420
        },
        "outputId": "a99a8e1b-d8ed-40af-ae80-d864ac7fb61c"
      },
      "source": [
        "#Variancia\n",
        "\n",
        "weather_outlier_solved2.groupby('year')['SO2','NO2','CO'].var().plot.bar(figsize=(15,6))"
      ],
      "execution_count": 17,
      "outputs": [
        {
          "output_type": "execute_result",
          "data": {
            "text/plain": [
              "<matplotlib.axes._subplots.AxesSubplot at 0x7fabfaa73588>"
            ]
          },
          "metadata": {
            "tags": []
          },
          "execution_count": 17
        },
        {
          "output_type": "display_data",
          "data": {
            "image/png": "[encoded data removed]",
            "text/plain": [
              "<Figure size 1080x432 with 1 Axes>"
            ]
          },
          "metadata": {
            "tags": []
          }
        }
      ]
    },
    {
      "cell_type": "code",
      "metadata": {
        "id": "Ny0TvZjCjkQA",
        "colab_type": "code",
        "colab": {
          "base_uri": "https://localhost:8080/",
          "height": 456
        },
        "outputId": "3895314b-e032-48e0-ef8c-e257b692ca76"
      },
      "source": [
        "#Coeficiente de variância (método de Pearson)\n",
        "\n",
        "weather_outlier_solved2.groupby('year')['SO2','NO2','CO'].corr(method='pearson').plot.bar(figsize=(15,6))"
      ],
      "execution_count": 18,
      "outputs": [
        {
          "output_type": "execute_result",
          "data": {
            "text/plain": [
              "<matplotlib.axes._subplots.AxesSubplot at 0x7fabfa8f6518>"
            ]
          },
          "metadata": {
            "tags": []
          },
          "execution_count": 18
        },
        {
          "output_type": "display_data",
          "data": {
            "image/png": "[encoded data removed]",
            "text/plain": [
              "<Figure size 1080x432 with 1 Axes>"
            ]
          },
          "metadata": {
            "tags": []
          }
        }
      ]
    }
  ]
}
