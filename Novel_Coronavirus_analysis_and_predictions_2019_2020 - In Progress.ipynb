{
  "nbformat": 4,
  "nbformat_minor": 0,
  "metadata": {
    "colab": {
      "name": "Novel Coronavirus analysis and predictions 2019-2020.ipynb",
      "provenance": [],
      "collapsed_sections": [],
      "authorship_tag": "ABX9TyPNbYFp6iHwL11lkZux/3PW",
      "include_colab_link": true
    },
    "kernelspec": {
      "name": "python3",
      "display_name": "Python 3"
    }
  },
  "cells": [
    {
      "cell_type": "markdown",
      "metadata": {
        "id": "view-in-github",
        "colab_type": "text"
      },
      "source": [
        "<a href=\"https://colab.research.google.com/github/niltontac/EspAnalise-EngDados/blob/master/Novel_Coronavirus_analysis_and_predictions_2019_2020%20-%20In%20Progress.ipynb\" target=\"_parent\"><img src=\"https://colab.research.google.com/assets/colab-badge.svg\" alt=\"Open In Colab\"/></a>"
      ]
    },
    {
      "cell_type": "markdown",
      "metadata": {
        "id": "2wlK12P1QsFI",
        "colab_type": "text"
      },
      "source": [
        "#Sobre este conjunto de dados\n",
        "\n",
        "#####Este counjunto de dados possui informações diárias sobre os números de casos afetados, mortes e recuperações do novo Corona vírus de 2019. Observe que esses são dados de séries temporais e, portando, os números de casos em um determinado dia são números acumulados.\n",
        "\n",
        "\n",
        "#About this Dataset\n",
        "\n",
        "#####This dataset has daily level information on the numbers affected cases, deaths and recoveries from the new coronavirus. Note that these are data from time series and the numbers of cases on a given day are cumulative numbers.\n",
        "\n",
        "---\n",
        "\n",
        "#####Fonte | Source (Dataset): https://www.kaggle.com/sudalairajkumar/novel-corona-virus-2019-dataset\n",
        "\n",
        "---\n",
        "\n",
        "#####Analyst: Nilton Thiago de Andrade Coura\n"
      ]
    },
    {
      "cell_type": "code",
      "metadata": {
        "id": "GLpVLuLUP7cW",
        "colab_type": "code",
        "colab": {}
      },
      "source": [
        "# Importing Libraries\n",
        "\n",
        "import pandas as pd\n",
        "import numpy as np\n",
        "import matplotlib.pyplot as plt\n",
        "import seaborn as sns\n",
        "\n",
        "# Loading dataset\n",
        "\n",
        "dataset = pd.read_csv('https://raw.githubusercontent.com/niltontac/EspAnalise-EngDados/master/data/Novel_Corona_Virus_2019_Dataset/covid_19_data.csv', parse_dates=['ObservationDate', 'Last Update'])"
      ],
      "execution_count": 0,
      "outputs": []
    },
    {
      "cell_type": "code",
      "metadata": {
        "id": "S9ja27Q4GCJg",
        "colab_type": "code",
        "outputId": "a208c69e-a8db-4211-fff8-9d253898d0c0",
        "colab": {
          "base_uri": "https://localhost:8080/",
          "height": 34
        }
      },
      "source": [
        "# Dataset Dimension (rows x columns)\n",
        "\n",
        "dataset.shape"
      ],
      "execution_count": 2,
      "outputs": [
        {
          "output_type": "execute_result",
          "data": {
            "text/plain": [
              "(4935, 8)"
            ]
          },
          "metadata": {
            "tags": []
          },
          "execution_count": 2
        }
      ]
    },
    {
      "cell_type": "code",
      "metadata": {
        "colab_type": "code",
        "outputId": "a7a5814a-9d6c-4fcb-88d0-f73499f5a3ec",
        "id": "Pe1iLotbjdWm",
        "colab": {
          "base_uri": "https://localhost:8080/",
          "height": 240
        }
      },
      "source": [
        "# Dataset Information\n",
        "\n",
        "dataset.info()"
      ],
      "execution_count": 3,
      "outputs": [
        {
          "output_type": "stream",
          "text": [
            "<class 'pandas.core.frame.DataFrame'>\n",
            "RangeIndex: 4935 entries, 0 to 4934\n",
            "Data columns (total 8 columns):\n",
            "SNo                4935 non-null int64\n",
            "ObservationDate    4935 non-null datetime64[ns]\n",
            "Province/State     3120 non-null object\n",
            "Country/Region     4935 non-null object\n",
            "Last Update        4935 non-null datetime64[ns]\n",
            "Confirmed          4935 non-null int64\n",
            "Deaths             4935 non-null int64\n",
            "Recovered          4935 non-null int64\n",
            "dtypes: datetime64[ns](2), int64(4), object(2)\n",
            "memory usage: 308.6+ KB\n"
          ],
          "name": "stdout"
        }
      ]
    },
    {
      "cell_type": "code",
      "metadata": {
        "id": "saAYzwKrHEXA",
        "colab_type": "code",
        "outputId": "73d9f22d-77d6-4f82-ff2f-0d6f23d48d3a",
        "colab": {
          "base_uri": "https://localhost:8080/",
          "height": 172
        }
      },
      "source": [
        "# Dataset describe\n",
        "\n",
        "dataset.describe().T"
      ],
      "execution_count": 4,
      "outputs": [
        {
          "output_type": "execute_result",
          "data": {
            "text/html": [
              "<div>\n",
              "<style scoped>\n",
              "    .dataframe tbody tr th:only-of-type {\n",
              "        vertical-align: middle;\n",
              "    }\n",
              "\n",
              "    .dataframe tbody tr th {\n",
              "        vertical-align: top;\n",
              "    }\n",
              "\n",
              "    .dataframe thead th {\n",
              "        text-align: right;\n",
              "    }\n",
              "</style>\n",
              "<table border=\"1\" class=\"dataframe\">\n",
              "  <thead>\n",
              "    <tr style=\"text-align: right;\">\n",
              "      <th></th>\n",
              "      <th>count</th>\n",
              "      <th>mean</th>\n",
              "      <th>std</th>\n",
              "      <th>min</th>\n",
              "      <th>25%</th>\n",
              "      <th>50%</th>\n",
              "      <th>75%</th>\n",
              "      <th>max</th>\n",
              "    </tr>\n",
              "  </thead>\n",
              "  <tbody>\n",
              "    <tr>\n",
              "      <th>SNo</th>\n",
              "      <td>4935.0</td>\n",
              "      <td>2468.000000</td>\n",
              "      <td>1424.756119</td>\n",
              "      <td>1.0</td>\n",
              "      <td>1234.5</td>\n",
              "      <td>2468.0</td>\n",
              "      <td>3701.5</td>\n",
              "      <td>4935.0</td>\n",
              "    </tr>\n",
              "    <tr>\n",
              "      <th>Confirmed</th>\n",
              "      <td>4935.0</td>\n",
              "      <td>577.614590</td>\n",
              "      <td>4971.492694</td>\n",
              "      <td>0.0</td>\n",
              "      <td>1.0</td>\n",
              "      <td>9.0</td>\n",
              "      <td>93.0</td>\n",
              "      <td>67773.0</td>\n",
              "    </tr>\n",
              "    <tr>\n",
              "      <th>Deaths</th>\n",
              "      <td>4935.0</td>\n",
              "      <td>17.694833</td>\n",
              "      <td>192.348513</td>\n",
              "      <td>0.0</td>\n",
              "      <td>0.0</td>\n",
              "      <td>0.0</td>\n",
              "      <td>1.0</td>\n",
              "      <td>3046.0</td>\n",
              "    </tr>\n",
              "    <tr>\n",
              "      <th>Recovered</th>\n",
              "      <td>4935.0</td>\n",
              "      <td>201.011550</td>\n",
              "      <td>2179.798520</td>\n",
              "      <td>0.0</td>\n",
              "      <td>0.0</td>\n",
              "      <td>1.0</td>\n",
              "      <td>14.0</td>\n",
              "      <td>49134.0</td>\n",
              "    </tr>\n",
              "  </tbody>\n",
              "</table>\n",
              "</div>"
            ],
            "text/plain": [
              "            count         mean          std  ...     50%     75%      max\n",
              "SNo        4935.0  2468.000000  1424.756119  ...  2468.0  3701.5   4935.0\n",
              "Confirmed  4935.0   577.614590  4971.492694  ...     9.0    93.0  67773.0\n",
              "Deaths     4935.0    17.694833   192.348513  ...     0.0     1.0   3046.0\n",
              "Recovered  4935.0   201.011550  2179.798520  ...     1.0    14.0  49134.0\n",
              "\n",
              "[4 rows x 8 columns]"
            ]
          },
          "metadata": {
            "tags": []
          },
          "execution_count": 4
        }
      ]
    },
    {
      "cell_type": "code",
      "metadata": {
        "id": "4WDaszksSDmJ",
        "colab_type": "code",
        "outputId": "7c8f014f-8ef1-428a-908f-543be790ff32",
        "colab": {
          "base_uri": "https://localhost:8080/",
          "height": 171
        }
      },
      "source": [
        "# Dataset (columns data types) \n",
        "\n",
        "dataset.dtypes"
      ],
      "execution_count": 5,
      "outputs": [
        {
          "output_type": "execute_result",
          "data": {
            "text/plain": [
              "SNo                         int64\n",
              "ObservationDate    datetime64[ns]\n",
              "Province/State             object\n",
              "Country/Region             object\n",
              "Last Update        datetime64[ns]\n",
              "Confirmed                   int64\n",
              "Deaths                      int64\n",
              "Recovered                   int64\n",
              "dtype: object"
            ]
          },
          "metadata": {
            "tags": []
          },
          "execution_count": 5
        }
      ]
    },
    {
      "cell_type": "code",
      "metadata": {
        "id": "mlnLQs0GjfY9",
        "colab_type": "code",
        "outputId": "c06acf38-1510-4dfd-8ef0-53e203325bac",
        "colab": {
          "base_uri": "https://localhost:8080/",
          "height": 139
        }
      },
      "source": [
        "# Checking the last 5 cases to see when the dataset was updated\n",
        "\n",
        "dataset.tail().style.background_gradient(cmap='PRGn')"
      ],
      "execution_count": 6,
      "outputs": [
        {
          "output_type": "execute_result",
          "data": {
            "text/html": [
              "<style  type=\"text/css\" >\n",
              "    #T_f3e17570_64d0_11ea_9cda_0242ac1c0002row0_col0 {\n",
              "            background-color:  #40004b;\n",
              "            color:  #f1f1f1;\n",
              "        }    #T_f3e17570_64d0_11ea_9cda_0242ac1c0002row0_col5 {\n",
              "            background-color:  #40004b;\n",
              "            color:  #f1f1f1;\n",
              "        }    #T_f3e17570_64d0_11ea_9cda_0242ac1c0002row0_col6 {\n",
              "            background-color:  #40004b;\n",
              "            color:  #f1f1f1;\n",
              "        }    #T_f3e17570_64d0_11ea_9cda_0242ac1c0002row0_col7 {\n",
              "            background-color:  #40004b;\n",
              "            color:  #f1f1f1;\n",
              "        }    #T_f3e17570_64d0_11ea_9cda_0242ac1c0002row1_col0 {\n",
              "            background-color:  #ae8bbd;\n",
              "            color:  #000000;\n",
              "        }    #T_f3e17570_64d0_11ea_9cda_0242ac1c0002row1_col5 {\n",
              "            background-color:  #40004b;\n",
              "            color:  #f1f1f1;\n",
              "        }    #T_f3e17570_64d0_11ea_9cda_0242ac1c0002row1_col6 {\n",
              "            background-color:  #40004b;\n",
              "            color:  #f1f1f1;\n",
              "        }    #T_f3e17570_64d0_11ea_9cda_0242ac1c0002row1_col7 {\n",
              "            background-color:  #40004b;\n",
              "            color:  #f1f1f1;\n",
              "        }    #T_f3e17570_64d0_11ea_9cda_0242ac1c0002row2_col0 {\n",
              "            background-color:  #f6f7f6;\n",
              "            color:  #000000;\n",
              "        }    #T_f3e17570_64d0_11ea_9cda_0242ac1c0002row2_col5 {\n",
              "            background-color:  #40004b;\n",
              "            color:  #f1f1f1;\n",
              "        }    #T_f3e17570_64d0_11ea_9cda_0242ac1c0002row2_col6 {\n",
              "            background-color:  #40004b;\n",
              "            color:  #f1f1f1;\n",
              "        }    #T_f3e17570_64d0_11ea_9cda_0242ac1c0002row2_col7 {\n",
              "            background-color:  #40004b;\n",
              "            color:  #f1f1f1;\n",
              "        }    #T_f3e17570_64d0_11ea_9cda_0242ac1c0002row3_col0 {\n",
              "            background-color:  #7ec37f;\n",
              "            color:  #000000;\n",
              "        }    #T_f3e17570_64d0_11ea_9cda_0242ac1c0002row3_col5 {\n",
              "            background-color:  #40004b;\n",
              "            color:  #f1f1f1;\n",
              "        }    #T_f3e17570_64d0_11ea_9cda_0242ac1c0002row3_col6 {\n",
              "            background-color:  #40004b;\n",
              "            color:  #f1f1f1;\n",
              "        }    #T_f3e17570_64d0_11ea_9cda_0242ac1c0002row3_col7 {\n",
              "            background-color:  #40004b;\n",
              "            color:  #f1f1f1;\n",
              "        }    #T_f3e17570_64d0_11ea_9cda_0242ac1c0002row4_col0 {\n",
              "            background-color:  #00441b;\n",
              "            color:  #f1f1f1;\n",
              "        }    #T_f3e17570_64d0_11ea_9cda_0242ac1c0002row4_col5 {\n",
              "            background-color:  #40004b;\n",
              "            color:  #f1f1f1;\n",
              "        }    #T_f3e17570_64d0_11ea_9cda_0242ac1c0002row4_col6 {\n",
              "            background-color:  #40004b;\n",
              "            color:  #f1f1f1;\n",
              "        }    #T_f3e17570_64d0_11ea_9cda_0242ac1c0002row4_col7 {\n",
              "            background-color:  #40004b;\n",
              "            color:  #f1f1f1;\n",
              "        }</style><table id=\"T_f3e17570_64d0_11ea_9cda_0242ac1c0002\" ><thead>    <tr>        <th class=\"blank level0\" ></th>        <th class=\"col_heading level0 col0\" >SNo</th>        <th class=\"col_heading level0 col1\" >ObservationDate</th>        <th class=\"col_heading level0 col2\" >Province/State</th>        <th class=\"col_heading level0 col3\" >Country/Region</th>        <th class=\"col_heading level0 col4\" >Last Update</th>        <th class=\"col_heading level0 col5\" >Confirmed</th>        <th class=\"col_heading level0 col6\" >Deaths</th>        <th class=\"col_heading level0 col7\" >Recovered</th>    </tr></thead><tbody>\n",
              "                <tr>\n",
              "                        <th id=\"T_f3e17570_64d0_11ea_9cda_0242ac1c0002level0_row0\" class=\"row_heading level0 row0\" >4930</th>\n",
              "                        <td id=\"T_f3e17570_64d0_11ea_9cda_0242ac1c0002row0_col0\" class=\"data row0 col0\" >4931</td>\n",
              "                        <td id=\"T_f3e17570_64d0_11ea_9cda_0242ac1c0002row0_col1\" class=\"data row0 col1\" >2020-03-11 00:00:00</td>\n",
              "                        <td id=\"T_f3e17570_64d0_11ea_9cda_0242ac1c0002row0_col2\" class=\"data row0 col2\" >Mississippi</td>\n",
              "                        <td id=\"T_f3e17570_64d0_11ea_9cda_0242ac1c0002row0_col3\" class=\"data row0 col3\" >US</td>\n",
              "                        <td id=\"T_f3e17570_64d0_11ea_9cda_0242ac1c0002row0_col4\" class=\"data row0 col4\" >2020-03-10 02:33:04</td>\n",
              "                        <td id=\"T_f3e17570_64d0_11ea_9cda_0242ac1c0002row0_col5\" class=\"data row0 col5\" >0</td>\n",
              "                        <td id=\"T_f3e17570_64d0_11ea_9cda_0242ac1c0002row0_col6\" class=\"data row0 col6\" >0</td>\n",
              "                        <td id=\"T_f3e17570_64d0_11ea_9cda_0242ac1c0002row0_col7\" class=\"data row0 col7\" >0</td>\n",
              "            </tr>\n",
              "            <tr>\n",
              "                        <th id=\"T_f3e17570_64d0_11ea_9cda_0242ac1c0002level0_row1\" class=\"row_heading level0 row1\" >4931</th>\n",
              "                        <td id=\"T_f3e17570_64d0_11ea_9cda_0242ac1c0002row1_col0\" class=\"data row1 col0\" >4932</td>\n",
              "                        <td id=\"T_f3e17570_64d0_11ea_9cda_0242ac1c0002row1_col1\" class=\"data row1 col1\" >2020-03-11 00:00:00</td>\n",
              "                        <td id=\"T_f3e17570_64d0_11ea_9cda_0242ac1c0002row1_col2\" class=\"data row1 col2\" >North Dakota</td>\n",
              "                        <td id=\"T_f3e17570_64d0_11ea_9cda_0242ac1c0002row1_col3\" class=\"data row1 col3\" >US</td>\n",
              "                        <td id=\"T_f3e17570_64d0_11ea_9cda_0242ac1c0002row1_col4\" class=\"data row1 col4\" >2020-03-10 02:33:04</td>\n",
              "                        <td id=\"T_f3e17570_64d0_11ea_9cda_0242ac1c0002row1_col5\" class=\"data row1 col5\" >0</td>\n",
              "                        <td id=\"T_f3e17570_64d0_11ea_9cda_0242ac1c0002row1_col6\" class=\"data row1 col6\" >0</td>\n",
              "                        <td id=\"T_f3e17570_64d0_11ea_9cda_0242ac1c0002row1_col7\" class=\"data row1 col7\" >0</td>\n",
              "            </tr>\n",
              "            <tr>\n",
              "                        <th id=\"T_f3e17570_64d0_11ea_9cda_0242ac1c0002level0_row2\" class=\"row_heading level0 row2\" >4932</th>\n",
              "                        <td id=\"T_f3e17570_64d0_11ea_9cda_0242ac1c0002row2_col0\" class=\"data row2 col0\" >4933</td>\n",
              "                        <td id=\"T_f3e17570_64d0_11ea_9cda_0242ac1c0002row2_col1\" class=\"data row2 col1\" >2020-03-11 00:00:00</td>\n",
              "                        <td id=\"T_f3e17570_64d0_11ea_9cda_0242ac1c0002row2_col2\" class=\"data row2 col2\" >West Virginia</td>\n",
              "                        <td id=\"T_f3e17570_64d0_11ea_9cda_0242ac1c0002row2_col3\" class=\"data row2 col3\" >US</td>\n",
              "                        <td id=\"T_f3e17570_64d0_11ea_9cda_0242ac1c0002row2_col4\" class=\"data row2 col4\" >2020-03-10 02:33:04</td>\n",
              "                        <td id=\"T_f3e17570_64d0_11ea_9cda_0242ac1c0002row2_col5\" class=\"data row2 col5\" >0</td>\n",
              "                        <td id=\"T_f3e17570_64d0_11ea_9cda_0242ac1c0002row2_col6\" class=\"data row2 col6\" >0</td>\n",
              "                        <td id=\"T_f3e17570_64d0_11ea_9cda_0242ac1c0002row2_col7\" class=\"data row2 col7\" >0</td>\n",
              "            </tr>\n",
              "            <tr>\n",
              "                        <th id=\"T_f3e17570_64d0_11ea_9cda_0242ac1c0002level0_row3\" class=\"row_heading level0 row3\" >4933</th>\n",
              "                        <td id=\"T_f3e17570_64d0_11ea_9cda_0242ac1c0002row3_col0\" class=\"data row3 col0\" >4934</td>\n",
              "                        <td id=\"T_f3e17570_64d0_11ea_9cda_0242ac1c0002row3_col1\" class=\"data row3 col1\" >2020-03-11 00:00:00</td>\n",
              "                        <td id=\"T_f3e17570_64d0_11ea_9cda_0242ac1c0002row3_col2\" class=\"data row3 col2\" >Wyoming</td>\n",
              "                        <td id=\"T_f3e17570_64d0_11ea_9cda_0242ac1c0002row3_col3\" class=\"data row3 col3\" >US</td>\n",
              "                        <td id=\"T_f3e17570_64d0_11ea_9cda_0242ac1c0002row3_col4\" class=\"data row3 col4\" >2020-03-10 02:33:04</td>\n",
              "                        <td id=\"T_f3e17570_64d0_11ea_9cda_0242ac1c0002row3_col5\" class=\"data row3 col5\" >0</td>\n",
              "                        <td id=\"T_f3e17570_64d0_11ea_9cda_0242ac1c0002row3_col6\" class=\"data row3 col6\" >0</td>\n",
              "                        <td id=\"T_f3e17570_64d0_11ea_9cda_0242ac1c0002row3_col7\" class=\"data row3 col7\" >0</td>\n",
              "            </tr>\n",
              "            <tr>\n",
              "                        <th id=\"T_f3e17570_64d0_11ea_9cda_0242ac1c0002level0_row4\" class=\"row_heading level0 row4\" >4934</th>\n",
              "                        <td id=\"T_f3e17570_64d0_11ea_9cda_0242ac1c0002row4_col0\" class=\"data row4 col0\" >4935</td>\n",
              "                        <td id=\"T_f3e17570_64d0_11ea_9cda_0242ac1c0002row4_col1\" class=\"data row4 col1\" >2020-03-11 00:00:00</td>\n",
              "                        <td id=\"T_f3e17570_64d0_11ea_9cda_0242ac1c0002row4_col2\" class=\"data row4 col2\" >nan</td>\n",
              "                        <td id=\"T_f3e17570_64d0_11ea_9cda_0242ac1c0002row4_col3\" class=\"data row4 col3\" >occupied Palestinian territory</td>\n",
              "                        <td id=\"T_f3e17570_64d0_11ea_9cda_0242ac1c0002row4_col4\" class=\"data row4 col4\" >2020-03-11 20:53:02</td>\n",
              "                        <td id=\"T_f3e17570_64d0_11ea_9cda_0242ac1c0002row4_col5\" class=\"data row4 col5\" >0</td>\n",
              "                        <td id=\"T_f3e17570_64d0_11ea_9cda_0242ac1c0002row4_col6\" class=\"data row4 col6\" >0</td>\n",
              "                        <td id=\"T_f3e17570_64d0_11ea_9cda_0242ac1c0002row4_col7\" class=\"data row4 col7\" >0</td>\n",
              "            </tr>\n",
              "    </tbody></table>"
            ],
            "text/plain": [
              "<pandas.io.formats.style.Styler at 0x7f3f378925c0>"
            ]
          },
          "metadata": {
            "tags": []
          },
          "execution_count": 6
        }
      ]
    },
    {
      "cell_type": "code",
      "metadata": {
        "id": "5ZgY8AyhTgLU",
        "colab_type": "code",
        "colab": {
          "base_uri": "https://localhost:8080/",
          "height": 54
        },
        "outputId": "a1feac58-e298-4357-fa65-12ea1c623d48"
      },
      "source": [
        "# The countries list\n",
        "\n",
        "\", \".join(dataset['Country/Region'].unique().tolist())"
      ],
      "execution_count": 7,
      "outputs": [
        {
          "output_type": "execute_result",
          "data": {
            "text/plain": [
              "\"Mainland China, Hong Kong, Macau, Taiwan, US, Japan, Thailand, South Korea, Singapore, Philippines, Malaysia, Vietnam, Australia, Mexico, Brazil, Colombia, France, Nepal, Canada, Cambodia, Sri Lanka, Ivory Coast, Germany, Finland, United Arab Emirates, India, Italy, UK, Russia, Sweden, Spain, Belgium, Others, Egypt, Iran, Israel, Lebanon, Iraq, Oman, Afghanistan, Bahrain, Kuwait, Austria, Algeria, Croatia, Switzerland, Pakistan, Georgia, Greece, North Macedonia, Norway, Romania, Denmark, Estonia, Netherlands, San Marino,  Azerbaijan, Belarus, Iceland, Lithuania, New Zealand, Nigeria, North Ireland, Ireland, Luxembourg, Monaco, Qatar, Ecuador, Azerbaijan, Czech Republic, Armenia, Dominican Republic, Indonesia, Portugal, Andorra, Latvia, Morocco, Saudi Arabia, Senegal, Argentina, Chile, Jordan, Ukraine, Saint Barthelemy, Hungary, Faroe Islands, Gibraltar, Liechtenstein, Poland, Tunisia, Palestine, Bosnia and Herzegovina, Slovenia, South Africa, Bhutan, Cameroon, Costa Rica, Peru, Serbia, Slovakia, Togo, Vatican City, French Guiana, Malta, Martinique, Republic of Ireland, Bulgaria, Maldives, Bangladesh, Moldova, Paraguay, Albania, Cyprus, St. Martin, Brunei, occupied Palestinian territory, ('St. Martin',), Burkina Faso, Channel Islands, Holy See, Mongolia, Panama, Bolivia, Honduras, Congo (Kinshasa), Jamaica, Reunion, Turkey\""
            ]
          },
          "metadata": {
            "tags": []
          },
          "execution_count": 7
        }
      ]
    },
    {
      "cell_type": "code",
      "metadata": {
        "id": "KKZ7IX_yJ1DT",
        "colab_type": "code",
        "colab": {}
      },
      "source": [
        "# Rename some countries to make sure all adhere to (alpha-3) ISO-Standards and for the ploty\n",
        "# map visualization to work\n",
        "\n",
        "dataset['Country/Region'] = dataset['Country/Region'].replace('US', 'USA')\n",
        "dataset['Country/Region'] = dataset['Country/Region'].replace('South Korea', 'KOR')\n",
        "dataset['Country/Region'] = dataset['Country/Region'].replace('Russia', 'RUS')\n",
        "dataset['Country/Region'] = dataset['Country/Region'].replace('UK', 'GBR')\n",
        "\n",
        "\n",
        "# Rename the columns\n",
        "\n",
        "dataset = dataset.rename(columns={'Country/Region': 'Country', 'ObservationDate': 'Date'})"
      ],
      "execution_count": 0,
      "outputs": []
    },
    {
      "cell_type": "code",
      "metadata": {
        "id": "kqvsOej5M_FM",
        "colab_type": "code",
        "colab": {
          "base_uri": "https://localhost:8080/",
          "height": 139
        },
        "outputId": "8a467d8f-166f-4273-d5d1-1799af139341"
      },
      "source": [
        "# Removing unessecary columns\n",
        "\n",
        "dataset = dataset.drop(['SNo', 'Last Update'], axis=1)\n",
        "\n",
        "# Checking\n",
        "\n",
        "dataset.tail().style.background_gradient(cmap='PRGn')"
      ],
      "execution_count": 9,
      "outputs": [
        {
          "output_type": "execute_result",
          "data": {
            "text/html": [
              "<style  type=\"text/css\" >\n",
              "    #T_f3ea3dea_64d0_11ea_9cda_0242ac1c0002row0_col3 {\n",
              "            background-color:  #40004b;\n",
              "            color:  #f1f1f1;\n",
              "        }    #T_f3ea3dea_64d0_11ea_9cda_0242ac1c0002row0_col4 {\n",
              "            background-color:  #40004b;\n",
              "            color:  #f1f1f1;\n",
              "        }    #T_f3ea3dea_64d0_11ea_9cda_0242ac1c0002row0_col5 {\n",
              "            background-color:  #40004b;\n",
              "            color:  #f1f1f1;\n",
              "        }    #T_f3ea3dea_64d0_11ea_9cda_0242ac1c0002row1_col3 {\n",
              "            background-color:  #40004b;\n",
              "            color:  #f1f1f1;\n",
              "        }    #T_f3ea3dea_64d0_11ea_9cda_0242ac1c0002row1_col4 {\n",
              "            background-color:  #40004b;\n",
              "            color:  #f1f1f1;\n",
              "        }    #T_f3ea3dea_64d0_11ea_9cda_0242ac1c0002row1_col5 {\n",
              "            background-color:  #40004b;\n",
              "            color:  #f1f1f1;\n",
              "        }    #T_f3ea3dea_64d0_11ea_9cda_0242ac1c0002row2_col3 {\n",
              "            background-color:  #40004b;\n",
              "            color:  #f1f1f1;\n",
              "        }    #T_f3ea3dea_64d0_11ea_9cda_0242ac1c0002row2_col4 {\n",
              "            background-color:  #40004b;\n",
              "            color:  #f1f1f1;\n",
              "        }    #T_f3ea3dea_64d0_11ea_9cda_0242ac1c0002row2_col5 {\n",
              "            background-color:  #40004b;\n",
              "            color:  #f1f1f1;\n",
              "        }    #T_f3ea3dea_64d0_11ea_9cda_0242ac1c0002row3_col3 {\n",
              "            background-color:  #40004b;\n",
              "            color:  #f1f1f1;\n",
              "        }    #T_f3ea3dea_64d0_11ea_9cda_0242ac1c0002row3_col4 {\n",
              "            background-color:  #40004b;\n",
              "            color:  #f1f1f1;\n",
              "        }    #T_f3ea3dea_64d0_11ea_9cda_0242ac1c0002row3_col5 {\n",
              "            background-color:  #40004b;\n",
              "            color:  #f1f1f1;\n",
              "        }    #T_f3ea3dea_64d0_11ea_9cda_0242ac1c0002row4_col3 {\n",
              "            background-color:  #40004b;\n",
              "            color:  #f1f1f1;\n",
              "        }    #T_f3ea3dea_64d0_11ea_9cda_0242ac1c0002row4_col4 {\n",
              "            background-color:  #40004b;\n",
              "            color:  #f1f1f1;\n",
              "        }    #T_f3ea3dea_64d0_11ea_9cda_0242ac1c0002row4_col5 {\n",
              "            background-color:  #40004b;\n",
              "            color:  #f1f1f1;\n",
              "        }</style><table id=\"T_f3ea3dea_64d0_11ea_9cda_0242ac1c0002\" ><thead>    <tr>        <th class=\"blank level0\" ></th>        <th class=\"col_heading level0 col0\" >Date</th>        <th class=\"col_heading level0 col1\" >Province/State</th>        <th class=\"col_heading level0 col2\" >Country</th>        <th class=\"col_heading level0 col3\" >Confirmed</th>        <th class=\"col_heading level0 col4\" >Deaths</th>        <th class=\"col_heading level0 col5\" >Recovered</th>    </tr></thead><tbody>\n",
              "                <tr>\n",
              "                        <th id=\"T_f3ea3dea_64d0_11ea_9cda_0242ac1c0002level0_row0\" class=\"row_heading level0 row0\" >4930</th>\n",
              "                        <td id=\"T_f3ea3dea_64d0_11ea_9cda_0242ac1c0002row0_col0\" class=\"data row0 col0\" >2020-03-11 00:00:00</td>\n",
              "                        <td id=\"T_f3ea3dea_64d0_11ea_9cda_0242ac1c0002row0_col1\" class=\"data row0 col1\" >Mississippi</td>\n",
              "                        <td id=\"T_f3ea3dea_64d0_11ea_9cda_0242ac1c0002row0_col2\" class=\"data row0 col2\" >USA</td>\n",
              "                        <td id=\"T_f3ea3dea_64d0_11ea_9cda_0242ac1c0002row0_col3\" class=\"data row0 col3\" >0</td>\n",
              "                        <td id=\"T_f3ea3dea_64d0_11ea_9cda_0242ac1c0002row0_col4\" class=\"data row0 col4\" >0</td>\n",
              "                        <td id=\"T_f3ea3dea_64d0_11ea_9cda_0242ac1c0002row0_col5\" class=\"data row0 col5\" >0</td>\n",
              "            </tr>\n",
              "            <tr>\n",
              "                        <th id=\"T_f3ea3dea_64d0_11ea_9cda_0242ac1c0002level0_row1\" class=\"row_heading level0 row1\" >4931</th>\n",
              "                        <td id=\"T_f3ea3dea_64d0_11ea_9cda_0242ac1c0002row1_col0\" class=\"data row1 col0\" >2020-03-11 00:00:00</td>\n",
              "                        <td id=\"T_f3ea3dea_64d0_11ea_9cda_0242ac1c0002row1_col1\" class=\"data row1 col1\" >North Dakota</td>\n",
              "                        <td id=\"T_f3ea3dea_64d0_11ea_9cda_0242ac1c0002row1_col2\" class=\"data row1 col2\" >USA</td>\n",
              "                        <td id=\"T_f3ea3dea_64d0_11ea_9cda_0242ac1c0002row1_col3\" class=\"data row1 col3\" >0</td>\n",
              "                        <td id=\"T_f3ea3dea_64d0_11ea_9cda_0242ac1c0002row1_col4\" class=\"data row1 col4\" >0</td>\n",
              "                        <td id=\"T_f3ea3dea_64d0_11ea_9cda_0242ac1c0002row1_col5\" class=\"data row1 col5\" >0</td>\n",
              "            </tr>\n",
              "            <tr>\n",
              "                        <th id=\"T_f3ea3dea_64d0_11ea_9cda_0242ac1c0002level0_row2\" class=\"row_heading level0 row2\" >4932</th>\n",
              "                        <td id=\"T_f3ea3dea_64d0_11ea_9cda_0242ac1c0002row2_col0\" class=\"data row2 col0\" >2020-03-11 00:00:00</td>\n",
              "                        <td id=\"T_f3ea3dea_64d0_11ea_9cda_0242ac1c0002row2_col1\" class=\"data row2 col1\" >West Virginia</td>\n",
              "                        <td id=\"T_f3ea3dea_64d0_11ea_9cda_0242ac1c0002row2_col2\" class=\"data row2 col2\" >USA</td>\n",
              "                        <td id=\"T_f3ea3dea_64d0_11ea_9cda_0242ac1c0002row2_col3\" class=\"data row2 col3\" >0</td>\n",
              "                        <td id=\"T_f3ea3dea_64d0_11ea_9cda_0242ac1c0002row2_col4\" class=\"data row2 col4\" >0</td>\n",
              "                        <td id=\"T_f3ea3dea_64d0_11ea_9cda_0242ac1c0002row2_col5\" class=\"data row2 col5\" >0</td>\n",
              "            </tr>\n",
              "            <tr>\n",
              "                        <th id=\"T_f3ea3dea_64d0_11ea_9cda_0242ac1c0002level0_row3\" class=\"row_heading level0 row3\" >4933</th>\n",
              "                        <td id=\"T_f3ea3dea_64d0_11ea_9cda_0242ac1c0002row3_col0\" class=\"data row3 col0\" >2020-03-11 00:00:00</td>\n",
              "                        <td id=\"T_f3ea3dea_64d0_11ea_9cda_0242ac1c0002row3_col1\" class=\"data row3 col1\" >Wyoming</td>\n",
              "                        <td id=\"T_f3ea3dea_64d0_11ea_9cda_0242ac1c0002row3_col2\" class=\"data row3 col2\" >USA</td>\n",
              "                        <td id=\"T_f3ea3dea_64d0_11ea_9cda_0242ac1c0002row3_col3\" class=\"data row3 col3\" >0</td>\n",
              "                        <td id=\"T_f3ea3dea_64d0_11ea_9cda_0242ac1c0002row3_col4\" class=\"data row3 col4\" >0</td>\n",
              "                        <td id=\"T_f3ea3dea_64d0_11ea_9cda_0242ac1c0002row3_col5\" class=\"data row3 col5\" >0</td>\n",
              "            </tr>\n",
              "            <tr>\n",
              "                        <th id=\"T_f3ea3dea_64d0_11ea_9cda_0242ac1c0002level0_row4\" class=\"row_heading level0 row4\" >4934</th>\n",
              "                        <td id=\"T_f3ea3dea_64d0_11ea_9cda_0242ac1c0002row4_col0\" class=\"data row4 col0\" >2020-03-11 00:00:00</td>\n",
              "                        <td id=\"T_f3ea3dea_64d0_11ea_9cda_0242ac1c0002row4_col1\" class=\"data row4 col1\" >nan</td>\n",
              "                        <td id=\"T_f3ea3dea_64d0_11ea_9cda_0242ac1c0002row4_col2\" class=\"data row4 col2\" >occupied Palestinian territory</td>\n",
              "                        <td id=\"T_f3ea3dea_64d0_11ea_9cda_0242ac1c0002row4_col3\" class=\"data row4 col3\" >0</td>\n",
              "                        <td id=\"T_f3ea3dea_64d0_11ea_9cda_0242ac1c0002row4_col4\" class=\"data row4 col4\" >0</td>\n",
              "                        <td id=\"T_f3ea3dea_64d0_11ea_9cda_0242ac1c0002row4_col5\" class=\"data row4 col5\" >0</td>\n",
              "            </tr>\n",
              "    </tbody></table>"
            ],
            "text/plain": [
              "<pandas.io.formats.style.Styler at 0x7f3f42e95320>"
            ]
          },
          "metadata": {
            "tags": []
          },
          "execution_count": 9
        }
      ]
    },
    {
      "cell_type": "code",
      "metadata": {
        "id": "50BCyNE2QWNX",
        "colab_type": "code",
        "colab": {
          "base_uri": "https://localhost:8080/",
          "height": 79
        },
        "outputId": "bd4e1735-4777-473e-9912-0e9fe893aadd"
      },
      "source": [
        "# Checking for null or missing values\n",
        "\n",
        "pd.DataFrame(dataset.isnull().sum()).T"
      ],
      "execution_count": 10,
      "outputs": [
        {
          "output_type": "execute_result",
          "data": {
            "text/html": [
              "<div>\n",
              "<style scoped>\n",
              "    .dataframe tbody tr th:only-of-type {\n",
              "        vertical-align: middle;\n",
              "    }\n",
              "\n",
              "    .dataframe tbody tr th {\n",
              "        vertical-align: top;\n",
              "    }\n",
              "\n",
              "    .dataframe thead th {\n",
              "        text-align: right;\n",
              "    }\n",
              "</style>\n",
              "<table border=\"1\" class=\"dataframe\">\n",
              "  <thead>\n",
              "    <tr style=\"text-align: right;\">\n",
              "      <th></th>\n",
              "      <th>Date</th>\n",
              "      <th>Province/State</th>\n",
              "      <th>Country</th>\n",
              "      <th>Confirmed</th>\n",
              "      <th>Deaths</th>\n",
              "      <th>Recovered</th>\n",
              "    </tr>\n",
              "  </thead>\n",
              "  <tbody>\n",
              "    <tr>\n",
              "      <th>0</th>\n",
              "      <td>0</td>\n",
              "      <td>1815</td>\n",
              "      <td>0</td>\n",
              "      <td>0</td>\n",
              "      <td>0</td>\n",
              "      <td>0</td>\n",
              "    </tr>\n",
              "  </tbody>\n",
              "</table>\n",
              "</div>"
            ],
            "text/plain": [
              "   Date  Province/State  Country  Confirmed  Deaths  Recovered\n",
              "0     0            1815        0          0       0          0"
            ]
          },
          "metadata": {
            "tags": []
          },
          "execution_count": 10
        }
      ]
    },
    {
      "cell_type": "markdown",
      "metadata": {
        "id": "jdo5UbrBXjp9",
        "colab_type": "text"
      },
      "source": [
        "The dataset has 1601 missings values in \"Province/State\" column.\n",
        "Let's replace them with 'unknow'"
      ]
    },
    {
      "cell_type": "code",
      "metadata": {
        "id": "6u7BEN25YLsI",
        "colab_type": "code",
        "colab": {}
      },
      "source": [
        "# replacing data missings\n",
        "\n",
        "dataset = dataset.fillna('unknow')"
      ],
      "execution_count": 0,
      "outputs": []
    },
    {
      "cell_type": "code",
      "metadata": {
        "id": "3MnbIOJvYvIE",
        "colab_type": "code",
        "colab": {
          "base_uri": "https://localhost:8080/",
          "height": 79
        },
        "outputId": "3c39ac65-5d2e-4382-9ace-2d68ff16e7a6"
      },
      "source": [
        "# Checking for null or missing values again\n",
        "\n",
        "pd.DataFrame(dataset.isnull().sum()).T"
      ],
      "execution_count": 12,
      "outputs": [
        {
          "output_type": "execute_result",
          "data": {
            "text/html": [
              "<div>\n",
              "<style scoped>\n",
              "    .dataframe tbody tr th:only-of-type {\n",
              "        vertical-align: middle;\n",
              "    }\n",
              "\n",
              "    .dataframe tbody tr th {\n",
              "        vertical-align: top;\n",
              "    }\n",
              "\n",
              "    .dataframe thead th {\n",
              "        text-align: right;\n",
              "    }\n",
              "</style>\n",
              "<table border=\"1\" class=\"dataframe\">\n",
              "  <thead>\n",
              "    <tr style=\"text-align: right;\">\n",
              "      <th></th>\n",
              "      <th>Date</th>\n",
              "      <th>Province/State</th>\n",
              "      <th>Country</th>\n",
              "      <th>Confirmed</th>\n",
              "      <th>Deaths</th>\n",
              "      <th>Recovered</th>\n",
              "    </tr>\n",
              "  </thead>\n",
              "  <tbody>\n",
              "    <tr>\n",
              "      <th>0</th>\n",
              "      <td>0</td>\n",
              "      <td>0</td>\n",
              "      <td>0</td>\n",
              "      <td>0</td>\n",
              "      <td>0</td>\n",
              "      <td>0</td>\n",
              "    </tr>\n",
              "  </tbody>\n",
              "</table>\n",
              "</div>"
            ],
            "text/plain": [
              "   Date  Province/State  Country  Confirmed  Deaths  Recovered\n",
              "0     0               0        0          0       0          0"
            ]
          },
          "metadata": {
            "tags": []
          },
          "execution_count": 12
        }
      ]
    },
    {
      "cell_type": "code",
      "metadata": {
        "id": "cc6Jt0egk22h",
        "colab_type": "code",
        "colab": {
          "base_uri": "https://localhost:8080/",
          "height": 139
        },
        "outputId": "c478244d-a246-4791-b2ed-7a09a68a2251"
      },
      "source": [
        "# Table that sums up every element Confirmed, Deaths and Recovered columns\n",
        "\n",
        "cases_temp = dataset.groupby('Date')['Confirmed', 'Deaths', 'Recovered'].sum()\n",
        "cases_temp = cases_temp.reset_index()\n",
        "cases_temp = cases_temp.sort_values('Date', ascending=False)\n",
        "cases_temp.head().style.background_gradient(cmap='PRGn')"
      ],
      "execution_count": 13,
      "outputs": [
        {
          "output_type": "execute_result",
          "data": {
            "text/html": [
              "<style  type=\"text/css\" >\n",
              "    #T_f3fb61ba_64d0_11ea_9cda_0242ac1c0002row0_col1 {\n",
              "            background-color:  #00441b;\n",
              "            color:  #f1f1f1;\n",
              "        }    #T_f3fb61ba_64d0_11ea_9cda_0242ac1c0002row0_col2 {\n",
              "            background-color:  #00441b;\n",
              "            color:  #f1f1f1;\n",
              "        }    #T_f3fb61ba_64d0_11ea_9cda_0242ac1c0002row0_col3 {\n",
              "            background-color:  #00441b;\n",
              "            color:  #f1f1f1;\n",
              "        }    #T_f3fb61ba_64d0_11ea_9cda_0242ac1c0002row1_col1 {\n",
              "            background-color:  #c7e9c1;\n",
              "            color:  #000000;\n",
              "        }    #T_f3fb61ba_64d0_11ea_9cda_0242ac1c0002row1_col2 {\n",
              "            background-color:  #b7e2b1;\n",
              "            color:  #000000;\n",
              "        }    #T_f3fb61ba_64d0_11ea_9cda_0242ac1c0002row1_col3 {\n",
              "            background-color:  #a5da9f;\n",
              "            color:  #000000;\n",
              "        }    #T_f3fb61ba_64d0_11ea_9cda_0242ac1c0002row2_col1 {\n",
              "            background-color:  #e3cee5;\n",
              "            color:  #000000;\n",
              "        }    #T_f3fb61ba_64d0_11ea_9cda_0242ac1c0002row2_col2 {\n",
              "            background-color:  #ead9ea;\n",
              "            color:  #000000;\n",
              "        }    #T_f3fb61ba_64d0_11ea_9cda_0242ac1c0002row2_col3 {\n",
              "            background-color:  #f4eff4;\n",
              "            color:  #000000;\n",
              "        }    #T_f3fb61ba_64d0_11ea_9cda_0242ac1c0002row3_col1 {\n",
              "            background-color:  #9970ab;\n",
              "            color:  #000000;\n",
              "        }    #T_f3fb61ba_64d0_11ea_9cda_0242ac1c0002row3_col2 {\n",
              "            background-color:  #a681b6;\n",
              "            color:  #000000;\n",
              "        }    #T_f3fb61ba_64d0_11ea_9cda_0242ac1c0002row3_col3 {\n",
              "            background-color:  #b695c4;\n",
              "            color:  #000000;\n",
              "        }    #T_f3fb61ba_64d0_11ea_9cda_0242ac1c0002row4_col1 {\n",
              "            background-color:  #40004b;\n",
              "            color:  #f1f1f1;\n",
              "        }    #T_f3fb61ba_64d0_11ea_9cda_0242ac1c0002row4_col2 {\n",
              "            background-color:  #40004b;\n",
              "            color:  #f1f1f1;\n",
              "        }    #T_f3fb61ba_64d0_11ea_9cda_0242ac1c0002row4_col3 {\n",
              "            background-color:  #40004b;\n",
              "            color:  #f1f1f1;\n",
              "        }</style><table id=\"T_f3fb61ba_64d0_11ea_9cda_0242ac1c0002\" ><thead>    <tr>        <th class=\"blank level0\" ></th>        <th class=\"col_heading level0 col0\" >Date</th>        <th class=\"col_heading level0 col1\" >Confirmed</th>        <th class=\"col_heading level0 col2\" >Deaths</th>        <th class=\"col_heading level0 col3\" >Recovered</th>    </tr></thead><tbody>\n",
              "                <tr>\n",
              "                        <th id=\"T_f3fb61ba_64d0_11ea_9cda_0242ac1c0002level0_row0\" class=\"row_heading level0 row0\" >49</th>\n",
              "                        <td id=\"T_f3fb61ba_64d0_11ea_9cda_0242ac1c0002row0_col0\" class=\"data row0 col0\" >2020-03-11 00:00:00</td>\n",
              "                        <td id=\"T_f3fb61ba_64d0_11ea_9cda_0242ac1c0002row0_col1\" class=\"data row0 col1\" >125865</td>\n",
              "                        <td id=\"T_f3fb61ba_64d0_11ea_9cda_0242ac1c0002row0_col2\" class=\"data row0 col2\" >4615</td>\n",
              "                        <td id=\"T_f3fb61ba_64d0_11ea_9cda_0242ac1c0002row0_col3\" class=\"data row0 col3\" >67003</td>\n",
              "            </tr>\n",
              "            <tr>\n",
              "                        <th id=\"T_f3fb61ba_64d0_11ea_9cda_0242ac1c0002level0_row1\" class=\"row_heading level0 row1\" >48</th>\n",
              "                        <td id=\"T_f3fb61ba_64d0_11ea_9cda_0242ac1c0002row1_col0\" class=\"data row1 col0\" >2020-03-10 00:00:00</td>\n",
              "                        <td id=\"T_f3fb61ba_64d0_11ea_9cda_0242ac1c0002row1_col1\" class=\"data row1 col1\" >118582</td>\n",
              "                        <td id=\"T_f3fb61ba_64d0_11ea_9cda_0242ac1c0002row1_col2\" class=\"data row1 col2\" >4262</td>\n",
              "                        <td id=\"T_f3fb61ba_64d0_11ea_9cda_0242ac1c0002row1_col3\" class=\"data row1 col3\" >64404</td>\n",
              "            </tr>\n",
              "            <tr>\n",
              "                        <th id=\"T_f3fb61ba_64d0_11ea_9cda_0242ac1c0002level0_row2\" class=\"row_heading level0 row2\" >47</th>\n",
              "                        <td id=\"T_f3fb61ba_64d0_11ea_9cda_0242ac1c0002row2_col0\" class=\"data row2 col0\" >2020-03-09 00:00:00</td>\n",
              "                        <td id=\"T_f3fb61ba_64d0_11ea_9cda_0242ac1c0002row2_col1\" class=\"data row2 col1\" >113582</td>\n",
              "                        <td id=\"T_f3fb61ba_64d0_11ea_9cda_0242ac1c0002row2_col2\" class=\"data row2 col2\" >3996</td>\n",
              "                        <td id=\"T_f3fb61ba_64d0_11ea_9cda_0242ac1c0002row2_col3\" class=\"data row2 col3\" >62512</td>\n",
              "            </tr>\n",
              "            <tr>\n",
              "                        <th id=\"T_f3fb61ba_64d0_11ea_9cda_0242ac1c0002level0_row3\" class=\"row_heading level0 row3\" >46</th>\n",
              "                        <td id=\"T_f3fb61ba_64d0_11ea_9cda_0242ac1c0002row3_col0\" class=\"data row3 col0\" >2020-03-08 00:00:00</td>\n",
              "                        <td id=\"T_f3fb61ba_64d0_11ea_9cda_0242ac1c0002row3_col1\" class=\"data row3 col1\" >109835</td>\n",
              "                        <td id=\"T_f3fb61ba_64d0_11ea_9cda_0242ac1c0002row3_col2\" class=\"data row3 col2\" >3803</td>\n",
              "                        <td id=\"T_f3fb61ba_64d0_11ea_9cda_0242ac1c0002row3_col3\" class=\"data row3 col3\" >60695</td>\n",
              "            </tr>\n",
              "            <tr>\n",
              "                        <th id=\"T_f3fb61ba_64d0_11ea_9cda_0242ac1c0002level0_row4\" class=\"row_heading level0 row4\" >45</th>\n",
              "                        <td id=\"T_f3fb61ba_64d0_11ea_9cda_0242ac1c0002row4_col0\" class=\"data row4 col0\" >2020-03-07 00:00:00</td>\n",
              "                        <td id=\"T_f3fb61ba_64d0_11ea_9cda_0242ac1c0002row4_col1\" class=\"data row4 col1\" >105836</td>\n",
              "                        <td id=\"T_f3fb61ba_64d0_11ea_9cda_0242ac1c0002row4_col2\" class=\"data row4 col2\" >3558</td>\n",
              "                        <td id=\"T_f3fb61ba_64d0_11ea_9cda_0242ac1c0002row4_col3\" class=\"data row4 col3\" >58359</td>\n",
              "            </tr>\n",
              "    </tbody></table>"
            ],
            "text/plain": [
              "<pandas.io.formats.style.Styler at 0x7f3f375251d0>"
            ]
          },
          "metadata": {
            "tags": []
          },
          "execution_count": 13
        }
      ]
    },
    {
      "cell_type": "markdown",
      "metadata": {
        "id": "XEXJ_oCgrQwQ",
        "colab_type": "text"
      },
      "source": [
        "report in progress for the next few days..."
      ]
    }
  ]
}