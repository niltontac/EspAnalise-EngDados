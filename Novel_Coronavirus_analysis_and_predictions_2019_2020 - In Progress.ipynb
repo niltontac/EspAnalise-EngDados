{
  "nbformat": 4,
  "nbformat_minor": 0,
  "metadata": {
    "colab": {
      "name": "Novel Coronavirus analysis and predictions 2019-2020.ipynb",
      "provenance": [],
      "collapsed_sections": [],
      "authorship_tag": "ABX9TyPiQrRn4T6MoLaSA3fjqOAk",
      "include_colab_link": true
    },
    "kernelspec": {
      "name": "python3",
      "display_name": "Python 3"
    }
  },
  "cells": [
    {
      "cell_type": "markdown",
      "metadata": {
        "id": "view-in-github",
        "colab_type": "text"
      },
      "source": [
        "<a href=\"https://colab.research.google.com/github/niltontac/EspAnalise-EngDados/blob/master/Novel_Coronavirus_analysis_and_predictions_2019_2020%20-%20In%20Progress.ipynb\" target=\"_parent\"><img src=\"https://colab.research.google.com/assets/colab-badge.svg\" alt=\"Open In Colab\"/></a>"
      ]
    },
    {
      "cell_type": "markdown",
      "metadata": {
        "id": "2wlK12P1QsFI",
        "colab_type": "text"
      },
      "source": [
        "#Sobre este conjunto de dados\n",
        "\n",
        "#####Este counjunto de dados possui informações diárias sobre os números de casos afetados, mortes e recuperações do novo Corona vírus de 2019. Observe que esses são dados de séries temporais e, portando, os números de casos em um determinado dia são números acumulados.\n",
        "\n",
        "\n",
        "#About this Dataset\n",
        "\n",
        "#####This dataset has daily level information on the numbers affected cases, deaths and recoveries from the new coronavirus. Note that these are data from time series and the numbers of cases on a given day are cumulative numbers.\n",
        "\n",
        "---\n",
        "\n",
        "#####Fonte | Source (Dataset): https://www.kaggle.com/sudalairajkumar/novel-corona-virus-2019-dataset\n",
        "\n",
        "---\n",
        "\n",
        "#####Analyst: Nilton Thiago de Andrade Coura\n"
      ]
    },
    {
      "cell_type": "code",
      "metadata": {
        "id": "GLpVLuLUP7cW",
        "colab_type": "code",
        "colab": {}
      },
      "source": [
        "# Importing Libraries\n",
        "\n",
        "import pandas as pd\n",
        "import numpy as np\n",
        "import matplotlib.pyplot as plt\n",
        "import seaborn as sns\n",
        "import plotly.graph_objects as go\n",
        "\n",
        "# Loading dataset\n",
        "\n",
        "dataset = pd.read_csv('https://raw.githubusercontent.com/niltontac/EspAnalise-EngDados/master/data/Novel_Corona_Virus_2019_Dataset/covid_19_data.csv', parse_dates=['ObservationDate', 'Last Update'])"
      ],
      "execution_count": 0,
      "outputs": []
    },
    {
      "cell_type": "code",
      "metadata": {
        "id": "S9ja27Q4GCJg",
        "colab_type": "code",
        "outputId": "402defac-1209-4a83-cc2e-a173607ff96d",
        "colab": {
          "base_uri": "https://localhost:8080/",
          "height": 34
        }
      },
      "source": [
        "# Dataset Dimension (rows vs columns)\n",
        "\n",
        "dataset.shape"
      ],
      "execution_count": 2,
      "outputs": [
        {
          "output_type": "execute_result",
          "data": {
            "text/plain": [
              "(4935, 8)"
            ]
          },
          "metadata": {
            "tags": []
          },
          "execution_count": 2
        }
      ]
    },
    {
      "cell_type": "code",
      "metadata": {
        "colab_type": "code",
        "outputId": "7845b5cd-3da6-4272-af7e-518f7cb84076",
        "id": "Pe1iLotbjdWm",
        "colab": {
          "base_uri": "https://localhost:8080/",
          "height": 284
        }
      },
      "source": [
        "# Dataset Information\n",
        "\n",
        "dataset.info()"
      ],
      "execution_count": 3,
      "outputs": [
        {
          "output_type": "stream",
          "text": [
            "<class 'pandas.core.frame.DataFrame'>\n",
            "RangeIndex: 4935 entries, 0 to 4934\n",
            "Data columns (total 8 columns):\n",
            "SNo                4935 non-null int64\n",
            "ObservationDate    4935 non-null datetime64[ns]\n",
            "Province/State     3120 non-null object\n",
            "Country/Region     4935 non-null object\n",
            "Last Update        4935 non-null datetime64[ns]\n",
            "Confirmed          4935 non-null int64\n",
            "Deaths             4935 non-null int64\n",
            "Recovered          4935 non-null int64\n",
            "dtypes: datetime64[ns](2), int64(4), object(2)\n",
            "memory usage: 308.6+ KB\n"
          ],
          "name": "stdout"
        }
      ]
    },
    {
      "cell_type": "code",
      "metadata": {
        "id": "saAYzwKrHEXA",
        "colab_type": "code",
        "outputId": "16dd970a-f2f1-4736-857f-a1bdd63a4463",
        "colab": {
          "base_uri": "https://localhost:8080/",
          "height": 172
        }
      },
      "source": [
        "# Dataset describe\n",
        "\n",
        "dataset.describe().T"
      ],
      "execution_count": 4,
      "outputs": [
        {
          "output_type": "execute_result",
          "data": {
            "text/html": [
              "<div>\n",
              "<style scoped>\n",
              "    .dataframe tbody tr th:only-of-type {\n",
              "        vertical-align: middle;\n",
              "    }\n",
              "\n",
              "    .dataframe tbody tr th {\n",
              "        vertical-align: top;\n",
              "    }\n",
              "\n",
              "    .dataframe thead th {\n",
              "        text-align: right;\n",
              "    }\n",
              "</style>\n",
              "<table border=\"1\" class=\"dataframe\">\n",
              "  <thead>\n",
              "    <tr style=\"text-align: right;\">\n",
              "      <th></th>\n",
              "      <th>count</th>\n",
              "      <th>mean</th>\n",
              "      <th>std</th>\n",
              "      <th>min</th>\n",
              "      <th>25%</th>\n",
              "      <th>50%</th>\n",
              "      <th>75%</th>\n",
              "      <th>max</th>\n",
              "    </tr>\n",
              "  </thead>\n",
              "  <tbody>\n",
              "    <tr>\n",
              "      <th>SNo</th>\n",
              "      <td>4935.0</td>\n",
              "      <td>2468.000000</td>\n",
              "      <td>1424.756119</td>\n",
              "      <td>1.0</td>\n",
              "      <td>1234.5</td>\n",
              "      <td>2468.0</td>\n",
              "      <td>3701.5</td>\n",
              "      <td>4935.0</td>\n",
              "    </tr>\n",
              "    <tr>\n",
              "      <th>Confirmed</th>\n",
              "      <td>4935.0</td>\n",
              "      <td>577.614590</td>\n",
              "      <td>4971.492694</td>\n",
              "      <td>0.0</td>\n",
              "      <td>1.0</td>\n",
              "      <td>9.0</td>\n",
              "      <td>93.0</td>\n",
              "      <td>67773.0</td>\n",
              "    </tr>\n",
              "    <tr>\n",
              "      <th>Deaths</th>\n",
              "      <td>4935.0</td>\n",
              "      <td>17.694833</td>\n",
              "      <td>192.348513</td>\n",
              "      <td>0.0</td>\n",
              "      <td>0.0</td>\n",
              "      <td>0.0</td>\n",
              "      <td>1.0</td>\n",
              "      <td>3046.0</td>\n",
              "    </tr>\n",
              "    <tr>\n",
              "      <th>Recovered</th>\n",
              "      <td>4935.0</td>\n",
              "      <td>201.011550</td>\n",
              "      <td>2179.798520</td>\n",
              "      <td>0.0</td>\n",
              "      <td>0.0</td>\n",
              "      <td>1.0</td>\n",
              "      <td>14.0</td>\n",
              "      <td>49134.0</td>\n",
              "    </tr>\n",
              "  </tbody>\n",
              "</table>\n",
              "</div>"
            ],
            "text/plain": [
              "            count         mean          std  ...     50%     75%      max\n",
              "SNo        4935.0  2468.000000  1424.756119  ...  2468.0  3701.5   4935.0\n",
              "Confirmed  4935.0   577.614590  4971.492694  ...     9.0    93.0  67773.0\n",
              "Deaths     4935.0    17.694833   192.348513  ...     0.0     1.0   3046.0\n",
              "Recovered  4935.0   201.011550  2179.798520  ...     1.0    14.0  49134.0\n",
              "\n",
              "[4 rows x 8 columns]"
            ]
          },
          "metadata": {
            "tags": []
          },
          "execution_count": 4
        }
      ]
    },
    {
      "cell_type": "code",
      "metadata": {
        "id": "4WDaszksSDmJ",
        "colab_type": "code",
        "outputId": "75ab3073-884b-422c-bbd1-99f6407c3545",
        "colab": {
          "base_uri": "https://localhost:8080/",
          "height": 171
        }
      },
      "source": [
        "# Dataset (columns data types) \n",
        "\n",
        "dataset.dtypes"
      ],
      "execution_count": 5,
      "outputs": [
        {
          "output_type": "execute_result",
          "data": {
            "text/plain": [
              "SNo                         int64\n",
              "ObservationDate    datetime64[ns]\n",
              "Province/State             object\n",
              "Country/Region             object\n",
              "Last Update        datetime64[ns]\n",
              "Confirmed                   int64\n",
              "Deaths                      int64\n",
              "Recovered                   int64\n",
              "dtype: object"
            ]
          },
          "metadata": {
            "tags": []
          },
          "execution_count": 5
        }
      ]
    },
    {
      "cell_type": "code",
      "metadata": {
        "id": "mlnLQs0GjfY9",
        "colab_type": "code",
        "outputId": "b853b9f0-3cdf-4a92-ed1a-1c0a6df638dd",
        "colab": {
          "base_uri": "https://localhost:8080/",
          "height": 139
        }
      },
      "source": [
        "# Checking the last 5 cases to see when the dataset was updated\n",
        "\n",
        "dataset.tail().style.background_gradient(cmap='PRGn')"
      ],
      "execution_count": 6,
      "outputs": [
        {
          "output_type": "execute_result",
          "data": {
            "text/html": [
              "<style  type=\"text/css\" >\n",
              "    #T_9b301826_660d_11ea_97ce_0242ac1c0002row0_col0 {\n",
              "            background-color:  #40004b;\n",
              "            color:  #f1f1f1;\n",
              "        }    #T_9b301826_660d_11ea_97ce_0242ac1c0002row0_col5 {\n",
              "            background-color:  #40004b;\n",
              "            color:  #f1f1f1;\n",
              "        }    #T_9b301826_660d_11ea_97ce_0242ac1c0002row0_col6 {\n",
              "            background-color:  #40004b;\n",
              "            color:  #f1f1f1;\n",
              "        }    #T_9b301826_660d_11ea_97ce_0242ac1c0002row0_col7 {\n",
              "            background-color:  #40004b;\n",
              "            color:  #f1f1f1;\n",
              "        }    #T_9b301826_660d_11ea_97ce_0242ac1c0002row1_col0 {\n",
              "            background-color:  #ae8bbd;\n",
              "            color:  #000000;\n",
              "        }    #T_9b301826_660d_11ea_97ce_0242ac1c0002row1_col5 {\n",
              "            background-color:  #40004b;\n",
              "            color:  #f1f1f1;\n",
              "        }    #T_9b301826_660d_11ea_97ce_0242ac1c0002row1_col6 {\n",
              "            background-color:  #40004b;\n",
              "            color:  #f1f1f1;\n",
              "        }    #T_9b301826_660d_11ea_97ce_0242ac1c0002row1_col7 {\n",
              "            background-color:  #40004b;\n",
              "            color:  #f1f1f1;\n",
              "        }    #T_9b301826_660d_11ea_97ce_0242ac1c0002row2_col0 {\n",
              "            background-color:  #f6f7f6;\n",
              "            color:  #000000;\n",
              "        }    #T_9b301826_660d_11ea_97ce_0242ac1c0002row2_col5 {\n",
              "            background-color:  #40004b;\n",
              "            color:  #f1f1f1;\n",
              "        }    #T_9b301826_660d_11ea_97ce_0242ac1c0002row2_col6 {\n",
              "            background-color:  #40004b;\n",
              "            color:  #f1f1f1;\n",
              "        }    #T_9b301826_660d_11ea_97ce_0242ac1c0002row2_col7 {\n",
              "            background-color:  #40004b;\n",
              "            color:  #f1f1f1;\n",
              "        }    #T_9b301826_660d_11ea_97ce_0242ac1c0002row3_col0 {\n",
              "            background-color:  #7ec37f;\n",
              "            color:  #000000;\n",
              "        }    #T_9b301826_660d_11ea_97ce_0242ac1c0002row3_col5 {\n",
              "            background-color:  #40004b;\n",
              "            color:  #f1f1f1;\n",
              "        }    #T_9b301826_660d_11ea_97ce_0242ac1c0002row3_col6 {\n",
              "            background-color:  #40004b;\n",
              "            color:  #f1f1f1;\n",
              "        }    #T_9b301826_660d_11ea_97ce_0242ac1c0002row3_col7 {\n",
              "            background-color:  #40004b;\n",
              "            color:  #f1f1f1;\n",
              "        }    #T_9b301826_660d_11ea_97ce_0242ac1c0002row4_col0 {\n",
              "            background-color:  #00441b;\n",
              "            color:  #f1f1f1;\n",
              "        }    #T_9b301826_660d_11ea_97ce_0242ac1c0002row4_col5 {\n",
              "            background-color:  #40004b;\n",
              "            color:  #f1f1f1;\n",
              "        }    #T_9b301826_660d_11ea_97ce_0242ac1c0002row4_col6 {\n",
              "            background-color:  #40004b;\n",
              "            color:  #f1f1f1;\n",
              "        }    #T_9b301826_660d_11ea_97ce_0242ac1c0002row4_col7 {\n",
              "            background-color:  #40004b;\n",
              "            color:  #f1f1f1;\n",
              "        }</style><table id=\"T_9b301826_660d_11ea_97ce_0242ac1c0002\" ><thead>    <tr>        <th class=\"blank level0\" ></th>        <th class=\"col_heading level0 col0\" >SNo</th>        <th class=\"col_heading level0 col1\" >ObservationDate</th>        <th class=\"col_heading level0 col2\" >Province/State</th>        <th class=\"col_heading level0 col3\" >Country/Region</th>        <th class=\"col_heading level0 col4\" >Last Update</th>        <th class=\"col_heading level0 col5\" >Confirmed</th>        <th class=\"col_heading level0 col6\" >Deaths</th>        <th class=\"col_heading level0 col7\" >Recovered</th>    </tr></thead><tbody>\n",
              "                <tr>\n",
              "                        <th id=\"T_9b301826_660d_11ea_97ce_0242ac1c0002level0_row0\" class=\"row_heading level0 row0\" >4930</th>\n",
              "                        <td id=\"T_9b301826_660d_11ea_97ce_0242ac1c0002row0_col0\" class=\"data row0 col0\" >4931</td>\n",
              "                        <td id=\"T_9b301826_660d_11ea_97ce_0242ac1c0002row0_col1\" class=\"data row0 col1\" >2020-03-11 00:00:00</td>\n",
              "                        <td id=\"T_9b301826_660d_11ea_97ce_0242ac1c0002row0_col2\" class=\"data row0 col2\" >Mississippi</td>\n",
              "                        <td id=\"T_9b301826_660d_11ea_97ce_0242ac1c0002row0_col3\" class=\"data row0 col3\" >US</td>\n",
              "                        <td id=\"T_9b301826_660d_11ea_97ce_0242ac1c0002row0_col4\" class=\"data row0 col4\" >2020-03-10 02:33:04</td>\n",
              "                        <td id=\"T_9b301826_660d_11ea_97ce_0242ac1c0002row0_col5\" class=\"data row0 col5\" >0</td>\n",
              "                        <td id=\"T_9b301826_660d_11ea_97ce_0242ac1c0002row0_col6\" class=\"data row0 col6\" >0</td>\n",
              "                        <td id=\"T_9b301826_660d_11ea_97ce_0242ac1c0002row0_col7\" class=\"data row0 col7\" >0</td>\n",
              "            </tr>\n",
              "            <tr>\n",
              "                        <th id=\"T_9b301826_660d_11ea_97ce_0242ac1c0002level0_row1\" class=\"row_heading level0 row1\" >4931</th>\n",
              "                        <td id=\"T_9b301826_660d_11ea_97ce_0242ac1c0002row1_col0\" class=\"data row1 col0\" >4932</td>\n",
              "                        <td id=\"T_9b301826_660d_11ea_97ce_0242ac1c0002row1_col1\" class=\"data row1 col1\" >2020-03-11 00:00:00</td>\n",
              "                        <td id=\"T_9b301826_660d_11ea_97ce_0242ac1c0002row1_col2\" class=\"data row1 col2\" >North Dakota</td>\n",
              "                        <td id=\"T_9b301826_660d_11ea_97ce_0242ac1c0002row1_col3\" class=\"data row1 col3\" >US</td>\n",
              "                        <td id=\"T_9b301826_660d_11ea_97ce_0242ac1c0002row1_col4\" class=\"data row1 col4\" >2020-03-10 02:33:04</td>\n",
              "                        <td id=\"T_9b301826_660d_11ea_97ce_0242ac1c0002row1_col5\" class=\"data row1 col5\" >0</td>\n",
              "                        <td id=\"T_9b301826_660d_11ea_97ce_0242ac1c0002row1_col6\" class=\"data row1 col6\" >0</td>\n",
              "                        <td id=\"T_9b301826_660d_11ea_97ce_0242ac1c0002row1_col7\" class=\"data row1 col7\" >0</td>\n",
              "            </tr>\n",
              "            <tr>\n",
              "                        <th id=\"T_9b301826_660d_11ea_97ce_0242ac1c0002level0_row2\" class=\"row_heading level0 row2\" >4932</th>\n",
              "                        <td id=\"T_9b301826_660d_11ea_97ce_0242ac1c0002row2_col0\" class=\"data row2 col0\" >4933</td>\n",
              "                        <td id=\"T_9b301826_660d_11ea_97ce_0242ac1c0002row2_col1\" class=\"data row2 col1\" >2020-03-11 00:00:00</td>\n",
              "                        <td id=\"T_9b301826_660d_11ea_97ce_0242ac1c0002row2_col2\" class=\"data row2 col2\" >West Virginia</td>\n",
              "                        <td id=\"T_9b301826_660d_11ea_97ce_0242ac1c0002row2_col3\" class=\"data row2 col3\" >US</td>\n",
              "                        <td id=\"T_9b301826_660d_11ea_97ce_0242ac1c0002row2_col4\" class=\"data row2 col4\" >2020-03-10 02:33:04</td>\n",
              "                        <td id=\"T_9b301826_660d_11ea_97ce_0242ac1c0002row2_col5\" class=\"data row2 col5\" >0</td>\n",
              "                        <td id=\"T_9b301826_660d_11ea_97ce_0242ac1c0002row2_col6\" class=\"data row2 col6\" >0</td>\n",
              "                        <td id=\"T_9b301826_660d_11ea_97ce_0242ac1c0002row2_col7\" class=\"data row2 col7\" >0</td>\n",
              "            </tr>\n",
              "            <tr>\n",
              "                        <th id=\"T_9b301826_660d_11ea_97ce_0242ac1c0002level0_row3\" class=\"row_heading level0 row3\" >4933</th>\n",
              "                        <td id=\"T_9b301826_660d_11ea_97ce_0242ac1c0002row3_col0\" class=\"data row3 col0\" >4934</td>\n",
              "                        <td id=\"T_9b301826_660d_11ea_97ce_0242ac1c0002row3_col1\" class=\"data row3 col1\" >2020-03-11 00:00:00</td>\n",
              "                        <td id=\"T_9b301826_660d_11ea_97ce_0242ac1c0002row3_col2\" class=\"data row3 col2\" >Wyoming</td>\n",
              "                        <td id=\"T_9b301826_660d_11ea_97ce_0242ac1c0002row3_col3\" class=\"data row3 col3\" >US</td>\n",
              "                        <td id=\"T_9b301826_660d_11ea_97ce_0242ac1c0002row3_col4\" class=\"data row3 col4\" >2020-03-10 02:33:04</td>\n",
              "                        <td id=\"T_9b301826_660d_11ea_97ce_0242ac1c0002row3_col5\" class=\"data row3 col5\" >0</td>\n",
              "                        <td id=\"T_9b301826_660d_11ea_97ce_0242ac1c0002row3_col6\" class=\"data row3 col6\" >0</td>\n",
              "                        <td id=\"T_9b301826_660d_11ea_97ce_0242ac1c0002row3_col7\" class=\"data row3 col7\" >0</td>\n",
              "            </tr>\n",
              "            <tr>\n",
              "                        <th id=\"T_9b301826_660d_11ea_97ce_0242ac1c0002level0_row4\" class=\"row_heading level0 row4\" >4934</th>\n",
              "                        <td id=\"T_9b301826_660d_11ea_97ce_0242ac1c0002row4_col0\" class=\"data row4 col0\" >4935</td>\n",
              "                        <td id=\"T_9b301826_660d_11ea_97ce_0242ac1c0002row4_col1\" class=\"data row4 col1\" >2020-03-11 00:00:00</td>\n",
              "                        <td id=\"T_9b301826_660d_11ea_97ce_0242ac1c0002row4_col2\" class=\"data row4 col2\" >nan</td>\n",
              "                        <td id=\"T_9b301826_660d_11ea_97ce_0242ac1c0002row4_col3\" class=\"data row4 col3\" >occupied Palestinian territory</td>\n",
              "                        <td id=\"T_9b301826_660d_11ea_97ce_0242ac1c0002row4_col4\" class=\"data row4 col4\" >2020-03-11 20:53:02</td>\n",
              "                        <td id=\"T_9b301826_660d_11ea_97ce_0242ac1c0002row4_col5\" class=\"data row4 col5\" >0</td>\n",
              "                        <td id=\"T_9b301826_660d_11ea_97ce_0242ac1c0002row4_col6\" class=\"data row4 col6\" >0</td>\n",
              "                        <td id=\"T_9b301826_660d_11ea_97ce_0242ac1c0002row4_col7\" class=\"data row4 col7\" >0</td>\n",
              "            </tr>\n",
              "    </tbody></table>"
            ],
            "text/plain": [
              "<pandas.io.formats.style.Styler at 0x7f8927be22e8>"
            ]
          },
          "metadata": {
            "tags": []
          },
          "execution_count": 6
        }
      ]
    },
    {
      "cell_type": "code",
      "metadata": {
        "id": "5ZgY8AyhTgLU",
        "colab_type": "code",
        "outputId": "99baf471-724e-4710-dfa9-d9b1417b5e7e",
        "colab": {
          "base_uri": "https://localhost:8080/",
          "height": 58
        }
      },
      "source": [
        "# The countries list\n",
        "\n",
        "\", \".join(dataset['Country/Region'].unique().tolist())"
      ],
      "execution_count": 7,
      "outputs": [
        {
          "output_type": "execute_result",
          "data": {
            "text/plain": [
              "\"Mainland China, Hong Kong, Macau, Taiwan, US, Japan, Thailand, South Korea, Singapore, Philippines, Malaysia, Vietnam, Australia, Mexico, Brazil, Colombia, France, Nepal, Canada, Cambodia, Sri Lanka, Ivory Coast, Germany, Finland, United Arab Emirates, India, Italy, UK, Russia, Sweden, Spain, Belgium, Others, Egypt, Iran, Israel, Lebanon, Iraq, Oman, Afghanistan, Bahrain, Kuwait, Austria, Algeria, Croatia, Switzerland, Pakistan, Georgia, Greece, North Macedonia, Norway, Romania, Denmark, Estonia, Netherlands, San Marino,  Azerbaijan, Belarus, Iceland, Lithuania, New Zealand, Nigeria, North Ireland, Ireland, Luxembourg, Monaco, Qatar, Ecuador, Azerbaijan, Czech Republic, Armenia, Dominican Republic, Indonesia, Portugal, Andorra, Latvia, Morocco, Saudi Arabia, Senegal, Argentina, Chile, Jordan, Ukraine, Saint Barthelemy, Hungary, Faroe Islands, Gibraltar, Liechtenstein, Poland, Tunisia, Palestine, Bosnia and Herzegovina, Slovenia, South Africa, Bhutan, Cameroon, Costa Rica, Peru, Serbia, Slovakia, Togo, Vatican City, French Guiana, Malta, Martinique, Republic of Ireland, Bulgaria, Maldives, Bangladesh, Moldova, Paraguay, Albania, Cyprus, St. Martin, Brunei, occupied Palestinian territory, ('St. Martin',), Burkina Faso, Channel Islands, Holy See, Mongolia, Panama, Bolivia, Honduras, Congo (Kinshasa), Jamaica, Reunion, Turkey\""
            ]
          },
          "metadata": {
            "tags": []
          },
          "execution_count": 7
        }
      ]
    },
    {
      "cell_type": "code",
      "metadata": {
        "id": "KKZ7IX_yJ1DT",
        "colab_type": "code",
        "colab": {}
      },
      "source": [
        "# Rename some countries to make sure all adhere to (alpha-3) ISO-Standards and for the ploty\n",
        "# map visualization to work\n",
        "\n",
        "dataset['Country/Region'] = dataset['Country/Region'].replace('US', 'USA')\n",
        "dataset['Country/Region'] = dataset['Country/Region'].replace('South Korea', 'KOR')\n",
        "dataset['Country/Region'] = dataset['Country/Region'].replace('Russia', 'RUS')\n",
        "dataset['Country/Region'] = dataset['Country/Region'].replace('UK', 'GBR')\n",
        "\n",
        "\n",
        "# Rename the columns\n",
        "\n",
        "dataset = dataset.rename(columns={'Country/Region': 'Country', 'ObservationDate': 'Date'})"
      ],
      "execution_count": 0,
      "outputs": []
    },
    {
      "cell_type": "code",
      "metadata": {
        "id": "kqvsOej5M_FM",
        "colab_type": "code",
        "colab": {}
      },
      "source": [
        "# Removing unessecary columns\n",
        "\n",
        "dataset = dataset.drop(['SNo', 'Last Update'], axis=1)"
      ],
      "execution_count": 0,
      "outputs": []
    },
    {
      "cell_type": "code",
      "metadata": {
        "id": "5XGl0qOvz7Ku",
        "colab_type": "code",
        "outputId": "5da6acee-7d26-4eab-ac0e-f6766259f697",
        "colab": {
          "base_uri": "https://localhost:8080/",
          "height": 34
        }
      },
      "source": [
        "# New dataset dimension (rows vs columns)\n",
        "\n",
        "dataset.shape"
      ],
      "execution_count": 10,
      "outputs": [
        {
          "output_type": "execute_result",
          "data": {
            "text/plain": [
              "(4935, 6)"
            ]
          },
          "metadata": {
            "tags": []
          },
          "execution_count": 10
        }
      ]
    },
    {
      "cell_type": "code",
      "metadata": {
        "id": "PuZvbJBP0iwO",
        "colab_type": "code",
        "outputId": "dfb83849-f52b-4417-cb9c-70a53762fb90",
        "colab": {
          "base_uri": "https://localhost:8080/",
          "height": 139
        }
      },
      "source": [
        "# Checking\n",
        "\n",
        "dataset.tail().style.background_gradient(cmap='PRGn')"
      ],
      "execution_count": 11,
      "outputs": [
        {
          "output_type": "execute_result",
          "data": {
            "text/html": [
              "<style  type=\"text/css\" >\n",
              "    #T_9b3b4cd2_660d_11ea_97ce_0242ac1c0002row0_col3 {\n",
              "            background-color:  #40004b;\n",
              "            color:  #f1f1f1;\n",
              "        }    #T_9b3b4cd2_660d_11ea_97ce_0242ac1c0002row0_col4 {\n",
              "            background-color:  #40004b;\n",
              "            color:  #f1f1f1;\n",
              "        }    #T_9b3b4cd2_660d_11ea_97ce_0242ac1c0002row0_col5 {\n",
              "            background-color:  #40004b;\n",
              "            color:  #f1f1f1;\n",
              "        }    #T_9b3b4cd2_660d_11ea_97ce_0242ac1c0002row1_col3 {\n",
              "            background-color:  #40004b;\n",
              "            color:  #f1f1f1;\n",
              "        }    #T_9b3b4cd2_660d_11ea_97ce_0242ac1c0002row1_col4 {\n",
              "            background-color:  #40004b;\n",
              "            color:  #f1f1f1;\n",
              "        }    #T_9b3b4cd2_660d_11ea_97ce_0242ac1c0002row1_col5 {\n",
              "            background-color:  #40004b;\n",
              "            color:  #f1f1f1;\n",
              "        }    #T_9b3b4cd2_660d_11ea_97ce_0242ac1c0002row2_col3 {\n",
              "            background-color:  #40004b;\n",
              "            color:  #f1f1f1;\n",
              "        }    #T_9b3b4cd2_660d_11ea_97ce_0242ac1c0002row2_col4 {\n",
              "            background-color:  #40004b;\n",
              "            color:  #f1f1f1;\n",
              "        }    #T_9b3b4cd2_660d_11ea_97ce_0242ac1c0002row2_col5 {\n",
              "            background-color:  #40004b;\n",
              "            color:  #f1f1f1;\n",
              "        }    #T_9b3b4cd2_660d_11ea_97ce_0242ac1c0002row3_col3 {\n",
              "            background-color:  #40004b;\n",
              "            color:  #f1f1f1;\n",
              "        }    #T_9b3b4cd2_660d_11ea_97ce_0242ac1c0002row3_col4 {\n",
              "            background-color:  #40004b;\n",
              "            color:  #f1f1f1;\n",
              "        }    #T_9b3b4cd2_660d_11ea_97ce_0242ac1c0002row3_col5 {\n",
              "            background-color:  #40004b;\n",
              "            color:  #f1f1f1;\n",
              "        }    #T_9b3b4cd2_660d_11ea_97ce_0242ac1c0002row4_col3 {\n",
              "            background-color:  #40004b;\n",
              "            color:  #f1f1f1;\n",
              "        }    #T_9b3b4cd2_660d_11ea_97ce_0242ac1c0002row4_col4 {\n",
              "            background-color:  #40004b;\n",
              "            color:  #f1f1f1;\n",
              "        }    #T_9b3b4cd2_660d_11ea_97ce_0242ac1c0002row4_col5 {\n",
              "            background-color:  #40004b;\n",
              "            color:  #f1f1f1;\n",
              "        }</style><table id=\"T_9b3b4cd2_660d_11ea_97ce_0242ac1c0002\" ><thead>    <tr>        <th class=\"blank level0\" ></th>        <th class=\"col_heading level0 col0\" >Date</th>        <th class=\"col_heading level0 col1\" >Province/State</th>        <th class=\"col_heading level0 col2\" >Country</th>        <th class=\"col_heading level0 col3\" >Confirmed</th>        <th class=\"col_heading level0 col4\" >Deaths</th>        <th class=\"col_heading level0 col5\" >Recovered</th>    </tr></thead><tbody>\n",
              "                <tr>\n",
              "                        <th id=\"T_9b3b4cd2_660d_11ea_97ce_0242ac1c0002level0_row0\" class=\"row_heading level0 row0\" >4930</th>\n",
              "                        <td id=\"T_9b3b4cd2_660d_11ea_97ce_0242ac1c0002row0_col0\" class=\"data row0 col0\" >2020-03-11 00:00:00</td>\n",
              "                        <td id=\"T_9b3b4cd2_660d_11ea_97ce_0242ac1c0002row0_col1\" class=\"data row0 col1\" >Mississippi</td>\n",
              "                        <td id=\"T_9b3b4cd2_660d_11ea_97ce_0242ac1c0002row0_col2\" class=\"data row0 col2\" >USA</td>\n",
              "                        <td id=\"T_9b3b4cd2_660d_11ea_97ce_0242ac1c0002row0_col3\" class=\"data row0 col3\" >0</td>\n",
              "                        <td id=\"T_9b3b4cd2_660d_11ea_97ce_0242ac1c0002row0_col4\" class=\"data row0 col4\" >0</td>\n",
              "                        <td id=\"T_9b3b4cd2_660d_11ea_97ce_0242ac1c0002row0_col5\" class=\"data row0 col5\" >0</td>\n",
              "            </tr>\n",
              "            <tr>\n",
              "                        <th id=\"T_9b3b4cd2_660d_11ea_97ce_0242ac1c0002level0_row1\" class=\"row_heading level0 row1\" >4931</th>\n",
              "                        <td id=\"T_9b3b4cd2_660d_11ea_97ce_0242ac1c0002row1_col0\" class=\"data row1 col0\" >2020-03-11 00:00:00</td>\n",
              "                        <td id=\"T_9b3b4cd2_660d_11ea_97ce_0242ac1c0002row1_col1\" class=\"data row1 col1\" >North Dakota</td>\n",
              "                        <td id=\"T_9b3b4cd2_660d_11ea_97ce_0242ac1c0002row1_col2\" class=\"data row1 col2\" >USA</td>\n",
              "                        <td id=\"T_9b3b4cd2_660d_11ea_97ce_0242ac1c0002row1_col3\" class=\"data row1 col3\" >0</td>\n",
              "                        <td id=\"T_9b3b4cd2_660d_11ea_97ce_0242ac1c0002row1_col4\" class=\"data row1 col4\" >0</td>\n",
              "                        <td id=\"T_9b3b4cd2_660d_11ea_97ce_0242ac1c0002row1_col5\" class=\"data row1 col5\" >0</td>\n",
              "            </tr>\n",
              "            <tr>\n",
              "                        <th id=\"T_9b3b4cd2_660d_11ea_97ce_0242ac1c0002level0_row2\" class=\"row_heading level0 row2\" >4932</th>\n",
              "                        <td id=\"T_9b3b4cd2_660d_11ea_97ce_0242ac1c0002row2_col0\" class=\"data row2 col0\" >2020-03-11 00:00:00</td>\n",
              "                        <td id=\"T_9b3b4cd2_660d_11ea_97ce_0242ac1c0002row2_col1\" class=\"data row2 col1\" >West Virginia</td>\n",
              "                        <td id=\"T_9b3b4cd2_660d_11ea_97ce_0242ac1c0002row2_col2\" class=\"data row2 col2\" >USA</td>\n",
              "                        <td id=\"T_9b3b4cd2_660d_11ea_97ce_0242ac1c0002row2_col3\" class=\"data row2 col3\" >0</td>\n",
              "                        <td id=\"T_9b3b4cd2_660d_11ea_97ce_0242ac1c0002row2_col4\" class=\"data row2 col4\" >0</td>\n",
              "                        <td id=\"T_9b3b4cd2_660d_11ea_97ce_0242ac1c0002row2_col5\" class=\"data row2 col5\" >0</td>\n",
              "            </tr>\n",
              "            <tr>\n",
              "                        <th id=\"T_9b3b4cd2_660d_11ea_97ce_0242ac1c0002level0_row3\" class=\"row_heading level0 row3\" >4933</th>\n",
              "                        <td id=\"T_9b3b4cd2_660d_11ea_97ce_0242ac1c0002row3_col0\" class=\"data row3 col0\" >2020-03-11 00:00:00</td>\n",
              "                        <td id=\"T_9b3b4cd2_660d_11ea_97ce_0242ac1c0002row3_col1\" class=\"data row3 col1\" >Wyoming</td>\n",
              "                        <td id=\"T_9b3b4cd2_660d_11ea_97ce_0242ac1c0002row3_col2\" class=\"data row3 col2\" >USA</td>\n",
              "                        <td id=\"T_9b3b4cd2_660d_11ea_97ce_0242ac1c0002row3_col3\" class=\"data row3 col3\" >0</td>\n",
              "                        <td id=\"T_9b3b4cd2_660d_11ea_97ce_0242ac1c0002row3_col4\" class=\"data row3 col4\" >0</td>\n",
              "                        <td id=\"T_9b3b4cd2_660d_11ea_97ce_0242ac1c0002row3_col5\" class=\"data row3 col5\" >0</td>\n",
              "            </tr>\n",
              "            <tr>\n",
              "                        <th id=\"T_9b3b4cd2_660d_11ea_97ce_0242ac1c0002level0_row4\" class=\"row_heading level0 row4\" >4934</th>\n",
              "                        <td id=\"T_9b3b4cd2_660d_11ea_97ce_0242ac1c0002row4_col0\" class=\"data row4 col0\" >2020-03-11 00:00:00</td>\n",
              "                        <td id=\"T_9b3b4cd2_660d_11ea_97ce_0242ac1c0002row4_col1\" class=\"data row4 col1\" >nan</td>\n",
              "                        <td id=\"T_9b3b4cd2_660d_11ea_97ce_0242ac1c0002row4_col2\" class=\"data row4 col2\" >occupied Palestinian territory</td>\n",
              "                        <td id=\"T_9b3b4cd2_660d_11ea_97ce_0242ac1c0002row4_col3\" class=\"data row4 col3\" >0</td>\n",
              "                        <td id=\"T_9b3b4cd2_660d_11ea_97ce_0242ac1c0002row4_col4\" class=\"data row4 col4\" >0</td>\n",
              "                        <td id=\"T_9b3b4cd2_660d_11ea_97ce_0242ac1c0002row4_col5\" class=\"data row4 col5\" >0</td>\n",
              "            </tr>\n",
              "    </tbody></table>"
            ],
            "text/plain": [
              "<pandas.io.formats.style.Styler at 0x7f89278f5fd0>"
            ]
          },
          "metadata": {
            "tags": []
          },
          "execution_count": 11
        }
      ]
    },
    {
      "cell_type": "code",
      "metadata": {
        "id": "50BCyNE2QWNX",
        "colab_type": "code",
        "outputId": "e10eef9b-cf53-464f-ed64-3abf59c4dc34",
        "colab": {
          "base_uri": "https://localhost:8080/",
          "height": 79
        }
      },
      "source": [
        "# Checking for null or missing values\n",
        "\n",
        "pd.DataFrame(dataset.isnull().sum()).T"
      ],
      "execution_count": 12,
      "outputs": [
        {
          "output_type": "execute_result",
          "data": {
            "text/html": [
              "<div>\n",
              "<style scoped>\n",
              "    .dataframe tbody tr th:only-of-type {\n",
              "        vertical-align: middle;\n",
              "    }\n",
              "\n",
              "    .dataframe tbody tr th {\n",
              "        vertical-align: top;\n",
              "    }\n",
              "\n",
              "    .dataframe thead th {\n",
              "        text-align: right;\n",
              "    }\n",
              "</style>\n",
              "<table border=\"1\" class=\"dataframe\">\n",
              "  <thead>\n",
              "    <tr style=\"text-align: right;\">\n",
              "      <th></th>\n",
              "      <th>Date</th>\n",
              "      <th>Province/State</th>\n",
              "      <th>Country</th>\n",
              "      <th>Confirmed</th>\n",
              "      <th>Deaths</th>\n",
              "      <th>Recovered</th>\n",
              "    </tr>\n",
              "  </thead>\n",
              "  <tbody>\n",
              "    <tr>\n",
              "      <th>0</th>\n",
              "      <td>0</td>\n",
              "      <td>1815</td>\n",
              "      <td>0</td>\n",
              "      <td>0</td>\n",
              "      <td>0</td>\n",
              "      <td>0</td>\n",
              "    </tr>\n",
              "  </tbody>\n",
              "</table>\n",
              "</div>"
            ],
            "text/plain": [
              "   Date  Province/State  Country  Confirmed  Deaths  Recovered\n",
              "0     0            1815        0          0       0          0"
            ]
          },
          "metadata": {
            "tags": []
          },
          "execution_count": 12
        }
      ]
    },
    {
      "cell_type": "markdown",
      "metadata": {
        "id": "jdo5UbrBXjp9",
        "colab_type": "text"
      },
      "source": [
        "The dataset has 1601 missings values in \"Province/State\" column.\n",
        "Let's replace them with 'unknow'"
      ]
    },
    {
      "cell_type": "code",
      "metadata": {
        "id": "6u7BEN25YLsI",
        "colab_type": "code",
        "colab": {}
      },
      "source": [
        "# Replacing data missings\n",
        "\n",
        "dataset = dataset.fillna('unknow')"
      ],
      "execution_count": 0,
      "outputs": []
    },
    {
      "cell_type": "code",
      "metadata": {
        "id": "3MnbIOJvYvIE",
        "colab_type": "code",
        "outputId": "642de865-1a19-4316-9caf-458c82386d0e",
        "colab": {
          "base_uri": "https://localhost:8080/",
          "height": 79
        }
      },
      "source": [
        "# Checking for null or missing values again\n",
        "\n",
        "pd.DataFrame(dataset.isnull().sum()).T"
      ],
      "execution_count": 14,
      "outputs": [
        {
          "output_type": "execute_result",
          "data": {
            "text/html": [
              "<div>\n",
              "<style scoped>\n",
              "    .dataframe tbody tr th:only-of-type {\n",
              "        vertical-align: middle;\n",
              "    }\n",
              "\n",
              "    .dataframe tbody tr th {\n",
              "        vertical-align: top;\n",
              "    }\n",
              "\n",
              "    .dataframe thead th {\n",
              "        text-align: right;\n",
              "    }\n",
              "</style>\n",
              "<table border=\"1\" class=\"dataframe\">\n",
              "  <thead>\n",
              "    <tr style=\"text-align: right;\">\n",
              "      <th></th>\n",
              "      <th>Date</th>\n",
              "      <th>Province/State</th>\n",
              "      <th>Country</th>\n",
              "      <th>Confirmed</th>\n",
              "      <th>Deaths</th>\n",
              "      <th>Recovered</th>\n",
              "    </tr>\n",
              "  </thead>\n",
              "  <tbody>\n",
              "    <tr>\n",
              "      <th>0</th>\n",
              "      <td>0</td>\n",
              "      <td>0</td>\n",
              "      <td>0</td>\n",
              "      <td>0</td>\n",
              "      <td>0</td>\n",
              "      <td>0</td>\n",
              "    </tr>\n",
              "  </tbody>\n",
              "</table>\n",
              "</div>"
            ],
            "text/plain": [
              "   Date  Province/State  Country  Confirmed  Deaths  Recovered\n",
              "0     0               0        0          0       0          0"
            ]
          },
          "metadata": {
            "tags": []
          },
          "execution_count": 14
        }
      ]
    },
    {
      "cell_type": "code",
      "metadata": {
        "id": "cc6Jt0egk22h",
        "colab_type": "code",
        "outputId": "b039b655-ea5d-47ff-8843-95326d205a4f",
        "colab": {
          "base_uri": "https://localhost:8080/",
          "height": 139
        }
      },
      "source": [
        "# Table that sums up every element Confirmed, Deaths and Recovered columns\n",
        "\n",
        "cases_temp = dataset.groupby('Date')['Confirmed', 'Deaths', 'Recovered'].sum()\n",
        "cases_temp = cases_temp.reset_index()\n",
        "cases_temp = cases_temp.sort_values('Date', ascending=False)\n",
        "cases_temp.head().style.background_gradient(cmap='PRGn')"
      ],
      "execution_count": 15,
      "outputs": [
        {
          "output_type": "execute_result",
          "data": {
            "text/html": [
              "<style  type=\"text/css\" >\n",
              "    #T_9b49e21a_660d_11ea_97ce_0242ac1c0002row0_col1 {\n",
              "            background-color:  #00441b;\n",
              "            color:  #f1f1f1;\n",
              "        }    #T_9b49e21a_660d_11ea_97ce_0242ac1c0002row0_col2 {\n",
              "            background-color:  #00441b;\n",
              "            color:  #f1f1f1;\n",
              "        }    #T_9b49e21a_660d_11ea_97ce_0242ac1c0002row0_col3 {\n",
              "            background-color:  #00441b;\n",
              "            color:  #f1f1f1;\n",
              "        }    #T_9b49e21a_660d_11ea_97ce_0242ac1c0002row1_col1 {\n",
              "            background-color:  #c7e9c1;\n",
              "            color:  #000000;\n",
              "        }    #T_9b49e21a_660d_11ea_97ce_0242ac1c0002row1_col2 {\n",
              "            background-color:  #b7e2b1;\n",
              "            color:  #000000;\n",
              "        }    #T_9b49e21a_660d_11ea_97ce_0242ac1c0002row1_col3 {\n",
              "            background-color:  #a5da9f;\n",
              "            color:  #000000;\n",
              "        }    #T_9b49e21a_660d_11ea_97ce_0242ac1c0002row2_col1 {\n",
              "            background-color:  #e3cee5;\n",
              "            color:  #000000;\n",
              "        }    #T_9b49e21a_660d_11ea_97ce_0242ac1c0002row2_col2 {\n",
              "            background-color:  #ead9ea;\n",
              "            color:  #000000;\n",
              "        }    #T_9b49e21a_660d_11ea_97ce_0242ac1c0002row2_col3 {\n",
              "            background-color:  #f4eff4;\n",
              "            color:  #000000;\n",
              "        }    #T_9b49e21a_660d_11ea_97ce_0242ac1c0002row3_col1 {\n",
              "            background-color:  #9970ab;\n",
              "            color:  #000000;\n",
              "        }    #T_9b49e21a_660d_11ea_97ce_0242ac1c0002row3_col2 {\n",
              "            background-color:  #a681b6;\n",
              "            color:  #000000;\n",
              "        }    #T_9b49e21a_660d_11ea_97ce_0242ac1c0002row3_col3 {\n",
              "            background-color:  #b695c4;\n",
              "            color:  #000000;\n",
              "        }    #T_9b49e21a_660d_11ea_97ce_0242ac1c0002row4_col1 {\n",
              "            background-color:  #40004b;\n",
              "            color:  #f1f1f1;\n",
              "        }    #T_9b49e21a_660d_11ea_97ce_0242ac1c0002row4_col2 {\n",
              "            background-color:  #40004b;\n",
              "            color:  #f1f1f1;\n",
              "        }    #T_9b49e21a_660d_11ea_97ce_0242ac1c0002row4_col3 {\n",
              "            background-color:  #40004b;\n",
              "            color:  #f1f1f1;\n",
              "        }</style><table id=\"T_9b49e21a_660d_11ea_97ce_0242ac1c0002\" ><thead>    <tr>        <th class=\"blank level0\" ></th>        <th class=\"col_heading level0 col0\" >Date</th>        <th class=\"col_heading level0 col1\" >Confirmed</th>        <th class=\"col_heading level0 col2\" >Deaths</th>        <th class=\"col_heading level0 col3\" >Recovered</th>    </tr></thead><tbody>\n",
              "                <tr>\n",
              "                        <th id=\"T_9b49e21a_660d_11ea_97ce_0242ac1c0002level0_row0\" class=\"row_heading level0 row0\" >49</th>\n",
              "                        <td id=\"T_9b49e21a_660d_11ea_97ce_0242ac1c0002row0_col0\" class=\"data row0 col0\" >2020-03-11 00:00:00</td>\n",
              "                        <td id=\"T_9b49e21a_660d_11ea_97ce_0242ac1c0002row0_col1\" class=\"data row0 col1\" >125865</td>\n",
              "                        <td id=\"T_9b49e21a_660d_11ea_97ce_0242ac1c0002row0_col2\" class=\"data row0 col2\" >4615</td>\n",
              "                        <td id=\"T_9b49e21a_660d_11ea_97ce_0242ac1c0002row0_col3\" class=\"data row0 col3\" >67003</td>\n",
              "            </tr>\n",
              "            <tr>\n",
              "                        <th id=\"T_9b49e21a_660d_11ea_97ce_0242ac1c0002level0_row1\" class=\"row_heading level0 row1\" >48</th>\n",
              "                        <td id=\"T_9b49e21a_660d_11ea_97ce_0242ac1c0002row1_col0\" class=\"data row1 col0\" >2020-03-10 00:00:00</td>\n",
              "                        <td id=\"T_9b49e21a_660d_11ea_97ce_0242ac1c0002row1_col1\" class=\"data row1 col1\" >118582</td>\n",
              "                        <td id=\"T_9b49e21a_660d_11ea_97ce_0242ac1c0002row1_col2\" class=\"data row1 col2\" >4262</td>\n",
              "                        <td id=\"T_9b49e21a_660d_11ea_97ce_0242ac1c0002row1_col3\" class=\"data row1 col3\" >64404</td>\n",
              "            </tr>\n",
              "            <tr>\n",
              "                        <th id=\"T_9b49e21a_660d_11ea_97ce_0242ac1c0002level0_row2\" class=\"row_heading level0 row2\" >47</th>\n",
              "                        <td id=\"T_9b49e21a_660d_11ea_97ce_0242ac1c0002row2_col0\" class=\"data row2 col0\" >2020-03-09 00:00:00</td>\n",
              "                        <td id=\"T_9b49e21a_660d_11ea_97ce_0242ac1c0002row2_col1\" class=\"data row2 col1\" >113582</td>\n",
              "                        <td id=\"T_9b49e21a_660d_11ea_97ce_0242ac1c0002row2_col2\" class=\"data row2 col2\" >3996</td>\n",
              "                        <td id=\"T_9b49e21a_660d_11ea_97ce_0242ac1c0002row2_col3\" class=\"data row2 col3\" >62512</td>\n",
              "            </tr>\n",
              "            <tr>\n",
              "                        <th id=\"T_9b49e21a_660d_11ea_97ce_0242ac1c0002level0_row3\" class=\"row_heading level0 row3\" >46</th>\n",
              "                        <td id=\"T_9b49e21a_660d_11ea_97ce_0242ac1c0002row3_col0\" class=\"data row3 col0\" >2020-03-08 00:00:00</td>\n",
              "                        <td id=\"T_9b49e21a_660d_11ea_97ce_0242ac1c0002row3_col1\" class=\"data row3 col1\" >109835</td>\n",
              "                        <td id=\"T_9b49e21a_660d_11ea_97ce_0242ac1c0002row3_col2\" class=\"data row3 col2\" >3803</td>\n",
              "                        <td id=\"T_9b49e21a_660d_11ea_97ce_0242ac1c0002row3_col3\" class=\"data row3 col3\" >60695</td>\n",
              "            </tr>\n",
              "            <tr>\n",
              "                        <th id=\"T_9b49e21a_660d_11ea_97ce_0242ac1c0002level0_row4\" class=\"row_heading level0 row4\" >45</th>\n",
              "                        <td id=\"T_9b49e21a_660d_11ea_97ce_0242ac1c0002row4_col0\" class=\"data row4 col0\" >2020-03-07 00:00:00</td>\n",
              "                        <td id=\"T_9b49e21a_660d_11ea_97ce_0242ac1c0002row4_col1\" class=\"data row4 col1\" >105836</td>\n",
              "                        <td id=\"T_9b49e21a_660d_11ea_97ce_0242ac1c0002row4_col2\" class=\"data row4 col2\" >3558</td>\n",
              "                        <td id=\"T_9b49e21a_660d_11ea_97ce_0242ac1c0002row4_col3\" class=\"data row4 col3\" >58359</td>\n",
              "            </tr>\n",
              "    </tbody></table>"
            ],
            "text/plain": [
              "<pandas.io.formats.style.Styler at 0x7f89278aa860>"
            ]
          },
          "metadata": {
            "tags": []
          },
          "execution_count": 15
        }
      ]
    },
    {
      "cell_type": "code",
      "metadata": {
        "id": "An6py4-5uEJV",
        "colab_type": "code",
        "colab": {
          "base_uri": "https://localhost:8080/",
          "height": 542
        },
        "outputId": "e5b4566b-2a85-4399-c457-cabbb922f17b"
      },
      "source": [
        "#all confimerd cases\n",
        "\n",
        "fig = go.Figure()\n",
        "fig.update_layout(template='plotly_dark')\n",
        "\n",
        "fig.add_trace(go.Scatter(x=cases_temp['Date'], \n",
        "                         y=cases_temp['Confirmed'], \n",
        "                         mode='lines+markers',\n",
        "                         name='Confirmed',\n",
        "                         line=dict(color='Yellow', width=2)))\n",
        "\n",
        "fig.add_trace(go.Scatter(x=cases_temp['Date'], \n",
        "                         y=cases_temp['Deaths'], \n",
        "                         mode='lines+markers',\n",
        "                         name='Deaths',\n",
        "                         line=dict(color='red', width=2)))\n",
        "\n",
        "fig.add_trace(go.Scatter(x=cases_temp['Date'], \n",
        "                         y=cases_temp['Recovered'], \n",
        "                         mode='lines+markers',\n",
        "                         name='Recovered',\n",
        "                         line=dict(color='green', width=2)))\n",
        "\n",
        "fig.show()"
      ],
      "execution_count": 16,
      "outputs": [
        {
          "output_type": "display_data",
          "data": {
            "text/html": [
              "<html>\n",
              "<head><meta charset=\"utf-8\" /></head>\n",
              "<body>\n",
              "    <div>\n",
              "            <script src=\"https://cdnjs.cloudflare.com/ajax/libs/mathjax/2.7.5/MathJax.js?config=TeX-AMS-MML_SVG\"></script><script type=\"text/javascript\">if (window.MathJax) {MathJax.Hub.Config({SVG: {font: \"STIX-Web\"}});}</script>\n",
              "                <script type=\"text/javascript\">window.PlotlyConfig = {MathJaxConfig: 'local'};</script>\n",
              "        <script src=\"https://cdn.plot.ly/plotly-latest.min.js\"></script>    \n",
              "            <div id=\"2e593258-4600-4d5e-af78-09d5336860de\" class=\"plotly-graph-div\" style=\"height:525px; width:100%;\"></div>\n",
              "            <script type=\"text/javascript\">\n",
              "                \n",
              "                    window.PLOTLYENV=window.PLOTLYENV || {};\n",
              "                    \n",
              "                if (document.getElementById(\"2e593258-4600-4d5e-af78-09d5336860de\")) {\n",
              "                    Plotly.newPlot(\n",
              "                        '2e593258-4600-4d5e-af78-09d5336860de',\n",
              "                        [{\"line\": {\"color\": \"Yellow\", \"width\": 2}, \"mode\": \"lines+markers\", \"name\": \"Confirmed\", \"type\": \"scatter\", \"x\": [\"2020-03-11T00:00:00\", \"2020-03-10T00:00:00\", \"2020-03-09T00:00:00\", \"2020-03-08T00:00:00\", \"2020-03-07T00:00:00\", \"2020-03-06T00:00:00\", \"2020-03-05T00:00:00\", \"2020-03-04T00:00:00\", \"2020-03-03T00:00:00\", \"2020-03-02T00:00:00\", \"2020-03-01T00:00:00\", \"2020-02-29T00:00:00\", \"2020-02-28T00:00:00\", \"2020-02-27T00:00:00\", \"2020-02-26T00:00:00\", \"2020-02-25T00:00:00\", \"2020-02-24T00:00:00\", \"2020-02-23T00:00:00\", \"2020-02-22T00:00:00\", \"2020-02-21T00:00:00\", \"2020-02-20T00:00:00\", \"2020-02-19T00:00:00\", \"2020-02-18T00:00:00\", \"2020-02-17T00:00:00\", \"2020-02-16T00:00:00\", \"2020-02-15T00:00:00\", \"2020-02-14T00:00:00\", \"2020-02-13T00:00:00\", \"2020-02-12T00:00:00\", \"2020-02-11T00:00:00\", \"2020-02-10T00:00:00\", \"2020-02-09T00:00:00\", \"2020-02-08T00:00:00\", \"2020-02-07T00:00:00\", \"2020-02-06T00:00:00\", \"2020-02-05T00:00:00\", \"2020-02-04T00:00:00\", \"2020-02-03T00:00:00\", \"2020-02-02T00:00:00\", \"2020-02-01T00:00:00\", \"2020-01-31T00:00:00\", \"2020-01-30T00:00:00\", \"2020-01-29T00:00:00\", \"2020-01-28T00:00:00\", \"2020-01-27T00:00:00\", \"2020-01-26T00:00:00\", \"2020-01-25T00:00:00\", \"2020-01-24T00:00:00\", \"2020-01-23T00:00:00\", \"2020-01-22T00:00:00\"], \"y\": [125865, 118582, 113582, 109835, 105836, 101800, 97886, 95124, 92844, 90309, 88371, 86013, 84124, 82756, 81397, 80415, 79570, 78985, 78599, 76843, 76199, 75641, 75138, 73260, 71226, 69032, 66887, 60370, 45222, 44803, 42763, 40151, 37121, 34392, 30818, 27636, 23892, 19881, 16787, 12038, 9925, 8235, 6165, 5578, 2927, 2118, 1438, 941, 653, 555]}, {\"line\": {\"color\": \"red\", \"width\": 2}, \"mode\": \"lines+markers\", \"name\": \"Deaths\", \"type\": \"scatter\", \"x\": [\"2020-03-11T00:00:00\", \"2020-03-10T00:00:00\", \"2020-03-09T00:00:00\", \"2020-03-08T00:00:00\", \"2020-03-07T00:00:00\", \"2020-03-06T00:00:00\", \"2020-03-05T00:00:00\", \"2020-03-04T00:00:00\", \"2020-03-03T00:00:00\", \"2020-03-02T00:00:00\", \"2020-03-01T00:00:00\", \"2020-02-29T00:00:00\", \"2020-02-28T00:00:00\", \"2020-02-27T00:00:00\", \"2020-02-26T00:00:00\", \"2020-02-25T00:00:00\", \"2020-02-24T00:00:00\", \"2020-02-23T00:00:00\", \"2020-02-22T00:00:00\", \"2020-02-21T00:00:00\", \"2020-02-20T00:00:00\", \"2020-02-19T00:00:00\", \"2020-02-18T00:00:00\", \"2020-02-17T00:00:00\", \"2020-02-16T00:00:00\", \"2020-02-15T00:00:00\", \"2020-02-14T00:00:00\", \"2020-02-13T00:00:00\", \"2020-02-12T00:00:00\", \"2020-02-11T00:00:00\", \"2020-02-10T00:00:00\", \"2020-02-09T00:00:00\", \"2020-02-08T00:00:00\", \"2020-02-07T00:00:00\", \"2020-02-06T00:00:00\", \"2020-02-05T00:00:00\", \"2020-02-04T00:00:00\", \"2020-02-03T00:00:00\", \"2020-02-02T00:00:00\", \"2020-02-01T00:00:00\", \"2020-01-31T00:00:00\", \"2020-01-30T00:00:00\", \"2020-01-29T00:00:00\", \"2020-01-28T00:00:00\", \"2020-01-27T00:00:00\", \"2020-01-26T00:00:00\", \"2020-01-25T00:00:00\", \"2020-01-24T00:00:00\", \"2020-01-23T00:00:00\", \"2020-01-22T00:00:00\"], \"y\": [4615, 4262, 3996, 3803, 3558, 3460, 3348, 3254, 3160, 3085, 2996, 2941, 2872, 2814, 2770, 2708, 2629, 2469, 2458, 2251, 2247, 2122, 2007, 1868, 1770, 1666, 1523, 1371, 1118, 1113, 1013, 906, 806, 719, 634, 564, 492, 426, 362, 259, 213, 171, 133, 131, 82, 56, 42, 26, 18, 17]}, {\"line\": {\"color\": \"green\", \"width\": 2}, \"mode\": \"lines+markers\", \"name\": \"Recovered\", \"type\": \"scatter\", \"x\": [\"2020-03-11T00:00:00\", \"2020-03-10T00:00:00\", \"2020-03-09T00:00:00\", \"2020-03-08T00:00:00\", \"2020-03-07T00:00:00\", \"2020-03-06T00:00:00\", \"2020-03-05T00:00:00\", \"2020-03-04T00:00:00\", \"2020-03-03T00:00:00\", \"2020-03-02T00:00:00\", \"2020-03-01T00:00:00\", \"2020-02-29T00:00:00\", \"2020-02-28T00:00:00\", \"2020-02-27T00:00:00\", \"2020-02-26T00:00:00\", \"2020-02-25T00:00:00\", \"2020-02-24T00:00:00\", \"2020-02-23T00:00:00\", \"2020-02-22T00:00:00\", \"2020-02-21T00:00:00\", \"2020-02-20T00:00:00\", \"2020-02-19T00:00:00\", \"2020-02-18T00:00:00\", \"2020-02-17T00:00:00\", \"2020-02-16T00:00:00\", \"2020-02-15T00:00:00\", \"2020-02-14T00:00:00\", \"2020-02-13T00:00:00\", \"2020-02-12T00:00:00\", \"2020-02-11T00:00:00\", \"2020-02-10T00:00:00\", \"2020-02-09T00:00:00\", \"2020-02-08T00:00:00\", \"2020-02-07T00:00:00\", \"2020-02-06T00:00:00\", \"2020-02-05T00:00:00\", \"2020-02-04T00:00:00\", \"2020-02-03T00:00:00\", \"2020-02-02T00:00:00\", \"2020-02-01T00:00:00\", \"2020-01-31T00:00:00\", \"2020-01-30T00:00:00\", \"2020-01-29T00:00:00\", \"2020-01-28T00:00:00\", \"2020-01-27T00:00:00\", \"2020-01-26T00:00:00\", \"2020-01-25T00:00:00\", \"2020-01-24T00:00:00\", \"2020-01-23T00:00:00\", \"2020-01-22T00:00:00\"], \"y\": [67003, 64404, 62512, 60695, 58359, 55866, 53797, 51171, 48229, 45602, 42716, 39782, 36711, 33277, 30384, 27905, 25227, 23394, 22886, 18890, 18177, 16121, 14352, 12583, 10865, 9395, 8058, 6295, 5150, 4683, 3946, 3244, 2616, 2011, 1487, 1124, 852, 623, 472, 284, 222, 143, 126, 107, 61, 52, 39, 36, 30, 28]}],\n",
              "                        {\"template\": {\"data\": {\"bar\": [{\"error_x\": {\"color\": \"#f2f5fa\"}, \"error_y\": {\"color\": \"#f2f5fa\"}, \"marker\": {\"line\": {\"color\": \"rgb(17,17,17)\", \"width\": 0.5}}, \"type\": \"bar\"}], \"barpolar\": [{\"marker\": {\"line\": {\"color\": \"rgb(17,17,17)\", \"width\": 0.5}}, \"type\": \"barpolar\"}], \"carpet\": [{\"aaxis\": {\"endlinecolor\": \"#A2B1C6\", \"gridcolor\": \"#506784\", \"linecolor\": \"#506784\", \"minorgridcolor\": \"#506784\", \"startlinecolor\": \"#A2B1C6\"}, \"baxis\": {\"endlinecolor\": \"#A2B1C6\", \"gridcolor\": \"#506784\", \"linecolor\": \"#506784\", \"minorgridcolor\": \"#506784\", \"startlinecolor\": \"#A2B1C6\"}, \"type\": \"carpet\"}], \"choropleth\": [{\"colorbar\": {\"outlinewidth\": 0, \"ticks\": \"\"}, \"type\": \"choropleth\"}], \"contour\": [{\"colorbar\": {\"outlinewidth\": 0, \"ticks\": \"\"}, \"colorscale\": [[0.0, \"#0d0887\"], [0.1111111111111111, \"#46039f\"], [0.2222222222222222, \"#7201a8\"], [0.3333333333333333, \"#9c179e\"], [0.4444444444444444, \"#bd3786\"], [0.5555555555555556, \"#d8576b\"], [0.6666666666666666, \"#ed7953\"], [0.7777777777777778, \"#fb9f3a\"], [0.8888888888888888, \"#fdca26\"], [1.0, \"#f0f921\"]], \"type\": \"contour\"}], \"contourcarpet\": [{\"colorbar\": {\"outlinewidth\": 0, \"ticks\": \"\"}, \"type\": \"contourcarpet\"}], \"heatmap\": [{\"colorbar\": {\"outlinewidth\": 0, \"ticks\": \"\"}, \"colorscale\": [[0.0, \"#0d0887\"], [0.1111111111111111, \"#46039f\"], [0.2222222222222222, \"#7201a8\"], [0.3333333333333333, \"#9c179e\"], [0.4444444444444444, \"#bd3786\"], [0.5555555555555556, \"#d8576b\"], [0.6666666666666666, \"#ed7953\"], [0.7777777777777778, \"#fb9f3a\"], [0.8888888888888888, \"#fdca26\"], [1.0, \"#f0f921\"]], \"type\": \"heatmap\"}], \"heatmapgl\": [{\"colorbar\": {\"outlinewidth\": 0, \"ticks\": \"\"}, \"colorscale\": [[0.0, \"#0d0887\"], [0.1111111111111111, \"#46039f\"], [0.2222222222222222, \"#7201a8\"], [0.3333333333333333, \"#9c179e\"], [0.4444444444444444, \"#bd3786\"], [0.5555555555555556, \"#d8576b\"], [0.6666666666666666, \"#ed7953\"], [0.7777777777777778, \"#fb9f3a\"], [0.8888888888888888, \"#fdca26\"], [1.0, \"#f0f921\"]], \"type\": \"heatmapgl\"}], \"histogram\": [{\"marker\": {\"colorbar\": {\"outlinewidth\": 0, \"ticks\": \"\"}}, \"type\": \"histogram\"}], \"histogram2d\": [{\"colorbar\": {\"outlinewidth\": 0, \"ticks\": \"\"}, \"colorscale\": [[0.0, \"#0d0887\"], [0.1111111111111111, \"#46039f\"], [0.2222222222222222, \"#7201a8\"], [0.3333333333333333, \"#9c179e\"], [0.4444444444444444, \"#bd3786\"], [0.5555555555555556, \"#d8576b\"], [0.6666666666666666, \"#ed7953\"], [0.7777777777777778, \"#fb9f3a\"], [0.8888888888888888, \"#fdca26\"], [1.0, \"#f0f921\"]], \"type\": \"histogram2d\"}], \"histogram2dcontour\": [{\"colorbar\": {\"outlinewidth\": 0, \"ticks\": \"\"}, \"colorscale\": [[0.0, \"#0d0887\"], [0.1111111111111111, \"#46039f\"], [0.2222222222222222, \"#7201a8\"], [0.3333333333333333, \"#9c179e\"], [0.4444444444444444, \"#bd3786\"], [0.5555555555555556, \"#d8576b\"], [0.6666666666666666, \"#ed7953\"], [0.7777777777777778, \"#fb9f3a\"], [0.8888888888888888, \"#fdca26\"], [1.0, \"#f0f921\"]], \"type\": \"histogram2dcontour\"}], \"mesh3d\": [{\"colorbar\": {\"outlinewidth\": 0, \"ticks\": \"\"}, \"type\": \"mesh3d\"}], \"parcoords\": [{\"line\": {\"colorbar\": {\"outlinewidth\": 0, \"ticks\": \"\"}}, \"type\": \"parcoords\"}], \"pie\": [{\"automargin\": true, \"type\": \"pie\"}], \"scatter\": [{\"marker\": {\"line\": {\"color\": \"#283442\"}}, \"type\": \"scatter\"}], \"scatter3d\": [{\"line\": {\"colorbar\": {\"outlinewidth\": 0, \"ticks\": \"\"}}, \"marker\": {\"colorbar\": {\"outlinewidth\": 0, \"ticks\": \"\"}}, \"type\": \"scatter3d\"}], \"scattercarpet\": [{\"marker\": {\"colorbar\": {\"outlinewidth\": 0, \"ticks\": \"\"}}, \"type\": \"scattercarpet\"}], \"scattergeo\": [{\"marker\": {\"colorbar\": {\"outlinewidth\": 0, \"ticks\": \"\"}}, \"type\": \"scattergeo\"}], \"scattergl\": [{\"marker\": {\"line\": {\"color\": \"#283442\"}}, \"type\": \"scattergl\"}], \"scattermapbox\": [{\"marker\": {\"colorbar\": {\"outlinewidth\": 0, \"ticks\": \"\"}}, \"type\": \"scattermapbox\"}], \"scatterpolar\": [{\"marker\": {\"colorbar\": {\"outlinewidth\": 0, \"ticks\": \"\"}}, \"type\": \"scatterpolar\"}], \"scatterpolargl\": [{\"marker\": {\"colorbar\": {\"outlinewidth\": 0, \"ticks\": \"\"}}, \"type\": \"scatterpolargl\"}], \"scatterternary\": [{\"marker\": {\"colorbar\": {\"outlinewidth\": 0, \"ticks\": \"\"}}, \"type\": \"scatterternary\"}], \"surface\": [{\"colorbar\": {\"outlinewidth\": 0, \"ticks\": \"\"}, \"colorscale\": [[0.0, \"#0d0887\"], [0.1111111111111111, \"#46039f\"], [0.2222222222222222, \"#7201a8\"], [0.3333333333333333, \"#9c179e\"], [0.4444444444444444, \"#bd3786\"], [0.5555555555555556, \"#d8576b\"], [0.6666666666666666, \"#ed7953\"], [0.7777777777777778, \"#fb9f3a\"], [0.8888888888888888, \"#fdca26\"], [1.0, \"#f0f921\"]], \"type\": \"surface\"}], \"table\": [{\"cells\": {\"fill\": {\"color\": \"#506784\"}, \"line\": {\"color\": \"rgb(17,17,17)\"}}, \"header\": {\"fill\": {\"color\": \"#2a3f5f\"}, \"line\": {\"color\": \"rgb(17,17,17)\"}}, \"type\": \"table\"}]}, \"layout\": {\"annotationdefaults\": {\"arrowcolor\": \"#f2f5fa\", \"arrowhead\": 0, \"arrowwidth\": 1}, \"coloraxis\": {\"colorbar\": {\"outlinewidth\": 0, \"ticks\": \"\"}}, \"colorscale\": {\"diverging\": [[0, \"#8e0152\"], [0.1, \"#c51b7d\"], [0.2, \"#de77ae\"], [0.3, \"#f1b6da\"], [0.4, \"#fde0ef\"], [0.5, \"#f7f7f7\"], [0.6, \"#e6f5d0\"], [0.7, \"#b8e186\"], [0.8, \"#7fbc41\"], [0.9, \"#4d9221\"], [1, \"#276419\"]], \"sequential\": [[0.0, \"#0d0887\"], [0.1111111111111111, \"#46039f\"], [0.2222222222222222, \"#7201a8\"], [0.3333333333333333, \"#9c179e\"], [0.4444444444444444, \"#bd3786\"], [0.5555555555555556, \"#d8576b\"], [0.6666666666666666, \"#ed7953\"], [0.7777777777777778, \"#fb9f3a\"], [0.8888888888888888, \"#fdca26\"], [1.0, \"#f0f921\"]], \"sequentialminus\": [[0.0, \"#0d0887\"], [0.1111111111111111, \"#46039f\"], [0.2222222222222222, \"#7201a8\"], [0.3333333333333333, \"#9c179e\"], [0.4444444444444444, \"#bd3786\"], [0.5555555555555556, \"#d8576b\"], [0.6666666666666666, \"#ed7953\"], [0.7777777777777778, \"#fb9f3a\"], [0.8888888888888888, \"#fdca26\"], [1.0, \"#f0f921\"]]}, \"colorway\": [\"#636efa\", \"#EF553B\", \"#00cc96\", \"#ab63fa\", \"#FFA15A\", \"#19d3f3\", \"#FF6692\", \"#B6E880\", \"#FF97FF\", \"#FECB52\"], \"font\": {\"color\": \"#f2f5fa\"}, \"geo\": {\"bgcolor\": \"rgb(17,17,17)\", \"lakecolor\": \"rgb(17,17,17)\", \"landcolor\": \"rgb(17,17,17)\", \"showlakes\": true, \"showland\": true, \"subunitcolor\": \"#506784\"}, \"hoverlabel\": {\"align\": \"left\"}, \"hovermode\": \"closest\", \"mapbox\": {\"style\": \"dark\"}, \"paper_bgcolor\": \"rgb(17,17,17)\", \"plot_bgcolor\": \"rgb(17,17,17)\", \"polar\": {\"angularaxis\": {\"gridcolor\": \"#506784\", \"linecolor\": \"#506784\", \"ticks\": \"\"}, \"bgcolor\": \"rgb(17,17,17)\", \"radialaxis\": {\"gridcolor\": \"#506784\", \"linecolor\": \"#506784\", \"ticks\": \"\"}}, \"scene\": {\"xaxis\": {\"backgroundcolor\": \"rgb(17,17,17)\", \"gridcolor\": \"#506784\", \"gridwidth\": 2, \"linecolor\": \"#506784\", \"showbackground\": true, \"ticks\": \"\", \"zerolinecolor\": \"#C8D4E3\"}, \"yaxis\": {\"backgroundcolor\": \"rgb(17,17,17)\", \"gridcolor\": \"#506784\", \"gridwidth\": 2, \"linecolor\": \"#506784\", \"showbackground\": true, \"ticks\": \"\", \"zerolinecolor\": \"#C8D4E3\"}, \"zaxis\": {\"backgroundcolor\": \"rgb(17,17,17)\", \"gridcolor\": \"#506784\", \"gridwidth\": 2, \"linecolor\": \"#506784\", \"showbackground\": true, \"ticks\": \"\", \"zerolinecolor\": \"#C8D4E3\"}}, \"shapedefaults\": {\"line\": {\"color\": \"#f2f5fa\"}}, \"sliderdefaults\": {\"bgcolor\": \"#C8D4E3\", \"bordercolor\": \"rgb(17,17,17)\", \"borderwidth\": 1, \"tickwidth\": 0}, \"ternary\": {\"aaxis\": {\"gridcolor\": \"#506784\", \"linecolor\": \"#506784\", \"ticks\": \"\"}, \"baxis\": {\"gridcolor\": \"#506784\", \"linecolor\": \"#506784\", \"ticks\": \"\"}, \"bgcolor\": \"rgb(17,17,17)\", \"caxis\": {\"gridcolor\": \"#506784\", \"linecolor\": \"#506784\", \"ticks\": \"\"}}, \"title\": {\"x\": 0.05}, \"updatemenudefaults\": {\"bgcolor\": \"#506784\", \"borderwidth\": 0}, \"xaxis\": {\"automargin\": true, \"gridcolor\": \"#283442\", \"linecolor\": \"#506784\", \"ticks\": \"\", \"title\": {\"standoff\": 15}, \"zerolinecolor\": \"#283442\", \"zerolinewidth\": 2}, \"yaxis\": {\"automargin\": true, \"gridcolor\": \"#283442\", \"linecolor\": \"#506784\", \"ticks\": \"\", \"title\": {\"standoff\": 15}, \"zerolinecolor\": \"#283442\", \"zerolinewidth\": 2}}}},\n",
              "                        {\"responsive\": true}\n",
              "                    ).then(function(){\n",
              "                            \n",
              "var gd = document.getElementById('2e593258-4600-4d5e-af78-09d5336860de');\n",
              "var x = new MutationObserver(function (mutations, observer) {{\n",
              "        var display = window.getComputedStyle(gd).display;\n",
              "        if (!display || display === 'none') {{\n",
              "            console.log([gd, 'removed!']);\n",
              "            Plotly.purge(gd);\n",
              "            observer.disconnect();\n",
              "        }}\n",
              "}});\n",
              "\n",
              "// Listen for the removal of the full notebook cells\n",
              "var notebookContainer = gd.closest('#notebook-container');\n",
              "if (notebookContainer) {{\n",
              "    x.observe(notebookContainer, {childList: true});\n",
              "}}\n",
              "\n",
              "// Listen for the clearing of the current output cell\n",
              "var outputEl = gd.closest('.output');\n",
              "if (outputEl) {{\n",
              "    x.observe(outputEl, {childList: true});\n",
              "}}\n",
              "\n",
              "                        })\n",
              "                };\n",
              "                \n",
              "            </script>\n",
              "        </div>\n",
              "</body>\n",
              "</html>"
            ]
          },
          "metadata": {
            "tags": []
          }
        }
      ]
    },
    {
      "cell_type": "markdown",
      "metadata": {
        "id": "XEXJ_oCgrQwQ",
        "colab_type": "text"
      },
      "source": [
        "report in progress for the next few days..."
      ]
    }
  ]
}