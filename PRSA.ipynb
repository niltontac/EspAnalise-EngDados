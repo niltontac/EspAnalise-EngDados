{
  "nbformat": 4,
  "nbformat_minor": 0,
  "metadata": {
    "colab": {
      "name": "Copy of Avaliação 11.01.ipynb",
      "provenance": [],
      "collapsed_sections": [],
      "include_colab_link": true
    },
    "kernelspec": {
      "name": "python3",
      "display_name": "Python 3"
    }
  },
  "cells": [
    {
      "cell_type": "markdown",
      "metadata": {
        "id": "view-in-github",
        "colab_type": "text"
      },
      "source": [
        "<a href=\"https://colab.research.google.com/github/niltontac/EspAnalise-EngDados/blob/master/PRSA.ipynb\" target=\"_parent\"><img src=\"https://colab.research.google.com/assets/colab-badge.svg\" alt=\"Open In Colab\"/></a>"
      ]
    },
    {
      "cell_type": "markdown",
      "metadata": {
        "id": "-18pH7sal50L",
        "colab_type": "text"
      },
      "source": [
        "LINK PARA O ARQUIVO (GITHUB)\n",
        "\n",
        "https://github.com/MatheusBLQueiroz/Esp\n",
        "\n",
        "\n",
        "https://raw.githubusercontent.com/MatheusBLQueiroz/Esp/master/PRSA.csv"
      ]
    },
    {
      "cell_type": "code",
      "metadata": {
        "id": "cSOAEdT3VMfo",
        "colab_type": "code",
        "colab": {}
      },
      "source": [
        "import numpy as np\n",
        "import pandas as pd\n",
        "from pandas import DataFrame\n",
        "from math import log"
      ],
      "execution_count": 0,
      "outputs": []
    },
    {
      "cell_type": "code",
      "metadata": {
        "id": "hMKnjcHGhTKk",
        "colab_type": "code",
        "colab": {}
      },
      "source": [
        "\n",
        "\n",
        "#importa arquivo com dados do laboratório e o do armazém. O arquivo se chama COLETIVA e é extraído do sistema de logística da empresa, o SAP.\n",
        "weather_raw=pd.read_csv(r'https://raw.githubusercontent.com/MatheusBLQueiroz/Esp/master/PRSA.csv',encoding = \"ISO-8859-1\", sep=\";\", decimal=\",\", thousands=\".\")\n"
      ],
      "execution_count": 0,
      "outputs": []
    },
    {
      "cell_type": "code",
      "metadata": {
        "id": "s61Qo8J_U5Ts",
        "colab_type": "code",
        "outputId": "077f7b86-019e-4220-ea4a-f7fc322d84b9",
        "colab": {
          "base_uri": "https://localhost:8080/",
          "height": 241
        }
      },
      "source": [
        "\n",
        "#display mostra .head() a qualquer momento no código. Aqui vemos a \"cara\" da planilha importada\n",
        "display(weather_raw.head())  \n",
        "\n",
        "weather_raw.dtypes\n",
        "\"\"\"\n",
        "IDENTIFICANDO AS VARIÁVEIS\n",
        "\n",
        "No           int64  #DISCRETO #ORDINAL\n",
        "year         int64  #DISCRETO #ORDINAL\n",
        "month        int64  #DISCRETO #ORDINAL\n",
        "day          int64  #DISCRETO #ORDINAL\n",
        "hour         int64  #DISCRETO #ORDINAL\n",
        "PM2.5      float64  #CONTINUO \n",
        "PM10       float64  #CONTINUO \n",
        "SO2        float64  #CONTINUO \n",
        "NO2        float64  #CONTINUO \n",
        "CO         float64  #CONTINUO \n",
        "O3         float64  #CONTINUO \n",
        "TEMP       float64  #CONTINUO \n",
        "PRES       float64  #CONTINUO \n",
        "DEWP       float64  #CONTINUO \n",
        "RAIN       float64  #CONTINUO \n",
        "wd          object  #CONTINUO \n",
        "WSPM       float64  #CONTINUO \n",
        "station     object  #NOMINAL\n",
        "\n",
        "\"\"\"\n",
        "\n",
        "\n",
        "\n",
        "\n"
      ],
      "execution_count": 3,
      "outputs": [
        {
          "output_type": "display_data",
          "data": {
            "text/html": [
              "<div>\n",
              "<style scoped>\n",
              "    .dataframe tbody tr th:only-of-type {\n",
              "        vertical-align: middle;\n",
              "    }\n",
              "\n",
              "    .dataframe tbody tr th {\n",
              "        vertical-align: top;\n",
              "    }\n",
              "\n",
              "    .dataframe thead th {\n",
              "        text-align: right;\n",
              "    }\n",
              "</style>\n",
              "<table border=\"1\" class=\"dataframe\">\n",
              "  <thead>\n",
              "    <tr style=\"text-align: right;\">\n",
              "      <th></th>\n",
              "      <th>No</th>\n",
              "      <th>year</th>\n",
              "      <th>month</th>\n",
              "      <th>day</th>\n",
              "      <th>hour</th>\n",
              "      <th>PM2.5</th>\n",
              "      <th>PM10</th>\n",
              "      <th>SO2</th>\n",
              "      <th>NO2</th>\n",
              "      <th>CO</th>\n",
              "      <th>O3</th>\n",
              "      <th>TEMP</th>\n",
              "      <th>PRES</th>\n",
              "      <th>DEWP</th>\n",
              "      <th>RAIN</th>\n",
              "      <th>wd</th>\n",
              "      <th>WSPM</th>\n",
              "      <th>station</th>\n",
              "    </tr>\n",
              "  </thead>\n",
              "  <tbody>\n",
              "    <tr>\n",
              "      <th>0</th>\n",
              "      <td>1</td>\n",
              "      <td>2013</td>\n",
              "      <td>3</td>\n",
              "      <td>1</td>\n",
              "      <td>0</td>\n",
              "      <td>3.0</td>\n",
              "      <td>6.0</td>\n",
              "      <td>13.0</td>\n",
              "      <td>7.0</td>\n",
              "      <td>300.0</td>\n",
              "      <td>85.0</td>\n",
              "      <td>-23.0</td>\n",
              "      <td>10208.0</td>\n",
              "      <td>-197.0</td>\n",
              "      <td>0.0</td>\n",
              "      <td>E</td>\n",
              "      <td>5.0</td>\n",
              "      <td>Changping</td>\n",
              "    </tr>\n",
              "    <tr>\n",
              "      <th>1</th>\n",
              "      <td>2</td>\n",
              "      <td>2013</td>\n",
              "      <td>3</td>\n",
              "      <td>1</td>\n",
              "      <td>1</td>\n",
              "      <td>3.0</td>\n",
              "      <td>3.0</td>\n",
              "      <td>6.0</td>\n",
              "      <td>6.0</td>\n",
              "      <td>300.0</td>\n",
              "      <td>85.0</td>\n",
              "      <td>-25.0</td>\n",
              "      <td>10213.0</td>\n",
              "      <td>-19.0</td>\n",
              "      <td>0.0</td>\n",
              "      <td>ENE</td>\n",
              "      <td>7.0</td>\n",
              "      <td>Changping</td>\n",
              "    </tr>\n",
              "    <tr>\n",
              "      <th>2</th>\n",
              "      <td>3</td>\n",
              "      <td>2013</td>\n",
              "      <td>3</td>\n",
              "      <td>1</td>\n",
              "      <td>2</td>\n",
              "      <td>3.0</td>\n",
              "      <td>3.0</td>\n",
              "      <td>22.0</td>\n",
              "      <td>13.0</td>\n",
              "      <td>400.0</td>\n",
              "      <td>74.0</td>\n",
              "      <td>-3.0</td>\n",
              "      <td>10213.0</td>\n",
              "      <td>-199.0</td>\n",
              "      <td>0.0</td>\n",
              "      <td>ENE</td>\n",
              "      <td>2.0</td>\n",
              "      <td>Changping</td>\n",
              "    </tr>\n",
              "    <tr>\n",
              "      <th>3</th>\n",
              "      <td>4</td>\n",
              "      <td>2013</td>\n",
              "      <td>3</td>\n",
              "      <td>1</td>\n",
              "      <td>3</td>\n",
              "      <td>3.0</td>\n",
              "      <td>6.0</td>\n",
              "      <td>12.0</td>\n",
              "      <td>8.0</td>\n",
              "      <td>300.0</td>\n",
              "      <td>81.0</td>\n",
              "      <td>-36.0</td>\n",
              "      <td>10218.0</td>\n",
              "      <td>-191.0</td>\n",
              "      <td>0.0</td>\n",
              "      <td>NNE</td>\n",
              "      <td>1.0</td>\n",
              "      <td>Changping</td>\n",
              "    </tr>\n",
              "    <tr>\n",
              "      <th>4</th>\n",
              "      <td>5</td>\n",
              "      <td>2013</td>\n",
              "      <td>3</td>\n",
              "      <td>1</td>\n",
              "      <td>4</td>\n",
              "      <td>3.0</td>\n",
              "      <td>3.0</td>\n",
              "      <td>14.0</td>\n",
              "      <td>8.0</td>\n",
              "      <td>300.0</td>\n",
              "      <td>81.0</td>\n",
              "      <td>-35.0</td>\n",
              "      <td>10223.0</td>\n",
              "      <td>-194.0</td>\n",
              "      <td>0.0</td>\n",
              "      <td>N</td>\n",
              "      <td>21.0</td>\n",
              "      <td>Changping</td>\n",
              "    </tr>\n",
              "  </tbody>\n",
              "</table>\n",
              "</div>"
            ],
            "text/plain": [
              "   No  year  month  day  hour  ...   DEWP  RAIN   wd  WSPM    station\n",
              "0   1  2013      3    1     0  ... -197.0   0.0    E   5.0  Changping\n",
              "1   2  2013      3    1     1  ...  -19.0   0.0  ENE   7.0  Changping\n",
              "2   3  2013      3    1     2  ... -199.0   0.0  ENE   2.0  Changping\n",
              "3   4  2013      3    1     3  ... -191.0   0.0  NNE   1.0  Changping\n",
              "4   5  2013      3    1     4  ... -194.0   0.0    N  21.0  Changping\n",
              "\n",
              "[5 rows x 18 columns]"
            ]
          },
          "metadata": {
            "tags": []
          }
        },
        {
          "output_type": "execute_result",
          "data": {
            "text/plain": [
              "'\\nIDENTIFICANDO AS VARIÁVEIS\\n\\nNo           int64  #DISCRETO #ORDINAL\\nyear         int64  #DISCRETO #ORDINAL\\nmonth        int64  #DISCRETO #ORDINAL\\nday          int64  #DISCRETO #ORDINAL\\nhour         int64  #DISCRETO #ORDINAL\\nPM2.5      float64  #CONTINUO \\nPM10       float64  #CONTINUO \\nSO2        float64  #CONTINUO \\nNO2        float64  #CONTINUO \\nCO         float64  #CONTINUO \\nO3         float64  #CONTINUO \\nTEMP       float64  #CONTINUO \\nPRES       float64  #CONTINUO \\nDEWP       float64  #CONTINUO \\nRAIN       float64  #CONTINUO \\nwd          object  #CONTINUO \\nWSPM       float64  #CONTINUO \\nstation     object  #NOMINAL\\n\\n'"
            ]
          },
          "metadata": {
            "tags": []
          },
          "execution_count": 3
        }
      ]
    },
    {
      "cell_type": "markdown",
      "metadata": {
        "id": "-X3yClq9tgFq",
        "colab_type": "text"
      },
      "source": [
        "EXCLUINDO COLUNAS DESNECESSÁRIAS"
      ]
    },
    {
      "cell_type": "code",
      "metadata": {
        "id": "_kL8NHMzte0-",
        "colab_type": "code",
        "outputId": "7386c9e1-1eb0-479b-fc0a-ecc1a3f551f9",
        "colab": {
          "base_uri": "https://localhost:8080/",
          "height": 419
        }
      },
      "source": [
        "weather_loc=weather_raw.loc[:,['year','month','SO2','NO2','CO','station']]\n",
        "\n",
        "weather_loc.head(100)"
      ],
      "execution_count": 4,
      "outputs": [
        {
          "output_type": "execute_result",
          "data": {
            "text/html": [
              "<div>\n",
              "<style scoped>\n",
              "    .dataframe tbody tr th:only-of-type {\n",
              "        vertical-align: middle;\n",
              "    }\n",
              "\n",
              "    .dataframe tbody tr th {\n",
              "        vertical-align: top;\n",
              "    }\n",
              "\n",
              "    .dataframe thead th {\n",
              "        text-align: right;\n",
              "    }\n",
              "</style>\n",
              "<table border=\"1\" class=\"dataframe\">\n",
              "  <thead>\n",
              "    <tr style=\"text-align: right;\">\n",
              "      <th></th>\n",
              "      <th>year</th>\n",
              "      <th>month</th>\n",
              "      <th>SO2</th>\n",
              "      <th>NO2</th>\n",
              "      <th>CO</th>\n",
              "      <th>station</th>\n",
              "    </tr>\n",
              "  </thead>\n",
              "  <tbody>\n",
              "    <tr>\n",
              "      <th>0</th>\n",
              "      <td>2013</td>\n",
              "      <td>3</td>\n",
              "      <td>13.0</td>\n",
              "      <td>7.0</td>\n",
              "      <td>300.0</td>\n",
              "      <td>Changping</td>\n",
              "    </tr>\n",
              "    <tr>\n",
              "      <th>1</th>\n",
              "      <td>2013</td>\n",
              "      <td>3</td>\n",
              "      <td>6.0</td>\n",
              "      <td>6.0</td>\n",
              "      <td>300.0</td>\n",
              "      <td>Changping</td>\n",
              "    </tr>\n",
              "    <tr>\n",
              "      <th>2</th>\n",
              "      <td>2013</td>\n",
              "      <td>3</td>\n",
              "      <td>22.0</td>\n",
              "      <td>13.0</td>\n",
              "      <td>400.0</td>\n",
              "      <td>Changping</td>\n",
              "    </tr>\n",
              "    <tr>\n",
              "      <th>3</th>\n",
              "      <td>2013</td>\n",
              "      <td>3</td>\n",
              "      <td>12.0</td>\n",
              "      <td>8.0</td>\n",
              "      <td>300.0</td>\n",
              "      <td>Changping</td>\n",
              "    </tr>\n",
              "    <tr>\n",
              "      <th>4</th>\n",
              "      <td>2013</td>\n",
              "      <td>3</td>\n",
              "      <td>14.0</td>\n",
              "      <td>8.0</td>\n",
              "      <td>300.0</td>\n",
              "      <td>Changping</td>\n",
              "    </tr>\n",
              "    <tr>\n",
              "      <th>...</th>\n",
              "      <td>...</td>\n",
              "      <td>...</td>\n",
              "      <td>...</td>\n",
              "      <td>...</td>\n",
              "      <td>...</td>\n",
              "      <td>...</td>\n",
              "    </tr>\n",
              "    <tr>\n",
              "      <th>95</th>\n",
              "      <td>2013</td>\n",
              "      <td>3</td>\n",
              "      <td>21.0</td>\n",
              "      <td>43.0</td>\n",
              "      <td>1200.0</td>\n",
              "      <td>Changping</td>\n",
              "    </tr>\n",
              "    <tr>\n",
              "      <th>96</th>\n",
              "      <td>2013</td>\n",
              "      <td>3</td>\n",
              "      <td>20.0</td>\n",
              "      <td>37.0</td>\n",
              "      <td>900.0</td>\n",
              "      <td>Changping</td>\n",
              "    </tr>\n",
              "    <tr>\n",
              "      <th>97</th>\n",
              "      <td>2013</td>\n",
              "      <td>3</td>\n",
              "      <td>38.0</td>\n",
              "      <td>66.0</td>\n",
              "      <td>1600.0</td>\n",
              "      <td>Changping</td>\n",
              "    </tr>\n",
              "    <tr>\n",
              "      <th>98</th>\n",
              "      <td>2013</td>\n",
              "      <td>3</td>\n",
              "      <td>32.0</td>\n",
              "      <td>54.0</td>\n",
              "      <td>1399.0</td>\n",
              "      <td>Changping</td>\n",
              "    </tr>\n",
              "    <tr>\n",
              "      <th>99</th>\n",
              "      <td>2013</td>\n",
              "      <td>3</td>\n",
              "      <td>20.0</td>\n",
              "      <td>36.0</td>\n",
              "      <td>1100.0</td>\n",
              "      <td>Changping</td>\n",
              "    </tr>\n",
              "  </tbody>\n",
              "</table>\n",
              "<p>100 rows × 6 columns</p>\n",
              "</div>"
            ],
            "text/plain": [
              "    year  month   SO2   NO2      CO    station\n",
              "0   2013      3  13.0   7.0   300.0  Changping\n",
              "1   2013      3   6.0   6.0   300.0  Changping\n",
              "2   2013      3  22.0  13.0   400.0  Changping\n",
              "3   2013      3  12.0   8.0   300.0  Changping\n",
              "4   2013      3  14.0   8.0   300.0  Changping\n",
              "..   ...    ...   ...   ...     ...        ...\n",
              "95  2013      3  21.0  43.0  1200.0  Changping\n",
              "96  2013      3  20.0  37.0   900.0  Changping\n",
              "97  2013      3  38.0  66.0  1600.0  Changping\n",
              "98  2013      3  32.0  54.0  1399.0  Changping\n",
              "99  2013      3  20.0  36.0  1100.0  Changping\n",
              "\n",
              "[100 rows x 6 columns]"
            ]
          },
          "metadata": {
            "tags": []
          },
          "execution_count": 4
        }
      ]
    },
    {
      "cell_type": "markdown",
      "metadata": {
        "id": "dMJgzG2Yv5Ob",
        "colab_type": "text"
      },
      "source": [
        "DEFININDO POPULAÇÃO"
      ]
    },
    {
      "cell_type": "code",
      "metadata": {
        "id": "GNgZPSlnv0EL",
        "colab_type": "code",
        "outputId": "1c3afda9-3d00-49c4-d868-1e098a6dd88f",
        "colab": {
          "base_uri": "https://localhost:8080/",
          "height": 68
        }
      },
      "source": [
        "weather_months=weather_loc[(weather_loc['month']<=3)] #escolhendo população do primeiro trimestre\n",
        "\n",
        "weather_years=weather_months[(weather_loc['year']>=2015) ] #escolhendo população de 2015, 2016 e 2017\n",
        "\n",
        "\n",
        "#população formada\n",
        "weather_pop = weather_years\n",
        "weather_pop.shape\n",
        "\n",
        "\n"
      ],
      "execution_count": 5,
      "outputs": [
        {
          "output_type": "stream",
          "text": [
            "/usr/local/lib/python3.6/dist-packages/ipykernel_launcher.py:3: UserWarning: Boolean Series key will be reindexed to match DataFrame index.\n",
            "  This is separate from the ipykernel package so we can avoid doing imports until\n"
          ],
          "name": "stderr"
        },
        {
          "output_type": "execute_result",
          "data": {
            "text/plain": [
              "(17280, 6)"
            ]
          },
          "metadata": {
            "tags": []
          },
          "execution_count": 5
        }
      ]
    },
    {
      "cell_type": "markdown",
      "metadata": {
        "id": "2NmvSSip7fKN",
        "colab_type": "text"
      },
      "source": [
        "LIMPANDO"
      ]
    },
    {
      "cell_type": "code",
      "metadata": {
        "id": "6xMlScjX7elr",
        "colab_type": "code",
        "outputId": "403c3d50-4465-4212-beb1-25263ab4ff68",
        "colab": {
          "base_uri": "https://localhost:8080/",
          "height": 877
        }
      },
      "source": [
        "\n",
        "#encontrando valores NA\n",
        "display(weather_pop.isna().sum())\n",
        "#encontrando valores NULL\n",
        "display(weather_pop.isnull().sum())\n",
        "\n",
        "weather_pop.dropna(axis=0, how = 'any', inplace=True)\n",
        "\n",
        "display(weather_pop.isna().sum())\n",
        "\n",
        "weather_pop.shape\n",
        "\n",
        "# Data FRAME COM NA TRATADO\n",
        "\n",
        "display(weather_pop.boxplot('CO'))\n",
        "\n",
        "display(weather_pop['CO'].describe())\n",
        "\n",
        "\n"
      ],
      "execution_count": 6,
      "outputs": [
        {
          "output_type": "display_data",
          "data": {
            "text/plain": [
              "year         0\n",
              "month        0\n",
              "SO2        224\n",
              "NO2        256\n",
              "CO         226\n",
              "station      0\n",
              "dtype: int64"
            ]
          },
          "metadata": {
            "tags": []
          }
        },
        {
          "output_type": "display_data",
          "data": {
            "text/plain": [
              "year         0\n",
              "month        0\n",
              "SO2        224\n",
              "NO2        256\n",
              "CO         226\n",
              "station      0\n",
              "dtype: int64"
            ]
          },
          "metadata": {
            "tags": []
          }
        },
        {
          "output_type": "stream",
          "text": [
            "/usr/local/lib/python3.6/dist-packages/ipykernel_launcher.py:5: SettingWithCopyWarning: \n",
            "A value is trying to be set on a copy of a slice from a DataFrame\n",
            "\n",
            "See the caveats in the documentation: http://pandas.pydata.org/pandas-docs/stable/user_guide/indexing.html#returning-a-view-versus-a-copy\n",
            "  \"\"\"\n"
          ],
          "name": "stderr"
        },
        {
          "output_type": "display_data",
          "data": {
            "text/plain": [
              "year       0\n",
              "month      0\n",
              "SO2        0\n",
              "NO2        0\n",
              "CO         0\n",
              "station    0\n",
              "dtype: int64"
            ]
          },
          "metadata": {
            "tags": []
          }
        },
        {
          "output_type": "display_data",
          "data": {
            "text/plain": [
              "<matplotlib.axes._subplots.AxesSubplot at 0x7f50248bdba8>"
            ]
          },
          "metadata": {
            "tags": []
          }
        },
        {
          "output_type": "display_data",
          "data": {
            "text/plain": [
              "count    16861.000000\n",
              "mean      1388.879663\n",
              "std       1310.598845\n",
              "min        100.000000\n",
              "25%        500.000000\n",
              "50%        900.000000\n",
              "75%       1900.000000\n",
              "max      10000.000000\n",
              "Name: CO, dtype: float64"
            ]
          },
          "metadata": {
            "tags": []
          }
        },
        {
          "output_type": "display_data",
          "data": {
            "image/png": "[encoded data removed]",
            "text/plain": [
              "<Figure size 432x288 with 1 Axes>"
            ]
          },
          "metadata": {
            "tags": []
          }
        }
      ]
    },
    {
      "cell_type": "code",
      "metadata": {
        "id": "IeIUfb9ABZSt",
        "colab_type": "code",
        "outputId": "6a892b92-6bb7-4690-835d-c4f8f7f1476a",
        "colab": {
          "base_uri": "https://localhost:8080/",
          "height": 435
        }
      },
      "source": [
        "display(weather_pop['SO2'].describe())\n",
        "\n",
        "display(weather_pop.boxplot('SO2'))\n",
        "\n"
      ],
      "execution_count": 7,
      "outputs": [
        {
          "output_type": "display_data",
          "data": {
            "text/plain": [
              "count    16861.000000\n",
              "mean        19.148568\n",
              "std         21.600155\n",
              "min          1.000000\n",
              "25%          4.000000\n",
              "50%         12.000000\n",
              "75%         27.000000\n",
              "max        589.000000\n",
              "Name: SO2, dtype: float64"
            ]
          },
          "metadata": {
            "tags": []
          }
        },
        {
          "output_type": "display_data",
          "data": {
            "text/plain": [
              "<matplotlib.axes._subplots.AxesSubplot at 0x7f50248e7e80>"
            ]
          },
          "metadata": {
            "tags": []
          }
        },
        {
          "output_type": "display_data",
          "data": {
            "image/png": "[encoded data removed]",
            "text/plain": [
              "<Figure size 432x288 with 1 Axes>"
            ]
          },
          "metadata": {
            "tags": []
          }
        }
      ]
    },
    {
      "cell_type": "code",
      "metadata": {
        "id": "OF0Gmvu7CJDa",
        "colab_type": "code",
        "outputId": "08eca9df-0b1e-4f39-8223-41581ad4bc66",
        "colab": {
          "base_uri": "https://localhost:8080/",
          "height": 435
        }
      },
      "source": [
        "display(weather_pop['NO2'].describe())\n",
        "\n",
        "display(weather_pop.boxplot('NO2'))\n"
      ],
      "execution_count": 8,
      "outputs": [
        {
          "output_type": "display_data",
          "data": {
            "text/plain": [
              "count    16861.000000\n",
              "mean        47.352470\n",
              "std         36.415086\n",
              "min          2.000000\n",
              "25%         18.000000\n",
              "50%         40.000000\n",
              "75%         70.000000\n",
              "max        897.000000\n",
              "Name: NO2, dtype: float64"
            ]
          },
          "metadata": {
            "tags": []
          }
        },
        {
          "output_type": "display_data",
          "data": {
            "text/plain": [
              "<matplotlib.axes._subplots.AxesSubplot at 0x7f5023ec9c18>"
            ]
          },
          "metadata": {
            "tags": []
          }
        },
        {
          "output_type": "display_data",
          "data": {
            "image/png": "[encoded data removed]",
            "text/plain": [
              "<Figure size 432x288 with 1 Axes>"
            ]
          },
          "metadata": {
            "tags": []
          }
        }
      ]
    },
    {
      "cell_type": "code",
      "metadata": {
        "id": "A0PhbvAcCTnW",
        "colab_type": "code",
        "outputId": "ec061996-9160-4122-df82-9edb5630559b",
        "colab": {
          "base_uri": "https://localhost:8080/",
          "height": 333
        }
      },
      "source": [
        "\n",
        "#TRANTANDO OUTLIERS\n",
        "\n",
        "#custo_coletiva_d969=custo_coletiva_d969.drop(['CustoRecente_log'], axis=1)\n",
        "\n",
        "weather_outlier_solved1=weather_pop[weather_pop['SO2']<=300]\n",
        "\n",
        "weather_outlier_solved2=weather_outlier_solved1[weather_pop['NO2']<=400]\n",
        "\n",
        "#mostrando que os outliers de SO2 foram removidos\n",
        "display(weather_outlier_solved2.boxplot('SO2'))\n",
        "\n",
        "#mostrando que os outliers de NO2 foram removidos\n",
        "display(weather_outlier_solved2.boxplot('NO2'))\n",
        "\n",
        "\n",
        "\n",
        "\n",
        "\n",
        "\n",
        "\n"
      ],
      "execution_count": 9,
      "outputs": [
        {
          "output_type": "stream",
          "text": [
            "/usr/local/lib/python3.6/dist-packages/ipykernel_launcher.py:4: UserWarning: Boolean Series key will be reindexed to match DataFrame index.\n",
            "  after removing the cwd from sys.path.\n"
          ],
          "name": "stderr"
        },
        {
          "output_type": "display_data",
          "data": {
            "text/plain": [
              "<matplotlib.axes._subplots.AxesSubplot at 0x7f5023e47860>"
            ]
          },
          "metadata": {
            "tags": []
          }
        },
        {
          "output_type": "display_data",
          "data": {
            "text/plain": [
              "<matplotlib.axes._subplots.AxesSubplot at 0x7f5023e47860>"
            ]
          },
          "metadata": {
            "tags": []
          }
        },
        {
          "output_type": "display_data",
          "data": {
            "image/png": "[encoded data removed]",
            "text/plain": [
              "<Figure size 432x288 with 1 Axes>"
            ]
          },
          "metadata": {
            "tags": []
          }
        }
      ]
    },
    {
      "cell_type": "code",
      "metadata": {
        "id": "X07IwCx4JJz9",
        "colab_type": "code",
        "outputId": "c027b139-65a8-493e-d160-781f3caa82e7",
        "colab": {
          "base_uri": "https://localhost:8080/",
          "height": 323
        }
      },
      "source": [
        "\n",
        "#selecionando valores maximos\n",
        "\n",
        "#aproveitando que describe() fornece o valor máximo para cada coluna, segue:\n",
        "max_SO2=weather_outlier_solved2['SO2'].describe()[7]\n",
        "\n",
        "max_CO=weather_outlier_solved2['CO'].describe()[7]\n",
        "\n",
        "max_NO2=weather_outlier_solved2['NO2'].describe()[7]\n",
        "\n",
        "#normalizando\n",
        "weather_outlier_solved2['SO2']=weather_outlier_solved2['SO2']/max_SO2\n",
        "\n",
        "weather_outlier_solved2['CO']=weather_outlier_solved2['CO']/max_CO\n",
        "\n",
        "weather_outlier_solved2['NO2']=weather_outlier_solved2['NO2']/max_NO2\n"
      ],
      "execution_count": 10,
      "outputs": [
        {
          "output_type": "stream",
          "text": [
            "/usr/local/lib/python3.6/dist-packages/ipykernel_launcher.py:8: SettingWithCopyWarning: \n",
            "A value is trying to be set on a copy of a slice from a DataFrame.\n",
            "Try using .loc[row_indexer,col_indexer] = value instead\n",
            "\n",
            "See the caveats in the documentation: http://pandas.pydata.org/pandas-docs/stable/user_guide/indexing.html#returning-a-view-versus-a-copy\n",
            "  \n",
            "/usr/local/lib/python3.6/dist-packages/ipykernel_launcher.py:10: SettingWithCopyWarning: \n",
            "A value is trying to be set on a copy of a slice from a DataFrame.\n",
            "Try using .loc[row_indexer,col_indexer] = value instead\n",
            "\n",
            "See the caveats in the documentation: http://pandas.pydata.org/pandas-docs/stable/user_guide/indexing.html#returning-a-view-versus-a-copy\n",
            "  # Remove the CWD from sys.path while we load stuff.\n",
            "/usr/local/lib/python3.6/dist-packages/ipykernel_launcher.py:12: SettingWithCopyWarning: \n",
            "A value is trying to be set on a copy of a slice from a DataFrame.\n",
            "Try using .loc[row_indexer,col_indexer] = value instead\n",
            "\n",
            "See the caveats in the documentation: http://pandas.pydata.org/pandas-docs/stable/user_guide/indexing.html#returning-a-view-versus-a-copy\n",
            "  if sys.path[0] == '':\n"
          ],
          "name": "stderr"
        }
      ]
    },
    {
      "cell_type": "code",
      "metadata": {
        "id": "5FkuPxIVJJun",
        "colab_type": "code",
        "outputId": "282696a1-e229-4b35-b047-06b91157bc68",
        "colab": {
          "base_uri": "https://localhost:8080/",
          "height": 1000
        }
      },
      "source": [
        "#APRESENTANDO DFs\n",
        "\n",
        "#população\n",
        "weather_population=weather_outlier_solved2\n",
        "\n",
        "#ESTATISTICA POPULAÇÃO\n",
        "\n",
        "display('POPULAÇÃO', weather_population.describe())\n",
        "\n",
        "\n",
        "#ESTATISTICA PRIMEIRO GRUPO\n",
        "weather_sample_1=weather_population.sample(frac=0.1)\n",
        "display(weather_sample_1)\n",
        "\n",
        "display('AMOSTRA 1',weather_sample_1.describe())\n",
        "\n",
        "\n",
        "#ESTATISTICA SEGUNDO GRUPO\n",
        "\n",
        "weather_sample_2= weather_population.sample(frac=0.1)\n",
        "display(weather_sample_2)\n",
        "\n",
        "display('AMOSTRA 2',weather_sample_2.describe())"
      ],
      "execution_count": 11,
      "outputs": [
        {
          "output_type": "display_data",
          "data": {
            "text/plain": [
              "'POPULAÇÃO'"
            ]
          },
          "metadata": {
            "tags": []
          }
        },
        {
          "output_type": "display_data",
          "data": {
            "text/html": [
              "<div>\n",
              "<style scoped>\n",
              "    .dataframe tbody tr th:only-of-type {\n",
              "        vertical-align: middle;\n",
              "    }\n",
              "\n",
              "    .dataframe tbody tr th {\n",
              "        vertical-align: top;\n",
              "    }\n",
              "\n",
              "    .dataframe thead th {\n",
              "        text-align: right;\n",
              "    }\n",
              "</style>\n",
              "<table border=\"1\" class=\"dataframe\">\n",
              "  <thead>\n",
              "    <tr style=\"text-align: right;\">\n",
              "      <th></th>\n",
              "      <th>year</th>\n",
              "      <th>month</th>\n",
              "      <th>SO2</th>\n",
              "      <th>NO2</th>\n",
              "      <th>CO</th>\n",
              "    </tr>\n",
              "  </thead>\n",
              "  <tbody>\n",
              "    <tr>\n",
              "      <th>count</th>\n",
              "      <td>16851.000000</td>\n",
              "      <td>16851.000000</td>\n",
              "      <td>16851.000000</td>\n",
              "      <td>16851.000000</td>\n",
              "      <td>16851.000000</td>\n",
              "    </tr>\n",
              "    <tr>\n",
              "      <th>mean</th>\n",
              "      <td>2015.871818</td>\n",
              "      <td>1.862797</td>\n",
              "      <td>0.073860</td>\n",
              "      <td>0.135986</td>\n",
              "      <td>0.138835</td>\n",
              "    </tr>\n",
              "    <tr>\n",
              "      <th>std</th>\n",
              "      <td>0.777469</td>\n",
              "      <td>0.790627</td>\n",
              "      <td>0.077474</td>\n",
              "      <td>0.100153</td>\n",
              "      <td>0.131004</td>\n",
              "    </tr>\n",
              "    <tr>\n",
              "      <th>min</th>\n",
              "      <td>2015.000000</td>\n",
              "      <td>1.000000</td>\n",
              "      <td>0.003891</td>\n",
              "      <td>0.005764</td>\n",
              "      <td>0.010000</td>\n",
              "    </tr>\n",
              "    <tr>\n",
              "      <th>25%</th>\n",
              "      <td>2015.000000</td>\n",
              "      <td>1.000000</td>\n",
              "      <td>0.015564</td>\n",
              "      <td>0.051873</td>\n",
              "      <td>0.050000</td>\n",
              "    </tr>\n",
              "    <tr>\n",
              "      <th>50%</th>\n",
              "      <td>2016.000000</td>\n",
              "      <td>2.000000</td>\n",
              "      <td>0.046693</td>\n",
              "      <td>0.115274</td>\n",
              "      <td>0.090000</td>\n",
              "    </tr>\n",
              "    <tr>\n",
              "      <th>75%</th>\n",
              "      <td>2016.000000</td>\n",
              "      <td>3.000000</td>\n",
              "      <td>0.105058</td>\n",
              "      <td>0.201729</td>\n",
              "      <td>0.190000</td>\n",
              "    </tr>\n",
              "    <tr>\n",
              "      <th>max</th>\n",
              "      <td>2017.000000</td>\n",
              "      <td>3.000000</td>\n",
              "      <td>1.000000</td>\n",
              "      <td>1.000000</td>\n",
              "      <td>1.000000</td>\n",
              "    </tr>\n",
              "  </tbody>\n",
              "</table>\n",
              "</div>"
            ],
            "text/plain": [
              "               year         month           SO2           NO2            CO\n",
              "count  16851.000000  16851.000000  16851.000000  16851.000000  16851.000000\n",
              "mean    2015.871818      1.862797      0.073860      0.135986      0.138835\n",
              "std        0.777469      0.790627      0.077474      0.100153      0.131004\n",
              "min     2015.000000      1.000000      0.003891      0.005764      0.010000\n",
              "25%     2015.000000      1.000000      0.015564      0.051873      0.050000\n",
              "50%     2016.000000      2.000000      0.046693      0.115274      0.090000\n",
              "75%     2016.000000      3.000000      0.105058      0.201729      0.190000\n",
              "max     2017.000000      3.000000      1.000000      1.000000      1.000000"
            ]
          },
          "metadata": {
            "tags": []
          }
        },
        {
          "output_type": "display_data",
          "data": {
            "text/html": [
              "<div>\n",
              "<style scoped>\n",
              "    .dataframe tbody tr th:only-of-type {\n",
              "        vertical-align: middle;\n",
              "    }\n",
              "\n",
              "    .dataframe tbody tr th {\n",
              "        vertical-align: top;\n",
              "    }\n",
              "\n",
              "    .dataframe thead th {\n",
              "        text-align: right;\n",
              "    }\n",
              "</style>\n",
              "<table border=\"1\" class=\"dataframe\">\n",
              "  <thead>\n",
              "    <tr style=\"text-align: right;\">\n",
              "      <th></th>\n",
              "      <th>year</th>\n",
              "      <th>month</th>\n",
              "      <th>SO2</th>\n",
              "      <th>NO2</th>\n",
              "      <th>CO</th>\n",
              "      <th>station</th>\n",
              "    </tr>\n",
              "  </thead>\n",
              "  <tbody>\n",
              "    <tr>\n",
              "      <th>17060</th>\n",
              "      <td>2015</td>\n",
              "      <td>2</td>\n",
              "      <td>0.260700</td>\n",
              "      <td>0.331412</td>\n",
              "      <td>0.25</td>\n",
              "      <td>Changping</td>\n",
              "    </tr>\n",
              "    <tr>\n",
              "      <th>34867</th>\n",
              "      <td>2017</td>\n",
              "      <td>2</td>\n",
              "      <td>0.038911</td>\n",
              "      <td>0.149856</td>\n",
              "      <td>0.07</td>\n",
              "      <td>Changping</td>\n",
              "    </tr>\n",
              "    <tr>\n",
              "      <th>105144</th>\n",
              "      <td>2017</td>\n",
              "      <td>2</td>\n",
              "      <td>0.023346</td>\n",
              "      <td>0.086455</td>\n",
              "      <td>0.11</td>\n",
              "      <td>Huairou</td>\n",
              "    </tr>\n",
              "    <tr>\n",
              "      <th>52780</th>\n",
              "      <td>2015</td>\n",
              "      <td>3</td>\n",
              "      <td>0.007782</td>\n",
              "      <td>0.025937</td>\n",
              "      <td>0.02</td>\n",
              "      <td>Gucheng</td>\n",
              "    </tr>\n",
              "    <tr>\n",
              "      <th>25643</th>\n",
              "      <td>2016</td>\n",
              "      <td>2</td>\n",
              "      <td>0.035019</td>\n",
              "      <td>0.141210</td>\n",
              "      <td>0.05</td>\n",
              "      <td>Changping</td>\n",
              "    </tr>\n",
              "    <tr>\n",
              "      <th>...</th>\n",
              "      <td>...</td>\n",
              "      <td>...</td>\n",
              "      <td>...</td>\n",
              "      <td>...</td>\n",
              "      <td>...</td>\n",
              "      <td>...</td>\n",
              "    </tr>\n",
              "    <tr>\n",
              "      <th>96295</th>\n",
              "      <td>2016</td>\n",
              "      <td>2</td>\n",
              "      <td>0.019455</td>\n",
              "      <td>0.100865</td>\n",
              "      <td>0.08</td>\n",
              "      <td>Huairou</td>\n",
              "    </tr>\n",
              "    <tr>\n",
              "      <th>53129</th>\n",
              "      <td>2015</td>\n",
              "      <td>3</td>\n",
              "      <td>0.007782</td>\n",
              "      <td>0.028818</td>\n",
              "      <td>0.04</td>\n",
              "      <td>Gucheng</td>\n",
              "    </tr>\n",
              "    <tr>\n",
              "      <th>33994</th>\n",
              "      <td>2017</td>\n",
              "      <td>1</td>\n",
              "      <td>0.062257</td>\n",
              "      <td>0.198847</td>\n",
              "      <td>0.13</td>\n",
              "      <td>Changping</td>\n",
              "    </tr>\n",
              "    <tr>\n",
              "      <th>69873</th>\n",
              "      <td>2017</td>\n",
              "      <td>2</td>\n",
              "      <td>0.124514</td>\n",
              "      <td>0.242075</td>\n",
              "      <td>0.10</td>\n",
              "      <td>Gucheng</td>\n",
              "    </tr>\n",
              "    <tr>\n",
              "      <th>51749</th>\n",
              "      <td>2015</td>\n",
              "      <td>1</td>\n",
              "      <td>0.046693</td>\n",
              "      <td>0.129683</td>\n",
              "      <td>0.12</td>\n",
              "      <td>Gucheng</td>\n",
              "    </tr>\n",
              "  </tbody>\n",
              "</table>\n",
              "<p>1685 rows × 6 columns</p>\n",
              "</div>"
            ],
            "text/plain": [
              "        year  month       SO2       NO2    CO    station\n",
              "17060   2015      2  0.260700  0.331412  0.25  Changping\n",
              "34867   2017      2  0.038911  0.149856  0.07  Changping\n",
              "105144  2017      2  0.023346  0.086455  0.11    Huairou\n",
              "52780   2015      3  0.007782  0.025937  0.02    Gucheng\n",
              "25643   2016      2  0.035019  0.141210  0.05  Changping\n",
              "...      ...    ...       ...       ...   ...        ...\n",
              "96295   2016      2  0.019455  0.100865  0.08    Huairou\n",
              "53129   2015      3  0.007782  0.028818  0.04    Gucheng\n",
              "33994   2017      1  0.062257  0.198847  0.13  Changping\n",
              "69873   2017      2  0.124514  0.242075  0.10    Gucheng\n",
              "51749   2015      1  0.046693  0.129683  0.12    Gucheng\n",
              "\n",
              "[1685 rows x 6 columns]"
            ]
          },
          "metadata": {
            "tags": []
          }
        },
        {
          "output_type": "display_data",
          "data": {
            "text/plain": [
              "'AMOSTRA 1'"
            ]
          },
          "metadata": {
            "tags": []
          }
        },
        {
          "output_type": "display_data",
          "data": {
            "text/html": [
              "<div>\n",
              "<style scoped>\n",
              "    .dataframe tbody tr th:only-of-type {\n",
              "        vertical-align: middle;\n",
              "    }\n",
              "\n",
              "    .dataframe tbody tr th {\n",
              "        vertical-align: top;\n",
              "    }\n",
              "\n",
              "    .dataframe thead th {\n",
              "        text-align: right;\n",
              "    }\n",
              "</style>\n",
              "<table border=\"1\" class=\"dataframe\">\n",
              "  <thead>\n",
              "    <tr style=\"text-align: right;\">\n",
              "      <th></th>\n",
              "      <th>year</th>\n",
              "      <th>month</th>\n",
              "      <th>SO2</th>\n",
              "      <th>NO2</th>\n",
              "      <th>CO</th>\n",
              "    </tr>\n",
              "  </thead>\n",
              "  <tbody>\n",
              "    <tr>\n",
              "      <th>count</th>\n",
              "      <td>1685.000000</td>\n",
              "      <td>1685.000000</td>\n",
              "      <td>1685.000000</td>\n",
              "      <td>1685.000000</td>\n",
              "      <td>1685.00000</td>\n",
              "    </tr>\n",
              "    <tr>\n",
              "      <th>mean</th>\n",
              "      <td>2015.872404</td>\n",
              "      <td>1.852819</td>\n",
              "      <td>0.074226</td>\n",
              "      <td>0.132365</td>\n",
              "      <td>0.13305</td>\n",
              "    </tr>\n",
              "    <tr>\n",
              "      <th>std</th>\n",
              "      <td>0.773510</td>\n",
              "      <td>0.775018</td>\n",
              "      <td>0.080239</td>\n",
              "      <td>0.098161</td>\n",
              "      <td>0.12701</td>\n",
              "    </tr>\n",
              "    <tr>\n",
              "      <th>min</th>\n",
              "      <td>2015.000000</td>\n",
              "      <td>1.000000</td>\n",
              "      <td>0.003891</td>\n",
              "      <td>0.005764</td>\n",
              "      <td>0.01000</td>\n",
              "    </tr>\n",
              "    <tr>\n",
              "      <th>25%</th>\n",
              "      <td>2015.000000</td>\n",
              "      <td>1.000000</td>\n",
              "      <td>0.019455</td>\n",
              "      <td>0.048991</td>\n",
              "      <td>0.04000</td>\n",
              "    </tr>\n",
              "    <tr>\n",
              "      <th>50%</th>\n",
              "      <td>2016.000000</td>\n",
              "      <td>2.000000</td>\n",
              "      <td>0.046693</td>\n",
              "      <td>0.115274</td>\n",
              "      <td>0.09000</td>\n",
              "    </tr>\n",
              "    <tr>\n",
              "      <th>75%</th>\n",
              "      <td>2016.000000</td>\n",
              "      <td>2.000000</td>\n",
              "      <td>0.105058</td>\n",
              "      <td>0.193084</td>\n",
              "      <td>0.18000</td>\n",
              "    </tr>\n",
              "    <tr>\n",
              "      <th>max</th>\n",
              "      <td>2017.000000</td>\n",
              "      <td>3.000000</td>\n",
              "      <td>0.957198</td>\n",
              "      <td>0.634006</td>\n",
              "      <td>0.90000</td>\n",
              "    </tr>\n",
              "  </tbody>\n",
              "</table>\n",
              "</div>"
            ],
            "text/plain": [
              "              year        month          SO2          NO2          CO\n",
              "count  1685.000000  1685.000000  1685.000000  1685.000000  1685.00000\n",
              "mean   2015.872404     1.852819     0.074226     0.132365     0.13305\n",
              "std       0.773510     0.775018     0.080239     0.098161     0.12701\n",
              "min    2015.000000     1.000000     0.003891     0.005764     0.01000\n",
              "25%    2015.000000     1.000000     0.019455     0.048991     0.04000\n",
              "50%    2016.000000     2.000000     0.046693     0.115274     0.09000\n",
              "75%    2016.000000     2.000000     0.105058     0.193084     0.18000\n",
              "max    2017.000000     3.000000     0.957198     0.634006     0.90000"
            ]
          },
          "metadata": {
            "tags": []
          }
        },
        {
          "output_type": "display_data",
          "data": {
            "text/html": [
              "<div>\n",
              "<style scoped>\n",
              "    .dataframe tbody tr th:only-of-type {\n",
              "        vertical-align: middle;\n",
              "    }\n",
              "\n",
              "    .dataframe tbody tr th {\n",
              "        vertical-align: top;\n",
              "    }\n",
              "\n",
              "    .dataframe thead th {\n",
              "        text-align: right;\n",
              "    }\n",
              "</style>\n",
              "<table border=\"1\" class=\"dataframe\">\n",
              "  <thead>\n",
              "    <tr style=\"text-align: right;\">\n",
              "      <th></th>\n",
              "      <th>year</th>\n",
              "      <th>month</th>\n",
              "      <th>SO2</th>\n",
              "      <th>NO2</th>\n",
              "      <th>CO</th>\n",
              "      <th>station</th>\n",
              "    </tr>\n",
              "  </thead>\n",
              "  <tbody>\n",
              "    <tr>\n",
              "      <th>26910</th>\n",
              "      <td>2016</td>\n",
              "      <td>3</td>\n",
              "      <td>0.027237</td>\n",
              "      <td>0.089337</td>\n",
              "      <td>0.05</td>\n",
              "      <td>Changping</td>\n",
              "    </tr>\n",
              "    <tr>\n",
              "      <th>25952</th>\n",
              "      <td>2016</td>\n",
              "      <td>2</td>\n",
              "      <td>0.007782</td>\n",
              "      <td>0.095101</td>\n",
              "      <td>0.04</td>\n",
              "      <td>Changping</td>\n",
              "    </tr>\n",
              "    <tr>\n",
              "      <th>69960</th>\n",
              "      <td>2017</td>\n",
              "      <td>2</td>\n",
              "      <td>0.023346</td>\n",
              "      <td>0.121037</td>\n",
              "      <td>0.11</td>\n",
              "      <td>Gucheng</td>\n",
              "    </tr>\n",
              "    <tr>\n",
              "      <th>26920</th>\n",
              "      <td>2016</td>\n",
              "      <td>3</td>\n",
              "      <td>0.011673</td>\n",
              "      <td>0.057637</td>\n",
              "      <td>0.04</td>\n",
              "      <td>Changping</td>\n",
              "    </tr>\n",
              "    <tr>\n",
              "      <th>53083</th>\n",
              "      <td>2015</td>\n",
              "      <td>3</td>\n",
              "      <td>0.011673</td>\n",
              "      <td>0.109510</td>\n",
              "      <td>0.06</td>\n",
              "      <td>Gucheng</td>\n",
              "    </tr>\n",
              "    <tr>\n",
              "      <th>...</th>\n",
              "      <td>...</td>\n",
              "      <td>...</td>\n",
              "      <td>...</td>\n",
              "      <td>...</td>\n",
              "      <td>...</td>\n",
              "      <td>...</td>\n",
              "    </tr>\n",
              "    <tr>\n",
              "      <th>69261</th>\n",
              "      <td>2017</td>\n",
              "      <td>1</td>\n",
              "      <td>0.066148</td>\n",
              "      <td>0.256484</td>\n",
              "      <td>0.18</td>\n",
              "      <td>Gucheng</td>\n",
              "    </tr>\n",
              "    <tr>\n",
              "      <th>96748</th>\n",
              "      <td>2016</td>\n",
              "      <td>3</td>\n",
              "      <td>0.027237</td>\n",
              "      <td>0.074928</td>\n",
              "      <td>0.10</td>\n",
              "      <td>Huairou</td>\n",
              "    </tr>\n",
              "    <tr>\n",
              "      <th>25455</th>\n",
              "      <td>2016</td>\n",
              "      <td>1</td>\n",
              "      <td>0.042802</td>\n",
              "      <td>0.103746</td>\n",
              "      <td>0.02</td>\n",
              "      <td>Changping</td>\n",
              "    </tr>\n",
              "    <tr>\n",
              "      <th>96868</th>\n",
              "      <td>2016</td>\n",
              "      <td>3</td>\n",
              "      <td>0.007782</td>\n",
              "      <td>0.020173</td>\n",
              "      <td>0.02</td>\n",
              "      <td>Huairou</td>\n",
              "    </tr>\n",
              "    <tr>\n",
              "      <th>33749</th>\n",
              "      <td>2017</td>\n",
              "      <td>1</td>\n",
              "      <td>0.023346</td>\n",
              "      <td>0.365994</td>\n",
              "      <td>0.65</td>\n",
              "      <td>Changping</td>\n",
              "    </tr>\n",
              "  </tbody>\n",
              "</table>\n",
              "<p>1685 rows × 6 columns</p>\n",
              "</div>"
            ],
            "text/plain": [
              "       year  month       SO2       NO2    CO    station\n",
              "26910  2016      3  0.027237  0.089337  0.05  Changping\n",
              "25952  2016      2  0.007782  0.095101  0.04  Changping\n",
              "69960  2017      2  0.023346  0.121037  0.11    Gucheng\n",
              "26920  2016      3  0.011673  0.057637  0.04  Changping\n",
              "53083  2015      3  0.011673  0.109510  0.06    Gucheng\n",
              "...     ...    ...       ...       ...   ...        ...\n",
              "69261  2017      1  0.066148  0.256484  0.18    Gucheng\n",
              "96748  2016      3  0.027237  0.074928  0.10    Huairou\n",
              "25455  2016      1  0.042802  0.103746  0.02  Changping\n",
              "96868  2016      3  0.007782  0.020173  0.02    Huairou\n",
              "33749  2017      1  0.023346  0.365994  0.65  Changping\n",
              "\n",
              "[1685 rows x 6 columns]"
            ]
          },
          "metadata": {
            "tags": []
          }
        },
        {
          "output_type": "display_data",
          "data": {
            "text/plain": [
              "'AMOSTRA 2'"
            ]
          },
          "metadata": {
            "tags": []
          }
        },
        {
          "output_type": "display_data",
          "data": {
            "text/html": [
              "<div>\n",
              "<style scoped>\n",
              "    .dataframe tbody tr th:only-of-type {\n",
              "        vertical-align: middle;\n",
              "    }\n",
              "\n",
              "    .dataframe tbody tr th {\n",
              "        vertical-align: top;\n",
              "    }\n",
              "\n",
              "    .dataframe thead th {\n",
              "        text-align: right;\n",
              "    }\n",
              "</style>\n",
              "<table border=\"1\" class=\"dataframe\">\n",
              "  <thead>\n",
              "    <tr style=\"text-align: right;\">\n",
              "      <th></th>\n",
              "      <th>year</th>\n",
              "      <th>month</th>\n",
              "      <th>SO2</th>\n",
              "      <th>NO2</th>\n",
              "      <th>CO</th>\n",
              "    </tr>\n",
              "  </thead>\n",
              "  <tbody>\n",
              "    <tr>\n",
              "      <th>count</th>\n",
              "      <td>1685.000000</td>\n",
              "      <td>1685.000000</td>\n",
              "      <td>1685.000000</td>\n",
              "      <td>1685.000000</td>\n",
              "      <td>1685.000000</td>\n",
              "    </tr>\n",
              "    <tr>\n",
              "      <th>mean</th>\n",
              "      <td>2015.858160</td>\n",
              "      <td>1.898516</td>\n",
              "      <td>0.071803</td>\n",
              "      <td>0.135418</td>\n",
              "      <td>0.139674</td>\n",
              "    </tr>\n",
              "    <tr>\n",
              "      <th>std</th>\n",
              "      <td>0.763283</td>\n",
              "      <td>0.794745</td>\n",
              "      <td>0.074796</td>\n",
              "      <td>0.098956</td>\n",
              "      <td>0.132331</td>\n",
              "    </tr>\n",
              "    <tr>\n",
              "      <th>min</th>\n",
              "      <td>2015.000000</td>\n",
              "      <td>1.000000</td>\n",
              "      <td>0.003891</td>\n",
              "      <td>0.005764</td>\n",
              "      <td>0.010000</td>\n",
              "    </tr>\n",
              "    <tr>\n",
              "      <th>25%</th>\n",
              "      <td>2015.000000</td>\n",
              "      <td>1.000000</td>\n",
              "      <td>0.015564</td>\n",
              "      <td>0.051873</td>\n",
              "      <td>0.040000</td>\n",
              "    </tr>\n",
              "    <tr>\n",
              "      <th>50%</th>\n",
              "      <td>2016.000000</td>\n",
              "      <td>2.000000</td>\n",
              "      <td>0.046693</td>\n",
              "      <td>0.115274</td>\n",
              "      <td>0.090000</td>\n",
              "    </tr>\n",
              "    <tr>\n",
              "      <th>75%</th>\n",
              "      <td>2016.000000</td>\n",
              "      <td>3.000000</td>\n",
              "      <td>0.105058</td>\n",
              "      <td>0.198847</td>\n",
              "      <td>0.190000</td>\n",
              "    </tr>\n",
              "    <tr>\n",
              "      <th>max</th>\n",
              "      <td>2017.000000</td>\n",
              "      <td>3.000000</td>\n",
              "      <td>0.964981</td>\n",
              "      <td>0.645533</td>\n",
              "      <td>0.980000</td>\n",
              "    </tr>\n",
              "  </tbody>\n",
              "</table>\n",
              "</div>"
            ],
            "text/plain": [
              "              year        month          SO2          NO2           CO\n",
              "count  1685.000000  1685.000000  1685.000000  1685.000000  1685.000000\n",
              "mean   2015.858160     1.898516     0.071803     0.135418     0.139674\n",
              "std       0.763283     0.794745     0.074796     0.098956     0.132331\n",
              "min    2015.000000     1.000000     0.003891     0.005764     0.010000\n",
              "25%    2015.000000     1.000000     0.015564     0.051873     0.040000\n",
              "50%    2016.000000     2.000000     0.046693     0.115274     0.090000\n",
              "75%    2016.000000     3.000000     0.105058     0.198847     0.190000\n",
              "max    2017.000000     3.000000     0.964981     0.645533     0.980000"
            ]
          },
          "metadata": {
            "tags": []
          }
        }
      ]
    },
    {
      "cell_type": "code",
      "metadata": {
        "id": "MjLuA7GtRzCa",
        "colab_type": "code",
        "outputId": "1f411d94-c3c0-474a-d17b-5551da12f15f",
        "colab": {
          "base_uri": "https://localhost:8080/",
          "height": 420
        }
      },
      "source": [
        "#GRÁFICO\n",
        "\n",
        "#TRABALHANDO COM O GRUPO 1, UMA VEZ QUE FOI PROVADO SER BEM SUCEDIDO \n",
        "\n",
        "weather_outlier_solved2.groupby('year')['SO2','NO2','CO'].mean().plot.bar(figsize=(15,6))\n",
        "\n",
        "#weather_sample_1.plot(x='year',y='CO').hist()\n",
        "\n",
        "\n",
        "\n",
        "\n"
      ],
      "execution_count": 12,
      "outputs": [
        {
          "output_type": "execute_result",
          "data": {
            "text/plain": [
              "<matplotlib.axes._subplots.AxesSubplot at 0x7f50248e7710>"
            ]
          },
          "metadata": {
            "tags": []
          },
          "execution_count": 12
        },
        {
          "output_type": "display_data",
          "data": {
            "image/png": "[encoded data removed]",
            "text/plain": [
              "<Figure size 1080x432 with 1 Axes>"
            ]
          },
          "metadata": {
            "tags": []
          }
        }
      ]
    }
  ]
}