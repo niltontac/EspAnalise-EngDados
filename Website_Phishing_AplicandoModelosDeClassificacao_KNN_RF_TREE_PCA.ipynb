{
  "nbformat": 4,
  "nbformat_minor": 0,
  "metadata": {
    "colab": {
      "name": "Website Phishing - AplicandoModelosDeClassificacao_KNN_RF_TREE_PCA.ipynb",
      "provenance": [],
      "collapsed_sections": [],
      "authorship_tag": "ABX9TyPpTAZoRvhYK5u5El438GnG",
      "include_colab_link": true
    },
    "kernelspec": {
      "name": "python3",
      "display_name": "Python 3"
    }
  },
  "cells": [
    {
      "cell_type": "markdown",
      "metadata": {
        "id": "view-in-github",
        "colab_type": "text"
      },
      "source": [
        "<a href=\"https://colab.research.google.com/github/niltontac/EspAnalise-EngDados/blob/master/Website_Phishing_AplicandoModelosDeClassificacao_KNN_RF_TREE_PCA.ipynb\" target=\"_parent\"><img src=\"https://colab.research.google.com/assets/colab-badge.svg\" alt=\"Open In Colab\"/></a>"
      ]
    },
    {
      "cell_type": "markdown",
      "metadata": {
        "id": "jfAARL8d_3gC",
        "colab_type": "text"
      },
      "source": [
        "#Website Phishing Data\n",
        "#Aplicando modelos de classificação."
      ]
    },
    {
      "cell_type": "markdown",
      "metadata": {
        "id": "oB7Wv5ChT_Ns",
        "colab_type": "text"
      },
      "source": [
        "###Importando Bibliotecas"
      ]
    },
    {
      "cell_type": "code",
      "metadata": {
        "id": "pqHunxQ0UH-q",
        "colab_type": "code",
        "colab": {
          "base_uri": "https://localhost:8080/",
          "height": 71
        },
        "outputId": "545d686d-61c4-4e27-8932-2d12ae0aeff0"
      },
      "source": [
        "import pandas as pd\n",
        "import seaborn as sns\n",
        "import numpy as np\n",
        "import matplotlib.pyplot as plt\n",
        "from sklearn.neighbors import KNeighborsClassifier\n",
        "from sklearn.tree import DecisionTreeClassifier\n",
        "from sklearn.ensemble import RandomForestClassifier\n",
        "from sklearn.model_selection import train_test_split, cross_validate\n",
        "from sklearn.feature_selection import SelectFromModel\n",
        "from sklearn.decomposition import PCA"
      ],
      "execution_count": 1,
      "outputs": [
        {
          "output_type": "stream",
          "text": [
            "/usr/local/lib/python3.6/dist-packages/statsmodels/tools/_testing.py:19: FutureWarning: pandas.util.testing is deprecated. Use the functions in the public API at pandas.testing instead.\n",
            "  import pandas.util.testing as tm\n"
          ],
          "name": "stderr"
        }
      ]
    },
    {
      "cell_type": "markdown",
      "metadata": {
        "id": "m2-LStVvARB4",
        "colab_type": "text"
      },
      "source": [
        "###Carregando dataset"
      ]
    },
    {
      "cell_type": "code",
      "metadata": {
        "id": "-QtsixbeYA7D",
        "colab_type": "code",
        "colab": {
          "base_uri": "https://localhost:8080/",
          "height": 417
        },
        "outputId": "bc96d19b-6870-43af-b1cd-a3a7a0d3d27b"
      },
      "source": [
        "data = pd.read_csv('https://raw.githubusercontent.com/niltontac/EspAnalise-EngDados/master/data/PhishingData.csv')\n",
        "data"
      ],
      "execution_count": 2,
      "outputs": [
        {
          "output_type": "execute_result",
          "data": {
            "text/html": [
              "<div>\n",
              "<style scoped>\n",
              "    .dataframe tbody tr th:only-of-type {\n",
              "        vertical-align: middle;\n",
              "    }\n",
              "\n",
              "    .dataframe tbody tr th {\n",
              "        vertical-align: top;\n",
              "    }\n",
              "\n",
              "    .dataframe thead th {\n",
              "        text-align: right;\n",
              "    }\n",
              "</style>\n",
              "<table border=\"1\" class=\"dataframe\">\n",
              "  <thead>\n",
              "    <tr style=\"text-align: right;\">\n",
              "      <th></th>\n",
              "      <th>SFH</th>\n",
              "      <th>popUpWidnow</th>\n",
              "      <th>SSLfinal_State</th>\n",
              "      <th>Request_URL</th>\n",
              "      <th>URL_of_Anchor</th>\n",
              "      <th>web_traffic</th>\n",
              "      <th>URL_Length</th>\n",
              "      <th>age_of_domain</th>\n",
              "      <th>having_IP_Address</th>\n",
              "      <th>Result</th>\n",
              "    </tr>\n",
              "  </thead>\n",
              "  <tbody>\n",
              "    <tr>\n",
              "      <th>0</th>\n",
              "      <td>1</td>\n",
              "      <td>-1</td>\n",
              "      <td>1</td>\n",
              "      <td>-1</td>\n",
              "      <td>-1</td>\n",
              "      <td>1</td>\n",
              "      <td>1</td>\n",
              "      <td>1</td>\n",
              "      <td>0</td>\n",
              "      <td>0</td>\n",
              "    </tr>\n",
              "    <tr>\n",
              "      <th>1</th>\n",
              "      <td>-1</td>\n",
              "      <td>-1</td>\n",
              "      <td>-1</td>\n",
              "      <td>-1</td>\n",
              "      <td>-1</td>\n",
              "      <td>0</td>\n",
              "      <td>1</td>\n",
              "      <td>1</td>\n",
              "      <td>1</td>\n",
              "      <td>1</td>\n",
              "    </tr>\n",
              "    <tr>\n",
              "      <th>2</th>\n",
              "      <td>1</td>\n",
              "      <td>-1</td>\n",
              "      <td>0</td>\n",
              "      <td>0</td>\n",
              "      <td>-1</td>\n",
              "      <td>0</td>\n",
              "      <td>-1</td>\n",
              "      <td>1</td>\n",
              "      <td>0</td>\n",
              "      <td>1</td>\n",
              "    </tr>\n",
              "    <tr>\n",
              "      <th>3</th>\n",
              "      <td>1</td>\n",
              "      <td>0</td>\n",
              "      <td>1</td>\n",
              "      <td>-1</td>\n",
              "      <td>-1</td>\n",
              "      <td>0</td>\n",
              "      <td>1</td>\n",
              "      <td>1</td>\n",
              "      <td>0</td>\n",
              "      <td>0</td>\n",
              "    </tr>\n",
              "    <tr>\n",
              "      <th>4</th>\n",
              "      <td>-1</td>\n",
              "      <td>-1</td>\n",
              "      <td>1</td>\n",
              "      <td>-1</td>\n",
              "      <td>0</td>\n",
              "      <td>0</td>\n",
              "      <td>-1</td>\n",
              "      <td>1</td>\n",
              "      <td>0</td>\n",
              "      <td>1</td>\n",
              "    </tr>\n",
              "    <tr>\n",
              "      <th>...</th>\n",
              "      <td>...</td>\n",
              "      <td>...</td>\n",
              "      <td>...</td>\n",
              "      <td>...</td>\n",
              "      <td>...</td>\n",
              "      <td>...</td>\n",
              "      <td>...</td>\n",
              "      <td>...</td>\n",
              "      <td>...</td>\n",
              "      <td>...</td>\n",
              "    </tr>\n",
              "    <tr>\n",
              "      <th>1348</th>\n",
              "      <td>-1</td>\n",
              "      <td>-1</td>\n",
              "      <td>-1</td>\n",
              "      <td>-1</td>\n",
              "      <td>-1</td>\n",
              "      <td>-1</td>\n",
              "      <td>0</td>\n",
              "      <td>1</td>\n",
              "      <td>0</td>\n",
              "      <td>1</td>\n",
              "    </tr>\n",
              "    <tr>\n",
              "      <th>1349</th>\n",
              "      <td>-1</td>\n",
              "      <td>0</td>\n",
              "      <td>1</td>\n",
              "      <td>0</td>\n",
              "      <td>-1</td>\n",
              "      <td>0</td>\n",
              "      <td>0</td>\n",
              "      <td>1</td>\n",
              "      <td>0</td>\n",
              "      <td>-1</td>\n",
              "    </tr>\n",
              "    <tr>\n",
              "      <th>1350</th>\n",
              "      <td>-1</td>\n",
              "      <td>0</td>\n",
              "      <td>-1</td>\n",
              "      <td>-1</td>\n",
              "      <td>-1</td>\n",
              "      <td>0</td>\n",
              "      <td>-1</td>\n",
              "      <td>-1</td>\n",
              "      <td>0</td>\n",
              "      <td>1</td>\n",
              "    </tr>\n",
              "    <tr>\n",
              "      <th>1351</th>\n",
              "      <td>0</td>\n",
              "      <td>0</td>\n",
              "      <td>1</td>\n",
              "      <td>0</td>\n",
              "      <td>0</td>\n",
              "      <td>0</td>\n",
              "      <td>-1</td>\n",
              "      <td>1</td>\n",
              "      <td>0</td>\n",
              "      <td>1</td>\n",
              "    </tr>\n",
              "    <tr>\n",
              "      <th>1352</th>\n",
              "      <td>1</td>\n",
              "      <td>0</td>\n",
              "      <td>1</td>\n",
              "      <td>1</td>\n",
              "      <td>1</td>\n",
              "      <td>0</td>\n",
              "      <td>-1</td>\n",
              "      <td>-1</td>\n",
              "      <td>0</td>\n",
              "      <td>-1</td>\n",
              "    </tr>\n",
              "  </tbody>\n",
              "</table>\n",
              "<p>1353 rows × 10 columns</p>\n",
              "</div>"
            ],
            "text/plain": [
              "      SFH  popUpWidnow  ...  having_IP_Address  Result\n",
              "0       1           -1  ...                  0       0\n",
              "1      -1           -1  ...                  1       1\n",
              "2       1           -1  ...                  0       1\n",
              "3       1            0  ...                  0       0\n",
              "4      -1           -1  ...                  0       1\n",
              "...   ...          ...  ...                ...     ...\n",
              "1348   -1           -1  ...                  0       1\n",
              "1349   -1            0  ...                  0      -1\n",
              "1350   -1            0  ...                  0       1\n",
              "1351    0            0  ...                  0       1\n",
              "1352    1            0  ...                  0      -1\n",
              "\n",
              "[1353 rows x 10 columns]"
            ]
          },
          "metadata": {
            "tags": []
          },
          "execution_count": 2
        }
      ]
    },
    {
      "cell_type": "markdown",
      "metadata": {
        "id": "jC2oS1fg_Pd8",
        "colab_type": "text"
      },
      "source": [
        "###Análise exploratória dos dados"
      ]
    },
    {
      "cell_type": "code",
      "metadata": {
        "id": "PvgJfuU2HVKf",
        "colab_type": "code",
        "colab": {
          "base_uri": "https://localhost:8080/",
          "height": 34
        },
        "outputId": "6d340111-d8cd-47eb-8631-e26766a15e8c"
      },
      "source": [
        "# Dimensões do dataset (linhas x colunas)\n",
        "data.shape"
      ],
      "execution_count": 3,
      "outputs": [
        {
          "output_type": "execute_result",
          "data": {
            "text/plain": [
              "(1353, 10)"
            ]
          },
          "metadata": {
            "tags": []
          },
          "execution_count": 3
        }
      ]
    },
    {
      "cell_type": "code",
      "metadata": {
        "id": "-fHKTp2e5FWE",
        "colab_type": "code",
        "colab": {
          "base_uri": "https://localhost:8080/",
          "height": 308
        },
        "outputId": "e5cecbb6-09e0-4ec7-ba33-4d60f5e2e054"
      },
      "source": [
        "# Informações do dataset\n",
        "data.info()"
      ],
      "execution_count": 4,
      "outputs": [
        {
          "output_type": "stream",
          "text": [
            "<class 'pandas.core.frame.DataFrame'>\n",
            "RangeIndex: 1353 entries, 0 to 1352\n",
            "Data columns (total 10 columns):\n",
            " #   Column             Non-Null Count  Dtype\n",
            "---  ------             --------------  -----\n",
            " 0   SFH                1353 non-null   int64\n",
            " 1   popUpWidnow        1353 non-null   int64\n",
            " 2   SSLfinal_State     1353 non-null   int64\n",
            " 3   Request_URL        1353 non-null   int64\n",
            " 4   URL_of_Anchor      1353 non-null   int64\n",
            " 5   web_traffic        1353 non-null   int64\n",
            " 6   URL_Length         1353 non-null   int64\n",
            " 7   age_of_domain      1353 non-null   int64\n",
            " 8   having_IP_Address  1353 non-null   int64\n",
            " 9   Result             1353 non-null   int64\n",
            "dtypes: int64(10)\n",
            "memory usage: 105.8 KB\n"
          ],
          "name": "stdout"
        }
      ]
    },
    {
      "cell_type": "code",
      "metadata": {
        "id": "C2iJVn0ua5j3",
        "colab_type": "code",
        "colab": {
          "base_uri": "https://localhost:8080/",
          "height": 295
        },
        "outputId": "44aeaec9-8acd-4279-fd84-dd21af53d45c"
      },
      "source": [
        "# Descrição resumida do dataset incluíndo tendência central, dispersão e distribuição\n",
        "data.describe()"
      ],
      "execution_count": 5,
      "outputs": [
        {
          "output_type": "execute_result",
          "data": {
            "text/html": [
              "<div>\n",
              "<style scoped>\n",
              "    .dataframe tbody tr th:only-of-type {\n",
              "        vertical-align: middle;\n",
              "    }\n",
              "\n",
              "    .dataframe tbody tr th {\n",
              "        vertical-align: top;\n",
              "    }\n",
              "\n",
              "    .dataframe thead th {\n",
              "        text-align: right;\n",
              "    }\n",
              "</style>\n",
              "<table border=\"1\" class=\"dataframe\">\n",
              "  <thead>\n",
              "    <tr style=\"text-align: right;\">\n",
              "      <th></th>\n",
              "      <th>SFH</th>\n",
              "      <th>popUpWidnow</th>\n",
              "      <th>SSLfinal_State</th>\n",
              "      <th>Request_URL</th>\n",
              "      <th>URL_of_Anchor</th>\n",
              "      <th>web_traffic</th>\n",
              "      <th>URL_Length</th>\n",
              "      <th>age_of_domain</th>\n",
              "      <th>having_IP_Address</th>\n",
              "      <th>Result</th>\n",
              "    </tr>\n",
              "  </thead>\n",
              "  <tbody>\n",
              "    <tr>\n",
              "      <th>count</th>\n",
              "      <td>1353.000000</td>\n",
              "      <td>1353.000000</td>\n",
              "      <td>1353.000000</td>\n",
              "      <td>1353.000000</td>\n",
              "      <td>1353.000000</td>\n",
              "      <td>1353.000000</td>\n",
              "      <td>1353.000000</td>\n",
              "      <td>1353.000000</td>\n",
              "      <td>1353.000000</td>\n",
              "      <td>1353.000000</td>\n",
              "    </tr>\n",
              "    <tr>\n",
              "      <th>mean</th>\n",
              "      <td>0.237990</td>\n",
              "      <td>-0.258684</td>\n",
              "      <td>0.327421</td>\n",
              "      <td>-0.223208</td>\n",
              "      <td>-0.025129</td>\n",
              "      <td>0.000000</td>\n",
              "      <td>-0.053215</td>\n",
              "      <td>0.219512</td>\n",
              "      <td>0.114560</td>\n",
              "      <td>-0.113821</td>\n",
              "    </tr>\n",
              "    <tr>\n",
              "      <th>std</th>\n",
              "      <td>0.916389</td>\n",
              "      <td>0.679072</td>\n",
              "      <td>0.822193</td>\n",
              "      <td>0.799682</td>\n",
              "      <td>0.936262</td>\n",
              "      <td>0.806776</td>\n",
              "      <td>0.762552</td>\n",
              "      <td>0.975970</td>\n",
              "      <td>0.318608</td>\n",
              "      <td>0.954773</td>\n",
              "    </tr>\n",
              "    <tr>\n",
              "      <th>min</th>\n",
              "      <td>-1.000000</td>\n",
              "      <td>-1.000000</td>\n",
              "      <td>-1.000000</td>\n",
              "      <td>-1.000000</td>\n",
              "      <td>-1.000000</td>\n",
              "      <td>-1.000000</td>\n",
              "      <td>-1.000000</td>\n",
              "      <td>-1.000000</td>\n",
              "      <td>0.000000</td>\n",
              "      <td>-1.000000</td>\n",
              "    </tr>\n",
              "    <tr>\n",
              "      <th>25%</th>\n",
              "      <td>-1.000000</td>\n",
              "      <td>-1.000000</td>\n",
              "      <td>0.000000</td>\n",
              "      <td>-1.000000</td>\n",
              "      <td>-1.000000</td>\n",
              "      <td>-1.000000</td>\n",
              "      <td>-1.000000</td>\n",
              "      <td>-1.000000</td>\n",
              "      <td>0.000000</td>\n",
              "      <td>-1.000000</td>\n",
              "    </tr>\n",
              "    <tr>\n",
              "      <th>50%</th>\n",
              "      <td>1.000000</td>\n",
              "      <td>0.000000</td>\n",
              "      <td>1.000000</td>\n",
              "      <td>0.000000</td>\n",
              "      <td>0.000000</td>\n",
              "      <td>0.000000</td>\n",
              "      <td>0.000000</td>\n",
              "      <td>1.000000</td>\n",
              "      <td>0.000000</td>\n",
              "      <td>-1.000000</td>\n",
              "    </tr>\n",
              "    <tr>\n",
              "      <th>75%</th>\n",
              "      <td>1.000000</td>\n",
              "      <td>0.000000</td>\n",
              "      <td>1.000000</td>\n",
              "      <td>0.000000</td>\n",
              "      <td>1.000000</td>\n",
              "      <td>1.000000</td>\n",
              "      <td>1.000000</td>\n",
              "      <td>1.000000</td>\n",
              "      <td>0.000000</td>\n",
              "      <td>1.000000</td>\n",
              "    </tr>\n",
              "    <tr>\n",
              "      <th>max</th>\n",
              "      <td>1.000000</td>\n",
              "      <td>1.000000</td>\n",
              "      <td>1.000000</td>\n",
              "      <td>1.000000</td>\n",
              "      <td>1.000000</td>\n",
              "      <td>1.000000</td>\n",
              "      <td>1.000000</td>\n",
              "      <td>1.000000</td>\n",
              "      <td>1.000000</td>\n",
              "      <td>1.000000</td>\n",
              "    </tr>\n",
              "  </tbody>\n",
              "</table>\n",
              "</div>"
            ],
            "text/plain": [
              "               SFH  popUpWidnow  ...  having_IP_Address       Result\n",
              "count  1353.000000  1353.000000  ...        1353.000000  1353.000000\n",
              "mean      0.237990    -0.258684  ...           0.114560    -0.113821\n",
              "std       0.916389     0.679072  ...           0.318608     0.954773\n",
              "min      -1.000000    -1.000000  ...           0.000000    -1.000000\n",
              "25%      -1.000000    -1.000000  ...           0.000000    -1.000000\n",
              "50%       1.000000     0.000000  ...           0.000000    -1.000000\n",
              "75%       1.000000     0.000000  ...           0.000000     1.000000\n",
              "max       1.000000     1.000000  ...           1.000000     1.000000\n",
              "\n",
              "[8 rows x 10 columns]"
            ]
          },
          "metadata": {
            "tags": []
          },
          "execution_count": 5
        }
      ]
    },
    {
      "cell_type": "code",
      "metadata": {
        "id": "6fgBSwehXjLz",
        "colab_type": "code",
        "colab": {
          "base_uri": "https://localhost:8080/",
          "height": 394
        },
        "outputId": "8d3a2c9c-b006-499d-c4f7-ad0908590f97"
      },
      "source": [
        "# Consultando se há dados ausentes ou nulos\n",
        "print(data.isnull().sum())\n",
        "print(data.isna().sum())"
      ],
      "execution_count": 6,
      "outputs": [
        {
          "output_type": "stream",
          "text": [
            "SFH                  0\n",
            "popUpWidnow          0\n",
            "SSLfinal_State       0\n",
            "Request_URL          0\n",
            "URL_of_Anchor        0\n",
            "web_traffic          0\n",
            "URL_Length           0\n",
            "age_of_domain        0\n",
            "having_IP_Address    0\n",
            "Result               0\n",
            "dtype: int64\n",
            "SFH                  0\n",
            "popUpWidnow          0\n",
            "SSLfinal_State       0\n",
            "Request_URL          0\n",
            "URL_of_Anchor        0\n",
            "web_traffic          0\n",
            "URL_Length           0\n",
            "age_of_domain        0\n",
            "having_IP_Address    0\n",
            "Result               0\n",
            "dtype: int64\n"
          ],
          "name": "stdout"
        }
      ]
    },
    {
      "cell_type": "code",
      "metadata": {
        "id": "Lk2G824HII4y",
        "colab_type": "code",
        "colab": {
          "base_uri": "https://localhost:8080/",
          "height": 86
        },
        "outputId": "35999004-9e5e-433c-ef01-86dc4e962e61"
      },
      "source": [
        "# Consultando a distribuição dos registros de classe do atributo alvo 'Result'\n",
        "\n",
        "# Result  0  = suspicious\n",
        "# Result  1  = legitimate\n",
        "# Result -1  = phishing\n",
        "\n",
        "suspicious = len(data[data.Result==0])\n",
        "legitimate = len(data[data.Result==1])\n",
        "phishing = len(data[data.Result==-1])\n",
        "\n",
        "print(suspicious, 'registros de sites classificados como suspeitos (0)')\n",
        "print(legitimate, 'registros de sites classificados como legítimos (1)')\n",
        "print(phishing, 'registros de sites classificados como phishing (-1)')\n",
        "print('array', data.Result.unique())\n"
      ],
      "execution_count": 7,
      "outputs": [
        {
          "output_type": "stream",
          "text": [
            "103 registros de sites classificados como suspeitos (0)\n",
            "548 registros de sites classificados como legítimos (1)\n",
            "702 registros de sites classificados como phishing (-1)\n",
            "array [ 0  1 -1]\n"
          ],
          "name": "stdout"
        }
      ]
    },
    {
      "cell_type": "code",
      "metadata": {
        "id": "KZjUFcBmxm7I",
        "colab_type": "code",
        "colab": {
          "base_uri": "https://localhost:8080/",
          "height": 296
        },
        "outputId": "bfd15c84-f99c-46f2-9790-4d2bb78dd81c"
      },
      "source": [
        "# Visualizando a distribuição dos registros de classe do atributo alvo\n",
        "sns.countplot(data['Result'])"
      ],
      "execution_count": 8,
      "outputs": [
        {
          "output_type": "execute_result",
          "data": {
            "text/plain": [
              "<matplotlib.axes._subplots.AxesSubplot at 0x7f5ae3fa1240>"
            ]
          },
          "metadata": {
            "tags": []
          },
          "execution_count": 8
        },
        {
          "output_type": "display_data",
          "data": {
            "image/png": "[encoded data removed]",
            "text/plain": [
              "<Figure size 432x288 with 1 Axes>"
            ]
          },
          "metadata": {
            "tags": [],
            "needs_background": "light"
          }
        }
      ]
    },
    {
      "cell_type": "markdown",
      "metadata": {
        "id": "6E_TRWyO5iBc",
        "colab_type": "text"
      },
      "source": [
        "O gráfico acima nos mostra que há um desbalanceamento do atributo alvo (coluna 'Result'), onde há bem menos registros classificados como suspeitos."
      ]
    },
    {
      "cell_type": "code",
      "metadata": {
        "id": "gogQg-U16Ign",
        "colab_type": "code",
        "colab": {
          "base_uri": "https://localhost:8080/",
          "height": 369
        },
        "outputId": "53f25f36-8504-46bd-d688-6da4e894c40a"
      },
      "source": [
        "# Visualizando a correlação entre todos atributos e o atributo alvo('Result')\n",
        "sns.heatmap(data.corr(), annot=True, cmap='BuPu')"
      ],
      "execution_count": 9,
      "outputs": [
        {
          "output_type": "execute_result",
          "data": {
            "text/plain": [
              "<matplotlib.axes._subplots.AxesSubplot at 0x7f5ad3da0e80>"
            ]
          },
          "metadata": {
            "tags": []
          },
          "execution_count": 9
        },
        {
          "output_type": "display_data",
          "data": {
            "image/png": "[encoded data removed]",
            "text/plain": [
              "<Figure size 432x288 with 2 Axes>"
            ]
          },
          "metadata": {
            "tags": [],
            "needs_background": "light"
          }
        }
      ]
    },
    {
      "cell_type": "markdown",
      "metadata": {
        "id": "CTfGtG-k_y9Q",
        "colab_type": "text"
      },
      "source": [
        "A correlação ajuda a entender o grau de importância/influência entre o atributo alvo ('Result') com os demais atributos preditores, além da correlação entre os próprios atributos preditores. Por exemplo, existe uma forte correlação positiva entre os atributos 'SFH' e 'popUpWidnow'. Assim como existe uma forte correlação negativa entre os atributos 'age_of_domain' e 'web_traffic'."
      ]
    },
    {
      "cell_type": "markdown",
      "metadata": {
        "id": "UDLEwFrrCjJs",
        "colab_type": "text"
      },
      "source": [
        "### Selecionando 3 modelos de classificação para avaliação e comparação"
      ]
    },
    {
      "cell_type": "code",
      "metadata": {
        "id": "7RAaQauW6Vjd",
        "colab_type": "code",
        "colab": {
          "base_uri": "https://localhost:8080/",
          "height": 308
        },
        "outputId": "b5b71896-e006-4213-b611-d4fddae3ad61"
      },
      "source": [
        "# Modelos classificadores selecionados\n",
        "clf_knn = KNeighborsClassifier(p=30) # KNN definido com profundidade de 30 vizinhos mais próximos\n",
        "clf_rf = RandomForestClassifier(n_estimators=300) # RANDOM FOREST definido com estimativa de 300 amostras de treinamento\n",
        "clf_tree = DecisionTreeClassifier(criterion='entropy') # DECISION TREE definido com função de entropy para medir qualidade da divisão da árvore \n",
        "\n",
        "print(clf_knn)\n",
        "print(clf_rf)\n",
        "print(clf_tree)"
      ],
      "execution_count": 10,
      "outputs": [
        {
          "output_type": "stream",
          "text": [
            "KNeighborsClassifier(algorithm='auto', leaf_size=30, metric='minkowski',\n",
            "                     metric_params=None, n_jobs=None, n_neighbors=5, p=30,\n",
            "                     weights='uniform')\n",
            "RandomForestClassifier(bootstrap=True, ccp_alpha=0.0, class_weight=None,\n",
            "                       criterion='gini', max_depth=None, max_features='auto',\n",
            "                       max_leaf_nodes=None, max_samples=None,\n",
            "                       min_impurity_decrease=0.0, min_impurity_split=None,\n",
            "                       min_samples_leaf=1, min_samples_split=2,\n",
            "                       min_weight_fraction_leaf=0.0, n_estimators=300,\n",
            "                       n_jobs=None, oob_score=False, random_state=None,\n",
            "                       verbose=0, warm_start=False)\n",
            "DecisionTreeClassifier(ccp_alpha=0.0, class_weight=None, criterion='entropy',\n",
            "                       max_depth=None, max_features=None, max_leaf_nodes=None,\n",
            "                       min_impurity_decrease=0.0, min_impurity_split=None,\n",
            "                       min_samples_leaf=1, min_samples_split=2,\n",
            "                       min_weight_fraction_leaf=0.0, presort='deprecated',\n",
            "                       random_state=None, splitter='best')\n"
          ],
          "name": "stdout"
        }
      ]
    },
    {
      "cell_type": "markdown",
      "metadata": {
        "id": "nf5Bayomc_Uy",
        "colab_type": "text"
      },
      "source": [
        "###Dividindo o dataset em treino e teste"
      ]
    },
    {
      "cell_type": "code",
      "metadata": {
        "id": "45tioo2jiHBA",
        "colab_type": "code",
        "colab": {
          "base_uri": "https://localhost:8080/",
          "height": 206
        },
        "outputId": "bfd3e4d4-6f8a-413c-e11e-71252c37c104"
      },
      "source": [
        "# Criando matriz de X e y\n",
        "X = data.drop(['Result'], axis=1).values\n",
        "y = data['Result'].values\n",
        "\n",
        "print('--> Array de X:\\n', X, '\\n')\n",
        "\n",
        "print('--> Array de y:\\n', y)"
      ],
      "execution_count": 11,
      "outputs": [
        {
          "output_type": "stream",
          "text": [
            "--> Array de X:\n",
            " [[ 1 -1  1 ...  1  1  0]\n",
            " [-1 -1 -1 ...  1  1  1]\n",
            " [ 1 -1  0 ... -1  1  0]\n",
            " ...\n",
            " [-1  0 -1 ... -1 -1  0]\n",
            " [ 0  0  1 ... -1  1  0]\n",
            " [ 1  0  1 ... -1 -1  0]] \n",
            "\n",
            "--> Array de y:\n",
            " [ 0  1  1 ...  1  1 -1]\n"
          ],
          "name": "stdout"
        }
      ]
    },
    {
      "cell_type": "code",
      "metadata": {
        "id": "ZUDilUnye07Y",
        "colab_type": "code",
        "colab": {
          "base_uri": "https://localhost:8080/",
          "height": 51
        },
        "outputId": "2cc55482-e465-413a-c7f9-d21c71352065"
      },
      "source": [
        "# Dados de X e y para treino e teste\n",
        "X_train, X_test, y_train, y_test = train_test_split(X, y, test_size=0.3, stratify=y, random_state=42)\n",
        "\n",
        "print('Conjunto de treino com {} elementos'.format(X_train.shape[0]))\n",
        "print('Conjunto de teste com {} elementos'.format(X_test.shape[0]))"
      ],
      "execution_count": 12,
      "outputs": [
        {
          "output_type": "stream",
          "text": [
            "Conjunto de treino com 947 elementos\n",
            "Conjunto de teste com 406 elementos\n"
          ],
          "name": "stdout"
        }
      ]
    },
    {
      "cell_type": "code",
      "metadata": {
        "id": "48RlcIPFeE6j",
        "colab_type": "code",
        "colab": {
          "base_uri": "https://localhost:8080/",
          "height": 120
        },
        "outputId": "b37687e4-1983-4273-b9d0-bf77ffa07846"
      },
      "source": [
        "# Treinamento dos dados pelo modelos classificadores\n",
        "clf_knn.fit(X_train, y_train)\n",
        "clf_rf.fit(X_train, y_train)\n",
        "clf_tree.fit(X_train, y_train)"
      ],
      "execution_count": 13,
      "outputs": [
        {
          "output_type": "execute_result",
          "data": {
            "text/plain": [
              "DecisionTreeClassifier(ccp_alpha=0.0, class_weight=None, criterion='entropy',\n",
              "                       max_depth=None, max_features=None, max_leaf_nodes=None,\n",
              "                       min_impurity_decrease=0.0, min_impurity_split=None,\n",
              "                       min_samples_leaf=1, min_samples_split=2,\n",
              "                       min_weight_fraction_leaf=0.0, presort='deprecated',\n",
              "                       random_state=None, splitter='best')"
            ]
          },
          "metadata": {
            "tags": []
          },
          "execution_count": 13
        }
      ]
    },
    {
      "cell_type": "markdown",
      "metadata": {
        "id": "EVwj_pFH4wrO",
        "colab_type": "text"
      },
      "source": [
        "###Treinando os modelos de classificação"
      ]
    },
    {
      "cell_type": "code",
      "metadata": {
        "id": "DA1M_Mvw5LkR",
        "colab_type": "code",
        "colab": {
          "base_uri": "https://localhost:8080/",
          "height": 68
        },
        "outputId": "c1b2bb90-dff6-40a8-907d-fc47b0216dd5"
      },
      "source": [
        "# Criando uma lista para calcular as métricas de accuracy, precision, recall e f1_macro\n",
        "scoring_list = ['accuracy', 'precision_macro', 'recall_macro', 'f1_macro']\n",
        "\n",
        "scores_knn = cross_validate(clf_knn, X, y, cv=5, scoring=scoring_list)\n",
        "scores_rf = cross_validate(clf_rf, X, y, cv=5, scoring=scoring_list)\n",
        "scores_tree = cross_validate(clf_tree, X, y, cv=5, scoring=scoring_list)\n",
        "\n",
        "avg_scores_knn = []\n",
        "avg_scores_rf = []\n",
        "avg_scores_tree = []\n",
        "\n",
        "for score in scoring_list:\n",
        "  avg_scores_knn.append(scores_knn['test_'+score].mean())\n",
        "  avg_scores_rf.append(scores_rf['test_'+score].mean())\n",
        "  avg_scores_tree.append(scores_tree['test_'+score].mean())\n",
        "\n",
        "print('KNN - ', avg_scores_knn)\n",
        "print('RANDOM FOREST - ', avg_scores_rf)\n",
        "print('TREE - ', avg_scores_tree)"
      ],
      "execution_count": 14,
      "outputs": [
        {
          "output_type": "stream",
          "text": [
            "KNN -  [0.8721525215252152, 0.8137432672983694, 0.7781972791127583, 0.7905473494431128]\n",
            "RANDOM FOREST -  [0.8980183135164685, 0.881056545225442, 0.8550025477158018, 0.866106078976029]\n",
            "TREE -  [0.8810222768894356, 0.8635094500404887, 0.8743710747360953, 0.8676691995166124]\n"
          ],
          "name": "stdout"
        }
      ]
    },
    {
      "cell_type": "markdown",
      "metadata": {
        "id": "cJu9XLJa78kl",
        "colab_type": "text"
      },
      "source": [
        "###Comparando os modelos de classificação"
      ]
    },
    {
      "cell_type": "code",
      "metadata": {
        "id": "5DwDLrxR8Coi",
        "colab_type": "code",
        "colab": {
          "base_uri": "https://localhost:8080/",
          "height": 266
        },
        "outputId": "0cb210d0-1670-4165-e6bf-c45115287fa8"
      },
      "source": [
        "# Montando uma estrutura com os dados resultantes das médias calculadas pelo modelos classificadores para cada métrica\n",
        "df_data = pd.DataFrame({'KNN': avg_scores_knn, 'RF': avg_scores_rf, 'TREE': avg_scores_tree}, index=scoring_list)\n",
        "\n",
        "ax = df_data.plot.bar(rot=0)"
      ],
      "execution_count": 15,
      "outputs": [
        {
          "output_type": "display_data",
          "data": {
            "image/png": "[encoded data removed]",
            "text/plain": [
              "<Figure size 432x288 with 1 Axes>"
            ]
          },
          "metadata": {
            "tags": [],
            "needs_background": "light"
          }
        }
      ]
    },
    {
      "cell_type": "markdown",
      "metadata": {
        "id": "Bqd-FtwzRWMs",
        "colab_type": "text"
      },
      "source": [
        "O gráfico de barras mostra a comparação entre os modelos avaliados. Existe variações entre os modelos pra cada métrica, embora na métrica de acurácia a variação é muito pequena. \n",
        "De forma geral, o modelo classificador KNN teve na maioria das métricas menor performance que os modelos de Random Forest(RF) e Decision Tree(TREE). \n",
        "Já os modelos RF e TREE tiveram desempenho bastante semelhantes."
      ]
    },
    {
      "cell_type": "markdown",
      "metadata": {
        "id": "oz2AX4nGJLM2",
        "colab_type": "text"
      },
      "source": [
        "###Consultando o nível de importância de cada atributo pelos modelos classicadores"
      ]
    },
    {
      "cell_type": "code",
      "metadata": {
        "id": "M9fSDrmsJTON",
        "colab_type": "code",
        "colab": {
          "base_uri": "https://localhost:8080/",
          "height": 51
        },
        "outputId": "40ec733d-cdfe-440f-cffe-775e8fd4ed6b"
      },
      "source": [
        "#RANDOM FOREST\n",
        "clf_rf = RandomForestClassifier(n_estimators=300)\n",
        "clf_rf = clf_rf.fit(X, y)\n",
        "\n",
        "importance_rf = clf_rf.feature_importances_\n",
        "importance_rf"
      ],
      "execution_count": 16,
      "outputs": [
        {
          "output_type": "execute_result",
          "data": {
            "text/plain": [
              "array([0.35376226, 0.12120467, 0.16287087, 0.09637967, 0.09257811,\n",
              "       0.05287688, 0.07864958, 0.02805643, 0.01362152])"
            ]
          },
          "metadata": {
            "tags": []
          },
          "execution_count": 16
        }
      ]
    },
    {
      "cell_type": "code",
      "metadata": {
        "id": "QiH9kKQU6s-Q",
        "colab_type": "code",
        "colab": {
          "base_uri": "https://localhost:8080/",
          "height": 51
        },
        "outputId": "ccac780c-72f9-4a7e-9261-133453eca396"
      },
      "source": [
        "#DECISION TREE\n",
        "clf_tree = DecisionTreeClassifier()\n",
        "clf_tree = clf_tree.fit(X, y)\n",
        "\n",
        "importance_tree = clf_tree.feature_importances_\n",
        "importance_tree"
      ],
      "execution_count": 17,
      "outputs": [
        {
          "output_type": "execute_result",
          "data": {
            "text/plain": [
              "array([0.50585429, 0.08164597, 0.09334519, 0.09074046, 0.09963855,\n",
              "       0.0443114 , 0.05559627, 0.01825281, 0.01061507])"
            ]
          },
          "metadata": {
            "tags": []
          },
          "execution_count": 17
        }
      ]
    },
    {
      "cell_type": "markdown",
      "metadata": {
        "id": "zFwCbwgb9o3s",
        "colab_type": "text"
      },
      "source": [
        "###Selecionando as características mais importantes a partir dos modelos de classificação"
      ]
    },
    {
      "cell_type": "code",
      "metadata": {
        "id": "PE6HiuKN-OKA",
        "colab_type": "code",
        "colab": {
          "base_uri": "https://localhost:8080/",
          "height": 327
        },
        "outputId": "35467011-caab-47d4-f572-b191ba023520"
      },
      "source": [
        "#RANDOM FOREST\n",
        "model = SelectFromModel(clf_rf, prefit=True)\n",
        "data_new = model.transform(X)\n",
        "\n",
        "n_attrs = data_new.shape[1]\n",
        "idx_most_important = importance_rf.argsort()[-n_attrs:]\n",
        "print(idx_most_important)\n",
        "\n",
        "name_important_attrs = np.array(X)[idx_most_important]\n",
        "print(name_important_attrs)\n",
        "\n",
        "ax = data.plot.scatter(x='SFH',\n",
        "                        y='SSLfinal_State',\n",
        "                        c='Result',\n",
        "                        colormap='plasma')"
      ],
      "execution_count": 18,
      "outputs": [
        {
          "output_type": "stream",
          "text": [
            "[1 2 0]\n",
            "[[-1 -1 -1 -1 -1  0  1  1  1]\n",
            " [ 1 -1  0  0 -1  0 -1  1  0]\n",
            " [ 1 -1  1 -1 -1  1  1  1  0]]\n"
          ],
          "name": "stdout"
        },
        {
          "output_type": "display_data",
          "data": {
            "image/png": "[encoded data removed]",
            "text/plain": [
              "<Figure size 432x288 with 2 Axes>"
            ]
          },
          "metadata": {
            "tags": [],
            "needs_background": "light"
          }
        }
      ]
    },
    {
      "cell_type": "code",
      "metadata": {
        "id": "7XBAyYoi7HD9",
        "colab_type": "code",
        "colab": {
          "base_uri": "https://localhost:8080/",
          "height": 292
        },
        "outputId": "d0fd38e7-d98c-4b4b-c514-8527332d66d1"
      },
      "source": [
        "#DECISION TREE\n",
        "model = SelectFromModel(clf_tree, prefit=True)\n",
        "data_new = model.transform(X)\n",
        "\n",
        "n_attrs = data_new.shape[1]\n",
        "idx_most_important = importance_tree.argsort()[-n_attrs:]\n",
        "print(idx_most_important)\n",
        "\n",
        "name_important_attrs = np.array(X)[idx_most_important]\n",
        "print(name_important_attrs)\n",
        "\n",
        "ax = data.plot.scatter(x='SFH',\n",
        "                        y='URL_of_Anchor',\n",
        "                        c='Result',\n",
        "                        colormap='viridis')"
      ],
      "execution_count": 19,
      "outputs": [
        {
          "output_type": "stream",
          "text": [
            "[0]\n",
            "[[ 1 -1  1 -1 -1  1  1  1  0]]\n"
          ],
          "name": "stdout"
        },
        {
          "output_type": "display_data",
          "data": {
            "image/png": "[encoded data removed]",
            "text/plain": [
              "<Figure size 432x288 with 2 Axes>"
            ]
          },
          "metadata": {
            "tags": [],
            "needs_background": "light"
          }
        }
      ]
    },
    {
      "cell_type": "markdown",
      "metadata": {
        "id": "3Zi1Ay2RfPSu",
        "colab_type": "text"
      },
      "source": [
        "###Reduzindo dimensionalidade usando PCA"
      ]
    },
    {
      "cell_type": "code",
      "metadata": {
        "id": "I2SQJMvIfV-X",
        "colab_type": "code",
        "colab": {
          "base_uri": "https://localhost:8080/",
          "height": 258
        },
        "outputId": "5331798c-2cf7-4edb-cada-5800b99d0976"
      },
      "source": [
        "# Aplicando redução de dimensionalidade linear através do PCA\n",
        "pca = PCA(n_components=2)\n",
        "principalComponents = pca.fit_transform(data)\n",
        "\n",
        "pca_df_data = pd.DataFrame(data=principalComponents, \n",
        "                           columns = ['attr1', 'attr2'])\n",
        "\n",
        "pca_df_data = pd.concat([pca_df_data, data['Result']], axis = 1)\n",
        "\n",
        "ax2 = pca_df_data.plot.scatter(x='attr1',\n",
        "                      y='attr2',\n",
        "                      c='Result',\n",
        "                      colormap='plasma')"
      ],
      "execution_count": 20,
      "outputs": [
        {
          "output_type": "display_data",
          "data": {
            "image/png": "[encoded data removed]",
            "text/plain": [
              "<Figure size 432x288 with 2 Axes>"
            ]
          },
          "metadata": {
            "tags": [],
            "needs_background": "light"
          }
        }
      ]
    },
    {
      "cell_type": "markdown",
      "metadata": {
        "id": "yROzsHpBqnGu",
        "colab_type": "text"
      },
      "source": [
        "Os gráficos de dispersão (scatterplot) foram plotados para visualização das características (atributos) de maior importância/influência que foram classificadas pela Random Forest e pela Decision Tree.\n",
        "Usando o mesmo tipo de gráfico tanto para Random Forest quanto para Decision Tree, ambos modelos apresentam resultados muito semelhantes, mesmo os modelos tendo classificados como importante um atributo diferente do outro.\n",
        "Além de existir um positivo e grau elevado de relação entre os atributos, a semelhança conduz para uma conclusão de que há uma consistência nos dados bastante relevante.\n",
        "Essa consistência dos dados é observada também mesmo reduzindo a dimensionalidade dos dados em apenas 2 atributos, através do PCA. "
      ]
    }
  ]
}