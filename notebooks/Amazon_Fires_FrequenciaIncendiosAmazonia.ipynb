{
  "nbformat": 4,
  "nbformat_minor": 0,
  "metadata": {
    "colab": {
      "name": "Copy of Amazonia.ipynb",
      "provenance": [],
      "include_colab_link": true
    },
    "kernelspec": {
      "name": "python3",
      "display_name": "Python 3"
    }
  },
  "cells": [
    {
      "cell_type": "markdown",
      "metadata": {
        "id": "view-in-github",
        "colab_type": "text"
      },
      "source": [
        "<a href=\"https://colab.research.google.com/github/niltontac/EspAnalise-EngDados/blob/master/Amazon_Fires_Notebook.ipynb\" target=\"_parent\"><img src=\"https://colab.research.google.com/assets/colab-badge.svg\" alt=\"Open In Colab\"/></a>"
      ]
    },
    {
      "cell_type": "markdown",
      "metadata": {
        "id": "YpSsrULIjLFG",
        "colab_type": "text"
      },
      "source": [
        "# **Sobre este Conjunto de Dados**\n",
        "\n",
        "Os olhos do Brasil e do mundo se voltam para a maior floresta tropical e maior reserva de biodiversidade da terra. O bioma é o mais afetado pela onda de incêndios florestais no país ao longo dos anos. \n",
        "Não há novidade no fenômeno em si. A Amazonia sempre sofreu com incêncios. Essa prática provoca degradação físico-química e biológica do solo, e traz prejuízos ao meio ambiente.\n",
        "\n",
        "Este relatório tem o objetivo de ajudar a compreender, através de um conjunto de dados, a frequência de casos de incêndios florestais e fornecer informações que revelem mais precisamente quais os estados que sofrem mais com esses incêndios ao longo de aproximadamente 20 anos.\n",
        "\n",
        "\n",
        "# Aluno | Analista: Nilton Thiago de Andrade Coura\n",
        "### Especialização em Análise e Engenharia de Dados - Cesar School/CInUFPE\n",
        "#### Disciplina: Introdução à Análise de Dados\n",
        "##### Professor: Luciano Barbosa\n",
        "\n",
        "\n",
        "######Fonte dos dados: arquivo amazon.csv disponível em https://www.kaggle.com/gustavomodelli/forest-fires-in-brazil"
      ]
    },
    {
      "cell_type": "markdown",
      "metadata": {
        "id": "B-RXkhpYqubF",
        "colab_type": "text"
      },
      "source": [
        "# Carregando o arquivo e consultando as informações básicas do DataFrame"
      ]
    },
    {
      "cell_type": "code",
      "metadata": {
        "id": "q7qTm3Dgsrby",
        "colab_type": "code",
        "colab": {}
      },
      "source": [
        "# Importando bibliotecas\n",
        "import pandas as pd\n",
        "import numpy as np\n",
        "import matplotlib.pyplot as plt\n",
        "import seaborn as sns\n",
        "import math"
      ],
      "execution_count": 0,
      "outputs": []
    },
    {
      "cell_type": "code",
      "metadata": {
        "id": "1cN_qN7n5KCL",
        "colab_type": "code",
        "colab": {}
      },
      "source": [
        "# Carregando conjunto de dados do arquivo \n",
        "dataset=pd.read_csv(\"https://raw.githubusercontent.com/niltontac/EspAnalise-EngDados/master/data/Amazon_Fires_Dataset.csv\",encoding = \"ISO-8859-1\")"
      ],
      "execution_count": 0,
      "outputs": []
    },
    {
      "cell_type": "code",
      "metadata": {
        "id": "ekUFZpUwW7EI",
        "colab_type": "code",
        "outputId": "154bc6cb-653c-479f-c6d0-fee80c97b7b4",
        "colab": {
          "base_uri": "https://localhost:8080/",
          "height": 34
        }
      },
      "source": [
        "# Forma do DataFrame\n",
        "dataset.shape"
      ],
      "execution_count": 0,
      "outputs": [
        {
          "output_type": "execute_result",
          "data": {
            "text/plain": [
              "(6454, 5)"
            ]
          },
          "metadata": {
            "tags": []
          },
          "execution_count": 3
        }
      ]
    },
    {
      "cell_type": "code",
      "metadata": {
        "colab_type": "code",
        "outputId": "f56ba16a-baf3-4b05-a9c3-919d2066338b",
        "id": "KDIh0cOUUDhI",
        "colab": {
          "base_uri": "https://localhost:8080/",
          "height": 187
        }
      },
      "source": [
        "# Informação do DataFrame\n",
        "# Índice de entradas (6454) e colunas (5)\n",
        "dataset.info()"
      ],
      "execution_count": 0,
      "outputs": [
        {
          "output_type": "stream",
          "text": [
            "<class 'pandas.core.frame.DataFrame'>\n",
            "RangeIndex: 6454 entries, 0 to 6453\n",
            "Data columns (total 5 columns):\n",
            "year      6454 non-null int64\n",
            "state     6454 non-null object\n",
            "month     6454 non-null object\n",
            "number    6454 non-null float64\n",
            "date      6454 non-null object\n",
            "dtypes: float64(1), int64(1), object(3)\n",
            "memory usage: 252.2+ KB\n"
          ],
          "name": "stdout"
        }
      ]
    },
    {
      "cell_type": "markdown",
      "metadata": {
        "id": "SrOEO8rvrhMH",
        "colab_type": "text"
      },
      "source": [
        "## Describe, Head, Tail e Unique"
      ]
    },
    {
      "cell_type": "code",
      "metadata": {
        "id": "3iwzcfyRSyyM",
        "colab_type": "code",
        "outputId": "dcf7549f-0bbc-4cf2-a162-565a5f0a2476",
        "colab": {
          "base_uri": "https://localhost:8080/",
          "height": 297
        }
      },
      "source": [
        "# Resumo da forma de distribuição do conjunto dos dados carregados\n",
        "# onde temos 6454 registros para observação \n",
        "# média, desvio padrão, mínimo, máximo, e quantis.\n",
        "dataset.describe()"
      ],
      "execution_count": 0,
      "outputs": [
        {
          "output_type": "execute_result",
          "data": {
            "text/html": [
              "<div>\n",
              "<style scoped>\n",
              "    .dataframe tbody tr th:only-of-type {\n",
              "        vertical-align: middle;\n",
              "    }\n",
              "\n",
              "    .dataframe tbody tr th {\n",
              "        vertical-align: top;\n",
              "    }\n",
              "\n",
              "    .dataframe thead th {\n",
              "        text-align: right;\n",
              "    }\n",
              "</style>\n",
              "<table border=\"1\" class=\"dataframe\">\n",
              "  <thead>\n",
              "    <tr style=\"text-align: right;\">\n",
              "      <th></th>\n",
              "      <th>year</th>\n",
              "      <th>number</th>\n",
              "    </tr>\n",
              "  </thead>\n",
              "  <tbody>\n",
              "    <tr>\n",
              "      <th>count</th>\n",
              "      <td>6454.000000</td>\n",
              "      <td>6454.000000</td>\n",
              "    </tr>\n",
              "    <tr>\n",
              "      <th>mean</th>\n",
              "      <td>2007.461729</td>\n",
              "      <td>108.293163</td>\n",
              "    </tr>\n",
              "    <tr>\n",
              "      <th>std</th>\n",
              "      <td>5.746654</td>\n",
              "      <td>190.812242</td>\n",
              "    </tr>\n",
              "    <tr>\n",
              "      <th>min</th>\n",
              "      <td>1998.000000</td>\n",
              "      <td>0.000000</td>\n",
              "    </tr>\n",
              "    <tr>\n",
              "      <th>25%</th>\n",
              "      <td>2002.000000</td>\n",
              "      <td>3.000000</td>\n",
              "    </tr>\n",
              "    <tr>\n",
              "      <th>50%</th>\n",
              "      <td>2007.000000</td>\n",
              "      <td>24.000000</td>\n",
              "    </tr>\n",
              "    <tr>\n",
              "      <th>75%</th>\n",
              "      <td>2012.000000</td>\n",
              "      <td>113.000000</td>\n",
              "    </tr>\n",
              "    <tr>\n",
              "      <th>max</th>\n",
              "      <td>2017.000000</td>\n",
              "      <td>998.000000</td>\n",
              "    </tr>\n",
              "  </tbody>\n",
              "</table>\n",
              "</div>"
            ],
            "text/plain": [
              "              year       number\n",
              "count  6454.000000  6454.000000\n",
              "mean   2007.461729   108.293163\n",
              "std       5.746654   190.812242\n",
              "min    1998.000000     0.000000\n",
              "25%    2002.000000     3.000000\n",
              "50%    2007.000000    24.000000\n",
              "75%    2012.000000   113.000000\n",
              "max    2017.000000   998.000000"
            ]
          },
          "metadata": {
            "tags": []
          },
          "execution_count": 5
        }
      ]
    },
    {
      "cell_type": "code",
      "metadata": {
        "id": "vA7KTnb75cih",
        "colab_type": "code",
        "outputId": "18d089cb-c432-4235-ca85-67aab1ed1d25",
        "colab": {
          "base_uri": "https://localhost:8080/",
          "height": 204
        }
      },
      "source": [
        "# Visualizando as primeiras linhas \n",
        "dataset.head()"
      ],
      "execution_count": 0,
      "outputs": [
        {
          "output_type": "execute_result",
          "data": {
            "text/html": [
              "<div>\n",
              "<style scoped>\n",
              "    .dataframe tbody tr th:only-of-type {\n",
              "        vertical-align: middle;\n",
              "    }\n",
              "\n",
              "    .dataframe tbody tr th {\n",
              "        vertical-align: top;\n",
              "    }\n",
              "\n",
              "    .dataframe thead th {\n",
              "        text-align: right;\n",
              "    }\n",
              "</style>\n",
              "<table border=\"1\" class=\"dataframe\">\n",
              "  <thead>\n",
              "    <tr style=\"text-align: right;\">\n",
              "      <th></th>\n",
              "      <th>year</th>\n",
              "      <th>state</th>\n",
              "      <th>month</th>\n",
              "      <th>number</th>\n",
              "      <th>date</th>\n",
              "    </tr>\n",
              "  </thead>\n",
              "  <tbody>\n",
              "    <tr>\n",
              "      <th>0</th>\n",
              "      <td>1998</td>\n",
              "      <td>Acre</td>\n",
              "      <td>Janeiro</td>\n",
              "      <td>0.0</td>\n",
              "      <td>1998-01-01</td>\n",
              "    </tr>\n",
              "    <tr>\n",
              "      <th>1</th>\n",
              "      <td>1999</td>\n",
              "      <td>Acre</td>\n",
              "      <td>Janeiro</td>\n",
              "      <td>0.0</td>\n",
              "      <td>1999-01-01</td>\n",
              "    </tr>\n",
              "    <tr>\n",
              "      <th>2</th>\n",
              "      <td>2000</td>\n",
              "      <td>Acre</td>\n",
              "      <td>Janeiro</td>\n",
              "      <td>0.0</td>\n",
              "      <td>2000-01-01</td>\n",
              "    </tr>\n",
              "    <tr>\n",
              "      <th>3</th>\n",
              "      <td>2001</td>\n",
              "      <td>Acre</td>\n",
              "      <td>Janeiro</td>\n",
              "      <td>0.0</td>\n",
              "      <td>2001-01-01</td>\n",
              "    </tr>\n",
              "    <tr>\n",
              "      <th>4</th>\n",
              "      <td>2002</td>\n",
              "      <td>Acre</td>\n",
              "      <td>Janeiro</td>\n",
              "      <td>0.0</td>\n",
              "      <td>2002-01-01</td>\n",
              "    </tr>\n",
              "  </tbody>\n",
              "</table>\n",
              "</div>"
            ],
            "text/plain": [
              "   year state    month  number        date\n",
              "0  1998  Acre  Janeiro     0.0  1998-01-01\n",
              "1  1999  Acre  Janeiro     0.0  1999-01-01\n",
              "2  2000  Acre  Janeiro     0.0  2000-01-01\n",
              "3  2001  Acre  Janeiro     0.0  2001-01-01\n",
              "4  2002  Acre  Janeiro     0.0  2002-01-01"
            ]
          },
          "metadata": {
            "tags": []
          },
          "execution_count": 6
        }
      ]
    },
    {
      "cell_type": "code",
      "metadata": {
        "colab_type": "code",
        "outputId": "1a6a4d68-c75a-4821-8e6e-d0a6efb82a75",
        "id": "zpcSJv4POBGi",
        "colab": {
          "base_uri": "https://localhost:8080/",
          "height": 204
        }
      },
      "source": [
        "# Visualizando as últimas linhas\n",
        "dataset.tail()"
      ],
      "execution_count": 0,
      "outputs": [
        {
          "output_type": "execute_result",
          "data": {
            "text/html": [
              "<div>\n",
              "<style scoped>\n",
              "    .dataframe tbody tr th:only-of-type {\n",
              "        vertical-align: middle;\n",
              "    }\n",
              "\n",
              "    .dataframe tbody tr th {\n",
              "        vertical-align: top;\n",
              "    }\n",
              "\n",
              "    .dataframe thead th {\n",
              "        text-align: right;\n",
              "    }\n",
              "</style>\n",
              "<table border=\"1\" class=\"dataframe\">\n",
              "  <thead>\n",
              "    <tr style=\"text-align: right;\">\n",
              "      <th></th>\n",
              "      <th>year</th>\n",
              "      <th>state</th>\n",
              "      <th>month</th>\n",
              "      <th>number</th>\n",
              "      <th>date</th>\n",
              "    </tr>\n",
              "  </thead>\n",
              "  <tbody>\n",
              "    <tr>\n",
              "      <th>6449</th>\n",
              "      <td>2012</td>\n",
              "      <td>Tocantins</td>\n",
              "      <td>Dezembro</td>\n",
              "      <td>128.0</td>\n",
              "      <td>2012-01-01</td>\n",
              "    </tr>\n",
              "    <tr>\n",
              "      <th>6450</th>\n",
              "      <td>2013</td>\n",
              "      <td>Tocantins</td>\n",
              "      <td>Dezembro</td>\n",
              "      <td>85.0</td>\n",
              "      <td>2013-01-01</td>\n",
              "    </tr>\n",
              "    <tr>\n",
              "      <th>6451</th>\n",
              "      <td>2014</td>\n",
              "      <td>Tocantins</td>\n",
              "      <td>Dezembro</td>\n",
              "      <td>223.0</td>\n",
              "      <td>2014-01-01</td>\n",
              "    </tr>\n",
              "    <tr>\n",
              "      <th>6452</th>\n",
              "      <td>2015</td>\n",
              "      <td>Tocantins</td>\n",
              "      <td>Dezembro</td>\n",
              "      <td>373.0</td>\n",
              "      <td>2015-01-01</td>\n",
              "    </tr>\n",
              "    <tr>\n",
              "      <th>6453</th>\n",
              "      <td>2016</td>\n",
              "      <td>Tocantins</td>\n",
              "      <td>Dezembro</td>\n",
              "      <td>119.0</td>\n",
              "      <td>2016-01-01</td>\n",
              "    </tr>\n",
              "  </tbody>\n",
              "</table>\n",
              "</div>"
            ],
            "text/plain": [
              "      year      state     month  number        date\n",
              "6449  2012  Tocantins  Dezembro   128.0  2012-01-01\n",
              "6450  2013  Tocantins  Dezembro    85.0  2013-01-01\n",
              "6451  2014  Tocantins  Dezembro   223.0  2014-01-01\n",
              "6452  2015  Tocantins  Dezembro   373.0  2015-01-01\n",
              "6453  2016  Tocantins  Dezembro   119.0  2016-01-01"
            ]
          },
          "metadata": {
            "tags": []
          },
          "execution_count": 7
        }
      ]
    },
    {
      "cell_type": "code",
      "metadata": {
        "id": "22NjOwSodgp7",
        "colab_type": "code",
        "outputId": "6709e487-e104-4c71-c1b0-98a3b6a5ef65",
        "colab": {
          "base_uri": "https://localhost:8080/",
          "height": 51
        }
      },
      "source": [
        "# Visualizando o intervalo dos anos\n",
        "dataset.year.unique()"
      ],
      "execution_count": 0,
      "outputs": [
        {
          "output_type": "execute_result",
          "data": {
            "text/plain": [
              "array([1998, 1999, 2000, 2001, 2002, 2003, 2004, 2005, 2006, 2007, 2008,\n",
              "       2009, 2010, 2011, 2012, 2013, 2014, 2015, 2016, 2017])"
            ]
          },
          "metadata": {
            "tags": []
          },
          "execution_count": 8
        }
      ]
    },
    {
      "cell_type": "code",
      "metadata": {
        "id": "KBNh9V-UgEWJ",
        "colab_type": "code",
        "outputId": "f12d36c0-19fa-48d9-89f4-278ef92dd4e2",
        "colab": {
          "base_uri": "https://localhost:8080/",
          "height": 102
        }
      },
      "source": [
        "# Visualizando os estados\n",
        "dataset.state.unique()"
      ],
      "execution_count": 0,
      "outputs": [
        {
          "output_type": "execute_result",
          "data": {
            "text/plain": [
              "array(['Acre', 'Alagoas', 'Amapa', 'Amazonas', 'Bahia', 'Ceara',\n",
              "       'Distrito Federal', 'Espirito Santo', 'Goias', 'Maranhao',\n",
              "       'Mato Grosso', 'Minas Gerais', 'Pará', 'Paraiba', 'Pernambuco',\n",
              "       'Piau', 'Rio', 'Rondonia', 'Roraima', 'Santa Catarina',\n",
              "       'Sao Paulo', 'Sergipe', 'Tocantins'], dtype=object)"
            ]
          },
          "metadata": {
            "tags": []
          },
          "execution_count": 9
        }
      ]
    },
    {
      "cell_type": "code",
      "metadata": {
        "id": "JOdzPrEggiXq",
        "colab_type": "code",
        "outputId": "ac0def67-4741-4b79-ee11-890752f8cc8b",
        "colab": {
          "base_uri": "https://localhost:8080/",
          "height": 68
        }
      },
      "source": [
        "# Visualizando os meses\n",
        "dataset.month.unique()"
      ],
      "execution_count": 0,
      "outputs": [
        {
          "output_type": "execute_result",
          "data": {
            "text/plain": [
              "array(['Janeiro', 'Fevereiro', 'Março', 'Abril', 'Maio', 'Junho', 'Julho',\n",
              "       'Agosto', 'Setembro', 'Outubro', 'Novembro', 'Dezembro'],\n",
              "      dtype=object)"
            ]
          },
          "metadata": {
            "tags": []
          },
          "execution_count": 10
        }
      ]
    },
    {
      "cell_type": "markdown",
      "metadata": {
        "id": "BjlXgLUzPfmK",
        "colab_type": "text"
      },
      "source": [
        "# Analizando, explorando, tratando e visualizando os dados do DataFrame\n",
        "\n",
        "######Após consultarmos acima algumas informações básicas do DataFrame, vamos agora de fato explorar os dados, realizar as análises e tratamentos necessários desses dados, além de visualizá-los através de gráficos:"
      ]
    },
    {
      "cell_type": "markdown",
      "metadata": {
        "id": "UVY5Tgprd7vS",
        "colab_type": "text"
      },
      "source": [
        "##Verificando e definindo os tipos de dados"
      ]
    },
    {
      "cell_type": "code",
      "metadata": {
        "id": "qKEgrxVdcMl4",
        "colab_type": "code",
        "outputId": "917bc266-c88c-4c63-94bb-2117929b3e96",
        "colab": {
          "base_uri": "https://localhost:8080/",
          "height": 119
        }
      },
      "source": [
        "# Tipos de Dados\n",
        "dataset.dtypes"
      ],
      "execution_count": 0,
      "outputs": [
        {
          "output_type": "execute_result",
          "data": {
            "text/plain": [
              "year        int64\n",
              "state      object\n",
              "month      object\n",
              "number    float64\n",
              "date       object\n",
              "dtype: object"
            ]
          },
          "metadata": {
            "tags": []
          },
          "execution_count": 11
        }
      ]
    },
    {
      "cell_type": "markdown",
      "metadata": {
        "id": "GsIWMkferRw2",
        "colab_type": "text"
      },
      "source": [
        "###### Setando os dados como categóricos"
      ]
    },
    {
      "cell_type": "code",
      "metadata": {
        "id": "kmCV9_tzcrXF",
        "colab_type": "code",
        "outputId": "c8af649e-86bc-4cb8-fb8e-8513ea4aad8a",
        "colab": {
          "base_uri": "https://localhost:8080/",
          "height": 119
        }
      },
      "source": [
        "# Ajustando os tipos de dados setando como categoricos as colunas \"state\" e \"month\"\n",
        "dataset.state = dataset.state.astype('category')\n",
        "dataset.month = dataset.month.astype('category')\n",
        "dataset.dtypes"
      ],
      "execution_count": 0,
      "outputs": [
        {
          "output_type": "execute_result",
          "data": {
            "text/plain": [
              "year         int64\n",
              "state     category\n",
              "month     category\n",
              "number     float64\n",
              "date        object\n",
              "dtype: object"
            ]
          },
          "metadata": {
            "tags": []
          },
          "execution_count": 12
        }
      ]
    },
    {
      "cell_type": "markdown",
      "metadata": {
        "id": "j_q2coUmfb4M",
        "colab_type": "text"
      },
      "source": [
        "Em nova consulta sobre as informações do DataFrame, constata-se que o tratamento realizado no ajuste dos tipos de dados otimizou consideravelmente o espaço em memória, que caiu de 252.2KB (observe em consulta pouco mais acima) para para 165.2KB (consulta abaixo):"
      ]
    },
    {
      "cell_type": "code",
      "metadata": {
        "id": "Ki5TcoBTfLLL",
        "colab_type": "code",
        "outputId": "9df3b392-9018-4b9b-eb32-4097e81abb44",
        "colab": {
          "base_uri": "https://localhost:8080/",
          "height": 187
        }
      },
      "source": [
        "# Informação do DataFrame após ajustar os tipos de daddos\n",
        "dataset.info()"
      ],
      "execution_count": 0,
      "outputs": [
        {
          "output_type": "stream",
          "text": [
            "<class 'pandas.core.frame.DataFrame'>\n",
            "RangeIndex: 6454 entries, 0 to 6453\n",
            "Data columns (total 5 columns):\n",
            "year      6454 non-null int64\n",
            "state     6454 non-null category\n",
            "month     6454 non-null category\n",
            "number    6454 non-null float64\n",
            "date      6454 non-null object\n",
            "dtypes: category(2), float64(1), int64(1), object(1)\n",
            "memory usage: 165.2+ KB\n"
          ],
          "name": "stdout"
        }
      ]
    },
    {
      "cell_type": "markdown",
      "metadata": {
        "id": "MjGJM8tZg5dr",
        "colab_type": "text"
      },
      "source": [
        "## Limpando e tratando os dados"
      ]
    },
    {
      "cell_type": "markdown",
      "metadata": {
        "id": "ookZaBb5YB-1",
        "colab_type": "text"
      },
      "source": [
        "Verificando e tratando dados ausentes e/ou duplicados"
      ]
    },
    {
      "cell_type": "code",
      "metadata": {
        "id": "4BIF2lvkxcWU",
        "colab_type": "code",
        "outputId": "d01642ee-670d-4c0d-f870-5980a699d80e",
        "colab": {
          "base_uri": "https://localhost:8080/",
          "height": 119
        }
      },
      "source": [
        "# Verificando se há dados ausentes no DataFrame para serem tratados \n",
        "dataset.isna().sum()"
      ],
      "execution_count": 0,
      "outputs": [
        {
          "output_type": "execute_result",
          "data": {
            "text/plain": [
              "year      0\n",
              "state     0\n",
              "month     0\n",
              "number    0\n",
              "date      0\n",
              "dtype: int64"
            ]
          },
          "metadata": {
            "tags": []
          },
          "execution_count": 14
        }
      ]
    },
    {
      "cell_type": "code",
      "metadata": {
        "id": "urYn2FZpYY1q",
        "colab_type": "code",
        "outputId": "cc8c4af2-4339-40b3-9b68-38145353818c",
        "colab": {
          "base_uri": "https://localhost:8080/",
          "height": 119
        }
      },
      "source": [
        "dataset.isnull().sum()"
      ],
      "execution_count": 0,
      "outputs": [
        {
          "output_type": "execute_result",
          "data": {
            "text/plain": [
              "year      0\n",
              "state     0\n",
              "month     0\n",
              "number    0\n",
              "date      0\n",
              "dtype: int64"
            ]
          },
          "metadata": {
            "tags": []
          },
          "execution_count": 15
        }
      ]
    },
    {
      "cell_type": "markdown",
      "metadata": {
        "id": "IR_7z34CzhZr",
        "colab_type": "text"
      },
      "source": [
        "Como verificado acima, neste DataFrame não existem dados ausentes ou nulos a serem tratados. Agora, vamos verificar se existem dados duplicados:"
      ]
    },
    {
      "cell_type": "code",
      "metadata": {
        "id": "RkbtOsVKzyS3",
        "colab_type": "code",
        "outputId": "7cdbb949-36df-40e4-f1ad-8ffaac6a816b",
        "colab": {
          "base_uri": "https://localhost:8080/",
          "height": 1000
        }
      },
      "source": [
        "dataset[dataset.duplicated(keep=False)]"
      ],
      "execution_count": 0,
      "outputs": [
        {
          "output_type": "execute_result",
          "data": {
            "text/html": [
              "<div>\n",
              "<style scoped>\n",
              "    .dataframe tbody tr th:only-of-type {\n",
              "        vertical-align: middle;\n",
              "    }\n",
              "\n",
              "    .dataframe tbody tr th {\n",
              "        vertical-align: top;\n",
              "    }\n",
              "\n",
              "    .dataframe thead th {\n",
              "        text-align: right;\n",
              "    }\n",
              "</style>\n",
              "<table border=\"1\" class=\"dataframe\">\n",
              "  <thead>\n",
              "    <tr style=\"text-align: right;\">\n",
              "      <th></th>\n",
              "      <th>year</th>\n",
              "      <th>state</th>\n",
              "      <th>month</th>\n",
              "      <th>number</th>\n",
              "      <th>date</th>\n",
              "    </tr>\n",
              "  </thead>\n",
              "  <tbody>\n",
              "    <tr>\n",
              "      <th>258</th>\n",
              "      <td>2017</td>\n",
              "      <td>Alagoas</td>\n",
              "      <td>Janeiro</td>\n",
              "      <td>38.0</td>\n",
              "      <td>2017-01-01</td>\n",
              "    </tr>\n",
              "    <tr>\n",
              "      <th>259</th>\n",
              "      <td>2017</td>\n",
              "      <td>Alagoas</td>\n",
              "      <td>Janeiro</td>\n",
              "      <td>38.0</td>\n",
              "      <td>2017-01-01</td>\n",
              "    </tr>\n",
              "    <tr>\n",
              "      <th>2391</th>\n",
              "      <td>1998</td>\n",
              "      <td>Mato Grosso</td>\n",
              "      <td>Janeiro</td>\n",
              "      <td>0.0</td>\n",
              "      <td>1998-01-01</td>\n",
              "    </tr>\n",
              "    <tr>\n",
              "      <th>2411</th>\n",
              "      <td>1998</td>\n",
              "      <td>Mato Grosso</td>\n",
              "      <td>Fevereiro</td>\n",
              "      <td>0.0</td>\n",
              "      <td>1998-01-01</td>\n",
              "    </tr>\n",
              "    <tr>\n",
              "      <th>2431</th>\n",
              "      <td>1998</td>\n",
              "      <td>Mato Grosso</td>\n",
              "      <td>Março</td>\n",
              "      <td>0.0</td>\n",
              "      <td>1998-01-01</td>\n",
              "    </tr>\n",
              "    <tr>\n",
              "      <th>2451</th>\n",
              "      <td>1998</td>\n",
              "      <td>Mato Grosso</td>\n",
              "      <td>Abril</td>\n",
              "      <td>0.0</td>\n",
              "      <td>1998-01-01</td>\n",
              "    </tr>\n",
              "    <tr>\n",
              "      <th>2471</th>\n",
              "      <td>1998</td>\n",
              "      <td>Mato Grosso</td>\n",
              "      <td>Maio</td>\n",
              "      <td>0.0</td>\n",
              "      <td>1998-01-01</td>\n",
              "    </tr>\n",
              "    <tr>\n",
              "      <th>2630</th>\n",
              "      <td>1998</td>\n",
              "      <td>Mato Grosso</td>\n",
              "      <td>Janeiro</td>\n",
              "      <td>0.0</td>\n",
              "      <td>1998-01-01</td>\n",
              "    </tr>\n",
              "    <tr>\n",
              "      <th>2650</th>\n",
              "      <td>1998</td>\n",
              "      <td>Mato Grosso</td>\n",
              "      <td>Fevereiro</td>\n",
              "      <td>0.0</td>\n",
              "      <td>1998-01-01</td>\n",
              "    </tr>\n",
              "    <tr>\n",
              "      <th>2670</th>\n",
              "      <td>1998</td>\n",
              "      <td>Mato Grosso</td>\n",
              "      <td>Março</td>\n",
              "      <td>0.0</td>\n",
              "      <td>1998-01-01</td>\n",
              "    </tr>\n",
              "    <tr>\n",
              "      <th>2690</th>\n",
              "      <td>1998</td>\n",
              "      <td>Mato Grosso</td>\n",
              "      <td>Abril</td>\n",
              "      <td>0.0</td>\n",
              "      <td>1998-01-01</td>\n",
              "    </tr>\n",
              "    <tr>\n",
              "      <th>2710</th>\n",
              "      <td>1998</td>\n",
              "      <td>Mato Grosso</td>\n",
              "      <td>Maio</td>\n",
              "      <td>0.0</td>\n",
              "      <td>1998-01-01</td>\n",
              "    </tr>\n",
              "    <tr>\n",
              "      <th>3347</th>\n",
              "      <td>1998</td>\n",
              "      <td>Paraiba</td>\n",
              "      <td>Janeiro</td>\n",
              "      <td>0.0</td>\n",
              "      <td>1998-01-01</td>\n",
              "    </tr>\n",
              "    <tr>\n",
              "      <th>3367</th>\n",
              "      <td>1998</td>\n",
              "      <td>Paraiba</td>\n",
              "      <td>Fevereiro</td>\n",
              "      <td>0.0</td>\n",
              "      <td>1998-01-01</td>\n",
              "    </tr>\n",
              "    <tr>\n",
              "      <th>3382</th>\n",
              "      <td>2013</td>\n",
              "      <td>Paraiba</td>\n",
              "      <td>Fevereiro</td>\n",
              "      <td>9.0</td>\n",
              "      <td>2013-01-01</td>\n",
              "    </tr>\n",
              "    <tr>\n",
              "      <th>3387</th>\n",
              "      <td>1998</td>\n",
              "      <td>Paraiba</td>\n",
              "      <td>Março</td>\n",
              "      <td>0.0</td>\n",
              "      <td>1998-01-01</td>\n",
              "    </tr>\n",
              "    <tr>\n",
              "      <th>3407</th>\n",
              "      <td>1998</td>\n",
              "      <td>Paraiba</td>\n",
              "      <td>Abril</td>\n",
              "      <td>0.0</td>\n",
              "      <td>1998-01-01</td>\n",
              "    </tr>\n",
              "    <tr>\n",
              "      <th>3427</th>\n",
              "      <td>1998</td>\n",
              "      <td>Paraiba</td>\n",
              "      <td>Maio</td>\n",
              "      <td>0.0</td>\n",
              "      <td>1998-01-01</td>\n",
              "    </tr>\n",
              "    <tr>\n",
              "      <th>3586</th>\n",
              "      <td>1998</td>\n",
              "      <td>Paraiba</td>\n",
              "      <td>Janeiro</td>\n",
              "      <td>0.0</td>\n",
              "      <td>1998-01-01</td>\n",
              "    </tr>\n",
              "    <tr>\n",
              "      <th>3606</th>\n",
              "      <td>1998</td>\n",
              "      <td>Paraiba</td>\n",
              "      <td>Fevereiro</td>\n",
              "      <td>0.0</td>\n",
              "      <td>1998-01-01</td>\n",
              "    </tr>\n",
              "    <tr>\n",
              "      <th>3621</th>\n",
              "      <td>2013</td>\n",
              "      <td>Paraiba</td>\n",
              "      <td>Fevereiro</td>\n",
              "      <td>9.0</td>\n",
              "      <td>2013-01-01</td>\n",
              "    </tr>\n",
              "    <tr>\n",
              "      <th>3626</th>\n",
              "      <td>1998</td>\n",
              "      <td>Paraiba</td>\n",
              "      <td>Março</td>\n",
              "      <td>0.0</td>\n",
              "      <td>1998-01-01</td>\n",
              "    </tr>\n",
              "    <tr>\n",
              "      <th>3646</th>\n",
              "      <td>1998</td>\n",
              "      <td>Paraiba</td>\n",
              "      <td>Abril</td>\n",
              "      <td>0.0</td>\n",
              "      <td>1998-01-01</td>\n",
              "    </tr>\n",
              "    <tr>\n",
              "      <th>3666</th>\n",
              "      <td>1998</td>\n",
              "      <td>Paraiba</td>\n",
              "      <td>Maio</td>\n",
              "      <td>0.0</td>\n",
              "      <td>1998-01-01</td>\n",
              "    </tr>\n",
              "    <tr>\n",
              "      <th>4303</th>\n",
              "      <td>1998</td>\n",
              "      <td>Rio</td>\n",
              "      <td>Janeiro</td>\n",
              "      <td>0.0</td>\n",
              "      <td>1998-01-01</td>\n",
              "    </tr>\n",
              "    <tr>\n",
              "      <th>4323</th>\n",
              "      <td>1998</td>\n",
              "      <td>Rio</td>\n",
              "      <td>Fevereiro</td>\n",
              "      <td>0.0</td>\n",
              "      <td>1998-01-01</td>\n",
              "    </tr>\n",
              "    <tr>\n",
              "      <th>4343</th>\n",
              "      <td>1998</td>\n",
              "      <td>Rio</td>\n",
              "      <td>Março</td>\n",
              "      <td>0.0</td>\n",
              "      <td>1998-01-01</td>\n",
              "    </tr>\n",
              "    <tr>\n",
              "      <th>4346</th>\n",
              "      <td>2001</td>\n",
              "      <td>Rio</td>\n",
              "      <td>Março</td>\n",
              "      <td>0.0</td>\n",
              "      <td>2001-01-01</td>\n",
              "    </tr>\n",
              "    <tr>\n",
              "      <th>4351</th>\n",
              "      <td>2006</td>\n",
              "      <td>Rio</td>\n",
              "      <td>Março</td>\n",
              "      <td>8.0</td>\n",
              "      <td>2006-01-01</td>\n",
              "    </tr>\n",
              "    <tr>\n",
              "      <th>4363</th>\n",
              "      <td>1998</td>\n",
              "      <td>Rio</td>\n",
              "      <td>Abril</td>\n",
              "      <td>0.0</td>\n",
              "      <td>1998-01-01</td>\n",
              "    </tr>\n",
              "    <tr>\n",
              "      <th>4369</th>\n",
              "      <td>2004</td>\n",
              "      <td>Rio</td>\n",
              "      <td>Abril</td>\n",
              "      <td>3.0</td>\n",
              "      <td>2004-01-01</td>\n",
              "    </tr>\n",
              "    <tr>\n",
              "      <th>4374</th>\n",
              "      <td>2009</td>\n",
              "      <td>Rio</td>\n",
              "      <td>Abril</td>\n",
              "      <td>1.0</td>\n",
              "      <td>2009-01-01</td>\n",
              "    </tr>\n",
              "    <tr>\n",
              "      <th>4383</th>\n",
              "      <td>1998</td>\n",
              "      <td>Rio</td>\n",
              "      <td>Maio</td>\n",
              "      <td>0.0</td>\n",
              "      <td>1998-01-01</td>\n",
              "    </tr>\n",
              "    <tr>\n",
              "      <th>4386</th>\n",
              "      <td>2001</td>\n",
              "      <td>Rio</td>\n",
              "      <td>Maio</td>\n",
              "      <td>4.0</td>\n",
              "      <td>2001-01-01</td>\n",
              "    </tr>\n",
              "    <tr>\n",
              "      <th>4392</th>\n",
              "      <td>2007</td>\n",
              "      <td>Rio</td>\n",
              "      <td>Maio</td>\n",
              "      <td>2.0</td>\n",
              "      <td>2007-01-01</td>\n",
              "    </tr>\n",
              "    <tr>\n",
              "      <th>4393</th>\n",
              "      <td>2008</td>\n",
              "      <td>Rio</td>\n",
              "      <td>Maio</td>\n",
              "      <td>0.0</td>\n",
              "      <td>2008-01-01</td>\n",
              "    </tr>\n",
              "    <tr>\n",
              "      <th>4406</th>\n",
              "      <td>2001</td>\n",
              "      <td>Rio</td>\n",
              "      <td>Junho</td>\n",
              "      <td>13.0</td>\n",
              "      <td>2001-01-01</td>\n",
              "    </tr>\n",
              "    <tr>\n",
              "      <th>4542</th>\n",
              "      <td>1998</td>\n",
              "      <td>Rio</td>\n",
              "      <td>Janeiro</td>\n",
              "      <td>0.0</td>\n",
              "      <td>1998-01-01</td>\n",
              "    </tr>\n",
              "    <tr>\n",
              "      <th>4561</th>\n",
              "      <td>2017</td>\n",
              "      <td>Rio</td>\n",
              "      <td>Janeiro</td>\n",
              "      <td>28.0</td>\n",
              "      <td>2017-01-01</td>\n",
              "    </tr>\n",
              "    <tr>\n",
              "      <th>4562</th>\n",
              "      <td>1998</td>\n",
              "      <td>Rio</td>\n",
              "      <td>Fevereiro</td>\n",
              "      <td>0.0</td>\n",
              "      <td>1998-01-01</td>\n",
              "    </tr>\n",
              "    <tr>\n",
              "      <th>4582</th>\n",
              "      <td>1998</td>\n",
              "      <td>Rio</td>\n",
              "      <td>Março</td>\n",
              "      <td>0.0</td>\n",
              "      <td>1998-01-01</td>\n",
              "    </tr>\n",
              "    <tr>\n",
              "      <th>4585</th>\n",
              "      <td>2001</td>\n",
              "      <td>Rio</td>\n",
              "      <td>Março</td>\n",
              "      <td>0.0</td>\n",
              "      <td>2001-01-01</td>\n",
              "    </tr>\n",
              "    <tr>\n",
              "      <th>4590</th>\n",
              "      <td>2006</td>\n",
              "      <td>Rio</td>\n",
              "      <td>Março</td>\n",
              "      <td>8.0</td>\n",
              "      <td>2006-01-01</td>\n",
              "    </tr>\n",
              "    <tr>\n",
              "      <th>4602</th>\n",
              "      <td>1998</td>\n",
              "      <td>Rio</td>\n",
              "      <td>Abril</td>\n",
              "      <td>0.0</td>\n",
              "      <td>1998-01-01</td>\n",
              "    </tr>\n",
              "    <tr>\n",
              "      <th>4608</th>\n",
              "      <td>2004</td>\n",
              "      <td>Rio</td>\n",
              "      <td>Abril</td>\n",
              "      <td>3.0</td>\n",
              "      <td>2004-01-01</td>\n",
              "    </tr>\n",
              "    <tr>\n",
              "      <th>4613</th>\n",
              "      <td>2009</td>\n",
              "      <td>Rio</td>\n",
              "      <td>Abril</td>\n",
              "      <td>1.0</td>\n",
              "      <td>2009-01-01</td>\n",
              "    </tr>\n",
              "    <tr>\n",
              "      <th>4622</th>\n",
              "      <td>1998</td>\n",
              "      <td>Rio</td>\n",
              "      <td>Maio</td>\n",
              "      <td>0.0</td>\n",
              "      <td>1998-01-01</td>\n",
              "    </tr>\n",
              "    <tr>\n",
              "      <th>4631</th>\n",
              "      <td>2007</td>\n",
              "      <td>Rio</td>\n",
              "      <td>Maio</td>\n",
              "      <td>2.0</td>\n",
              "      <td>2007-01-01</td>\n",
              "    </tr>\n",
              "    <tr>\n",
              "      <th>4632</th>\n",
              "      <td>2008</td>\n",
              "      <td>Rio</td>\n",
              "      <td>Maio</td>\n",
              "      <td>0.0</td>\n",
              "      <td>2008-01-01</td>\n",
              "    </tr>\n",
              "    <tr>\n",
              "      <th>4645</th>\n",
              "      <td>2001</td>\n",
              "      <td>Rio</td>\n",
              "      <td>Junho</td>\n",
              "      <td>13.0</td>\n",
              "      <td>2001-01-01</td>\n",
              "    </tr>\n",
              "    <tr>\n",
              "      <th>4671</th>\n",
              "      <td>2007</td>\n",
              "      <td>Rio</td>\n",
              "      <td>Julho</td>\n",
              "      <td>7.0</td>\n",
              "      <td>2007-01-01</td>\n",
              "    </tr>\n",
              "    <tr>\n",
              "      <th>4781</th>\n",
              "      <td>1998</td>\n",
              "      <td>Rio</td>\n",
              "      <td>Janeiro</td>\n",
              "      <td>0.0</td>\n",
              "      <td>1998-01-01</td>\n",
              "    </tr>\n",
              "    <tr>\n",
              "      <th>4800</th>\n",
              "      <td>2017</td>\n",
              "      <td>Rio</td>\n",
              "      <td>Janeiro</td>\n",
              "      <td>28.0</td>\n",
              "      <td>2017-01-01</td>\n",
              "    </tr>\n",
              "    <tr>\n",
              "      <th>4801</th>\n",
              "      <td>1998</td>\n",
              "      <td>Rio</td>\n",
              "      <td>Fevereiro</td>\n",
              "      <td>0.0</td>\n",
              "      <td>1998-01-01</td>\n",
              "    </tr>\n",
              "    <tr>\n",
              "      <th>4821</th>\n",
              "      <td>1998</td>\n",
              "      <td>Rio</td>\n",
              "      <td>Março</td>\n",
              "      <td>0.0</td>\n",
              "      <td>1998-01-01</td>\n",
              "    </tr>\n",
              "    <tr>\n",
              "      <th>4841</th>\n",
              "      <td>1998</td>\n",
              "      <td>Rio</td>\n",
              "      <td>Abril</td>\n",
              "      <td>0.0</td>\n",
              "      <td>1998-01-01</td>\n",
              "    </tr>\n",
              "    <tr>\n",
              "      <th>4861</th>\n",
              "      <td>1998</td>\n",
              "      <td>Rio</td>\n",
              "      <td>Maio</td>\n",
              "      <td>0.0</td>\n",
              "      <td>1998-01-01</td>\n",
              "    </tr>\n",
              "    <tr>\n",
              "      <th>4864</th>\n",
              "      <td>2001</td>\n",
              "      <td>Rio</td>\n",
              "      <td>Maio</td>\n",
              "      <td>4.0</td>\n",
              "      <td>2001-01-01</td>\n",
              "    </tr>\n",
              "    <tr>\n",
              "      <th>4910</th>\n",
              "      <td>2007</td>\n",
              "      <td>Rio</td>\n",
              "      <td>Julho</td>\n",
              "      <td>7.0</td>\n",
              "      <td>2007-01-01</td>\n",
              "    </tr>\n",
              "  </tbody>\n",
              "</table>\n",
              "</div>"
            ],
            "text/plain": [
              "      year        state      month  number        date\n",
              "258   2017      Alagoas    Janeiro    38.0  2017-01-01\n",
              "259   2017      Alagoas    Janeiro    38.0  2017-01-01\n",
              "2391  1998  Mato Grosso    Janeiro     0.0  1998-01-01\n",
              "2411  1998  Mato Grosso  Fevereiro     0.0  1998-01-01\n",
              "2431  1998  Mato Grosso      Março     0.0  1998-01-01\n",
              "2451  1998  Mato Grosso      Abril     0.0  1998-01-01\n",
              "2471  1998  Mato Grosso       Maio     0.0  1998-01-01\n",
              "2630  1998  Mato Grosso    Janeiro     0.0  1998-01-01\n",
              "2650  1998  Mato Grosso  Fevereiro     0.0  1998-01-01\n",
              "2670  1998  Mato Grosso      Março     0.0  1998-01-01\n",
              "2690  1998  Mato Grosso      Abril     0.0  1998-01-01\n",
              "2710  1998  Mato Grosso       Maio     0.0  1998-01-01\n",
              "3347  1998      Paraiba    Janeiro     0.0  1998-01-01\n",
              "3367  1998      Paraiba  Fevereiro     0.0  1998-01-01\n",
              "3382  2013      Paraiba  Fevereiro     9.0  2013-01-01\n",
              "3387  1998      Paraiba      Março     0.0  1998-01-01\n",
              "3407  1998      Paraiba      Abril     0.0  1998-01-01\n",
              "3427  1998      Paraiba       Maio     0.0  1998-01-01\n",
              "3586  1998      Paraiba    Janeiro     0.0  1998-01-01\n",
              "3606  1998      Paraiba  Fevereiro     0.0  1998-01-01\n",
              "3621  2013      Paraiba  Fevereiro     9.0  2013-01-01\n",
              "3626  1998      Paraiba      Março     0.0  1998-01-01\n",
              "3646  1998      Paraiba      Abril     0.0  1998-01-01\n",
              "3666  1998      Paraiba       Maio     0.0  1998-01-01\n",
              "4303  1998          Rio    Janeiro     0.0  1998-01-01\n",
              "4323  1998          Rio  Fevereiro     0.0  1998-01-01\n",
              "4343  1998          Rio      Março     0.0  1998-01-01\n",
              "4346  2001          Rio      Março     0.0  2001-01-01\n",
              "4351  2006          Rio      Março     8.0  2006-01-01\n",
              "4363  1998          Rio      Abril     0.0  1998-01-01\n",
              "4369  2004          Rio      Abril     3.0  2004-01-01\n",
              "4374  2009          Rio      Abril     1.0  2009-01-01\n",
              "4383  1998          Rio       Maio     0.0  1998-01-01\n",
              "4386  2001          Rio       Maio     4.0  2001-01-01\n",
              "4392  2007          Rio       Maio     2.0  2007-01-01\n",
              "4393  2008          Rio       Maio     0.0  2008-01-01\n",
              "4406  2001          Rio      Junho    13.0  2001-01-01\n",
              "4542  1998          Rio    Janeiro     0.0  1998-01-01\n",
              "4561  2017          Rio    Janeiro    28.0  2017-01-01\n",
              "4562  1998          Rio  Fevereiro     0.0  1998-01-01\n",
              "4582  1998          Rio      Março     0.0  1998-01-01\n",
              "4585  2001          Rio      Março     0.0  2001-01-01\n",
              "4590  2006          Rio      Março     8.0  2006-01-01\n",
              "4602  1998          Rio      Abril     0.0  1998-01-01\n",
              "4608  2004          Rio      Abril     3.0  2004-01-01\n",
              "4613  2009          Rio      Abril     1.0  2009-01-01\n",
              "4622  1998          Rio       Maio     0.0  1998-01-01\n",
              "4631  2007          Rio       Maio     2.0  2007-01-01\n",
              "4632  2008          Rio       Maio     0.0  2008-01-01\n",
              "4645  2001          Rio      Junho    13.0  2001-01-01\n",
              "4671  2007          Rio      Julho     7.0  2007-01-01\n",
              "4781  1998          Rio    Janeiro     0.0  1998-01-01\n",
              "4800  2017          Rio    Janeiro    28.0  2017-01-01\n",
              "4801  1998          Rio  Fevereiro     0.0  1998-01-01\n",
              "4821  1998          Rio      Março     0.0  1998-01-01\n",
              "4841  1998          Rio      Abril     0.0  1998-01-01\n",
              "4861  1998          Rio       Maio     0.0  1998-01-01\n",
              "4864  2001          Rio       Maio     4.0  2001-01-01\n",
              "4910  2007          Rio      Julho     7.0  2007-01-01"
            ]
          },
          "metadata": {
            "tags": []
          },
          "execution_count": 16
        }
      ]
    },
    {
      "cell_type": "markdown",
      "metadata": {
        "id": "b6XHHFee1mr-",
        "colab_type": "text"
      },
      "source": [
        "Como verificado acima, existem 32 dados duplicados no DataFrame. Excluíndo os registros duplicados e realizando nova verificação, observamos abaixo que pelo índice agora temos 6422 entradas após exclusão dos dados duplicados."
      ]
    },
    {
      "cell_type": "code",
      "metadata": {
        "id": "XVSGzOY_19_8",
        "colab_type": "code",
        "outputId": "0872d256-079a-469a-fdd6-aedba147707f",
        "colab": {
          "base_uri": "https://localhost:8080/",
          "height": 187
        }
      },
      "source": [
        "# Exluíndo dados duplicados\n",
        "dataset.drop_duplicates(inplace=True)\n",
        "dataset.info()"
      ],
      "execution_count": 0,
      "outputs": [
        {
          "output_type": "stream",
          "text": [
            "<class 'pandas.core.frame.DataFrame'>\n",
            "Int64Index: 6422 entries, 0 to 6453\n",
            "Data columns (total 5 columns):\n",
            "year      6422 non-null int64\n",
            "state     6422 non-null category\n",
            "month     6422 non-null category\n",
            "number    6422 non-null float64\n",
            "date      6422 non-null object\n",
            "dtypes: category(2), float64(1), int64(1), object(1)\n",
            "memory usage: 214.4+ KB\n"
          ],
          "name": "stdout"
        }
      ]
    },
    {
      "cell_type": "markdown",
      "metadata": {
        "id": "7jP74UlLIB4A",
        "colab_type": "text"
      },
      "source": [
        "A coluna \"date\" do DataFrame não será necessária, pois já existem as colunas \"year\" e \"month\" que fornecem informações em relação a períodos. Logo, a coluna \"date\" será excluída. "
      ]
    },
    {
      "cell_type": "code",
      "metadata": {
        "id": "CGwAzVy7ZZdE",
        "colab_type": "code",
        "outputId": "2d33b285-a0f1-478d-f30f-2d672405a327",
        "colab": {
          "base_uri": "https://localhost:8080/",
          "height": 204
        }
      },
      "source": [
        "#Excluíndo a coluna 'date'\n",
        "dataset.drop('date', axis=1, inplace=True)\n",
        "dataset.head()"
      ],
      "execution_count": 0,
      "outputs": [
        {
          "output_type": "execute_result",
          "data": {
            "text/html": [
              "<div>\n",
              "<style scoped>\n",
              "    .dataframe tbody tr th:only-of-type {\n",
              "        vertical-align: middle;\n",
              "    }\n",
              "\n",
              "    .dataframe tbody tr th {\n",
              "        vertical-align: top;\n",
              "    }\n",
              "\n",
              "    .dataframe thead th {\n",
              "        text-align: right;\n",
              "    }\n",
              "</style>\n",
              "<table border=\"1\" class=\"dataframe\">\n",
              "  <thead>\n",
              "    <tr style=\"text-align: right;\">\n",
              "      <th></th>\n",
              "      <th>year</th>\n",
              "      <th>state</th>\n",
              "      <th>month</th>\n",
              "      <th>number</th>\n",
              "    </tr>\n",
              "  </thead>\n",
              "  <tbody>\n",
              "    <tr>\n",
              "      <th>0</th>\n",
              "      <td>1998</td>\n",
              "      <td>Acre</td>\n",
              "      <td>Janeiro</td>\n",
              "      <td>0.0</td>\n",
              "    </tr>\n",
              "    <tr>\n",
              "      <th>1</th>\n",
              "      <td>1999</td>\n",
              "      <td>Acre</td>\n",
              "      <td>Janeiro</td>\n",
              "      <td>0.0</td>\n",
              "    </tr>\n",
              "    <tr>\n",
              "      <th>2</th>\n",
              "      <td>2000</td>\n",
              "      <td>Acre</td>\n",
              "      <td>Janeiro</td>\n",
              "      <td>0.0</td>\n",
              "    </tr>\n",
              "    <tr>\n",
              "      <th>3</th>\n",
              "      <td>2001</td>\n",
              "      <td>Acre</td>\n",
              "      <td>Janeiro</td>\n",
              "      <td>0.0</td>\n",
              "    </tr>\n",
              "    <tr>\n",
              "      <th>4</th>\n",
              "      <td>2002</td>\n",
              "      <td>Acre</td>\n",
              "      <td>Janeiro</td>\n",
              "      <td>0.0</td>\n",
              "    </tr>\n",
              "  </tbody>\n",
              "</table>\n",
              "</div>"
            ],
            "text/plain": [
              "   year state    month  number\n",
              "0  1998  Acre  Janeiro     0.0\n",
              "1  1999  Acre  Janeiro     0.0\n",
              "2  2000  Acre  Janeiro     0.0\n",
              "3  2001  Acre  Janeiro     0.0\n",
              "4  2002  Acre  Janeiro     0.0"
            ]
          },
          "metadata": {
            "tags": []
          },
          "execution_count": 18
        }
      ]
    },
    {
      "cell_type": "markdown",
      "metadata": {
        "id": "JY2VJYQ2gBMC",
        "colab_type": "text"
      },
      "source": [
        "## Correlação"
      ]
    },
    {
      "cell_type": "markdown",
      "metadata": {
        "id": "JBflAd3MasBZ",
        "colab_type": "text"
      },
      "source": [
        "Abaixo a correlação do DataFrame pelos coeficientes de Spearman e Pearson:"
      ]
    },
    {
      "cell_type": "code",
      "metadata": {
        "id": "Fka9hznBPUJI",
        "colab_type": "code",
        "outputId": "fec5bc5e-64b2-44c9-faf7-2bd973bad274",
        "colab": {
          "base_uri": "https://localhost:8080/",
          "height": 111
        }
      },
      "source": [
        "# spearman \n",
        "dataset.corr(method='spearman')\n"
      ],
      "execution_count": 0,
      "outputs": [
        {
          "output_type": "execute_result",
          "data": {
            "text/html": [
              "<div>\n",
              "<style scoped>\n",
              "    .dataframe tbody tr th:only-of-type {\n",
              "        vertical-align: middle;\n",
              "    }\n",
              "\n",
              "    .dataframe tbody tr th {\n",
              "        vertical-align: top;\n",
              "    }\n",
              "\n",
              "    .dataframe thead th {\n",
              "        text-align: right;\n",
              "    }\n",
              "</style>\n",
              "<table border=\"1\" class=\"dataframe\">\n",
              "  <thead>\n",
              "    <tr style=\"text-align: right;\">\n",
              "      <th></th>\n",
              "      <th>year</th>\n",
              "      <th>number</th>\n",
              "    </tr>\n",
              "  </thead>\n",
              "  <tbody>\n",
              "    <tr>\n",
              "      <th>year</th>\n",
              "      <td>1.000000</td>\n",
              "      <td>0.149714</td>\n",
              "    </tr>\n",
              "    <tr>\n",
              "      <th>number</th>\n",
              "      <td>0.149714</td>\n",
              "      <td>1.000000</td>\n",
              "    </tr>\n",
              "  </tbody>\n",
              "</table>\n",
              "</div>"
            ],
            "text/plain": [
              "            year    number\n",
              "year    1.000000  0.149714\n",
              "number  0.149714  1.000000"
            ]
          },
          "metadata": {
            "tags": []
          },
          "execution_count": 19
        }
      ]
    },
    {
      "cell_type": "code",
      "metadata": {
        "id": "OeyzFxxgQoyH",
        "colab_type": "code",
        "outputId": "dab6b491-3bb6-401f-ae6e-ac9872f40e55",
        "colab": {
          "base_uri": "https://localhost:8080/",
          "height": 111
        }
      },
      "source": [
        "# pearson\n",
        "dataset.corr(method='pearson')"
      ],
      "execution_count": 0,
      "outputs": [
        {
          "output_type": "execute_result",
          "data": {
            "text/html": [
              "<div>\n",
              "<style scoped>\n",
              "    .dataframe tbody tr th:only-of-type {\n",
              "        vertical-align: middle;\n",
              "    }\n",
              "\n",
              "    .dataframe tbody tr th {\n",
              "        vertical-align: top;\n",
              "    }\n",
              "\n",
              "    .dataframe thead th {\n",
              "        text-align: right;\n",
              "    }\n",
              "</style>\n",
              "<table border=\"1\" class=\"dataframe\">\n",
              "  <thead>\n",
              "    <tr style=\"text-align: right;\">\n",
              "      <th></th>\n",
              "      <th>year</th>\n",
              "      <th>number</th>\n",
              "    </tr>\n",
              "  </thead>\n",
              "  <tbody>\n",
              "    <tr>\n",
              "      <th>year</th>\n",
              "      <td>1.0000</td>\n",
              "      <td>0.0626</td>\n",
              "    </tr>\n",
              "    <tr>\n",
              "      <th>number</th>\n",
              "      <td>0.0626</td>\n",
              "      <td>1.0000</td>\n",
              "    </tr>\n",
              "  </tbody>\n",
              "</table>\n",
              "</div>"
            ],
            "text/plain": [
              "          year  number\n",
              "year    1.0000  0.0626\n",
              "number  0.0626  1.0000"
            ]
          },
          "metadata": {
            "tags": []
          },
          "execution_count": 20
        }
      ]
    },
    {
      "cell_type": "markdown",
      "metadata": {
        "id": "sURLger09DyJ",
        "colab_type": "text"
      },
      "source": [
        "Abaixo mostramos um gráfico indicando a correlação positiva entre os atributos das colunas \"year\" (ano) e \"number\" (número de casos de incêndios): "
      ]
    },
    {
      "cell_type": "code",
      "metadata": {
        "id": "xB6mCjZk5lOt",
        "colab_type": "code",
        "outputId": "d6978300-d8f3-4fda-96e8-573cefe5fe0b",
        "colab": {
          "base_uri": "https://localhost:8080/",
          "height": 378
        }
      },
      "source": [
        "plt.figure(figsize = (6,6))\n",
        "sns.heatmap(dataset.corr(),annot = True,linewidths = 1.0,cmap='cubehelix_r');"
      ],
      "execution_count": 0,
      "outputs": [
        {
          "output_type": "display_data",
          "data": {
            "image/png": "[encoded data removed]",
            "text/plain": [
              "<Figure size 432x432 with 2 Axes>"
            ]
          },
          "metadata": {
            "tags": []
          }
        }
      ]
    },
    {
      "cell_type": "markdown",
      "metadata": {
        "id": "vgY7aXPhZzNU",
        "colab_type": "text"
      },
      "source": [
        "## Aplicando a Normalização"
      ]
    },
    {
      "cell_type": "markdown",
      "metadata": {
        "id": "udccaeGeatkd",
        "colab_type": "text"
      },
      "source": [
        "A coluna 'number' está assim distribuída: "
      ]
    },
    {
      "cell_type": "code",
      "metadata": {
        "id": "J221iLNzYjY6",
        "colab_type": "code",
        "outputId": "2f0996be-01c9-4af9-f84c-3beaa43237c0",
        "colab": {
          "base_uri": "https://localhost:8080/",
          "height": 170
        }
      },
      "source": [
        "dataset['number'].describe()"
      ],
      "execution_count": 0,
      "outputs": [
        {
          "output_type": "execute_result",
          "data": {
            "text/plain": [
              "count    6422.000000\n",
              "mean      108.815178\n",
              "std       191.142482\n",
              "min         0.000000\n",
              "25%         3.000000\n",
              "50%        24.497000\n",
              "75%       114.000000\n",
              "max       998.000000\n",
              "Name: number, dtype: float64"
            ]
          },
          "metadata": {
            "tags": []
          },
          "execution_count": 22
        }
      ]
    },
    {
      "cell_type": "markdown",
      "metadata": {
        "id": "CYdoXWizzYuw",
        "colab_type": "text"
      },
      "source": [
        "Padronizando e imputando os dados normalizados"
      ]
    },
    {
      "cell_type": "markdown",
      "metadata": {
        "id": "QFc1t-BoazpD",
        "colab_type": "text"
      },
      "source": [
        "Abaixo temos a normalização aplicada por meio da técnica de padronização transformando os dados da coluna 'number' e imputando os dados padronizados para a uma nova coluna 'number_norm':"
      ]
    },
    {
      "cell_type": "code",
      "metadata": {
        "id": "w5_rpAcYjLUl",
        "colab_type": "code",
        "outputId": "6bd3506a-fe0e-4d91-a4da-25ca2ecf214e",
        "colab": {
          "base_uri": "https://localhost:8080/",
          "height": 170
        }
      },
      "source": [
        "# Normalizando e imputando os dados\n",
        "from sklearn.preprocessing import StandardScaler, MinMaxScaler\n",
        "scaler = MinMaxScaler()\n",
        "dataset['number_norm'] = scaler.fit_transform(dataset[['number']])\n",
        "dataset['number_norm'].describe()"
      ],
      "execution_count": 0,
      "outputs": [
        {
          "output_type": "execute_result",
          "data": {
            "text/plain": [
              "count    6422.000000\n",
              "mean        0.109033\n",
              "std         0.191526\n",
              "min         0.000000\n",
              "25%         0.003006\n",
              "50%         0.024546\n",
              "75%         0.114228\n",
              "max         1.000000\n",
              "Name: number_norm, dtype: float64"
            ]
          },
          "metadata": {
            "tags": []
          },
          "execution_count": 23
        }
      ]
    },
    {
      "cell_type": "code",
      "metadata": {
        "id": "WZF-3IMmjj-m",
        "colab_type": "code",
        "outputId": "58bc2f27-41cf-4a64-d550-f42ea97271c3",
        "colab": {
          "base_uri": "https://localhost:8080/",
          "height": 170
        }
      },
      "source": [
        "# Desvio padrão padronizado para 1\n",
        "scaler = StandardScaler()\n",
        "dataset['number_norm'] = scaler.fit_transform(dataset[['number']])\n",
        "dataset['number_norm'].describe()"
      ],
      "execution_count": 0,
      "outputs": [
        {
          "output_type": "execute_result",
          "data": {
            "text/plain": [
              "count    6.422000e+03\n",
              "mean     3.031093e-16\n",
              "std      1.000078e+00\n",
              "min     -5.693326e-01\n",
              "25%     -5.536363e-01\n",
              "50%     -4.411617e-01\n",
              "75%      2.712754e-02\n",
              "max      4.652310e+00\n",
              "Name: number_norm, dtype: float64"
            ]
          },
          "metadata": {
            "tags": []
          },
          "execution_count": 24
        }
      ]
    },
    {
      "cell_type": "markdown",
      "metadata": {
        "id": "1PhI6MsUtq3g",
        "colab_type": "text"
      },
      "source": [
        "## Aplicando a Discretização"
      ]
    },
    {
      "cell_type": "markdown",
      "metadata": {
        "id": "0X5KFrLOdRwl",
        "colab_type": "text"
      },
      "source": [
        "Montando 8 intervalos da coluna 'number':"
      ]
    },
    {
      "cell_type": "code",
      "metadata": {
        "id": "W8AcueQqwUwY",
        "colab_type": "code",
        "outputId": "37e187e8-9371-4254-be5a-bb732b0bb407",
        "colab": {
          "base_uri": "https://localhost:8080/",
          "height": 170
        }
      },
      "source": [
        "#Intervalos\n",
        "dataset['number_range'] = pd.cut(dataset['number'],8)\n",
        "dataset['number_range'].value_counts()"
      ],
      "execution_count": 0,
      "outputs": [
        {
          "output_type": "execute_result",
          "data": {
            "text/plain": [
              "(-0.998, 124.75]    4908\n",
              "(124.75, 249.5]      627\n",
              "(249.5, 374.25]      287\n",
              "(374.25, 499.0]      198\n",
              "(499.0, 623.75]      129\n",
              "(623.75, 748.5]      107\n",
              "(748.5, 873.25]       85\n",
              "(873.25, 998.0]       81\n",
              "Name: number_range, dtype: int64"
            ]
          },
          "metadata": {
            "tags": []
          },
          "execution_count": 25
        }
      ]
    },
    {
      "cell_type": "code",
      "metadata": {
        "id": "HhRSrRhyaMiI",
        "colab_type": "code",
        "outputId": "cde8ec82-8c11-415e-f977-cb8c559a6b60",
        "colab": {
          "base_uri": "https://localhost:8080/",
          "height": 408
        }
      },
      "source": [
        "#Gráfico que mostra os 8 intervalos\n",
        "counts = dataset['number_range'].value_counts()\n",
        "counts.plot.bar(figsize=(10,5))"
      ],
      "execution_count": 0,
      "outputs": [
        {
          "output_type": "execute_result",
          "data": {
            "text/plain": [
              "<matplotlib.axes._subplots.AxesSubplot at 0x7fa3f2b51b38>"
            ]
          },
          "metadata": {
            "tags": []
          },
          "execution_count": 26
        },
        {
          "output_type": "display_data",
          "data": {
            "image/png": "[encoded data removed]",
            "text/plain": [
              "<Figure size 720x360 with 1 Axes>"
            ]
          },
          "metadata": {
            "tags": []
          }
        }
      ]
    },
    {
      "cell_type": "code",
      "metadata": {
        "id": "HwUQ5_5qcZso",
        "colab_type": "code",
        "outputId": "cd1ca83e-a0c9-4b01-a10b-fb694abd61ea",
        "colab": {
          "base_uri": "https://localhost:8080/",
          "height": 170
        }
      },
      "source": [
        "# Descrevendo a coluna 'number'\n",
        "dataset['number'].describe()"
      ],
      "execution_count": 0,
      "outputs": [
        {
          "output_type": "execute_result",
          "data": {
            "text/plain": [
              "count    6422.000000\n",
              "mean      108.815178\n",
              "std       191.142482\n",
              "min         0.000000\n",
              "25%         3.000000\n",
              "50%        24.497000\n",
              "75%       114.000000\n",
              "max       998.000000\n",
              "Name: number, dtype: float64"
            ]
          },
          "metadata": {
            "tags": []
          },
          "execution_count": 27
        }
      ]
    },
    {
      "cell_type": "code",
      "metadata": {
        "id": "9xAU10fLdHb4",
        "colab_type": "code",
        "outputId": "5d7e2a2f-f18d-4f56-fb77-ab507756d7e4",
        "colab": {
          "base_uri": "https://localhost:8080/",
          "height": 170
        }
      },
      "source": [
        "# Realizando a Discretização da coluna 'number' \n",
        "dataset['number_range_disc'] = pd.qcut(dataset['number'],8)\n",
        "dataset['number_range_disc'].value_counts()"
      ],
      "execution_count": 0,
      "outputs": [
        {
          "output_type": "execute_result",
          "data": {
            "text/plain": [
              "(-0.001, 1.0]     831\n",
              "(3.0, 9.0]        807\n",
              "(24.497, 54.0]    805\n",
              "(1.0, 3.0]        805\n",
              "(54.0, 114.0]     804\n",
              "(278.0, 998.0]    801\n",
              "(114.0, 278.0]    801\n",
              "(9.0, 24.497]     768\n",
              "Name: number_range_disc, dtype: int64"
            ]
          },
          "metadata": {
            "tags": []
          },
          "execution_count": 28
        }
      ]
    },
    {
      "cell_type": "code",
      "metadata": {
        "id": "u80BLLBjflhK",
        "colab_type": "code",
        "outputId": "b815e8f7-4b17-40cb-fa94-3542c80830e9",
        "colab": {
          "base_uri": "https://localhost:8080/",
          "height": 398
        }
      },
      "source": [
        "# Gráfico com os dados discretizados\n",
        "counts = dataset['number_range_disc'].value_counts()\n",
        "counts.plot.bar(figsize=(10,5))"
      ],
      "execution_count": 0,
      "outputs": [
        {
          "output_type": "execute_result",
          "data": {
            "text/plain": [
              "<matplotlib.axes._subplots.AxesSubplot at 0x7fa3f282d518>"
            ]
          },
          "metadata": {
            "tags": []
          },
          "execution_count": 29
        },
        {
          "output_type": "display_data",
          "data": {
            "image/png": "[encoded data removed]",
            "text/plain": [
              "<Figure size 720x360 with 1 Axes>"
            ]
          },
          "metadata": {
            "tags": []
          }
        }
      ]
    },
    {
      "cell_type": "markdown",
      "metadata": {
        "id": "pm23Be4SgbY9",
        "colab_type": "text"
      },
      "source": [
        "## Estatísticas descritivas com visualização dos dados"
      ]
    },
    {
      "cell_type": "markdown",
      "metadata": {
        "id": "7lUn0I92pMj7",
        "colab_type": "text"
      },
      "source": [
        "Detectando e tratando outliers\n",
        "\n",
        "Utilizando o método z-score robusto na coluna 'number'"
      ]
    },
    {
      "cell_type": "code",
      "metadata": {
        "id": "9ckgZApLtBXe",
        "colab_type": "code",
        "outputId": "a42466da-348a-4662-d6b7-1cc4b9d8c3ce",
        "colab": {
          "base_uri": "https://localhost:8080/",
          "height": 170
        }
      },
      "source": [
        "# Descrevendo a coluna \"number\", onde são atribuídos todos os casos de incêndios\n",
        "# registrados\n",
        "dataset['number'].describe()"
      ],
      "execution_count": 0,
      "outputs": [
        {
          "output_type": "execute_result",
          "data": {
            "text/plain": [
              "count    6422.000000\n",
              "mean      108.815178\n",
              "std       191.142482\n",
              "min         0.000000\n",
              "25%         3.000000\n",
              "50%        24.497000\n",
              "75%       114.000000\n",
              "max       998.000000\n",
              "Name: number, dtype: float64"
            ]
          },
          "metadata": {
            "tags": []
          },
          "execution_count": 30
        }
      ]
    },
    {
      "cell_type": "code",
      "metadata": {
        "id": "nD8D6ylZvrOq",
        "colab_type": "code",
        "outputId": "995ad647-8a1c-4139-9492-7a446b0d4007",
        "colab": {
          "base_uri": "https://localhost:8080/",
          "height": 282
        }
      },
      "source": [
        "dataset['number'].plot.box()"
      ],
      "execution_count": 0,
      "outputs": [
        {
          "output_type": "execute_result",
          "data": {
            "text/plain": [
              "<matplotlib.axes._subplots.AxesSubplot at 0x7fa3f27f3e48>"
            ]
          },
          "metadata": {
            "tags": []
          },
          "execution_count": 31
        },
        {
          "output_type": "display_data",
          "data": {
            "image/png": "[encoded data removed]",
            "text/plain": [
              "<Figure size 432x288 with 1 Axes>"
            ]
          },
          "metadata": {
            "tags": []
          }
        }
      ]
    },
    {
      "cell_type": "code",
      "metadata": {
        "id": "BsNySBPSnBr1",
        "colab_type": "code",
        "outputId": "6070b562-70fd-4d80-e7c0-77a434c2a3e9",
        "colab": {
          "base_uri": "https://localhost:8080/",
          "height": 34
        }
      },
      "source": [
        "dataset2 = dataset\n",
        "mad = abs(dataset2['number'] - dataset2['number'].median()).median()*(1/0.6745)\n",
        "print(mad)"
      ],
      "execution_count": 0,
      "outputs": [
        {
          "output_type": "stream",
          "text": [
            "34.83617494440326\n"
          ],
          "name": "stdout"
        }
      ]
    },
    {
      "cell_type": "code",
      "metadata": {
        "id": "22Fhhh19op_G",
        "colab_type": "code",
        "outputId": "46bfede1-327b-4b6e-d48e-7b7a760892a1",
        "colab": {
          "base_uri": "https://localhost:8080/",
          "height": 34
        }
      },
      "source": [
        "dataset3 = dataset2[abs(dataset2['number']-dataset2['number'].median())/mad < 3.5]\n",
        "print(len(dataset3))"
      ],
      "execution_count": 0,
      "outputs": [
        {
          "output_type": "stream",
          "text": [
            "5064\n"
          ],
          "name": "stdout"
        }
      ]
    },
    {
      "cell_type": "code",
      "metadata": {
        "id": "y6TcQ7HHo6F8",
        "colab_type": "code",
        "outputId": "baf35ef4-3be9-425d-cd8a-b3443f597fd3",
        "colab": {
          "base_uri": "https://localhost:8080/",
          "height": 170
        }
      },
      "source": [
        "dataset3['number'].describe()"
      ],
      "execution_count": 0,
      "outputs": [
        {
          "output_type": "execute_result",
          "data": {
            "text/plain": [
              "count    5064.000000\n",
              "mean       28.784177\n",
              "std        36.715157\n",
              "min         0.000000\n",
              "25%         2.000000\n",
              "50%        11.000000\n",
              "75%        44.000000\n",
              "max       146.000000\n",
              "Name: number, dtype: float64"
            ]
          },
          "metadata": {
            "tags": []
          },
          "execution_count": 34
        }
      ]
    },
    {
      "cell_type": "code",
      "metadata": {
        "id": "2Mq1IRMdwHIx",
        "colab_type": "code",
        "outputId": "19d6e437-613b-4aeb-f0f6-c2ca71b99054",
        "colab": {
          "base_uri": "https://localhost:8080/",
          "height": 282
        }
      },
      "source": [
        "dataset3['number'].plot.box()"
      ],
      "execution_count": 0,
      "outputs": [
        {
          "output_type": "execute_result",
          "data": {
            "text/plain": [
              "<matplotlib.axes._subplots.AxesSubplot at 0x7fa3f279ef98>"
            ]
          },
          "metadata": {
            "tags": []
          },
          "execution_count": 35
        },
        {
          "output_type": "display_data",
          "data": {
            "image/png": "[encoded data removed]",
            "text/plain": [
              "<Figure size 432x288 with 1 Axes>"
            ]
          },
          "metadata": {
            "tags": []
          }
        }
      ]
    },
    {
      "cell_type": "markdown",
      "metadata": {
        "id": "nkOHER1Qtz-m",
        "colab_type": "text"
      },
      "source": [
        "Observamos acima a detecção de outliers, onde o tratamento foi realizado e criada uma nova base. A partir de agora a será utilizada essa nova base de dados (dataset3) para apresentarmos informações com dados menos discrepantes.\n",
        "\n",
        "Verificamos também que na descrição dessa nova base que o valor mínimo (min) de zero siginifica que não houve caso de incêndio, e vale ressaltar a queda drástica do valor máximo (max) de 998.0 para 146.0 após o tratamento.\n",
        "\n",
        "Abaixo vamos observar onde e em que época ocorreu o mínimo e o máximo de casos de incêncios:"
      ]
    },
    {
      "cell_type": "code",
      "metadata": {
        "id": "aWwfPX7DvNSK",
        "colab_type": "code",
        "outputId": "94814c83-0bb4-4999-acf1-9b84d849b193",
        "colab": {
          "base_uri": "https://localhost:8080/",
          "height": 102
        }
      },
      "source": [
        "print('Maior número de casos de incêndios registrados: ')\n",
        "print('Ano: ',dataset3[dataset3['number'] ==  dataset3['number'].max()]['year'].iloc[0])\n",
        "print('Mês: ',dataset3[dataset3['number'] ==  dataset3['number'].max()]['month'].iloc[0])\n",
        "print('Estado: ',dataset3[dataset3['number'] ==  dataset3['number'].max()]['state'].iloc[0])\n",
        "print('Total de casos: ', dataset3['number'].max())"
      ],
      "execution_count": 0,
      "outputs": [
        {
          "output_type": "stream",
          "text": [
            "Maior número de casos de incêndios registrados: \n",
            "Ano:  2002\n",
            "Mês:  Julho\n",
            "Estado:  Amazonas\n",
            "Total de casos:  146.0\n"
          ],
          "name": "stdout"
        }
      ]
    },
    {
      "cell_type": "code",
      "metadata": {
        "id": "sVgl0L_QMIbN",
        "colab_type": "code",
        "outputId": "74d633c7-c993-4012-873c-05379c5df04a",
        "colab": {
          "base_uri": "https://localhost:8080/",
          "height": 102
        }
      },
      "source": [
        "print('Onde não houve caso de incêndio registrado: ')\n",
        "print('Ano: ',dataset3[dataset3['number'] ==  dataset3['number'].min()]['year'].iloc[0])\n",
        "print('Mês: ',dataset3[dataset3['number'] ==  dataset3['number'].min()]['month'].iloc[0])\n",
        "print('Estado: ',dataset3[dataset3['number'] ==  dataset3['number'].min()]['state'].iloc[0])\n",
        "print('Total de casos: ',dataset3['number'].min())"
      ],
      "execution_count": 0,
      "outputs": [
        {
          "output_type": "stream",
          "text": [
            "Onde não houve caso de incêndio registrado: \n",
            "Ano:  1998\n",
            "Mês:  Janeiro\n",
            "Estado:  Acre\n",
            "Total de casos:  0.0\n"
          ],
          "name": "stdout"
        }
      ]
    },
    {
      "cell_type": "code",
      "metadata": {
        "id": "179IPm7oq4JH",
        "colab_type": "code",
        "outputId": "30178342-c721-4333-faec-bd9975a25079",
        "colab": {
          "base_uri": "https://localhost:8080/",
          "height": 34
        }
      },
      "source": [
        "# Soma de todos os casos de incêndios registrados dentro do intervalo \n",
        "# de 1998 a 2017\n",
        "dataset3.number.sum()"
      ],
      "execution_count": 0,
      "outputs": [
        {
          "output_type": "execute_result",
          "data": {
            "text/plain": [
              "145763.073"
            ]
          },
          "metadata": {
            "tags": []
          },
          "execution_count": 38
        }
      ]
    },
    {
      "cell_type": "code",
      "metadata": {
        "id": "nm3UY0OmT68Y",
        "colab_type": "code",
        "outputId": "0636ff47-465c-4c78-9282-783b1f4d2f72",
        "colab": {
          "base_uri": "https://localhost:8080/",
          "height": 85
        }
      },
      "source": [
        "# Variância de todos os casos de incêndios registrados dentro do intervalo \n",
        "# de 1998 a 2017\n",
        "dataset3.var()"
      ],
      "execution_count": 0,
      "outputs": [
        {
          "output_type": "execute_result",
          "data": {
            "text/plain": [
              "year             33.359541\n",
              "number         1348.002748\n",
              "number_norm       0.036901\n",
              "dtype: float64"
            ]
          },
          "metadata": {
            "tags": []
          },
          "execution_count": 39
        }
      ]
    },
    {
      "cell_type": "code",
      "metadata": {
        "id": "7e1jpA8JU2JA",
        "colab_type": "code",
        "outputId": "14c0004f-5a98-48ce-a0f0-32c52af3660b",
        "colab": {
          "base_uri": "https://localhost:8080/",
          "height": 142
        }
      },
      "source": [
        "# Após verificar a variância acima, constatamos através da covariância abaixo \n",
        "# que os valores dos atributos das colunas \"year\", \"number\" e \"number_norm\" estão assossiados\n",
        "dataset3.cov()"
      ],
      "execution_count": 0,
      "outputs": [
        {
          "output_type": "execute_result",
          "data": {
            "text/html": [
              "<div>\n",
              "<style scoped>\n",
              "    .dataframe tbody tr th:only-of-type {\n",
              "        vertical-align: middle;\n",
              "    }\n",
              "\n",
              "    .dataframe tbody tr th {\n",
              "        vertical-align: top;\n",
              "    }\n",
              "\n",
              "    .dataframe thead th {\n",
              "        text-align: right;\n",
              "    }\n",
              "</style>\n",
              "<table border=\"1\" class=\"dataframe\">\n",
              "  <thead>\n",
              "    <tr style=\"text-align: right;\">\n",
              "      <th></th>\n",
              "      <th>year</th>\n",
              "      <th>number</th>\n",
              "      <th>number_norm</th>\n",
              "    </tr>\n",
              "  </thead>\n",
              "  <tbody>\n",
              "    <tr>\n",
              "      <th>year</th>\n",
              "      <td>33.359541</td>\n",
              "      <td>28.172363</td>\n",
              "      <td>0.147401</td>\n",
              "    </tr>\n",
              "    <tr>\n",
              "      <th>number</th>\n",
              "      <td>28.172363</td>\n",
              "      <td>1348.002748</td>\n",
              "      <td>7.052894</td>\n",
              "    </tr>\n",
              "    <tr>\n",
              "      <th>number_norm</th>\n",
              "      <td>0.147401</td>\n",
              "      <td>7.052894</td>\n",
              "      <td>0.036901</td>\n",
              "    </tr>\n",
              "  </tbody>\n",
              "</table>\n",
              "</div>"
            ],
            "text/plain": [
              "                  year       number  number_norm\n",
              "year         33.359541    28.172363     0.147401\n",
              "number       28.172363  1348.002748     7.052894\n",
              "number_norm   0.147401     7.052894     0.036901"
            ]
          },
          "metadata": {
            "tags": []
          },
          "execution_count": 40
        }
      ]
    },
    {
      "cell_type": "code",
      "metadata": {
        "id": "HOX83BRe9Ca3",
        "colab_type": "code",
        "outputId": "5c5f5967-c15a-41be-c0e9-533a5a9bbba2",
        "colab": {
          "base_uri": "https://localhost:8080/",
          "height": 442
        }
      },
      "source": [
        "# Soma dos casos de incêndios por estado\n",
        "dataset3.groupby('state')['number'].sum()"
      ],
      "execution_count": 0,
      "outputs": [
        {
          "output_type": "execute_result",
          "data": {
            "text/plain": [
              "state\n",
              "Acre                 2726.030\n",
              "Alagoas              4139.000\n",
              "Amapa                2790.576\n",
              "Amazonas             5111.129\n",
              "Bahia                6185.226\n",
              "Ceara                4117.063\n",
              "Distrito Federal     3059.000\n",
              "Espirito Santo       5600.000\n",
              "Goias                6700.520\n",
              "Maranhao             4365.131\n",
              "Mato Grosso          9908.028\n",
              "Minas Gerais         8429.258\n",
              "Paraiba             14259.918\n",
              "Pará                 4172.144\n",
              "Pernambuco           4463.000\n",
              "Piau                 4854.747\n",
              "Rio                 20073.865\n",
              "Rondonia             4425.429\n",
              "Roraima              6261.074\n",
              "Santa Catarina       6801.852\n",
              "Sao Paulo            9071.198\n",
              "Sergipe              3039.000\n",
              "Tocantins            5209.885\n",
              "Name: number, dtype: float64"
            ]
          },
          "metadata": {
            "tags": []
          },
          "execution_count": 41
        }
      ]
    },
    {
      "cell_type": "code",
      "metadata": {
        "id": "gXFj0DJb9iml",
        "colab_type": "code",
        "outputId": "d74bae8e-f69d-47cb-cb7e-5b882eb95e29",
        "colab": {
          "base_uri": "https://localhost:8080/",
          "height": 418
        }
      },
      "source": [
        "# Gráfico da soma dos casos de incêndios por estado de forma ordenada\n",
        "dataset3.groupby('state')['number'].sum().nlargest(23).sort_values(ascending=False).plot.bar(figsize=(10,5))"
      ],
      "execution_count": 0,
      "outputs": [
        {
          "output_type": "execute_result",
          "data": {
            "text/plain": [
              "<matplotlib.axes._subplots.AxesSubplot at 0x7fa3f2712d30>"
            ]
          },
          "metadata": {
            "tags": []
          },
          "execution_count": 42
        },
        {
          "output_type": "display_data",
          "data": {
            "image/png": "[encoded data removed]",
            "text/plain": [
              "<Figure size 720x360 with 1 Axes>"
            ]
          },
          "metadata": {
            "tags": []
          }
        }
      ]
    },
    {
      "cell_type": "code",
      "metadata": {
        "id": "ygTRn0LbKRaH",
        "colab_type": "code",
        "outputId": "fa47bef2-a2c5-48b8-d009-08ed7dfd2b8d",
        "colab": {
          "base_uri": "https://localhost:8080/",
          "height": 442
        }
      },
      "source": [
        "# Média dos casos de incêndios por estado\n",
        "dataset3.groupby('state')['number'].mean()"
      ],
      "execution_count": 0,
      "outputs": [
        {
          "output_type": "execute_result",
          "data": {
            "text/plain": [
              "state\n",
              "Acre                13.169227\n",
              "Alagoas             17.538136\n",
              "Amapa               14.310646\n",
              "Amazonas            27.929667\n",
              "Bahia               48.702567\n",
              "Ceara               22.746204\n",
              "Distrito Federal    12.961864\n",
              "Espirito Santo      23.829787\n",
              "Goias               40.609212\n",
              "Maranhao            22.500675\n",
              "Mato Grosso         36.560989\n",
              "Minas Gerais        51.086412\n",
              "Paraiba             38.749777\n",
              "Pará                21.071434\n",
              "Pernambuco          25.502857\n",
              "Piau                28.225273\n",
              "Rio                 32.587443\n",
              "Rondonia            22.127145\n",
              "Roraima             34.591569\n",
              "Santa Catarina      34.180161\n",
              "Sao Paulo           63.434951\n",
              "Sergipe             12.768908\n",
              "Tocantins           29.105503\n",
              "Name: number, dtype: float64"
            ]
          },
          "metadata": {
            "tags": []
          },
          "execution_count": 43
        }
      ]
    },
    {
      "cell_type": "code",
      "metadata": {
        "id": "0rHb4IUPD3Cq",
        "colab_type": "code",
        "outputId": "986d8fd9-8334-40a6-d71b-b89c88baf8a0",
        "colab": {
          "base_uri": "https://localhost:8080/",
          "height": 418
        }
      },
      "source": [
        "# Gráfico da média dos casos de incêndios por estado de forma ordenada\n",
        "dataset3.groupby('state')['number'].mean().nlargest(23).sort_values(ascending=False).plot.bar(figsize=(10,5))"
      ],
      "execution_count": 0,
      "outputs": [
        {
          "output_type": "execute_result",
          "data": {
            "text/plain": [
              "<matplotlib.axes._subplots.AxesSubplot at 0x7fa3f2525f60>"
            ]
          },
          "metadata": {
            "tags": []
          },
          "execution_count": 44
        },
        {
          "output_type": "display_data",
          "data": {
            "image/png": "[encoded data removed]",
            "text/plain": [
              "<Figure size 720x360 with 1 Axes>"
            ]
          },
          "metadata": {
            "tags": []
          }
        }
      ]
    },
    {
      "cell_type": "code",
      "metadata": {
        "id": "wlfg5URo-9Gd",
        "colab_type": "code",
        "outputId": "f1975571-0dad-4f41-ab72-d62eccdfffba",
        "colab": {
          "base_uri": "https://localhost:8080/",
          "height": 442
        }
      },
      "source": [
        "# Mediana dos casos de incêndio por estado\n",
        "dataset3.groupby('state')['number'].median()"
      ],
      "execution_count": 0,
      "outputs": [
        {
          "output_type": "execute_result",
          "data": {
            "text/plain": [
              "state\n",
              "Acre                 1.9760\n",
              "Alagoas              9.5000\n",
              "Amapa                2.0000\n",
              "Amazonas            10.0000\n",
              "Bahia               24.0000\n",
              "Ceara                5.0000\n",
              "Distrito Federal     2.0000\n",
              "Espirito Santo      12.0000\n",
              "Goias               29.0000\n",
              "Maranhao             5.0000\n",
              "Mato Grosso          8.9800\n",
              "Minas Gerais        48.0000\n",
              "Paraiba             27.5000\n",
              "Pará                 7.6015\n",
              "Pernambuco          11.0000\n",
              "Piau                12.0000\n",
              "Rio                 19.0000\n",
              "Rondonia             8.0000\n",
              "Roraima             14.0000\n",
              "Santa Catarina      26.0000\n",
              "Sao Paulo           61.0000\n",
              "Sergipe              3.0000\n",
              "Tocantins            8.0000\n",
              "Name: number, dtype: float64"
            ]
          },
          "metadata": {
            "tags": []
          },
          "execution_count": 45
        }
      ]
    },
    {
      "cell_type": "code",
      "metadata": {
        "id": "uoslnFpLEgY_",
        "colab_type": "code",
        "outputId": "304c945b-9f8f-4846-c690-c663607e3166",
        "colab": {
          "base_uri": "https://localhost:8080/",
          "height": 418
        }
      },
      "source": [
        "# Gráfico da mediana dos casos de incêndios por estado de forma ordenada\n",
        "dataset3.groupby('state')['number'].median().nlargest(23).sort_values(ascending=False).plot.bar(figsize=(10,5))"
      ],
      "execution_count": 0,
      "outputs": [
        {
          "output_type": "execute_result",
          "data": {
            "text/plain": [
              "<matplotlib.axes._subplots.AxesSubplot at 0x7fa3f267c7f0>"
            ]
          },
          "metadata": {
            "tags": []
          },
          "execution_count": 46
        },
        {
          "output_type": "display_data",
          "data": {
            "image/png": "[encoded data removed]",
            "text/plain": [
              "<Figure size 720x360 with 1 Axes>"
            ]
          },
          "metadata": {
            "tags": []
          }
        }
      ]
    },
    {
      "cell_type": "code",
      "metadata": {
        "id": "D05TUY-lE2qB",
        "colab_type": "code",
        "outputId": "46ebaa86-d28f-4d20-b42c-9b692761b95d",
        "colab": {
          "base_uri": "https://localhost:8080/",
          "height": 442
        }
      },
      "source": [
        "# Desvio Padrão dos casos de incêndio por estado\n",
        "dataset3.groupby('state')['number'].std()"
      ],
      "execution_count": 0,
      "outputs": [
        {
          "output_type": "execute_result",
          "data": {
            "text/plain": [
              "state\n",
              "Acre                27.901185\n",
              "Alagoas             22.012246\n",
              "Amapa               30.036604\n",
              "Amazonas            36.248547\n",
              "Bahia               51.276738\n",
              "Ceara               35.842120\n",
              "Distrito Federal    24.214349\n",
              "Espirito Santo      28.161560\n",
              "Goias               40.049798\n",
              "Maranhao            34.422212\n",
              "Mato Grosso         44.782464\n",
              "Minas Gerais        46.016341\n",
              "Paraiba             39.679105\n",
              "Pará                29.916628\n",
              "Pernambuco          33.628442\n",
              "Piau                34.460790\n",
              "Rio                 35.016536\n",
              "Rondonia            33.880070\n",
              "Roraima             42.024621\n",
              "Santa Catarina      30.258540\n",
              "Sao Paulo           38.139779\n",
              "Sergipe             19.497083\n",
              "Tocantins           37.687218\n",
              "Name: number, dtype: float64"
            ]
          },
          "metadata": {
            "tags": []
          },
          "execution_count": 47
        }
      ]
    },
    {
      "cell_type": "code",
      "metadata": {
        "id": "JWtZT-WyGScn",
        "colab_type": "code",
        "outputId": "705202d3-bbf6-46bf-83a7-251d975c81ab",
        "colab": {
          "base_uri": "https://localhost:8080/",
          "height": 418
        }
      },
      "source": [
        "# Gráfico do desvio padrão dos casos de incêndios por estado de forma ordenada\n",
        "dataset3.groupby('state')['number'].std().nlargest(23).sort_values(ascending=False).plot.bar(figsize=(10,5))"
      ],
      "execution_count": 0,
      "outputs": [
        {
          "output_type": "execute_result",
          "data": {
            "text/plain": [
              "<matplotlib.axes._subplots.AxesSubplot at 0x7fa3f2546710>"
            ]
          },
          "metadata": {
            "tags": []
          },
          "execution_count": 48
        },
        {
          "output_type": "display_data",
          "data": {
            "image/png": "[encoded data removed]",
            "text/plain": [
              "<Figure size 720x360 with 1 Axes>"
            ]
          },
          "metadata": {
            "tags": []
          }
        }
      ]
    },
    {
      "cell_type": "markdown",
      "metadata": {
        "id": "56DxNAyuyloa",
        "colab_type": "text"
      },
      "source": [
        "Nos gráficos acima observamos a soma, média, mediana, desvio padrão, variância e covariância. Verificamos que o Rio de Janeiro possui maior número de casos de incêndios registrados, e que São Paulo registrou a maior média e mediana. Apesar disso, Mato Grosso é o estado que possui maior consistência de casos de incêndios em comparação com Rio e São Paulo, devido a sua maior variabilidade dos dados, como mostrado no gráfico abaixo:"
      ]
    },
    {
      "cell_type": "code",
      "metadata": {
        "id": "Qtof5_uWwB3B",
        "colab_type": "code",
        "outputId": "c9e8c70d-b5d8-47df-8d21-9cebf00eba11",
        "colab": {
          "base_uri": "https://localhost:8080/",
          "height": 638
        }
      },
      "source": [
        "# Junção dos valores dos atributos das colunas year, state e month\n",
        "juncao_valores = dataset3.groupby(by = ['year','state', 'month']).sum().reset_index()\n",
        "plt.figure(figsize=(30,10))\n",
        "sns.boxplot(x = 'state', order = ['Acre', 'Alagoas', 'Amapa', 'Amazonas', 'Bahia', 'Ceara',\n",
        "       'Distrito Federal', 'Espirito Santo', 'Goias', 'Maranhao',\n",
        "       'Mato Grosso', 'Minas Gerais', 'Pará', 'Paraiba', 'Pernambuco',\n",
        "       'Piau', 'Rio', 'Rondonia', 'Roraima', 'Santa Catarina',\n",
        "       'Sao Paulo', 'Sergipe', 'Tocantins'], \n",
        "            y = 'number', data = juncao_valores)\n",
        "\n",
        "plt.title('Estados com mais registros de incêndios', fontsize = 12)\n",
        "plt.xlabel('Estados', fontsize = 10)\n",
        "plt.ylabel('Casos de incêncios', fontsize =10)"
      ],
      "execution_count": 0,
      "outputs": [
        {
          "output_type": "execute_result",
          "data": {
            "text/plain": [
              "Text(0, 0.5, 'Casos de incêncios')"
            ]
          },
          "metadata": {
            "tags": []
          },
          "execution_count": 49
        },
        {
          "output_type": "display_data",
          "data": {
            "image/png": "[encoded data removed]",
            "text/plain": [
              "<Figure size 2160x720 with 1 Axes>"
            ]
          },
          "metadata": {
            "tags": []
          }
        }
      ]
    },
    {
      "cell_type": "markdown",
      "metadata": {
        "id": "gQLrFv7t4gBU",
        "colab_type": "text"
      },
      "source": [
        "No gráfico abaixo, observamos também os casos de maiores registros de incêndios por estado, destacando em vermelho aqueles estados que fazem parte direta (denominados de \"Amazonia Legal\") da floresta amazônica."
      ]
    },
    {
      "cell_type": "code",
      "metadata": {
        "id": "ClsDw9eFwGQx",
        "colab_type": "code",
        "outputId": "e40f3f81-3f35-4e92-90ed-0bb6b9ca90a6",
        "colab": {
          "base_uri": "https://localhost:8080/",
          "height": 488
        }
      },
      "source": [
        "estados_incendios = ['Amazonas', 'Pará', 'Roraima', 'Amapa', 'Rondonia', 'Acre', 'Tocantins', 'Mato Grosso', 'Maranhao']\n",
        "\n",
        "estados = dataset3.groupby('state')['number'].sum().sort_values(ascending=False)\n",
        "\n",
        "ax = plt.gca()\n",
        "colors = ['C2' if i not in estados_incendios else 'r' for i in estados.index]\n",
        "estados.plot(kind='bar',ax=ax,color=colors, figsize=(12, 6))\n",
        "h,l = ax.get_legend_handles_labels()\n",
        "ax.set_title(\"Estados com mais registros de incêndios\")\n",
        "ax.set_ylabel('Casos de incêndios')\n",
        "ax.set_xlabel('Estados')"
      ],
      "execution_count": 0,
      "outputs": [
        {
          "output_type": "execute_result",
          "data": {
            "text/plain": [
              "Text(0.5, 0, 'Estados')"
            ]
          },
          "metadata": {
            "tags": []
          },
          "execution_count": 50
        },
        {
          "output_type": "display_data",
          "data": {
            "image/png": "[encoded data removed]",
            "text/plain": [
              "<Figure size 864x432 with 1 Axes>"
            ]
          },
          "metadata": {
            "tags": []
          }
        }
      ]
    },
    {
      "cell_type": "markdown",
      "metadata": {
        "colab_type": "text",
        "id": "v9kWSbd1tMAB"
      },
      "source": [
        "O gráfico a seguir mostra quais são os piores meses de casos de incêndios registrados, de acordo com a soma dos números de incêndios maiores que a média, levando em consideração o desvio padrão:"
      ]
    },
    {
      "cell_type": "code",
      "metadata": {
        "id": "H9aFFJ5NROHR",
        "colab_type": "code",
        "outputId": "571aafe0-54f5-4428-8652-03e92f98107f",
        "colab": {
          "base_uri": "https://localhost:8080/",
          "height": 386
        }
      },
      "source": [
        "maior_numero_incendios_mes = dataset3.groupby(['month'], as_index=False).sum() \n",
        "maior_numero_incendios_mes.drop('year',axis=1, inplace=True)\n",
        "\n",
        "meses_mais_incendios = maior_numero_incendios_mes[maior_numero_incendios_mes['number']>maior_numero_incendios_mes['number'].mean()+maior_numero_incendios_mes['number'].std()]\n",
        "print('Meses com mais registros de incêndios: ')\n",
        "\n",
        "sns.catplot(x='month', y='number', kind='bar',data=dataset3[['month','number']], aspect=2, estimator=sum);"
      ],
      "execution_count": 0,
      "outputs": [
        {
          "output_type": "stream",
          "text": [
            "Meses com mais registros de incêndios: \n"
          ],
          "name": "stdout"
        },
        {
          "output_type": "display_data",
          "data": {
            "image/png": "[encoded data removed]",
            "text/plain": [
              "<Figure size 720x360 with 1 Axes>"
            ]
          },
          "metadata": {
            "tags": []
          }
        }
      ]
    },
    {
      "cell_type": "markdown",
      "metadata": {
        "id": "Pbt8sZv20Sis",
        "colab_type": "text"
      },
      "source": [
        "No gráfico a seguir, comparamos o total de casos de incêndios no país com os estados que fazem parte da Floresta Amazônica. "
      ]
    },
    {
      "cell_type": "code",
      "metadata": {
        "colab_type": "code",
        "outputId": "9fcfe91d-889c-4a35-e094-6b784adbf783",
        "id": "fbTjNnPszlRS",
        "colab": {
          "base_uri": "https://localhost:8080/",
          "height": 517
        }
      },
      "source": [
        "casos_de_incendios_mes = dataset3.groupby('month')['number'].sum()\n",
        "casos_de_incendios_amazonia = dataset3[dataset3.state.isin(estados_incendios)].groupby('month')['number'].sum()\n",
        "\n",
        "ax = plt.gca()\n",
        "casos_de_incendios_mes.plot(kind='bar',x='month',y='number', ax=ax, stacked=True, figsize=(13, 7))\n",
        "casos_de_incendios_amazonia.plot(kind='bar',x='month',y='number', ax=ax, stacked=True, color='g', figsize=(13, 7))\n",
        "ax.set_title(\"Comparação entre o total de casos de incêndios no país e o total de incêndios nos estados que compõem a Amazonia\")\n",
        "ax.set_ylabel('Casos de incêndios')\n",
        "ax.set_xlabel('Mês')\n",
        "ax.legend([\"Total de casos de incêndios no país\", \"Casos de incêndios apenas na Amazonia\"])"
      ],
      "execution_count": 0,
      "outputs": [
        {
          "output_type": "execute_result",
          "data": {
            "text/plain": [
              "<matplotlib.legend.Legend at 0x7fa3f1fd59b0>"
            ]
          },
          "metadata": {
            "tags": []
          },
          "execution_count": 52
        },
        {
          "output_type": "display_data",
          "data": {
            "image/png": "[encoded data removed]",
            "text/plain": [
              "<Figure size 936x504 with 1 Axes>"
            ]
          },
          "metadata": {
            "tags": []
          }
        }
      ]
    },
    {
      "cell_type": "markdown",
      "metadata": {
        "id": "4Km6MrP0LSZO",
        "colab_type": "text"
      },
      "source": [
        "Verificamos abaixo o total de casos de incêndios no país, onde pelo gráfico podemos observar os anos considerados mais críticos, ou seja, que houveram mais casos de incêndios no país.\n",
        "Constata-se que entre os anos de 2011 e 2016 foram os mais críticos."
      ]
    },
    {
      "cell_type": "code",
      "metadata": {
        "id": "k4xhOsJgRCmu",
        "colab_type": "code",
        "outputId": "bd7cdcff-0240-453d-c4b8-e2f2ada090b7",
        "colab": {
          "base_uri": "https://localhost:8080/",
          "height": 350
        }
      },
      "source": [
        "sns.set_style('whitegrid')\n",
        "\n",
        "from matplotlib.pyplot import MaxNLocator\n",
        "\n",
        "plt.figure(figsize=(14,5))\n",
        "\n",
        "ax = sns.lineplot(x = 'year', y = 'number', data = juncao_valores, estimator = 'sum', color = 'purple', lw = 2, \n",
        "                  err_style = None)\n",
        "\n",
        "plt.title('Total de casos de incêndios no país entre os anos de 1998 a 2017', fontsize = 13)\n",
        "plt.xlabel('Anos', fontsize = 10)\n",
        "plt.ylabel('Casos de incêndios', fontsize = 10)\n",
        "\n",
        "ax.xaxis.set_major_locator(plt.MaxNLocator(19))"
      ],
      "execution_count": 0,
      "outputs": [
        {
          "output_type": "display_data",
          "data": {
            "image/png": "[encoded data removed]",
            "text/plain": [
              "<Figure size 1008x360 with 1 Axes>"
            ]
          },
          "metadata": {
            "tags": []
          }
        }
      ]
    }
  ]
}
