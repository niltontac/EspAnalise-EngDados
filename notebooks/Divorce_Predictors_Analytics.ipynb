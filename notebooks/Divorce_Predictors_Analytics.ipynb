{
  "nbformat": 4,
  "nbformat_minor": 0,
  "metadata": {
    "colab": {
      "name": "Divorce Predictors Analytics.ipynb",
      "provenance": [],
      "private_outputs": true,
      "collapsed_sections": [],
      "include_colab_link": true
    },
    "kernelspec": {
      "name": "python3",
      "display_name": "Python 3"
    }
  },
  "cells": [
    {
      "cell_type": "markdown",
      "metadata": {
        "id": "view-in-github",
        "colab_type": "text"
      },
      "source": [
        "<a href=\"https://colab.research.google.com/github/niltontac/EspAnalise-EngDados/blob/master/Divorce_Predictors_Analytics.ipynb\" target=\"_parent\"><img src=\"https://colab.research.google.com/assets/colab-badge.svg\" alt=\"Open In Colab\"/></a>"
      ]
    },
    {
      "cell_type": "markdown",
      "metadata": {
        "id": "CC8Do551jTvP",
        "colab_type": "text"
      },
      "source": [
        "#Sobre este Conjunto de Dados\n",
        "# **About this Data Set:**\n",
        "\n",
        "###### Neste conjunto de dados, a predição de divórcio foi realizada usando uma Escala de Preditores de Divócio (DPS) baseada no método Gottman de terapia de casais. Do total de 170 participantes, 84 eram divorciados e 86 casados. Os participantes preencheram o \"Formulário de Informações Pessoais\" da DPS.\n",
        "###### A ideia da minha análise é mostrar, baseada nas respostas das pessoas, a probabilidade delas serem casadas ou divorciadas de acordo com o que foi preenchido. No final também mostro o nível de precisão de minha análise.\n",
        "-----------------------------------------\n",
        "###### Within the scope of this research, the divorce prediction was carried out by using the Divorce Predictors Scale (DPS) on the basis of Gottman couples therapy. Of the participants, 84 (49%) were divorced and 86 (51%) were married couples. Participants completed the “Personal Information Form” from DPS. \n",
        "###### The idea of my analysis is to show, based on people's answers, the probabilitly of them being married or divorced, according to what was filled out. At the end also show accuracy level of my analysis.\n",
        "-----------------------------------------\n",
        "###### Fonte | Source: https://archive.ics.uci.edu/ml/datasets/Divorce+Predictors+data+set\n",
        "###### Arquivo | File: divorce.csv  \n",
        "-----------------------------------------\n",
        "# Analista | Analyst: Nilton Thiago de Andrade Coura\n",
        "### Especialização em Análise e Engenharia de Dados - Cesar School/CInUFPE\n",
        "#### Disciplina: Estatística Descritiva dos Dados\n",
        "##### Professor:  Tsang Ing Ren | CIn/UFPE\n",
        "###### Monitor: José Ivson Silva | CIn/UFPE\n"
      ]
    },
    {
      "cell_type": "code",
      "metadata": {
        "id": "8Tr5vBBMsHo6",
        "colab_type": "code",
        "colab": {}
      },
      "source": [
        "# Importando bibliotecas\n",
        "# Importing libraries\n",
        "import pandas as pd\n",
        "import numpy as np\n",
        "import matplotlib.pyplot as plt\n",
        "from sklearn.random_projection import GaussianRandomProjection\n",
        "\n",
        "# Carregando arquivo divorce.csv que contém o conjunto de dados que será analisado\n",
        "# Loading dataset file\n",
        "\n",
        "df = pd.read_csv('https://raw.githubusercontent.com/niltontac/EspAnalise-EngDados/master/data/Divorce_Predictors_Dataset.csv', sep=';', decimal=',', thousands='.', encoding='ISO-8859-1')"
      ],
      "execution_count": 0,
      "outputs": []
    },
    {
      "cell_type": "code",
      "metadata": {
        "id": "62hIhs5ws-sq",
        "colab_type": "code",
        "colab": {}
      },
      "source": [
        "# Visualizando uma \"amostragem\" do conjunto de dados\n",
        "\n",
        "# \"Atr1\", \"Atr2\", \"Atr3\",..., Atr38, AtrN... são as colunas do conjunto. Cada coluna representa uma resposta de cada pergunta respondida \n",
        "# dos participantes, esses representados por cada linha do index (que começa com 0)\n",
        "\n",
        "# \"Class\" é a coluna que corresponde se o participante é casado ou divorciado. Onde \"1\" corresponde a divorcidado e \"0\" a casado\n",
        "\n",
        "# As respostas dos participantes foram classificadas assim: \n",
        "# 0 - não relevante | 1 - pouco relevante | 2 - relevante | 3 - muito relevante | 4 - extremamente relevante\n",
        "\n",
        "# Dataset sample\n",
        "\n",
        "# Columns Atr1, Atr2, Atr3,..., AtrN... tell answers from stakeholders\n",
        "\n",
        "# Column \"Class\" corresponds to wheter the participant is married or divorced. Which \"1\" corresponds to divorced and \"0\" to married\n",
        "\n",
        "df"
      ],
      "execution_count": 0,
      "outputs": []
    },
    {
      "cell_type": "code",
      "metadata": {
        "id": "jgRv1p_qm4LT",
        "colab_type": "code",
        "colab": {}
      },
      "source": [
        "# Dimensão do conjunto de dados - linhas x colunas\n",
        "\n",
        "# Data set size - rows vs columns\n",
        "\n",
        "print(\"rows, columns\", df.shape)"
      ],
      "execution_count": 0,
      "outputs": []
    },
    {
      "cell_type": "code",
      "metadata": {
        "id": "nKcfYqGvKc2L",
        "colab_type": "code",
        "colab": {}
      },
      "source": [
        "# Após análise do dataset original, se faz necessário adequar algumas respostas \n",
        "# do questionário para que não haja influência no resultado da análise que será\n",
        "# realizada, haja vista que as questões a serem analisadas são escolhidas de \n",
        "# forma aleatória\n",
        "\n",
        "df_divorce = df\n",
        "\n",
        "for x in range(len(df_divorce)):\n",
        "  df_divorce.Atr1[x] = 4 - df_divorce.Atr1[x]\n",
        "  df_divorce.Atr2[x] = 4 - df_divorce.Atr2[x]\n",
        "  df_divorce.Atr3[x] = 4 - df_divorce.Atr3[x]\n",
        "  df_divorce.Atr4[x] = 4 - df_divorce.Atr4[x]\n",
        "  df_divorce.Atr5[x] = 4 - df_divorce.Atr5[x]\n",
        "  df_divorce.Atr6[x] = 4 - df_divorce.Atr6[x]\n",
        "  df_divorce.Atr7[x] = 4 - df_divorce.Atr7[x]\n",
        "  df_divorce.Atr8[x] = 4 - df_divorce.Atr8[x]\n",
        "  df_divorce.Atr9[x] = 4 - df_divorce.Atr9[x]\n",
        "  \n",
        "  df_divorce.Atr10[x] = 4 - df_divorce.Atr10[x]\n",
        "  df_divorce.Atr11[x] = 4 - df_divorce.Atr11[x]\n",
        "  df_divorce.Atr12[x] = 4 - df_divorce.Atr12[x]\n",
        "  df_divorce.Atr13[x] = 4 - df_divorce.Atr13[x]\n",
        "  df_divorce.Atr14[x] = 4 - df_divorce.Atr14[x]\n",
        "  df_divorce.Atr15[x] = 4 - df_divorce.Atr15[x]\n",
        "  df_divorce.Atr16[x] = 4 - df_divorce.Atr16[x]\n",
        "  df_divorce.Atr17[x] = 4 - df_divorce.Atr17[x]\n",
        "  df_divorce.Atr18[x] = 4 - df_divorce.Atr18[x]\n",
        "  df_divorce.Atr19[x] = 4 - df_divorce.Atr19[x]\n",
        " \n",
        "  df_divorce.Atr20[x] = 4 - df_divorce.Atr20[x]\n",
        "  df_divorce.Atr21[x] = 4 - df_divorce.Atr21[x]\n",
        "  df_divorce.Atr22[x] = 4 - df_divorce.Atr22[x]\n",
        "  df_divorce.Atr23[x] = 4 - df_divorce.Atr23[x]\n",
        "  df_divorce.Atr24[x] = 4 - df_divorce.Atr24[x]\n",
        "  df_divorce.Atr25[x] = 4 - df_divorce.Atr25[x]\n",
        "  df_divorce.Atr26[x] = 4 - df_divorce.Atr26[x]\n",
        "  df_divorce.Atr27[x] = 4 - df_divorce.Atr27[x]\n",
        "  df_divorce.Atr28[x] = 4 - df_divorce.Atr28[x]\n",
        "  df_divorce.Atr29[x] = 4 - df_divorce.Atr29[x]\n",
        "  \n",
        "  df_divorce.Atr30[x] = 4 - df_divorce.Atr30[x]\n",
        "  df_divorce.Atr31[x] = 4 - df_divorce.Atr31[x]\n",
        "  df_divorce.Atr32[x] = 4 - df_divorce.Atr32[x]\n",
        "  df_divorce.Atr33[x] = 4 - df_divorce.Atr33[x]\n",
        "  df_divorce.Atr34[x] = 4 - df_divorce.Atr34[x]\n",
        "  df_divorce.Atr35[x] = 4 - df_divorce.Atr35[x]\n",
        "  df_divorce.Atr36[x] = 4 - df_divorce.Atr36[x]\n",
        "  df_divorce.Atr37[x] = 4 - df_divorce.Atr37[x]\n",
        "  df_divorce.Atr38[x] = 4 - df_divorce.Atr38[x]\n",
        "  df_divorce.Atr39[x] = 4 - df_divorce.Atr39[x]\n",
        "  \n",
        "  df_divorce.Atr40[x] = 4 - df_divorce.Atr40[x]\n",
        "  df_divorce.Atr41[x] = 4 - df_divorce.Atr41[x]\n",
        "  df_divorce.Atr42[x] = 4 - df_divorce.Atr42[x]\n",
        "  df_divorce.Atr43[x] = 4 - df_divorce.Atr43[x]\n",
        "  df_divorce.Atr44[x] = 4 - df_divorce.Atr44[x]\n",
        "  df_divorce.Atr45[x] = 4 - df_divorce.Atr45[x]\n",
        "  df_divorce.Atr46[x] = 4 - df_divorce.Atr46[x]\n",
        "  df_divorce.Atr47[x] = 4 - df_divorce.Atr47[x]\n",
        "  df_divorce.Atr48[x] = 4 - df_divorce.Atr48[x]\n",
        "  df_divorce.Atr49[x] = 4 - df_divorce.Atr49[x]\n",
        "  \n",
        "  df_divorce.Atr50[x] = 4 - df_divorce.Atr50[x]\n",
        "  df_divorce.Atr51[x] = 4 - df_divorce.Atr51[x]\n",
        "  df_divorce.Atr52[x] = 4 - df_divorce.Atr52[x]\n",
        "  df_divorce.Atr53[x] = 4 - df_divorce.Atr53[x]\n",
        "  df_divorce.Atr54[x] = 4 - df_divorce.Atr54[x]\n",
        "\n",
        "df = df_divorce"
      ],
      "execution_count": 0,
      "outputs": []
    },
    {
      "cell_type": "code",
      "metadata": {
        "id": "R1SKMCpJQb2f",
        "colab_type": "code",
        "colab": {}
      },
      "source": [
        "# Visualizando o dataset com as respostas adequadas a necessidade da análise\n",
        "df"
      ],
      "execution_count": 0,
      "outputs": []
    },
    {
      "cell_type": "code",
      "metadata": {
        "id": "aSJDE7b-wHrB",
        "colab_type": "code",
        "colab": {}
      },
      "source": [
        "# 54 perguntas em 54 colunas (cada pergunta é uma coluna)\n",
        "# 54 questions in 54 colmns\n",
        "questions_list = ['Atr1','Atr2','Atr3','Atr4','Atr5','Atr6','Atr7','Atr8','Atr9','Atr10','Atr11','Atr12','Atr13','Atr14','Atr15','Atr16','Atr17','Atr18','Atr19','Atr20','Atr21','Atr22','Atr23','Atr24','Atr25','Atr26','Atr27','Atr28','Atr29','Atr30','Atr31','Atr32','Atr33','Atr34','Atr35','Atr36','Atr37','Atr38','Atr39','Atr40','Atr41','Atr42','Atr43','Atr44','Atr45','Atr46','Atr47','Atr48','Atr49','Atr50','Atr51','Atr52','Atr53','Atr54']\n",
        "\n",
        "# Truncando 8 colunas de onde o sistema irá selecionar as perguntas de cada coluna de forma aleatória\n",
        "# Selecting 8 random questions from columns \n",
        "truncate_question = np.random.randint(low=0, high=53, size=7)\n",
        "\n",
        "# Concatenando as colunas numa lista\n",
        "# Concatenating list colmns\n",
        "dataset = df.loc[:,['Atr'+str(truncate_question[0]), 'Atr'+str(truncate_question[1]), 'Atr'+str(truncate_question[2]), 'Atr'+str(truncate_question[3]), 'Atr'+str(truncate_question[4]), 'Atr'+str(truncate_question[5]), 'Atr'+str(truncate_question[6]), 'Class']]\n",
        "\n",
        "# Imprimindo as colunas escolhidas pelo sistema de forma aleatória\n",
        "# Printing random questions\n",
        "print(\"truncate_question: \", truncate_question)"
      ],
      "execution_count": 0,
      "outputs": []
    },
    {
      "cell_type": "code",
      "metadata": {
        "id": "sFmcD6GjGiv0",
        "colab_type": "code",
        "colab": {}
      },
      "source": [
        "# Confirmando truncamento\n",
        "# Confirming truncation\n",
        "dataset.head()"
      ],
      "execution_count": 0,
      "outputs": []
    },
    {
      "cell_type": "code",
      "metadata": {
        "id": "jMCCFvurn-0q",
        "colab_type": "code",
        "colab": {}
      },
      "source": [
        "# Dimensão do conjunto de dados pronto para realização de análise\n",
        "\n",
        "# Size of the data set ready to analysis\n",
        "\n",
        "print(\"rows, columns\", dataset.shape)"
      ],
      "execution_count": 0,
      "outputs": []
    },
    {
      "cell_type": "code",
      "metadata": {
        "id": "ZzASoDAuN71H",
        "colab_type": "code",
        "colab": {}
      },
      "source": [
        "# Função que mostra separadamente a quantidade dos participantes casados (valores 0 em 86 linhas) dos divorciados (valores 1 em 84 linhas) contidas na coluna \"Class\"\n",
        "\n",
        "# Function to separate by class between married( values 0 | 86 rows ) and divorced(values 1 | 84 rows)\n",
        "\n",
        "def separate_by_class(dataset):\n",
        "  classes = np.unique(dataset['Class'])\n",
        "\n",
        "  separated = []\n",
        "  for cl in classes:\n",
        "    separated.append(dataset[dataset['Class'] == cl])\n",
        "\n",
        "  return separated\n",
        "\n",
        "separated = separate_by_class(df)\n",
        "print(separated)"
      ],
      "execution_count": 0,
      "outputs": []
    },
    {
      "cell_type": "code",
      "metadata": {
        "id": "iXFPUC0JjNXD",
        "colab_type": "code",
        "colab": {}
      },
      "source": [
        "# Análise de correlação utilizando o dataset após o tratamento dos dados\n",
        "\n",
        "print(df.corr())"
      ],
      "execution_count": 0,
      "outputs": []
    },
    {
      "cell_type": "code",
      "metadata": {
        "id": "imz7qOBokKk0",
        "colab_type": "code",
        "colab": {}
      },
      "source": [
        "# Análise gráfica para demonstrar a correlação de algumas variáveis com as classes\n",
        "\n",
        "fig,ax = plt.subplots(2,2)\n",
        "fig.set_size_inches(12,h=9)\n",
        "for s in separated:\n",
        "  ax[0,0].hist(s['Atr1'])\n",
        "  ax[0,1].hist(s['Atr2'])\n",
        "  ax[1,0].hist(s['Atr3'])\n",
        "  ax[1,1].hist(s['Atr4'])\n",
        "fig.legend(['No', 'Yes'])"
      ],
      "execution_count": 0,
      "outputs": []
    },
    {
      "cell_type": "code",
      "metadata": {
        "id": "m8Gr21FVkQvX",
        "colab_type": "code",
        "colab": {}
      },
      "source": [
        "# Análise gráfica para demonstrar a correlação de algumas variáveis com as classes\n",
        "\n",
        "fig,ax = plt.subplots(2,2)\n",
        "fig.set_size_inches(12,h=9)\n",
        "for s in separated:\n",
        "  ax[0,0].hist(s['Atr5'])\n",
        "  ax[0,1].hist(s['Atr6'])\n",
        "  ax[1,0].hist(s['Atr7'])\n",
        "  ax[1,1].hist(s['Atr8'])\n",
        "fig.legend(['No', 'Yes'])"
      ],
      "execution_count": 0,
      "outputs": []
    },
    {
      "cell_type": "code",
      "metadata": {
        "id": "6nPWGwMwkUbr",
        "colab_type": "code",
        "colab": {}
      },
      "source": [
        "# Análise gráfica para demonstrar a correlação de tuplas de variáveis com as classes\n",
        "\n",
        "fig,ax = plt.subplots(1,2)\n",
        "fig.set_size_inches(10,h=6)\n",
        "for s in separated:\n",
        "  ax[0].scatter(s['Atr1'], s['Atr2'])\n",
        "  ax[1].scatter(s['Atr5'], s['Atr6'])\n",
        "fig.legend(['No', 'Yes'])"
      ],
      "execution_count": 0,
      "outputs": []
    },
    {
      "cell_type": "code",
      "metadata": {
        "id": "y_0g1WUzLlQ5",
        "colab_type": "code",
        "colab": {}
      },
      "source": [
        "# Sumarizar para agrupar e calcular dados estatísticos de cada coluna (que contem as respostas dos participantes referentes as perguntas das colunas selecionadas aleatoriamente pelo sistema) \n",
        "# do dataset (nesse caso eliminando a coluna \"Class\" que é a coluna que contém o resultado probabilístico em função dos dados calculados pelas características das respostas).\n",
        "# Cálculo da média, do desvio padrão e da quantidade total de participantes\n",
        "\n",
        "# Summarize data - Calculate the mean, std and count for each column in a dataset\n",
        "\n",
        "def summarize_dataset(dataset, eliminate_last=True):\n",
        "  if eliminate_last:\n",
        "    columns = dataset.columns[:-1]\n",
        "  else:\n",
        "    columns = dataset.columns\n",
        "  summaries = [(np.mean(dataset[column]), np.std(dataset[column]), len(dataset[column])) for column in dataset.columns]\n",
        "  del(summaries[-1])\n",
        "  return summaries\n",
        "\n",
        "summaries = summarize_dataset(dataset)\n",
        "\n",
        "print(summaries)"
      ],
      "execution_count": 0,
      "outputs": []
    },
    {
      "cell_type": "code",
      "metadata": {
        "id": "51yWG3NuMJK7",
        "colab_type": "code",
        "colab": {}
      },
      "source": [
        "# Novamente sumarizando e agrupando o dataset para calcular dados estatísticos (média, desvio padrão e a quantidade total de participantes). \n",
        "# Mas nesse caso queremos especificamente trazer apenas os resultados da coluna \"Class\". Os valores probabilísticos já foram calculados na função acima \"def summarize_dataset\", \n",
        "# e os resultados guardados na variável \"summaries\"\n",
        "\n",
        "# Summarize data by class\n",
        "\n",
        "def summarize_by_class(dataset):\n",
        "  separated = separate_by_class(dataset)\n",
        "  summaries = dict()\n",
        "  for s in separated:\n",
        "    class_value = np.array(s['Class'])\n",
        "    rows = s[s.columns]\n",
        "    summaries[class_value[0]] = summarize_dataset(rows, eliminate_last=False)\n",
        "  return summaries\n",
        "\n",
        "summaries_by_class = summarize_by_class(dataset)\n",
        "print(summaries_by_class)"
      ],
      "execution_count": 0,
      "outputs": []
    },
    {
      "cell_type": "markdown",
      "metadata": {
        "id": "dF22J8YOJkA2",
        "colab_type": "text"
      },
      "source": [
        "#Probabilidade Gaussiana\n",
        "\n",
        "Gaussian Probabilitly\n",
        "\n",
        "$\n",
        "f(x) = \\frac{1}{\\sigma\\sqrt{2\\pi}}e^{-\\frac{1}{2}(\\frac{(x-\\mu)}{\\sigma})^2}\n",
        "$"
      ]
    },
    {
      "cell_type": "code",
      "metadata": {
        "id": "BBzumoJOMZVJ",
        "colab_type": "code",
        "colab": {}
      },
      "source": [
        "# Definindo a função 'calculate_probabilitly' que vai calcular a probabilidade usando a distribuição Gaussiana\n",
        "\n",
        "# Gaussian Probabilitly - f(x)=1σ2π√e−12((x−μ)σ)2\n",
        "\n",
        "def calculate_probability(x, mean, stdev):\n",
        "\texponent = np.exp(-((x-mean)**2 / (2 * stdev**2 )))\n",
        "\treturn (1 / (np.sqrt(2 * np.pi) * stdev)) * exponent"
      ],
      "execution_count": 0,
      "outputs": []
    },
    {
      "cell_type": "code",
      "metadata": {
        "id": "Z5RQxqCWMqDJ",
        "colab_type": "code",
        "colab": {}
      },
      "source": [
        "# Probabilidade de distribuição por divórcio\n",
        "\n",
        "# Podemos visualizar no gráfico a probabilidade das respostas para as perguntas \n",
        "# selecionadas\n",
        "\n",
        "# Probabilitly distribution by Divorce\n",
        "\n",
        "# Graph shows the trend responses to selected questions\n",
        "\n",
        "x = np.arange(-4.5,10,0.1)\n",
        "for summ in summaries:\n",
        "  y = calculate_probability(x, summ[0], summ[1])\n",
        "  plt.plot(x,y)\n",
        "\n",
        "plt.legend(['Atr'+str(truncate_question[0]), 'Atr'+str(truncate_question[1]), 'Atr'+str(truncate_question[2]), 'Atr'+str(truncate_question[3]), 'Atr'+str(truncate_question[4]), 'Atr'+str(truncate_question[5]), 'Atr'+str(truncate_question[6])])"
      ],
      "execution_count": 0,
      "outputs": []
    },
    {
      "cell_type": "code",
      "metadata": {
        "id": "ig42YOz2Ur1k",
        "colab_type": "code",
        "colab": {}
      },
      "source": [
        "# Probabilidade de distribuição por classe\n",
        "\n",
        "# No gráfico abaixo podemos visualizar a probabilidade das respostas separadas \n",
        "# por classe - Casados | Divorciados \n",
        "\n",
        "# Probabilitly distribution by class\n",
        "\n",
        "n_classes = len(summaries_by_class)\n",
        "fig,ax = plt.subplots(1,n_classes)\n",
        "fig.set_size_inches(18, h=6)\n",
        "\n",
        "classes_name = ['Married', 'Divorced']\n",
        "for c in range(n_classes):\n",
        "  for summ in summaries_by_class[c]:\n",
        "    ax[c].plot(x, calculate_probability(x, summ[0], summ[1]))\n",
        "  ax[c].set_title(classes_name[c])\n",
        "\n",
        "fig.legend(['Atr'+str(truncate_question[0]), 'Atr'+str(truncate_question[1]), 'Atr'+str(truncate_question[2]), 'Atr'+str(truncate_question[3]), 'Atr'+str(truncate_question[4]), 'Atr'+str(truncate_question[5]), 'Atr'+str(truncate_question[6])])\n"
      ],
      "execution_count": 0,
      "outputs": []
    },
    {
      "cell_type": "code",
      "metadata": {
        "id": "Aa8FpaJIubmY",
        "colab_type": "code",
        "colab": {}
      },
      "source": [
        "# Cálculo percentual de precisão\n",
        "\n",
        "# Calculate accuracy percentage\n",
        "\n",
        "def accuracy_metric(actual, predicted):\n",
        "\tcorrect = 0\n",
        "\tfor i in range(len(actual)):\n",
        "\t\tif actual[i] == predicted[i]:\n",
        "\t\t\tcorrect += 1\n",
        "\treturn correct / float(len(actual)) * 100.0"
      ],
      "execution_count": 0,
      "outputs": []
    },
    {
      "cell_type": "code",
      "metadata": {
        "id": "EGrmuZHRqAoO",
        "colab_type": "code",
        "colab": {}
      },
      "source": [
        "# Cálculo da probabilidade de predição\n",
        "\n",
        "# Calculate the probabilities of predicting \n",
        "\n",
        "def calculate_class_probabilities(summaries, row):\n",
        "  total_rows = sum([summaries[label][0][2] for label in summaries])\n",
        "  probabilities = dict()\n",
        "  for class_value, class_summaries in summaries.items():\n",
        "    probabilities[class_value] = summaries[class_value][0][2]/float(total_rows)\n",
        "    for i in range(len(class_summaries)):\n",
        "      mean, stdev, count = class_summaries[i]\n",
        "      probabilities[class_value] *= calculate_probability(row[i], mean, stdev)\n",
        "  return probabilities"
      ],
      "execution_count": 0,
      "outputs": []
    },
    {
      "cell_type": "code",
      "metadata": {
        "id": "ALwlsOPwuQqq",
        "colab_type": "code",
        "colab": {}
      },
      "source": [
        "# Predição da classe para determinada linha\n",
        "\n",
        "# Predict the class for a given row\n",
        "\n",
        "def predict(summaries, row):\n",
        "\n",
        "\tprobabilities = calculate_class_probabilities(summaries, row)\n",
        "\tbest_label, best_prob = None, -1\n",
        "\tfor class_value, probability in probabilities.items():\n",
        "\t\tif best_label is None or probability > best_prob:\n",
        "\t\t\tbest_prob = probability\n",
        "\t\t\tbest_label = class_value\n",
        "\treturn best_label"
      ],
      "execution_count": 0,
      "outputs": []
    },
    {
      "cell_type": "code",
      "metadata": {
        "id": "ehhiSFcjLWq4",
        "colab_type": "code",
        "colab": {}
      },
      "source": [
        "# Dividindo o dataset\n",
        "\n",
        "# Split the dataset\n",
        "\n",
        "def split(dataset):\n",
        "  sz = dataset.shape[0]\n",
        "  sh = np.arange(sz)\n",
        "  np.random.shuffle(sh)\n",
        "  vec = np.zeros((sz),dtype=bool)\n",
        "  vec[sh[:int(sz*0.75)]] = True\n",
        "  train = dataset.loc[vec]\n",
        "  test = dataset.loc[~vec]\n",
        "\n",
        "  return train, test\n"
      ],
      "execution_count": 0,
      "outputs": []
    },
    {
      "cell_type": "code",
      "metadata": {
        "id": "h2H8yCmLXn4l",
        "colab_type": "code",
        "colab": {}
      },
      "source": [
        "train,test = split(dataset)"
      ],
      "execution_count": 0,
      "outputs": []
    },
    {
      "cell_type": "markdown",
      "metadata": {
        "id": "s4sYcp9qxScD",
        "colab_type": "text"
      },
      "source": [
        "#Naive Bayes"
      ]
    },
    {
      "cell_type": "code",
      "metadata": {
        "id": "sOGM8TwiuFJt",
        "colab_type": "code",
        "colab": {}
      },
      "source": [
        "# Naive Bayes Algorithm\n",
        "def naive_bayes(train, test):\n",
        "  summarize = summarize_by_class(train)\n",
        "  predictions = list()\n",
        "  vec = np.zeros(test.shape[0], dtype=bool)\n",
        "  for i in range(test.shape[0]):\n",
        "    vec[i] = True\n",
        "    row = np.array(test.loc[vec])[0]\n",
        "    output = predict(summarize, row)\n",
        "    predictions.append(output)\n",
        "    vec[i] = False\n",
        "  return(predictions)"
      ],
      "execution_count": 0,
      "outputs": []
    },
    {
      "cell_type": "code",
      "metadata": {
        "id": "Cx9QaXP0M8gN",
        "colab_type": "code",
        "colab": {}
      },
      "source": [
        "predictions = naive_bayes(train,test)\n",
        "\n",
        "print(predictions)\n",
        "actual = np.array(test['Class'])\n",
        "print(actual)\n",
        "\n",
        "print('Accuracy = ', accuracy_metric(actual, predictions))"
      ],
      "execution_count": 0,
      "outputs": []
    },
    {
      "cell_type": "markdown",
      "metadata": {
        "id": "qYoD03PPntYn",
        "colab_type": "text"
      },
      "source": [
        "#Intervalo de Confiança"
      ]
    },
    {
      "cell_type": "code",
      "metadata": {
        "id": "3NGZIqrRgdOl",
        "colab_type": "code",
        "colab": {}
      },
      "source": [
        "# Para realizar o intervalo de confiança, será gerada uma amostra aleatória de  \n",
        "# 30 das 170 respostas do questionário para a questão 35, no qual tem uma forte \n",
        "# tendência de que o casal irá se separar caso a resposta seja mais próxima ou \n",
        "# igual a 4\n",
        "\n",
        "# Questão 35 - I can insult my spouse during our discussions.\n",
        "\n",
        "question_list = df['Atr35']\n",
        "index_answers = np.random.randint(low=0, high=169, size=30)\n",
        "print('index_answers: ', index_answers)"
      ],
      "execution_count": 0,
      "outputs": []
    },
    {
      "cell_type": "code",
      "metadata": {
        "id": "lei38svFp1iR",
        "colab_type": "code",
        "colab": {}
      },
      "source": [
        "# Respostas da amostra selecionada\n",
        "\n",
        "question_list[index_answers]"
      ],
      "execution_count": 0,
      "outputs": []
    },
    {
      "cell_type": "markdown",
      "metadata": {
        "id": "eB9QStNnaQdS",
        "colab_type": "text"
      },
      "source": [
        "#Teste de hipóteses"
      ]
    },
    {
      "cell_type": "markdown",
      "metadata": {
        "id": "lBa2ExVu5G9S",
        "colab_type": "text"
      },
      "source": [
        "Distribuição NORMAL"
      ]
    },
    {
      "cell_type": "code",
      "metadata": {
        "id": "wGZZ-gxBqWig",
        "colab_type": "code",
        "colab": {}
      },
      "source": [
        "# Tendo em vista que o desvio padrão é conhecido, a amostra é aleatória e  \n",
        "# n >= 30 (população de 170), será aplicado a Distribuição Normal para \n",
        "# calcular z0\n",
        "\n",
        "import scipy.stats as st\n",
        "\n",
        "def calc_z0(xm, mi, sigma, n):\n",
        "  return (xm - mi)/(sigma/np.sqrt(n)) "
      ],
      "execution_count": 0,
      "outputs": []
    },
    {
      "cell_type": "code",
      "metadata": {
        "id": "BuKyvrx9vZfK",
        "colab_type": "code",
        "colab": {}
      },
      "source": [
        "# Função da Distribuição Normal que vai decidir se uma hipótese sobre um \n",
        "# parâmetro populacional deve ou não ser rejeitada com base nos dados da amostra\n",
        "# selecionada\n",
        "\n",
        "def decision_normal(z0, alpha):\n",
        "  p = st.norm.cdf(z0)\n",
        "\n",
        "  reject = ((p < (alpha/2)) | (p > (1.0 - alpha/2)))\n",
        "\n",
        "  if(reject):\n",
        "    print('H_0 rejeitada.')\n",
        "    print('Pois o valor de z0 está fora dos níveis de significância')\n",
        "  else: \n",
        "    print('H_0 não rejeitada.')\n",
        "    print('Pois o valor de z0 está dentro dos níveis de significância')"
      ],
      "execution_count": 0,
      "outputs": []
    },
    {
      "cell_type": "code",
      "metadata": {
        "id": "K4TapJHS19ZM",
        "colab_type": "code",
        "colab": {}
      },
      "source": [
        "# Média das respostas para a questão 35, referente a população inteira(170)\n",
        "\n",
        "mean_population = question_list.mean()\n",
        "print(mean_population)"
      ],
      "execution_count": 0,
      "outputs": []
    },
    {
      "cell_type": "code",
      "metadata": {
        "id": "lGuAYaje3D5o",
        "colab_type": "code",
        "colab": {}
      },
      "source": [
        "# Desvio Padrão das respostas para a questão 35, referente a população inteira(170)\n",
        "\n",
        "std_population = question_list.std()\n",
        "print(std_population)"
      ],
      "execution_count": 0,
      "outputs": []
    },
    {
      "cell_type": "code",
      "metadata": {
        "id": "qRgQWN_A4OWP",
        "colab_type": "code",
        "colab": {}
      },
      "source": [
        "# Média das respostas para a questão 35, agora referente a população da amostra\n",
        "# selecionada (30)\n",
        "\n",
        "mean_sample = question_list[index_answers].mean()\n",
        "print(mean_sample)"
      ],
      "execution_count": 0,
      "outputs": []
    },
    {
      "cell_type": "code",
      "metadata": {
        "id": "spcY_51z5FZO",
        "colab_type": "code",
        "colab": {}
      },
      "source": [
        "# Desvio Padrão das respostas para a questão 35, agora referente a população da amostra\n",
        "# selecionada (30)\n",
        "\n",
        "std_sample = question_list[index_answers].std()\n",
        "print(std_sample)"
      ],
      "execution_count": 0,
      "outputs": []
    },
    {
      "cell_type": "code",
      "metadata": {
        "id": "PfISWjDt5pXl",
        "colab_type": "code",
        "colab": {}
      },
      "source": [
        "# Calculando z0 passando os parâmetros média e desvio padrão da população \n",
        "# inteira, média da amostra, e o tamanho da amostra\n",
        "\n",
        "z0 = calc_z0(mean_sample, mean_population, std_population, len(question_list))\n",
        "print(z0)\n"
      ],
      "execution_count": 0,
      "outputs": []
    },
    {
      "cell_type": "code",
      "metadata": {
        "id": "xY04zCKo9PRq",
        "colab_type": "code",
        "colab": {}
      },
      "source": [
        "# Distribuição Normal a partir do valor de z0 e alpha igual a \n",
        "# 0.05 (nível de significância 95%)\n",
        "\n",
        "decision_gaussiana = decision_normal(z0, 0.05)\n",
        "print(decision_gaussiana)"
      ],
      "execution_count": 0,
      "outputs": []
    },
    {
      "cell_type": "code",
      "metadata": {
        "id": "7jEEktb1ag_F",
        "colab_type": "code",
        "colab": {}
      },
      "source": [
        "# Distribuição Normal a partir do valor de z0 e alpha igual a \n",
        "# 0.01 (nível de significância 99%)\n",
        "\n",
        "decision_gaussiana = decision_normal(z0, 0.01)\n",
        "print(decision_gaussiana)"
      ],
      "execution_count": 0,
      "outputs": []
    },
    {
      "cell_type": "markdown",
      "metadata": {
        "id": "fxtiklT6bHyO",
        "colab_type": "text"
      },
      "source": [
        "Distribuição t-STUDENT Bicaudal"
      ]
    },
    {
      "cell_type": "code",
      "metadata": {
        "id": "n8_h4Sfeep43",
        "colab_type": "code",
        "colab": {}
      },
      "source": [
        "# Função t-Student para calcular t0\n",
        "\n",
        "def calc_t0(xm, mi, s, n):\n",
        "  return (xm - mi)/(s/np.sqrt(n))"
      ],
      "execution_count": 0,
      "outputs": []
    },
    {
      "cell_type": "code",
      "metadata": {
        "id": "aBzz6cZugkzc",
        "colab_type": "code",
        "colab": {}
      },
      "source": [
        "# Função da Distribuição t-Student que vai decidir se uma hipótese sobre um \n",
        "# parâmetro populacional deve ou não ser rejeitada com base nos dados da amostra\n",
        "# selecionada\n",
        "# Nesse caso a fórmula para bicaudal\n",
        "\n",
        "def decision_tstudent_bicaudal(t0, alpha, df):\n",
        "  p = st.t.cdf(t0, df)\n",
        "  reject = ((p < (alpha/2)) | (p > (1.0 - alpha/2)))\n",
        "  return reject\n"
      ],
      "execution_count": 0,
      "outputs": []
    },
    {
      "cell_type": "code",
      "metadata": {
        "colab_type": "code",
        "id": "Ob4NHotmmGQ7",
        "colab": {}
      },
      "source": [
        "# Necessário gerar novamente o intervalo de confiança de forma aleatória com 35\n",
        "# respostas para o questão 35\n",
        "\n",
        "index_answers_t = np.random.randint(low=0, high=169, size=35)\n",
        "print('index_answers_t: ', index_answers_t)"
      ],
      "execution_count": 0,
      "outputs": []
    },
    {
      "cell_type": "code",
      "metadata": {
        "colab_type": "code",
        "id": "lg2aUQIumnAc",
        "colab": {}
      },
      "source": [
        "# Respostas da amostra selecionada\n",
        "\n",
        "question_list[index_answers_t]"
      ],
      "execution_count": 0,
      "outputs": []
    },
    {
      "cell_type": "code",
      "metadata": {
        "id": "VrEj83-knIw9",
        "colab_type": "code",
        "colab": {}
      },
      "source": [
        "# Média das respostas para a questão 35, agora referente a população da amostra\n",
        "# selecionada (35)\n",
        "\n",
        "mean_sample_t = question_list[index_answers_t].mean()\n",
        "print(mean_sample_t)"
      ],
      "execution_count": 0,
      "outputs": []
    },
    {
      "cell_type": "code",
      "metadata": {
        "id": "12klsZr7o7ij",
        "colab_type": "code",
        "colab": {}
      },
      "source": [
        "# Calculando t0 passando os parâmetros média e desvio padrão da amostra, média \n",
        "# da população, e o tamanho da amostra selecionada"
      ],
      "execution_count": 0,
      "outputs": []
    }
  ]
}
