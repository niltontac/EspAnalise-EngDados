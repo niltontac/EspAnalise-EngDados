{
  "nbformat": 4,
  "nbformat_minor": 0,
  "metadata": {
    "colab": {
      "name": "MedicalAppointmentNoShows - AplicandoModelosDeClassificacao_PCA_GB_TREE_RF.ipynb",
      "provenance": [],
      "collapsed_sections": [],
      "authorship_tag": "ABX9TyNaTtN9eyvnSC+WmeTZHwX8",
      "include_colab_link": true
    },
    "kernelspec": {
      "name": "python3",
      "display_name": "Python 3"
    }
  },
  "cells": [
    {
      "cell_type": "markdown",
      "metadata": {
        "id": "view-in-github",
        "colab_type": "text"
      },
      "source": [
        "<a href=\"https://colab.research.google.com/github/niltontac/EspAnalise-EngDados/blob/master/MedicalAppointmentNoShows_ModelosDeClassificacao_PCA_GB_TREE_RF.ipynb\" target=\"_parent\"><img src=\"https://colab.research.google.com/assets/colab-badge.svg\" alt=\"Open In Colab\"/></a>"
      ]
    },
    {
      "cell_type": "markdown",
      "metadata": {
        "id": "nwfWpf5WfaW2",
        "colab_type": "text"
      },
      "source": [
        "#Medical Appointment No-shows\n",
        "#Aplicando Modelos de Classificação"
      ]
    },
    {
      "cell_type": "markdown",
      "metadata": {
        "id": "gHT4R81Ify-O",
        "colab_type": "text"
      },
      "source": [
        "###Importando Bibliotecas"
      ]
    },
    {
      "cell_type": "code",
      "metadata": {
        "id": "ek0ohkcTfGEu",
        "colab_type": "code",
        "colab": {}
      },
      "source": [
        "import pandas as pd\n",
        "import seaborn as sns\n",
        "import matplotlib.pyplot as plt\n",
        "import numpy as np\n",
        "from sklearn.ensemble import RandomForestClassifier\n",
        "from sklearn.ensemble import GradientBoostingClassifier\n",
        "from sklearn.tree import DecisionTreeClassifier\n",
        "from sklearn.model_selection import train_test_split, cross_validate\n",
        "from sklearn.feature_selection import SelectFromModel\n",
        "from sklearn.decomposition import PCA"
      ],
      "execution_count": 30,
      "outputs": []
    },
    {
      "cell_type": "markdown",
      "metadata": {
        "id": "-d1cFJTfj6Yr",
        "colab_type": "text"
      },
      "source": [
        "###Carregando dataset"
      ]
    },
    {
      "cell_type": "code",
      "metadata": {
        "id": "HO-58s0XhbYD",
        "colab_type": "code",
        "colab": {
          "base_uri": "https://localhost:8080/",
          "height": 626
        },
        "outputId": "494cf649-30d1-41aa-8ffe-08fb5a545766"
      },
      "source": [
        "data = pd.read_csv('https://raw.githubusercontent.com/niltontac/EspAnalise-EngDados/master/data/KaggleV2-May-2016.csv')\n",
        "data"
      ],
      "execution_count": 31,
      "outputs": [
        {
          "output_type": "execute_result",
          "data": {
            "text/html": [
              "<div>\n",
              "<style scoped>\n",
              "    .dataframe tbody tr th:only-of-type {\n",
              "        vertical-align: middle;\n",
              "    }\n",
              "\n",
              "    .dataframe tbody tr th {\n",
              "        vertical-align: top;\n",
              "    }\n",
              "\n",
              "    .dataframe thead th {\n",
              "        text-align: right;\n",
              "    }\n",
              "</style>\n",
              "<table border=\"1\" class=\"dataframe\">\n",
              "  <thead>\n",
              "    <tr style=\"text-align: right;\">\n",
              "      <th></th>\n",
              "      <th>PatientId</th>\n",
              "      <th>AppointmentID</th>\n",
              "      <th>Gender</th>\n",
              "      <th>ScheduledDay</th>\n",
              "      <th>AppointmentDay</th>\n",
              "      <th>Age</th>\n",
              "      <th>Neighbourhood</th>\n",
              "      <th>Scholarship</th>\n",
              "      <th>Hipertension</th>\n",
              "      <th>Diabetes</th>\n",
              "      <th>Alcoholism</th>\n",
              "      <th>Handcap</th>\n",
              "      <th>SMS_received</th>\n",
              "      <th>No-show</th>\n",
              "    </tr>\n",
              "  </thead>\n",
              "  <tbody>\n",
              "    <tr>\n",
              "      <th>0</th>\n",
              "      <td>2.987250e+13</td>\n",
              "      <td>5642903</td>\n",
              "      <td>F</td>\n",
              "      <td>2016-04-29T18:38:08Z</td>\n",
              "      <td>2016-04-29T00:00:00Z</td>\n",
              "      <td>62</td>\n",
              "      <td>JARDIM DA PENHA</td>\n",
              "      <td>0</td>\n",
              "      <td>1</td>\n",
              "      <td>0</td>\n",
              "      <td>0</td>\n",
              "      <td>0</td>\n",
              "      <td>0</td>\n",
              "      <td>No</td>\n",
              "    </tr>\n",
              "    <tr>\n",
              "      <th>1</th>\n",
              "      <td>5.589978e+14</td>\n",
              "      <td>5642503</td>\n",
              "      <td>M</td>\n",
              "      <td>2016-04-29T16:08:27Z</td>\n",
              "      <td>2016-04-29T00:00:00Z</td>\n",
              "      <td>56</td>\n",
              "      <td>JARDIM DA PENHA</td>\n",
              "      <td>0</td>\n",
              "      <td>0</td>\n",
              "      <td>0</td>\n",
              "      <td>0</td>\n",
              "      <td>0</td>\n",
              "      <td>0</td>\n",
              "      <td>No</td>\n",
              "    </tr>\n",
              "    <tr>\n",
              "      <th>2</th>\n",
              "      <td>4.262962e+12</td>\n",
              "      <td>5642549</td>\n",
              "      <td>F</td>\n",
              "      <td>2016-04-29T16:19:04Z</td>\n",
              "      <td>2016-04-29T00:00:00Z</td>\n",
              "      <td>62</td>\n",
              "      <td>MATA DA PRAIA</td>\n",
              "      <td>0</td>\n",
              "      <td>0</td>\n",
              "      <td>0</td>\n",
              "      <td>0</td>\n",
              "      <td>0</td>\n",
              "      <td>0</td>\n",
              "      <td>No</td>\n",
              "    </tr>\n",
              "    <tr>\n",
              "      <th>3</th>\n",
              "      <td>8.679512e+11</td>\n",
              "      <td>5642828</td>\n",
              "      <td>F</td>\n",
              "      <td>2016-04-29T17:29:31Z</td>\n",
              "      <td>2016-04-29T00:00:00Z</td>\n",
              "      <td>8</td>\n",
              "      <td>PONTAL DE CAMBURI</td>\n",
              "      <td>0</td>\n",
              "      <td>0</td>\n",
              "      <td>0</td>\n",
              "      <td>0</td>\n",
              "      <td>0</td>\n",
              "      <td>0</td>\n",
              "      <td>No</td>\n",
              "    </tr>\n",
              "    <tr>\n",
              "      <th>4</th>\n",
              "      <td>8.841186e+12</td>\n",
              "      <td>5642494</td>\n",
              "      <td>F</td>\n",
              "      <td>2016-04-29T16:07:23Z</td>\n",
              "      <td>2016-04-29T00:00:00Z</td>\n",
              "      <td>56</td>\n",
              "      <td>JARDIM DA PENHA</td>\n",
              "      <td>0</td>\n",
              "      <td>1</td>\n",
              "      <td>1</td>\n",
              "      <td>0</td>\n",
              "      <td>0</td>\n",
              "      <td>0</td>\n",
              "      <td>No</td>\n",
              "    </tr>\n",
              "    <tr>\n",
              "      <th>...</th>\n",
              "      <td>...</td>\n",
              "      <td>...</td>\n",
              "      <td>...</td>\n",
              "      <td>...</td>\n",
              "      <td>...</td>\n",
              "      <td>...</td>\n",
              "      <td>...</td>\n",
              "      <td>...</td>\n",
              "      <td>...</td>\n",
              "      <td>...</td>\n",
              "      <td>...</td>\n",
              "      <td>...</td>\n",
              "      <td>...</td>\n",
              "      <td>...</td>\n",
              "    </tr>\n",
              "    <tr>\n",
              "      <th>110522</th>\n",
              "      <td>2.572134e+12</td>\n",
              "      <td>5651768</td>\n",
              "      <td>F</td>\n",
              "      <td>2016-05-03T09:15:35Z</td>\n",
              "      <td>2016-06-07T00:00:00Z</td>\n",
              "      <td>56</td>\n",
              "      <td>MARIA ORTIZ</td>\n",
              "      <td>0</td>\n",
              "      <td>0</td>\n",
              "      <td>0</td>\n",
              "      <td>0</td>\n",
              "      <td>0</td>\n",
              "      <td>1</td>\n",
              "      <td>No</td>\n",
              "    </tr>\n",
              "    <tr>\n",
              "      <th>110523</th>\n",
              "      <td>3.596266e+12</td>\n",
              "      <td>5650093</td>\n",
              "      <td>F</td>\n",
              "      <td>2016-05-03T07:27:33Z</td>\n",
              "      <td>2016-06-07T00:00:00Z</td>\n",
              "      <td>51</td>\n",
              "      <td>MARIA ORTIZ</td>\n",
              "      <td>0</td>\n",
              "      <td>0</td>\n",
              "      <td>0</td>\n",
              "      <td>0</td>\n",
              "      <td>0</td>\n",
              "      <td>1</td>\n",
              "      <td>No</td>\n",
              "    </tr>\n",
              "    <tr>\n",
              "      <th>110524</th>\n",
              "      <td>1.557663e+13</td>\n",
              "      <td>5630692</td>\n",
              "      <td>F</td>\n",
              "      <td>2016-04-27T16:03:52Z</td>\n",
              "      <td>2016-06-07T00:00:00Z</td>\n",
              "      <td>21</td>\n",
              "      <td>MARIA ORTIZ</td>\n",
              "      <td>0</td>\n",
              "      <td>0</td>\n",
              "      <td>0</td>\n",
              "      <td>0</td>\n",
              "      <td>0</td>\n",
              "      <td>1</td>\n",
              "      <td>No</td>\n",
              "    </tr>\n",
              "    <tr>\n",
              "      <th>110525</th>\n",
              "      <td>9.213493e+13</td>\n",
              "      <td>5630323</td>\n",
              "      <td>F</td>\n",
              "      <td>2016-04-27T15:09:23Z</td>\n",
              "      <td>2016-06-07T00:00:00Z</td>\n",
              "      <td>38</td>\n",
              "      <td>MARIA ORTIZ</td>\n",
              "      <td>0</td>\n",
              "      <td>0</td>\n",
              "      <td>0</td>\n",
              "      <td>0</td>\n",
              "      <td>0</td>\n",
              "      <td>1</td>\n",
              "      <td>No</td>\n",
              "    </tr>\n",
              "    <tr>\n",
              "      <th>110526</th>\n",
              "      <td>3.775115e+14</td>\n",
              "      <td>5629448</td>\n",
              "      <td>F</td>\n",
              "      <td>2016-04-27T13:30:56Z</td>\n",
              "      <td>2016-06-07T00:00:00Z</td>\n",
              "      <td>54</td>\n",
              "      <td>MARIA ORTIZ</td>\n",
              "      <td>0</td>\n",
              "      <td>0</td>\n",
              "      <td>0</td>\n",
              "      <td>0</td>\n",
              "      <td>0</td>\n",
              "      <td>1</td>\n",
              "      <td>No</td>\n",
              "    </tr>\n",
              "  </tbody>\n",
              "</table>\n",
              "<p>110527 rows × 14 columns</p>\n",
              "</div>"
            ],
            "text/plain": [
              "           PatientId  AppointmentID Gender  ... Handcap SMS_received  No-show\n",
              "0       2.987250e+13        5642903      F  ...       0            0       No\n",
              "1       5.589978e+14        5642503      M  ...       0            0       No\n",
              "2       4.262962e+12        5642549      F  ...       0            0       No\n",
              "3       8.679512e+11        5642828      F  ...       0            0       No\n",
              "4       8.841186e+12        5642494      F  ...       0            0       No\n",
              "...              ...            ...    ...  ...     ...          ...      ...\n",
              "110522  2.572134e+12        5651768      F  ...       0            1       No\n",
              "110523  3.596266e+12        5650093      F  ...       0            1       No\n",
              "110524  1.557663e+13        5630692      F  ...       0            1       No\n",
              "110525  9.213493e+13        5630323      F  ...       0            1       No\n",
              "110526  3.775115e+14        5629448      F  ...       0            1       No\n",
              "\n",
              "[110527 rows x 14 columns]"
            ]
          },
          "metadata": {
            "tags": []
          },
          "execution_count": 31
        }
      ]
    },
    {
      "cell_type": "markdown",
      "metadata": {
        "id": "qlT09PcokQHT",
        "colab_type": "text"
      },
      "source": [
        "###Análise exploratória dos dados"
      ]
    },
    {
      "cell_type": "markdown",
      "metadata": {
        "id": "NkWz3WZqKxQx",
        "colab_type": "text"
      },
      "source": [
        "####Tratando e enriquecendo os dados"
      ]
    },
    {
      "cell_type": "code",
      "metadata": {
        "id": "NgY3B3QvhtFO",
        "colab_type": "code",
        "colab": {
          "base_uri": "https://localhost:8080/",
          "height": 34
        },
        "outputId": "e9c151fd-5881-40b0-e0dd-40ce9246458f"
      },
      "source": [
        "# Dimensões do dataset (linhas x colunas)\n",
        "data.shape"
      ],
      "execution_count": 32,
      "outputs": [
        {
          "output_type": "execute_result",
          "data": {
            "text/plain": [
              "(110527, 14)"
            ]
          },
          "metadata": {
            "tags": []
          },
          "execution_count": 32
        }
      ]
    },
    {
      "cell_type": "code",
      "metadata": {
        "id": "XWjwJgtllQQe",
        "colab_type": "code",
        "colab": {
          "base_uri": "https://localhost:8080/",
          "height": 377
        },
        "outputId": "be0e60ff-7806-4cab-f705-74bbcb47d2c5"
      },
      "source": [
        "# Informações do dataset\n",
        "data.info()"
      ],
      "execution_count": 33,
      "outputs": [
        {
          "output_type": "stream",
          "text": [
            "<class 'pandas.core.frame.DataFrame'>\n",
            "RangeIndex: 110527 entries, 0 to 110526\n",
            "Data columns (total 14 columns):\n",
            " #   Column          Non-Null Count   Dtype  \n",
            "---  ------          --------------   -----  \n",
            " 0   PatientId       110527 non-null  float64\n",
            " 1   AppointmentID   110527 non-null  int64  \n",
            " 2   Gender          110527 non-null  object \n",
            " 3   ScheduledDay    110527 non-null  object \n",
            " 4   AppointmentDay  110527 non-null  object \n",
            " 5   Age             110527 non-null  int64  \n",
            " 6   Neighbourhood   110527 non-null  object \n",
            " 7   Scholarship     110527 non-null  int64  \n",
            " 8   Hipertension    110527 non-null  int64  \n",
            " 9   Diabetes        110527 non-null  int64  \n",
            " 10  Alcoholism      110527 non-null  int64  \n",
            " 11  Handcap         110527 non-null  int64  \n",
            " 12  SMS_received    110527 non-null  int64  \n",
            " 13  No-show         110527 non-null  object \n",
            "dtypes: float64(1), int64(8), object(5)\n",
            "memory usage: 11.8+ MB\n"
          ],
          "name": "stdout"
        }
      ]
    },
    {
      "cell_type": "code",
      "metadata": {
        "id": "wdxLYOuuA2iX",
        "colab_type": "code",
        "colab": {
          "base_uri": "https://localhost:8080/",
          "height": 295
        },
        "outputId": "976d8e76-2770-4306-c33a-eb0861af1d98"
      },
      "source": [
        "# Descrição resumida do dataset incluíndo tendência central, dispersão e distribuição\n",
        "data.describe()"
      ],
      "execution_count": 34,
      "outputs": [
        {
          "output_type": "execute_result",
          "data": {
            "text/html": [
              "<div>\n",
              "<style scoped>\n",
              "    .dataframe tbody tr th:only-of-type {\n",
              "        vertical-align: middle;\n",
              "    }\n",
              "\n",
              "    .dataframe tbody tr th {\n",
              "        vertical-align: top;\n",
              "    }\n",
              "\n",
              "    .dataframe thead th {\n",
              "        text-align: right;\n",
              "    }\n",
              "</style>\n",
              "<table border=\"1\" class=\"dataframe\">\n",
              "  <thead>\n",
              "    <tr style=\"text-align: right;\">\n",
              "      <th></th>\n",
              "      <th>PatientId</th>\n",
              "      <th>AppointmentID</th>\n",
              "      <th>Age</th>\n",
              "      <th>Scholarship</th>\n",
              "      <th>Hipertension</th>\n",
              "      <th>Diabetes</th>\n",
              "      <th>Alcoholism</th>\n",
              "      <th>Handcap</th>\n",
              "      <th>SMS_received</th>\n",
              "    </tr>\n",
              "  </thead>\n",
              "  <tbody>\n",
              "    <tr>\n",
              "      <th>count</th>\n",
              "      <td>1.105270e+05</td>\n",
              "      <td>1.105270e+05</td>\n",
              "      <td>110527.000000</td>\n",
              "      <td>110527.000000</td>\n",
              "      <td>110527.000000</td>\n",
              "      <td>110527.000000</td>\n",
              "      <td>110527.000000</td>\n",
              "      <td>110527.000000</td>\n",
              "      <td>110527.000000</td>\n",
              "    </tr>\n",
              "    <tr>\n",
              "      <th>mean</th>\n",
              "      <td>1.474963e+14</td>\n",
              "      <td>5.675305e+06</td>\n",
              "      <td>37.088874</td>\n",
              "      <td>0.098266</td>\n",
              "      <td>0.197246</td>\n",
              "      <td>0.071865</td>\n",
              "      <td>0.030400</td>\n",
              "      <td>0.022248</td>\n",
              "      <td>0.321026</td>\n",
              "    </tr>\n",
              "    <tr>\n",
              "      <th>std</th>\n",
              "      <td>2.560949e+14</td>\n",
              "      <td>7.129575e+04</td>\n",
              "      <td>23.110205</td>\n",
              "      <td>0.297675</td>\n",
              "      <td>0.397921</td>\n",
              "      <td>0.258265</td>\n",
              "      <td>0.171686</td>\n",
              "      <td>0.161543</td>\n",
              "      <td>0.466873</td>\n",
              "    </tr>\n",
              "    <tr>\n",
              "      <th>min</th>\n",
              "      <td>3.921784e+04</td>\n",
              "      <td>5.030230e+06</td>\n",
              "      <td>-1.000000</td>\n",
              "      <td>0.000000</td>\n",
              "      <td>0.000000</td>\n",
              "      <td>0.000000</td>\n",
              "      <td>0.000000</td>\n",
              "      <td>0.000000</td>\n",
              "      <td>0.000000</td>\n",
              "    </tr>\n",
              "    <tr>\n",
              "      <th>25%</th>\n",
              "      <td>4.172614e+12</td>\n",
              "      <td>5.640286e+06</td>\n",
              "      <td>18.000000</td>\n",
              "      <td>0.000000</td>\n",
              "      <td>0.000000</td>\n",
              "      <td>0.000000</td>\n",
              "      <td>0.000000</td>\n",
              "      <td>0.000000</td>\n",
              "      <td>0.000000</td>\n",
              "    </tr>\n",
              "    <tr>\n",
              "      <th>50%</th>\n",
              "      <td>3.173184e+13</td>\n",
              "      <td>5.680573e+06</td>\n",
              "      <td>37.000000</td>\n",
              "      <td>0.000000</td>\n",
              "      <td>0.000000</td>\n",
              "      <td>0.000000</td>\n",
              "      <td>0.000000</td>\n",
              "      <td>0.000000</td>\n",
              "      <td>0.000000</td>\n",
              "    </tr>\n",
              "    <tr>\n",
              "      <th>75%</th>\n",
              "      <td>9.439172e+13</td>\n",
              "      <td>5.725524e+06</td>\n",
              "      <td>55.000000</td>\n",
              "      <td>0.000000</td>\n",
              "      <td>0.000000</td>\n",
              "      <td>0.000000</td>\n",
              "      <td>0.000000</td>\n",
              "      <td>0.000000</td>\n",
              "      <td>1.000000</td>\n",
              "    </tr>\n",
              "    <tr>\n",
              "      <th>max</th>\n",
              "      <td>9.999816e+14</td>\n",
              "      <td>5.790484e+06</td>\n",
              "      <td>115.000000</td>\n",
              "      <td>1.000000</td>\n",
              "      <td>1.000000</td>\n",
              "      <td>1.000000</td>\n",
              "      <td>1.000000</td>\n",
              "      <td>4.000000</td>\n",
              "      <td>1.000000</td>\n",
              "    </tr>\n",
              "  </tbody>\n",
              "</table>\n",
              "</div>"
            ],
            "text/plain": [
              "          PatientId  AppointmentID  ...        Handcap   SMS_received\n",
              "count  1.105270e+05   1.105270e+05  ...  110527.000000  110527.000000\n",
              "mean   1.474963e+14   5.675305e+06  ...       0.022248       0.321026\n",
              "std    2.560949e+14   7.129575e+04  ...       0.161543       0.466873\n",
              "min    3.921784e+04   5.030230e+06  ...       0.000000       0.000000\n",
              "25%    4.172614e+12   5.640286e+06  ...       0.000000       0.000000\n",
              "50%    3.173184e+13   5.680573e+06  ...       0.000000       0.000000\n",
              "75%    9.439172e+13   5.725524e+06  ...       0.000000       1.000000\n",
              "max    9.999816e+14   5.790484e+06  ...       4.000000       1.000000\n",
              "\n",
              "[8 rows x 9 columns]"
            ]
          },
          "metadata": {
            "tags": []
          },
          "execution_count": 34
        }
      ]
    },
    {
      "cell_type": "code",
      "metadata": {
        "id": "3EQqOpEnlV27",
        "colab_type": "code",
        "colab": {
          "base_uri": "https://localhost:8080/",
          "height": 531
        },
        "outputId": "30ff9ee8-c266-4869-de28-daf118fbf17f"
      },
      "source": [
        "# Consultando se há dados ausentes ou nulos\n",
        "print(data.isnull().sum())\n",
        "print(data.isna().sum())"
      ],
      "execution_count": 35,
      "outputs": [
        {
          "output_type": "stream",
          "text": [
            "PatientId         0\n",
            "AppointmentID     0\n",
            "Gender            0\n",
            "ScheduledDay      0\n",
            "AppointmentDay    0\n",
            "Age               0\n",
            "Neighbourhood     0\n",
            "Scholarship       0\n",
            "Hipertension      0\n",
            "Diabetes          0\n",
            "Alcoholism        0\n",
            "Handcap           0\n",
            "SMS_received      0\n",
            "No-show           0\n",
            "dtype: int64\n",
            "PatientId         0\n",
            "AppointmentID     0\n",
            "Gender            0\n",
            "ScheduledDay      0\n",
            "AppointmentDay    0\n",
            "Age               0\n",
            "Neighbourhood     0\n",
            "Scholarship       0\n",
            "Hipertension      0\n",
            "Diabetes          0\n",
            "Alcoholism        0\n",
            "Handcap           0\n",
            "SMS_received      0\n",
            "No-show           0\n",
            "dtype: int64\n"
          ],
          "name": "stdout"
        }
      ]
    },
    {
      "cell_type": "code",
      "metadata": {
        "id": "-FwQcUeeplrq",
        "colab_type": "code",
        "colab": {
          "base_uri": "https://localhost:8080/",
          "height": 51
        },
        "outputId": "ba2a1403-e3b8-4a66-c4f1-10ee57dd90fc"
      },
      "source": [
        "# Consultando a distribuição dos registros de classe do atributo alvo - 'No-show'\n",
        "\n",
        "# Transformando os valores 'No' e 'Yes' da coluna 'No-show' para '0' e '1' respectivamente\n",
        "data_num = data.copy()\n",
        "\n",
        "data_num = data_num.rename(columns={'No-show': 'Noshow'})\n",
        "y = data_num['Noshow']\n",
        "y.replace('No', 0, inplace=True)\n",
        "y.replace('Yes', 1, inplace=True)\n",
        "\n",
        "yes = len(data_num[data_num.Noshow==1])\n",
        "no = len(data_num[data_num.Noshow==0])\n",
        "\n",
        "print(yes, 'registros classificados como \"Yes\"')\n",
        "print(no, 'registros classificados como \"No\"')"
      ],
      "execution_count": 36,
      "outputs": [
        {
          "output_type": "stream",
          "text": [
            "22319 registros classificados como \"Yes\"\n",
            "88208 registros classificados como \"No\"\n"
          ],
          "name": "stdout"
        }
      ]
    },
    {
      "cell_type": "code",
      "metadata": {
        "id": "6mcsFlntERx5",
        "colab_type": "code",
        "colab": {
          "base_uri": "https://localhost:8080/",
          "height": 68
        },
        "outputId": "b63ad6a4-de0e-4aea-98f6-ab93a1b50dc5"
      },
      "source": [
        "# Consultando a quantidade de instâncias por gênero\n",
        "data_num['Gender'].value_counts()"
      ],
      "execution_count": 37,
      "outputs": [
        {
          "output_type": "execute_result",
          "data": {
            "text/plain": [
              "F    71840\n",
              "M    38687\n",
              "Name: Gender, dtype: int64"
            ]
          },
          "metadata": {
            "tags": []
          },
          "execution_count": 37
        }
      ]
    },
    {
      "cell_type": "code",
      "metadata": {
        "id": "bfBVHIxwEr8Y",
        "colab_type": "code",
        "colab": {}
      },
      "source": [
        "# Função para converter os valores String das instâncias do atributo 'Gender' para valores numéricos \n",
        "def converter_genero(valor):\n",
        "  if valor == 'F':\n",
        "    return 0\n",
        "  else:\n",
        "    return 1\n",
        "\n",
        "# Criando uma nova coluna ('GenderBin') para gênero com os valores numéricos\n",
        "data_num['GenderBin'] = data['Gender'].map(converter_genero)\n",
        "\n",
        "# Excluíndo a coluna 'Gender'\n",
        "data_num.drop('Gender', axis=1, inplace=True)"
      ],
      "execution_count": 38,
      "outputs": []
    },
    {
      "cell_type": "code",
      "metadata": {
        "id": "RxmIzJF_Iia_",
        "colab_type": "code",
        "colab": {}
      },
      "source": [
        "# Setando a coluna 'Neighbourhood' como dados categóricos\n",
        "data_num['Neighbourhood'] = data_num.Neighbourhood.astype('category')\n",
        "\n",
        "# Transformando os atributos String de 'Neighbourhood' em códigos\n",
        "data_num['Neighbourhood'] = data_num['Neighbourhood'].cat.codes"
      ],
      "execution_count": 39,
      "outputs": []
    },
    {
      "cell_type": "code",
      "metadata": {
        "id": "z37T8z0hJuAM",
        "colab_type": "code",
        "colab": {
          "base_uri": "https://localhost:8080/",
          "height": 308
        },
        "outputId": "f5ee66a3-dd7e-4210-f818-d6134d8fcfd8"
      },
      "source": [
        "# Visualizando primeiros registros do dataset\n",
        "data_num.head()"
      ],
      "execution_count": 40,
      "outputs": [
        {
          "output_type": "execute_result",
          "data": {
            "text/html": [
              "<div>\n",
              "<style scoped>\n",
              "    .dataframe tbody tr th:only-of-type {\n",
              "        vertical-align: middle;\n",
              "    }\n",
              "\n",
              "    .dataframe tbody tr th {\n",
              "        vertical-align: top;\n",
              "    }\n",
              "\n",
              "    .dataframe thead th {\n",
              "        text-align: right;\n",
              "    }\n",
              "</style>\n",
              "<table border=\"1\" class=\"dataframe\">\n",
              "  <thead>\n",
              "    <tr style=\"text-align: right;\">\n",
              "      <th></th>\n",
              "      <th>PatientId</th>\n",
              "      <th>AppointmentID</th>\n",
              "      <th>ScheduledDay</th>\n",
              "      <th>AppointmentDay</th>\n",
              "      <th>Age</th>\n",
              "      <th>Neighbourhood</th>\n",
              "      <th>Scholarship</th>\n",
              "      <th>Hipertension</th>\n",
              "      <th>Diabetes</th>\n",
              "      <th>Alcoholism</th>\n",
              "      <th>Handcap</th>\n",
              "      <th>SMS_received</th>\n",
              "      <th>Noshow</th>\n",
              "      <th>GenderBin</th>\n",
              "    </tr>\n",
              "  </thead>\n",
              "  <tbody>\n",
              "    <tr>\n",
              "      <th>0</th>\n",
              "      <td>2.987250e+13</td>\n",
              "      <td>5642903</td>\n",
              "      <td>2016-04-29T18:38:08Z</td>\n",
              "      <td>2016-04-29T00:00:00Z</td>\n",
              "      <td>62</td>\n",
              "      <td>39</td>\n",
              "      <td>0</td>\n",
              "      <td>1</td>\n",
              "      <td>0</td>\n",
              "      <td>0</td>\n",
              "      <td>0</td>\n",
              "      <td>0</td>\n",
              "      <td>0</td>\n",
              "      <td>0</td>\n",
              "    </tr>\n",
              "    <tr>\n",
              "      <th>1</th>\n",
              "      <td>5.589978e+14</td>\n",
              "      <td>5642503</td>\n",
              "      <td>2016-04-29T16:08:27Z</td>\n",
              "      <td>2016-04-29T00:00:00Z</td>\n",
              "      <td>56</td>\n",
              "      <td>39</td>\n",
              "      <td>0</td>\n",
              "      <td>0</td>\n",
              "      <td>0</td>\n",
              "      <td>0</td>\n",
              "      <td>0</td>\n",
              "      <td>0</td>\n",
              "      <td>0</td>\n",
              "      <td>1</td>\n",
              "    </tr>\n",
              "    <tr>\n",
              "      <th>2</th>\n",
              "      <td>4.262962e+12</td>\n",
              "      <td>5642549</td>\n",
              "      <td>2016-04-29T16:19:04Z</td>\n",
              "      <td>2016-04-29T00:00:00Z</td>\n",
              "      <td>62</td>\n",
              "      <td>45</td>\n",
              "      <td>0</td>\n",
              "      <td>0</td>\n",
              "      <td>0</td>\n",
              "      <td>0</td>\n",
              "      <td>0</td>\n",
              "      <td>0</td>\n",
              "      <td>0</td>\n",
              "      <td>0</td>\n",
              "    </tr>\n",
              "    <tr>\n",
              "      <th>3</th>\n",
              "      <td>8.679512e+11</td>\n",
              "      <td>5642828</td>\n",
              "      <td>2016-04-29T17:29:31Z</td>\n",
              "      <td>2016-04-29T00:00:00Z</td>\n",
              "      <td>8</td>\n",
              "      <td>54</td>\n",
              "      <td>0</td>\n",
              "      <td>0</td>\n",
              "      <td>0</td>\n",
              "      <td>0</td>\n",
              "      <td>0</td>\n",
              "      <td>0</td>\n",
              "      <td>0</td>\n",
              "      <td>0</td>\n",
              "    </tr>\n",
              "    <tr>\n",
              "      <th>4</th>\n",
              "      <td>8.841186e+12</td>\n",
              "      <td>5642494</td>\n",
              "      <td>2016-04-29T16:07:23Z</td>\n",
              "      <td>2016-04-29T00:00:00Z</td>\n",
              "      <td>56</td>\n",
              "      <td>39</td>\n",
              "      <td>0</td>\n",
              "      <td>1</td>\n",
              "      <td>1</td>\n",
              "      <td>0</td>\n",
              "      <td>0</td>\n",
              "      <td>0</td>\n",
              "      <td>0</td>\n",
              "      <td>0</td>\n",
              "    </tr>\n",
              "  </tbody>\n",
              "</table>\n",
              "</div>"
            ],
            "text/plain": [
              "      PatientId  AppointmentID  ... Noshow GenderBin\n",
              "0  2.987250e+13        5642903  ...      0         0\n",
              "1  5.589978e+14        5642503  ...      0         1\n",
              "2  4.262962e+12        5642549  ...      0         0\n",
              "3  8.679512e+11        5642828  ...      0         0\n",
              "4  8.841186e+12        5642494  ...      0         0\n",
              "\n",
              "[5 rows x 14 columns]"
            ]
          },
          "metadata": {
            "tags": []
          },
          "execution_count": 40
        }
      ]
    },
    {
      "cell_type": "code",
      "metadata": {
        "id": "pZYrSdVEl_r8",
        "colab_type": "code",
        "colab": {
          "base_uri": "https://localhost:8080/",
          "height": 296
        },
        "outputId": "00cb441d-2d28-43f9-9a05-f2392a485ebb"
      },
      "source": [
        "# Visualizando a distribuição dos registros de classe do atributo alvo\n",
        "\n",
        "sns.countplot(data['No-show'])"
      ],
      "execution_count": 41,
      "outputs": [
        {
          "output_type": "execute_result",
          "data": {
            "text/plain": [
              "<matplotlib.axes._subplots.AxesSubplot at 0x7f78b67490f0>"
            ]
          },
          "metadata": {
            "tags": []
          },
          "execution_count": 41
        },
        {
          "output_type": "display_data",
          "data": {
            "image/png": "[encoded data removed]",
            "text/plain": [
              "<Figure size 432x288 with 1 Axes>"
            ]
          },
          "metadata": {
            "tags": [],
            "needs_background": "light"
          }
        }
      ]
    },
    {
      "cell_type": "markdown",
      "metadata": {
        "id": "l31U54ufneuV",
        "colab_type": "text"
      },
      "source": [
        "O gráfico acima nos mostra que há um desbalanceamento do atributo alvo (coluna 'No-show'), onde há bem menos registros classificados como \"Yes\"."
      ]
    },
    {
      "cell_type": "code",
      "metadata": {
        "id": "aOrqt0wOtoLf",
        "colab_type": "code",
        "colab": {
          "base_uri": "https://localhost:8080/",
          "height": 353
        },
        "outputId": "79e86ba1-ea98-4206-b3b6-4212333a762c"
      },
      "source": [
        "# Visualizando a correlação entre todos atributos e o atributo alvo(\"Noshow\")\n",
        "\n",
        "sns.heatmap(data_num.corr(), annot=True, cmap='BuPu')"
      ],
      "execution_count": 42,
      "outputs": [
        {
          "output_type": "execute_result",
          "data": {
            "text/plain": [
              "<matplotlib.axes._subplots.AxesSubplot at 0x7f78b5f77240>"
            ]
          },
          "metadata": {
            "tags": []
          },
          "execution_count": 42
        },
        {
          "output_type": "display_data",
          "data": {
            "image/png": "[encoded data removed]",
            "text/plain": [
              "<Figure size 432x288 with 2 Axes>"
            ]
          },
          "metadata": {
            "tags": [],
            "needs_background": "light"
          }
        }
      ]
    },
    {
      "cell_type": "markdown",
      "metadata": {
        "id": "mppaDyopn2qL",
        "colab_type": "text"
      },
      "source": [
        "Este gráfico de correlação ajuda a entender melhor o grau de importância/influência entre os atributos. Por exemplo, existe uma forte influência positiva entre o atributo preditor 'Age' com o atributo alvo 'Noshow'. Também há uma forte influência positiva entre os atributos 'Diabetes' e 'Hipertension'."
      ]
    },
    {
      "cell_type": "code",
      "metadata": {
        "id": "KNoFo4SxMf--",
        "colab_type": "code",
        "colab": {
          "base_uri": "https://localhost:8080/",
          "height": 310
        },
        "outputId": "f34e493a-ae69-4430-96f3-ae873fd5434c"
      },
      "source": [
        "# Gráfico de barras para visualizar a influência de comparecimentos ou não ('No-show') em relação a idade ('Age')\n",
        "\n",
        "def faixaEtaria (x):\n",
        "    if x >=0 and x < 1 : return 'Recém- \\n nascidos'\n",
        "    elif x >=1 and x < 2 : return 'Bebes'\n",
        "    elif x >=2 and x < 12 : return 'Crianças'\n",
        "    elif x >=12 and x < 18 : return 'Adoles-\\ncentes'\n",
        "    elif x >=18 and x < 24 : return 'Jovens'\n",
        "    elif x >=24 and x < 65 : return 'Adultos'\n",
        "    else: return 'Idosos'\n",
        "\n",
        "data['Faixa Etária']= data['Age'].apply(faixaEtaria)\n",
        "sns.countplot(x=\"Faixa Etária\", hue = \"No-show\", data=data)"
      ],
      "execution_count": 43,
      "outputs": [
        {
          "output_type": "execute_result",
          "data": {
            "text/plain": [
              "<matplotlib.axes._subplots.AxesSubplot at 0x7f78b6759080>"
            ]
          },
          "metadata": {
            "tags": []
          },
          "execution_count": 43
        },
        {
          "output_type": "display_data",
          "data": {
            "image/png": "[encoded data removed]",
            "text/plain": [
              "<Figure size 432x288 with 1 Axes>"
            ]
          },
          "metadata": {
            "tags": [],
            "needs_background": "light"
          }
        }
      ]
    },
    {
      "cell_type": "markdown",
      "metadata": {
        "id": "lmfE6QUHSWrd",
        "colab_type": "text"
      },
      "source": [
        "Como observado no gráfico de correlação, existe uma influência positiva significativa entre o atributo preditor 'Age' e o atributo alvo 'No-show'. \n",
        "Então, é interessante mostrar através do gráfico de barras acima como se dá essa influência criando faixas etárias onde fica claro a proporção de comparecimentos e não comparecimentos as consultas nos registros da base. Observe que foram denominadas várias faixas etárias. \n",
        "Por meio dessas faixas, é bem claro que a faixa denominada de 'Adultos' (entre 24 e 65 anos) tem uma quantidade significativa de não comparecimentos."
      ]
    },
    {
      "cell_type": "code",
      "metadata": {
        "id": "crc7BkenX-2t",
        "colab_type": "code",
        "colab": {}
      },
      "source": [
        "# Função para comparar a probabilidade de variáveis\n",
        "\n",
        "def probStatusVariable(variable):\n",
        "  rows=[]\n",
        "  for i in variable:\n",
        "    for prob in data_num[i].unique():\n",
        "      row = {'Doença': i}\n",
        "      total = len(data_num[data_num[i] == prob])\n",
        "      z = len(data_num[(data_num[i] == prob) & (data_num.Noshow == 0)])\n",
        "      row.update({'Indice': prob, 'Probabilidade': z/total})\n",
        "      rows.append(row) \n",
        "  return pd.DataFrame(rows)"
      ],
      "execution_count": 44,
      "outputs": []
    },
    {
      "cell_type": "code",
      "metadata": {
        "id": "Ka3Pp5iS1zWu",
        "colab_type": "code",
        "colab": {
          "base_uri": "https://localhost:8080/",
          "height": 279
        },
        "outputId": "81ff9150-6d5e-435e-967f-156768b56d6e"
      },
      "source": [
        "# Gráfico de barras para visualizar a influência de comparecimentos ou não ('No-show') em relação\n",
        "# aos atributos preditores 'Diabetes' e 'Hipertension'\n",
        "\n",
        "sns.barplot(data = probStatusVariable(['Diabetes', 'Hipertension']),\n",
        "            x='Doença', y='Probabilidade', hue='Indice', palette='Set1')\n",
        "plt.ylabel('Probabilidade')\n",
        "plt.show()"
      ],
      "execution_count": 45,
      "outputs": [
        {
          "output_type": "display_data",
          "data": {
            "image/png": "[encoded data removed]",
            "text/plain": [
              "<Figure size 432x288 with 1 Axes>"
            ]
          },
          "metadata": {
            "tags": [],
            "needs_background": "light"
          }
        }
      ]
    },
    {
      "cell_type": "markdown",
      "metadata": {
        "id": "dqeoV2fX_wJF",
        "colab_type": "text"
      },
      "source": [
        "O gráfico de barras acima evidencia a forte correlação positiva entre os atributos preditores 'Diabetes' e 'Hipertension'. As barras vermelhas representam os pacientes que não tem diabetes ou hipertensão. Já as barras azuis representam os pacientes que tem uma ou a outra doença. \n",
        "O que esse gráfico nos mostra é que ambas as doenças tem forte probabilidade em fazer com que os pacientes compareçam as consultas, e também  mostra que independe os pacientes terem ou não diabetes ou hipertensão, comprovando a influência entre esses atributos."
      ]
    },
    {
      "cell_type": "markdown",
      "metadata": {
        "id": "FrlcRKqrYdpa",
        "colab_type": "text"
      },
      "source": [
        "###Selecionando 3 modelos de classificação para avaliação e comparação"
      ]
    },
    {
      "cell_type": "code",
      "metadata": {
        "id": "Th1Q8OZJPZsz",
        "colab_type": "code",
        "colab": {
          "base_uri": "https://localhost:8080/",
          "height": 428
        },
        "outputId": "e1fa1298-d024-4212-83fd-8d6df23144a6"
      },
      "source": [
        "# Modelos classificadores selecionados\n",
        "clf_rf = RandomForestClassifier(n_estimators=300) # RANDOM FOREST definido com estimativa de 300 amostras de treinamento\n",
        "clf_tree = DecisionTreeClassifier(criterion='entropy') # DECISION TREE definido com função de entropy para medir qualidade da divisão da árvore \n",
        "clf_gb = GradientBoostingClassifier(n_estimators=300) # GRADIENT BOOSTING definido com estimativa de 300 amostras de treinamento\n",
        "\n",
        "print(clf_rf)\n",
        "print(clf_tree)\n",
        "print(clf_gb)"
      ],
      "execution_count": 46,
      "outputs": [
        {
          "output_type": "stream",
          "text": [
            "RandomForestClassifier(bootstrap=True, ccp_alpha=0.0, class_weight=None,\n",
            "                       criterion='gini', max_depth=None, max_features='auto',\n",
            "                       max_leaf_nodes=None, max_samples=None,\n",
            "                       min_impurity_decrease=0.0, min_impurity_split=None,\n",
            "                       min_samples_leaf=1, min_samples_split=2,\n",
            "                       min_weight_fraction_leaf=0.0, n_estimators=300,\n",
            "                       n_jobs=None, oob_score=False, random_state=None,\n",
            "                       verbose=0, warm_start=False)\n",
            "DecisionTreeClassifier(ccp_alpha=0.0, class_weight=None, criterion='entropy',\n",
            "                       max_depth=None, max_features=None, max_leaf_nodes=None,\n",
            "                       min_impurity_decrease=0.0, min_impurity_split=None,\n",
            "                       min_samples_leaf=1, min_samples_split=2,\n",
            "                       min_weight_fraction_leaf=0.0, presort='deprecated',\n",
            "                       random_state=None, splitter='best')\n",
            "GradientBoostingClassifier(ccp_alpha=0.0, criterion='friedman_mse', init=None,\n",
            "                           learning_rate=0.1, loss='deviance', max_depth=3,\n",
            "                           max_features=None, max_leaf_nodes=None,\n",
            "                           min_impurity_decrease=0.0, min_impurity_split=None,\n",
            "                           min_samples_leaf=1, min_samples_split=2,\n",
            "                           min_weight_fraction_leaf=0.0, n_estimators=300,\n",
            "                           n_iter_no_change=None, presort='deprecated',\n",
            "                           random_state=None, subsample=1.0, tol=0.0001,\n",
            "                           validation_fraction=0.1, verbose=0,\n",
            "                           warm_start=False)\n"
          ],
          "name": "stdout"
        }
      ]
    },
    {
      "cell_type": "markdown",
      "metadata": {
        "id": "UV69V5G543Ob",
        "colab_type": "text"
      },
      "source": [
        "###Dividindo o dataset em treino e teste"
      ]
    },
    {
      "cell_type": "code",
      "metadata": {
        "id": "naOPW1mBCzRL",
        "colab_type": "code",
        "colab": {
          "base_uri": "https://localhost:8080/",
          "height": 206
        },
        "outputId": "cd515dba-cbcc-455e-b3b3-ce31db435174"
      },
      "source": [
        "# Criando matriz para X e y\n",
        "X = data_num.drop(['PatientId', 'AppointmentID', 'ScheduledDay', 'AppointmentDay', 'Neighbourhood', 'Scholarship', 'Handcap', 'SMS_received', 'Noshow'], axis=1).values\n",
        "y = data_num['Noshow'].values\n",
        "\n",
        "print('--> Array de X:\\n', X, '\\n')\n",
        "\n",
        "print('--> Array de y:\\n', y)"
      ],
      "execution_count": 47,
      "outputs": [
        {
          "output_type": "stream",
          "text": [
            "--> Array de X:\n",
            " [[62  1  0  0  0]\n",
            " [56  0  0  0  1]\n",
            " [62  0  0  0  0]\n",
            " ...\n",
            " [21  0  0  0  0]\n",
            " [38  0  0  0  0]\n",
            " [54  0  0  0  0]] \n",
            "\n",
            "--> Array de y:\n",
            " [0 0 0 ... 0 0 0]\n"
          ],
          "name": "stdout"
        }
      ]
    },
    {
      "cell_type": "code",
      "metadata": {
        "id": "kTTrIaDlEcM2",
        "colab_type": "code",
        "colab": {
          "base_uri": "https://localhost:8080/",
          "height": 51
        },
        "outputId": "b6e2527b-1c60-4cce-c364-16d0e04d2ce0"
      },
      "source": [
        "# Dados de X e y para treino e teste\n",
        "X_train, X_test, y_train, y_test = train_test_split(X, y, test_size=0.2, stratify=y, random_state=42)\n",
        "\n",
        "print('Conjunto de treino com {} instâncias'.format(X_train.shape[0]))\n",
        "print('Conjunto de teste com {} instâncias'.format(X_test.shape[0]))"
      ],
      "execution_count": 48,
      "outputs": [
        {
          "output_type": "stream",
          "text": [
            "Conjunto de treino com 88421 instâncias\n",
            "Conjunto de teste com 22106 instâncias\n"
          ],
          "name": "stdout"
        }
      ]
    },
    {
      "cell_type": "code",
      "metadata": {
        "id": "77jwy9Ac7JIn",
        "colab_type": "code",
        "colab": {
          "base_uri": "https://localhost:8080/",
          "height": 188
        },
        "outputId": "6ca106bf-e4c9-4698-a18c-0177d595256b"
      },
      "source": [
        "# Treinamento dos dados pelo modelos classificadores\n",
        "clf_rf.fit(X_train, y_train)\n",
        "clf_tree.fit(X_train, y_train)\n",
        "clf_gb.fit(X_train, y_train)"
      ],
      "execution_count": 49,
      "outputs": [
        {
          "output_type": "execute_result",
          "data": {
            "text/plain": [
              "GradientBoostingClassifier(ccp_alpha=0.0, criterion='friedman_mse', init=None,\n",
              "                           learning_rate=0.1, loss='deviance', max_depth=3,\n",
              "                           max_features=None, max_leaf_nodes=None,\n",
              "                           min_impurity_decrease=0.0, min_impurity_split=None,\n",
              "                           min_samples_leaf=1, min_samples_split=2,\n",
              "                           min_weight_fraction_leaf=0.0, n_estimators=300,\n",
              "                           n_iter_no_change=None, presort='deprecated',\n",
              "                           random_state=None, subsample=1.0, tol=0.0001,\n",
              "                           validation_fraction=0.1, verbose=0,\n",
              "                           warm_start=False)"
            ]
          },
          "metadata": {
            "tags": []
          },
          "execution_count": 49
        }
      ]
    },
    {
      "cell_type": "markdown",
      "metadata": {
        "id": "lQIF4YkMPM6Z",
        "colab_type": "text"
      },
      "source": [
        "###Treinando os modelos de classificação"
      ]
    },
    {
      "cell_type": "code",
      "metadata": {
        "id": "bTBw0zC7PS7i",
        "colab_type": "code",
        "colab": {
          "base_uri": "https://localhost:8080/",
          "height": 68
        },
        "outputId": "72a6acbf-aad7-4b5a-e38b-fab9e83f607e"
      },
      "source": [
        "# Criando uma lista para calcular as métricas de accuracy, precision, recall e f1_macro\n",
        "scoring_list = ['accuracy', 'precision_macro', 'recall_macro', 'f1_macro']\n",
        "\n",
        "scores_rf = cross_validate(clf_rf, X, y, cv=5, scoring=scoring_list)\n",
        "scores_tree = cross_validate(clf_tree, X, y, cv=5, scoring=scoring_list)\n",
        "scores_gb = cross_validate(clf_gb, X, y, cv=5, scoring=scoring_list)\n",
        "\n",
        "avg_scores_rf = []\n",
        "avg_scores_tree = []\n",
        "avg_scores_gb = []\n",
        "\n",
        "for score in scoring_list:\n",
        "  avg_scores_rf.append(scores_rf['test_'+score].mean())\n",
        "  avg_scores_tree.append(scores_tree['test_'+score].mean())\n",
        "  avg_scores_gb.append(scores_gb['test_'+score].mean())\n",
        "\n",
        "print('RANDOM FOREST - ', avg_scores_rf)\n",
        "print('TREE - ', avg_scores_tree)\n",
        "print('GRADIENT BOOSTING - ', avg_scores_gb)"
      ],
      "execution_count": 50,
      "outputs": [
        {
          "output_type": "stream",
          "text": [
            "RANDOM FOREST -  [0.7968007875033973, 0.5419852543584689, 0.500645543884245, 0.4472063585790423]\n",
            "TREE -  [0.7971988801135889, 0.5466343067447808, 0.5005268151323486, 0.4463810149122449]\n",
            "GRADIENT BOOSTING -  [0.7980131546481652, 0.5440417238257155, 0.5000496540332316, 0.4440515496189211]\n"
          ],
          "name": "stdout"
        }
      ]
    },
    {
      "cell_type": "markdown",
      "metadata": {
        "id": "a-9YAlcHYDn-",
        "colab_type": "text"
      },
      "source": [
        "###Comparando os modelos de classificação"
      ]
    },
    {
      "cell_type": "code",
      "metadata": {
        "id": "Ln9z533eU95A",
        "colab_type": "code",
        "colab": {
          "base_uri": "https://localhost:8080/",
          "height": 266
        },
        "outputId": "cd8f996e-8837-44f3-8c88-b38117a0a948"
      },
      "source": [
        "# Montando uma estrutura com os dados resultantes das médias calculadas pelo modelos classificadores para cada métrica\n",
        "df_data_num = pd.DataFrame({'RF': avg_scores_rf, 'TREE': avg_scores_tree, 'GB': avg_scores_gb}, index=scoring_list)\n",
        "\n",
        "ax = df_data_num.plot.bar(rot=0)"
      ],
      "execution_count": 51,
      "outputs": [
        {
          "output_type": "display_data",
          "data": {
            "image/png": "[encoded data removed]",
            "text/plain": [
              "<Figure size 432x288 with 1 Axes>"
            ]
          },
          "metadata": {
            "tags": [],
            "needs_background": "light"
          }
        }
      ]
    },
    {
      "cell_type": "markdown",
      "metadata": {
        "id": "e7JAiUfSZQCj",
        "colab_type": "text"
      },
      "source": [
        "O gráfico mostra que na comparação entre os modelos avaliados, existe variações muito pequenas, quase insignificantes para cada métrica entre esses modelos."
      ]
    },
    {
      "cell_type": "markdown",
      "metadata": {
        "id": "PLSq6r8WZiNL",
        "colab_type": "text"
      },
      "source": [
        "### Consultando o nível de importância de cada atributo por cada modelo classificador"
      ]
    },
    {
      "cell_type": "code",
      "metadata": {
        "id": "ZyG94Vw1kIs9",
        "colab_type": "code",
        "colab": {
          "base_uri": "https://localhost:8080/",
          "height": 34
        },
        "outputId": "ad4a9e77-7523-4ad5-ef77-a66dc60b2696"
      },
      "source": [
        "#RANDOM FOREST\n",
        "clf_rf = RandomForestClassifier(n_estimators=300)\n",
        "clf_rf = clf_rf.fit(X,y)\n",
        "\n",
        "importance_rf = clf_rf.feature_importances_\n",
        "importance_rf"
      ],
      "execution_count": 52,
      "outputs": [
        {
          "output_type": "execute_result",
          "data": {
            "text/plain": [
              "array([0.89850255, 0.03790377, 0.01738001, 0.02274183, 0.02347184])"
            ]
          },
          "metadata": {
            "tags": []
          },
          "execution_count": 52
        }
      ]
    },
    {
      "cell_type": "code",
      "metadata": {
        "id": "t3HSLHo6lemX",
        "colab_type": "code",
        "colab": {
          "base_uri": "https://localhost:8080/",
          "height": 34
        },
        "outputId": "02db02dd-ec4d-425d-e3b5-abb2e808fcbd"
      },
      "source": [
        "#TREE\n",
        "clf_tree = DecisionTreeClassifier(criterion='entropy')\n",
        "clf_tree = clf_tree.fit(X,y)\n",
        "\n",
        "importance_tree = clf_tree.feature_importances_\n",
        "importance_tree"
      ],
      "execution_count": 53,
      "outputs": [
        {
          "output_type": "execute_result",
          "data": {
            "text/plain": [
              "array([0.71568874, 0.04594096, 0.0675513 , 0.08290625, 0.08791275])"
            ]
          },
          "metadata": {
            "tags": []
          },
          "execution_count": 53
        }
      ]
    },
    {
      "cell_type": "code",
      "metadata": {
        "id": "N64YsDeEmIpE",
        "colab_type": "code",
        "colab": {
          "base_uri": "https://localhost:8080/",
          "height": 34
        },
        "outputId": "0f68bb55-1dc9-4ec2-ee9f-c5721ccd1ece"
      },
      "source": [
        "#GRADIENTE BOOSTING\n",
        "clf_gb = GradientBoostingClassifier(n_estimators=300)\n",
        "clf_gb = clf_gb.fit(X,y)\n",
        "\n",
        "importance_gb = clf_gb.feature_importances_\n",
        "importance_gb"
      ],
      "execution_count": 54,
      "outputs": [
        {
          "output_type": "execute_result",
          "data": {
            "text/plain": [
              "array([0.84891906, 0.03115181, 0.03294343, 0.04452156, 0.04246414])"
            ]
          },
          "metadata": {
            "tags": []
          },
          "execution_count": 54
        }
      ]
    },
    {
      "cell_type": "markdown",
      "metadata": {
        "id": "8NcroO-rmnzb",
        "colab_type": "text"
      },
      "source": [
        "###Selecionando as características mais importantes a partir dos modelos de classificação"
      ]
    },
    {
      "cell_type": "code",
      "metadata": {
        "id": "gKp6UF2sm6z0",
        "colab_type": "code",
        "colab": {
          "base_uri": "https://localhost:8080/",
          "height": 292
        },
        "outputId": "76bf516c-e808-4b1f-cf41-7a6c3290d1ff"
      },
      "source": [
        "#RANDOM FOREST\n",
        "model = SelectFromModel(clf_rf, prefit=True)\n",
        "data_new = model.transform(X)\n",
        "\n",
        "n_attrs = data_new.shape[1]\n",
        "idx_most_important = importance_rf.argsort()[-n_attrs:]\n",
        "print(idx_most_important)\n",
        "\n",
        "name_important_attrs = np.array(X)[idx_most_important]\n",
        "print(name_important_attrs)\n",
        "\n",
        "ax = data_num.plot.scatter(x='Age',\n",
        "                           y='Hipertension',\n",
        "                           c='Noshow',\n",
        "                           colormap='plasma')"
      ],
      "execution_count": 55,
      "outputs": [
        {
          "output_type": "stream",
          "text": [
            "[0]\n",
            "[[62  1  0  0  0]]\n"
          ],
          "name": "stdout"
        },
        {
          "output_type": "display_data",
          "data": {
            "image/png": "[encoded data removed]",
            "text/plain": [
              "<Figure size 432x288 with 2 Axes>"
            ]
          },
          "metadata": {
            "tags": [],
            "needs_background": "light"
          }
        }
      ]
    },
    {
      "cell_type": "code",
      "metadata": {
        "id": "V6SMODbtG4qg",
        "colab_type": "code",
        "colab": {
          "base_uri": "https://localhost:8080/",
          "height": 292
        },
        "outputId": "02e0d7c3-d0dc-4e49-c390-3446ac5c141c"
      },
      "source": [
        "#DECISION TREE\n",
        "model = SelectFromModel(clf_tree, prefit=True)\n",
        "data_new = model.transform(X)\n",
        "\n",
        "n_attrs = data_new.shape[1]\n",
        "idx_most_important = importance_tree.argsort()[-n_attrs:]\n",
        "print(idx_most_important)\n",
        "\n",
        "name_important_attrs = np.array(X)[idx_most_important]\n",
        "print(name_important_attrs)\n",
        "\n",
        "ax = data_num.plot.scatter(x='Age',\n",
        "                           y='GenderBin',\n",
        "                           c='Noshow',\n",
        "                           colormap='plasma')"
      ],
      "execution_count": 56,
      "outputs": [
        {
          "output_type": "stream",
          "text": [
            "[0]\n",
            "[[62  1  0  0  0]]\n"
          ],
          "name": "stdout"
        },
        {
          "output_type": "display_data",
          "data": {
            "image/png": "[encoded data removed]",
            "text/plain": [
              "<Figure size 432x288 with 2 Axes>"
            ]
          },
          "metadata": {
            "tags": [],
            "needs_background": "light"
          }
        }
      ]
    },
    {
      "cell_type": "code",
      "metadata": {
        "id": "HZLDdHc0KAjj",
        "colab_type": "code",
        "colab": {
          "base_uri": "https://localhost:8080/",
          "height": 292
        },
        "outputId": "33915384-a58f-40cc-feb9-086769289fac"
      },
      "source": [
        "#GRADIENT BOOSTING\n",
        "model = SelectFromModel(clf_gb, prefit=True)\n",
        "data_new = model.transform(X)\n",
        "\n",
        "n_attrs = data_new.shape[1]\n",
        "idx_most_important = importance_gb.argsort()[-n_attrs:]\n",
        "print(idx_most_important)\n",
        "\n",
        "name_important_attrs = np.array(X)[idx_most_important]\n",
        "print(name_important_attrs)\n",
        "\n",
        "ax3 = data_num.plot.scatter(x='Age',\n",
        "                           y='Alcoholism',\n",
        "                           c='Noshow',\n",
        "                           colormap='plasma')"
      ],
      "execution_count": 57,
      "outputs": [
        {
          "output_type": "stream",
          "text": [
            "[0]\n",
            "[[62  1  0  0  0]]\n"
          ],
          "name": "stdout"
        },
        {
          "output_type": "display_data",
          "data": {
            "image/png": "[encoded data removed]",
            "text/plain": [
              "<Figure size 432x288 with 2 Axes>"
            ]
          },
          "metadata": {
            "tags": [],
            "needs_background": "light"
          }
        }
      ]
    },
    {
      "cell_type": "markdown",
      "metadata": {
        "id": "3t6qArm84LUf",
        "colab_type": "text"
      },
      "source": [
        "Os gráficos de dispersão foram plotados seguindo o nível de importância/influência caracterizada pelos modelos classificadores Random Forest e Decision Tree. Ambos os modelos apresentam resultados muito semelhantes, mesmo sendo caracterizados de maneira própria de cada modelo. Além de existir um grau positivo de correlação entre os atributos."
      ]
    },
    {
      "cell_type": "markdown",
      "metadata": {
        "id": "S5NOhwmXg3GL",
        "colab_type": "text"
      },
      "source": [
        "###Reduzindo dimensionalidade usando PCA"
      ]
    },
    {
      "cell_type": "code",
      "metadata": {
        "id": "yY6ddbiFg6lp",
        "colab_type": "code",
        "colab": {
          "base_uri": "https://localhost:8080/",
          "height": 258
        },
        "outputId": "073fa811-a204-4ec7-9165-a5b6c3b28b4b"
      },
      "source": [
        "# Aplicando redução de dimensionalidade linear através do PCA\n",
        "df_data_num = data_num.drop(['PatientId', 'ScheduledDay', 'AppointmentDay', 'Noshow'], axis=1).values\n",
        "pca = PCA(n_components=2)\n",
        "principalComponents = pca.fit_transform(df_data_num)\n",
        "\n",
        "pca_df_data_num = pd.DataFrame(data=principalComponents, \n",
        "                           columns = ['attr1', 'attr2'])\n",
        "\n",
        "pca_df_data_num = pd.concat([pca_df_data_num, data_num['Noshow']], axis = 1)\n",
        "\n",
        "ax2 = pca_df_data_num.plot.scatter(x='attr1',\n",
        "                      y='attr2',\n",
        "                      c='Noshow',\n",
        "                      colormap='plasma')"
      ],
      "execution_count": 58,
      "outputs": [
        {
          "output_type": "display_data",
          "data": {
            "image/png": "[encoded data removed]",
            "text/plain": [
              "<Figure size 432x288 with 2 Axes>"
            ]
          },
          "metadata": {
            "tags": [],
            "needs_background": "light"
          }
        }
      ]
    },
    {
      "cell_type": "markdown",
      "metadata": {
        "id": "ZU5GaHlE7jgi",
        "colab_type": "text"
      },
      "source": [
        "O gráfico de dispersão acima mostra o resultado pós procedimento de redução de dimensionalidade por meio do PCA. Essa transformação reduziu os atributos correlacionados num conjunto de dados de apenas duas dimensões com os componentes principais."
      ]
    }
  ]
}
