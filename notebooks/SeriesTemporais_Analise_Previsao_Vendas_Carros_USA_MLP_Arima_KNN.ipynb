{
  "nbformat": 4,
  "nbformat_minor": 0,
  "metadata": {
    "colab": {
      "name": "SeriesTemporais_Analise_Previsao_Vendas_Carros_USA_MLP-Arima-KNN.ipynb",
      "provenance": [],
      "collapsed_sections": [],
      "authorship_tag": "ABX9TyPKRUED+jrsAV7UBmTKcWQo",
      "include_colab_link": true
    },
    "kernelspec": {
      "name": "python3",
      "display_name": "Python 3"
    }
  },
  "cells": [
    {
      "cell_type": "markdown",
      "metadata": {
        "id": "view-in-github",
        "colab_type": "text"
      },
      "source": [
        "<a href=\"https://colab.research.google.com/github/niltontac/EspAnalise-EngDados/blob/master/SeriesTemporais_Analise_Previsao_Vendas_Carros_USA_MLP_Arima_KNN.ipynb\" target=\"_parent\"><img src=\"https://colab.research.google.com/assets/colab-badge.svg\" alt=\"Open In Colab\"/></a>"
      ]
    },
    {
      "cell_type": "markdown",
      "metadata": {
        "id": "bMUDqxPterZR",
        "colab_type": "text"
      },
      "source": [
        "# Aplicando na Série Temporal técnicas dos modelos MLP, ARIMA e KNN\n",
        "\n",
        "Dataset: Vehicle (vendas de carros nos Estados Unidos de 1956 a 1976)\n",
        " \n",
        "https://github.com/niltontac/EspAnalise-EngDados/blob/master/data/vehicle.txt"
      ]
    },
    {
      "cell_type": "markdown",
      "metadata": {
        "id": "YB9JNQgkfvOR",
        "colab_type": "text"
      },
      "source": [
        "**Analyst:**\n",
        "\n",
        "**Nilton Thiago de Andrade Coura**\n",
        "\n",
        "Brazil - Recife/Pernambuco\n",
        "\n",
        "  * **contact:** niltontac@gmail.com\n",
        "\n",
        "  * https://github.com/niltontac\n",
        "\n",
        "  * https://www.linkedin.com/in/niltontac/"
      ]
    },
    {
      "cell_type": "code",
      "metadata": {
        "id": "4ZAnrRHPeX3p",
        "colab_type": "code",
        "colab": {
          "base_uri": "https://localhost:8080/",
          "height": 52
        },
        "outputId": "cfab530c-281f-45bf-fd1e-c0934893445c"
      },
      "source": [
        "#Importando bibliotecas\n",
        "import pandas as pd\n",
        "import matplotlib.pyplot as plt\n",
        "import seaborn as sns\n",
        "import numpy as np\n",
        "from matplotlib.pylab import rcParams\n",
        "sns.set(rc={'figure.figsize':(15,6)})"
      ],
      "execution_count": 1,
      "outputs": [
        {
          "output_type": "stream",
          "text": [
            "/usr/local/lib/python3.6/dist-packages/statsmodels/tools/_testing.py:19: FutureWarning: pandas.util.testing is deprecated. Use the functions in the public API at pandas.testing instead.\n",
            "  import pandas.util.testing as tm\n"
          ],
          "name": "stderr"
        }
      ]
    },
    {
      "cell_type": "code",
      "metadata": {
        "id": "CRgi-A0Vh_sI",
        "colab_type": "code",
        "colab": {
          "base_uri": "https://localhost:8080/",
          "height": 416
        },
        "outputId": "db8d653b-b34c-4d66-a1b3-73b7529479f7"
      },
      "source": [
        "#Carregando o dataset\n",
        "data = pd.read_csv('https://raw.githubusercontent.com/niltontac/EspAnalise-EngDados/master/data/vehicle.txt')\n",
        "data"
      ],
      "execution_count": 2,
      "outputs": [
        {
          "output_type": "execute_result",
          "data": {
            "text/html": [
              "<div>\n",
              "<style scoped>\n",
              "    .dataframe tbody tr th:only-of-type {\n",
              "        vertical-align: middle;\n",
              "    }\n",
              "\n",
              "    .dataframe tbody tr th {\n",
              "        vertical-align: top;\n",
              "    }\n",
              "\n",
              "    .dataframe thead th {\n",
              "        text-align: right;\n",
              "    }\n",
              "</style>\n",
              "<table border=\"1\" class=\"dataframe\">\n",
              "  <thead>\n",
              "    <tr style=\"text-align: right;\">\n",
              "      <th></th>\n",
              "      <th>4.367</th>\n",
              "    </tr>\n",
              "  </thead>\n",
              "  <tbody>\n",
              "    <tr>\n",
              "      <th>0</th>\n",
              "      <td>5.147</td>\n",
              "    </tr>\n",
              "    <tr>\n",
              "      <th>1</th>\n",
              "      <td>5.418</td>\n",
              "    </tr>\n",
              "    <tr>\n",
              "      <th>2</th>\n",
              "      <td>4.897</td>\n",
              "    </tr>\n",
              "    <tr>\n",
              "      <th>3</th>\n",
              "      <td>5.002</td>\n",
              "    </tr>\n",
              "    <tr>\n",
              "      <th>4</th>\n",
              "      <td>5.329</td>\n",
              "    </tr>\n",
              "    <tr>\n",
              "      <th>...</th>\n",
              "      <td>...</td>\n",
              "    </tr>\n",
              "    <tr>\n",
              "      <th>246</th>\n",
              "      <td>19.311</td>\n",
              "    </tr>\n",
              "    <tr>\n",
              "      <th>247</th>\n",
              "      <td>20.827</td>\n",
              "    </tr>\n",
              "    <tr>\n",
              "      <th>248</th>\n",
              "      <td>23.388</td>\n",
              "    </tr>\n",
              "    <tr>\n",
              "      <th>249</th>\n",
              "      <td>20.181</td>\n",
              "    </tr>\n",
              "    <tr>\n",
              "      <th>250</th>\n",
              "      <td>14.344</td>\n",
              "    </tr>\n",
              "  </tbody>\n",
              "</table>\n",
              "<p>251 rows × 1 columns</p>\n",
              "</div>"
            ],
            "text/plain": [
              "      4.367\n",
              "0     5.147\n",
              "1     5.418\n",
              "2     4.897\n",
              "3     5.002\n",
              "4     5.329\n",
              "..      ...\n",
              "246  19.311\n",
              "247  20.827\n",
              "248  23.388\n",
              "249  20.181\n",
              "250  14.344\n",
              "\n",
              "[251 rows x 1 columns]"
            ]
          },
          "metadata": {
            "tags": []
          },
          "execution_count": 2
        }
      ]
    },
    {
      "cell_type": "code",
      "metadata": {
        "id": "t8EGy-VGiStl",
        "colab_type": "code",
        "colab": {
          "base_uri": "https://localhost:8080/",
          "height": 416
        },
        "outputId": "681ed8f1-b843-4622-b4e3-ad9bec9255b4"
      },
      "source": [
        "#Renomeando atributo\n",
        "data.rename(columns={'4.367': 'Vendas'}, inplace=True)\n",
        "\n",
        "#Atribuindo o período e a frêquencia de acordo com os dados da série, e setando o período como index da série\n",
        "dataInicial = '19560101'\n",
        "num_periodos = 251\n",
        "frequencia = 'M'\n",
        "\n",
        "data.index = pd.date_range(dataInicial, periods=num_periodos, freq=frequencia)\n",
        "data"
      ],
      "execution_count": 3,
      "outputs": [
        {
          "output_type": "execute_result",
          "data": {
            "text/html": [
              "<div>\n",
              "<style scoped>\n",
              "    .dataframe tbody tr th:only-of-type {\n",
              "        vertical-align: middle;\n",
              "    }\n",
              "\n",
              "    .dataframe tbody tr th {\n",
              "        vertical-align: top;\n",
              "    }\n",
              "\n",
              "    .dataframe thead th {\n",
              "        text-align: right;\n",
              "    }\n",
              "</style>\n",
              "<table border=\"1\" class=\"dataframe\">\n",
              "  <thead>\n",
              "    <tr style=\"text-align: right;\">\n",
              "      <th></th>\n",
              "      <th>Vendas</th>\n",
              "    </tr>\n",
              "  </thead>\n",
              "  <tbody>\n",
              "    <tr>\n",
              "      <th>1956-01-31</th>\n",
              "      <td>5.147</td>\n",
              "    </tr>\n",
              "    <tr>\n",
              "      <th>1956-02-29</th>\n",
              "      <td>5.418</td>\n",
              "    </tr>\n",
              "    <tr>\n",
              "      <th>1956-03-31</th>\n",
              "      <td>4.897</td>\n",
              "    </tr>\n",
              "    <tr>\n",
              "      <th>1956-04-30</th>\n",
              "      <td>5.002</td>\n",
              "    </tr>\n",
              "    <tr>\n",
              "      <th>1956-05-31</th>\n",
              "      <td>5.329</td>\n",
              "    </tr>\n",
              "    <tr>\n",
              "      <th>...</th>\n",
              "      <td>...</td>\n",
              "    </tr>\n",
              "    <tr>\n",
              "      <th>1976-07-31</th>\n",
              "      <td>19.311</td>\n",
              "    </tr>\n",
              "    <tr>\n",
              "      <th>1976-08-31</th>\n",
              "      <td>20.827</td>\n",
              "    </tr>\n",
              "    <tr>\n",
              "      <th>1976-09-30</th>\n",
              "      <td>23.388</td>\n",
              "    </tr>\n",
              "    <tr>\n",
              "      <th>1976-10-31</th>\n",
              "      <td>20.181</td>\n",
              "    </tr>\n",
              "    <tr>\n",
              "      <th>1976-11-30</th>\n",
              "      <td>14.344</td>\n",
              "    </tr>\n",
              "  </tbody>\n",
              "</table>\n",
              "<p>251 rows × 1 columns</p>\n",
              "</div>"
            ],
            "text/plain": [
              "            Vendas\n",
              "1956-01-31   5.147\n",
              "1956-02-29   5.418\n",
              "1956-03-31   4.897\n",
              "1956-04-30   5.002\n",
              "1956-05-31   5.329\n",
              "...            ...\n",
              "1976-07-31  19.311\n",
              "1976-08-31  20.827\n",
              "1976-09-30  23.388\n",
              "1976-10-31  20.181\n",
              "1976-11-30  14.344\n",
              "\n",
              "[251 rows x 1 columns]"
            ]
          },
          "metadata": {
            "tags": []
          },
          "execution_count": 3
        }
      ]
    },
    {
      "cell_type": "code",
      "metadata": {
        "id": "KEyVcvmtOREn",
        "colab_type": "code",
        "colab": {
          "base_uri": "https://localhost:8080/",
          "height": 34
        },
        "outputId": "7bf19628-46bc-41fa-b241-2787c71a43e2"
      },
      "source": [
        "#Consultando valores faltantes\n",
        "data['Vendas'].isna().sum()"
      ],
      "execution_count": 4,
      "outputs": [
        {
          "output_type": "execute_result",
          "data": {
            "text/plain": [
              "0"
            ]
          },
          "metadata": {
            "tags": []
          },
          "execution_count": 4
        }
      ]
    },
    {
      "cell_type": "code",
      "metadata": {
        "id": "JtOHoF7iqPxo",
        "colab_type": "code",
        "colab": {
          "base_uri": "https://localhost:8080/",
          "height": 268
        },
        "outputId": "2f41b378-8eb9-4c90-e03c-fe11f4b9ca37"
      },
      "source": [
        "#Criando uma janela deslizante para analisar valores passados e visualizar a tendência e a sazonalidade da série original\n",
        "m_m = data.rolling(window=12).mean()\n",
        "m_std = data.rolling(window=12).std()\n",
        "\n",
        "original = plt.plot(data, color='blue', label='Série Original')\n",
        "mean = plt.plot(m_m, color='red', label='Média Móvel')\n",
        "std = plt.plot(m_std, color='green', label='Desvio Padrão')\n",
        "plt.legend(loc='best') \n",
        "plt.show()"
      ],
      "execution_count": 5,
      "outputs": [
        {
          "output_type": "display_data",
          "data": {
            "image/png": "[encoded data removed]",
            "text/plain": [
              "<Figure size 432x288 with 1 Axes>"
            ]
          },
          "metadata": {
            "tags": [],
            "needs_background": "light"
          }
        }
      ]
    },
    {
      "cell_type": "markdown",
      "metadata": {
        "id": "RX267On683cj",
        "colab_type": "text"
      },
      "source": [
        "Analisando o gráfico acima dos valores passados, a janela criada acima mostra que existe uma tendência e sazonalidade na série original, sendo evidenciada pelo crescimento da média móvel na linha vermelha"
      ]
    },
    {
      "cell_type": "markdown",
      "metadata": {
        "id": "g4D44kv3wel9",
        "colab_type": "text"
      },
      "source": [
        "Nomalizando os dados da série (1 e -1):\n"
      ]
    },
    {
      "cell_type": "code",
      "metadata": {
        "id": "GjPSGaLSwcmr",
        "colab_type": "code",
        "colab": {}
      },
      "source": [
        "from sklearn.preprocessing import MinMaxScaler"
      ],
      "execution_count": 6,
      "outputs": []
    },
    {
      "cell_type": "code",
      "metadata": {
        "id": "qeNgAelrxayH",
        "colab_type": "code",
        "colab": {}
      },
      "source": [
        "#Técnica \"MinMaxScaler\" para ajustar os dados da série\n",
        "min = 0\n",
        "max = 1\n",
        "scaler = MinMaxScaler(feature_range=(min, max)).fit(data)"
      ],
      "execution_count": 7,
      "outputs": []
    },
    {
      "cell_type": "code",
      "metadata": {
        "id": "AQ7jmV7Uxme2",
        "colab_type": "code",
        "colab": {}
      },
      "source": [
        "#Normalizando os dados\n",
        "serie_normalizada = scaler.transform(data.Vendas.values.reshape(1,-1))"
      ],
      "execution_count": 8,
      "outputs": []
    },
    {
      "cell_type": "code",
      "metadata": {
        "id": "Sb0bRGyF582P",
        "colab_type": "code",
        "colab": {
          "base_uri": "https://localhost:8080/",
          "height": 901
        },
        "outputId": "03845ce1-0f51-406f-a71b-e2923a341940"
      },
      "source": [
        "#Série normalizada\n",
        "serie_normalizada[0]"
      ],
      "execution_count": 9,
      "outputs": [
        {
          "output_type": "execute_result",
          "data": {
            "text/plain": [
              "array([0.08110423, 0.09475593, 0.0685104 , 0.07379981, 0.09027253,\n",
              "       0.        , 0.02030124, 0.08508387, 0.09531006, 0.09384918,\n",
              "       0.04579114, 0.07732608, 0.10931439, 0.11198428, 0.11435192,\n",
              "       0.11727369, 0.1194902 , 0.00725404, 0.01803436, 0.13651705,\n",
              "       0.15576042, 0.1578258 , 0.09989421, 0.15984081, 0.18119994,\n",
              "       0.17933605, 0.16140245, 0.1747519 , 0.18296307, 0.09480631,\n",
              "       0.05692408, 0.13550955, 0.19026749, 0.17082263, 0.06694877,\n",
              "       0.10447836, 0.11208503, 0.1058385 , 0.11858345, 0.1356103 ,\n",
              "       0.14850637, 0.08221248, 0.08558763, 0.17047   , 0.20986348,\n",
              "       0.17369402, 0.04800766, 0.06443   , 0.08649438, 0.10337011,\n",
              "       0.12427586, 0.12593824, 0.14618911, 0.0646315 , 0.08276661,\n",
              "       0.1537454 , 0.16870687, 0.15082364, 0.11843232, 0.16261146,\n",
              "       0.20845297, 0.23968566, 0.23459775, 0.23772102, 0.27802126,\n",
              "       0.1529394 , 0.18261045, 0.22371669, 0.22507682, 0.28451967,\n",
              "       0.23671352, 0.26139741, 0.29353685, 0.36471714, 0.32965594,\n",
              "       0.33121757, 0.37771397, 0.25273286, 0.21605964, 0.33711148,\n",
              "       0.39705808, 0.35081356, 0.28195053, 0.27872651, 0.35580072,\n",
              "       0.4082414 , 0.42229611, 0.41524356, 0.42808927, 0.25731701,\n",
              "       0.28230316, 0.39055967, 0.47604655, 0.45312579, 0.35408796,\n",
              "       0.42083522, 0.47448491, 0.5104025 , 0.42033147, 0.4851141 ,\n",
              "       0.4131278 , 0.24920659, 0.18870586, 0.34990681, 0.40839252,\n",
              "       0.32799355, 0.23157524, 0.26552818, 0.3282958 , 0.32159589,\n",
              "       0.26764395, 0.21374238, 0.2175709 , 0.12921263, 0.14503048,\n",
              "       0.29882626, 0.37962823, 0.32230114, 0.23973603, 0.24195255,\n",
              "       0.29565261, 0.36899904, 0.38194549, 0.39761221, 0.43428543,\n",
              "       0.24447131, 0.25152385, 0.30436754, 0.35131731, 0.28225278,\n",
              "       0.2004433 , 0.18190519, 0.26144779, 0.33272883, 0.35267745,\n",
              "       0.37247494, 0.40738502, 0.255302  , 0.2595839 , 0.32678454,\n",
              "       0.29696237, 0.25615838, 0.20941011, 0.31061407, 0.404161  ,\n",
              "       0.43272379, 0.41267442, 0.45509042, 0.51246789, 0.32038688,\n",
              "       0.39126492, 0.50153645, 0.54581633, 0.53846154, 0.45619868,\n",
              "       0.55830941, 0.62807919, 0.66223364, 0.60198479, 0.61190872,\n",
              "       0.62591305, 0.42632613, 0.51544003, 0.52863836, 0.63175659,\n",
              "       0.61911239, 0.48420734, 0.62626568, 0.659463  , 0.66157876,\n",
              "       0.65236008, 0.6723087 , 0.63795275, 0.43478918, 0.52758047,\n",
              "       0.65583598, 0.69855423, 0.64974057, 0.48289759, 0.66530653,\n",
              "       0.69885648, 0.65220896, 0.68339126, 0.69336557, 0.69336557,\n",
              "       0.4687925 , 0.51438215, 0.67336658, 0.69543096, 0.60143066,\n",
              "       0.59881114, 0.62722281, 0.79124477, 0.76459624, 0.71749534,\n",
              "       0.68626266, 0.69578359, 0.38456501, 0.49876581, 0.6637449 ,\n",
              "       0.74716639, 0.68157775, 0.52984736, 0.60263967, 0.75250617,\n",
              "       0.80026195, 0.76313536, 0.81149564, 0.81587829, 0.45680318,\n",
              "       0.6588585 , 0.78681175, 0.8972344 , 0.83179689, 0.72958541,\n",
              "       0.84252682, 0.9194499 , 0.8597048 , 0.92645207, 0.88096318,\n",
              "       0.79638305, 0.41554582, 0.78308398, 0.83572616, 0.84025994,\n",
              "       0.84872299, 0.66072238, 0.47997582, 0.8431817 , 0.91879502,\n",
              "       0.84242607, 0.95642537, 0.98211677, 0.53377664, 0.83486978,\n",
              "       0.81330915, 0.94000302, 0.68888217, 0.41544507, 0.60097728,\n",
              "       0.67830336, 0.6254093 , 0.76721576, 0.85980555, 0.81970682,\n",
              "       0.53881417, 0.79461992, 0.87098887, 1.        , 0.83844643,\n",
              "       0.54440582])"
            ]
          },
          "metadata": {
            "tags": []
          },
          "execution_count": 9
        }
      ]
    },
    {
      "cell_type": "code",
      "metadata": {
        "id": "WQYJ9g5N5-RU",
        "colab_type": "code",
        "colab": {
          "base_uri": "https://localhost:8080/",
          "height": 416
        },
        "outputId": "9c98e067-22c3-4c8c-bb03-86b32ae0e963"
      },
      "source": [
        "#Atribuíndo os dados normalizados no atributo 'Vendas'\n",
        "data['Vendas'] = serie_normalizada[0]\n",
        "data"
      ],
      "execution_count": 10,
      "outputs": [
        {
          "output_type": "execute_result",
          "data": {
            "text/html": [
              "<div>\n",
              "<style scoped>\n",
              "    .dataframe tbody tr th:only-of-type {\n",
              "        vertical-align: middle;\n",
              "    }\n",
              "\n",
              "    .dataframe tbody tr th {\n",
              "        vertical-align: top;\n",
              "    }\n",
              "\n",
              "    .dataframe thead th {\n",
              "        text-align: right;\n",
              "    }\n",
              "</style>\n",
              "<table border=\"1\" class=\"dataframe\">\n",
              "  <thead>\n",
              "    <tr style=\"text-align: right;\">\n",
              "      <th></th>\n",
              "      <th>Vendas</th>\n",
              "    </tr>\n",
              "  </thead>\n",
              "  <tbody>\n",
              "    <tr>\n",
              "      <th>1956-01-31</th>\n",
              "      <td>0.081104</td>\n",
              "    </tr>\n",
              "    <tr>\n",
              "      <th>1956-02-29</th>\n",
              "      <td>0.094756</td>\n",
              "    </tr>\n",
              "    <tr>\n",
              "      <th>1956-03-31</th>\n",
              "      <td>0.068510</td>\n",
              "    </tr>\n",
              "    <tr>\n",
              "      <th>1956-04-30</th>\n",
              "      <td>0.073800</td>\n",
              "    </tr>\n",
              "    <tr>\n",
              "      <th>1956-05-31</th>\n",
              "      <td>0.090273</td>\n",
              "    </tr>\n",
              "    <tr>\n",
              "      <th>...</th>\n",
              "      <td>...</td>\n",
              "    </tr>\n",
              "    <tr>\n",
              "      <th>1976-07-31</th>\n",
              "      <td>0.794620</td>\n",
              "    </tr>\n",
              "    <tr>\n",
              "      <th>1976-08-31</th>\n",
              "      <td>0.870989</td>\n",
              "    </tr>\n",
              "    <tr>\n",
              "      <th>1976-09-30</th>\n",
              "      <td>1.000000</td>\n",
              "    </tr>\n",
              "    <tr>\n",
              "      <th>1976-10-31</th>\n",
              "      <td>0.838446</td>\n",
              "    </tr>\n",
              "    <tr>\n",
              "      <th>1976-11-30</th>\n",
              "      <td>0.544406</td>\n",
              "    </tr>\n",
              "  </tbody>\n",
              "</table>\n",
              "<p>251 rows × 1 columns</p>\n",
              "</div>"
            ],
            "text/plain": [
              "              Vendas\n",
              "1956-01-31  0.081104\n",
              "1956-02-29  0.094756\n",
              "1956-03-31  0.068510\n",
              "1956-04-30  0.073800\n",
              "1956-05-31  0.090273\n",
              "...              ...\n",
              "1976-07-31  0.794620\n",
              "1976-08-31  0.870989\n",
              "1976-09-30  1.000000\n",
              "1976-10-31  0.838446\n",
              "1976-11-30  0.544406\n",
              "\n",
              "[251 rows x 1 columns]"
            ]
          },
          "metadata": {
            "tags": []
          },
          "execution_count": 10
        }
      ]
    },
    {
      "cell_type": "code",
      "metadata": {
        "id": "dzB9M0Um7eDl",
        "colab_type": "code",
        "colab": {}
      },
      "source": [
        "#Divindo o dataset em dados de Treino e Teste\n",
        "train_data, test_data = data.loc['1956':'1974'], data.loc['1975':]"
      ],
      "execution_count": 11,
      "outputs": []
    },
    {
      "cell_type": "code",
      "metadata": {
        "id": "irrxoI1H_85n",
        "colab_type": "code",
        "colab": {
          "base_uri": "https://localhost:8080/",
          "height": 416
        },
        "outputId": "52f953ae-4dc5-4434-efc7-bcf1617702b7"
      },
      "source": [
        "#Dados de treino definido entre 1956 a 1974\n",
        "train_data"
      ],
      "execution_count": 12,
      "outputs": [
        {
          "output_type": "execute_result",
          "data": {
            "text/html": [
              "<div>\n",
              "<style scoped>\n",
              "    .dataframe tbody tr th:only-of-type {\n",
              "        vertical-align: middle;\n",
              "    }\n",
              "\n",
              "    .dataframe tbody tr th {\n",
              "        vertical-align: top;\n",
              "    }\n",
              "\n",
              "    .dataframe thead th {\n",
              "        text-align: right;\n",
              "    }\n",
              "</style>\n",
              "<table border=\"1\" class=\"dataframe\">\n",
              "  <thead>\n",
              "    <tr style=\"text-align: right;\">\n",
              "      <th></th>\n",
              "      <th>Vendas</th>\n",
              "    </tr>\n",
              "  </thead>\n",
              "  <tbody>\n",
              "    <tr>\n",
              "      <th>1956-01-31</th>\n",
              "      <td>0.081104</td>\n",
              "    </tr>\n",
              "    <tr>\n",
              "      <th>1956-02-29</th>\n",
              "      <td>0.094756</td>\n",
              "    </tr>\n",
              "    <tr>\n",
              "      <th>1956-03-31</th>\n",
              "      <td>0.068510</td>\n",
              "    </tr>\n",
              "    <tr>\n",
              "      <th>1956-04-30</th>\n",
              "      <td>0.073800</td>\n",
              "    </tr>\n",
              "    <tr>\n",
              "      <th>1956-05-31</th>\n",
              "      <td>0.090273</td>\n",
              "    </tr>\n",
              "    <tr>\n",
              "      <th>...</th>\n",
              "      <td>...</td>\n",
              "    </tr>\n",
              "    <tr>\n",
              "      <th>1974-08-31</th>\n",
              "      <td>0.835726</td>\n",
              "    </tr>\n",
              "    <tr>\n",
              "      <th>1974-09-30</th>\n",
              "      <td>0.840260</td>\n",
              "    </tr>\n",
              "    <tr>\n",
              "      <th>1974-10-31</th>\n",
              "      <td>0.848723</td>\n",
              "    </tr>\n",
              "    <tr>\n",
              "      <th>1974-11-30</th>\n",
              "      <td>0.660722</td>\n",
              "    </tr>\n",
              "    <tr>\n",
              "      <th>1974-12-31</th>\n",
              "      <td>0.479976</td>\n",
              "    </tr>\n",
              "  </tbody>\n",
              "</table>\n",
              "<p>228 rows × 1 columns</p>\n",
              "</div>"
            ],
            "text/plain": [
              "              Vendas\n",
              "1956-01-31  0.081104\n",
              "1956-02-29  0.094756\n",
              "1956-03-31  0.068510\n",
              "1956-04-30  0.073800\n",
              "1956-05-31  0.090273\n",
              "...              ...\n",
              "1974-08-31  0.835726\n",
              "1974-09-30  0.840260\n",
              "1974-10-31  0.848723\n",
              "1974-11-30  0.660722\n",
              "1974-12-31  0.479976\n",
              "\n",
              "[228 rows x 1 columns]"
            ]
          },
          "metadata": {
            "tags": []
          },
          "execution_count": 12
        }
      ]
    },
    {
      "cell_type": "code",
      "metadata": {
        "id": "_OSV3D7RAFCa",
        "colab_type": "code",
        "colab": {
          "base_uri": "https://localhost:8080/",
          "height": 754
        },
        "outputId": "a31205d3-b044-456e-9659-bfc26080598b"
      },
      "source": [
        "#Dados de teste definido de 1975 até o final da série (1976 nesta série)\n",
        "test_data"
      ],
      "execution_count": 13,
      "outputs": [
        {
          "output_type": "execute_result",
          "data": {
            "text/html": [
              "<div>\n",
              "<style scoped>\n",
              "    .dataframe tbody tr th:only-of-type {\n",
              "        vertical-align: middle;\n",
              "    }\n",
              "\n",
              "    .dataframe tbody tr th {\n",
              "        vertical-align: top;\n",
              "    }\n",
              "\n",
              "    .dataframe thead th {\n",
              "        text-align: right;\n",
              "    }\n",
              "</style>\n",
              "<table border=\"1\" class=\"dataframe\">\n",
              "  <thead>\n",
              "    <tr style=\"text-align: right;\">\n",
              "      <th></th>\n",
              "      <th>Vendas</th>\n",
              "    </tr>\n",
              "  </thead>\n",
              "  <tbody>\n",
              "    <tr>\n",
              "      <th>1975-01-31</th>\n",
              "      <td>0.843182</td>\n",
              "    </tr>\n",
              "    <tr>\n",
              "      <th>1975-02-28</th>\n",
              "      <td>0.918795</td>\n",
              "    </tr>\n",
              "    <tr>\n",
              "      <th>1975-03-31</th>\n",
              "      <td>0.842426</td>\n",
              "    </tr>\n",
              "    <tr>\n",
              "      <th>1975-04-30</th>\n",
              "      <td>0.956425</td>\n",
              "    </tr>\n",
              "    <tr>\n",
              "      <th>1975-05-31</th>\n",
              "      <td>0.982117</td>\n",
              "    </tr>\n",
              "    <tr>\n",
              "      <th>1975-06-30</th>\n",
              "      <td>0.533777</td>\n",
              "    </tr>\n",
              "    <tr>\n",
              "      <th>1975-07-31</th>\n",
              "      <td>0.834870</td>\n",
              "    </tr>\n",
              "    <tr>\n",
              "      <th>1975-08-31</th>\n",
              "      <td>0.813309</td>\n",
              "    </tr>\n",
              "    <tr>\n",
              "      <th>1975-09-30</th>\n",
              "      <td>0.940003</td>\n",
              "    </tr>\n",
              "    <tr>\n",
              "      <th>1975-10-31</th>\n",
              "      <td>0.688882</td>\n",
              "    </tr>\n",
              "    <tr>\n",
              "      <th>1975-11-30</th>\n",
              "      <td>0.415445</td>\n",
              "    </tr>\n",
              "    <tr>\n",
              "      <th>1975-12-31</th>\n",
              "      <td>0.600977</td>\n",
              "    </tr>\n",
              "    <tr>\n",
              "      <th>1976-01-31</th>\n",
              "      <td>0.678303</td>\n",
              "    </tr>\n",
              "    <tr>\n",
              "      <th>1976-02-29</th>\n",
              "      <td>0.625409</td>\n",
              "    </tr>\n",
              "    <tr>\n",
              "      <th>1976-03-31</th>\n",
              "      <td>0.767216</td>\n",
              "    </tr>\n",
              "    <tr>\n",
              "      <th>1976-04-30</th>\n",
              "      <td>0.859806</td>\n",
              "    </tr>\n",
              "    <tr>\n",
              "      <th>1976-05-31</th>\n",
              "      <td>0.819707</td>\n",
              "    </tr>\n",
              "    <tr>\n",
              "      <th>1976-06-30</th>\n",
              "      <td>0.538814</td>\n",
              "    </tr>\n",
              "    <tr>\n",
              "      <th>1976-07-31</th>\n",
              "      <td>0.794620</td>\n",
              "    </tr>\n",
              "    <tr>\n",
              "      <th>1976-08-31</th>\n",
              "      <td>0.870989</td>\n",
              "    </tr>\n",
              "    <tr>\n",
              "      <th>1976-09-30</th>\n",
              "      <td>1.000000</td>\n",
              "    </tr>\n",
              "    <tr>\n",
              "      <th>1976-10-31</th>\n",
              "      <td>0.838446</td>\n",
              "    </tr>\n",
              "    <tr>\n",
              "      <th>1976-11-30</th>\n",
              "      <td>0.544406</td>\n",
              "    </tr>\n",
              "  </tbody>\n",
              "</table>\n",
              "</div>"
            ],
            "text/plain": [
              "              Vendas\n",
              "1975-01-31  0.843182\n",
              "1975-02-28  0.918795\n",
              "1975-03-31  0.842426\n",
              "1975-04-30  0.956425\n",
              "1975-05-31  0.982117\n",
              "1975-06-30  0.533777\n",
              "1975-07-31  0.834870\n",
              "1975-08-31  0.813309\n",
              "1975-09-30  0.940003\n",
              "1975-10-31  0.688882\n",
              "1975-11-30  0.415445\n",
              "1975-12-31  0.600977\n",
              "1976-01-31  0.678303\n",
              "1976-02-29  0.625409\n",
              "1976-03-31  0.767216\n",
              "1976-04-30  0.859806\n",
              "1976-05-31  0.819707\n",
              "1976-06-30  0.538814\n",
              "1976-07-31  0.794620\n",
              "1976-08-31  0.870989\n",
              "1976-09-30  1.000000\n",
              "1976-10-31  0.838446\n",
              "1976-11-30  0.544406"
            ]
          },
          "metadata": {
            "tags": []
          },
          "execution_count": 13
        }
      ]
    },
    {
      "cell_type": "code",
      "metadata": {
        "id": "YYfbRnGnAe9S",
        "colab_type": "code",
        "colab": {
          "base_uri": "https://localhost:8080/",
          "height": 268
        },
        "outputId": "8dc4d093-4f76-4a30-a852-c68f47baa88b"
      },
      "source": [
        "#Plotando a previsão dos dados de teste\n",
        "plt.plot(train_data, label='Train')\n",
        "plt.plot(test_data, label='Test')\n",
        "plt.legend(loc='best')\n",
        "plt.show()"
      ],
      "execution_count": 14,
      "outputs": [
        {
          "output_type": "display_data",
          "data": {
            "image/png": "[encoded data removed]",
            "text/plain": [
              "<Figure size 432x288 with 1 Axes>"
            ]
          },
          "metadata": {
            "tags": [],
            "needs_background": "light"
          }
        }
      ]
    },
    {
      "cell_type": "markdown",
      "metadata": {
        "id": "2ynisye8bCRe",
        "colab_type": "text"
      },
      "source": [
        "Observamos no gráfico acima que a previsão dos dados de teste (cor laranja) seguem uma tendência e sazonalidade coerente em relação aos dados de treino (cor azul)"
      ]
    },
    {
      "cell_type": "code",
      "metadata": {
        "id": "HXYtJKa_Auyi",
        "colab_type": "code",
        "colab": {}
      },
      "source": [
        "# MAPE\n",
        "\n",
        "#Definindo a função MAPE (Mean Absolute Percentage Error). \n",
        "#Calcula a acurária do erro em percentagem. Quando menor for o valor, melhor a acurácia.\n",
        "def MAPE(actual: np.ndarray, predicted: np.ndarray):\n",
        "\n",
        "    actual = list(actual)\n",
        "    predicted = list(predicted)\n",
        "    n = len(actual)\n",
        "    soma = 0\n",
        "    for i in range(0, len(actual)):\n",
        "        if actual[i] > 0.0:\n",
        "            x = np.abs((predicted[i] - actual[i]) / actual[i])\n",
        "\n",
        "        else:\n",
        "            x = 0\n",
        "        \n",
        "        soma = x + soma\n",
        "    return 100/n * soma"
      ],
      "execution_count": 15,
      "outputs": []
    },
    {
      "cell_type": "code",
      "metadata": {
        "id": "edfyeJhBBx5j",
        "colab_type": "code",
        "colab": {}
      },
      "source": [
        "import statsmodels.api as sm"
      ],
      "execution_count": 16,
      "outputs": []
    },
    {
      "cell_type": "code",
      "metadata": {
        "id": "cOsIp9KR-hdE",
        "colab_type": "code",
        "colab": {}
      },
      "source": [
        "#Definindo função de ACF(Auto-Correlação) e PACF(Auto-Correlação Parcial) \n",
        "def acf_pacf(x, qtd_lag):\n",
        "    fig = plt.figure(figsize=(16,10))\n",
        "    ax1 = fig.add_subplot(221)\n",
        "    fig = sm.graphics.tsa.plot_acf(x, lags=qtd_lag, ax=ax1)\n",
        "    ax2 = fig.add_subplot(222)\n",
        "    fig = sm.graphics.tsa.plot_pacf(x, lags=qtd_lag, ax=ax2)\n",
        "    plt.show()"
      ],
      "execution_count": 17,
      "outputs": []
    },
    {
      "cell_type": "code",
      "metadata": {
        "id": "WiCeSah0DES9",
        "colab_type": "code",
        "colab": {
          "base_uri": "https://localhost:8080/",
          "height": 313
        },
        "outputId": "38c47443-1316-4ade-aa4e-9e49d1b77220"
      },
      "source": [
        "#Plotando a correlação linear dos pontos (lags) anteriores ao ponto de origem para visualizar e analisar os padrões da série\n",
        "qtd_lag = 20 #Definindo a correlação de 20 pontos\n",
        "acf_pacf(train_data, qtd_lag)"
      ],
      "execution_count": 18,
      "outputs": [
        {
          "output_type": "display_data",
          "data": {
            "image/png": "[encoded data removed]",
            "text/plain": [
              "<Figure size 1152x720 with 2 Axes>"
            ]
          },
          "metadata": {
            "tags": [],
            "needs_background": "light"
          }
        }
      ]
    },
    {
      "cell_type": "code",
      "metadata": {
        "id": "cH8DwIDtKgy7",
        "colab_type": "code",
        "colab": {}
      },
      "source": [
        "from statsmodels.tsa.stattools import adfuller\n",
        "\n",
        "#Teste de Estacionariedade\n",
        "\n",
        "#O teste de adf fornecem os seguintes resultados: estatística do teste, valor de p, lags, e o valor crítico em \n",
        "#intervalos de confiança 1%, 5% e 10%\n",
        "\n",
        "def teste_df(serie):\n",
        "  #H0: Série não estacionária\n",
        "  dftest = adfuller(serie, autolag='AIC')\n",
        "  df_output = pd.Series(dftest[0:4], index=['Test Statistic', 'p-value', '#Lags', 'Nº Observações'])\n",
        "  for key, value in dftest[4].items():\n",
        "    df_output['Valor crítico (%s)'%key] = value\n",
        "  print(df_output)\n",
        "  if df_output[0] < df_output['Valor crítico (10%)']: #Descarta a H0 se o teste estatístico for menor que o valor crítico\n",
        "\n",
        "    print('--------estacionária')\n",
        "  else:\n",
        "    print(df_output[0])\n",
        "    print('--------não estacionária')"
      ],
      "execution_count": 19,
      "outputs": []
    },
    {
      "cell_type": "code",
      "metadata": {
        "id": "-Vm0KNIA9jdE",
        "colab_type": "code",
        "colab": {
          "base_uri": "https://localhost:8080/",
          "height": 190
        },
        "outputId": "81159e04-9fb3-4a40-e0f7-9ad8a6a25db2"
      },
      "source": [
        "#Aplicando o teste adf aos dados\n",
        "teste_df(train_data.Vendas)"
      ],
      "execution_count": 20,
      "outputs": [
        {
          "output_type": "stream",
          "text": [
            "Test Statistic          -1.404938\n",
            "p-value                  0.579906\n",
            "#Lags                   12.000000\n",
            "Nº Observações         215.000000\n",
            "Valor crítico (1%)      -3.461136\n",
            "Valor crítico (5%)      -2.875079\n",
            "Valor crítico (10%)     -2.573986\n",
            "dtype: float64\n",
            "-1.4049381915458368\n",
            "--------não estacionária\n"
          ],
          "name": "stdout"
        }
      ]
    },
    {
      "cell_type": "markdown",
      "metadata": {
        "id": "DWlhSAquip_w",
        "colab_type": "text"
      },
      "source": [
        "O resultado do teste adf acima mostra que com base no nível de significância de 5% e no valor de p, a hipótese nula não pode ser rejeitada. Portanto a série é não-estacionária."
      ]
    },
    {
      "cell_type": "markdown",
      "metadata": {
        "id": "qsDuNFXbKr7b",
        "colab_type": "text"
      },
      "source": [
        "##Aplicando Experimentos"
      ]
    },
    {
      "cell_type": "markdown",
      "metadata": {
        "id": "n3VGxiYiYM5E",
        "colab_type": "text"
      },
      "source": [
        "**MODELO ARIMA**"
      ]
    },
    {
      "cell_type": "code",
      "metadata": {
        "id": "VlUr8yvP-Cil",
        "colab_type": "code",
        "colab": {}
      },
      "source": [
        "from statsmodels.tsa.arima_model import ARIMA\n",
        "from sklearn.metrics import mean_squared_error as MSE"
      ],
      "execution_count": 21,
      "outputs": []
    },
    {
      "cell_type": "code",
      "metadata": {
        "id": "VOhLCAu19jaK",
        "colab_type": "code",
        "colab": {}
      },
      "source": [
        "#Parâmetros\n",
        "p,d,q = 1, 1, 1 #Parâmetros do ARIMA"
      ],
      "execution_count": 22,
      "outputs": []
    },
    {
      "cell_type": "markdown",
      "metadata": {
        "id": "iNWg0_8VHvqY",
        "colab_type": "text"
      },
      "source": [
        "**Modelagem dos dados - ARIMA**"
      ]
    },
    {
      "cell_type": "code",
      "metadata": {
        "id": "n8iT8QUeILk-",
        "colab_type": "code",
        "colab": {}
      },
      "source": [
        "#Ajustando os dados de treino do modelo ARIMA\n",
        "model = ARIMA(train_data.values, order=(p,d,q)).fit() "
      ],
      "execution_count": 23,
      "outputs": []
    },
    {
      "cell_type": "code",
      "metadata": {
        "id": "ieSv5UQNIqXB",
        "colab_type": "code",
        "colab": {
          "base_uri": "https://localhost:8080/",
          "height": 814
        },
        "outputId": "499162e8-dbad-4d10-bb1c-b3f60fe00aec"
      },
      "source": [
        "#Treinando o modelo\n",
        "model.predict(typ='levels')"
      ],
      "execution_count": 24,
      "outputs": [
        {
          "output_type": "execute_result",
          "data": {
            "text/plain": [
              "array([0.08406546, 0.09495602, 0.07838457, 0.08155189, 0.09228878,\n",
              "       0.0375527 , 0.04611707, 0.08314993, 0.09106543, 0.09231278,\n",
              "       0.06588808, 0.08350993, 0.10298077, 0.10683293, 0.11036484,\n",
              "       0.1140788 , 0.11729252, 0.05447107, 0.05708235, 0.12253249,\n",
              "       0.13669514, 0.14153302, 0.11161448, 0.14634086, 0.16163974,\n",
              "       0.16426337, 0.15718175, 0.16687654, 0.17401678, 0.12599788,\n",
              "       0.10249441, 0.14424043, 0.17628556, 0.16822065, 0.11051501,\n",
              "       0.12893118, 0.13224447, 0.1280758 , 0.13457401, 0.14419944,\n",
              "       0.15225222, 0.11541712, 0.11536321, 0.1624153 , 0.18745182,\n",
              "       0.17070375, 0.10053742, 0.10588686, 0.11566226, 0.12378397,\n",
              "       0.1351579 , 0.1365226 , 0.14857805, 0.10313727, 0.11097697,\n",
              "       0.15022465, 0.16076392, 0.15294542, 0.1357256 , 0.16078018,\n",
              "       0.18884455, 0.2104438 , 0.21225259, 0.21802807, 0.24483579,\n",
              "       0.17826355, 0.19413552, 0.21804837, 0.22101951, 0.25712231,\n",
              "       0.2342379 , 0.25023967, 0.27145011, 0.31622201, 0.30291437,\n",
              "       0.30826717, 0.33897808, 0.27306048, 0.25142764, 0.31861772,\n",
              "       0.3565618 , 0.33598144, 0.29967171, 0.29749908, 0.34125677,\n",
              "       0.37447218, 0.38774428, 0.38899754, 0.40076738, 0.30736552,\n",
              "       0.31789241, 0.37772179, 0.42970258, 0.423125  , 0.37114407,\n",
              "       0.40916482, 0.44276447, 0.46835254, 0.42280892, 0.46127086,\n",
              "       0.42413925, 0.33054363, 0.28868732, 0.37195087, 0.40469803,\n",
              "       0.36057586, 0.30336708, 0.3166974 , 0.34876785, 0.34430631,\n",
              "       0.31250953, 0.27835918, 0.27518758, 0.2199084 , 0.22080713,\n",
              "       0.30242739, 0.34995406, 0.32185514, 0.27614157, 0.27507934,\n",
              "       0.3038906 , 0.3466436 , 0.35805284, 0.3711872 , 0.3966391 ,\n",
              "       0.29342878, 0.29378978, 0.32112721, 0.34782787, 0.31018287,\n",
              "       0.26185115, 0.24619949, 0.28647738, 0.32624039, 0.33995845,\n",
              "       0.35425985, 0.3778179 , 0.29537398, 0.29510178, 0.33139721,\n",
              "       0.3153827 , 0.29158635, 0.26255261, 0.31645044, 0.37104476,\n",
              "       0.39256565, 0.38696935, 0.41563677, 0.45436162, 0.35205162,\n",
              "       0.39087004, 0.4557244 , 0.48762279, 0.49124505, 0.45073426,\n",
              "       0.51145434, 0.55808091, 0.5867742 , 0.56192345, 0.57350357,\n",
              "       0.58724531, 0.47854106, 0.52560614, 0.53366259, 0.59383248,\n",
              "       0.5922421 , 0.5193581 , 0.59861676, 0.62220718, 0.62900837,\n",
              "       0.62880648, 0.64435964, 0.62924697, 0.51526989, 0.56140404,\n",
              "       0.63289081, 0.66143476, 0.63901811, 0.54608429, 0.64546533,\n",
              "       0.66841834, 0.64652529, 0.66659825, 0.6757051 , 0.67918591,\n",
              "       0.55352115, 0.57213285, 0.65866673, 0.67448098, 0.62441531,\n",
              "       0.6220233 , 0.63740025, 0.73193847, 0.72461728, 0.70349023,\n",
              "       0.68866899, 0.69545126, 0.51861449, 0.57126442, 0.65964974,\n",
              "       0.70950608, 0.67752874, 0.59254292, 0.62912208, 0.71379013,\n",
              "       0.74691855, 0.73294796, 0.76550587, 0.77454611, 0.5746771 ,\n",
              "       0.67944267, 0.75217983, 0.82080253, 0.79308115, 0.7402176 ,\n",
              "       0.80541709, 0.85509744, 0.82934116, 0.8724612 , 0.85376526,\n",
              "       0.80977304, 0.59154097, 0.7849451 , 0.81651193, 0.82275951,\n",
              "       0.83107586, 0.7267548 ])"
            ]
          },
          "metadata": {
            "tags": []
          },
          "execution_count": 24
        }
      ]
    },
    {
      "cell_type": "code",
      "metadata": {
        "id": "rfNKqm1dIqzx",
        "colab_type": "code",
        "colab": {
          "base_uri": "https://localhost:8080/",
          "height": 268
        },
        "outputId": "4f253c99-efcd-476a-f2c5-ad90240e1c5c"
      },
      "source": [
        "#Plotando o resultado do modelo de treinamento\n",
        "#Comparando o resultado da previsão (Forecast) com o atributo original da série (Target)\n",
        "plt.plot(model.predict(typ='levels'), label='Forecast')\n",
        "plt.plot(train_data.values[1:], label='Target')\n",
        "plt.legend()\n",
        "plt.show()"
      ],
      "execution_count": 25,
      "outputs": [
        {
          "output_type": "display_data",
          "data": {
            "image/png": "[encoded data removed]",
            "text/plain": [
              "<Figure size 432x288 with 1 Axes>"
            ]
          },
          "metadata": {
            "tags": [],
            "needs_background": "light"
          }
        }
      ]
    },
    {
      "cell_type": "markdown",
      "metadata": {
        "id": "Gxad8fCBUtFn",
        "colab_type": "text"
      },
      "source": [
        "O gráfico acima mostra o resultado dos dados de treino do modelo ARIMA para previsão da série. Observamos que a previsão segue uma semelhança entre a tendência e sazonalidade da série original."
      ]
    },
    {
      "cell_type": "markdown",
      "metadata": {
        "id": "NdeNsVhvJxuH",
        "colab_type": "text"
      },
      "source": [
        "**Avaliação dos dados - ARIMA**\n"
      ]
    },
    {
      "cell_type": "code",
      "metadata": {
        "id": "hDiWuoDZIqUZ",
        "colab_type": "code",
        "colab": {}
      },
      "source": [
        "#Subtraíndo os dados originais da série com a previsão, e o que teremos será o resíduo da série.\n",
        "#Ou seja, teremos o ruído da série (resíduos dos dados matemáticos)\n",
        "train_predict = model.predict(typ='levels')\n",
        "residuo = train_data.Vendas.values[1:] - train_predict"
      ],
      "execution_count": 26,
      "outputs": []
    },
    {
      "cell_type": "code",
      "metadata": {
        "id": "YynuyWHrKUtC",
        "colab_type": "code",
        "colab": {
          "base_uri": "https://localhost:8080/",
          "height": 285
        },
        "outputId": "b6363ff8-e46f-4a9d-fe11-e4f0029f0c3b"
      },
      "source": [
        "#Plotando o resíduo\n",
        "plt.plot(residuo)"
      ],
      "execution_count": 27,
      "outputs": [
        {
          "output_type": "execute_result",
          "data": {
            "text/plain": [
              "[<matplotlib.lines.Line2D at 0x7f2d055cefd0>]"
            ]
          },
          "metadata": {
            "tags": []
          },
          "execution_count": 27
        },
        {
          "output_type": "display_data",
          "data": {
            "image/png": "[encoded data removed]",
            "text/plain": [
              "<Figure size 432x288 with 1 Axes>"
            ]
          },
          "metadata": {
            "tags": [],
            "needs_background": "light"
          }
        }
      ]
    },
    {
      "cell_type": "markdown",
      "metadata": {
        "id": "ZNgltU74WZ3n",
        "colab_type": "text"
      },
      "source": [
        "O gráfico acima mostra o resíduo desta série, que de maneira geral são os dados que não \"puderam\" ser explicados e computados matematicamente. "
      ]
    },
    {
      "cell_type": "code",
      "metadata": {
        "id": "TYxwROo-Kd6h",
        "colab_type": "code",
        "colab": {
          "base_uri": "https://localhost:8080/",
          "height": 313
        },
        "outputId": "a67b969f-1850-454d-f99f-0b519fdf19f4"
      },
      "source": [
        "acf_pacf(residuo, 20)"
      ],
      "execution_count": 28,
      "outputs": [
        {
          "output_type": "display_data",
          "data": {
            "image/png": "[encoded data removed]",
            "text/plain": [
              "<Figure size 1152x720 with 2 Axes>"
            ]
          },
          "metadata": {
            "tags": [],
            "needs_background": "light"
          }
        }
      ]
    },
    {
      "cell_type": "code",
      "metadata": {
        "id": "dW_TL8buK25K",
        "colab_type": "code",
        "colab": {
          "base_uri": "https://localhost:8080/",
          "height": 34
        },
        "outputId": "5a3b82c5-4116-42bd-dc70-1c6755b397d9"
      },
      "source": [
        "#Calculando MAPE (Mean Absolute Percentual Error) dos dados de treino previstos\n",
        "MAPE(train_data.Vendas.values[1:], train_predict)"
      ],
      "execution_count": 29,
      "outputs": [
        {
          "output_type": "execute_result",
          "data": {
            "text/plain": [
              "28.99339984482753"
            ]
          },
          "metadata": {
            "tags": []
          },
          "execution_count": 29
        }
      ]
    },
    {
      "cell_type": "markdown",
      "metadata": {
        "id": "y6XVcJnWhD3e",
        "colab_type": "text"
      },
      "source": [
        "O resultado MAPE evidencia a média percentual do erro absoluto dos dados. Para a distribuição dos dados de treinamento previstos do ARIMA, o percentual médio de erro absoluto não obteve um bom resultado. "
      ]
    },
    {
      "cell_type": "code",
      "metadata": {
        "id": "q50dpByXmSnc",
        "colab_type": "code",
        "colab": {
          "base_uri": "https://localhost:8080/",
          "height": 34
        },
        "outputId": "756e6b6e-15c5-437e-ed47-fc12130f83aa"
      },
      "source": [
        "#Calculando MSE (Mean Squared Error) dos dados de treino previstos\n",
        "MSE(train_data.Vendas.values[1:], train_predict)"
      ],
      "execution_count": 30,
      "outputs": [
        {
          "output_type": "execute_result",
          "data": {
            "text/plain": [
              "0.006578332743742541"
            ]
          },
          "metadata": {
            "tags": []
          },
          "execution_count": 30
        }
      ]
    },
    {
      "cell_type": "markdown",
      "metadata": {
        "id": "9cO-EgLDB7SG",
        "colab_type": "text"
      },
      "source": [
        "O resultado do MSE acima para os dados de treinamento usando o modelo ARIMA foi bem baixo. Mostra que os dados de treino previstos são interessantes porque envidencia que a média de erro entre distribuição desses dados de treinamento e a distribuição normal dos dados originais estão harmonizados."
      ]
    },
    {
      "cell_type": "markdown",
      "metadata": {
        "id": "D4nWYSFGLD2K",
        "colab_type": "text"
      },
      "source": [
        "**Teste dos dados - ARIMA**"
      ]
    },
    {
      "cell_type": "code",
      "metadata": {
        "id": "5bRLApYoLW9h",
        "colab_type": "code",
        "colab": {}
      },
      "source": [
        "#Preparando modelo de teste de previsão\n",
        "predict_test = model.forecast(len(test_data))[0] "
      ],
      "execution_count": 31,
      "outputs": []
    },
    {
      "cell_type": "code",
      "metadata": {
        "id": "_Qn6S6EgLeIw",
        "colab_type": "code",
        "colab": {
          "base_uri": "https://localhost:8080/",
          "height": 104
        },
        "outputId": "d73c3494-5927-4f37-b657-6d315e819139"
      },
      "source": [
        "#Dados de test com valores da série original\n",
        "test_data.Vendas.values"
      ],
      "execution_count": 32,
      "outputs": [
        {
          "output_type": "execute_result",
          "data": {
            "text/plain": [
              "array([0.8431817 , 0.91879502, 0.84242607, 0.95642537, 0.98211677,\n",
              "       0.53377664, 0.83486978, 0.81330915, 0.94000302, 0.68888217,\n",
              "       0.41544507, 0.60097728, 0.67830336, 0.6254093 , 0.76721576,\n",
              "       0.85980555, 0.81970682, 0.53881417, 0.79461992, 0.87098887,\n",
              "       1.        , 0.83844643, 0.54440582])"
            ]
          },
          "metadata": {
            "tags": []
          },
          "execution_count": 32
        }
      ]
    },
    {
      "cell_type": "code",
      "metadata": {
        "id": "NAqbXUIjLeYv",
        "colab_type": "code",
        "colab": {
          "base_uri": "https://localhost:8080/",
          "height": 104
        },
        "outputId": "d939d563-8b53-46a2-a695-6736dc78ca89"
      },
      "source": [
        "#Dados de test com valores previstos\n",
        "predict_test"
      ],
      "execution_count": 33,
      "outputs": [
        {
          "output_type": "execute_result",
          "data": {
            "text/plain": [
              "array([0.61759475, 0.68328891, 0.71547551, 0.73205195, 0.74135609,\n",
              "       0.7472723 , 0.75161017, 0.75521274, 0.75847275, 0.76157318,\n",
              "       0.76459926, 0.76759071, 0.77056602, 0.77353381, 0.77649811,\n",
              "       0.77946077, 0.78242267, 0.78538422, 0.7883456 , 0.7913069 ,\n",
              "       0.79426817, 0.79722942, 0.80019067])"
            ]
          },
          "metadata": {
            "tags": []
          },
          "execution_count": 33
        }
      ]
    },
    {
      "cell_type": "code",
      "metadata": {
        "id": "oh_3hLDRLeLw",
        "colab_type": "code",
        "colab": {
          "base_uri": "https://localhost:8080/",
          "height": 268
        },
        "outputId": "ce399cd1-0e87-407f-916f-1d4d850f68f1"
      },
      "source": [
        "#Plotando modelo dos dados originais da teste e de previsão\n",
        "#Comparando o resultado dos dados da previsão (Forecast) com os dados originais da série (Target)\n",
        "plt.plot(predict_test, label='Forecast')\n",
        "plt.plot(test_data.Vendas.values, label='Target')\n",
        "plt.legend()\n",
        "plt.show()"
      ],
      "execution_count": 34,
      "outputs": [
        {
          "output_type": "display_data",
          "data": {
            "image/png": "[encoded data removed]",
            "text/plain": [
              "<Figure size 432x288 with 1 Axes>"
            ]
          },
          "metadata": {
            "tags": [],
            "needs_background": "light"
          }
        }
      ]
    },
    {
      "cell_type": "markdown",
      "metadata": {
        "id": "EoaTCGUMM-aM",
        "colab_type": "text"
      },
      "source": [
        "O gráfico acima mostra que o modelo ARIMA teve um desempenho muito ruim na previsão dos dados de testes. "
      ]
    },
    {
      "cell_type": "code",
      "metadata": {
        "id": "UWJ2_t0XMnUb",
        "colab_type": "code",
        "colab": {
          "base_uri": "https://localhost:8080/",
          "height": 34
        },
        "outputId": "061f0ea3-1a73-4a6c-d0d2-b1595aebb542"
      },
      "source": [
        "#Calculando MAPE (Mean Absolute Percentage Error) dos dados de teste previstos\n",
        "MAPE(test_data.Vendas.values, predict_test)"
      ],
      "execution_count": 35,
      "outputs": [
        {
          "output_type": "execute_result",
          "data": {
            "text/plain": [
              "21.51027104587909"
            ]
          },
          "metadata": {
            "tags": []
          },
          "execution_count": 35
        }
      ]
    },
    {
      "cell_type": "markdown",
      "metadata": {
        "id": "YQZFC37WkL6A",
        "colab_type": "text"
      },
      "source": [
        "A distribuição dos dados de testes previstos obteve um resultado melhor que os de treino, mas ainda sim o comportamento não é satisfatório como evidenciamos no gráfico de previsão dos dados de teste."
      ]
    },
    {
      "cell_type": "code",
      "metadata": {
        "id": "BKNNQZ_lmlh8",
        "colab_type": "code",
        "colab": {
          "base_uri": "https://localhost:8080/",
          "height": 34
        },
        "outputId": "d4746d46-334b-42eb-95bd-a058aa574416"
      },
      "source": [
        "#Calculando MSE (Mean Squared Error) dos dados de teste previstos\n",
        "MSE(test_data.Vendas.values, predict_test)"
      ],
      "execution_count": 36,
      "outputs": [
        {
          "output_type": "execute_result",
          "data": {
            "text/plain": [
              "0.029982276366187194"
            ]
          },
          "metadata": {
            "tags": []
          },
          "execution_count": 36
        }
      ]
    },
    {
      "cell_type": "markdown",
      "metadata": {
        "id": "i9do_63AFwdd",
        "colab_type": "text"
      },
      "source": [
        "Como podemos observar no modelo ARIMA, a média de erro da distribuição dos dados de testes previstos teve um resultado diferente (mais alto) que a distribuição dos dados de treino previstos, mas isso é esperado porque os dados previstos para testes é menor que os previstos para treino. De maneira geral, os resultados do MSE se comportam de que quanto mais dados, mais baixa será a média da taxa de erro."
      ]
    },
    {
      "cell_type": "markdown",
      "metadata": {
        "id": "BJDsAM9aLKku",
        "colab_type": "text"
      },
      "source": [
        "**Criando uma janela deslizante para a série**"
      ]
    },
    {
      "cell_type": "code",
      "metadata": {
        "id": "-H4GOwqYLSbH",
        "colab_type": "code",
        "colab": {}
      },
      "source": [
        "#Função de janela deslizante\n",
        "def create_sliding_windows(series, window_size):\n",
        "\n",
        "  list = []\n",
        "  list_iterate = len(series) - window_size\n",
        "  for i in range (0, list_iterate):\n",
        "    window = series[i: i + window_size + 1]\n",
        "    list.append(window)\n",
        "\n",
        "  return np.array(list).reshape(len(list), window_size + 1)\n"
      ],
      "execution_count": 37,
      "outputs": []
    },
    {
      "cell_type": "code",
      "metadata": {
        "id": "mpbFn0xIQJ6n",
        "colab_type": "code",
        "colab": {}
      },
      "source": [
        "#Preparando os dados de treinamento \"olhando\" para 20 pontos passados\n",
        "windows_train = create_sliding_windows(train_data.values, 20)"
      ],
      "execution_count": 38,
      "outputs": []
    },
    {
      "cell_type": "code",
      "metadata": {
        "id": "dMzZ2P-BQKW-",
        "colab_type": "code",
        "colab": {
          "base_uri": "https://localhost:8080/",
          "height": 34
        },
        "outputId": "222357cc-5d48-4790-88fa-4e26bcdba66b"
      },
      "source": [
        "windows_train.shape"
      ],
      "execution_count": 39,
      "outputs": [
        {
          "output_type": "execute_result",
          "data": {
            "text/plain": [
              "(208, 21)"
            ]
          },
          "metadata": {
            "tags": []
          },
          "execution_count": 39
        }
      ]
    },
    {
      "cell_type": "code",
      "metadata": {
        "id": "jDVziJMNQKOW",
        "colab_type": "code",
        "colab": {}
      },
      "source": [
        "#Definindo o hiperparametro de validação em 25% dos dados\n",
        "perc_val = 0.25\n",
        "tam_val = np.fix(len(windows_train) * perc_val).astype(int)"
      ],
      "execution_count": 40,
      "outputs": []
    },
    {
      "cell_type": "code",
      "metadata": {
        "id": "OVipTuncQJyh",
        "colab_type": "code",
        "colab": {
          "base_uri": "https://localhost:8080/",
          "height": 34
        },
        "outputId": "ea394c2b-1836-480d-ea3d-1cfd7e213402"
      },
      "source": [
        "tam_val"
      ],
      "execution_count": 41,
      "outputs": [
        {
          "output_type": "execute_result",
          "data": {
            "text/plain": [
              "52"
            ]
          },
          "metadata": {
            "tags": []
          },
          "execution_count": 41
        }
      ]
    },
    {
      "cell_type": "code",
      "metadata": {
        "id": "BDcFcQ4oVyAk",
        "colab_type": "code",
        "colab": {
          "base_uri": "https://localhost:8080/",
          "height": 104
        },
        "outputId": "285d56c3-dbc0-455e-fb36-794ce0ea5efb"
      },
      "source": [
        "windows_train[0]"
      ],
      "execution_count": 42,
      "outputs": [
        {
          "output_type": "execute_result",
          "data": {
            "text/plain": [
              "array([0.08110423, 0.09475593, 0.0685104 , 0.07379981, 0.09027253,\n",
              "       0.        , 0.02030124, 0.08508387, 0.09531006, 0.09384918,\n",
              "       0.04579114, 0.07732608, 0.10931439, 0.11198428, 0.11435192,\n",
              "       0.11727369, 0.1194902 , 0.00725404, 0.01803436, 0.13651705,\n",
              "       0.15576042])"
            ]
          },
          "metadata": {
            "tags": []
          },
          "execution_count": 42
        }
      ]
    },
    {
      "cell_type": "code",
      "metadata": {
        "id": "IqjP2mdoVyGO",
        "colab_type": "code",
        "colab": {}
      },
      "source": [
        "#Dados de treinamento\n",
        "X_train, y_train = windows_train[0:-tam_val, 0:-1], windows_train[0:-tam_val, -1]\n",
        "\n",
        "#Dados de validação\n",
        "X_val, y_val = windows_train[-tam_val:, 0:-1], windows_train[-tam_val:, -1]"
      ],
      "execution_count": 43,
      "outputs": []
    },
    {
      "cell_type": "code",
      "metadata": {
        "id": "zYtioLbrVyD3",
        "colab_type": "code",
        "colab": {
          "base_uri": "https://localhost:8080/",
          "height": 34
        },
        "outputId": "2d70ee29-c9ff-41d1-e040-e24803199c5d"
      },
      "source": [
        "X_train.shape"
      ],
      "execution_count": 44,
      "outputs": [
        {
          "output_type": "execute_result",
          "data": {
            "text/plain": [
              "(156, 20)"
            ]
          },
          "metadata": {
            "tags": []
          },
          "execution_count": 44
        }
      ]
    },
    {
      "cell_type": "code",
      "metadata": {
        "id": "3O-DmL2vVx5N",
        "colab_type": "code",
        "colab": {
          "base_uri": "https://localhost:8080/",
          "height": 86
        },
        "outputId": "61493dbb-7a3d-4ea2-d81b-60bffc7441db"
      },
      "source": [
        "X_train[0]"
      ],
      "execution_count": 45,
      "outputs": [
        {
          "output_type": "execute_result",
          "data": {
            "text/plain": [
              "array([0.08110423, 0.09475593, 0.0685104 , 0.07379981, 0.09027253,\n",
              "       0.        , 0.02030124, 0.08508387, 0.09531006, 0.09384918,\n",
              "       0.04579114, 0.07732608, 0.10931439, 0.11198428, 0.11435192,\n",
              "       0.11727369, 0.1194902 , 0.00725404, 0.01803436, 0.13651705])"
            ]
          },
          "metadata": {
            "tags": []
          },
          "execution_count": 45
        }
      ]
    },
    {
      "cell_type": "code",
      "metadata": {
        "id": "Jebe32uAWjn4",
        "colab_type": "code",
        "colab": {
          "base_uri": "https://localhost:8080/",
          "height": 34
        },
        "outputId": "95b43e56-55e4-47cd-991d-f1a16a50f4c1"
      },
      "source": [
        "y_train[0]"
      ],
      "execution_count": 46,
      "outputs": [
        {
          "output_type": "execute_result",
          "data": {
            "text/plain": [
              "0.15576041509243865"
            ]
          },
          "metadata": {
            "tags": []
          },
          "execution_count": 46
        }
      ]
    },
    {
      "cell_type": "code",
      "metadata": {
        "id": "GHDFPmz5Wwff",
        "colab_type": "code",
        "colab": {
          "base_uri": "https://localhost:8080/",
          "height": 34
        },
        "outputId": "54307009-1fb5-4de8-b41b-ab2a29cee57b"
      },
      "source": [
        "X_val.shape"
      ],
      "execution_count": 47,
      "outputs": [
        {
          "output_type": "execute_result",
          "data": {
            "text/plain": [
              "(52, 20)"
            ]
          },
          "metadata": {
            "tags": []
          },
          "execution_count": 47
        }
      ]
    },
    {
      "cell_type": "code",
      "metadata": {
        "id": "521Y1qwUWwjH",
        "colab_type": "code",
        "colab": {
          "base_uri": "https://localhost:8080/",
          "height": 86
        },
        "outputId": "14b70f41-4eae-4b96-c860-e75973439d1d"
      },
      "source": [
        "#Dados de entrada de treinamento (20 pontos passados)\n",
        "train_data['Vendas'].values[-20:]"
      ],
      "execution_count": 48,
      "outputs": [
        {
          "output_type": "execute_result",
          "data": {
            "text/plain": [
              "array([0.81587829, 0.45680318, 0.6588585 , 0.78681175, 0.8972344 ,\n",
              "       0.83179689, 0.72958541, 0.84252682, 0.9194499 , 0.8597048 ,\n",
              "       0.92645207, 0.88096318, 0.79638305, 0.41554582, 0.78308398,\n",
              "       0.83572616, 0.84025994, 0.84872299, 0.66072238, 0.47997582])"
            ]
          },
          "metadata": {
            "tags": []
          },
          "execution_count": 48
        }
      ]
    },
    {
      "cell_type": "code",
      "metadata": {
        "id": "HrzfqSURWwV5",
        "colab_type": "code",
        "colab": {}
      },
      "source": [
        "#Preparando o conjunto de dados de teste com os dados de treino com os 20 pontos passados atribuídos\n",
        "pontos_anteriores_test = train_data['Vendas'].values[-20:]\n",
        "test = np.hstack([pontos_anteriores_test, test_data['Vendas'].values])"
      ],
      "execution_count": 49,
      "outputs": []
    },
    {
      "cell_type": "code",
      "metadata": {
        "id": "sAiYSQdb8_Fg",
        "colab_type": "code",
        "colab": {
          "base_uri": "https://localhost:8080/",
          "height": 34
        },
        "outputId": "6fbca414-1ae1-4923-f4ef-9fcab19114cb"
      },
      "source": [
        "#Quantidade de dados de teste para previsão\n",
        "len(test_data)"
      ],
      "execution_count": 50,
      "outputs": [
        {
          "output_type": "execute_result",
          "data": {
            "text/plain": [
              "23"
            ]
          },
          "metadata": {
            "tags": []
          },
          "execution_count": 50
        }
      ]
    },
    {
      "cell_type": "code",
      "metadata": {
        "id": "0dX8fgn09CIK",
        "colab_type": "code",
        "colab": {}
      },
      "source": [
        "#Preparando a janela de teste\n",
        "windows_test = create_sliding_windows(test, 20)"
      ],
      "execution_count": 51,
      "outputs": []
    },
    {
      "cell_type": "code",
      "metadata": {
        "id": "YUgia4dQ9CUe",
        "colab_type": "code",
        "colab": {
          "base_uri": "https://localhost:8080/",
          "height": 34
        },
        "outputId": "5d8d588d-ab59-4836-fb9b-8cd4d096d817"
      },
      "source": [
        "windows_test.shape"
      ],
      "execution_count": 52,
      "outputs": [
        {
          "output_type": "execute_result",
          "data": {
            "text/plain": [
              "(23, 21)"
            ]
          },
          "metadata": {
            "tags": []
          },
          "execution_count": 52
        }
      ]
    },
    {
      "cell_type": "code",
      "metadata": {
        "id": "EnEPOS1d9B6K",
        "colab_type": "code",
        "colab": {}
      },
      "source": [
        "X_test, y_test = windows_test[:, 0:-1], windows_test[:,-1]"
      ],
      "execution_count": 53,
      "outputs": []
    },
    {
      "cell_type": "markdown",
      "metadata": {
        "id": "0lwF6ti3-UK3",
        "colab_type": "text"
      },
      "source": [
        "**Seleção de Lags**"
      ]
    },
    {
      "cell_type": "code",
      "metadata": {
        "id": "Wx8lwbxF-Xnj",
        "colab_type": "code",
        "colab": {}
      },
      "source": [
        "#Função para selecionar os lags\n",
        "def select_lag_acf(serie, max_lag):\n",
        "  from statsmodels.tsa.stattools import acf\n",
        "  x = serie[0: max_lag + 1]\n",
        "\n",
        "  acf_x, confint = acf(serie, nlags=max_lag, alpha=.05, fft=False, unbiased=False)\n",
        "\n",
        "  limiar_superior = confint[:, 1] - acf_x\n",
        "  limiar_inferior = confint[:, 0] - acf_x\n",
        "\n",
        "  lags_selecionados = []\n",
        "\n",
        "  for i in range(1, max_lag + 1):\n",
        "\n",
        "    if acf_x[i] >= limiar_superior[i] or acf_x[i] <= limiar_inferior[i]:\n",
        "      lags_selecionados.append(i-1) #-1 por conta de que o lag 1 em python é o 0\n",
        "  \n",
        "  #Caso nenhum lag seja selecionado, essa atividade de seleção para o gridsearch encontar a melhor combinação de lags\n",
        "  if len(lags_selecionados)==0:\n",
        "\n",
        "    print('Nenhum lag por acf')\n",
        "    lags_selecionados = [i for i in range(max_lag)]\n",
        "\n",
        "  print('Lags', lags_selecionados)\n",
        "\n",
        "  #Inverte o valor dos lags para usar na lista de dados\n",
        "  lags_selecionados = [max_lag - (i+1) for i in lags_selecionados]\n",
        "\n",
        "  return lags_selecionados"
      ],
      "execution_count": 54,
      "outputs": []
    },
    {
      "cell_type": "code",
      "metadata": {
        "id": "CwJSwWOt-YFN",
        "colab_type": "code",
        "colab": {
          "base_uri": "https://localhost:8080/",
          "height": 34
        },
        "outputId": "2d965b89-2707-4d8b-c248-16d91020b9f6"
      },
      "source": [
        "#Retorno da seleção dos lags\n",
        "lags_sel = select_lag_acf(train_data, 20)"
      ],
      "execution_count": 55,
      "outputs": [
        {
          "output_type": "stream",
          "text": [
            "Lags [0, 1, 2, 3, 4, 5, 6, 7, 8, 9, 10, 11, 12, 13, 14, 15, 16, 17, 18]\n"
          ],
          "name": "stdout"
        }
      ]
    },
    {
      "cell_type": "code",
      "metadata": {
        "id": "m7q8N_KD-X5b",
        "colab_type": "code",
        "colab": {
          "base_uri": "https://localhost:8080/",
          "height": 34
        },
        "outputId": "a337e36f-5d81-422f-ebd5-e2f035980811"
      },
      "source": [
        "#Lags que serão passados a matriz\n",
        "lags_sel"
      ],
      "execution_count": 56,
      "outputs": [
        {
          "output_type": "execute_result",
          "data": {
            "text/plain": [
              "[19, 18, 17, 16, 15, 14, 13, 12, 11, 10, 9, 8, 7, 6, 5, 4, 3, 2, 1]"
            ]
          },
          "metadata": {
            "tags": []
          },
          "execution_count": 56
        }
      ]
    },
    {
      "cell_type": "code",
      "metadata": {
        "id": "YRJIJQnp-XdH",
        "colab_type": "code",
        "colab": {
          "base_uri": "https://localhost:8080/",
          "height": 34
        },
        "outputId": "570bb27e-76c8-49f7-fb81-59efafc95d1d"
      },
      "source": [
        "X_train.shape"
      ],
      "execution_count": 57,
      "outputs": [
        {
          "output_type": "execute_result",
          "data": {
            "text/plain": [
              "(156, 20)"
            ]
          },
          "metadata": {
            "tags": []
          },
          "execution_count": 57
        }
      ]
    },
    {
      "cell_type": "code",
      "metadata": {
        "id": "82NIbyOhGK0d",
        "colab_type": "code",
        "colab": {}
      },
      "source": [
        "#Atribuíndo os valores dos lags para treino, teste e validação\n",
        "X_train = X_train[:, lags_sel]\n",
        "X_val = X_val[:, lags_sel]\n",
        "X_test = X_test[:, lags_sel]"
      ],
      "execution_count": 58,
      "outputs": []
    },
    {
      "cell_type": "code",
      "metadata": {
        "id": "wHg7bx9eGLJa",
        "colab_type": "code",
        "colab": {
          "base_uri": "https://localhost:8080/",
          "height": 34
        },
        "outputId": "85a29bee-8d0e-4f6a-8a4d-cb6a87c7c29c"
      },
      "source": [
        "X_train.shape"
      ],
      "execution_count": 59,
      "outputs": [
        {
          "output_type": "execute_result",
          "data": {
            "text/plain": [
              "(156, 19)"
            ]
          },
          "metadata": {
            "tags": []
          },
          "execution_count": 59
        }
      ]
    },
    {
      "cell_type": "markdown",
      "metadata": {
        "id": "yxIgl2n6Gtxo",
        "colab_type": "text"
      },
      "source": [
        "**Modelagem e Treinamento**"
      ]
    },
    {
      "cell_type": "code",
      "metadata": {
        "id": "jOem9_p_GK-l",
        "colab_type": "code",
        "colab": {}
      },
      "source": [
        "import itertools"
      ],
      "execution_count": 60,
      "outputs": []
    },
    {
      "cell_type": "markdown",
      "metadata": {
        "id": "SUORSmRoRScZ",
        "colab_type": "text"
      },
      "source": [
        "**MODELO - KNN:**"
      ]
    },
    {
      "cell_type": "code",
      "metadata": {
        "id": "ey__Y4iLG2-E",
        "colab_type": "code",
        "colab": {}
      },
      "source": [
        "#KNN\n",
        "\n",
        "from sklearn.neighbors import KNeighborsRegressor\n",
        "\n",
        "def treinar_knn(X_train, y_train, X_val, y_val):\n",
        "\n",
        "  #Número de k (vizinhos)\n",
        "  k = [2, 4, 8, 10]\n",
        "  metric = ['euclidean', 'minkowski']\n",
        "\n",
        "  hyper_param = list(itertools.product(k, metric))\n",
        "\n",
        "  best_result = np.Inf\n",
        "  for i, j in hyper_param:\n",
        "\n",
        "    knn = KNeighborsRegressor(n_neighbors=i, metric=j)\n",
        "    knn.fit(X_train, y_train)\n",
        "    predict_validation = knn.predict(X_val)\n",
        "    mse = MSE(y_val, predict_validation)\n",
        "\n",
        "    if mse < best_result:\n",
        "      best_result = mse\n",
        "      select_model = knn\n",
        "      print('Valor do k = ', i)\n",
        "\n",
        "  return select_model"
      ],
      "execution_count": 61,
      "outputs": []
    },
    {
      "cell_type": "code",
      "metadata": {
        "id": "JTsYrmRkG3dt",
        "colab_type": "code",
        "colab": {
          "base_uri": "https://localhost:8080/",
          "height": 34
        },
        "outputId": "b6c3d5e1-7c60-4fec-986c-f9e5e5221ac2"
      },
      "source": [
        "modelo = treinar_knn(X_train, y_train, X_val, y_val)"
      ],
      "execution_count": 62,
      "outputs": [
        {
          "output_type": "stream",
          "text": [
            "Valor do k =  2\n"
          ],
          "name": "stdout"
        }
      ]
    },
    {
      "cell_type": "code",
      "metadata": {
        "id": "6utJGrBaG3qs",
        "colab_type": "code",
        "colab": {}
      },
      "source": [
        "trainPredict = modelo.predict(X_train)"
      ],
      "execution_count": 63,
      "outputs": []
    },
    {
      "cell_type": "code",
      "metadata": {
        "id": "iTYTue5nG3OC",
        "colab_type": "code",
        "colab": {
          "base_uri": "https://localhost:8080/",
          "height": 270
        },
        "outputId": "37bbf91b-dce1-4f2e-f9d8-577ccb2c6472"
      },
      "source": [
        "plt.plot(trainPredict, label='Forecast')\n",
        "plt.plot(y_train, label='Target')\n",
        "plt.legend()\n",
        "plt.show()"
      ],
      "execution_count": 64,
      "outputs": [
        {
          "output_type": "display_data",
          "data": {
            "image/png": "[encoded data removed]",
            "text/plain": [
              "<Figure size 432x288 with 1 Axes>"
            ]
          },
          "metadata": {
            "tags": [],
            "needs_background": "light"
          }
        }
      ]
    },
    {
      "cell_type": "markdown",
      "metadata": {
        "id": "2nh3_Rcxz18O",
        "colab_type": "text"
      },
      "source": [
        "O gráfico acima mostra o resultado dos dados de treino do modelo KNN para previsão da série. Observamos que a previsão segue uma semelhança entre a tendência e sazonalidade da série original."
      ]
    },
    {
      "cell_type": "code",
      "metadata": {
        "id": "vLaT8optG0do",
        "colab_type": "code",
        "colab": {
          "base_uri": "https://localhost:8080/",
          "height": 34
        },
        "outputId": "e2eb8053-3430-46cf-96ce-6c8cca44c901"
      },
      "source": [
        "#Calculando MAPE (Mean Absolute Percentage Error) dos dados de treino previstos\n",
        "MAPE(y_train, trainPredict)"
      ],
      "execution_count": 65,
      "outputs": [
        {
          "output_type": "execute_result",
          "data": {
            "text/plain": [
              "14.277271928987016"
            ]
          },
          "metadata": {
            "tags": []
          },
          "execution_count": 65
        }
      ]
    },
    {
      "cell_type": "markdown",
      "metadata": {
        "id": "cljtAeFrm6Rd",
        "colab_type": "text"
      },
      "source": [
        "No modelo KNN, o resultado MAPE para a distribuição dos dados de treinamento teve um comportamento melhor que o ARIMA."
      ]
    },
    {
      "cell_type": "code",
      "metadata": {
        "id": "uZBC04v5lyja",
        "colab_type": "code",
        "colab": {
          "base_uri": "https://localhost:8080/",
          "height": 34
        },
        "outputId": "8872cdf7-28a8-4528-f77f-1908c14166a1"
      },
      "source": [
        "#Calculando MSE (Mean Squared Error) dos dados de treino previstos\n",
        "MSE(y_train, trainPredict)"
      ],
      "execution_count": 66,
      "outputs": [
        {
          "output_type": "execute_result",
          "data": {
            "text/plain": [
              "0.0019887575756092368"
            ]
          },
          "metadata": {
            "tags": []
          },
          "execution_count": 66
        }
      ]
    },
    {
      "cell_type": "markdown",
      "metadata": {
        "id": "2iGIIFZw9x19",
        "colab_type": "text"
      },
      "source": [
        "Para o modelo KNN, pela média de erro, a distribuição para os dados previstos de treinamento também estão harmonizados em relação a distribuição dos dados originais. "
      ]
    },
    {
      "cell_type": "markdown",
      "metadata": {
        "id": "VXCvRHxrM8ci",
        "colab_type": "text"
      },
      "source": [
        "**Teste - KNN**"
      ]
    },
    {
      "cell_type": "code",
      "metadata": {
        "id": "r1U9YrHzLePC",
        "colab_type": "code",
        "colab": {}
      },
      "source": [
        "testPredict = modelo.predict(X_test)"
      ],
      "execution_count": 67,
      "outputs": []
    },
    {
      "cell_type": "code",
      "metadata": {
        "id": "McZNYPB3LfbR",
        "colab_type": "code",
        "colab": {
          "base_uri": "https://localhost:8080/",
          "height": 104
        },
        "outputId": "41482936-bd92-410a-f439-07eefd20000a"
      },
      "source": [
        "testPredict"
      ],
      "execution_count": 68,
      "outputs": [
        {
          "output_type": "execute_result",
          "data": {
            "text/plain": [
              "array([0.48118483, 0.59170823, 0.66233439, 0.65513072, 0.53637096,\n",
              "       0.53637096, 0.48118483, 0.59170823, 0.54531258, 0.55354894,\n",
              "       0.59994459, 0.59170823, 0.59170823, 0.59170823, 0.65409803,\n",
              "       0.66233439, 0.65513072, 0.53637096, 0.48118483, 0.64689436,\n",
              "       0.53637096, 0.53637096, 0.55354894])"
            ]
          },
          "metadata": {
            "tags": []
          },
          "execution_count": 68
        }
      ]
    },
    {
      "cell_type": "code",
      "metadata": {
        "id": "uGWyPkqWLfOP",
        "colab_type": "code",
        "colab": {
          "base_uri": "https://localhost:8080/",
          "height": 268
        },
        "outputId": "ae2277e6-59b2-4493-a95f-f9262bf72086"
      },
      "source": [
        "plt.plot(testPredict, label='Predict')\n",
        "plt.plot(y_test, label='Target')\n",
        "plt.legend()\n",
        "plt.show()"
      ],
      "execution_count": 69,
      "outputs": [
        {
          "output_type": "display_data",
          "data": {
            "image/png": "[encoded data removed]",
            "text/plain": [
              "<Figure size 432x288 with 1 Axes>"
            ]
          },
          "metadata": {
            "tags": [],
            "needs_background": "light"
          }
        }
      ]
    },
    {
      "cell_type": "markdown",
      "metadata": {
        "id": "CzHMKEqg0QSw",
        "colab_type": "text"
      },
      "source": [
        "Os dados de teste para o modelo KNN não foi capaz de prever com competência a sazonalidade da série original."
      ]
    },
    {
      "cell_type": "code",
      "metadata": {
        "id": "r02yoFnrGKoS",
        "colab_type": "code",
        "colab": {
          "base_uri": "https://localhost:8080/",
          "height": 34
        },
        "outputId": "497e6388-9962-4c22-e062-770814495583"
      },
      "source": [
        "#Calculando MAPE (Mean Absolute Percentage Error) dos dados de teste previstos\n",
        "MAPE(y_test, testPredict)"
      ],
      "execution_count": 70,
      "outputs": [
        {
          "output_type": "execute_result",
          "data": {
            "text/plain": [
              "25.2226711546012"
            ]
          },
          "metadata": {
            "tags": []
          },
          "execution_count": 70
        }
      ]
    },
    {
      "cell_type": "markdown",
      "metadata": {
        "id": "ZkjxCyAYqTWE",
        "colab_type": "text"
      },
      "source": [
        "O erro percentual médio absoluto da distribuição dos dados de teste previstos para modelo KNN obteve um resultado ruim. Pior, inclusive, que a distribuição dos dados de treinamento. \n",
        "Tanto é que podemos observar no gráfico acima que a previsão obtida pelos dados de teste teve um comportamento completamente diferente do esperado."
      ]
    },
    {
      "cell_type": "code",
      "metadata": {
        "id": "MPSvD6Ool9g4",
        "colab_type": "code",
        "colab": {
          "base_uri": "https://localhost:8080/",
          "height": 34
        },
        "outputId": "dbfc5bda-9671-4333-aa30-05e0e4088e7e"
      },
      "source": [
        "#Calculando MSE (Mean Squared Error) dos dados de teste previstos\n",
        "MSE(y_test, testPredict)"
      ],
      "execution_count": 71,
      "outputs": [
        {
          "output_type": "execute_result",
          "data": {
            "text/plain": [
              "0.06454860282323803"
            ]
          },
          "metadata": {
            "tags": []
          },
          "execution_count": 71
        }
      ]
    },
    {
      "cell_type": "markdown",
      "metadata": {
        "id": "19e2P9U4f4O_",
        "colab_type": "text"
      },
      "source": [
        "Seguindo o padrão esperado de comportamento do MSE, para o KNN, o resultado da média de erro para a distribuição dos dados de teste é maior que a distribuição dos dados de treino porque os dados previstos para teste é menor que os previstos para treino, mas não quer dizer que a diferença seja relevante."
      ]
    },
    {
      "cell_type": "markdown",
      "metadata": {
        "id": "pQZCX7mKLPCN",
        "colab_type": "text"
      },
      "source": [
        "**MODELO - MLP (Multilayer Perceptron):**"
      ]
    },
    {
      "cell_type": "code",
      "metadata": {
        "id": "RdAyrw81YTbw",
        "colab_type": "code",
        "colab": {}
      },
      "source": [
        "from sklearn.neural_network import MLPRegressor"
      ],
      "execution_count": 72,
      "outputs": []
    },
    {
      "cell_type": "code",
      "metadata": {
        "id": "arayDbQTbQwT",
        "colab_type": "code",
        "colab": {}
      },
      "source": [
        "#MLP\n",
        "\n",
        "def treinar_mlp(X_train, y_train, X_val, y_val, num_exec):\n",
        "  \n",
        "  \n",
        "  neuronios = [5, 10, 20] \n",
        "  func_activation = ['tanh', 'relu', 'logistic'] \n",
        "  alg_treinamento = ['lbfgs'] \n",
        "  max_iteracoes = [10000]\n",
        "  learning_rate = ['adaptive'] \n",
        "\n",
        "  best_result = np.Inf\n",
        "  for i in range(0, len(neuronios)):\n",
        "    for j in range(0, len(func_activation)):\n",
        "      for l in range(0, len(alg_treinamento)):\n",
        "        for m in range(0, len(max_iteracoes)):\n",
        "          for n in range(0, len(learning_rate)):\n",
        "\n",
        "            for e in range(0, num_exec):\n",
        "              mlp = MLPRegressor(hidden_layer_sizes= neuronios[i], activation= func_activation[j], solver= alg_treinamento[l], max_iter= max_iteracoes[m], learning_rate= learning_rate[n])\n",
        "              mlp.fit(X_train, y_train)\n",
        "              predict_validation = mlp.predict(X_val)\n",
        "              mse = MSE(y_val, predict_validation)\n",
        "\n",
        "              if mse < best_result:\n",
        "                best_result = mse\n",
        "                select_model = mlp \n",
        "                print('func: ', func_activation[j])\n",
        "\n",
        "  return select_model"
      ],
      "execution_count": 73,
      "outputs": []
    },
    {
      "cell_type": "code",
      "metadata": {
        "id": "49gq9IzqRlzg",
        "colab_type": "code",
        "colab": {
          "base_uri": "https://localhost:8080/",
          "height": 173
        },
        "outputId": "09b61f46-56e3-42a2-8576-88fffbecbc6d"
      },
      "source": [
        "modelo = treinar_mlp(X_train, y_train, X_val, y_val, 30) #30 execuções para cada iteração"
      ],
      "execution_count": 74,
      "outputs": [
        {
          "output_type": "stream",
          "text": [
            "func:  tanh\n",
            "func:  tanh\n",
            "func:  tanh\n",
            "func:  tanh\n",
            "func:  logistic\n",
            "func:  tanh\n",
            "func:  tanh\n",
            "func:  relu\n",
            "func:  relu\n"
          ],
          "name": "stdout"
        }
      ]
    },
    {
      "cell_type": "code",
      "metadata": {
        "id": "Seln0VYuWOwV",
        "colab_type": "code",
        "colab": {}
      },
      "source": [
        "trainPredict = modelo.predict(X_train)"
      ],
      "execution_count": 75,
      "outputs": []
    },
    {
      "cell_type": "code",
      "metadata": {
        "id": "95VqBzy9b8Qt",
        "colab_type": "code",
        "colab": {
          "base_uri": "https://localhost:8080/",
          "height": 268
        },
        "outputId": "baa1916c-807b-4fae-f4ea-7e4e58c04b01"
      },
      "source": [
        "plt.plot(trainPredict, label='Forecast')\n",
        "plt.plot(y_train, label='Target')\n",
        "plt.legend()\n",
        "plt.show()"
      ],
      "execution_count": 76,
      "outputs": [
        {
          "output_type": "display_data",
          "data": {
            "image/png": "[encoded data removed]",
            "text/plain": [
              "<Figure size 432x288 with 1 Axes>"
            ]
          },
          "metadata": {
            "tags": [],
            "needs_background": "light"
          }
        }
      ]
    },
    {
      "cell_type": "markdown",
      "metadata": {
        "id": "EvsQj6Fe2grF",
        "colab_type": "text"
      },
      "source": [
        "O gráfico acima mostra o resultado dos dados de treino do modelo MLP para previsão da série. Observamos que a previsão segue uma semelhança entre a tendência e sazonalidade da série original."
      ]
    },
    {
      "cell_type": "code",
      "metadata": {
        "id": "CSgw5VZetnA5",
        "colab_type": "code",
        "colab": {}
      },
      "source": [
        "def MAPE(y_true, y_pred): \n",
        "    return np.mean(np.abs((y_true - y_pred) / y_true)) * 100"
      ],
      "execution_count": 77,
      "outputs": []
    },
    {
      "cell_type": "code",
      "metadata": {
        "id": "s8F6Ow_RfOwd",
        "colab_type": "code",
        "colab": {
          "base_uri": "https://localhost:8080/",
          "height": 34
        },
        "outputId": "d47fc960-be4c-4b72-f1b6-e808599f8150"
      },
      "source": [
        "#Calculando MSE (Mean Squared Error) dos dados de treino previstos\n",
        "MSE(y_train, trainPredict)"
      ],
      "execution_count": 78,
      "outputs": [
        {
          "output_type": "execute_result",
          "data": {
            "text/plain": [
              "0.0011236182178317982"
            ]
          },
          "metadata": {
            "tags": []
          },
          "execution_count": 78
        }
      ]
    },
    {
      "cell_type": "code",
      "metadata": {
        "id": "VgR9-eUPcC5c",
        "colab_type": "code",
        "colab": {
          "base_uri": "https://localhost:8080/",
          "height": 34
        },
        "outputId": "2c430176-13ca-4068-f9ef-722e052f1565"
      },
      "source": [
        "#Calculando MAPE (Mean Absolute Percentage Error) dos dados de treino previstos\n",
        "MAPE(y_train, trainPredict)"
      ],
      "execution_count": 79,
      "outputs": [
        {
          "output_type": "execute_result",
          "data": {
            "text/plain": [
              "10.48916558797146"
            ]
          },
          "metadata": {
            "tags": []
          },
          "execution_count": 79
        }
      ]
    },
    {
      "cell_type": "code",
      "metadata": {
        "id": "Z-GaKHuLfVcX",
        "colab_type": "code",
        "colab": {}
      },
      "source": [
        "#Padronizando a distribuição dos dados de treino previstos\n",
        "predictRealInterval = scaler.inverse_transform(trainPredict.reshape(1,-1))"
      ],
      "execution_count": 80,
      "outputs": []
    },
    {
      "cell_type": "code",
      "metadata": {
        "id": "NCwQrKO8fVOw",
        "colab_type": "code",
        "colab": {}
      },
      "source": [
        "#Padronizando a distribuição dos dados de treino\n",
        "targetRealInterval = scaler.inverse_transform(y_train.reshape(1,-1))"
      ],
      "execution_count": 81,
      "outputs": []
    },
    {
      "cell_type": "code",
      "metadata": {
        "id": "yY1USWf1h1Gs",
        "colab_type": "code",
        "colab": {
          "base_uri": "https://localhost:8080/",
          "height": 34
        },
        "outputId": "231034d1-f702-4383-94ad-b560dff57fe4"
      },
      "source": [
        "#Calculando MSE para os dados de treino padronizados\n",
        "MSE(targetRealInterval, predictRealInterval)"
      ],
      "execution_count": 82,
      "outputs": [
        {
          "output_type": "execute_result",
          "data": {
            "text/plain": [
              "0.4427754680024961"
            ]
          },
          "metadata": {
            "tags": []
          },
          "execution_count": 82
        }
      ]
    },
    {
      "cell_type": "code",
      "metadata": {
        "id": "2EoN3DLLh05U",
        "colab_type": "code",
        "colab": {
          "base_uri": "https://localhost:8080/",
          "height": 34
        },
        "outputId": "ead6db9d-21c2-4bb8-abbb-eaa7a926eb27"
      },
      "source": [
        "#Calculando MAPE para os dados treino padronizados\n",
        "MAPE(targetRealInterval, predictRealInterval)"
      ],
      "execution_count": 83,
      "outputs": [
        {
          "output_type": "execute_result",
          "data": {
            "text/plain": [
              "5.394326815770238"
            ]
          },
          "metadata": {
            "tags": []
          },
          "execution_count": 83
        }
      ]
    },
    {
      "cell_type": "markdown",
      "metadata": {
        "id": "xbAb0NSSIOQB",
        "colab_type": "text"
      },
      "source": [
        "Para o modelo MLP, pela média de erro, a distribuição para os dados previstos de treinamento estão harmonizados em relação a distribuição dos dados originais.\n",
        "\n",
        "Já os resultados para o MAPE, o resultado para a distribuição dos dados de treino previstos foi bem satisfatório após padronizá-los usando a função scaler."
      ]
    },
    {
      "cell_type": "markdown",
      "metadata": {
        "id": "mZPmbgjXcnyQ",
        "colab_type": "text"
      },
      "source": [
        "**Teste - MLP**"
      ]
    },
    {
      "cell_type": "code",
      "metadata": {
        "id": "g2aTrclFcpvX",
        "colab_type": "code",
        "colab": {}
      },
      "source": [
        "#Calculando previsão dos dados de teste\n",
        "testPredict = modelo.predict(X_test)"
      ],
      "execution_count": 84,
      "outputs": []
    },
    {
      "cell_type": "code",
      "metadata": {
        "id": "YnL0xoURcqiw",
        "colab_type": "code",
        "colab": {
          "base_uri": "https://localhost:8080/",
          "height": 104
        },
        "outputId": "d7ec8e07-2e2c-4683-d535-31036aa79977"
      },
      "source": [
        "testPredict"
      ],
      "execution_count": 85,
      "outputs": [
        {
          "output_type": "execute_result",
          "data": {
            "text/plain": [
              "array([0.46246253, 0.82605801, 0.8930282 , 0.81805946, 0.77409902,\n",
              "       0.67460991, 0.7539523 , 0.97233513, 0.88244058, 0.91560747,\n",
              "       0.52064934, 0.50279764, 0.81307994, 0.73840128, 0.58518862,\n",
              "       0.81312947, 0.75890787, 0.47934591, 0.67177788, 0.87557853,\n",
              "       0.9782578 , 0.82651125, 0.66640834])"
            ]
          },
          "metadata": {
            "tags": []
          },
          "execution_count": 85
        }
      ]
    },
    {
      "cell_type": "code",
      "metadata": {
        "id": "4NI5iEywcqU_",
        "colab_type": "code",
        "colab": {
          "base_uri": "https://localhost:8080/",
          "height": 268
        },
        "outputId": "7571175c-857b-441c-e847-18cb1b839d7c"
      },
      "source": [
        "plt.plot(testPredict, label='Forecast')\n",
        "plt.plot(y_test, label='Target')\n",
        "plt.legend()\n",
        "plt.show()"
      ],
      "execution_count": 86,
      "outputs": [
        {
          "output_type": "display_data",
          "data": {
            "image/png": "[encoded data removed]",
            "text/plain": [
              "<Figure size 432x288 with 1 Axes>"
            ]
          },
          "metadata": {
            "tags": [],
            "needs_background": "light"
          }
        }
      ]
    },
    {
      "cell_type": "markdown",
      "metadata": {
        "id": "fc0zc7B-2n55",
        "colab_type": "text"
      },
      "source": [
        "A previsão dos dados de teste do modelo MLP teve um comportamento interessante, embora com diferenças de picos sazonais em alguns lags."
      ]
    },
    {
      "cell_type": "code",
      "metadata": {
        "id": "Motia_A-cphw",
        "colab_type": "code",
        "colab": {
          "base_uri": "https://localhost:8080/",
          "height": 34
        },
        "outputId": "2c938830-5daf-4a18-f6e6-4138a9bfa6fd"
      },
      "source": [
        "#Calculando MAPE (Mean Absolute Percentage Error) dos dados de teste previstos\n",
        "MAPE(y_test, testPredict)"
      ],
      "execution_count": 87,
      "outputs": [
        {
          "output_type": "execute_result",
          "data": {
            "text/plain": [
              "15.685409589598006"
            ]
          },
          "metadata": {
            "tags": []
          },
          "execution_count": 87
        }
      ]
    },
    {
      "cell_type": "markdown",
      "metadata": {
        "id": "K9Fan2K5zinQ",
        "colab_type": "text"
      },
      "source": [
        "A média percentual de erro absoluto para a distribuição dos dados de treinos de teste obteve um resultado próximo a distribuição dos dados de treino, apesar de ter sido um pouco acima."
      ]
    },
    {
      "cell_type": "code",
      "metadata": {
        "id": "R-KbYKaeiZC7",
        "colab_type": "code",
        "colab": {
          "base_uri": "https://localhost:8080/",
          "height": 34
        },
        "outputId": "4ac2a11e-0ed8-415f-da7c-3323741ba5b6"
      },
      "source": [
        "#Calculando MSE (Mean Squared Error) dos dados de teste previstos\n",
        "MSE(y_test, testPredict)"
      ],
      "execution_count": 88,
      "outputs": [
        {
          "output_type": "execute_result",
          "data": {
            "text/plain": [
              "0.019552550705196958"
            ]
          },
          "metadata": {
            "tags": []
          },
          "execution_count": 88
        }
      ]
    },
    {
      "cell_type": "code",
      "metadata": {
        "id": "Gx0GcxV8iptv",
        "colab_type": "code",
        "colab": {}
      },
      "source": [
        "#Padronizando a distribuição dos dados de teste previstos\n",
        "predictRealInterval = scaler.inverse_transform(testPredict.reshape(1,-1))"
      ],
      "execution_count": 89,
      "outputs": []
    },
    {
      "cell_type": "code",
      "metadata": {
        "id": "y-wDUhxDirLY",
        "colab_type": "code",
        "colab": {}
      },
      "source": [
        "#Padronizando a distribuição dos dados de teste\n",
        "targetRealInterval = scaler.inverse_transform(y_test.reshape(1,-1))"
      ],
      "execution_count": 90,
      "outputs": []
    },
    {
      "cell_type": "code",
      "metadata": {
        "id": "W9CFlbHbiqxQ",
        "colab_type": "code",
        "colab": {
          "base_uri": "https://localhost:8080/",
          "height": 268
        },
        "outputId": "2c15923b-f932-408f-f52d-5b425c3fd3e9"
      },
      "source": [
        "plt.plot(predictRealInterval[0], label= 'Forecast')\n",
        "plt.plot(targetRealInterval[0], label= 'Target')\n",
        "plt.legend()\n",
        "plt.show()"
      ],
      "execution_count": 91,
      "outputs": [
        {
          "output_type": "display_data",
          "data": {
            "image/png": "[encoded data removed]",
            "text/plain": [
              "<Figure size 432x288 with 1 Axes>"
            ]
          },
          "metadata": {
            "tags": [],
            "needs_background": "light"
          }
        }
      ]
    },
    {
      "cell_type": "markdown",
      "metadata": {
        "id": "T9t4e86O3r7Z",
        "colab_type": "text"
      },
      "source": [
        "Após a previsão dos dados de testes do modelo MLP, podemos observar que em comparação a previsão dos dados de treino, o resultado da previsão dos dados de treino quase não mudou. "
      ]
    },
    {
      "cell_type": "code",
      "metadata": {
        "id": "olzaNUEGjx9J",
        "colab_type": "code",
        "colab": {
          "base_uri": "https://localhost:8080/",
          "height": 34
        },
        "outputId": "2e579fde-752c-4f56-c2ac-296c2d4f4556"
      },
      "source": [
        "#Calculando MSE para os dados de teste padronizados\n",
        "MSE(targetRealInterval[0], predictRealInterval[0])"
      ],
      "execution_count": 92,
      "outputs": [
        {
          "output_type": "execute_result",
          "data": {
            "text/plain": [
              "7.704921166054015"
            ]
          },
          "metadata": {
            "tags": []
          },
          "execution_count": 92
        }
      ]
    },
    {
      "cell_type": "code",
      "metadata": {
        "id": "ZtJRq1RTjxuQ",
        "colab_type": "code",
        "colab": {
          "base_uri": "https://localhost:8080/",
          "height": 34
        },
        "outputId": "5fe1d891-e256-4290-f5bc-212460b24c0d"
      },
      "source": [
        "#Calculando MAPE para os dados de teste padronizados\n",
        "MAPE(targetRealInterval[0], predictRealInterval[0])"
      ],
      "execution_count": 93,
      "outputs": [
        {
          "output_type": "execute_result",
          "data": {
            "text/plain": [
              "12.484445719376389"
            ]
          },
          "metadata": {
            "tags": []
          },
          "execution_count": 93
        }
      ]
    },
    {
      "cell_type": "markdown",
      "metadata": {
        "id": "Icf_DgiojxV7",
        "colab_type": "text"
      },
      "source": [
        "Para o MLP, o resultado da média de erro para a distribuição dos dados de teste padronizados teve um o comportamento pior para MSE.\n",
        "\n",
        "Em contrapartida, o percentual médio do erro absoluto dos dados padronizados teve um resultado melhor."
      ]
    },
    {
      "cell_type": "markdown",
      "metadata": {
        "id": "ttbke0Vo50xh",
        "colab_type": "text"
      },
      "source": [
        "###Conclusão"
      ]
    },
    {
      "cell_type": "markdown",
      "metadata": {
        "id": "Habz90VW57Ol",
        "colab_type": "text"
      },
      "source": [
        "O intuito da análise para esta série temporal, foi aplicar modelos onde usando técnicas de Machine Learning onde fosse capaz de realizar previsões baseadas em dados de treinamento e teste, onde aplicando algumas métricas se conseguisse através de uma abordagem comparativa mensurar o comportamento de cada modelo para prever dados futuros da série baseada em seus dados passados.\n",
        "\n",
        "Foram usados os modelos ARIMA, KNN e MLP nesta análise.\n",
        "\n",
        "Pudemos observar o comportamento de cada modelo, tanto para a distribuição dos dados de treino quanto para a distribuição dos dados de teste.\n",
        "O ARIMA e o KNN não foram capazes, atráves dos parametros utilizados, de prever bons dados futuros para a série. Os gráficos mostraram que os resultados não foram nada satisfatórios.\n",
        "\n",
        "No modelo MLP, o comportamento foi bem melhor em relação aos outros dois modelos usados. Esse modelo conseguiu de maneira geral prever melhor os dados, mesmo com alguns picos em diferentes em alguns lags.\n",
        "\n",
        "Em comparação aos modelos usados para esta análise, sem dúvida o modelo MLP foi que teve os melhores resultados. Na verdade, foi o único com resultados satisfatórios para esta série. \n"
      ]
    }
  ]
}
