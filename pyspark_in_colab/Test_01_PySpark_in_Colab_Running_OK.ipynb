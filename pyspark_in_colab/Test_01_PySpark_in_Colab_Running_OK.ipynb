{
  "nbformat": 4,
  "nbformat_minor": 0,
  "metadata": {
    "colab": {
      "name": "Test-01-PySpark on Colab - Running OK.ipynb",
      "provenance": [],
      "collapsed_sections": []
    },
    "kernelspec": {
      "name": "python3",
      "display_name": "Python 3"
    }
  },
  "cells": [
    {
      "cell_type": "code",
      "metadata": {
        "id": "KHbdO0Wjcn3_"
      },
      "source": [
        "# 1. Install all the dependencies in Colab environment i.e. Apache Spark 2.4.4 with hadoop 2.7, Java 8 and Findspark to locate the spark in the system\n",
        "!apt-get install openjdk-8-jdk-headless -qq > /dev/null\n",
        "!wget -q https://downloads.apache.org/spark/spark-3.0.1/spark-3.0.1-bin-hadoop2.7.tgz\n",
        "!tar xf spark-3.0.1-bin-hadoop2.7.tgz \n",
        "!pip install -q findspark"
      ],
      "execution_count": 1,
      "outputs": []
    },
    {
      "cell_type": "code",
      "metadata": {
        "id": "K2NH4VcupEpK",
        "outputId": "d421059d-bfd3-4904-b8b9-45efe1d56a17",
        "colab": {
          "base_uri": "https://localhost:8080/",
          "height": 51
        }
      },
      "source": [
        "!ls /usr/lib/jvm/"
      ],
      "execution_count": 2,
      "outputs": [
        {
          "output_type": "stream",
          "text": [
            "default-java\t\t   java-11-openjdk-amd64     java-8-openjdk-amd64\n",
            "java-1.11.0-openjdk-amd64  java-1.8.0-openjdk-amd64\n"
          ],
          "name": "stdout"
        }
      ]
    },
    {
      "cell_type": "code",
      "metadata": {
        "id": "Fajm-sIPpP0k",
        "outputId": "9ccf92d8-be52-4538-f1f7-e07c6c8a9e24",
        "colab": {
          "base_uri": "https://localhost:8080/",
          "height": 51
        }
      },
      "source": [
        "!pip install -U pyarrow"
      ],
      "execution_count": 3,
      "outputs": [
        {
          "output_type": "stream",
          "text": [
            "Requirement already up-to-date: pyarrow in /usr/local/lib/python3.6/dist-packages (1.0.1)\n",
            "Requirement already satisfied, skipping upgrade: numpy>=1.14 in /usr/local/lib/python3.6/dist-packages (from pyarrow) (1.18.5)\n"
          ],
          "name": "stdout"
        }
      ]
    },
    {
      "cell_type": "code",
      "metadata": {
        "id": "HR6t3JjKiD6C"
      },
      "source": [
        "# 2. Setup Environment Variables\n",
        "import os\n",
        "os.environ[\"JAVA_HOME\"] = \"/usr/lib/jvm/java-8-openjdk-amd64\"\n",
        "os.environ[\"SPARK_HOME\"] = \"/content/spark-3.0.1-bin-hadoop2.7\""
      ],
      "execution_count": 4,
      "outputs": []
    },
    {
      "cell_type": "code",
      "metadata": {
        "id": "8CPVWhBjl1R7"
      },
      "source": [
        "# 3. Start Spark Session\n",
        "import findspark\n",
        "findspark.init()\n",
        "from pyspark.sql import SparkSession\n",
        "sc = SparkSession.builder.master(\"local[*]\").getOrCreate()"
      ],
      "execution_count": 5,
      "outputs": []
    },
    {
      "cell_type": "code",
      "metadata": {
        "id": "sDv09jV6DxL7",
        "outputId": "eebe5c2a-2691-453b-95aa-41cb32490179",
        "colab": {
          "base_uri": "https://localhost:8080/",
          "height": 153
        }
      },
      "source": [
        "# download do http para arquivo local\n",
        "!wget --quiet --show-progress https://raw.githubusercontent.com/niltontac/EspAnalise-EngDados/master/data/ad_action.csv\n",
        " \n",
        "# carregar dados\n",
        "df_spark = sc.read.csv(\"./ad_action.csv\", inferSchema=True, header=False)\n",
        " \n",
        "# ver algumas informações sobre os tipos de dados de cada coluna\n",
        "df_spark.printSchema()"
      ],
      "execution_count": 9,
      "outputs": [
        {
          "output_type": "stream",
          "text": [
            "ad_action.csv.6     100%[===================>]  20.57M  64.0MB/s    in 0.3s    \n",
            "root\n",
            " |-- _c0: string (nullable = true)\n",
            " |-- _c1: string (nullable = true)\n",
            " |-- _c2: string (nullable = true)\n",
            " |-- _c3: string (nullable = true)\n",
            " |-- _c4: string (nullable = true)\n",
            "\n"
          ],
          "name": "stdout"
        }
      ]
    },
    {
      "cell_type": "code",
      "metadata": {
        "id": "qee-df74EUb0",
        "outputId": "6b456aa5-67c6-4149-a615-561e070c367a",
        "colab": {
          "base_uri": "https://localhost:8080/",
          "height": 136
        }
      },
      "source": [
        "from pyspark.sql.functions import to_timestamp\n",
        "\n",
        "df_spark = df_spark.withColumnRenamed('_c0', 'timestamp')\n",
        "df_spark = df_spark.withColumnRenamed('_c1', 'user_id')\n",
        "df_spark = df_spark.withColumnRenamed('_c2', 'action')\n",
        "df_spark = df_spark.withColumnRenamed('_c3', 'adId')\n",
        "df_spark = df_spark.withColumnRenamed('_c4', 'campaignId')\n",
        "df_spark = df_spark.withColumn('timestamp', to_timestamp('timestamp'))\n",
        "df_spark.printSchema()"
      ],
      "execution_count": 10,
      "outputs": [
        {
          "output_type": "stream",
          "text": [
            "root\n",
            " |-- timestamp: timestamp (nullable = true)\n",
            " |-- user_id: string (nullable = true)\n",
            " |-- action: string (nullable = true)\n",
            " |-- adId: string (nullable = true)\n",
            " |-- campaignId: string (nullable = true)\n",
            "\n"
          ],
          "name": "stdout"
        }
      ]
    },
    {
      "cell_type": "code",
      "metadata": {
        "id": "FXTJCd_RIES_",
        "outputId": "bd853412-d319-4539-a192-8cda2e7918d4",
        "colab": {
          "base_uri": "https://localhost:8080/",
          "height": 204
        }
      },
      "source": [
        "df_spark.show(5)"
      ],
      "execution_count": 11,
      "outputs": [
        {
          "output_type": "stream",
          "text": [
            "+-------------------+--------------------+------+-------+-------------+\n",
            "|          timestamp|             user_id|action|   adId|   campaignId|\n",
            "+-------------------+--------------------+------+-------+-------------+\n",
            "|2016-09-21 22:11:00|7c74953c-66cc-48b...| click|adId_09|campaignId_01|\n",
            "|2016-06-25 18:29:00|676a083e-2f8e-4ff...|  view|adId_09|campaignId_02|\n",
            "|2016-02-14 19:03:00|77158997-0dfa-48b...| click|adId_02|campaignId_02|\n",
            "|2016-03-26 06:27:00|78aa2467-b502-413...| click|adId_07|campaignId_03|\n",
            "|2016-01-02 04:57:00|fef9a98c-d73e-48e...|  view|adId_02|campaignId_02|\n",
            "+-------------------+--------------------+------+-------+-------------+\n",
            "only showing top 5 rows\n",
            "\n"
          ],
          "name": "stdout"
        }
      ]
    }
  ]
}